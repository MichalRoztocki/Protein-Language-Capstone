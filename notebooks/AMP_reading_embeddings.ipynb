{
 "cells": [
  {
   "cell_type": "markdown",
   "id": "6f04af41-9b03-4c69-82ea-e973416ec287",
   "metadata": {
    "tags": []
   },
   "source": [
    "# AMP - Reading Embeddings"
   ]
  },
  {
   "cell_type": "markdown",
   "id": "cb7f63f0-1460-484b-a6d0-f098fddc1875",
   "metadata": {},
   "source": [
    "In this notebook we are going to use previously created `.pt` files to extract embeddings together with corresponding sequence ids and our target variables (label).\n",
    "For every combination of pretrained models, pooling operations, and task datasets this will be the workflow:\n",
    "\n",
    "1. set the arguments\n",
    "2. run `file_paths` function\n",
    "   - it will set all needed paths according to the arguments\n",
    "3. run `read_embeddings` function\n",
    "   - reads fasta headers from a fasta file\n",
    "   - extracts sequence_id and our target variable ys from the header\n",
    "   - names of `.pt` files are `header[1:]`and the scripts loads the corresponding file\n",
    "   - extracts the embedding vector to an array Xs\n",
    "   - Xs, ys, sequence_id can be now used in machine learning applications\n",
    "4. run `check_with_df` function to do a sanity check on the embeddings\n",
    "   - it uses sequence_id, Xs, ys to create a Pandas DataFrame\n",
    "   - displays first 2 and last 2 rows\n",
    "\n",
    "First we read `prose` embeddings and then `esm` embeddings."
   ]
  },
  {
   "cell_type": "markdown",
   "id": "dbd618c7-db57-4379-8d62-be82c89dfa54",
   "metadata": {},
   "source": [
    "Import file utilities"
   ]
  },
  {
   "cell_type": "code",
   "execution_count": 1,
   "id": "13a575af-7a43-4ce5-816a-34a35bae92ed",
   "metadata": {
    "execution": {
     "iopub.execute_input": "2022-09-08T23:26:00.769301Z",
     "iopub.status.busy": "2022-09-08T23:26:00.768973Z",
     "iopub.status.idle": "2022-09-08T23:26:01.837563Z",
     "shell.execute_reply": "2022-09-08T23:26:01.836704Z",
     "shell.execute_reply.started": "2022-09-08T23:26:00.769242Z"
    },
    "tags": []
   },
   "outputs": [],
   "source": [
    "# Import the script from different folder\n",
    "import sys  \n",
    "sys.path.append('../scripts')\n",
    "\n",
    "import file_utilities as fu"
   ]
  },
  {
   "cell_type": "markdown",
   "id": "4ad8b2b2-f4a6-4367-87a7-523b3d221f9e",
   "metadata": {},
   "source": [
    "## ProSE embeddings\n"
   ]
  },
  {
   "cell_type": "markdown",
   "id": "89e1e000-3426-4e7a-82af-e97c6bc6923e",
   "metadata": {},
   "source": [
    "Initialize arguments"
   ]
  },
  {
   "cell_type": "code",
   "execution_count": 7,
   "id": "2ec98a5b-0fbc-4416-abc7-39047c6b2633",
   "metadata": {
    "execution": {
     "iopub.execute_input": "2022-09-08T23:50:39.706884Z",
     "iopub.status.busy": "2022-09-08T23:50:39.706554Z",
     "iopub.status.idle": "2022-09-08T23:50:39.711668Z",
     "shell.execute_reply": "2022-09-08T23:50:39.710870Z",
     "shell.execute_reply.started": "2022-09-08T23:50:39.706859Z"
    },
    "tags": []
   },
   "outputs": [],
   "source": [
    "# Define arguments for the file_paths function\n",
    "task = 'amp'\n",
    "ptmodel = 'prose'\n",
    "file_base = 'all_data'\n",
    "model = 'prose_dlm'\n",
    "emb_layer = 'layer'\n",
    "pool = 'avg'  \n"
   ]
  },
  {
   "cell_type": "markdown",
   "id": "645e71fc-f9a0-4748-b996-8b17fd6d9fda",
   "metadata": {},
   "source": [
    "<br>\n",
    "\n",
    "## all_data Dataset"
   ]
  },
  {
   "cell_type": "markdown",
   "id": "1c0c2b8b-9ac9-466e-97ce-4b7ad6f9baff",
   "metadata": {},
   "source": [
    "### ProSE DLM model - prose_dlm"
   ]
  },
  {
   "cell_type": "markdown",
   "id": "ec50f37b-4684-4c69-9ee1-1e1d8c1c2b0a",
   "metadata": {
    "tags": []
   },
   "source": [
    "- **Pooling Operation:  `avg`**"
   ]
  },
  {
   "cell_type": "markdown",
   "id": "25b76c68-d319-40a7-8a55-e81c0a630446",
   "metadata": {},
   "source": [
    "Run the script `file_paths` to prepare paths. The default root data folder is *../data*."
   ]
  },
  {
   "cell_type": "code",
   "execution_count": 8,
   "id": "74bff221-c802-4b04-ac89-3895e38091bf",
   "metadata": {
    "execution": {
     "iopub.execute_input": "2022-09-08T23:50:50.341962Z",
     "iopub.status.busy": "2022-09-08T23:50:50.341674Z",
     "iopub.status.idle": "2022-09-08T23:50:50.349256Z",
     "shell.execute_reply": "2022-09-08T23:50:50.348261Z",
     "shell.execute_reply.started": "2022-09-08T23:50:50.341940Z"
    },
    "tags": []
   },
   "outputs": [
    {
     "name": "stdout",
     "output_type": "stream",
     "text": [
      " ../data/amp/all_data.fa \n",
      " ../data/amp/prose/all_data/amp_all_dlm_avg\n"
     ]
    }
   ],
   "source": [
    "# Prepare paths\n",
    "path_pt, _, path_fa = fu.file_paths(ptmodel, task, file_base, model, pool)\n",
    "print('', path_fa, '\\n', path_pt)"
   ]
  },
  {
   "cell_type": "markdown",
   "id": "dc6eca7c-cdd2-4d31-9af8-8a2a8e25f9e4",
   "metadata": {},
   "source": [
    "Extract embeddings with `read_embeddings` function."
   ]
  },
  {
   "cell_type": "code",
   "execution_count": 9,
   "id": "cf7cdb89-f4c2-4da1-a2f8-3690bb8313a3",
   "metadata": {
    "execution": {
     "iopub.execute_input": "2022-09-08T23:51:06.089967Z",
     "iopub.status.busy": "2022-09-08T23:51:06.089650Z",
     "iopub.status.idle": "2022-09-08T23:51:47.733357Z",
     "shell.execute_reply": "2022-09-08T23:51:47.732284Z",
     "shell.execute_reply.started": "2022-09-08T23:51:06.089943Z"
    },
    "tags": []
   },
   "outputs": [
    {
     "name": "stdout",
     "output_type": "stream",
     "text": [
      "Shape of embeddings: \t\t(4042, 6165)\n",
      "Length of target label list:\t4042\n",
      "Length of sequential ids list:\t4042\n"
     ]
    }
   ],
   "source": [
    "Xs, ys, sequence_id = fu.read_embeddings(path_fa, path_pt, pool, emb_layer)"
   ]
  },
  {
   "cell_type": "markdown",
   "id": "f27f6d39-5b64-49fd-aac3-0d9ef0a0d09b",
   "metadata": {},
   "source": [
    "Check our data with `check_with_df` function."
   ]
  },
  {
   "cell_type": "code",
   "execution_count": 10,
   "id": "fa91b503-f770-42e0-85ea-80043b13a488",
   "metadata": {
    "execution": {
     "iopub.execute_input": "2022-09-08T23:52:07.235226Z",
     "iopub.status.busy": "2022-09-08T23:52:07.234936Z",
     "iopub.status.idle": "2022-09-08T23:52:07.574456Z",
     "shell.execute_reply": "2022-09-08T23:52:07.573325Z",
     "shell.execute_reply.started": "2022-09-08T23:52:07.235205Z"
    },
    "tags": []
   },
   "outputs": [
    {
     "data": {
      "text/html": [
       "<div>\n",
       "<style scoped>\n",
       "    .dataframe tbody tr th:only-of-type {\n",
       "        vertical-align: middle;\n",
       "    }\n",
       "\n",
       "    .dataframe tbody tr th {\n",
       "        vertical-align: top;\n",
       "    }\n",
       "\n",
       "    .dataframe thead th {\n",
       "        text-align: right;\n",
       "    }\n",
       "</style>\n",
       "<table border=\"1\" class=\"dataframe\">\n",
       "  <thead>\n",
       "    <tr style=\"text-align: right;\">\n",
       "      <th></th>\n",
       "      <th>sequence</th>\n",
       "      <th>0</th>\n",
       "      <th>1</th>\n",
       "      <th>2</th>\n",
       "      <th>3</th>\n",
       "      <th>4</th>\n",
       "      <th>5</th>\n",
       "      <th>6</th>\n",
       "      <th>7</th>\n",
       "      <th>8</th>\n",
       "      <th>...</th>\n",
       "      <th>6156</th>\n",
       "      <th>6157</th>\n",
       "      <th>6158</th>\n",
       "      <th>6159</th>\n",
       "      <th>6160</th>\n",
       "      <th>6161</th>\n",
       "      <th>6162</th>\n",
       "      <th>6163</th>\n",
       "      <th>6164</th>\n",
       "      <th>label</th>\n",
       "    </tr>\n",
       "  </thead>\n",
       "  <tbody>\n",
       "    <tr>\n",
       "      <th>0</th>\n",
       "      <td>AP02484</td>\n",
       "      <td>0.190476</td>\n",
       "      <td>0.000000</td>\n",
       "      <td>0.000000</td>\n",
       "      <td>0.000000</td>\n",
       "      <td>0.000000</td>\n",
       "      <td>0.000000</td>\n",
       "      <td>0.000000</td>\n",
       "      <td>0.190476</td>\n",
       "      <td>0.000000</td>\n",
       "      <td>...</td>\n",
       "      <td>0.125029</td>\n",
       "      <td>0.000287</td>\n",
       "      <td>0.031710</td>\n",
       "      <td>0.045591</td>\n",
       "      <td>-0.068033</td>\n",
       "      <td>0.031241</td>\n",
       "      <td>-0.075914</td>\n",
       "      <td>-0.014122</td>\n",
       "      <td>0.013585</td>\n",
       "      <td>1</td>\n",
       "    </tr>\n",
       "    <tr>\n",
       "      <th>1</th>\n",
       "      <td>AP02630</td>\n",
       "      <td>0.000000</td>\n",
       "      <td>0.023256</td>\n",
       "      <td>0.046512</td>\n",
       "      <td>0.023256</td>\n",
       "      <td>0.162791</td>\n",
       "      <td>0.046512</td>\n",
       "      <td>0.000000</td>\n",
       "      <td>0.093023</td>\n",
       "      <td>0.046512</td>\n",
       "      <td>...</td>\n",
       "      <td>-0.139132</td>\n",
       "      <td>-0.051193</td>\n",
       "      <td>0.108947</td>\n",
       "      <td>-0.014495</td>\n",
       "      <td>-0.107359</td>\n",
       "      <td>0.016725</td>\n",
       "      <td>0.050440</td>\n",
       "      <td>-0.053858</td>\n",
       "      <td>-0.121933</td>\n",
       "      <td>1</td>\n",
       "    </tr>\n",
       "    <tr>\n",
       "      <th>...</th>\n",
       "      <td>...</td>\n",
       "      <td>...</td>\n",
       "      <td>...</td>\n",
       "      <td>...</td>\n",
       "      <td>...</td>\n",
       "      <td>...</td>\n",
       "      <td>...</td>\n",
       "      <td>...</td>\n",
       "      <td>...</td>\n",
       "      <td>...</td>\n",
       "      <td>...</td>\n",
       "      <td>...</td>\n",
       "      <td>...</td>\n",
       "      <td>...</td>\n",
       "      <td>...</td>\n",
       "      <td>...</td>\n",
       "      <td>...</td>\n",
       "      <td>...</td>\n",
       "      <td>...</td>\n",
       "      <td>...</td>\n",
       "      <td>...</td>\n",
       "    </tr>\n",
       "    <tr>\n",
       "      <th>4040</th>\n",
       "      <td>UniRef50_Q54H44</td>\n",
       "      <td>0.000000</td>\n",
       "      <td>0.000000</td>\n",
       "      <td>0.000000</td>\n",
       "      <td>0.066667</td>\n",
       "      <td>0.000000</td>\n",
       "      <td>0.066667</td>\n",
       "      <td>0.066667</td>\n",
       "      <td>0.000000</td>\n",
       "      <td>0.133333</td>\n",
       "      <td>...</td>\n",
       "      <td>-0.064352</td>\n",
       "      <td>-0.036118</td>\n",
       "      <td>0.038847</td>\n",
       "      <td>-0.005325</td>\n",
       "      <td>-0.162470</td>\n",
       "      <td>-0.013375</td>\n",
       "      <td>0.012879</td>\n",
       "      <td>0.061577</td>\n",
       "      <td>0.170036</td>\n",
       "      <td>0</td>\n",
       "    </tr>\n",
       "    <tr>\n",
       "      <th>4041</th>\n",
       "      <td>UniRef50_Q50L39</td>\n",
       "      <td>0.000000</td>\n",
       "      <td>0.000000</td>\n",
       "      <td>0.040000</td>\n",
       "      <td>0.040000</td>\n",
       "      <td>0.000000</td>\n",
       "      <td>0.080000</td>\n",
       "      <td>0.080000</td>\n",
       "      <td>0.000000</td>\n",
       "      <td>0.080000</td>\n",
       "      <td>...</td>\n",
       "      <td>0.165536</td>\n",
       "      <td>-0.026004</td>\n",
       "      <td>0.047379</td>\n",
       "      <td>-0.002521</td>\n",
       "      <td>-0.150257</td>\n",
       "      <td>0.028818</td>\n",
       "      <td>-0.092182</td>\n",
       "      <td>0.051275</td>\n",
       "      <td>0.055207</td>\n",
       "      <td>0</td>\n",
       "    </tr>\n",
       "  </tbody>\n",
       "</table>\n",
       "<p>4042 rows × 6167 columns</p>\n",
       "</div>"
      ],
      "text/plain": [
       "             sequence         0         1         2         3         4  \\\n",
       "0             AP02484  0.190476  0.000000  0.000000  0.000000  0.000000   \n",
       "1             AP02630  0.000000  0.023256  0.046512  0.023256  0.162791   \n",
       "...               ...       ...       ...       ...       ...       ...   \n",
       "4040  UniRef50_Q54H44  0.000000  0.000000  0.000000  0.066667  0.000000   \n",
       "4041  UniRef50_Q50L39  0.000000  0.000000  0.040000  0.040000  0.000000   \n",
       "\n",
       "             5         6         7         8  ...      6156      6157  \\\n",
       "0     0.000000  0.000000  0.190476  0.000000  ...  0.125029  0.000287   \n",
       "1     0.046512  0.000000  0.093023  0.046512  ... -0.139132 -0.051193   \n",
       "...        ...       ...       ...       ...  ...       ...       ...   \n",
       "4040  0.066667  0.066667  0.000000  0.133333  ... -0.064352 -0.036118   \n",
       "4041  0.080000  0.080000  0.000000  0.080000  ...  0.165536 -0.026004   \n",
       "\n",
       "          6158      6159      6160      6161      6162      6163      6164  \\\n",
       "0     0.031710  0.045591 -0.068033  0.031241 -0.075914 -0.014122  0.013585   \n",
       "1     0.108947 -0.014495 -0.107359  0.016725  0.050440 -0.053858 -0.121933   \n",
       "...        ...       ...       ...       ...       ...       ...       ...   \n",
       "4040  0.038847 -0.005325 -0.162470 -0.013375  0.012879  0.061577  0.170036   \n",
       "4041  0.047379 -0.002521 -0.150257  0.028818 -0.092182  0.051275  0.055207   \n",
       "\n",
       "      label  \n",
       "0         1  \n",
       "1         1  \n",
       "...     ...  \n",
       "4040      0  \n",
       "4041      0  \n",
       "\n",
       "[4042 rows x 6167 columns]"
      ]
     },
     "metadata": {},
     "output_type": "display_data"
    }
   ],
   "source": [
    "fu.check_with_df(Xs, ys, sequence_id)"
   ]
  },
  {
   "cell_type": "markdown",
   "id": "49ae2f28-3710-42b1-9ad8-726aacb97524",
   "metadata": {
    "tags": []
   },
   "source": [
    "<br> \n",
    "\n",
    "- **Pooling Operation:  `max`**"
   ]
  },
  {
   "cell_type": "markdown",
   "id": "9b5114a8-e818-44f6-80c2-3e73024f9a2e",
   "metadata": {},
   "source": [
    "Update arguments and prepare paths"
   ]
  },
  {
   "cell_type": "code",
   "execution_count": 19,
   "id": "64c79553-0da2-4d65-89f8-946e9854c0bc",
   "metadata": {
    "execution": {
     "iopub.execute_input": "2022-09-09T00:03:37.556050Z",
     "iopub.status.busy": "2022-09-09T00:03:37.554818Z",
     "iopub.status.idle": "2022-09-09T00:03:37.564480Z",
     "shell.execute_reply": "2022-09-09T00:03:37.563378Z",
     "shell.execute_reply.started": "2022-09-09T00:03:37.555981Z"
    },
    "tags": []
   },
   "outputs": [
    {
     "name": "stdout",
     "output_type": "stream",
     "text": [
      " ../data/amp/all_data.fa \n",
      " ../data/amp/prose/all_data/amp_all_dlm_max\n"
     ]
    }
   ],
   "source": [
    "# Update arguments\n",
    "pool = 'max'\n",
    "# Prepare paths\n",
    "path_pt, _, path_fa = fu.file_paths(ptmodel, task, file_base, model, pool)\n",
    "print('', path_fa, '\\n', path_pt)"
   ]
  },
  {
   "cell_type": "markdown",
   "id": "9d780951-549d-4a13-bb9e-222c5f3dbad3",
   "metadata": {},
   "source": [
    "Extract embeddings with `read_embeddings` function."
   ]
  },
  {
   "cell_type": "code",
   "execution_count": 20,
   "id": "4977a28e-c023-49d7-bdd9-226c4e7377d2",
   "metadata": {
    "execution": {
     "iopub.execute_input": "2022-09-09T00:03:44.860873Z",
     "iopub.status.busy": "2022-09-09T00:03:44.860507Z",
     "iopub.status.idle": "2022-09-09T00:03:57.952074Z",
     "shell.execute_reply": "2022-09-09T00:03:57.951102Z",
     "shell.execute_reply.started": "2022-09-09T00:03:44.860848Z"
    },
    "tags": []
   },
   "outputs": [
    {
     "name": "stdout",
     "output_type": "stream",
     "text": [
      "Shape of embeddings: \t\t(4042, 6165)\n",
      "Length of target label list:\t4042\n",
      "Length of sequential ids list:\t4042\n"
     ]
    }
   ],
   "source": [
    "Xs, ys, sequence_id = fu.read_embeddings(path_fa, path_pt, pool, emb_layer)"
   ]
  },
  {
   "cell_type": "markdown",
   "id": "1c9627d5-7513-41de-811a-2796093a1697",
   "metadata": {},
   "source": [
    "Check our data with `check_with_df` function."
   ]
  },
  {
   "cell_type": "code",
   "execution_count": 21,
   "id": "678e0375-759a-406f-a028-baf2f00c68fc",
   "metadata": {
    "execution": {
     "iopub.execute_input": "2022-09-09T00:04:16.584508Z",
     "iopub.status.busy": "2022-09-09T00:04:16.584210Z",
     "iopub.status.idle": "2022-09-09T00:04:16.915568Z",
     "shell.execute_reply": "2022-09-09T00:04:16.914672Z",
     "shell.execute_reply.started": "2022-09-09T00:04:16.584487Z"
    },
    "tags": []
   },
   "outputs": [
    {
     "data": {
      "text/html": [
       "<div>\n",
       "<style scoped>\n",
       "    .dataframe tbody tr th:only-of-type {\n",
       "        vertical-align: middle;\n",
       "    }\n",
       "\n",
       "    .dataframe tbody tr th {\n",
       "        vertical-align: top;\n",
       "    }\n",
       "\n",
       "    .dataframe thead th {\n",
       "        text-align: right;\n",
       "    }\n",
       "</style>\n",
       "<table border=\"1\" class=\"dataframe\">\n",
       "  <thead>\n",
       "    <tr style=\"text-align: right;\">\n",
       "      <th></th>\n",
       "      <th>sequence</th>\n",
       "      <th>0</th>\n",
       "      <th>1</th>\n",
       "      <th>2</th>\n",
       "      <th>3</th>\n",
       "      <th>4</th>\n",
       "      <th>5</th>\n",
       "      <th>6</th>\n",
       "      <th>7</th>\n",
       "      <th>8</th>\n",
       "      <th>...</th>\n",
       "      <th>6156</th>\n",
       "      <th>6157</th>\n",
       "      <th>6158</th>\n",
       "      <th>6159</th>\n",
       "      <th>6160</th>\n",
       "      <th>6161</th>\n",
       "      <th>6162</th>\n",
       "      <th>6163</th>\n",
       "      <th>6164</th>\n",
       "      <th>label</th>\n",
       "    </tr>\n",
       "  </thead>\n",
       "  <tbody>\n",
       "    <tr>\n",
       "      <th>0</th>\n",
       "      <td>AP02484</td>\n",
       "      <td>1.0</td>\n",
       "      <td>0.0</td>\n",
       "      <td>0.0</td>\n",
       "      <td>0.0</td>\n",
       "      <td>0.0</td>\n",
       "      <td>0.0</td>\n",
       "      <td>0.0</td>\n",
       "      <td>1.0</td>\n",
       "      <td>0.0</td>\n",
       "      <td>...</td>\n",
       "      <td>0.242918</td>\n",
       "      <td>0.013340</td>\n",
       "      <td>0.090424</td>\n",
       "      <td>0.114423</td>\n",
       "      <td>0.050711</td>\n",
       "      <td>0.068568</td>\n",
       "      <td>0.031580</td>\n",
       "      <td>0.012137</td>\n",
       "      <td>0.053268</td>\n",
       "      <td>1</td>\n",
       "    </tr>\n",
       "    <tr>\n",
       "      <th>1</th>\n",
       "      <td>AP02630</td>\n",
       "      <td>0.0</td>\n",
       "      <td>1.0</td>\n",
       "      <td>1.0</td>\n",
       "      <td>1.0</td>\n",
       "      <td>1.0</td>\n",
       "      <td>1.0</td>\n",
       "      <td>0.0</td>\n",
       "      <td>1.0</td>\n",
       "      <td>1.0</td>\n",
       "      <td>...</td>\n",
       "      <td>-0.019129</td>\n",
       "      <td>0.008187</td>\n",
       "      <td>0.199729</td>\n",
       "      <td>-0.001016</td>\n",
       "      <td>-0.019748</td>\n",
       "      <td>0.076221</td>\n",
       "      <td>0.104859</td>\n",
       "      <td>-0.019677</td>\n",
       "      <td>0.061204</td>\n",
       "      <td>1</td>\n",
       "    </tr>\n",
       "    <tr>\n",
       "      <th>...</th>\n",
       "      <td>...</td>\n",
       "      <td>...</td>\n",
       "      <td>...</td>\n",
       "      <td>...</td>\n",
       "      <td>...</td>\n",
       "      <td>...</td>\n",
       "      <td>...</td>\n",
       "      <td>...</td>\n",
       "      <td>...</td>\n",
       "      <td>...</td>\n",
       "      <td>...</td>\n",
       "      <td>...</td>\n",
       "      <td>...</td>\n",
       "      <td>...</td>\n",
       "      <td>...</td>\n",
       "      <td>...</td>\n",
       "      <td>...</td>\n",
       "      <td>...</td>\n",
       "      <td>...</td>\n",
       "      <td>...</td>\n",
       "      <td>...</td>\n",
       "    </tr>\n",
       "    <tr>\n",
       "      <th>4040</th>\n",
       "      <td>UniRef50_Q54H44</td>\n",
       "      <td>0.0</td>\n",
       "      <td>0.0</td>\n",
       "      <td>0.0</td>\n",
       "      <td>1.0</td>\n",
       "      <td>0.0</td>\n",
       "      <td>1.0</td>\n",
       "      <td>1.0</td>\n",
       "      <td>0.0</td>\n",
       "      <td>1.0</td>\n",
       "      <td>...</td>\n",
       "      <td>-0.037907</td>\n",
       "      <td>0.014221</td>\n",
       "      <td>0.204487</td>\n",
       "      <td>0.017825</td>\n",
       "      <td>0.011032</td>\n",
       "      <td>0.018597</td>\n",
       "      <td>0.041912</td>\n",
       "      <td>0.149302</td>\n",
       "      <td>0.349932</td>\n",
       "      <td>0</td>\n",
       "    </tr>\n",
       "    <tr>\n",
       "      <th>4041</th>\n",
       "      <td>UniRef50_Q50L39</td>\n",
       "      <td>0.0</td>\n",
       "      <td>0.0</td>\n",
       "      <td>1.0</td>\n",
       "      <td>1.0</td>\n",
       "      <td>0.0</td>\n",
       "      <td>1.0</td>\n",
       "      <td>1.0</td>\n",
       "      <td>0.0</td>\n",
       "      <td>1.0</td>\n",
       "      <td>...</td>\n",
       "      <td>0.259932</td>\n",
       "      <td>0.004266</td>\n",
       "      <td>0.139227</td>\n",
       "      <td>0.094924</td>\n",
       "      <td>0.018846</td>\n",
       "      <td>0.065851</td>\n",
       "      <td>-0.008283</td>\n",
       "      <td>0.091745</td>\n",
       "      <td>0.124798</td>\n",
       "      <td>0</td>\n",
       "    </tr>\n",
       "  </tbody>\n",
       "</table>\n",
       "<p>4042 rows × 6167 columns</p>\n",
       "</div>"
      ],
      "text/plain": [
       "             sequence    0    1    2    3    4    5    6    7    8  ...  \\\n",
       "0             AP02484  1.0  0.0  0.0  0.0  0.0  0.0  0.0  1.0  0.0  ...   \n",
       "1             AP02630  0.0  1.0  1.0  1.0  1.0  1.0  0.0  1.0  1.0  ...   \n",
       "...               ...  ...  ...  ...  ...  ...  ...  ...  ...  ...  ...   \n",
       "4040  UniRef50_Q54H44  0.0  0.0  0.0  1.0  0.0  1.0  1.0  0.0  1.0  ...   \n",
       "4041  UniRef50_Q50L39  0.0  0.0  1.0  1.0  0.0  1.0  1.0  0.0  1.0  ...   \n",
       "\n",
       "          6156      6157      6158      6159      6160      6161      6162  \\\n",
       "0     0.242918  0.013340  0.090424  0.114423  0.050711  0.068568  0.031580   \n",
       "1    -0.019129  0.008187  0.199729 -0.001016 -0.019748  0.076221  0.104859   \n",
       "...        ...       ...       ...       ...       ...       ...       ...   \n",
       "4040 -0.037907  0.014221  0.204487  0.017825  0.011032  0.018597  0.041912   \n",
       "4041  0.259932  0.004266  0.139227  0.094924  0.018846  0.065851 -0.008283   \n",
       "\n",
       "          6163      6164  label  \n",
       "0     0.012137  0.053268      1  \n",
       "1    -0.019677  0.061204      1  \n",
       "...        ...       ...    ...  \n",
       "4040  0.149302  0.349932      0  \n",
       "4041  0.091745  0.124798      0  \n",
       "\n",
       "[4042 rows x 6167 columns]"
      ]
     },
     "metadata": {},
     "output_type": "display_data"
    }
   ],
   "source": [
    "fu.check_with_df(Xs, ys, sequence_id)"
   ]
  },
  {
   "cell_type": "markdown",
   "id": "eba06dbc-bd65-497d-bebd-85a8d28c4cb7",
   "metadata": {
    "tags": []
   },
   "source": [
    "<br> \n",
    "\n",
    "- **Pooling Operation:  `sum`**"
   ]
  },
  {
   "cell_type": "markdown",
   "id": "53701283-3bee-44bd-bf76-52d9f6e4bc3c",
   "metadata": {},
   "source": [
    "Update arguments and prepare paths"
   ]
  },
  {
   "cell_type": "code",
   "execution_count": 16,
   "id": "375b0843-bf8b-4608-a6e1-ac6c5ab7a930",
   "metadata": {
    "execution": {
     "iopub.execute_input": "2022-09-09T00:00:26.736862Z",
     "iopub.status.busy": "2022-09-09T00:00:26.735066Z",
     "iopub.status.idle": "2022-09-09T00:00:26.747537Z",
     "shell.execute_reply": "2022-09-09T00:00:26.745804Z",
     "shell.execute_reply.started": "2022-09-09T00:00:26.736807Z"
    },
    "tags": []
   },
   "outputs": [
    {
     "name": "stdout",
     "output_type": "stream",
     "text": [
      " ../data/amp/all_data.fa \n",
      " ../data/amp/prose/all_data/amp_all_dlm_sum\n"
     ]
    }
   ],
   "source": [
    "# Update arguments\n",
    "pool = 'sum'\n",
    "# Prepare paths\n",
    "path_pt, _, path_fa = fu.file_paths(ptmodel, task, file_base, model, pool)\n",
    "print('', path_fa, '\\n', path_pt)"
   ]
  },
  {
   "cell_type": "markdown",
   "id": "a7a7188f-c66b-4b32-8576-b5caf2279fcf",
   "metadata": {},
   "source": [
    "Extract embeddings with `read_embeddings` function."
   ]
  },
  {
   "cell_type": "code",
   "execution_count": 17,
   "id": "b821b5af-1a21-481c-b415-4e3eba0bab07",
   "metadata": {
    "execution": {
     "iopub.execute_input": "2022-09-09T00:00:34.893650Z",
     "iopub.status.busy": "2022-09-09T00:00:34.893367Z",
     "iopub.status.idle": "2022-09-09T00:01:18.291379Z",
     "shell.execute_reply": "2022-09-09T00:01:18.290465Z",
     "shell.execute_reply.started": "2022-09-09T00:00:34.893628Z"
    },
    "tags": []
   },
   "outputs": [
    {
     "name": "stdout",
     "output_type": "stream",
     "text": [
      "Shape of embeddings: \t\t(4042, 6165)\n",
      "Length of target label list:\t4042\n",
      "Length of sequential ids list:\t4042\n"
     ]
    }
   ],
   "source": [
    "Xs, ys, sequence_id = fu.read_embeddings(path_fa, path_pt, pool, emb_layer)"
   ]
  },
  {
   "cell_type": "markdown",
   "id": "2acbdc1b-e7a8-41b1-8dc1-48463abb2064",
   "metadata": {},
   "source": [
    "Check our data with `check_with_df` function."
   ]
  },
  {
   "cell_type": "code",
   "execution_count": 18,
   "id": "5e4de43e-14cd-4956-895e-4da7d81adf4b",
   "metadata": {
    "execution": {
     "iopub.execute_input": "2022-09-09T00:01:38.997362Z",
     "iopub.status.busy": "2022-09-09T00:01:38.997065Z",
     "iopub.status.idle": "2022-09-09T00:01:39.309566Z",
     "shell.execute_reply": "2022-09-09T00:01:39.308720Z",
     "shell.execute_reply.started": "2022-09-09T00:01:38.997340Z"
    },
    "tags": []
   },
   "outputs": [
    {
     "data": {
      "text/html": [
       "<div>\n",
       "<style scoped>\n",
       "    .dataframe tbody tr th:only-of-type {\n",
       "        vertical-align: middle;\n",
       "    }\n",
       "\n",
       "    .dataframe tbody tr th {\n",
       "        vertical-align: top;\n",
       "    }\n",
       "\n",
       "    .dataframe thead th {\n",
       "        text-align: right;\n",
       "    }\n",
       "</style>\n",
       "<table border=\"1\" class=\"dataframe\">\n",
       "  <thead>\n",
       "    <tr style=\"text-align: right;\">\n",
       "      <th></th>\n",
       "      <th>sequence</th>\n",
       "      <th>0</th>\n",
       "      <th>1</th>\n",
       "      <th>2</th>\n",
       "      <th>3</th>\n",
       "      <th>4</th>\n",
       "      <th>5</th>\n",
       "      <th>6</th>\n",
       "      <th>7</th>\n",
       "      <th>8</th>\n",
       "      <th>...</th>\n",
       "      <th>6156</th>\n",
       "      <th>6157</th>\n",
       "      <th>6158</th>\n",
       "      <th>6159</th>\n",
       "      <th>6160</th>\n",
       "      <th>6161</th>\n",
       "      <th>6162</th>\n",
       "      <th>6163</th>\n",
       "      <th>6164</th>\n",
       "      <th>label</th>\n",
       "    </tr>\n",
       "  </thead>\n",
       "  <tbody>\n",
       "    <tr>\n",
       "      <th>0</th>\n",
       "      <td>AP02484</td>\n",
       "      <td>4.0</td>\n",
       "      <td>0.0</td>\n",
       "      <td>0.0</td>\n",
       "      <td>0.0</td>\n",
       "      <td>0.0</td>\n",
       "      <td>0.0</td>\n",
       "      <td>0.0</td>\n",
       "      <td>4.0</td>\n",
       "      <td>0.0</td>\n",
       "      <td>...</td>\n",
       "      <td>2.625609</td>\n",
       "      <td>0.006037</td>\n",
       "      <td>0.665917</td>\n",
       "      <td>0.957419</td>\n",
       "      <td>-1.428702</td>\n",
       "      <td>0.656070</td>\n",
       "      <td>-1.594204</td>\n",
       "      <td>-0.296553</td>\n",
       "      <td>0.285287</td>\n",
       "      <td>1</td>\n",
       "    </tr>\n",
       "    <tr>\n",
       "      <th>1</th>\n",
       "      <td>AP02630</td>\n",
       "      <td>0.0</td>\n",
       "      <td>1.0</td>\n",
       "      <td>2.0</td>\n",
       "      <td>1.0</td>\n",
       "      <td>7.0</td>\n",
       "      <td>2.0</td>\n",
       "      <td>0.0</td>\n",
       "      <td>4.0</td>\n",
       "      <td>2.0</td>\n",
       "      <td>...</td>\n",
       "      <td>-5.982681</td>\n",
       "      <td>-2.201300</td>\n",
       "      <td>4.684705</td>\n",
       "      <td>-0.623292</td>\n",
       "      <td>-4.616421</td>\n",
       "      <td>0.719193</td>\n",
       "      <td>2.168899</td>\n",
       "      <td>-2.315881</td>\n",
       "      <td>-5.243106</td>\n",
       "      <td>1</td>\n",
       "    </tr>\n",
       "    <tr>\n",
       "      <th>...</th>\n",
       "      <td>...</td>\n",
       "      <td>...</td>\n",
       "      <td>...</td>\n",
       "      <td>...</td>\n",
       "      <td>...</td>\n",
       "      <td>...</td>\n",
       "      <td>...</td>\n",
       "      <td>...</td>\n",
       "      <td>...</td>\n",
       "      <td>...</td>\n",
       "      <td>...</td>\n",
       "      <td>...</td>\n",
       "      <td>...</td>\n",
       "      <td>...</td>\n",
       "      <td>...</td>\n",
       "      <td>...</td>\n",
       "      <td>...</td>\n",
       "      <td>...</td>\n",
       "      <td>...</td>\n",
       "      <td>...</td>\n",
       "      <td>...</td>\n",
       "    </tr>\n",
       "    <tr>\n",
       "      <th>4040</th>\n",
       "      <td>UniRef50_Q54H44</td>\n",
       "      <td>0.0</td>\n",
       "      <td>0.0</td>\n",
       "      <td>0.0</td>\n",
       "      <td>1.0</td>\n",
       "      <td>0.0</td>\n",
       "      <td>1.0</td>\n",
       "      <td>1.0</td>\n",
       "      <td>0.0</td>\n",
       "      <td>2.0</td>\n",
       "      <td>...</td>\n",
       "      <td>-0.965285</td>\n",
       "      <td>-0.541764</td>\n",
       "      <td>0.582708</td>\n",
       "      <td>-0.079879</td>\n",
       "      <td>-2.437053</td>\n",
       "      <td>-0.200628</td>\n",
       "      <td>0.193190</td>\n",
       "      <td>0.923662</td>\n",
       "      <td>2.550547</td>\n",
       "      <td>0</td>\n",
       "    </tr>\n",
       "    <tr>\n",
       "      <th>4041</th>\n",
       "      <td>UniRef50_Q50L39</td>\n",
       "      <td>0.0</td>\n",
       "      <td>0.0</td>\n",
       "      <td>1.0</td>\n",
       "      <td>1.0</td>\n",
       "      <td>0.0</td>\n",
       "      <td>2.0</td>\n",
       "      <td>2.0</td>\n",
       "      <td>0.0</td>\n",
       "      <td>2.0</td>\n",
       "      <td>...</td>\n",
       "      <td>4.138393</td>\n",
       "      <td>-0.650102</td>\n",
       "      <td>1.184463</td>\n",
       "      <td>-0.063016</td>\n",
       "      <td>-3.756428</td>\n",
       "      <td>0.720450</td>\n",
       "      <td>-2.304556</td>\n",
       "      <td>1.281865</td>\n",
       "      <td>1.380174</td>\n",
       "      <td>0</td>\n",
       "    </tr>\n",
       "  </tbody>\n",
       "</table>\n",
       "<p>4042 rows × 6167 columns</p>\n",
       "</div>"
      ],
      "text/plain": [
       "             sequence    0    1    2    3    4    5    6    7    8  ...  \\\n",
       "0             AP02484  4.0  0.0  0.0  0.0  0.0  0.0  0.0  4.0  0.0  ...   \n",
       "1             AP02630  0.0  1.0  2.0  1.0  7.0  2.0  0.0  4.0  2.0  ...   \n",
       "...               ...  ...  ...  ...  ...  ...  ...  ...  ...  ...  ...   \n",
       "4040  UniRef50_Q54H44  0.0  0.0  0.0  1.0  0.0  1.0  1.0  0.0  2.0  ...   \n",
       "4041  UniRef50_Q50L39  0.0  0.0  1.0  1.0  0.0  2.0  2.0  0.0  2.0  ...   \n",
       "\n",
       "          6156      6157      6158      6159      6160      6161      6162  \\\n",
       "0     2.625609  0.006037  0.665917  0.957419 -1.428702  0.656070 -1.594204   \n",
       "1    -5.982681 -2.201300  4.684705 -0.623292 -4.616421  0.719193  2.168899   \n",
       "...        ...       ...       ...       ...       ...       ...       ...   \n",
       "4040 -0.965285 -0.541764  0.582708 -0.079879 -2.437053 -0.200628  0.193190   \n",
       "4041  4.138393 -0.650102  1.184463 -0.063016 -3.756428  0.720450 -2.304556   \n",
       "\n",
       "          6163      6164  label  \n",
       "0    -0.296553  0.285287      1  \n",
       "1    -2.315881 -5.243106      1  \n",
       "...        ...       ...    ...  \n",
       "4040  0.923662  2.550547      0  \n",
       "4041  1.281865  1.380174      0  \n",
       "\n",
       "[4042 rows x 6167 columns]"
      ]
     },
     "metadata": {},
     "output_type": "display_data"
    }
   ],
   "source": [
    "fu.check_with_df(Xs, ys, sequence_id)"
   ]
  },
  {
   "cell_type": "markdown",
   "id": "abd321eb-1c48-429e-9968-897771f3ae9f",
   "metadata": {
    "jp-MarkdownHeadingCollapsed": true,
    "tags": []
   },
   "source": [
    "<br>\n",
    "\n",
    "### ProSE MT model - prose_mt"
   ]
  },
  {
   "cell_type": "markdown",
   "id": "3474a01f-9fd8-49ed-b654-392fee9b4b19",
   "metadata": {
    "tags": []
   },
   "source": [
    "- **Pooling Operation:  `avg`**"
   ]
  },
  {
   "cell_type": "markdown",
   "id": "a9e76290-8b58-4b98-9bd8-ed94f98d5d69",
   "metadata": {},
   "source": [
    "Update arguments and prepare paths"
   ]
  },
  {
   "cell_type": "code",
   "execution_count": 22,
   "id": "9346cf95-0e19-4b9d-abc8-fccd85874d19",
   "metadata": {
    "execution": {
     "iopub.execute_input": "2022-09-09T00:06:54.382878Z",
     "iopub.status.busy": "2022-09-09T00:06:54.382471Z",
     "iopub.status.idle": "2022-09-09T00:06:54.390104Z",
     "shell.execute_reply": "2022-09-09T00:06:54.389230Z",
     "shell.execute_reply.started": "2022-09-09T00:06:54.382813Z"
    },
    "tags": []
   },
   "outputs": [
    {
     "name": "stdout",
     "output_type": "stream",
     "text": [
      " ../data/amp/all_data.fa \n",
      " ../data/amp/prose/all_data/amp_all_mt_avg\n"
     ]
    }
   ],
   "source": [
    "# Update arguments\n",
    "model = 'prose_mt'\n",
    "pool = 'avg'\n",
    "# Prepare paths\n",
    "path_pt, _, path_fa = fu.file_paths(ptmodel, task, file_base, model, pool)\n",
    "print('', path_fa, '\\n', path_pt)"
   ]
  },
  {
   "cell_type": "markdown",
   "id": "d1c86d47-4696-4302-880f-fdd6d4d2cb6c",
   "metadata": {},
   "source": [
    "Extract embeddings with `read_embeddings` function."
   ]
  },
  {
   "cell_type": "code",
   "execution_count": 23,
   "id": "962c0ca2-652a-430f-b326-2d35f50cc202",
   "metadata": {
    "execution": {
     "iopub.execute_input": "2022-09-09T00:07:03.797558Z",
     "iopub.status.busy": "2022-09-09T00:07:03.796491Z",
     "iopub.status.idle": "2022-09-09T00:07:43.201420Z",
     "shell.execute_reply": "2022-09-09T00:07:43.200610Z",
     "shell.execute_reply.started": "2022-09-09T00:07:03.797530Z"
    },
    "tags": []
   },
   "outputs": [
    {
     "name": "stdout",
     "output_type": "stream",
     "text": [
      "Shape of embeddings: \t\t(4042, 6165)\n",
      "Length of target label list:\t4042\n",
      "Length of sequential ids list:\t4042\n"
     ]
    }
   ],
   "source": [
    "Xs, ys, sequence_id = fu.read_embeddings(path_fa, path_pt, pool, emb_layer)"
   ]
  },
  {
   "cell_type": "markdown",
   "id": "072eea84-da26-4bef-904b-0f967f8fac49",
   "metadata": {},
   "source": [
    "Check our data with `check_with_df` function."
   ]
  },
  {
   "cell_type": "code",
   "execution_count": 24,
   "id": "27b38c83-51ec-4490-8bf1-66a4fe4baf7f",
   "metadata": {
    "execution": {
     "iopub.execute_input": "2022-09-09T00:08:10.738348Z",
     "iopub.status.busy": "2022-09-09T00:08:10.738037Z",
     "iopub.status.idle": "2022-09-09T00:08:11.049550Z",
     "shell.execute_reply": "2022-09-09T00:08:11.048785Z",
     "shell.execute_reply.started": "2022-09-09T00:08:10.738325Z"
    },
    "tags": []
   },
   "outputs": [
    {
     "data": {
      "text/html": [
       "<div>\n",
       "<style scoped>\n",
       "    .dataframe tbody tr th:only-of-type {\n",
       "        vertical-align: middle;\n",
       "    }\n",
       "\n",
       "    .dataframe tbody tr th {\n",
       "        vertical-align: top;\n",
       "    }\n",
       "\n",
       "    .dataframe thead th {\n",
       "        text-align: right;\n",
       "    }\n",
       "</style>\n",
       "<table border=\"1\" class=\"dataframe\">\n",
       "  <thead>\n",
       "    <tr style=\"text-align: right;\">\n",
       "      <th></th>\n",
       "      <th>sequence</th>\n",
       "      <th>0</th>\n",
       "      <th>1</th>\n",
       "      <th>2</th>\n",
       "      <th>3</th>\n",
       "      <th>4</th>\n",
       "      <th>5</th>\n",
       "      <th>6</th>\n",
       "      <th>7</th>\n",
       "      <th>8</th>\n",
       "      <th>...</th>\n",
       "      <th>6156</th>\n",
       "      <th>6157</th>\n",
       "      <th>6158</th>\n",
       "      <th>6159</th>\n",
       "      <th>6160</th>\n",
       "      <th>6161</th>\n",
       "      <th>6162</th>\n",
       "      <th>6163</th>\n",
       "      <th>6164</th>\n",
       "      <th>label</th>\n",
       "    </tr>\n",
       "  </thead>\n",
       "  <tbody>\n",
       "    <tr>\n",
       "      <th>0</th>\n",
       "      <td>AP02484</td>\n",
       "      <td>0.190476</td>\n",
       "      <td>0.000000</td>\n",
       "      <td>0.000000</td>\n",
       "      <td>0.000000</td>\n",
       "      <td>0.000000</td>\n",
       "      <td>0.000000</td>\n",
       "      <td>0.000000</td>\n",
       "      <td>0.190476</td>\n",
       "      <td>0.000000</td>\n",
       "      <td>...</td>\n",
       "      <td>0.182407</td>\n",
       "      <td>0.006507</td>\n",
       "      <td>0.025610</td>\n",
       "      <td>0.087097</td>\n",
       "      <td>-0.059270</td>\n",
       "      <td>0.188868</td>\n",
       "      <td>-0.076926</td>\n",
       "      <td>0.024240</td>\n",
       "      <td>-0.030708</td>\n",
       "      <td>1</td>\n",
       "    </tr>\n",
       "    <tr>\n",
       "      <th>1</th>\n",
       "      <td>AP02630</td>\n",
       "      <td>0.000000</td>\n",
       "      <td>0.023256</td>\n",
       "      <td>0.046512</td>\n",
       "      <td>0.023256</td>\n",
       "      <td>0.162791</td>\n",
       "      <td>0.046512</td>\n",
       "      <td>0.000000</td>\n",
       "      <td>0.093023</td>\n",
       "      <td>0.046512</td>\n",
       "      <td>...</td>\n",
       "      <td>-0.166235</td>\n",
       "      <td>-0.034336</td>\n",
       "      <td>0.100167</td>\n",
       "      <td>-0.004404</td>\n",
       "      <td>-0.064510</td>\n",
       "      <td>0.046750</td>\n",
       "      <td>-0.035658</td>\n",
       "      <td>-0.019140</td>\n",
       "      <td>-0.454555</td>\n",
       "      <td>1</td>\n",
       "    </tr>\n",
       "    <tr>\n",
       "      <th>...</th>\n",
       "      <td>...</td>\n",
       "      <td>...</td>\n",
       "      <td>...</td>\n",
       "      <td>...</td>\n",
       "      <td>...</td>\n",
       "      <td>...</td>\n",
       "      <td>...</td>\n",
       "      <td>...</td>\n",
       "      <td>...</td>\n",
       "      <td>...</td>\n",
       "      <td>...</td>\n",
       "      <td>...</td>\n",
       "      <td>...</td>\n",
       "      <td>...</td>\n",
       "      <td>...</td>\n",
       "      <td>...</td>\n",
       "      <td>...</td>\n",
       "      <td>...</td>\n",
       "      <td>...</td>\n",
       "      <td>...</td>\n",
       "      <td>...</td>\n",
       "    </tr>\n",
       "    <tr>\n",
       "      <th>4040</th>\n",
       "      <td>UniRef50_Q54H44</td>\n",
       "      <td>0.000000</td>\n",
       "      <td>0.000000</td>\n",
       "      <td>0.000000</td>\n",
       "      <td>0.066667</td>\n",
       "      <td>0.000000</td>\n",
       "      <td>0.066667</td>\n",
       "      <td>0.066667</td>\n",
       "      <td>0.000000</td>\n",
       "      <td>0.133333</td>\n",
       "      <td>...</td>\n",
       "      <td>-0.109032</td>\n",
       "      <td>-0.063507</td>\n",
       "      <td>0.035962</td>\n",
       "      <td>-0.021260</td>\n",
       "      <td>-0.209445</td>\n",
       "      <td>-0.016908</td>\n",
       "      <td>0.084930</td>\n",
       "      <td>0.083419</td>\n",
       "      <td>0.250840</td>\n",
       "      <td>0</td>\n",
       "    </tr>\n",
       "    <tr>\n",
       "      <th>4041</th>\n",
       "      <td>UniRef50_Q50L39</td>\n",
       "      <td>0.000000</td>\n",
       "      <td>0.000000</td>\n",
       "      <td>0.040000</td>\n",
       "      <td>0.040000</td>\n",
       "      <td>0.000000</td>\n",
       "      <td>0.080000</td>\n",
       "      <td>0.080000</td>\n",
       "      <td>0.000000</td>\n",
       "      <td>0.080000</td>\n",
       "      <td>...</td>\n",
       "      <td>0.203517</td>\n",
       "      <td>-0.072818</td>\n",
       "      <td>0.054570</td>\n",
       "      <td>0.004134</td>\n",
       "      <td>-0.096326</td>\n",
       "      <td>0.040333</td>\n",
       "      <td>-0.099720</td>\n",
       "      <td>0.076378</td>\n",
       "      <td>0.122510</td>\n",
       "      <td>0</td>\n",
       "    </tr>\n",
       "  </tbody>\n",
       "</table>\n",
       "<p>4042 rows × 6167 columns</p>\n",
       "</div>"
      ],
      "text/plain": [
       "             sequence         0         1         2         3         4  \\\n",
       "0             AP02484  0.190476  0.000000  0.000000  0.000000  0.000000   \n",
       "1             AP02630  0.000000  0.023256  0.046512  0.023256  0.162791   \n",
       "...               ...       ...       ...       ...       ...       ...   \n",
       "4040  UniRef50_Q54H44  0.000000  0.000000  0.000000  0.066667  0.000000   \n",
       "4041  UniRef50_Q50L39  0.000000  0.000000  0.040000  0.040000  0.000000   \n",
       "\n",
       "             5         6         7         8  ...      6156      6157  \\\n",
       "0     0.000000  0.000000  0.190476  0.000000  ...  0.182407  0.006507   \n",
       "1     0.046512  0.000000  0.093023  0.046512  ... -0.166235 -0.034336   \n",
       "...        ...       ...       ...       ...  ...       ...       ...   \n",
       "4040  0.066667  0.066667  0.000000  0.133333  ... -0.109032 -0.063507   \n",
       "4041  0.080000  0.080000  0.000000  0.080000  ...  0.203517 -0.072818   \n",
       "\n",
       "          6158      6159      6160      6161      6162      6163      6164  \\\n",
       "0     0.025610  0.087097 -0.059270  0.188868 -0.076926  0.024240 -0.030708   \n",
       "1     0.100167 -0.004404 -0.064510  0.046750 -0.035658 -0.019140 -0.454555   \n",
       "...        ...       ...       ...       ...       ...       ...       ...   \n",
       "4040  0.035962 -0.021260 -0.209445 -0.016908  0.084930  0.083419  0.250840   \n",
       "4041  0.054570  0.004134 -0.096326  0.040333 -0.099720  0.076378  0.122510   \n",
       "\n",
       "      label  \n",
       "0         1  \n",
       "1         1  \n",
       "...     ...  \n",
       "4040      0  \n",
       "4041      0  \n",
       "\n",
       "[4042 rows x 6167 columns]"
      ]
     },
     "metadata": {},
     "output_type": "display_data"
    }
   ],
   "source": [
    "fu.check_with_df(Xs, ys, sequence_id)"
   ]
  },
  {
   "cell_type": "markdown",
   "id": "2a9d41d3-7ba0-4c4a-bb94-1902cf405bf7",
   "metadata": {
    "tags": []
   },
   "source": [
    "- **Pooling Operation:  `max`**"
   ]
  },
  {
   "cell_type": "markdown",
   "id": "ccfe6a78-96d2-485e-9bde-4e4878ae22a6",
   "metadata": {},
   "source": [
    "Update arguments and prepare paths"
   ]
  },
  {
   "cell_type": "code",
   "execution_count": 25,
   "id": "f0667164-eadd-46d9-a811-13e6df7c8ac9",
   "metadata": {
    "execution": {
     "iopub.execute_input": "2022-09-09T01:30:06.532918Z",
     "iopub.status.busy": "2022-09-09T01:30:06.532564Z",
     "iopub.status.idle": "2022-09-09T01:30:06.539662Z",
     "shell.execute_reply": "2022-09-09T01:30:06.538849Z",
     "shell.execute_reply.started": "2022-09-09T01:30:06.532895Z"
    },
    "tags": []
   },
   "outputs": [
    {
     "name": "stdout",
     "output_type": "stream",
     "text": [
      " ../data/amp/all_data.fa \n",
      " ../data/amp/prose/all_data/amp_all_mt_max\n"
     ]
    }
   ],
   "source": [
    "# Update arguments\n",
    "pool = 'max'\n",
    "# Prepare paths\n",
    "path_pt, _, path_fa = fu.file_paths(ptmodel, task, file_base, model, pool)\n",
    "print('', path_fa, '\\n', path_pt)"
   ]
  },
  {
   "cell_type": "markdown",
   "id": "de4debe5-bfa9-47c5-95fe-4da0ad592572",
   "metadata": {},
   "source": [
    "Extract embeddings with `read_embeddings` function."
   ]
  },
  {
   "cell_type": "code",
   "execution_count": 26,
   "id": "d4f51672-a94b-41b9-b9fd-8b584ad1c428",
   "metadata": {
    "execution": {
     "iopub.execute_input": "2022-09-09T01:30:26.295539Z",
     "iopub.status.busy": "2022-09-09T01:30:26.295194Z",
     "iopub.status.idle": "2022-09-09T01:31:08.532072Z",
     "shell.execute_reply": "2022-09-09T01:31:08.531043Z",
     "shell.execute_reply.started": "2022-09-09T01:30:26.295513Z"
    },
    "tags": []
   },
   "outputs": [
    {
     "name": "stdout",
     "output_type": "stream",
     "text": [
      "Shape of embeddings: \t\t(4042, 6165)\n",
      "Length of target label list:\t4042\n",
      "Length of sequential ids list:\t4042\n"
     ]
    }
   ],
   "source": [
    "Xs, ys, sequence_id = fu.read_embeddings(path_fa, path_pt, pool, emb_layer)"
   ]
  },
  {
   "cell_type": "markdown",
   "id": "fa58e22c-9d1c-497d-a106-d9888f262833",
   "metadata": {},
   "source": [
    "Check our data with `check_with_df` function."
   ]
  },
  {
   "cell_type": "code",
   "execution_count": 27,
   "id": "419943ee-6cf1-4525-928f-f78c1630fe19",
   "metadata": {
    "execution": {
     "iopub.execute_input": "2022-09-09T01:31:40.212449Z",
     "iopub.status.busy": "2022-09-09T01:31:40.212135Z",
     "iopub.status.idle": "2022-09-09T01:31:40.542426Z",
     "shell.execute_reply": "2022-09-09T01:31:40.541421Z",
     "shell.execute_reply.started": "2022-09-09T01:31:40.212427Z"
    },
    "tags": []
   },
   "outputs": [
    {
     "data": {
      "text/html": [
       "<div>\n",
       "<style scoped>\n",
       "    .dataframe tbody tr th:only-of-type {\n",
       "        vertical-align: middle;\n",
       "    }\n",
       "\n",
       "    .dataframe tbody tr th {\n",
       "        vertical-align: top;\n",
       "    }\n",
       "\n",
       "    .dataframe thead th {\n",
       "        text-align: right;\n",
       "    }\n",
       "</style>\n",
       "<table border=\"1\" class=\"dataframe\">\n",
       "  <thead>\n",
       "    <tr style=\"text-align: right;\">\n",
       "      <th></th>\n",
       "      <th>sequence</th>\n",
       "      <th>0</th>\n",
       "      <th>1</th>\n",
       "      <th>2</th>\n",
       "      <th>3</th>\n",
       "      <th>4</th>\n",
       "      <th>5</th>\n",
       "      <th>6</th>\n",
       "      <th>7</th>\n",
       "      <th>8</th>\n",
       "      <th>...</th>\n",
       "      <th>6156</th>\n",
       "      <th>6157</th>\n",
       "      <th>6158</th>\n",
       "      <th>6159</th>\n",
       "      <th>6160</th>\n",
       "      <th>6161</th>\n",
       "      <th>6162</th>\n",
       "      <th>6163</th>\n",
       "      <th>6164</th>\n",
       "      <th>label</th>\n",
       "    </tr>\n",
       "  </thead>\n",
       "  <tbody>\n",
       "    <tr>\n",
       "      <th>0</th>\n",
       "      <td>AP02484</td>\n",
       "      <td>1.0</td>\n",
       "      <td>0.0</td>\n",
       "      <td>0.0</td>\n",
       "      <td>0.0</td>\n",
       "      <td>0.0</td>\n",
       "      <td>0.0</td>\n",
       "      <td>0.0</td>\n",
       "      <td>1.0</td>\n",
       "      <td>0.0</td>\n",
       "      <td>...</td>\n",
       "      <td>0.396872</td>\n",
       "      <td>0.109051</td>\n",
       "      <td>0.278176</td>\n",
       "      <td>0.410893</td>\n",
       "      <td>0.123763</td>\n",
       "      <td>0.656348</td>\n",
       "      <td>0.031152</td>\n",
       "      <td>0.061782</td>\n",
       "      <td>0.015913</td>\n",
       "      <td>1</td>\n",
       "    </tr>\n",
       "    <tr>\n",
       "      <th>1</th>\n",
       "      <td>AP02630</td>\n",
       "      <td>0.0</td>\n",
       "      <td>1.0</td>\n",
       "      <td>1.0</td>\n",
       "      <td>1.0</td>\n",
       "      <td>1.0</td>\n",
       "      <td>1.0</td>\n",
       "      <td>0.0</td>\n",
       "      <td>1.0</td>\n",
       "      <td>1.0</td>\n",
       "      <td>...</td>\n",
       "      <td>-0.009511</td>\n",
       "      <td>0.202685</td>\n",
       "      <td>0.726645</td>\n",
       "      <td>0.072782</td>\n",
       "      <td>0.035308</td>\n",
       "      <td>0.227542</td>\n",
       "      <td>0.012614</td>\n",
       "      <td>0.052842</td>\n",
       "      <td>-0.027416</td>\n",
       "      <td>1</td>\n",
       "    </tr>\n",
       "    <tr>\n",
       "      <th>...</th>\n",
       "      <td>...</td>\n",
       "      <td>...</td>\n",
       "      <td>...</td>\n",
       "      <td>...</td>\n",
       "      <td>...</td>\n",
       "      <td>...</td>\n",
       "      <td>...</td>\n",
       "      <td>...</td>\n",
       "      <td>...</td>\n",
       "      <td>...</td>\n",
       "      <td>...</td>\n",
       "      <td>...</td>\n",
       "      <td>...</td>\n",
       "      <td>...</td>\n",
       "      <td>...</td>\n",
       "      <td>...</td>\n",
       "      <td>...</td>\n",
       "      <td>...</td>\n",
       "      <td>...</td>\n",
       "      <td>...</td>\n",
       "      <td>...</td>\n",
       "    </tr>\n",
       "    <tr>\n",
       "      <th>4040</th>\n",
       "      <td>UniRef50_Q54H44</td>\n",
       "      <td>0.0</td>\n",
       "      <td>0.0</td>\n",
       "      <td>0.0</td>\n",
       "      <td>1.0</td>\n",
       "      <td>0.0</td>\n",
       "      <td>1.0</td>\n",
       "      <td>1.0</td>\n",
       "      <td>0.0</td>\n",
       "      <td>1.0</td>\n",
       "      <td>...</td>\n",
       "      <td>-0.046611</td>\n",
       "      <td>0.179802</td>\n",
       "      <td>0.161669</td>\n",
       "      <td>0.026548</td>\n",
       "      <td>0.063300</td>\n",
       "      <td>0.068668</td>\n",
       "      <td>0.165022</td>\n",
       "      <td>0.219370</td>\n",
       "      <td>0.546242</td>\n",
       "      <td>0</td>\n",
       "    </tr>\n",
       "    <tr>\n",
       "      <th>4041</th>\n",
       "      <td>UniRef50_Q50L39</td>\n",
       "      <td>0.0</td>\n",
       "      <td>0.0</td>\n",
       "      <td>1.0</td>\n",
       "      <td>1.0</td>\n",
       "      <td>0.0</td>\n",
       "      <td>1.0</td>\n",
       "      <td>1.0</td>\n",
       "      <td>0.0</td>\n",
       "      <td>1.0</td>\n",
       "      <td>...</td>\n",
       "      <td>0.419781</td>\n",
       "      <td>0.025045</td>\n",
       "      <td>0.210932</td>\n",
       "      <td>0.118358</td>\n",
       "      <td>0.336438</td>\n",
       "      <td>0.154400</td>\n",
       "      <td>-0.013796</td>\n",
       "      <td>0.157182</td>\n",
       "      <td>0.396947</td>\n",
       "      <td>0</td>\n",
       "    </tr>\n",
       "  </tbody>\n",
       "</table>\n",
       "<p>4042 rows × 6167 columns</p>\n",
       "</div>"
      ],
      "text/plain": [
       "             sequence    0    1    2    3    4    5    6    7    8  ...  \\\n",
       "0             AP02484  1.0  0.0  0.0  0.0  0.0  0.0  0.0  1.0  0.0  ...   \n",
       "1             AP02630  0.0  1.0  1.0  1.0  1.0  1.0  0.0  1.0  1.0  ...   \n",
       "...               ...  ...  ...  ...  ...  ...  ...  ...  ...  ...  ...   \n",
       "4040  UniRef50_Q54H44  0.0  0.0  0.0  1.0  0.0  1.0  1.0  0.0  1.0  ...   \n",
       "4041  UniRef50_Q50L39  0.0  0.0  1.0  1.0  0.0  1.0  1.0  0.0  1.0  ...   \n",
       "\n",
       "          6156      6157      6158      6159      6160      6161      6162  \\\n",
       "0     0.396872  0.109051  0.278176  0.410893  0.123763  0.656348  0.031152   \n",
       "1    -0.009511  0.202685  0.726645  0.072782  0.035308  0.227542  0.012614   \n",
       "...        ...       ...       ...       ...       ...       ...       ...   \n",
       "4040 -0.046611  0.179802  0.161669  0.026548  0.063300  0.068668  0.165022   \n",
       "4041  0.419781  0.025045  0.210932  0.118358  0.336438  0.154400 -0.013796   \n",
       "\n",
       "          6163      6164  label  \n",
       "0     0.061782  0.015913      1  \n",
       "1     0.052842 -0.027416      1  \n",
       "...        ...       ...    ...  \n",
       "4040  0.219370  0.546242      0  \n",
       "4041  0.157182  0.396947      0  \n",
       "\n",
       "[4042 rows x 6167 columns]"
      ]
     },
     "metadata": {},
     "output_type": "display_data"
    }
   ],
   "source": [
    "fu.check_with_df(Xs, ys, sequence_id)"
   ]
  },
  {
   "cell_type": "markdown",
   "id": "dcdc1b37-b308-4f77-8266-6688b1b09bef",
   "metadata": {
    "tags": []
   },
   "source": [
    "- **Pooling Operation:  `sum`**"
   ]
  },
  {
   "cell_type": "markdown",
   "id": "76099614-3ecf-43d4-9537-a3891b724830",
   "metadata": {},
   "source": [
    "Update arguments and prepare paths"
   ]
  },
  {
   "cell_type": "code",
   "execution_count": 28,
   "id": "5d63b3c5-3274-4378-978d-b54f5cb3deee",
   "metadata": {
    "execution": {
     "iopub.execute_input": "2022-09-09T01:33:29.789279Z",
     "iopub.status.busy": "2022-09-09T01:33:29.788349Z",
     "iopub.status.idle": "2022-09-09T01:33:29.796559Z",
     "shell.execute_reply": "2022-09-09T01:33:29.795655Z",
     "shell.execute_reply.started": "2022-09-09T01:33:29.789254Z"
    },
    "tags": []
   },
   "outputs": [
    {
     "name": "stdout",
     "output_type": "stream",
     "text": [
      " ../data/amp/all_data.fa \n",
      " ../data/amp/prose/all_data/amp_all_mt_sum\n"
     ]
    }
   ],
   "source": [
    "# Update arguments\n",
    "pool = 'sum'\n",
    "# Prepare paths\n",
    "path_pt, _, path_fa = fu.file_paths(ptmodel, task, file_base, model, pool)\n",
    "print('', path_fa, '\\n', path_pt)"
   ]
  },
  {
   "cell_type": "markdown",
   "id": "280611a1-90cc-4bdd-b526-82236e0160e2",
   "metadata": {},
   "source": [
    "Extract embeddings with `read_embeddings` function."
   ]
  },
  {
   "cell_type": "code",
   "execution_count": 29,
   "id": "b2a883e5-0360-4f77-830a-9031371f3111",
   "metadata": {
    "execution": {
     "iopub.execute_input": "2022-09-09T01:33:38.672927Z",
     "iopub.status.busy": "2022-09-09T01:33:38.672604Z",
     "iopub.status.idle": "2022-09-09T01:34:19.721270Z",
     "shell.execute_reply": "2022-09-09T01:34:19.704864Z",
     "shell.execute_reply.started": "2022-09-09T01:33:38.672903Z"
    },
    "tags": []
   },
   "outputs": [
    {
     "name": "stdout",
     "output_type": "stream",
     "text": [
      "Shape of embeddings: \t\t(4042, 6165)\n",
      "Length of target label list:\t4042\n",
      "Length of sequential ids list:\t4042\n"
     ]
    }
   ],
   "source": [
    "Xs, ys, sequence_id = fu.read_embeddings(path_fa, path_pt, pool, emb_layer)"
   ]
  },
  {
   "cell_type": "markdown",
   "id": "e05a03cc-dd02-4003-b489-ac7868b31300",
   "metadata": {},
   "source": [
    "Check our data with `check_with_df` function."
   ]
  },
  {
   "cell_type": "code",
   "execution_count": 30,
   "id": "436f86d2-939b-41e6-970b-dcfaa380a647",
   "metadata": {
    "execution": {
     "iopub.execute_input": "2022-09-09T01:34:49.160849Z",
     "iopub.status.busy": "2022-09-09T01:34:49.160028Z",
     "iopub.status.idle": "2022-09-09T01:34:49.609192Z",
     "shell.execute_reply": "2022-09-09T01:34:49.608264Z",
     "shell.execute_reply.started": "2022-09-09T01:34:49.160688Z"
    },
    "tags": []
   },
   "outputs": [
    {
     "data": {
      "text/html": [
       "<div>\n",
       "<style scoped>\n",
       "    .dataframe tbody tr th:only-of-type {\n",
       "        vertical-align: middle;\n",
       "    }\n",
       "\n",
       "    .dataframe tbody tr th {\n",
       "        vertical-align: top;\n",
       "    }\n",
       "\n",
       "    .dataframe thead th {\n",
       "        text-align: right;\n",
       "    }\n",
       "</style>\n",
       "<table border=\"1\" class=\"dataframe\">\n",
       "  <thead>\n",
       "    <tr style=\"text-align: right;\">\n",
       "      <th></th>\n",
       "      <th>sequence</th>\n",
       "      <th>0</th>\n",
       "      <th>1</th>\n",
       "      <th>2</th>\n",
       "      <th>3</th>\n",
       "      <th>4</th>\n",
       "      <th>5</th>\n",
       "      <th>6</th>\n",
       "      <th>7</th>\n",
       "      <th>8</th>\n",
       "      <th>...</th>\n",
       "      <th>6156</th>\n",
       "      <th>6157</th>\n",
       "      <th>6158</th>\n",
       "      <th>6159</th>\n",
       "      <th>6160</th>\n",
       "      <th>6161</th>\n",
       "      <th>6162</th>\n",
       "      <th>6163</th>\n",
       "      <th>6164</th>\n",
       "      <th>label</th>\n",
       "    </tr>\n",
       "  </thead>\n",
       "  <tbody>\n",
       "    <tr>\n",
       "      <th>0</th>\n",
       "      <td>AP02484</td>\n",
       "      <td>4.0</td>\n",
       "      <td>0.0</td>\n",
       "      <td>0.0</td>\n",
       "      <td>0.0</td>\n",
       "      <td>0.0</td>\n",
       "      <td>0.0</td>\n",
       "      <td>0.0</td>\n",
       "      <td>4.0</td>\n",
       "      <td>0.0</td>\n",
       "      <td>...</td>\n",
       "      <td>3.830548</td>\n",
       "      <td>0.136643</td>\n",
       "      <td>0.537802</td>\n",
       "      <td>1.829039</td>\n",
       "      <td>-1.244662</td>\n",
       "      <td>3.966237</td>\n",
       "      <td>-1.615452</td>\n",
       "      <td>0.509042</td>\n",
       "      <td>-0.644860</td>\n",
       "      <td>1</td>\n",
       "    </tr>\n",
       "    <tr>\n",
       "      <th>1</th>\n",
       "      <td>AP02630</td>\n",
       "      <td>0.0</td>\n",
       "      <td>1.0</td>\n",
       "      <td>2.0</td>\n",
       "      <td>1.0</td>\n",
       "      <td>7.0</td>\n",
       "      <td>2.0</td>\n",
       "      <td>0.0</td>\n",
       "      <td>4.0</td>\n",
       "      <td>2.0</td>\n",
       "      <td>...</td>\n",
       "      <td>-7.148090</td>\n",
       "      <td>-1.476431</td>\n",
       "      <td>4.307183</td>\n",
       "      <td>-0.189360</td>\n",
       "      <td>-2.773945</td>\n",
       "      <td>2.010263</td>\n",
       "      <td>-1.533286</td>\n",
       "      <td>-0.823000</td>\n",
       "      <td>-19.545868</td>\n",
       "      <td>1</td>\n",
       "    </tr>\n",
       "    <tr>\n",
       "      <th>...</th>\n",
       "      <td>...</td>\n",
       "      <td>...</td>\n",
       "      <td>...</td>\n",
       "      <td>...</td>\n",
       "      <td>...</td>\n",
       "      <td>...</td>\n",
       "      <td>...</td>\n",
       "      <td>...</td>\n",
       "      <td>...</td>\n",
       "      <td>...</td>\n",
       "      <td>...</td>\n",
       "      <td>...</td>\n",
       "      <td>...</td>\n",
       "      <td>...</td>\n",
       "      <td>...</td>\n",
       "      <td>...</td>\n",
       "      <td>...</td>\n",
       "      <td>...</td>\n",
       "      <td>...</td>\n",
       "      <td>...</td>\n",
       "      <td>...</td>\n",
       "    </tr>\n",
       "    <tr>\n",
       "      <th>4040</th>\n",
       "      <td>UniRef50_Q54H44</td>\n",
       "      <td>0.0</td>\n",
       "      <td>0.0</td>\n",
       "      <td>0.0</td>\n",
       "      <td>1.0</td>\n",
       "      <td>0.0</td>\n",
       "      <td>1.0</td>\n",
       "      <td>1.0</td>\n",
       "      <td>0.0</td>\n",
       "      <td>2.0</td>\n",
       "      <td>...</td>\n",
       "      <td>-1.635473</td>\n",
       "      <td>-0.952612</td>\n",
       "      <td>0.539435</td>\n",
       "      <td>-0.318907</td>\n",
       "      <td>-3.141680</td>\n",
       "      <td>-0.253616</td>\n",
       "      <td>1.273956</td>\n",
       "      <td>1.251285</td>\n",
       "      <td>3.762596</td>\n",
       "      <td>0</td>\n",
       "    </tr>\n",
       "    <tr>\n",
       "      <th>4041</th>\n",
       "      <td>UniRef50_Q50L39</td>\n",
       "      <td>0.0</td>\n",
       "      <td>0.0</td>\n",
       "      <td>1.0</td>\n",
       "      <td>1.0</td>\n",
       "      <td>0.0</td>\n",
       "      <td>2.0</td>\n",
       "      <td>2.0</td>\n",
       "      <td>0.0</td>\n",
       "      <td>2.0</td>\n",
       "      <td>...</td>\n",
       "      <td>5.087928</td>\n",
       "      <td>-1.820445</td>\n",
       "      <td>1.364251</td>\n",
       "      <td>0.103362</td>\n",
       "      <td>-2.408159</td>\n",
       "      <td>1.008336</td>\n",
       "      <td>-2.492997</td>\n",
       "      <td>1.909452</td>\n",
       "      <td>3.062747</td>\n",
       "      <td>0</td>\n",
       "    </tr>\n",
       "  </tbody>\n",
       "</table>\n",
       "<p>4042 rows × 6167 columns</p>\n",
       "</div>"
      ],
      "text/plain": [
       "             sequence    0    1    2    3    4    5    6    7    8  ...  \\\n",
       "0             AP02484  4.0  0.0  0.0  0.0  0.0  0.0  0.0  4.0  0.0  ...   \n",
       "1             AP02630  0.0  1.0  2.0  1.0  7.0  2.0  0.0  4.0  2.0  ...   \n",
       "...               ...  ...  ...  ...  ...  ...  ...  ...  ...  ...  ...   \n",
       "4040  UniRef50_Q54H44  0.0  0.0  0.0  1.0  0.0  1.0  1.0  0.0  2.0  ...   \n",
       "4041  UniRef50_Q50L39  0.0  0.0  1.0  1.0  0.0  2.0  2.0  0.0  2.0  ...   \n",
       "\n",
       "          6156      6157      6158      6159      6160      6161      6162  \\\n",
       "0     3.830548  0.136643  0.537802  1.829039 -1.244662  3.966237 -1.615452   \n",
       "1    -7.148090 -1.476431  4.307183 -0.189360 -2.773945  2.010263 -1.533286   \n",
       "...        ...       ...       ...       ...       ...       ...       ...   \n",
       "4040 -1.635473 -0.952612  0.539435 -0.318907 -3.141680 -0.253616  1.273956   \n",
       "4041  5.087928 -1.820445  1.364251  0.103362 -2.408159  1.008336 -2.492997   \n",
       "\n",
       "          6163       6164  label  \n",
       "0     0.509042  -0.644860      1  \n",
       "1    -0.823000 -19.545868      1  \n",
       "...        ...        ...    ...  \n",
       "4040  1.251285   3.762596      0  \n",
       "4041  1.909452   3.062747      0  \n",
       "\n",
       "[4042 rows x 6167 columns]"
      ]
     },
     "metadata": {},
     "output_type": "display_data"
    }
   ],
   "source": [
    "fu.check_with_df(Xs, ys, sequence_id)"
   ]
  },
  {
   "cell_type": "markdown",
   "id": "ee42ac3b-c65d-4b82-bafa-3c92b03d2cae",
   "metadata": {},
   "source": [
    "## ESM embeddings\n"
   ]
  },
  {
   "cell_type": "markdown",
   "id": "816f3af2-7a83-42c8-bd40-afac51335817",
   "metadata": {},
   "source": [
    "### ESM-1v model - esm1v_t33_650M_UR90S_1"
   ]
  },
  {
   "cell_type": "markdown",
   "id": "01f6501a-61c0-47ae-bcd1-328dc307a4a3",
   "metadata": {
    "tags": []
   },
   "source": [
    "#### Pooling Operation:  `mean`"
   ]
  },
  {
   "cell_type": "markdown",
   "id": "b4bf2fd8-b54c-4054-bc88-cc17333ca001",
   "metadata": {},
   "source": [
    "Update arguments and prepare paths"
   ]
  },
  {
   "cell_type": "code",
   "execution_count": 34,
   "id": "b9008a2e-0cea-4f96-83b9-e025879b5043",
   "metadata": {
    "execution": {
     "iopub.execute_input": "2022-09-09T01:49:25.802588Z",
     "iopub.status.busy": "2022-09-09T01:49:25.802288Z",
     "iopub.status.idle": "2022-09-09T01:49:25.809580Z",
     "shell.execute_reply": "2022-09-09T01:49:25.808760Z",
     "shell.execute_reply.started": "2022-09-09T01:49:25.802567Z"
    },
    "tags": []
   },
   "outputs": [
    {
     "name": "stdout",
     "output_type": "stream",
     "text": [
      " ../data/amp/all_data.fa \n",
      " ../data/amp/esm/all_data/amp_all_esm1v_mean\n"
     ]
    }
   ],
   "source": [
    "# Update arguments\n",
    "ptmodel = 'esm'\n",
    "model = 'esm1v_t33_650M_UR90S_1'\n",
    "emb_layer = 33\n",
    "pool = 'mean'  \n",
    "# Prepare paths\n",
    "path_pt, _, path_fa = fu.file_paths(ptmodel, task, file_base, model, pool)\n",
    "print('', path_fa, '\\n', path_pt)"
   ]
  },
  {
   "cell_type": "markdown",
   "id": "90ee696d-88e3-480b-aace-0cbf650a49de",
   "metadata": {},
   "source": [
    "Extract embeddings with `read_embeddings` function."
   ]
  },
  {
   "cell_type": "code",
   "execution_count": 35,
   "id": "e57031ac-6de5-47da-b62e-3eef24fbe684",
   "metadata": {
    "execution": {
     "iopub.execute_input": "2022-09-09T01:49:40.747961Z",
     "iopub.status.busy": "2022-09-09T01:49:40.747304Z",
     "iopub.status.idle": "2022-09-09T01:49:58.624873Z",
     "shell.execute_reply": "2022-09-09T01:49:58.624083Z",
     "shell.execute_reply.started": "2022-09-09T01:49:40.747930Z"
    },
    "tags": []
   },
   "outputs": [
    {
     "name": "stdout",
     "output_type": "stream",
     "text": [
      "Shape of embeddings: \t\t(4042, 1280)\n",
      "Length of target label list:\t4042\n",
      "Length of sequential ids list:\t4042\n"
     ]
    }
   ],
   "source": [
    "Xs, ys, sequence_id = fu.read_embeddings(path_fa, path_pt, pool, emb_layer)"
   ]
  },
  {
   "cell_type": "markdown",
   "id": "d575de1a-013e-4f50-9b99-4a155aa55258",
   "metadata": {},
   "source": [
    "Check our data with `check_with_df` function."
   ]
  },
  {
   "cell_type": "code",
   "execution_count": 36,
   "id": "b3357edc-a779-44fb-bf12-a1ae033ef54a",
   "metadata": {
    "execution": {
     "iopub.execute_input": "2022-09-09T01:50:13.704834Z",
     "iopub.status.busy": "2022-09-09T01:50:13.704494Z",
     "iopub.status.idle": "2022-09-09T01:50:13.785022Z",
     "shell.execute_reply": "2022-09-09T01:50:13.784043Z",
     "shell.execute_reply.started": "2022-09-09T01:50:13.704811Z"
    },
    "tags": []
   },
   "outputs": [
    {
     "data": {
      "text/html": [
       "<div>\n",
       "<style scoped>\n",
       "    .dataframe tbody tr th:only-of-type {\n",
       "        vertical-align: middle;\n",
       "    }\n",
       "\n",
       "    .dataframe tbody tr th {\n",
       "        vertical-align: top;\n",
       "    }\n",
       "\n",
       "    .dataframe thead th {\n",
       "        text-align: right;\n",
       "    }\n",
       "</style>\n",
       "<table border=\"1\" class=\"dataframe\">\n",
       "  <thead>\n",
       "    <tr style=\"text-align: right;\">\n",
       "      <th></th>\n",
       "      <th>sequence</th>\n",
       "      <th>0</th>\n",
       "      <th>1</th>\n",
       "      <th>2</th>\n",
       "      <th>3</th>\n",
       "      <th>4</th>\n",
       "      <th>5</th>\n",
       "      <th>6</th>\n",
       "      <th>7</th>\n",
       "      <th>8</th>\n",
       "      <th>...</th>\n",
       "      <th>1271</th>\n",
       "      <th>1272</th>\n",
       "      <th>1273</th>\n",
       "      <th>1274</th>\n",
       "      <th>1275</th>\n",
       "      <th>1276</th>\n",
       "      <th>1277</th>\n",
       "      <th>1278</th>\n",
       "      <th>1279</th>\n",
       "      <th>label</th>\n",
       "    </tr>\n",
       "  </thead>\n",
       "  <tbody>\n",
       "    <tr>\n",
       "      <th>0</th>\n",
       "      <td>AP02484</td>\n",
       "      <td>0.084339</td>\n",
       "      <td>-0.085008</td>\n",
       "      <td>-0.160018</td>\n",
       "      <td>-0.012769</td>\n",
       "      <td>-0.580508</td>\n",
       "      <td>0.268068</td>\n",
       "      <td>0.306808</td>\n",
       "      <td>-0.176000</td>\n",
       "      <td>0.059967</td>\n",
       "      <td>...</td>\n",
       "      <td>-0.183808</td>\n",
       "      <td>0.071751</td>\n",
       "      <td>-0.113516</td>\n",
       "      <td>-0.024507</td>\n",
       "      <td>-0.019659</td>\n",
       "      <td>0.000653</td>\n",
       "      <td>-0.217731</td>\n",
       "      <td>0.292975</td>\n",
       "      <td>-0.068536</td>\n",
       "      <td>1</td>\n",
       "    </tr>\n",
       "    <tr>\n",
       "      <th>1</th>\n",
       "      <td>AP02630</td>\n",
       "      <td>-0.210203</td>\n",
       "      <td>-0.046939</td>\n",
       "      <td>-0.005811</td>\n",
       "      <td>-0.270891</td>\n",
       "      <td>-0.189393</td>\n",
       "      <td>-0.238038</td>\n",
       "      <td>0.074845</td>\n",
       "      <td>0.102332</td>\n",
       "      <td>-0.082589</td>\n",
       "      <td>...</td>\n",
       "      <td>-0.124119</td>\n",
       "      <td>0.170866</td>\n",
       "      <td>0.100142</td>\n",
       "      <td>-0.311002</td>\n",
       "      <td>-0.018382</td>\n",
       "      <td>0.080332</td>\n",
       "      <td>-0.088743</td>\n",
       "      <td>0.118312</td>\n",
       "      <td>-0.096608</td>\n",
       "      <td>1</td>\n",
       "    </tr>\n",
       "    <tr>\n",
       "      <th>...</th>\n",
       "      <td>...</td>\n",
       "      <td>...</td>\n",
       "      <td>...</td>\n",
       "      <td>...</td>\n",
       "      <td>...</td>\n",
       "      <td>...</td>\n",
       "      <td>...</td>\n",
       "      <td>...</td>\n",
       "      <td>...</td>\n",
       "      <td>...</td>\n",
       "      <td>...</td>\n",
       "      <td>...</td>\n",
       "      <td>...</td>\n",
       "      <td>...</td>\n",
       "      <td>...</td>\n",
       "      <td>...</td>\n",
       "      <td>...</td>\n",
       "      <td>...</td>\n",
       "      <td>...</td>\n",
       "      <td>...</td>\n",
       "      <td>...</td>\n",
       "    </tr>\n",
       "    <tr>\n",
       "      <th>4040</th>\n",
       "      <td>UniRef50_Q54H44</td>\n",
       "      <td>-0.194847</td>\n",
       "      <td>0.107679</td>\n",
       "      <td>-0.136121</td>\n",
       "      <td>-0.266417</td>\n",
       "      <td>-1.054611</td>\n",
       "      <td>0.052423</td>\n",
       "      <td>-0.163465</td>\n",
       "      <td>-0.056415</td>\n",
       "      <td>0.215633</td>\n",
       "      <td>...</td>\n",
       "      <td>0.346126</td>\n",
       "      <td>0.259780</td>\n",
       "      <td>-0.328390</td>\n",
       "      <td>-0.254156</td>\n",
       "      <td>0.014044</td>\n",
       "      <td>-0.250382</td>\n",
       "      <td>-0.235456</td>\n",
       "      <td>0.126883</td>\n",
       "      <td>0.005950</td>\n",
       "      <td>0</td>\n",
       "    </tr>\n",
       "    <tr>\n",
       "      <th>4041</th>\n",
       "      <td>UniRef50_Q50L39</td>\n",
       "      <td>-0.111752</td>\n",
       "      <td>0.028765</td>\n",
       "      <td>-0.154828</td>\n",
       "      <td>-0.061214</td>\n",
       "      <td>-0.533987</td>\n",
       "      <td>0.003171</td>\n",
       "      <td>0.089367</td>\n",
       "      <td>-0.115539</td>\n",
       "      <td>-0.045581</td>\n",
       "      <td>...</td>\n",
       "      <td>0.367201</td>\n",
       "      <td>0.056130</td>\n",
       "      <td>-0.168089</td>\n",
       "      <td>-0.124638</td>\n",
       "      <td>0.049767</td>\n",
       "      <td>-0.107238</td>\n",
       "      <td>0.013631</td>\n",
       "      <td>0.112440</td>\n",
       "      <td>0.005164</td>\n",
       "      <td>0</td>\n",
       "    </tr>\n",
       "  </tbody>\n",
       "</table>\n",
       "<p>4042 rows × 1282 columns</p>\n",
       "</div>"
      ],
      "text/plain": [
       "             sequence         0         1         2         3         4  \\\n",
       "0             AP02484  0.084339 -0.085008 -0.160018 -0.012769 -0.580508   \n",
       "1             AP02630 -0.210203 -0.046939 -0.005811 -0.270891 -0.189393   \n",
       "...               ...       ...       ...       ...       ...       ...   \n",
       "4040  UniRef50_Q54H44 -0.194847  0.107679 -0.136121 -0.266417 -1.054611   \n",
       "4041  UniRef50_Q50L39 -0.111752  0.028765 -0.154828 -0.061214 -0.533987   \n",
       "\n",
       "             5         6         7         8  ...      1271      1272  \\\n",
       "0     0.268068  0.306808 -0.176000  0.059967  ... -0.183808  0.071751   \n",
       "1    -0.238038  0.074845  0.102332 -0.082589  ... -0.124119  0.170866   \n",
       "...        ...       ...       ...       ...  ...       ...       ...   \n",
       "4040  0.052423 -0.163465 -0.056415  0.215633  ...  0.346126  0.259780   \n",
       "4041  0.003171  0.089367 -0.115539 -0.045581  ...  0.367201  0.056130   \n",
       "\n",
       "          1273      1274      1275      1276      1277      1278      1279  \\\n",
       "0    -0.113516 -0.024507 -0.019659  0.000653 -0.217731  0.292975 -0.068536   \n",
       "1     0.100142 -0.311002 -0.018382  0.080332 -0.088743  0.118312 -0.096608   \n",
       "...        ...       ...       ...       ...       ...       ...       ...   \n",
       "4040 -0.328390 -0.254156  0.014044 -0.250382 -0.235456  0.126883  0.005950   \n",
       "4041 -0.168089 -0.124638  0.049767 -0.107238  0.013631  0.112440  0.005164   \n",
       "\n",
       "      label  \n",
       "0         1  \n",
       "1         1  \n",
       "...     ...  \n",
       "4040      0  \n",
       "4041      0  \n",
       "\n",
       "[4042 rows x 1282 columns]"
      ]
     },
     "metadata": {},
     "output_type": "display_data"
    }
   ],
   "source": [
    "fu.check_with_df(Xs, ys, sequence_id)"
   ]
  },
  {
   "cell_type": "markdown",
   "id": "e1972857-4d1c-45fc-aded-f300b5711fc0",
   "metadata": {},
   "source": [
    "<br>\n",
    "\n",
    "### ESM-1b model - esm1b_t33_650M_UR50S"
   ]
  },
  {
   "cell_type": "markdown",
   "id": "22000aca-2e62-45b6-b73f-5ed6447f73cf",
   "metadata": {},
   "source": [
    "Update arguments and prepare paths"
   ]
  },
  {
   "cell_type": "code",
   "execution_count": 37,
   "id": "f659e082-4ccb-409a-ba61-24eb4829943c",
   "metadata": {
    "execution": {
     "iopub.execute_input": "2022-09-09T01:53:56.289247Z",
     "iopub.status.busy": "2022-09-09T01:53:56.288917Z",
     "iopub.status.idle": "2022-09-09T01:53:56.296612Z",
     "shell.execute_reply": "2022-09-09T01:53:56.295866Z",
     "shell.execute_reply.started": "2022-09-09T01:53:56.289222Z"
    },
    "tags": []
   },
   "outputs": [
    {
     "name": "stdout",
     "output_type": "stream",
     "text": [
      " ../data/amp/all_data.fa \n",
      " ../data/amp/esm/all_data/amp_all_esm1b_mean\n"
     ]
    }
   ],
   "source": [
    "# Update arguments\n",
    "model = 'esm1b_t33_650M_UR50S' \n",
    "# Prepare paths\n",
    "path_pt, _, path_fa = fu.file_paths(ptmodel, task, file_base, model, pool)\n",
    "print('', path_fa, '\\n', path_pt)"
   ]
  },
  {
   "cell_type": "markdown",
   "id": "31a7e321-d643-4c70-8ecb-db50b89ceb0c",
   "metadata": {},
   "source": [
    "Extract embeddings with `read_embeddings` function."
   ]
  },
  {
   "cell_type": "code",
   "execution_count": 38,
   "id": "0bdfa1d5-e553-4a20-bb2b-d6fb17dd542a",
   "metadata": {
    "execution": {
     "iopub.execute_input": "2022-09-09T01:54:17.736185Z",
     "iopub.status.busy": "2022-09-09T01:54:17.735870Z",
     "iopub.status.idle": "2022-09-09T01:55:05.113129Z",
     "shell.execute_reply": "2022-09-09T01:55:05.112293Z",
     "shell.execute_reply.started": "2022-09-09T01:54:17.736165Z"
    },
    "tags": []
   },
   "outputs": [
    {
     "name": "stdout",
     "output_type": "stream",
     "text": [
      "Shape of embeddings: \t\t(4042, 1280)\n",
      "Length of target label list:\t4042\n",
      "Length of sequential ids list:\t4042\n"
     ]
    }
   ],
   "source": [
    "Xs, ys, sequence_id = fu.read_embeddings(path_fa, path_pt, pool, emb_layer)"
   ]
  },
  {
   "cell_type": "markdown",
   "id": "8bb0cf59-d6e0-410a-8b4d-fa4024e77705",
   "metadata": {},
   "source": [
    "Check our data with `check_with_df` function."
   ]
  },
  {
   "cell_type": "code",
   "execution_count": 39,
   "id": "86f10819-3ff3-419d-bc94-47531c5e1df4",
   "metadata": {
    "execution": {
     "iopub.execute_input": "2022-09-09T01:55:51.587876Z",
     "iopub.status.busy": "2022-09-09T01:55:51.587550Z",
     "iopub.status.idle": "2022-09-09T01:55:51.658963Z",
     "shell.execute_reply": "2022-09-09T01:55:51.657753Z",
     "shell.execute_reply.started": "2022-09-09T01:55:51.587855Z"
    },
    "tags": []
   },
   "outputs": [
    {
     "data": {
      "text/html": [
       "<div>\n",
       "<style scoped>\n",
       "    .dataframe tbody tr th:only-of-type {\n",
       "        vertical-align: middle;\n",
       "    }\n",
       "\n",
       "    .dataframe tbody tr th {\n",
       "        vertical-align: top;\n",
       "    }\n",
       "\n",
       "    .dataframe thead th {\n",
       "        text-align: right;\n",
       "    }\n",
       "</style>\n",
       "<table border=\"1\" class=\"dataframe\">\n",
       "  <thead>\n",
       "    <tr style=\"text-align: right;\">\n",
       "      <th></th>\n",
       "      <th>sequence</th>\n",
       "      <th>0</th>\n",
       "      <th>1</th>\n",
       "      <th>2</th>\n",
       "      <th>3</th>\n",
       "      <th>4</th>\n",
       "      <th>5</th>\n",
       "      <th>6</th>\n",
       "      <th>7</th>\n",
       "      <th>8</th>\n",
       "      <th>...</th>\n",
       "      <th>1271</th>\n",
       "      <th>1272</th>\n",
       "      <th>1273</th>\n",
       "      <th>1274</th>\n",
       "      <th>1275</th>\n",
       "      <th>1276</th>\n",
       "      <th>1277</th>\n",
       "      <th>1278</th>\n",
       "      <th>1279</th>\n",
       "      <th>label</th>\n",
       "    </tr>\n",
       "  </thead>\n",
       "  <tbody>\n",
       "    <tr>\n",
       "      <th>0</th>\n",
       "      <td>AP02484</td>\n",
       "      <td>-0.082861</td>\n",
       "      <td>0.065592</td>\n",
       "      <td>0.070587</td>\n",
       "      <td>0.110821</td>\n",
       "      <td>-0.141855</td>\n",
       "      <td>-0.203780</td>\n",
       "      <td>0.052344</td>\n",
       "      <td>-0.161724</td>\n",
       "      <td>-0.092577</td>\n",
       "      <td>...</td>\n",
       "      <td>-0.084342</td>\n",
       "      <td>0.049048</td>\n",
       "      <td>-0.102408</td>\n",
       "      <td>-0.849814</td>\n",
       "      <td>0.030440</td>\n",
       "      <td>0.134961</td>\n",
       "      <td>0.004792</td>\n",
       "      <td>0.063991</td>\n",
       "      <td>0.029604</td>\n",
       "      <td>1</td>\n",
       "    </tr>\n",
       "    <tr>\n",
       "      <th>1</th>\n",
       "      <td>AP02630</td>\n",
       "      <td>-0.060575</td>\n",
       "      <td>0.146167</td>\n",
       "      <td>0.096243</td>\n",
       "      <td>0.054418</td>\n",
       "      <td>-0.027555</td>\n",
       "      <td>-0.068356</td>\n",
       "      <td>0.060887</td>\n",
       "      <td>0.159950</td>\n",
       "      <td>-0.125833</td>\n",
       "      <td>...</td>\n",
       "      <td>0.054181</td>\n",
       "      <td>-0.002241</td>\n",
       "      <td>-0.018633</td>\n",
       "      <td>-0.634573</td>\n",
       "      <td>-0.125386</td>\n",
       "      <td>0.059756</td>\n",
       "      <td>0.172722</td>\n",
       "      <td>0.095655</td>\n",
       "      <td>0.135376</td>\n",
       "      <td>1</td>\n",
       "    </tr>\n",
       "    <tr>\n",
       "      <th>...</th>\n",
       "      <td>...</td>\n",
       "      <td>...</td>\n",
       "      <td>...</td>\n",
       "      <td>...</td>\n",
       "      <td>...</td>\n",
       "      <td>...</td>\n",
       "      <td>...</td>\n",
       "      <td>...</td>\n",
       "      <td>...</td>\n",
       "      <td>...</td>\n",
       "      <td>...</td>\n",
       "      <td>...</td>\n",
       "      <td>...</td>\n",
       "      <td>...</td>\n",
       "      <td>...</td>\n",
       "      <td>...</td>\n",
       "      <td>...</td>\n",
       "      <td>...</td>\n",
       "      <td>...</td>\n",
       "      <td>...</td>\n",
       "      <td>...</td>\n",
       "    </tr>\n",
       "    <tr>\n",
       "      <th>4040</th>\n",
       "      <td>UniRef50_Q54H44</td>\n",
       "      <td>-0.049084</td>\n",
       "      <td>0.136789</td>\n",
       "      <td>0.004329</td>\n",
       "      <td>-0.079083</td>\n",
       "      <td>0.215748</td>\n",
       "      <td>0.154155</td>\n",
       "      <td>0.046304</td>\n",
       "      <td>-0.014131</td>\n",
       "      <td>0.209034</td>\n",
       "      <td>...</td>\n",
       "      <td>-0.196847</td>\n",
       "      <td>-0.264772</td>\n",
       "      <td>-0.088322</td>\n",
       "      <td>-1.158075</td>\n",
       "      <td>-0.042665</td>\n",
       "      <td>0.077199</td>\n",
       "      <td>0.010362</td>\n",
       "      <td>-0.058461</td>\n",
       "      <td>-0.126261</td>\n",
       "      <td>0</td>\n",
       "    </tr>\n",
       "    <tr>\n",
       "      <th>4041</th>\n",
       "      <td>UniRef50_Q50L39</td>\n",
       "      <td>0.071070</td>\n",
       "      <td>0.176068</td>\n",
       "      <td>-0.007601</td>\n",
       "      <td>0.141909</td>\n",
       "      <td>-0.021336</td>\n",
       "      <td>-0.170452</td>\n",
       "      <td>-0.089157</td>\n",
       "      <td>0.042029</td>\n",
       "      <td>-0.075111</td>\n",
       "      <td>...</td>\n",
       "      <td>0.088693</td>\n",
       "      <td>-0.130390</td>\n",
       "      <td>0.119437</td>\n",
       "      <td>-1.621088</td>\n",
       "      <td>0.175110</td>\n",
       "      <td>0.131705</td>\n",
       "      <td>-0.089250</td>\n",
       "      <td>0.065559</td>\n",
       "      <td>0.045723</td>\n",
       "      <td>0</td>\n",
       "    </tr>\n",
       "  </tbody>\n",
       "</table>\n",
       "<p>4042 rows × 1282 columns</p>\n",
       "</div>"
      ],
      "text/plain": [
       "             sequence         0         1         2         3         4  \\\n",
       "0             AP02484 -0.082861  0.065592  0.070587  0.110821 -0.141855   \n",
       "1             AP02630 -0.060575  0.146167  0.096243  0.054418 -0.027555   \n",
       "...               ...       ...       ...       ...       ...       ...   \n",
       "4040  UniRef50_Q54H44 -0.049084  0.136789  0.004329 -0.079083  0.215748   \n",
       "4041  UniRef50_Q50L39  0.071070  0.176068 -0.007601  0.141909 -0.021336   \n",
       "\n",
       "             5         6         7         8  ...      1271      1272  \\\n",
       "0    -0.203780  0.052344 -0.161724 -0.092577  ... -0.084342  0.049048   \n",
       "1    -0.068356  0.060887  0.159950 -0.125833  ...  0.054181 -0.002241   \n",
       "...        ...       ...       ...       ...  ...       ...       ...   \n",
       "4040  0.154155  0.046304 -0.014131  0.209034  ... -0.196847 -0.264772   \n",
       "4041 -0.170452 -0.089157  0.042029 -0.075111  ...  0.088693 -0.130390   \n",
       "\n",
       "          1273      1274      1275      1276      1277      1278      1279  \\\n",
       "0    -0.102408 -0.849814  0.030440  0.134961  0.004792  0.063991  0.029604   \n",
       "1    -0.018633 -0.634573 -0.125386  0.059756  0.172722  0.095655  0.135376   \n",
       "...        ...       ...       ...       ...       ...       ...       ...   \n",
       "4040 -0.088322 -1.158075 -0.042665  0.077199  0.010362 -0.058461 -0.126261   \n",
       "4041  0.119437 -1.621088  0.175110  0.131705 -0.089250  0.065559  0.045723   \n",
       "\n",
       "      label  \n",
       "0         1  \n",
       "1         1  \n",
       "...     ...  \n",
       "4040      0  \n",
       "4041      0  \n",
       "\n",
       "[4042 rows x 1282 columns]"
      ]
     },
     "metadata": {},
     "output_type": "display_data"
    }
   ],
   "source": [
    "fu.check_with_df(Xs, ys, sequence_id)"
   ]
  }
 ],
 "metadata": {
  "kernelspec": {
   "display_name": "sa",
   "language": "python",
   "name": "conda-env-sa-py"
  },
  "language_info": {
   "codemirror_mode": {
    "name": "ipython",
    "version": 3
   },
   "file_extension": ".py",
   "mimetype": "text/x-python",
   "name": "python",
   "nbconvert_exporter": "python",
   "pygments_lexer": "ipython3",
   "version": "3.8.13"
  },
  "widgets": {
   "application/vnd.jupyter.widget-state+json": {
    "state": {},
    "version_major": 2,
    "version_minor": 0
   }
  }
 },
 "nbformat": 4,
 "nbformat_minor": 5
}
