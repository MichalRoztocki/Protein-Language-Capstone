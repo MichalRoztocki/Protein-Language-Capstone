{
 "cells": [
  {
   "cell_type": "markdown",
   "metadata": {},
   "source": [
    "# Results of Exploratory Data Analysis on ACP, AMP, and DBP datasets"
   ]
  },
  {
   "cell_type": "markdown",
   "metadata": {},
   "source": [
    "## Dataset Sizes\n",
    "\n",
    "| ACP | AMP | DBP |\n",
    "| --- | --- | --- |\n",
    "| Train: 1378 (80%) | All: 4042 (100%) | Train: 14189 (86%) |\n",
    "| Test: 344 (20%) |  | Test: 2272 (14%) |"
   ]
  },
  {
   "cell_type": "markdown",
   "metadata": {},
   "source": [
    "## Dataset columns/features\n",
    "\n",
    "| ACP | AMP | DBP |\n",
    "| --- | --- | --- |\n",
    "| `sequences`, `label` | `PDBs_code`, `SequenceID`, `label` | `code`, `sequence`, `label`, `origin` |"
   ]
  },
  {
   "cell_type": "markdown",
   "metadata": {},
   "source": []
  }
 ],
 "metadata": {
  "kernelspec": {
   "display_name": "Python 3.8.13 ('mle-course')",
   "language": "python",
   "name": "python3"
  },
  "language_info": {
   "name": "python",
   "version": "3.8.13"
  },
  "orig_nbformat": 4,
  "vscode": {
   "interpreter": {
    "hash": "227e226d2f65f05b8b2318de3eba0105a0c14a31aac345a5e995edf88d8cbb66"
   }
  }
 },
 "nbformat": 4,
 "nbformat_minor": 2
}
