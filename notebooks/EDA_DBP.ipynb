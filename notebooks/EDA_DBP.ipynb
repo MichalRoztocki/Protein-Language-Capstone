{
 "cells": [
  {
   "cell_type": "markdown",
   "metadata": {},
   "source": [
    "## Exploratory Data Analysis - DNA-Binding Proteins"
   ]
  },
  {
   "cell_type": "code",
   "execution_count": 1,
   "metadata": {},
   "outputs": [],
   "source": [
    "import pandas as pd\n",
    "import matplotlib.pyplot as plt\n",
    "import seaborn as sns\n",
    "\n",
    "%matplotlib inline"
   ]
  },
  {
   "cell_type": "markdown",
   "metadata": {},
   "source": [
    "Allow multiple outputs from each cell."
   ]
  },
  {
   "cell_type": "code",
   "execution_count": 2,
   "metadata": {},
   "outputs": [],
   "source": [
    "from IPython.core.interactiveshell import InteractiveShell\n",
    "InteractiveShell.ast_node_interactivity = \"all\""
   ]
  },
  {
   "cell_type": "markdown",
   "metadata": {},
   "source": [
    "Load in train and test datasets."
   ]
  },
  {
   "cell_type": "code",
   "execution_count": 3,
   "metadata": {},
   "outputs": [
    {
     "name": "stdout",
     "output_type": "stream",
     "text": [
      "Train dataset shape: (14189, 4)\n",
      "Test dataset shape: (2272, 4)\n",
      "Train-test split: 86% Train, 14% Test\n"
     ]
    }
   ],
   "source": [
    "df_train = pd.read_csv(\"../data/dna_binding/train.csv\")\n",
    "df_test = pd.read_csv(\"../data/dna_binding/test.csv\")\n",
    "\n",
    "print(f\"Train dataset shape: {df_train.shape}\")\n",
    "print(f\"Test dataset shape: {df_test.shape}\")\n",
    "\n",
    "train_per = round(100*(df_train.shape[0]/(df_train.shape[0]+df_test.shape[0])))\n",
    "print(f\"Train-test split: {train_per}% Train, {100-train_per}% Test\")"
   ]
  },
  {
   "cell_type": "markdown",
   "metadata": {},
   "source": [
    "Take a look at the format of the data."
   ]
  },
  {
   "cell_type": "code",
   "execution_count": 4,
   "metadata": {},
   "outputs": [
    {
     "data": {
      "text/html": [
       "<div>\n",
       "<style scoped>\n",
       "    .dataframe tbody tr th:only-of-type {\n",
       "        vertical-align: middle;\n",
       "    }\n",
       "\n",
       "    .dataframe tbody tr th {\n",
       "        vertical-align: top;\n",
       "    }\n",
       "\n",
       "    .dataframe thead th {\n",
       "        text-align: right;\n",
       "    }\n",
       "</style>\n",
       "<table border=\"1\" class=\"dataframe\">\n",
       "  <thead>\n",
       "    <tr style=\"text-align: right;\">\n",
       "      <th></th>\n",
       "      <th>code</th>\n",
       "      <th>sequence</th>\n",
       "      <th>label</th>\n",
       "      <th>origin</th>\n",
       "    </tr>\n",
       "  </thead>\n",
       "  <tbody>\n",
       "    <tr>\n",
       "      <th>0</th>\n",
       "      <td>P27204|1</td>\n",
       "      <td>AKKRSRSRKRSASRKRSRSRKRSASKKSSKKHVRKALAAGMKNHLL...</td>\n",
       "      <td>1</td>\n",
       "      <td>https://github.com/hfuulgb/PDB-Fusion/tree/mai...</td>\n",
       "    </tr>\n",
       "    <tr>\n",
       "      <th>1</th>\n",
       "      <td>P53528|1</td>\n",
       "      <td>MVMVVNPLTAGLDDEQREAVLAPRGPVCVLAGAGTGKTRTITHRIA...</td>\n",
       "      <td>1</td>\n",
       "      <td>https://github.com/hfuulgb/PDB-Fusion/tree/mai...</td>\n",
       "    </tr>\n",
       "    <tr>\n",
       "      <th>2</th>\n",
       "      <td>P52684|1</td>\n",
       "      <td>MKDDINQEITFRKLSVFMMFMAKGNIARTAEAMKLSSVSVHRALHT...</td>\n",
       "      <td>1</td>\n",
       "      <td>https://github.com/hfuulgb/PDB-Fusion/tree/mai...</td>\n",
       "    </tr>\n",
       "    <tr>\n",
       "      <th>3</th>\n",
       "      <td>P10961|1</td>\n",
       "      <td>MNNAANTGTTNESNVSDAPRIEPLPSLNDDDIEKILQPNDIFTTDR...</td>\n",
       "      <td>1</td>\n",
       "      <td>https://github.com/hfuulgb/PDB-Fusion/tree/mai...</td>\n",
       "    </tr>\n",
       "    <tr>\n",
       "      <th>4</th>\n",
       "      <td>P06023|1</td>\n",
       "      <td>MAKPAKRIKSAAAAYVPQNRDAVITDIKRIGDLQREASRLETEMND...</td>\n",
       "      <td>1</td>\n",
       "      <td>https://github.com/hfuulgb/PDB-Fusion/tree/mai...</td>\n",
       "    </tr>\n",
       "  </tbody>\n",
       "</table>\n",
       "</div>"
      ],
      "text/plain": [
       "       code                                           sequence  label  \\\n",
       "0  P27204|1  AKKRSRSRKRSASRKRSRSRKRSASKKSSKKHVRKALAAGMKNHLL...      1   \n",
       "1  P53528|1  MVMVVNPLTAGLDDEQREAVLAPRGPVCVLAGAGTGKTRTITHRIA...      1   \n",
       "2  P52684|1  MKDDINQEITFRKLSVFMMFMAKGNIARTAEAMKLSSVSVHRALHT...      1   \n",
       "3  P10961|1  MNNAANTGTTNESNVSDAPRIEPLPSLNDDDIEKILQPNDIFTTDR...      1   \n",
       "4  P06023|1  MAKPAKRIKSAAAAYVPQNRDAVITDIKRIGDLQREASRLETEMND...      1   \n",
       "\n",
       "                                              origin  \n",
       "0  https://github.com/hfuulgb/PDB-Fusion/tree/mai...  \n",
       "1  https://github.com/hfuulgb/PDB-Fusion/tree/mai...  \n",
       "2  https://github.com/hfuulgb/PDB-Fusion/tree/mai...  \n",
       "3  https://github.com/hfuulgb/PDB-Fusion/tree/mai...  \n",
       "4  https://github.com/hfuulgb/PDB-Fusion/tree/mai...  "
      ]
     },
     "execution_count": 4,
     "metadata": {},
     "output_type": "execute_result"
    }
   ],
   "source": [
    "df_test.head()"
   ]
  },
  {
   "cell_type": "code",
   "execution_count": 66,
   "metadata": {},
   "outputs": [
    {
     "data": {
      "text/html": [
       "<div>\n",
       "<style scoped>\n",
       "    .dataframe tbody tr th:only-of-type {\n",
       "        vertical-align: middle;\n",
       "    }\n",
       "\n",
       "    .dataframe tbody tr th {\n",
       "        vertical-align: top;\n",
       "    }\n",
       "\n",
       "    .dataframe thead th {\n",
       "        text-align: right;\n",
       "    }\n",
       "</style>\n",
       "<table border=\"1\" class=\"dataframe\">\n",
       "  <thead>\n",
       "    <tr style=\"text-align: right;\">\n",
       "      <th></th>\n",
       "      <th>code</th>\n",
       "      <th>sequence</th>\n",
       "      <th>label</th>\n",
       "      <th>origin</th>\n",
       "    </tr>\n",
       "  </thead>\n",
       "  <tbody>\n",
       "    <tr>\n",
       "      <th>0</th>\n",
       "      <td>Q6A8L0</td>\n",
       "      <td>MSGHSKWATTKHKKAAIDAKRGKLFARLIKNIEVAARLGGGDPSGN...</td>\n",
       "      <td>1</td>\n",
       "      <td>https://github.com/hfuulgb/PDB-Fusion/tree/mai...</td>\n",
       "    </tr>\n",
       "    <tr>\n",
       "      <th>1</th>\n",
       "      <td>Q7V7T9</td>\n",
       "      <td>MIGWLQGQKVEAWQQGTRQGVVLACAGVGYEVQIAPRHLSEMEHGQ...</td>\n",
       "      <td>1</td>\n",
       "      <td>https://github.com/hfuulgb/PDB-Fusion/tree/mai...</td>\n",
       "    </tr>\n",
       "    <tr>\n",
       "      <th>2</th>\n",
       "      <td>Q9ZUP2</td>\n",
       "      <td>MARILRNVYSLRSSLFSSELLRRSVVGTSFQLRGFAAKAKKKSKSD...</td>\n",
       "      <td>1</td>\n",
       "      <td>https://github.com/hfuulgb/PDB-Fusion/tree/mai...</td>\n",
       "    </tr>\n",
       "    <tr>\n",
       "      <th>3</th>\n",
       "      <td>Q2JVG1</td>\n",
       "      <td>MKCPRCGKQEIRVLESRSAEGGQSVRRRRECMSCGYRFTTYERIEF...</td>\n",
       "      <td>1</td>\n",
       "      <td>https://github.com/hfuulgb/PDB-Fusion/tree/mai...</td>\n",
       "    </tr>\n",
       "    <tr>\n",
       "      <th>4</th>\n",
       "      <td>Q9K4Q3</td>\n",
       "      <td>MTKADIIEGVYEKVGFSKKESAEIVELVFDTLKETLERGDKIKISG...</td>\n",
       "      <td>1</td>\n",
       "      <td>https://github.com/hfuulgb/PDB-Fusion/tree/mai...</td>\n",
       "    </tr>\n",
       "  </tbody>\n",
       "</table>\n",
       "</div>"
      ],
      "text/plain": [
       "     code                                           sequence  label  \\\n",
       "0  Q6A8L0  MSGHSKWATTKHKKAAIDAKRGKLFARLIKNIEVAARLGGGDPSGN...      1   \n",
       "1  Q7V7T9  MIGWLQGQKVEAWQQGTRQGVVLACAGVGYEVQIAPRHLSEMEHGQ...      1   \n",
       "2  Q9ZUP2  MARILRNVYSLRSSLFSSELLRRSVVGTSFQLRGFAAKAKKKSKSD...      1   \n",
       "3  Q2JVG1  MKCPRCGKQEIRVLESRSAEGGQSVRRRRECMSCGYRFTTYERIEF...      1   \n",
       "4  Q9K4Q3  MTKADIIEGVYEKVGFSKKESAEIVELVFDTLKETLERGDKIKISG...      1   \n",
       "\n",
       "                                              origin  \n",
       "0  https://github.com/hfuulgb/PDB-Fusion/tree/mai...  \n",
       "1  https://github.com/hfuulgb/PDB-Fusion/tree/mai...  \n",
       "2  https://github.com/hfuulgb/PDB-Fusion/tree/mai...  \n",
       "3  https://github.com/hfuulgb/PDB-Fusion/tree/mai...  \n",
       "4  https://github.com/hfuulgb/PDB-Fusion/tree/mai...  "
      ]
     },
     "execution_count": 66,
     "metadata": {},
     "output_type": "execute_result"
    },
    {
     "data": {
      "text/plain": [
       "code        object\n",
       "sequence    object\n",
       "label        int64\n",
       "origin      object\n",
       "dtype: object"
      ]
     },
     "execution_count": 66,
     "metadata": {},
     "output_type": "execute_result"
    },
    {
     "name": "stdout",
     "output_type": "stream",
     "text": [
      "Unique values of label: [1 0]\n"
     ]
    }
   ],
   "source": [
    "df_train.head()\n",
    "df_train.dtypes\n",
    "print(f\"Unique values of label: {df_train.label.unique()}\")"
   ]
  },
  {
   "cell_type": "code",
   "execution_count": 67,
   "metadata": {},
   "outputs": [
    {
     "data": {
      "text/plain": [
       "array(['https://github.com/hfuulgb/PDB-Fusion/tree/main/DNA'],\n",
       "      dtype=object)"
      ]
     },
     "execution_count": 67,
     "metadata": {},
     "output_type": "execute_result"
    },
    {
     "data": {
      "text/plain": [
       "array(['https://github.com/hfuulgb/PDB-Fusion/tree/main/DNA'],\n",
       "      dtype=object)"
      ]
     },
     "execution_count": 67,
     "metadata": {},
     "output_type": "execute_result"
    }
   ],
   "source": [
    "df_train.origin.unique()\n",
    "df_test.origin.unique()"
   ]
  },
  {
   "cell_type": "markdown",
   "metadata": {},
   "source": [
    "All sequences come from the same source, so this column can be safely removed."
   ]
  },
  {
   "cell_type": "code",
   "execution_count": 68,
   "metadata": {},
   "outputs": [],
   "source": [
    "df_train = df_train.drop(\"origin\", axis=1)\n",
    "df_test = df_test.drop(\"origin\", axis=1)"
   ]
  },
  {
   "cell_type": "markdown",
   "metadata": {},
   "source": [
    "Making sure there are no duplicate proteins."
   ]
  },
  {
   "cell_type": "code",
   "execution_count": 69,
   "metadata": {},
   "outputs": [
    {
     "data": {
      "text/plain": [
       "173"
      ]
     },
     "execution_count": 69,
     "metadata": {},
     "output_type": "execute_result"
    },
    {
     "data": {
      "text/plain": [
       "0"
      ]
     },
     "execution_count": 69,
     "metadata": {},
     "output_type": "execute_result"
    }
   ],
   "source": [
    "df_train.sequence.duplicated().sum()\n",
    "df_test.sequence.duplicated().sum()"
   ]
  },
  {
   "cell_type": "code",
   "execution_count": 70,
   "metadata": {},
   "outputs": [
    {
     "data": {
      "text/html": [
       "<div>\n",
       "<style scoped>\n",
       "    .dataframe tbody tr th:only-of-type {\n",
       "        vertical-align: middle;\n",
       "    }\n",
       "\n",
       "    .dataframe tbody tr th {\n",
       "        vertical-align: top;\n",
       "    }\n",
       "\n",
       "    .dataframe thead th {\n",
       "        text-align: right;\n",
       "    }\n",
       "</style>\n",
       "<table border=\"1\" class=\"dataframe\">\n",
       "  <thead>\n",
       "    <tr style=\"text-align: right;\">\n",
       "      <th></th>\n",
       "      <th>code</th>\n",
       "      <th>sequence</th>\n",
       "      <th>label</th>\n",
       "    </tr>\n",
       "  </thead>\n",
       "  <tbody>\n",
       "    <tr>\n",
       "      <th>13064</th>\n",
       "      <td>Q0VCF9</td>\n",
       "      <td>MAAPPGEYFSVGSQVSCRTCQEQRLQGEVVAFDYQSKMLALKCPSS...</td>\n",
       "      <td>0</td>\n",
       "    </tr>\n",
       "    <tr>\n",
       "      <th>13251</th>\n",
       "      <td>B2S532</td>\n",
       "      <td>MAATSAQHIGLQGHGTSRNDRDRRLVRYWLYAVFAVLIAIVMVGGA...</td>\n",
       "      <td>0</td>\n",
       "    </tr>\n",
       "    <tr>\n",
       "      <th>10662</th>\n",
       "      <td>P62200</td>\n",
       "      <td>MADQLTDDQISEFKEAFSLFDKDGDGCITTKELGTVMRSLGQNPTE...</td>\n",
       "      <td>0</td>\n",
       "    </tr>\n",
       "    <tr>\n",
       "      <th>12717</th>\n",
       "      <td>B1I8K3</td>\n",
       "      <td>MAEITSAKAMARTVRVSPRKSRLVLDNIRGKSVADAIAILTFTPNK...</td>\n",
       "      <td>0</td>\n",
       "    </tr>\n",
       "    <tr>\n",
       "      <th>12578</th>\n",
       "      <td>Q02W29</td>\n",
       "      <td>MAEITSAKATAKTVRVSPRKTRLVIDLIRGKRVADAIAILKFTPTK...</td>\n",
       "      <td>0</td>\n",
       "    </tr>\n",
       "    <tr>\n",
       "      <th>...</th>\n",
       "      <td>...</td>\n",
       "      <td>...</td>\n",
       "      <td>...</td>\n",
       "    </tr>\n",
       "    <tr>\n",
       "      <th>12991</th>\n",
       "      <td>B5XLG8</td>\n",
       "      <td>MVIDKSIPKATAKRLSLYYRIFKRFHADQVEKASSKQIADAMGIDS...</td>\n",
       "      <td>0</td>\n",
       "    </tr>\n",
       "    <tr>\n",
       "      <th>7935</th>\n",
       "      <td>P66686</td>\n",
       "      <td>MVKLAFPRELRLLTPAHFTFVFQQPQRAGTPQITILGRLNSLGHPR...</td>\n",
       "      <td>0</td>\n",
       "    </tr>\n",
       "    <tr>\n",
       "      <th>9500</th>\n",
       "      <td>A3DB95</td>\n",
       "      <td>MVYSYSEKKRIRKDFGKRPKVLDIPYLLSIQLDSFKKFTDQDPTGE...</td>\n",
       "      <td>0</td>\n",
       "    </tr>\n",
       "    <tr>\n",
       "      <th>8304</th>\n",
       "      <td>Q5PLB4</td>\n",
       "      <td>MYAVFQSGGKQHRVSEGQTVRLEKLDIATGETIEFAEVLMIANGEE...</td>\n",
       "      <td>0</td>\n",
       "    </tr>\n",
       "    <tr>\n",
       "      <th>14051</th>\n",
       "      <td>Q31W63</td>\n",
       "      <td>MYAVFQSGGKQHRVSEGQTVRLEKLDIATGETVEFAEVLMIANGEE...</td>\n",
       "      <td>0</td>\n",
       "    </tr>\n",
       "  </tbody>\n",
       "</table>\n",
       "<p>173 rows × 3 columns</p>\n",
       "</div>"
      ],
      "text/plain": [
       "         code                                           sequence  label\n",
       "13064  Q0VCF9  MAAPPGEYFSVGSQVSCRTCQEQRLQGEVVAFDYQSKMLALKCPSS...      0\n",
       "13251  B2S532  MAATSAQHIGLQGHGTSRNDRDRRLVRYWLYAVFAVLIAIVMVGGA...      0\n",
       "10662  P62200  MADQLTDDQISEFKEAFSLFDKDGDGCITTKELGTVMRSLGQNPTE...      0\n",
       "12717  B1I8K3  MAEITSAKAMARTVRVSPRKSRLVLDNIRGKSVADAIAILTFTPNK...      0\n",
       "12578  Q02W29  MAEITSAKATAKTVRVSPRKTRLVIDLIRGKRVADAIAILKFTPTK...      0\n",
       "...       ...                                                ...    ...\n",
       "12991  B5XLG8  MVIDKSIPKATAKRLSLYYRIFKRFHADQVEKASSKQIADAMGIDS...      0\n",
       "7935   P66686  MVKLAFPRELRLLTPAHFTFVFQQPQRAGTPQITILGRLNSLGHPR...      0\n",
       "9500   A3DB95  MVYSYSEKKRIRKDFGKRPKVLDIPYLLSIQLDSFKKFTDQDPTGE...      0\n",
       "8304   Q5PLB4  MYAVFQSGGKQHRVSEGQTVRLEKLDIATGETIEFAEVLMIANGEE...      0\n",
       "14051  Q31W63  MYAVFQSGGKQHRVSEGQTVRLEKLDIATGETVEFAEVLMIANGEE...      0\n",
       "\n",
       "[173 rows x 3 columns]"
      ]
     },
     "execution_count": 70,
     "metadata": {},
     "output_type": "execute_result"
    }
   ],
   "source": [
    "df_train[df_train.sequence.duplicated()].sort_values(by=\"sequence\")"
   ]
  },
  {
   "cell_type": "code",
   "execution_count": 71,
   "metadata": {},
   "outputs": [
    {
     "data": {
      "text/plain": [
       "0    173\n",
       "Name: label, dtype: int64"
      ]
     },
     "execution_count": 71,
     "metadata": {},
     "output_type": "execute_result"
    }
   ],
   "source": [
    "df_train[df_train.sequence.duplicated()].label.value_counts()"
   ]
  },
  {
   "cell_type": "markdown",
   "metadata": {},
   "source": [
    "Interestingly enough, all of the duplicated proteins are in the negative class - non-dna-binding proteins. "
   ]
  },
  {
   "cell_type": "code",
   "execution_count": 72,
   "metadata": {},
   "outputs": [
    {
     "data": {
      "text/plain": [
       "'MYAVFQSGGKQHRVSEGQTVRLEKLDIATGETIEFAEVLMIANGEEVKIGIPFVDGGVIKAEVVAHGRGEKVKIVKFRRRKHYRKQQGHRQWFTDVKITGISA'"
      ]
     },
     "execution_count": 72,
     "metadata": {},
     "output_type": "execute_result"
    },
    {
     "data": {
      "text/plain": [
       "'MYAVFQSGGKQHRVSEGQTVRLEKLDIATGETVEFAEVLMIANGEEVKIGVPFVDGGVIKAEVVAHGRGEKVKIVKFRRRKHYRKQQGHRQWFTDVKITGISA'"
      ]
     },
     "execution_count": 72,
     "metadata": {},
     "output_type": "execute_result"
    },
    {
     "data": {
      "text/plain": [
       "'Q5PLB4'"
      ]
     },
     "execution_count": 72,
     "metadata": {},
     "output_type": "execute_result"
    },
    {
     "data": {
      "text/plain": [
       "'Q31W63'"
      ]
     },
     "execution_count": 72,
     "metadata": {},
     "output_type": "execute_result"
    }
   ],
   "source": [
    "# Random example of duplicate\n",
    "df_train.loc[8304].sequence\n",
    "df_train.loc[14051].sequence\n",
    "df_train.loc[8304].code\n",
    "df_train.loc[14051].code"
   ]
  },
  {
   "cell_type": "code",
   "execution_count": 74,
   "metadata": {},
   "outputs": [
    {
     "data": {
      "text/plain": [
       "(312, 3)"
      ]
     },
     "execution_count": 74,
     "metadata": {},
     "output_type": "execute_result"
    },
    {
     "data": {
      "text/plain": [
       "312"
      ]
     },
     "execution_count": 74,
     "metadata": {},
     "output_type": "execute_result"
    }
   ],
   "source": [
    "df_train[df_train.sequence.duplicated(keep=False)].shape\n",
    "df_train[df_train.sequence.duplicated(keep=False)].code.nunique()"
   ]
  },
  {
   "cell_type": "markdown",
   "metadata": {},
   "source": [
    "Another interesting discovery: the duplicates all have different codes, despite having identical sequences."
   ]
  },
  {
   "cell_type": "markdown",
   "metadata": {},
   "source": [
    "Remove duplicates"
   ]
  },
  {
   "cell_type": "code",
   "execution_count": 59,
   "metadata": {},
   "outputs": [
    {
     "data": {
      "text/plain": [
       "(14016, 3)"
      ]
     },
     "execution_count": 59,
     "metadata": {},
     "output_type": "execute_result"
    }
   ],
   "source": [
    "df_train = df_train.drop_duplicates([\"sequence\"])\n",
    "df_train.shape"
   ]
  },
  {
   "cell_type": "markdown",
   "metadata": {},
   "source": [
    "Check for distribution of classes to identify potential imbalances."
   ]
  },
  {
   "cell_type": "code",
   "execution_count": 61,
   "metadata": {},
   "outputs": [
    {
     "data": {
      "text/plain": [
       "1    7129\n",
       "0    6887\n",
       "Name: label, dtype: int64"
      ]
     },
     "execution_count": 61,
     "metadata": {},
     "output_type": "execute_result"
    },
    {
     "data": {
      "text/plain": [
       "1    1153\n",
       "0    1119\n",
       "Name: label, dtype: int64"
      ]
     },
     "execution_count": 61,
     "metadata": {},
     "output_type": "execute_result"
    },
    {
     "name": "stdout",
     "output_type": "stream",
     "text": [
      "Both train and test datasets are almost perfectly balanced between the positive and negative class\n"
     ]
    }
   ],
   "source": [
    "df_train.label.value_counts()\n",
    "df_test.label.value_counts()\n",
    "print(\"Both train and test datasets are almost perfectly balanced between the positive and negative class\")"
   ]
  },
  {
   "cell_type": "markdown",
   "metadata": {},
   "source": [
    "Visualizing the distribution of the lengths of sequences in each dataset."
   ]
  },
  {
   "cell_type": "code",
   "execution_count": 62,
   "metadata": {},
   "outputs": [
    {
     "data": {
      "image/png": "[encoded data removed]",
      "text/plain": [
       "<Figure size 432x288 with 1 Axes>"
      ]
     },
     "metadata": {
      "needs_background": "light"
     },
     "output_type": "display_data"
    }
   ],
   "source": [
    "sns.histplot(df_train.sequence.str.len(), bins=20, kde=True);\n",
    "plt.xlabel(\"Sequence Size\");\n",
    "plt.title('Distribution of Sequence Sizes in the Train dataset');"
   ]
  },
  {
   "cell_type": "code",
   "execution_count": 63,
   "metadata": {},
   "outputs": [
    {
     "data": {
      "image/png": "[encoded data removed]",
      "text/plain": [
       "<Figure size 432x288 with 1 Axes>"
      ]
     },
     "metadata": {
      "needs_background": "light"
     },
     "output_type": "display_data"
    }
   ],
   "source": [
    "sns.histplot(df_test.sequence.str.len(), bins=20, kde=True);\n",
    "plt.xlabel(\"Sequence Size\");\n",
    "plt.title('Distribution of Sequence Sizes in the Test dataset');"
   ]
  },
  {
   "cell_type": "code",
   "execution_count": 64,
   "metadata": {},
   "outputs": [
    {
     "name": "stdout",
     "output_type": "stream",
     "text": [
      "Train dataset - mean of sequence sizes: 427.5094891552511\n",
      "Test dataset - mean of sequence sizes: 459.9806338028169\n",
      "Train dataset - smallest sequence size: 47\n",
      "Test dataset - smallest sequence size: 51\n",
      "Train dataset - largest sequence size: 4911\n",
      "Test dataset - largest sequence size: 5183\n"
     ]
    }
   ],
   "source": [
    "train_seq_sizes = df_train.sequence.str.len()\n",
    "test_seq_sizes = df_test.sequence.str.len()\n",
    "\n",
    "print(f\"Train dataset - mean of sequence sizes: {train_seq_sizes.mean()}\")\n",
    "print(f\"Test dataset - mean of sequence sizes: {test_seq_sizes.mean()}\")\n",
    "\n",
    "print(f\"Train dataset - smallest sequence size: {train_seq_sizes.min()}\")\n",
    "print(f\"Test dataset - smallest sequence size: {test_seq_sizes.min()}\")\n",
    "\n",
    "print(f\"Train dataset - largest sequence size: {train_seq_sizes.max()}\")\n",
    "print(f\"Test dataset - largest sequence size: {test_seq_sizes.max()}\")"
   ]
  },
  {
   "cell_type": "code",
   "execution_count": null,
   "metadata": {},
   "outputs": [],
   "source": []
  }
 ],
 "metadata": {
  "kernelspec": {
   "display_name": "Python 3.8.13 ('mle-course')",
   "language": "python",
   "name": "python3"
  },
  "language_info": {
   "codemirror_mode": {
    "name": "ipython",
    "version": 3
   },
   "file_extension": ".py",
   "mimetype": "text/x-python",
   "name": "python",
   "nbconvert_exporter": "python",
   "pygments_lexer": "ipython3",
   "version": "3.8.13"
  },
  "orig_nbformat": 4,
  "vscode": {
   "interpreter": {
    "hash": "227e226d2f65f05b8b2318de3eba0105a0c14a31aac345a5e995edf88d8cbb66"
   }
  }
 },
 "nbformat": 4,
 "nbformat_minor": 2
}
