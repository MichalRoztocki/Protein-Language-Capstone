{
 "cells": [
  {
   "cell_type": "markdown",
   "id": "13c06ca2-0849-44f4-9b3a-e911765d428f",
   "metadata": {
    "tags": []
   },
   "source": [
    "# DBP - Reading Embeddings"
   ]
  },
  {
   "cell_type": "markdown",
   "id": "235a4bb0-7274-4209-b469-b83886fef883",
   "metadata": {},
   "source": [
    "In this notebook we are going to use previously created `.pt` files to extract embeddings together with corresponding sequence ids and our target variables (label).\n",
    "For every combination of pretrained models, pooling operations, our task datasets this wil be the workflow:\n",
    "\n",
    "1. set the arguments\n",
    "2. run `file_paths` function\n",
    "   - it vill set all needed paths according to the arguments\n",
    "3. run `read_embeddings` function\n",
    "   - reads fasta headers from a fasta file\n",
    "   - extracts sequence_id and our target variable ys from the header\n",
    "   - names of `.pt` files are `header[1:]`and the scripts loads the corresponding file\n",
    "   - extracts the embedding vector a an array Xs\n",
    "   - Xs, ys, sequence_id can be now used in machine learning applications\n",
    "4. run `check_with_df` function to check id all is OK\n",
    "   - it uses sequence_id, Xs, ys to create Pandas DataFrame\n",
    "   - displays first 2 and last 2 rows\n",
    "\n",
    "First we read `prose` embeddings and then `esm` embeddings."
   ]
  },
  {
   "cell_type": "markdown",
   "id": "c30771d0-dca8-44fa-bed4-2c2015c6c055",
   "metadata": {},
   "source": [
    "Import file utilities"
   ]
  },
  {
   "cell_type": "code",
   "execution_count": 1,
   "id": "0b5f7d2d-3db3-4d8c-8642-abad59d92ecc",
   "metadata": {
    "execution": {
     "iopub.execute_input": "2022-09-09T17:46:32.774977Z",
     "iopub.status.busy": "2022-09-09T17:46:32.774685Z",
     "iopub.status.idle": "2022-09-09T17:46:33.722394Z",
     "shell.execute_reply": "2022-09-09T17:46:33.721596Z",
     "shell.execute_reply.started": "2022-09-09T17:46:32.774922Z"
    },
    "tags": []
   },
   "outputs": [],
   "source": [
    "# Import the script from different folder\n",
    "import sys  \n",
    "sys.path.append('../scripts')\n",
    "\n",
    "import file_utilities as fu"
   ]
  },
  {
   "cell_type": "markdown",
   "id": "66a3f6d0-2810-44ad-bfa6-cbe8315f73ac",
   "metadata": {},
   "source": [
    "## ProSE embeddings\n"
   ]
  },
  {
   "cell_type": "markdown",
   "id": "7ac43643-eacf-4242-839f-d37a3454663d",
   "metadata": {},
   "source": [
    "Initiaize arguments"
   ]
  },
  {
   "cell_type": "code",
   "execution_count": 2,
   "id": "dc5143bb-c830-4c50-9264-cd3c2895c3d1",
   "metadata": {
    "execution": {
     "iopub.execute_input": "2022-09-09T17:47:31.821231Z",
     "iopub.status.busy": "2022-09-09T17:47:31.820888Z",
     "iopub.status.idle": "2022-09-09T17:47:31.825656Z",
     "shell.execute_reply": "2022-09-09T17:47:31.824809Z",
     "shell.execute_reply.started": "2022-09-09T17:47:31.821211Z"
    },
    "tags": []
   },
   "outputs": [],
   "source": [
    "# Define arguments for the file_paths function\n",
    "task = 'dbp'\n",
    "ptmodel = 'prose'\n",
    "file_base = 'train'\n",
    "model = 'prose_dlm'\n",
    "emb_layer = 'layer'\n",
    "pool = 'avg'  \n"
   ]
  },
  {
   "cell_type": "markdown",
   "id": "3ad7620f-6916-4e6d-8bd1-39483047524d",
   "metadata": {},
   "source": [
    "<br>\n",
    "\n",
    "## Train Dataset"
   ]
  },
  {
   "cell_type": "markdown",
   "id": "61e721f2-1a9b-4633-811a-af2a9eb0bb45",
   "metadata": {},
   "source": [
    "### ProSE DLM model - prose_dlm"
   ]
  },
  {
   "cell_type": "markdown",
   "id": "af473383-f776-4eb5-9d48-bf1a4a6e5788",
   "metadata": {
    "tags": []
   },
   "source": [
    "- **Pooling Operation:  `avg`**"
   ]
  },
  {
   "cell_type": "markdown",
   "id": "51661013-6efd-4681-880e-7afad59c2c0d",
   "metadata": {},
   "source": [
    "Run the script `file_paths` to prepare paths. The default root data folder is *../data*."
   ]
  },
  {
   "cell_type": "code",
   "execution_count": 3,
   "id": "74bff221-c802-4b04-ac89-3895e38091bf",
   "metadata": {
    "execution": {
     "iopub.execute_input": "2022-09-09T17:47:55.624132Z",
     "iopub.status.busy": "2022-09-09T17:47:55.623856Z",
     "iopub.status.idle": "2022-09-09T17:47:55.631949Z",
     "shell.execute_reply": "2022-09-09T17:47:55.631109Z",
     "shell.execute_reply.started": "2022-09-09T17:47:55.624112Z"
    },
    "tags": []
   },
   "outputs": [
    {
     "name": "stdout",
     "output_type": "stream",
     "text": [
      " ../data/dna_binding/train_prose.fa \n",
      " ../data/dna_binding/prose/train/dbp_train_dlm_avg\n"
     ]
    }
   ],
   "source": [
    "# Prepare paths\n",
    "path_pt, _, path_fa = fu.file_paths(ptmodel, task, file_base, model, pool)\n",
    "print('', path_fa, '\\n', path_pt)"
   ]
  },
  {
   "cell_type": "markdown",
   "id": "deef46b5-20d2-402c-ad7e-b6c385853754",
   "metadata": {},
   "source": [
    "Extract embeddings with `read_embedings` function."
   ]
  },
  {
   "cell_type": "code",
   "execution_count": 4,
   "id": "cf7cdb89-f4c2-4da1-a2f8-3690bb8313a3",
   "metadata": {
    "execution": {
     "iopub.execute_input": "2022-09-09T17:48:11.569239Z",
     "iopub.status.busy": "2022-09-09T17:48:11.568936Z",
     "iopub.status.idle": "2022-09-09T17:50:44.975197Z",
     "shell.execute_reply": "2022-09-09T17:50:44.974341Z",
     "shell.execute_reply.started": "2022-09-09T17:48:11.569218Z"
    },
    "tags": []
   },
   "outputs": [
    {
     "name": "stdout",
     "output_type": "stream",
     "text": [
      "Shape of embeddings: \t\t(14016, 6165)\n",
      "Length of target label list:\t14016\n",
      "Length of sequential ids list:\t14016\n"
     ]
    }
   ],
   "source": [
    "Xs, ys, sequence_id = fu.read_embeddings(path_fa, path_pt, pool, emb_layer)"
   ]
  },
  {
   "cell_type": "markdown",
   "id": "620e2b62-a345-47ec-aa16-cb08ea7d3e1d",
   "metadata": {},
   "source": [
    "Check our data with `check_with_df` function."
   ]
  },
  {
   "cell_type": "code",
   "execution_count": 5,
   "id": "fa91b503-f770-42e0-85ea-80043b13a488",
   "metadata": {
    "execution": {
     "iopub.execute_input": "2022-09-09T17:51:13.666619Z",
     "iopub.status.busy": "2022-09-09T17:51:13.666351Z",
     "iopub.status.idle": "2022-09-09T17:51:14.146037Z",
     "shell.execute_reply": "2022-09-09T17:51:14.145132Z",
     "shell.execute_reply.started": "2022-09-09T17:51:13.666600Z"
    },
    "tags": []
   },
   "outputs": [
    {
     "data": {
      "text/html": [
       "<div>\n",
       "<style scoped>\n",
       "    .dataframe tbody tr th:only-of-type {\n",
       "        vertical-align: middle;\n",
       "    }\n",
       "\n",
       "    .dataframe tbody tr th {\n",
       "        vertical-align: top;\n",
       "    }\n",
       "\n",
       "    .dataframe thead th {\n",
       "        text-align: right;\n",
       "    }\n",
       "</style>\n",
       "<table border=\"1\" class=\"dataframe\">\n",
       "  <thead>\n",
       "    <tr style=\"text-align: right;\">\n",
       "      <th></th>\n",
       "      <th>sequence</th>\n",
       "      <th>0</th>\n",
       "      <th>1</th>\n",
       "      <th>2</th>\n",
       "      <th>3</th>\n",
       "      <th>4</th>\n",
       "      <th>5</th>\n",
       "      <th>6</th>\n",
       "      <th>7</th>\n",
       "      <th>8</th>\n",
       "      <th>...</th>\n",
       "      <th>6156</th>\n",
       "      <th>6157</th>\n",
       "      <th>6158</th>\n",
       "      <th>6159</th>\n",
       "      <th>6160</th>\n",
       "      <th>6161</th>\n",
       "      <th>6162</th>\n",
       "      <th>6163</th>\n",
       "      <th>6164</th>\n",
       "      <th>label</th>\n",
       "    </tr>\n",
       "  </thead>\n",
       "  <tbody>\n",
       "    <tr>\n",
       "      <th>0</th>\n",
       "      <td>Q6A8L0</td>\n",
       "      <td>0.113636</td>\n",
       "      <td>0.064394</td>\n",
       "      <td>0.037879</td>\n",
       "      <td>0.094697</td>\n",
       "      <td>0.003788</td>\n",
       "      <td>0.026515</td>\n",
       "      <td>0.094697</td>\n",
       "      <td>0.075758</td>\n",
       "      <td>0.007576</td>\n",
       "      <td>...</td>\n",
       "      <td>-0.128591</td>\n",
       "      <td>0.081230</td>\n",
       "      <td>0.080329</td>\n",
       "      <td>0.048674</td>\n",
       "      <td>-0.035709</td>\n",
       "      <td>0.092301</td>\n",
       "      <td>-0.037153</td>\n",
       "      <td>-0.038137</td>\n",
       "      <td>0.004536</td>\n",
       "      <td>1</td>\n",
       "    </tr>\n",
       "    <tr>\n",
       "      <th>1</th>\n",
       "      <td>Q7V7T9</td>\n",
       "      <td>0.093333</td>\n",
       "      <td>0.075556</td>\n",
       "      <td>0.008889</td>\n",
       "      <td>0.057778</td>\n",
       "      <td>0.017778</td>\n",
       "      <td>0.075556</td>\n",
       "      <td>0.080000</td>\n",
       "      <td>0.102222</td>\n",
       "      <td>0.022222</td>\n",
       "      <td>...</td>\n",
       "      <td>-0.247285</td>\n",
       "      <td>0.128575</td>\n",
       "      <td>0.095270</td>\n",
       "      <td>-0.024129</td>\n",
       "      <td>0.075140</td>\n",
       "      <td>0.057433</td>\n",
       "      <td>-0.124096</td>\n",
       "      <td>0.079725</td>\n",
       "      <td>0.031797</td>\n",
       "      <td>1</td>\n",
       "    </tr>\n",
       "    <tr>\n",
       "      <th>...</th>\n",
       "      <td>...</td>\n",
       "      <td>...</td>\n",
       "      <td>...</td>\n",
       "      <td>...</td>\n",
       "      <td>...</td>\n",
       "      <td>...</td>\n",
       "      <td>...</td>\n",
       "      <td>...</td>\n",
       "      <td>...</td>\n",
       "      <td>...</td>\n",
       "      <td>...</td>\n",
       "      <td>...</td>\n",
       "      <td>...</td>\n",
       "      <td>...</td>\n",
       "      <td>...</td>\n",
       "      <td>...</td>\n",
       "      <td>...</td>\n",
       "      <td>...</td>\n",
       "      <td>...</td>\n",
       "      <td>...</td>\n",
       "      <td>...</td>\n",
       "    </tr>\n",
       "    <tr>\n",
       "      <th>14014</th>\n",
       "      <td>Q16AE8</td>\n",
       "      <td>0.085714</td>\n",
       "      <td>0.100000</td>\n",
       "      <td>0.042857</td>\n",
       "      <td>0.035714</td>\n",
       "      <td>0.003571</td>\n",
       "      <td>0.035714</td>\n",
       "      <td>0.035714</td>\n",
       "      <td>0.132143</td>\n",
       "      <td>0.025000</td>\n",
       "      <td>...</td>\n",
       "      <td>-0.010057</td>\n",
       "      <td>0.207347</td>\n",
       "      <td>0.158648</td>\n",
       "      <td>-0.002683</td>\n",
       "      <td>-0.148059</td>\n",
       "      <td>0.128500</td>\n",
       "      <td>-0.098671</td>\n",
       "      <td>0.082399</td>\n",
       "      <td>0.272792</td>\n",
       "      <td>0</td>\n",
       "    </tr>\n",
       "    <tr>\n",
       "      <th>14015</th>\n",
       "      <td>Q486Z0</td>\n",
       "      <td>0.099010</td>\n",
       "      <td>0.054455</td>\n",
       "      <td>0.049505</td>\n",
       "      <td>0.064356</td>\n",
       "      <td>0.012376</td>\n",
       "      <td>0.032178</td>\n",
       "      <td>0.074257</td>\n",
       "      <td>0.076733</td>\n",
       "      <td>0.032178</td>\n",
       "      <td>...</td>\n",
       "      <td>-0.172984</td>\n",
       "      <td>0.002041</td>\n",
       "      <td>-0.008729</td>\n",
       "      <td>-0.056369</td>\n",
       "      <td>-0.041159</td>\n",
       "      <td>0.142222</td>\n",
       "      <td>-0.169299</td>\n",
       "      <td>0.286869</td>\n",
       "      <td>-0.067152</td>\n",
       "      <td>0</td>\n",
       "    </tr>\n",
       "  </tbody>\n",
       "</table>\n",
       "<p>14016 rows × 6167 columns</p>\n",
       "</div>"
      ],
      "text/plain": [
       "      sequence         0         1         2         3         4         5  \\\n",
       "0       Q6A8L0  0.113636  0.064394  0.037879  0.094697  0.003788  0.026515   \n",
       "1       Q7V7T9  0.093333  0.075556  0.008889  0.057778  0.017778  0.075556   \n",
       "...        ...       ...       ...       ...       ...       ...       ...   \n",
       "14014   Q16AE8  0.085714  0.100000  0.042857  0.035714  0.003571  0.035714   \n",
       "14015   Q486Z0  0.099010  0.054455  0.049505  0.064356  0.012376  0.032178   \n",
       "\n",
       "              6         7         8  ...      6156      6157      6158  \\\n",
       "0      0.094697  0.075758  0.007576  ... -0.128591  0.081230  0.080329   \n",
       "1      0.080000  0.102222  0.022222  ... -0.247285  0.128575  0.095270   \n",
       "...         ...       ...       ...  ...       ...       ...       ...   \n",
       "14014  0.035714  0.132143  0.025000  ... -0.010057  0.207347  0.158648   \n",
       "14015  0.074257  0.076733  0.032178  ... -0.172984  0.002041 -0.008729   \n",
       "\n",
       "           6159      6160      6161      6162      6163      6164  label  \n",
       "0      0.048674 -0.035709  0.092301 -0.037153 -0.038137  0.004536      1  \n",
       "1     -0.024129  0.075140  0.057433 -0.124096  0.079725  0.031797      1  \n",
       "...         ...       ...       ...       ...       ...       ...    ...  \n",
       "14014 -0.002683 -0.148059  0.128500 -0.098671  0.082399  0.272792      0  \n",
       "14015 -0.056369 -0.041159  0.142222 -0.169299  0.286869 -0.067152      0  \n",
       "\n",
       "[14016 rows x 6167 columns]"
      ]
     },
     "metadata": {},
     "output_type": "display_data"
    }
   ],
   "source": [
    "fu.check_with_df(Xs, ys, sequence_id)"
   ]
  },
  {
   "cell_type": "markdown",
   "id": "63dacd99-aa4c-4006-9b0f-838fe32ccf3e",
   "metadata": {
    "tags": []
   },
   "source": [
    "- **Pooling Operation:  `max`**"
   ]
  },
  {
   "cell_type": "markdown",
   "id": "10b274f6-a1f3-48c7-be39-b348ed0da4d0",
   "metadata": {},
   "source": [
    "Update arguments and prepare paths"
   ]
  },
  {
   "cell_type": "code",
   "execution_count": 6,
   "id": "0a75e4fe-12fe-4bec-8086-7c8993b6b8cc",
   "metadata": {
    "execution": {
     "iopub.execute_input": "2022-09-09T17:56:28.148850Z",
     "iopub.status.busy": "2022-09-09T17:56:28.148595Z",
     "iopub.status.idle": "2022-09-09T17:56:28.156890Z",
     "shell.execute_reply": "2022-09-09T17:56:28.156112Z",
     "shell.execute_reply.started": "2022-09-09T17:56:28.148832Z"
    },
    "tags": []
   },
   "outputs": [
    {
     "name": "stdout",
     "output_type": "stream",
     "text": [
      " ../data/dna_binding/train_prose.fa \n",
      " ../data/dna_binding/prose/train/dbp_train_dlm_max\n"
     ]
    }
   ],
   "source": [
    "# Update arguments\n",
    "pool = 'max'\n",
    "# Prepare paths\n",
    "path_pt, _, path_fa = fu.file_paths(ptmodel, task, file_base, model, pool)\n",
    "print('', path_fa, '\\n', path_pt)"
   ]
  },
  {
   "cell_type": "markdown",
   "id": "20d5ddc0-c3e2-4bf8-8172-cc6bbf375647",
   "metadata": {},
   "source": [
    "Extract embeddings with `read_embedings` function."
   ]
  },
  {
   "cell_type": "code",
   "execution_count": 7,
   "id": "84dcd52a-ae28-4942-86f6-6f3dde10dae5",
   "metadata": {
    "execution": {
     "iopub.execute_input": "2022-09-09T17:56:37.578611Z",
     "iopub.status.busy": "2022-09-09T17:56:37.578337Z",
     "iopub.status.idle": "2022-09-09T17:59:13.223669Z",
     "shell.execute_reply": "2022-09-09T17:59:13.222419Z",
     "shell.execute_reply.started": "2022-09-09T17:56:37.578590Z"
    },
    "tags": []
   },
   "outputs": [
    {
     "name": "stdout",
     "output_type": "stream",
     "text": [
      "Shape of embeddings: \t\t(14016, 6165)\n",
      "Length of target label list:\t14016\n",
      "Length of sequential ids list:\t14016\n"
     ]
    }
   ],
   "source": [
    "Xs, ys, sequence_id = fu.read_embeddings(path_fa, path_pt, pool, emb_layer)"
   ]
  },
  {
   "cell_type": "markdown",
   "id": "09439d28-0104-449f-b9e2-5cda1a49a117",
   "metadata": {},
   "source": [
    "Check our data with `check_with_df` function."
   ]
  },
  {
   "cell_type": "code",
   "execution_count": 8,
   "id": "adf53db5-c3a3-41aa-b912-17969ac32de7",
   "metadata": {
    "execution": {
     "iopub.execute_input": "2022-09-09T17:59:30.202356Z",
     "iopub.status.busy": "2022-09-09T17:59:30.202067Z",
     "iopub.status.idle": "2022-09-09T17:59:31.120259Z",
     "shell.execute_reply": "2022-09-09T17:59:31.119401Z",
     "shell.execute_reply.started": "2022-09-09T17:59:30.202336Z"
    },
    "tags": []
   },
   "outputs": [
    {
     "data": {
      "text/html": [
       "<div>\n",
       "<style scoped>\n",
       "    .dataframe tbody tr th:only-of-type {\n",
       "        vertical-align: middle;\n",
       "    }\n",
       "\n",
       "    .dataframe tbody tr th {\n",
       "        vertical-align: top;\n",
       "    }\n",
       "\n",
       "    .dataframe thead th {\n",
       "        text-align: right;\n",
       "    }\n",
       "</style>\n",
       "<table border=\"1\" class=\"dataframe\">\n",
       "  <thead>\n",
       "    <tr style=\"text-align: right;\">\n",
       "      <th></th>\n",
       "      <th>sequence</th>\n",
       "      <th>0</th>\n",
       "      <th>1</th>\n",
       "      <th>2</th>\n",
       "      <th>3</th>\n",
       "      <th>4</th>\n",
       "      <th>5</th>\n",
       "      <th>6</th>\n",
       "      <th>7</th>\n",
       "      <th>8</th>\n",
       "      <th>...</th>\n",
       "      <th>6156</th>\n",
       "      <th>6157</th>\n",
       "      <th>6158</th>\n",
       "      <th>6159</th>\n",
       "      <th>6160</th>\n",
       "      <th>6161</th>\n",
       "      <th>6162</th>\n",
       "      <th>6163</th>\n",
       "      <th>6164</th>\n",
       "      <th>label</th>\n",
       "    </tr>\n",
       "  </thead>\n",
       "  <tbody>\n",
       "    <tr>\n",
       "      <th>0</th>\n",
       "      <td>Q6A8L0</td>\n",
       "      <td>1.0</td>\n",
       "      <td>1.0</td>\n",
       "      <td>1.0</td>\n",
       "      <td>1.0</td>\n",
       "      <td>1.0</td>\n",
       "      <td>1.0</td>\n",
       "      <td>1.0</td>\n",
       "      <td>1.0</td>\n",
       "      <td>1.0</td>\n",
       "      <td>...</td>\n",
       "      <td>0.027604</td>\n",
       "      <td>0.705131</td>\n",
       "      <td>0.718681</td>\n",
       "      <td>0.907449</td>\n",
       "      <td>0.416926</td>\n",
       "      <td>0.783536</td>\n",
       "      <td>0.141743</td>\n",
       "      <td>0.023427</td>\n",
       "      <td>0.258694</td>\n",
       "      <td>1</td>\n",
       "    </tr>\n",
       "    <tr>\n",
       "      <th>1</th>\n",
       "      <td>Q7V7T9</td>\n",
       "      <td>1.0</td>\n",
       "      <td>1.0</td>\n",
       "      <td>1.0</td>\n",
       "      <td>1.0</td>\n",
       "      <td>1.0</td>\n",
       "      <td>1.0</td>\n",
       "      <td>1.0</td>\n",
       "      <td>1.0</td>\n",
       "      <td>1.0</td>\n",
       "      <td>...</td>\n",
       "      <td>-0.007948</td>\n",
       "      <td>0.929712</td>\n",
       "      <td>0.917170</td>\n",
       "      <td>0.851409</td>\n",
       "      <td>0.997472</td>\n",
       "      <td>0.724912</td>\n",
       "      <td>0.044931</td>\n",
       "      <td>0.509727</td>\n",
       "      <td>0.646402</td>\n",
       "      <td>1</td>\n",
       "    </tr>\n",
       "    <tr>\n",
       "      <th>...</th>\n",
       "      <td>...</td>\n",
       "      <td>...</td>\n",
       "      <td>...</td>\n",
       "      <td>...</td>\n",
       "      <td>...</td>\n",
       "      <td>...</td>\n",
       "      <td>...</td>\n",
       "      <td>...</td>\n",
       "      <td>...</td>\n",
       "      <td>...</td>\n",
       "      <td>...</td>\n",
       "      <td>...</td>\n",
       "      <td>...</td>\n",
       "      <td>...</td>\n",
       "      <td>...</td>\n",
       "      <td>...</td>\n",
       "      <td>...</td>\n",
       "      <td>...</td>\n",
       "      <td>...</td>\n",
       "      <td>...</td>\n",
       "      <td>...</td>\n",
       "    </tr>\n",
       "    <tr>\n",
       "      <th>14014</th>\n",
       "      <td>Q16AE8</td>\n",
       "      <td>1.0</td>\n",
       "      <td>1.0</td>\n",
       "      <td>1.0</td>\n",
       "      <td>1.0</td>\n",
       "      <td>1.0</td>\n",
       "      <td>1.0</td>\n",
       "      <td>1.0</td>\n",
       "      <td>1.0</td>\n",
       "      <td>1.0</td>\n",
       "      <td>...</td>\n",
       "      <td>0.112960</td>\n",
       "      <td>0.939670</td>\n",
       "      <td>0.760756</td>\n",
       "      <td>0.584100</td>\n",
       "      <td>0.219241</td>\n",
       "      <td>0.818944</td>\n",
       "      <td>-0.001795</td>\n",
       "      <td>0.418227</td>\n",
       "      <td>0.949619</td>\n",
       "      <td>0</td>\n",
       "    </tr>\n",
       "    <tr>\n",
       "      <th>14015</th>\n",
       "      <td>Q486Z0</td>\n",
       "      <td>1.0</td>\n",
       "      <td>1.0</td>\n",
       "      <td>1.0</td>\n",
       "      <td>1.0</td>\n",
       "      <td>1.0</td>\n",
       "      <td>1.0</td>\n",
       "      <td>1.0</td>\n",
       "      <td>1.0</td>\n",
       "      <td>1.0</td>\n",
       "      <td>...</td>\n",
       "      <td>0.383856</td>\n",
       "      <td>0.928906</td>\n",
       "      <td>0.741534</td>\n",
       "      <td>0.894473</td>\n",
       "      <td>0.982955</td>\n",
       "      <td>0.982904</td>\n",
       "      <td>0.005548</td>\n",
       "      <td>0.907785</td>\n",
       "      <td>0.550146</td>\n",
       "      <td>0</td>\n",
       "    </tr>\n",
       "  </tbody>\n",
       "</table>\n",
       "<p>14016 rows × 6167 columns</p>\n",
       "</div>"
      ],
      "text/plain": [
       "      sequence    0    1    2    3    4    5    6    7    8  ...      6156  \\\n",
       "0       Q6A8L0  1.0  1.0  1.0  1.0  1.0  1.0  1.0  1.0  1.0  ...  0.027604   \n",
       "1       Q7V7T9  1.0  1.0  1.0  1.0  1.0  1.0  1.0  1.0  1.0  ... -0.007948   \n",
       "...        ...  ...  ...  ...  ...  ...  ...  ...  ...  ...  ...       ...   \n",
       "14014   Q16AE8  1.0  1.0  1.0  1.0  1.0  1.0  1.0  1.0  1.0  ...  0.112960   \n",
       "14015   Q486Z0  1.0  1.0  1.0  1.0  1.0  1.0  1.0  1.0  1.0  ...  0.383856   \n",
       "\n",
       "           6157      6158      6159      6160      6161      6162      6163  \\\n",
       "0      0.705131  0.718681  0.907449  0.416926  0.783536  0.141743  0.023427   \n",
       "1      0.929712  0.917170  0.851409  0.997472  0.724912  0.044931  0.509727   \n",
       "...         ...       ...       ...       ...       ...       ...       ...   \n",
       "14014  0.939670  0.760756  0.584100  0.219241  0.818944 -0.001795  0.418227   \n",
       "14015  0.928906  0.741534  0.894473  0.982955  0.982904  0.005548  0.907785   \n",
       "\n",
       "           6164  label  \n",
       "0      0.258694      1  \n",
       "1      0.646402      1  \n",
       "...         ...    ...  \n",
       "14014  0.949619      0  \n",
       "14015  0.550146      0  \n",
       "\n",
       "[14016 rows x 6167 columns]"
      ]
     },
     "metadata": {},
     "output_type": "display_data"
    }
   ],
   "source": [
    "fu.check_with_df(Xs, ys, sequence_id)"
   ]
  },
  {
   "cell_type": "markdown",
   "id": "b544e212-2495-4ba0-bedc-751cfe79f7aa",
   "metadata": {
    "tags": []
   },
   "source": [
    "- **Pooling Operation:  `sum`**"
   ]
  },
  {
   "cell_type": "markdown",
   "id": "26464c9b-52cd-4f3c-bc86-3ba03097e824",
   "metadata": {},
   "source": [
    "Update arguments and prepare paths"
   ]
  },
  {
   "cell_type": "code",
   "execution_count": 9,
   "id": "654a6f7f-b3c9-4fe3-842b-b13522fd1ca8",
   "metadata": {
    "execution": {
     "iopub.execute_input": "2022-09-09T17:59:52.687245Z",
     "iopub.status.busy": "2022-09-09T17:59:52.686973Z",
     "iopub.status.idle": "2022-09-09T17:59:52.695384Z",
     "shell.execute_reply": "2022-09-09T17:59:52.694503Z",
     "shell.execute_reply.started": "2022-09-09T17:59:52.687225Z"
    },
    "tags": []
   },
   "outputs": [
    {
     "name": "stdout",
     "output_type": "stream",
     "text": [
      " ../data/dna_binding/train_prose.fa \n",
      " ../data/dna_binding/prose/train/dbp_train_dlm_sum\n"
     ]
    }
   ],
   "source": [
    "# Update arguments\n",
    "pool = 'sum'\n",
    "# Prepare paths\n",
    "path_pt, _, path_fa = fu.file_paths(ptmodel, task, file_base, model, pool)\n",
    "print('', path_fa, '\\n', path_pt)"
   ]
  },
  {
   "cell_type": "markdown",
   "id": "e36b403b-30a0-4ccc-86c0-d1875de10dc4",
   "metadata": {},
   "source": [
    "Extract embeddings with `read_embedings` function."
   ]
  },
  {
   "cell_type": "code",
   "execution_count": 10,
   "id": "63b23c1e-8908-43f5-a759-0c0f77ada0c7",
   "metadata": {
    "execution": {
     "iopub.execute_input": "2022-09-09T18:00:07.994794Z",
     "iopub.status.busy": "2022-09-09T18:00:07.994531Z",
     "iopub.status.idle": "2022-09-09T18:02:48.385064Z",
     "shell.execute_reply": "2022-09-09T18:02:48.384045Z",
     "shell.execute_reply.started": "2022-09-09T18:00:07.994775Z"
    },
    "tags": []
   },
   "outputs": [
    {
     "name": "stdout",
     "output_type": "stream",
     "text": [
      "Shape of embeddings: \t\t(14016, 6165)\n",
      "Length of target label list:\t14016\n",
      "Length of sequential ids list:\t14016\n"
     ]
    }
   ],
   "source": [
    "Xs, ys, sequence_id = fu.read_embeddings(path_fa, path_pt, pool, emb_layer)"
   ]
  },
  {
   "cell_type": "markdown",
   "id": "21ad5ffa-a770-4748-a6b0-564614a21088",
   "metadata": {},
   "source": [
    "Check our data with `check_with_df` function."
   ]
  },
  {
   "cell_type": "code",
   "execution_count": 11,
   "id": "91e3dd65-93cb-4b37-bcd1-2960f781f763",
   "metadata": {
    "execution": {
     "iopub.execute_input": "2022-09-09T18:03:45.246999Z",
     "iopub.status.busy": "2022-09-09T18:03:45.246723Z",
     "iopub.status.idle": "2022-09-09T18:03:46.229089Z",
     "shell.execute_reply": "2022-09-09T18:03:46.228127Z",
     "shell.execute_reply.started": "2022-09-09T18:03:45.246980Z"
    },
    "tags": []
   },
   "outputs": [
    {
     "data": {
      "text/html": [
       "<div>\n",
       "<style scoped>\n",
       "    .dataframe tbody tr th:only-of-type {\n",
       "        vertical-align: middle;\n",
       "    }\n",
       "\n",
       "    .dataframe tbody tr th {\n",
       "        vertical-align: top;\n",
       "    }\n",
       "\n",
       "    .dataframe thead th {\n",
       "        text-align: right;\n",
       "    }\n",
       "</style>\n",
       "<table border=\"1\" class=\"dataframe\">\n",
       "  <thead>\n",
       "    <tr style=\"text-align: right;\">\n",
       "      <th></th>\n",
       "      <th>sequence</th>\n",
       "      <th>0</th>\n",
       "      <th>1</th>\n",
       "      <th>2</th>\n",
       "      <th>3</th>\n",
       "      <th>4</th>\n",
       "      <th>5</th>\n",
       "      <th>6</th>\n",
       "      <th>7</th>\n",
       "      <th>8</th>\n",
       "      <th>...</th>\n",
       "      <th>6156</th>\n",
       "      <th>6157</th>\n",
       "      <th>6158</th>\n",
       "      <th>6159</th>\n",
       "      <th>6160</th>\n",
       "      <th>6161</th>\n",
       "      <th>6162</th>\n",
       "      <th>6163</th>\n",
       "      <th>6164</th>\n",
       "      <th>label</th>\n",
       "    </tr>\n",
       "  </thead>\n",
       "  <tbody>\n",
       "    <tr>\n",
       "      <th>0</th>\n",
       "      <td>Q6A8L0</td>\n",
       "      <td>30.0</td>\n",
       "      <td>17.0</td>\n",
       "      <td>10.0</td>\n",
       "      <td>25.0</td>\n",
       "      <td>1.0</td>\n",
       "      <td>7.0</td>\n",
       "      <td>25.0</td>\n",
       "      <td>20.0</td>\n",
       "      <td>2.0</td>\n",
       "      <td>...</td>\n",
       "      <td>-33.948021</td>\n",
       "      <td>21.444836</td>\n",
       "      <td>21.206905</td>\n",
       "      <td>12.849918</td>\n",
       "      <td>-9.427154</td>\n",
       "      <td>24.367416</td>\n",
       "      <td>-9.808510</td>\n",
       "      <td>-10.068150</td>\n",
       "      <td>1.197400</td>\n",
       "      <td>1</td>\n",
       "    </tr>\n",
       "    <tr>\n",
       "      <th>1</th>\n",
       "      <td>Q7V7T9</td>\n",
       "      <td>21.0</td>\n",
       "      <td>17.0</td>\n",
       "      <td>2.0</td>\n",
       "      <td>13.0</td>\n",
       "      <td>4.0</td>\n",
       "      <td>17.0</td>\n",
       "      <td>18.0</td>\n",
       "      <td>23.0</td>\n",
       "      <td>5.0</td>\n",
       "      <td>...</td>\n",
       "      <td>-55.639015</td>\n",
       "      <td>28.929262</td>\n",
       "      <td>21.435713</td>\n",
       "      <td>-5.428989</td>\n",
       "      <td>16.906427</td>\n",
       "      <td>12.922314</td>\n",
       "      <td>-27.921585</td>\n",
       "      <td>17.938097</td>\n",
       "      <td>7.154354</td>\n",
       "      <td>1</td>\n",
       "    </tr>\n",
       "    <tr>\n",
       "      <th>...</th>\n",
       "      <td>...</td>\n",
       "      <td>...</td>\n",
       "      <td>...</td>\n",
       "      <td>...</td>\n",
       "      <td>...</td>\n",
       "      <td>...</td>\n",
       "      <td>...</td>\n",
       "      <td>...</td>\n",
       "      <td>...</td>\n",
       "      <td>...</td>\n",
       "      <td>...</td>\n",
       "      <td>...</td>\n",
       "      <td>...</td>\n",
       "      <td>...</td>\n",
       "      <td>...</td>\n",
       "      <td>...</td>\n",
       "      <td>...</td>\n",
       "      <td>...</td>\n",
       "      <td>...</td>\n",
       "      <td>...</td>\n",
       "      <td>...</td>\n",
       "    </tr>\n",
       "    <tr>\n",
       "      <th>14014</th>\n",
       "      <td>Q16AE8</td>\n",
       "      <td>24.0</td>\n",
       "      <td>28.0</td>\n",
       "      <td>12.0</td>\n",
       "      <td>10.0</td>\n",
       "      <td>1.0</td>\n",
       "      <td>10.0</td>\n",
       "      <td>10.0</td>\n",
       "      <td>37.0</td>\n",
       "      <td>7.0</td>\n",
       "      <td>...</td>\n",
       "      <td>-2.815915</td>\n",
       "      <td>58.057266</td>\n",
       "      <td>44.421452</td>\n",
       "      <td>-0.751250</td>\n",
       "      <td>-41.456539</td>\n",
       "      <td>35.980129</td>\n",
       "      <td>-27.627777</td>\n",
       "      <td>23.071705</td>\n",
       "      <td>76.381744</td>\n",
       "      <td>0</td>\n",
       "    </tr>\n",
       "    <tr>\n",
       "      <th>14015</th>\n",
       "      <td>Q486Z0</td>\n",
       "      <td>40.0</td>\n",
       "      <td>22.0</td>\n",
       "      <td>20.0</td>\n",
       "      <td>26.0</td>\n",
       "      <td>5.0</td>\n",
       "      <td>13.0</td>\n",
       "      <td>30.0</td>\n",
       "      <td>31.0</td>\n",
       "      <td>13.0</td>\n",
       "      <td>...</td>\n",
       "      <td>-69.885620</td>\n",
       "      <td>0.824720</td>\n",
       "      <td>-3.526418</td>\n",
       "      <td>-22.773172</td>\n",
       "      <td>-16.628233</td>\n",
       "      <td>57.457756</td>\n",
       "      <td>-68.396904</td>\n",
       "      <td>115.894958</td>\n",
       "      <td>-27.129374</td>\n",
       "      <td>0</td>\n",
       "    </tr>\n",
       "  </tbody>\n",
       "</table>\n",
       "<p>14016 rows × 6167 columns</p>\n",
       "</div>"
      ],
      "text/plain": [
       "      sequence     0     1     2     3    4     5     6     7     8  ...  \\\n",
       "0       Q6A8L0  30.0  17.0  10.0  25.0  1.0   7.0  25.0  20.0   2.0  ...   \n",
       "1       Q7V7T9  21.0  17.0   2.0  13.0  4.0  17.0  18.0  23.0   5.0  ...   \n",
       "...        ...   ...   ...   ...   ...  ...   ...   ...   ...   ...  ...   \n",
       "14014   Q16AE8  24.0  28.0  12.0  10.0  1.0  10.0  10.0  37.0   7.0  ...   \n",
       "14015   Q486Z0  40.0  22.0  20.0  26.0  5.0  13.0  30.0  31.0  13.0  ...   \n",
       "\n",
       "            6156       6157       6158       6159       6160       6161  \\\n",
       "0     -33.948021  21.444836  21.206905  12.849918  -9.427154  24.367416   \n",
       "1     -55.639015  28.929262  21.435713  -5.428989  16.906427  12.922314   \n",
       "...          ...        ...        ...        ...        ...        ...   \n",
       "14014  -2.815915  58.057266  44.421452  -0.751250 -41.456539  35.980129   \n",
       "14015 -69.885620   0.824720  -3.526418 -22.773172 -16.628233  57.457756   \n",
       "\n",
       "            6162        6163       6164  label  \n",
       "0      -9.808510  -10.068150   1.197400      1  \n",
       "1     -27.921585   17.938097   7.154354      1  \n",
       "...          ...         ...        ...    ...  \n",
       "14014 -27.627777   23.071705  76.381744      0  \n",
       "14015 -68.396904  115.894958 -27.129374      0  \n",
       "\n",
       "[14016 rows x 6167 columns]"
      ]
     },
     "metadata": {},
     "output_type": "display_data"
    }
   ],
   "source": [
    "fu.check_with_df(Xs, ys, sequence_id)"
   ]
  },
  {
   "cell_type": "markdown",
   "id": "36bf0b17-8745-491f-950c-6b920755887d",
   "metadata": {
    "jp-MarkdownHeadingCollapsed": true,
    "tags": []
   },
   "source": [
    "<br>\n",
    "\n",
    "### ProSE MT model - prose_mt"
   ]
  },
  {
   "cell_type": "markdown",
   "id": "759f1406-38da-4ecb-bbd9-4f3925ed4f35",
   "metadata": {
    "tags": []
   },
   "source": [
    "- **Pooling Operation:  `avg`**"
   ]
  },
  {
   "cell_type": "markdown",
   "id": "16ad9e6b-7eeb-4966-9cb1-eb4c61b42bf0",
   "metadata": {},
   "source": [
    "Update arguments and prepare paths"
   ]
  },
  {
   "cell_type": "code",
   "execution_count": 12,
   "id": "9979e6bc-7257-49ae-993d-c46a4925cf81",
   "metadata": {
    "execution": {
     "iopub.execute_input": "2022-09-09T18:04:00.287989Z",
     "iopub.status.busy": "2022-09-09T18:04:00.287707Z",
     "iopub.status.idle": "2022-09-09T18:04:00.295807Z",
     "shell.execute_reply": "2022-09-09T18:04:00.294816Z",
     "shell.execute_reply.started": "2022-09-09T18:04:00.287968Z"
    },
    "tags": []
   },
   "outputs": [
    {
     "name": "stdout",
     "output_type": "stream",
     "text": [
      " ../data/dna_binding/train_prose.fa \n",
      " ../data/dna_binding/prose/train/dbp_train_mt_avg\n"
     ]
    }
   ],
   "source": [
    "# Update arguments\n",
    "model = 'prose_mt'\n",
    "pool = 'avg'\n",
    "# Prepare paths\n",
    "path_pt, _, path_fa = fu.file_paths(ptmodel, task, file_base, model, pool)\n",
    "print('', path_fa, '\\n', path_pt)"
   ]
  },
  {
   "cell_type": "markdown",
   "id": "67d73d5d-3a82-4a73-b7e2-1906ff89bd5b",
   "metadata": {},
   "source": [
    "Extract embeddings with `read_embedings` function."
   ]
  },
  {
   "cell_type": "code",
   "execution_count": 13,
   "id": "21aeef2e-cc51-4643-93d4-327db2595c38",
   "metadata": {
    "execution": {
     "iopub.execute_input": "2022-09-09T18:04:31.040868Z",
     "iopub.status.busy": "2022-09-09T18:04:31.040596Z",
     "iopub.status.idle": "2022-09-09T18:07:06.639706Z",
     "shell.execute_reply": "2022-09-09T18:07:06.638899Z",
     "shell.execute_reply.started": "2022-09-09T18:04:31.040848Z"
    },
    "tags": []
   },
   "outputs": [
    {
     "name": "stdout",
     "output_type": "stream",
     "text": [
      "Shape of embeddings: \t\t(14016, 6165)\n",
      "Length of target label list:\t14016\n",
      "Length of sequential ids list:\t14016\n"
     ]
    }
   ],
   "source": [
    "Xs, ys, sequence_id = fu.read_embeddings(path_fa, path_pt, pool, emb_layer)"
   ]
  },
  {
   "cell_type": "markdown",
   "id": "366a0d02-6639-4b49-a008-50e6f74ff537",
   "metadata": {},
   "source": [
    "Check our data with `check_with_df` function."
   ]
  },
  {
   "cell_type": "code",
   "execution_count": 14,
   "id": "a993bf94-77da-4d65-889e-74a1e87c3f9a",
   "metadata": {
    "execution": {
     "iopub.execute_input": "2022-09-09T18:08:08.312246Z",
     "iopub.status.busy": "2022-09-09T18:08:08.311990Z",
     "iopub.status.idle": "2022-09-09T18:08:09.367055Z",
     "shell.execute_reply": "2022-09-09T18:08:09.366299Z",
     "shell.execute_reply.started": "2022-09-09T18:08:08.312226Z"
    },
    "tags": []
   },
   "outputs": [
    {
     "data": {
      "text/html": [
       "<div>\n",
       "<style scoped>\n",
       "    .dataframe tbody tr th:only-of-type {\n",
       "        vertical-align: middle;\n",
       "    }\n",
       "\n",
       "    .dataframe tbody tr th {\n",
       "        vertical-align: top;\n",
       "    }\n",
       "\n",
       "    .dataframe thead th {\n",
       "        text-align: right;\n",
       "    }\n",
       "</style>\n",
       "<table border=\"1\" class=\"dataframe\">\n",
       "  <thead>\n",
       "    <tr style=\"text-align: right;\">\n",
       "      <th></th>\n",
       "      <th>sequence</th>\n",
       "      <th>0</th>\n",
       "      <th>1</th>\n",
       "      <th>2</th>\n",
       "      <th>3</th>\n",
       "      <th>4</th>\n",
       "      <th>5</th>\n",
       "      <th>6</th>\n",
       "      <th>7</th>\n",
       "      <th>8</th>\n",
       "      <th>...</th>\n",
       "      <th>6156</th>\n",
       "      <th>6157</th>\n",
       "      <th>6158</th>\n",
       "      <th>6159</th>\n",
       "      <th>6160</th>\n",
       "      <th>6161</th>\n",
       "      <th>6162</th>\n",
       "      <th>6163</th>\n",
       "      <th>6164</th>\n",
       "      <th>label</th>\n",
       "    </tr>\n",
       "  </thead>\n",
       "  <tbody>\n",
       "    <tr>\n",
       "      <th>0</th>\n",
       "      <td>Q6A8L0</td>\n",
       "      <td>0.113636</td>\n",
       "      <td>0.064394</td>\n",
       "      <td>0.037879</td>\n",
       "      <td>0.094697</td>\n",
       "      <td>0.003788</td>\n",
       "      <td>0.026515</td>\n",
       "      <td>0.094697</td>\n",
       "      <td>0.075758</td>\n",
       "      <td>0.007576</td>\n",
       "      <td>...</td>\n",
       "      <td>-0.176603</td>\n",
       "      <td>0.095661</td>\n",
       "      <td>0.036870</td>\n",
       "      <td>0.059194</td>\n",
       "      <td>-0.037333</td>\n",
       "      <td>0.149248</td>\n",
       "      <td>-0.051019</td>\n",
       "      <td>0.038219</td>\n",
       "      <td>-0.041694</td>\n",
       "      <td>1</td>\n",
       "    </tr>\n",
       "    <tr>\n",
       "      <th>1</th>\n",
       "      <td>Q7V7T9</td>\n",
       "      <td>0.093333</td>\n",
       "      <td>0.075556</td>\n",
       "      <td>0.008889</td>\n",
       "      <td>0.057778</td>\n",
       "      <td>0.017778</td>\n",
       "      <td>0.075556</td>\n",
       "      <td>0.080000</td>\n",
       "      <td>0.102222</td>\n",
       "      <td>0.022222</td>\n",
       "      <td>...</td>\n",
       "      <td>-0.379992</td>\n",
       "      <td>0.147494</td>\n",
       "      <td>0.075313</td>\n",
       "      <td>-0.018626</td>\n",
       "      <td>0.090156</td>\n",
       "      <td>0.111229</td>\n",
       "      <td>-0.194673</td>\n",
       "      <td>0.055714</td>\n",
       "      <td>0.022726</td>\n",
       "      <td>1</td>\n",
       "    </tr>\n",
       "    <tr>\n",
       "      <th>...</th>\n",
       "      <td>...</td>\n",
       "      <td>...</td>\n",
       "      <td>...</td>\n",
       "      <td>...</td>\n",
       "      <td>...</td>\n",
       "      <td>...</td>\n",
       "      <td>...</td>\n",
       "      <td>...</td>\n",
       "      <td>...</td>\n",
       "      <td>...</td>\n",
       "      <td>...</td>\n",
       "      <td>...</td>\n",
       "      <td>...</td>\n",
       "      <td>...</td>\n",
       "      <td>...</td>\n",
       "      <td>...</td>\n",
       "      <td>...</td>\n",
       "      <td>...</td>\n",
       "      <td>...</td>\n",
       "      <td>...</td>\n",
       "      <td>...</td>\n",
       "    </tr>\n",
       "    <tr>\n",
       "      <th>14014</th>\n",
       "      <td>Q16AE8</td>\n",
       "      <td>0.085714</td>\n",
       "      <td>0.100000</td>\n",
       "      <td>0.042857</td>\n",
       "      <td>0.035714</td>\n",
       "      <td>0.003571</td>\n",
       "      <td>0.035714</td>\n",
       "      <td>0.035714</td>\n",
       "      <td>0.132143</td>\n",
       "      <td>0.025000</td>\n",
       "      <td>...</td>\n",
       "      <td>-0.016353</td>\n",
       "      <td>0.255953</td>\n",
       "      <td>0.160380</td>\n",
       "      <td>-0.014287</td>\n",
       "      <td>-0.114906</td>\n",
       "      <td>0.139985</td>\n",
       "      <td>-0.097824</td>\n",
       "      <td>0.085277</td>\n",
       "      <td>0.372806</td>\n",
       "      <td>0</td>\n",
       "    </tr>\n",
       "    <tr>\n",
       "      <th>14015</th>\n",
       "      <td>Q486Z0</td>\n",
       "      <td>0.099010</td>\n",
       "      <td>0.054455</td>\n",
       "      <td>0.049505</td>\n",
       "      <td>0.064356</td>\n",
       "      <td>0.012376</td>\n",
       "      <td>0.032178</td>\n",
       "      <td>0.074257</td>\n",
       "      <td>0.076733</td>\n",
       "      <td>0.032178</td>\n",
       "      <td>...</td>\n",
       "      <td>-0.158786</td>\n",
       "      <td>-0.056541</td>\n",
       "      <td>0.011900</td>\n",
       "      <td>-0.057320</td>\n",
       "      <td>-0.065921</td>\n",
       "      <td>0.156501</td>\n",
       "      <td>-0.131794</td>\n",
       "      <td>0.367778</td>\n",
       "      <td>-0.079480</td>\n",
       "      <td>0</td>\n",
       "    </tr>\n",
       "  </tbody>\n",
       "</table>\n",
       "<p>14016 rows × 6167 columns</p>\n",
       "</div>"
      ],
      "text/plain": [
       "      sequence         0         1         2         3         4         5  \\\n",
       "0       Q6A8L0  0.113636  0.064394  0.037879  0.094697  0.003788  0.026515   \n",
       "1       Q7V7T9  0.093333  0.075556  0.008889  0.057778  0.017778  0.075556   \n",
       "...        ...       ...       ...       ...       ...       ...       ...   \n",
       "14014   Q16AE8  0.085714  0.100000  0.042857  0.035714  0.003571  0.035714   \n",
       "14015   Q486Z0  0.099010  0.054455  0.049505  0.064356  0.012376  0.032178   \n",
       "\n",
       "              6         7         8  ...      6156      6157      6158  \\\n",
       "0      0.094697  0.075758  0.007576  ... -0.176603  0.095661  0.036870   \n",
       "1      0.080000  0.102222  0.022222  ... -0.379992  0.147494  0.075313   \n",
       "...         ...       ...       ...  ...       ...       ...       ...   \n",
       "14014  0.035714  0.132143  0.025000  ... -0.016353  0.255953  0.160380   \n",
       "14015  0.074257  0.076733  0.032178  ... -0.158786 -0.056541  0.011900   \n",
       "\n",
       "           6159      6160      6161      6162      6163      6164  label  \n",
       "0      0.059194 -0.037333  0.149248 -0.051019  0.038219 -0.041694      1  \n",
       "1     -0.018626  0.090156  0.111229 -0.194673  0.055714  0.022726      1  \n",
       "...         ...       ...       ...       ...       ...       ...    ...  \n",
       "14014 -0.014287 -0.114906  0.139985 -0.097824  0.085277  0.372806      0  \n",
       "14015 -0.057320 -0.065921  0.156501 -0.131794  0.367778 -0.079480      0  \n",
       "\n",
       "[14016 rows x 6167 columns]"
      ]
     },
     "metadata": {},
     "output_type": "display_data"
    }
   ],
   "source": [
    "fu.check_with_df(Xs, ys, sequence_id)"
   ]
  },
  {
   "cell_type": "markdown",
   "id": "0e07d819-b9a7-496a-879d-e401cfe75284",
   "metadata": {
    "tags": []
   },
   "source": [
    "- **Pooling Operation:  `max`**"
   ]
  },
  {
   "cell_type": "markdown",
   "id": "c8bab97f-0a70-494d-af57-a673f3c02054",
   "metadata": {},
   "source": [
    "Update arguments and prepare paths"
   ]
  },
  {
   "cell_type": "code",
   "execution_count": 15,
   "id": "d673836d-461f-42f4-beb5-17f12009e5ac",
   "metadata": {
    "execution": {
     "iopub.execute_input": "2022-09-09T18:09:50.010486Z",
     "iopub.status.busy": "2022-09-09T18:09:50.009767Z",
     "iopub.status.idle": "2022-09-09T18:09:50.017949Z",
     "shell.execute_reply": "2022-09-09T18:09:50.016703Z",
     "shell.execute_reply.started": "2022-09-09T18:09:50.010462Z"
    },
    "tags": []
   },
   "outputs": [
    {
     "name": "stdout",
     "output_type": "stream",
     "text": [
      " ../data/dna_binding/train_prose.fa \n",
      " ../data/dna_binding/prose/train/dbp_train_mt_max\n"
     ]
    }
   ],
   "source": [
    "# Update arguments\n",
    "model = 'prose_mt'\n",
    "pool = 'max'\n",
    "# Prepare paths\n",
    "path_pt, _, path_fa = fu.file_paths(ptmodel, task, file_base, model, pool)\n",
    "print('', path_fa, '\\n', path_pt)"
   ]
  },
  {
   "cell_type": "markdown",
   "id": "22a4e705-532d-4dde-9e9a-301a18f687ab",
   "metadata": {},
   "source": [
    "Extract embeddings with `read_embedings` function."
   ]
  },
  {
   "cell_type": "code",
   "execution_count": 16,
   "id": "7f243474-8e86-466a-83d7-d7d3fea796b0",
   "metadata": {
    "execution": {
     "iopub.execute_input": "2022-09-09T18:10:01.991571Z",
     "iopub.status.busy": "2022-09-09T18:10:01.991286Z",
     "iopub.status.idle": "2022-09-09T18:12:42.633012Z",
     "shell.execute_reply": "2022-09-09T18:12:42.632256Z",
     "shell.execute_reply.started": "2022-09-09T18:10:01.991552Z"
    },
    "tags": []
   },
   "outputs": [
    {
     "name": "stdout",
     "output_type": "stream",
     "text": [
      "Shape of embeddings: \t\t(14016, 6165)\n",
      "Length of target label list:\t14016\n",
      "Length of sequential ids list:\t14016\n"
     ]
    }
   ],
   "source": [
    "Xs, ys, sequence_id = fu.read_embeddings(path_fa, path_pt, pool, emb_layer)"
   ]
  },
  {
   "cell_type": "markdown",
   "id": "d12ced0e-e2e6-4bac-83fe-74c55994c0c7",
   "metadata": {},
   "source": [
    "Check our data with `check_with_df` function."
   ]
  },
  {
   "cell_type": "code",
   "execution_count": 17,
   "id": "79d68a44-79ae-457a-b898-606b09645150",
   "metadata": {
    "execution": {
     "iopub.execute_input": "2022-09-09T18:13:24.710946Z",
     "iopub.status.busy": "2022-09-09T18:13:24.710677Z",
     "iopub.status.idle": "2022-09-09T18:13:25.707594Z",
     "shell.execute_reply": "2022-09-09T18:13:25.706818Z",
     "shell.execute_reply.started": "2022-09-09T18:13:24.710927Z"
    },
    "tags": []
   },
   "outputs": [
    {
     "data": {
      "text/html": [
       "<div>\n",
       "<style scoped>\n",
       "    .dataframe tbody tr th:only-of-type {\n",
       "        vertical-align: middle;\n",
       "    }\n",
       "\n",
       "    .dataframe tbody tr th {\n",
       "        vertical-align: top;\n",
       "    }\n",
       "\n",
       "    .dataframe thead th {\n",
       "        text-align: right;\n",
       "    }\n",
       "</style>\n",
       "<table border=\"1\" class=\"dataframe\">\n",
       "  <thead>\n",
       "    <tr style=\"text-align: right;\">\n",
       "      <th></th>\n",
       "      <th>sequence</th>\n",
       "      <th>0</th>\n",
       "      <th>1</th>\n",
       "      <th>2</th>\n",
       "      <th>3</th>\n",
       "      <th>4</th>\n",
       "      <th>5</th>\n",
       "      <th>6</th>\n",
       "      <th>7</th>\n",
       "      <th>8</th>\n",
       "      <th>...</th>\n",
       "      <th>6156</th>\n",
       "      <th>6157</th>\n",
       "      <th>6158</th>\n",
       "      <th>6159</th>\n",
       "      <th>6160</th>\n",
       "      <th>6161</th>\n",
       "      <th>6162</th>\n",
       "      <th>6163</th>\n",
       "      <th>6164</th>\n",
       "      <th>label</th>\n",
       "    </tr>\n",
       "  </thead>\n",
       "  <tbody>\n",
       "    <tr>\n",
       "      <th>0</th>\n",
       "      <td>Q6A8L0</td>\n",
       "      <td>1.0</td>\n",
       "      <td>1.0</td>\n",
       "      <td>1.0</td>\n",
       "      <td>1.0</td>\n",
       "      <td>1.0</td>\n",
       "      <td>1.0</td>\n",
       "      <td>1.0</td>\n",
       "      <td>1.0</td>\n",
       "      <td>1.0</td>\n",
       "      <td>...</td>\n",
       "      <td>0.031456</td>\n",
       "      <td>0.868353</td>\n",
       "      <td>0.564631</td>\n",
       "      <td>0.868619</td>\n",
       "      <td>0.543947</td>\n",
       "      <td>0.995774</td>\n",
       "      <td>0.086551</td>\n",
       "      <td>0.185510</td>\n",
       "      <td>0.422129</td>\n",
       "      <td>1</td>\n",
       "    </tr>\n",
       "    <tr>\n",
       "      <th>1</th>\n",
       "      <td>Q7V7T9</td>\n",
       "      <td>1.0</td>\n",
       "      <td>1.0</td>\n",
       "      <td>1.0</td>\n",
       "      <td>1.0</td>\n",
       "      <td>1.0</td>\n",
       "      <td>1.0</td>\n",
       "      <td>1.0</td>\n",
       "      <td>1.0</td>\n",
       "      <td>1.0</td>\n",
       "      <td>...</td>\n",
       "      <td>-0.007239</td>\n",
       "      <td>0.990007</td>\n",
       "      <td>0.933836</td>\n",
       "      <td>0.752532</td>\n",
       "      <td>0.985601</td>\n",
       "      <td>0.990459</td>\n",
       "      <td>0.052465</td>\n",
       "      <td>0.450199</td>\n",
       "      <td>0.633835</td>\n",
       "      <td>1</td>\n",
       "    </tr>\n",
       "    <tr>\n",
       "      <th>...</th>\n",
       "      <td>...</td>\n",
       "      <td>...</td>\n",
       "      <td>...</td>\n",
       "      <td>...</td>\n",
       "      <td>...</td>\n",
       "      <td>...</td>\n",
       "      <td>...</td>\n",
       "      <td>...</td>\n",
       "      <td>...</td>\n",
       "      <td>...</td>\n",
       "      <td>...</td>\n",
       "      <td>...</td>\n",
       "      <td>...</td>\n",
       "      <td>...</td>\n",
       "      <td>...</td>\n",
       "      <td>...</td>\n",
       "      <td>...</td>\n",
       "      <td>...</td>\n",
       "      <td>...</td>\n",
       "      <td>...</td>\n",
       "      <td>...</td>\n",
       "    </tr>\n",
       "    <tr>\n",
       "      <th>14014</th>\n",
       "      <td>Q16AE8</td>\n",
       "      <td>1.0</td>\n",
       "      <td>1.0</td>\n",
       "      <td>1.0</td>\n",
       "      <td>1.0</td>\n",
       "      <td>1.0</td>\n",
       "      <td>1.0</td>\n",
       "      <td>1.0</td>\n",
       "      <td>1.0</td>\n",
       "      <td>1.0</td>\n",
       "      <td>...</td>\n",
       "      <td>0.157115</td>\n",
       "      <td>0.982936</td>\n",
       "      <td>0.908918</td>\n",
       "      <td>0.618211</td>\n",
       "      <td>0.044996</td>\n",
       "      <td>0.931821</td>\n",
       "      <td>-0.000162</td>\n",
       "      <td>0.249665</td>\n",
       "      <td>0.975980</td>\n",
       "      <td>0</td>\n",
       "    </tr>\n",
       "    <tr>\n",
       "      <th>14015</th>\n",
       "      <td>Q486Z0</td>\n",
       "      <td>1.0</td>\n",
       "      <td>1.0</td>\n",
       "      <td>1.0</td>\n",
       "      <td>1.0</td>\n",
       "      <td>1.0</td>\n",
       "      <td>1.0</td>\n",
       "      <td>1.0</td>\n",
       "      <td>1.0</td>\n",
       "      <td>1.0</td>\n",
       "      <td>...</td>\n",
       "      <td>0.437450</td>\n",
       "      <td>0.934017</td>\n",
       "      <td>0.826290</td>\n",
       "      <td>0.800415</td>\n",
       "      <td>0.822493</td>\n",
       "      <td>0.994496</td>\n",
       "      <td>-0.000129</td>\n",
       "      <td>0.967463</td>\n",
       "      <td>0.499478</td>\n",
       "      <td>0</td>\n",
       "    </tr>\n",
       "  </tbody>\n",
       "</table>\n",
       "<p>14016 rows × 6167 columns</p>\n",
       "</div>"
      ],
      "text/plain": [
       "      sequence    0    1    2    3    4    5    6    7    8  ...      6156  \\\n",
       "0       Q6A8L0  1.0  1.0  1.0  1.0  1.0  1.0  1.0  1.0  1.0  ...  0.031456   \n",
       "1       Q7V7T9  1.0  1.0  1.0  1.0  1.0  1.0  1.0  1.0  1.0  ... -0.007239   \n",
       "...        ...  ...  ...  ...  ...  ...  ...  ...  ...  ...  ...       ...   \n",
       "14014   Q16AE8  1.0  1.0  1.0  1.0  1.0  1.0  1.0  1.0  1.0  ...  0.157115   \n",
       "14015   Q486Z0  1.0  1.0  1.0  1.0  1.0  1.0  1.0  1.0  1.0  ...  0.437450   \n",
       "\n",
       "           6157      6158      6159      6160      6161      6162      6163  \\\n",
       "0      0.868353  0.564631  0.868619  0.543947  0.995774  0.086551  0.185510   \n",
       "1      0.990007  0.933836  0.752532  0.985601  0.990459  0.052465  0.450199   \n",
       "...         ...       ...       ...       ...       ...       ...       ...   \n",
       "14014  0.982936  0.908918  0.618211  0.044996  0.931821 -0.000162  0.249665   \n",
       "14015  0.934017  0.826290  0.800415  0.822493  0.994496 -0.000129  0.967463   \n",
       "\n",
       "           6164  label  \n",
       "0      0.422129      1  \n",
       "1      0.633835      1  \n",
       "...         ...    ...  \n",
       "14014  0.975980      0  \n",
       "14015  0.499478      0  \n",
       "\n",
       "[14016 rows x 6167 columns]"
      ]
     },
     "metadata": {},
     "output_type": "display_data"
    }
   ],
   "source": [
    "fu.check_with_df(Xs, ys, sequence_id)"
   ]
  },
  {
   "cell_type": "markdown",
   "id": "3303187c-426c-4cdc-8ea5-02c3bb040ea0",
   "metadata": {
    "tags": []
   },
   "source": [
    "- **Pooling Operation:  `sum`**"
   ]
  },
  {
   "cell_type": "markdown",
   "id": "fe5607c6-48ee-41d2-bf30-62a8873f6f4f",
   "metadata": {},
   "source": [
    "Update arguments and prepare paths"
   ]
  },
  {
   "cell_type": "code",
   "execution_count": 18,
   "id": "a5e74888-0056-4a0b-ab39-6188006d2f5e",
   "metadata": {
    "execution": {
     "iopub.execute_input": "2022-09-09T18:13:56.137127Z",
     "iopub.status.busy": "2022-09-09T18:13:56.136857Z",
     "iopub.status.idle": "2022-09-09T18:13:56.145049Z",
     "shell.execute_reply": "2022-09-09T18:13:56.144228Z",
     "shell.execute_reply.started": "2022-09-09T18:13:56.137107Z"
    },
    "tags": []
   },
   "outputs": [
    {
     "name": "stdout",
     "output_type": "stream",
     "text": [
      " ../data/dna_binding/train_prose.fa \n",
      " ../data/dna_binding/prose/train/dbp_train_mt_sum\n"
     ]
    }
   ],
   "source": [
    "# Update arguments\n",
    "model = 'prose_mt'\n",
    "pool = 'sum'\n",
    "# Prepare paths\n",
    "path_pt, _, path_fa = fu.file_paths(ptmodel, task, file_base, model, pool)\n",
    "print('', path_fa, '\\n', path_pt)"
   ]
  },
  {
   "cell_type": "markdown",
   "id": "605a612e-1a09-41bc-97f8-2527b0ff5070",
   "metadata": {},
   "source": [
    "Extract embeddings with `read_embedings` function."
   ]
  },
  {
   "cell_type": "code",
   "execution_count": 19,
   "id": "2877e46c-6b54-4fa7-a392-ade47739becb",
   "metadata": {
    "execution": {
     "iopub.execute_input": "2022-09-09T18:14:40.630896Z",
     "iopub.status.busy": "2022-09-09T18:14:40.630629Z",
     "iopub.status.idle": "2022-09-09T18:17:22.539037Z",
     "shell.execute_reply": "2022-09-09T18:17:22.538291Z",
     "shell.execute_reply.started": "2022-09-09T18:14:40.630876Z"
    },
    "tags": []
   },
   "outputs": [
    {
     "name": "stdout",
     "output_type": "stream",
     "text": [
      "Shape of embeddings: \t\t(14016, 6165)\n",
      "Length of target label list:\t14016\n",
      "Length of sequential ids list:\t14016\n"
     ]
    }
   ],
   "source": [
    "Xs, ys, sequence_id = fu.read_embeddings(path_fa, path_pt, pool, emb_layer)"
   ]
  },
  {
   "cell_type": "markdown",
   "id": "b6338a7c-889c-4889-b461-db332c1212dc",
   "metadata": {},
   "source": [
    "Check our data with `check_with_df` function."
   ]
  },
  {
   "cell_type": "code",
   "execution_count": 20,
   "id": "a1b1df1c-1794-4681-8a76-9304518ef89b",
   "metadata": {
    "execution": {
     "iopub.execute_input": "2022-09-09T18:18:24.018962Z",
     "iopub.status.busy": "2022-09-09T18:18:24.018695Z",
     "iopub.status.idle": "2022-09-09T18:18:24.991350Z",
     "shell.execute_reply": "2022-09-09T18:18:24.990201Z",
     "shell.execute_reply.started": "2022-09-09T18:18:24.018943Z"
    },
    "tags": []
   },
   "outputs": [
    {
     "data": {
      "text/html": [
       "<div>\n",
       "<style scoped>\n",
       "    .dataframe tbody tr th:only-of-type {\n",
       "        vertical-align: middle;\n",
       "    }\n",
       "\n",
       "    .dataframe tbody tr th {\n",
       "        vertical-align: top;\n",
       "    }\n",
       "\n",
       "    .dataframe thead th {\n",
       "        text-align: right;\n",
       "    }\n",
       "</style>\n",
       "<table border=\"1\" class=\"dataframe\">\n",
       "  <thead>\n",
       "    <tr style=\"text-align: right;\">\n",
       "      <th></th>\n",
       "      <th>sequence</th>\n",
       "      <th>0</th>\n",
       "      <th>1</th>\n",
       "      <th>2</th>\n",
       "      <th>3</th>\n",
       "      <th>4</th>\n",
       "      <th>5</th>\n",
       "      <th>6</th>\n",
       "      <th>7</th>\n",
       "      <th>8</th>\n",
       "      <th>...</th>\n",
       "      <th>6156</th>\n",
       "      <th>6157</th>\n",
       "      <th>6158</th>\n",
       "      <th>6159</th>\n",
       "      <th>6160</th>\n",
       "      <th>6161</th>\n",
       "      <th>6162</th>\n",
       "      <th>6163</th>\n",
       "      <th>6164</th>\n",
       "      <th>label</th>\n",
       "    </tr>\n",
       "  </thead>\n",
       "  <tbody>\n",
       "    <tr>\n",
       "      <th>0</th>\n",
       "      <td>Q6A8L0</td>\n",
       "      <td>30.0</td>\n",
       "      <td>17.0</td>\n",
       "      <td>10.0</td>\n",
       "      <td>25.0</td>\n",
       "      <td>1.0</td>\n",
       "      <td>7.0</td>\n",
       "      <td>25.0</td>\n",
       "      <td>20.0</td>\n",
       "      <td>2.0</td>\n",
       "      <td>...</td>\n",
       "      <td>-46.623241</td>\n",
       "      <td>25.254379</td>\n",
       "      <td>9.733679</td>\n",
       "      <td>15.627245</td>\n",
       "      <td>-9.855886</td>\n",
       "      <td>39.401455</td>\n",
       "      <td>-13.469040</td>\n",
       "      <td>10.089860</td>\n",
       "      <td>-11.007279</td>\n",
       "      <td>1</td>\n",
       "    </tr>\n",
       "    <tr>\n",
       "      <th>1</th>\n",
       "      <td>Q7V7T9</td>\n",
       "      <td>21.0</td>\n",
       "      <td>17.0</td>\n",
       "      <td>2.0</td>\n",
       "      <td>13.0</td>\n",
       "      <td>4.0</td>\n",
       "      <td>17.0</td>\n",
       "      <td>18.0</td>\n",
       "      <td>23.0</td>\n",
       "      <td>5.0</td>\n",
       "      <td>...</td>\n",
       "      <td>-85.498138</td>\n",
       "      <td>33.186237</td>\n",
       "      <td>16.945395</td>\n",
       "      <td>-4.190884</td>\n",
       "      <td>20.285025</td>\n",
       "      <td>25.026552</td>\n",
       "      <td>-43.801403</td>\n",
       "      <td>12.535753</td>\n",
       "      <td>5.113260</td>\n",
       "      <td>1</td>\n",
       "    </tr>\n",
       "    <tr>\n",
       "      <th>...</th>\n",
       "      <td>...</td>\n",
       "      <td>...</td>\n",
       "      <td>...</td>\n",
       "      <td>...</td>\n",
       "      <td>...</td>\n",
       "      <td>...</td>\n",
       "      <td>...</td>\n",
       "      <td>...</td>\n",
       "      <td>...</td>\n",
       "      <td>...</td>\n",
       "      <td>...</td>\n",
       "      <td>...</td>\n",
       "      <td>...</td>\n",
       "      <td>...</td>\n",
       "      <td>...</td>\n",
       "      <td>...</td>\n",
       "      <td>...</td>\n",
       "      <td>...</td>\n",
       "      <td>...</td>\n",
       "      <td>...</td>\n",
       "      <td>...</td>\n",
       "    </tr>\n",
       "    <tr>\n",
       "      <th>14014</th>\n",
       "      <td>Q16AE8</td>\n",
       "      <td>24.0</td>\n",
       "      <td>28.0</td>\n",
       "      <td>12.0</td>\n",
       "      <td>10.0</td>\n",
       "      <td>1.0</td>\n",
       "      <td>10.0</td>\n",
       "      <td>10.0</td>\n",
       "      <td>37.0</td>\n",
       "      <td>7.0</td>\n",
       "      <td>...</td>\n",
       "      <td>-4.578764</td>\n",
       "      <td>71.666748</td>\n",
       "      <td>44.906357</td>\n",
       "      <td>-4.000475</td>\n",
       "      <td>-32.173798</td>\n",
       "      <td>39.195778</td>\n",
       "      <td>-27.390800</td>\n",
       "      <td>23.877583</td>\n",
       "      <td>104.385681</td>\n",
       "      <td>0</td>\n",
       "    </tr>\n",
       "    <tr>\n",
       "      <th>14015</th>\n",
       "      <td>Q486Z0</td>\n",
       "      <td>40.0</td>\n",
       "      <td>22.0</td>\n",
       "      <td>20.0</td>\n",
       "      <td>26.0</td>\n",
       "      <td>5.0</td>\n",
       "      <td>13.0</td>\n",
       "      <td>30.0</td>\n",
       "      <td>31.0</td>\n",
       "      <td>13.0</td>\n",
       "      <td>...</td>\n",
       "      <td>-64.149536</td>\n",
       "      <td>-22.842548</td>\n",
       "      <td>4.807764</td>\n",
       "      <td>-23.157238</td>\n",
       "      <td>-26.632029</td>\n",
       "      <td>63.226501</td>\n",
       "      <td>-53.244881</td>\n",
       "      <td>148.582184</td>\n",
       "      <td>-32.109756</td>\n",
       "      <td>0</td>\n",
       "    </tr>\n",
       "  </tbody>\n",
       "</table>\n",
       "<p>14016 rows × 6167 columns</p>\n",
       "</div>"
      ],
      "text/plain": [
       "      sequence     0     1     2     3    4     5     6     7     8  ...  \\\n",
       "0       Q6A8L0  30.0  17.0  10.0  25.0  1.0   7.0  25.0  20.0   2.0  ...   \n",
       "1       Q7V7T9  21.0  17.0   2.0  13.0  4.0  17.0  18.0  23.0   5.0  ...   \n",
       "...        ...   ...   ...   ...   ...  ...   ...   ...   ...   ...  ...   \n",
       "14014   Q16AE8  24.0  28.0  12.0  10.0  1.0  10.0  10.0  37.0   7.0  ...   \n",
       "14015   Q486Z0  40.0  22.0  20.0  26.0  5.0  13.0  30.0  31.0  13.0  ...   \n",
       "\n",
       "            6156       6157       6158       6159       6160       6161  \\\n",
       "0     -46.623241  25.254379   9.733679  15.627245  -9.855886  39.401455   \n",
       "1     -85.498138  33.186237  16.945395  -4.190884  20.285025  25.026552   \n",
       "...          ...        ...        ...        ...        ...        ...   \n",
       "14014  -4.578764  71.666748  44.906357  -4.000475 -32.173798  39.195778   \n",
       "14015 -64.149536 -22.842548   4.807764 -23.157238 -26.632029  63.226501   \n",
       "\n",
       "            6162        6163        6164  label  \n",
       "0     -13.469040   10.089860  -11.007279      1  \n",
       "1     -43.801403   12.535753    5.113260      1  \n",
       "...          ...         ...         ...    ...  \n",
       "14014 -27.390800   23.877583  104.385681      0  \n",
       "14015 -53.244881  148.582184  -32.109756      0  \n",
       "\n",
       "[14016 rows x 6167 columns]"
      ]
     },
     "metadata": {},
     "output_type": "display_data"
    }
   ],
   "source": [
    "fu.check_with_df(Xs, ys, sequence_id)"
   ]
  },
  {
   "cell_type": "markdown",
   "id": "56bfbb3f-22b1-43df-8703-1baebcafc2d5",
   "metadata": {},
   "source": [
    "<br>\n",
    "\n",
    "## Test Dataset"
   ]
  },
  {
   "cell_type": "markdown",
   "id": "28fe2373-8dae-4bde-84ae-55e71af91b08",
   "metadata": {},
   "source": [
    "### ProSE DLM model - prose_dlm"
   ]
  },
  {
   "cell_type": "markdown",
   "id": "8766825b-117e-4250-9e2c-19312e34afda",
   "metadata": {
    "tags": []
   },
   "source": [
    "- **Pooling Operation:  `avg`**"
   ]
  },
  {
   "cell_type": "markdown",
   "id": "71104cd2-6d36-458d-b4d3-2872df373809",
   "metadata": {},
   "source": [
    "Update arguments and prepare paths"
   ]
  },
  {
   "cell_type": "code",
   "execution_count": 21,
   "id": "867e75e2-b47d-4302-8a4a-49ef0710b5d5",
   "metadata": {
    "execution": {
     "iopub.execute_input": "2022-09-09T18:18:49.971741Z",
     "iopub.status.busy": "2022-09-09T18:18:49.971478Z",
     "iopub.status.idle": "2022-09-09T18:18:49.980369Z",
     "shell.execute_reply": "2022-09-09T18:18:49.979551Z",
     "shell.execute_reply.started": "2022-09-09T18:18:49.971722Z"
    },
    "tags": []
   },
   "outputs": [
    {
     "name": "stdout",
     "output_type": "stream",
     "text": [
      " ../data/dna_binding/test_prose.fa \n",
      " ../data/dna_binding/prose/test/dbp_test_dlm_avg\n"
     ]
    }
   ],
   "source": [
    "# Update arguments\n",
    "file_base = 'test'\n",
    "model = 'prose_dlm'\n",
    "pool = 'avg'\n",
    "# Prepare paths\n",
    "path_pt, _, path_fa = fu.file_paths(ptmodel, task, file_base, model, pool)\n",
    "print('', path_fa, '\\n', path_pt)"
   ]
  },
  {
   "cell_type": "markdown",
   "id": "f4563def-1852-4527-9066-0d5eaa18ad52",
   "metadata": {},
   "source": [
    "Extract embeddings with `read_embedings` function."
   ]
  },
  {
   "cell_type": "code",
   "execution_count": 22,
   "id": "76ae0a12-2ca7-473c-807e-591a40564a39",
   "metadata": {
    "execution": {
     "iopub.execute_input": "2022-09-09T18:19:01.896004Z",
     "iopub.status.busy": "2022-09-09T18:19:01.895721Z",
     "iopub.status.idle": "2022-09-09T18:19:28.235633Z",
     "shell.execute_reply": "2022-09-09T18:19:28.234738Z",
     "shell.execute_reply.started": "2022-09-09T18:19:01.895984Z"
    },
    "tags": []
   },
   "outputs": [
    {
     "name": "stdout",
     "output_type": "stream",
     "text": [
      "Shape of embeddings: \t\t(2272, 6165)\n",
      "Length of target label list:\t2272\n",
      "Length of sequential ids list:\t2272\n"
     ]
    }
   ],
   "source": [
    "Xs, ys, sequence_id = fu.read_embeddings(path_fa, path_pt, pool, emb_layer)"
   ]
  },
  {
   "cell_type": "markdown",
   "id": "e7c7302c-63e9-4844-b4d9-beb34f4e13a9",
   "metadata": {},
   "source": [
    "Check our data with `check_with_df` function."
   ]
  },
  {
   "cell_type": "code",
   "execution_count": 23,
   "id": "7cb2524d-1626-4899-aa14-1ac672f52519",
   "metadata": {
    "execution": {
     "iopub.execute_input": "2022-09-09T18:20:04.816101Z",
     "iopub.status.busy": "2022-09-09T18:20:04.815821Z",
     "iopub.status.idle": "2022-09-09T18:20:04.892914Z",
     "shell.execute_reply": "2022-09-09T18:20:04.892098Z",
     "shell.execute_reply.started": "2022-09-09T18:20:04.816083Z"
    },
    "tags": []
   },
   "outputs": [
    {
     "data": {
      "text/html": [
       "<div>\n",
       "<style scoped>\n",
       "    .dataframe tbody tr th:only-of-type {\n",
       "        vertical-align: middle;\n",
       "    }\n",
       "\n",
       "    .dataframe tbody tr th {\n",
       "        vertical-align: top;\n",
       "    }\n",
       "\n",
       "    .dataframe thead th {\n",
       "        text-align: right;\n",
       "    }\n",
       "</style>\n",
       "<table border=\"1\" class=\"dataframe\">\n",
       "  <thead>\n",
       "    <tr style=\"text-align: right;\">\n",
       "      <th></th>\n",
       "      <th>sequence</th>\n",
       "      <th>0</th>\n",
       "      <th>1</th>\n",
       "      <th>2</th>\n",
       "      <th>3</th>\n",
       "      <th>4</th>\n",
       "      <th>5</th>\n",
       "      <th>6</th>\n",
       "      <th>7</th>\n",
       "      <th>8</th>\n",
       "      <th>...</th>\n",
       "      <th>6156</th>\n",
       "      <th>6157</th>\n",
       "      <th>6158</th>\n",
       "      <th>6159</th>\n",
       "      <th>6160</th>\n",
       "      <th>6161</th>\n",
       "      <th>6162</th>\n",
       "      <th>6163</th>\n",
       "      <th>6164</th>\n",
       "      <th>label</th>\n",
       "    </tr>\n",
       "  </thead>\n",
       "  <tbody>\n",
       "    <tr>\n",
       "      <th>0</th>\n",
       "      <td>P27204|1</td>\n",
       "      <td>0.138614</td>\n",
       "      <td>0.267327</td>\n",
       "      <td>0.029703</td>\n",
       "      <td>0.000000</td>\n",
       "      <td>0.000000</td>\n",
       "      <td>0.000000</td>\n",
       "      <td>0.000000</td>\n",
       "      <td>0.019802</td>\n",
       "      <td>0.029703</td>\n",
       "      <td>...</td>\n",
       "      <td>-0.126832</td>\n",
       "      <td>0.010812</td>\n",
       "      <td>0.051377</td>\n",
       "      <td>-0.000109</td>\n",
       "      <td>-0.102151</td>\n",
       "      <td>0.111184</td>\n",
       "      <td>-0.080012</td>\n",
       "      <td>-0.138695</td>\n",
       "      <td>0.082615</td>\n",
       "      <td>1</td>\n",
       "    </tr>\n",
       "    <tr>\n",
       "      <th>1</th>\n",
       "      <td>P53528|1</td>\n",
       "      <td>0.151261</td>\n",
       "      <td>0.088235</td>\n",
       "      <td>0.019608</td>\n",
       "      <td>0.057423</td>\n",
       "      <td>0.012605</td>\n",
       "      <td>0.046218</td>\n",
       "      <td>0.063025</td>\n",
       "      <td>0.063025</td>\n",
       "      <td>0.018207</td>\n",
       "      <td>...</td>\n",
       "      <td>-0.210425</td>\n",
       "      <td>-0.009928</td>\n",
       "      <td>0.025247</td>\n",
       "      <td>0.011334</td>\n",
       "      <td>-0.234925</td>\n",
       "      <td>0.017712</td>\n",
       "      <td>-0.142075</td>\n",
       "      <td>0.116288</td>\n",
       "      <td>0.048743</td>\n",
       "      <td>1</td>\n",
       "    </tr>\n",
       "    <tr>\n",
       "      <th>...</th>\n",
       "      <td>...</td>\n",
       "      <td>...</td>\n",
       "      <td>...</td>\n",
       "      <td>...</td>\n",
       "      <td>...</td>\n",
       "      <td>...</td>\n",
       "      <td>...</td>\n",
       "      <td>...</td>\n",
       "      <td>...</td>\n",
       "      <td>...</td>\n",
       "      <td>...</td>\n",
       "      <td>...</td>\n",
       "      <td>...</td>\n",
       "      <td>...</td>\n",
       "      <td>...</td>\n",
       "      <td>...</td>\n",
       "      <td>...</td>\n",
       "      <td>...</td>\n",
       "      <td>...</td>\n",
       "      <td>...</td>\n",
       "      <td>...</td>\n",
       "    </tr>\n",
       "    <tr>\n",
       "      <th>2270</th>\n",
       "      <td>P80484|2</td>\n",
       "      <td>0.210811</td>\n",
       "      <td>0.018919</td>\n",
       "      <td>0.032432</td>\n",
       "      <td>0.064865</td>\n",
       "      <td>0.002703</td>\n",
       "      <td>0.032432</td>\n",
       "      <td>0.027027</td>\n",
       "      <td>0.064865</td>\n",
       "      <td>0.013514</td>\n",
       "      <td>...</td>\n",
       "      <td>0.232649</td>\n",
       "      <td>-0.009447</td>\n",
       "      <td>0.084011</td>\n",
       "      <td>0.017176</td>\n",
       "      <td>-0.100683</td>\n",
       "      <td>0.123371</td>\n",
       "      <td>0.019268</td>\n",
       "      <td>-0.014178</td>\n",
       "      <td>-0.005585</td>\n",
       "      <td>0</td>\n",
       "    </tr>\n",
       "    <tr>\n",
       "      <th>2271</th>\n",
       "      <td>Q57837|2</td>\n",
       "      <td>0.038348</td>\n",
       "      <td>0.026549</td>\n",
       "      <td>0.041298</td>\n",
       "      <td>0.035398</td>\n",
       "      <td>0.002950</td>\n",
       "      <td>0.005900</td>\n",
       "      <td>0.058997</td>\n",
       "      <td>0.082596</td>\n",
       "      <td>0.014749</td>\n",
       "      <td>...</td>\n",
       "      <td>-0.130443</td>\n",
       "      <td>0.037440</td>\n",
       "      <td>-0.005931</td>\n",
       "      <td>0.045478</td>\n",
       "      <td>-0.048512</td>\n",
       "      <td>0.077510</td>\n",
       "      <td>-0.125126</td>\n",
       "      <td>0.125926</td>\n",
       "      <td>-0.023890</td>\n",
       "      <td>0</td>\n",
       "    </tr>\n",
       "  </tbody>\n",
       "</table>\n",
       "<p>2272 rows × 6167 columns</p>\n",
       "</div>"
      ],
      "text/plain": [
       "      sequence         0         1         2         3         4         5  \\\n",
       "0     P27204|1  0.138614  0.267327  0.029703  0.000000  0.000000  0.000000   \n",
       "1     P53528|1  0.151261  0.088235  0.019608  0.057423  0.012605  0.046218   \n",
       "...        ...       ...       ...       ...       ...       ...       ...   \n",
       "2270  P80484|2  0.210811  0.018919  0.032432  0.064865  0.002703  0.032432   \n",
       "2271  Q57837|2  0.038348  0.026549  0.041298  0.035398  0.002950  0.005900   \n",
       "\n",
       "             6         7         8  ...      6156      6157      6158  \\\n",
       "0     0.000000  0.019802  0.029703  ... -0.126832  0.010812  0.051377   \n",
       "1     0.063025  0.063025  0.018207  ... -0.210425 -0.009928  0.025247   \n",
       "...        ...       ...       ...  ...       ...       ...       ...   \n",
       "2270  0.027027  0.064865  0.013514  ...  0.232649 -0.009447  0.084011   \n",
       "2271  0.058997  0.082596  0.014749  ... -0.130443  0.037440 -0.005931   \n",
       "\n",
       "          6159      6160      6161      6162      6163      6164  label  \n",
       "0    -0.000109 -0.102151  0.111184 -0.080012 -0.138695  0.082615      1  \n",
       "1     0.011334 -0.234925  0.017712 -0.142075  0.116288  0.048743      1  \n",
       "...        ...       ...       ...       ...       ...       ...    ...  \n",
       "2270  0.017176 -0.100683  0.123371  0.019268 -0.014178 -0.005585      0  \n",
       "2271  0.045478 -0.048512  0.077510 -0.125126  0.125926 -0.023890      0  \n",
       "\n",
       "[2272 rows x 6167 columns]"
      ]
     },
     "metadata": {},
     "output_type": "display_data"
    }
   ],
   "source": [
    "fu.check_with_df(Xs, ys, sequence_id)"
   ]
  },
  {
   "cell_type": "markdown",
   "id": "d0b1373a-dfcf-4d70-9761-ef20137ffd0e",
   "metadata": {
    "tags": []
   },
   "source": [
    "- **Pooling Operation:  `max`**"
   ]
  },
  {
   "cell_type": "markdown",
   "id": "fddecae6-4817-4b56-80fc-323aad77f0c6",
   "metadata": {},
   "source": [
    "Update arguments and prepare paths"
   ]
  },
  {
   "cell_type": "code",
   "execution_count": 24,
   "id": "2fb701b7-e25e-49c7-80ed-275d006bafe4",
   "metadata": {
    "execution": {
     "iopub.execute_input": "2022-09-09T18:20:30.818316Z",
     "iopub.status.busy": "2022-09-09T18:20:30.818031Z",
     "iopub.status.idle": "2022-09-09T18:20:30.826184Z",
     "shell.execute_reply": "2022-09-09T18:20:30.825361Z",
     "shell.execute_reply.started": "2022-09-09T18:20:30.818295Z"
    },
    "tags": []
   },
   "outputs": [
    {
     "name": "stdout",
     "output_type": "stream",
     "text": [
      " ../data/dna_binding/test_prose.fa \n",
      " ../data/dna_binding/prose/test/dbp_test_dlm_max\n"
     ]
    }
   ],
   "source": [
    "# Update arguments\n",
    "pool = 'max'\n",
    "# Prepare paths\n",
    "path_pt, _, path_fa = fu.file_paths(ptmodel, task, file_base, model, pool)\n",
    "print('', path_fa, '\\n', path_pt)"
   ]
  },
  {
   "cell_type": "markdown",
   "id": "0f416270-1277-4995-941e-d0e81af735bd",
   "metadata": {},
   "source": [
    "Extract embeddings with `read_embedings` function."
   ]
  },
  {
   "cell_type": "code",
   "execution_count": 25,
   "id": "e7426719-4344-4fff-9e57-5e11f77c0ef0",
   "metadata": {
    "execution": {
     "iopub.execute_input": "2022-09-09T18:20:44.961779Z",
     "iopub.status.busy": "2022-09-09T18:20:44.960740Z",
     "iopub.status.idle": "2022-09-09T18:21:10.618371Z",
     "shell.execute_reply": "2022-09-09T18:21:10.617573Z",
     "shell.execute_reply.started": "2022-09-09T18:20:44.961735Z"
    },
    "tags": []
   },
   "outputs": [
    {
     "name": "stdout",
     "output_type": "stream",
     "text": [
      "Shape of embeddings: \t\t(2272, 6165)\n",
      "Length of target label list:\t2272\n",
      "Length of sequential ids list:\t2272\n"
     ]
    }
   ],
   "source": [
    "Xs, ys, sequence_id = fu.read_embeddings(path_fa, path_pt, pool, emb_layer)"
   ]
  },
  {
   "cell_type": "markdown",
   "id": "03304baa-2a19-4fae-9d57-2aa6616c1678",
   "metadata": {},
   "source": [
    "Check our data with `check_with_df` function."
   ]
  },
  {
   "cell_type": "code",
   "execution_count": 26,
   "id": "5077a433-6b0e-4642-9d24-a46373ab78d6",
   "metadata": {
    "execution": {
     "iopub.execute_input": "2022-09-09T18:21:44.771091Z",
     "iopub.status.busy": "2022-09-09T18:21:44.770815Z",
     "iopub.status.idle": "2022-09-09T18:21:44.925394Z",
     "shell.execute_reply": "2022-09-09T18:21:44.924003Z",
     "shell.execute_reply.started": "2022-09-09T18:21:44.771072Z"
    },
    "tags": []
   },
   "outputs": [
    {
     "data": {
      "text/html": [
       "<div>\n",
       "<style scoped>\n",
       "    .dataframe tbody tr th:only-of-type {\n",
       "        vertical-align: middle;\n",
       "    }\n",
       "\n",
       "    .dataframe tbody tr th {\n",
       "        vertical-align: top;\n",
       "    }\n",
       "\n",
       "    .dataframe thead th {\n",
       "        text-align: right;\n",
       "    }\n",
       "</style>\n",
       "<table border=\"1\" class=\"dataframe\">\n",
       "  <thead>\n",
       "    <tr style=\"text-align: right;\">\n",
       "      <th></th>\n",
       "      <th>sequence</th>\n",
       "      <th>0</th>\n",
       "      <th>1</th>\n",
       "      <th>2</th>\n",
       "      <th>3</th>\n",
       "      <th>4</th>\n",
       "      <th>5</th>\n",
       "      <th>6</th>\n",
       "      <th>7</th>\n",
       "      <th>8</th>\n",
       "      <th>...</th>\n",
       "      <th>6156</th>\n",
       "      <th>6157</th>\n",
       "      <th>6158</th>\n",
       "      <th>6159</th>\n",
       "      <th>6160</th>\n",
       "      <th>6161</th>\n",
       "      <th>6162</th>\n",
       "      <th>6163</th>\n",
       "      <th>6164</th>\n",
       "      <th>label</th>\n",
       "    </tr>\n",
       "  </thead>\n",
       "  <tbody>\n",
       "    <tr>\n",
       "      <th>0</th>\n",
       "      <td>P27204|1</td>\n",
       "      <td>1.0</td>\n",
       "      <td>1.0</td>\n",
       "      <td>1.0</td>\n",
       "      <td>0.0</td>\n",
       "      <td>0.0</td>\n",
       "      <td>0.0</td>\n",
       "      <td>0.0</td>\n",
       "      <td>1.0</td>\n",
       "      <td>1.0</td>\n",
       "      <td>...</td>\n",
       "      <td>-0.001267</td>\n",
       "      <td>0.097833</td>\n",
       "      <td>0.190686</td>\n",
       "      <td>0.047367</td>\n",
       "      <td>0.000588</td>\n",
       "      <td>0.494923</td>\n",
       "      <td>0.202199</td>\n",
       "      <td>-0.015823</td>\n",
       "      <td>0.281614</td>\n",
       "      <td>1</td>\n",
       "    </tr>\n",
       "    <tr>\n",
       "      <th>1</th>\n",
       "      <td>P53528|1</td>\n",
       "      <td>1.0</td>\n",
       "      <td>1.0</td>\n",
       "      <td>1.0</td>\n",
       "      <td>1.0</td>\n",
       "      <td>1.0</td>\n",
       "      <td>1.0</td>\n",
       "      <td>1.0</td>\n",
       "      <td>1.0</td>\n",
       "      <td>1.0</td>\n",
       "      <td>...</td>\n",
       "      <td>0.017937</td>\n",
       "      <td>0.516417</td>\n",
       "      <td>0.817019</td>\n",
       "      <td>0.591379</td>\n",
       "      <td>0.696387</td>\n",
       "      <td>0.585353</td>\n",
       "      <td>0.010985</td>\n",
       "      <td>0.442446</td>\n",
       "      <td>0.918994</td>\n",
       "      <td>1</td>\n",
       "    </tr>\n",
       "    <tr>\n",
       "      <th>...</th>\n",
       "      <td>...</td>\n",
       "      <td>...</td>\n",
       "      <td>...</td>\n",
       "      <td>...</td>\n",
       "      <td>...</td>\n",
       "      <td>...</td>\n",
       "      <td>...</td>\n",
       "      <td>...</td>\n",
       "      <td>...</td>\n",
       "      <td>...</td>\n",
       "      <td>...</td>\n",
       "      <td>...</td>\n",
       "      <td>...</td>\n",
       "      <td>...</td>\n",
       "      <td>...</td>\n",
       "      <td>...</td>\n",
       "      <td>...</td>\n",
       "      <td>...</td>\n",
       "      <td>...</td>\n",
       "      <td>...</td>\n",
       "      <td>...</td>\n",
       "    </tr>\n",
       "    <tr>\n",
       "      <th>2270</th>\n",
       "      <td>P80484|2</td>\n",
       "      <td>1.0</td>\n",
       "      <td>1.0</td>\n",
       "      <td>1.0</td>\n",
       "      <td>1.0</td>\n",
       "      <td>1.0</td>\n",
       "      <td>1.0</td>\n",
       "      <td>1.0</td>\n",
       "      <td>1.0</td>\n",
       "      <td>1.0</td>\n",
       "      <td>...</td>\n",
       "      <td>0.532443</td>\n",
       "      <td>0.071653</td>\n",
       "      <td>0.321972</td>\n",
       "      <td>0.253031</td>\n",
       "      <td>0.466342</td>\n",
       "      <td>0.534482</td>\n",
       "      <td>0.335638</td>\n",
       "      <td>0.040889</td>\n",
       "      <td>0.048345</td>\n",
       "      <td>0</td>\n",
       "    </tr>\n",
       "    <tr>\n",
       "      <th>2271</th>\n",
       "      <td>Q57837|2</td>\n",
       "      <td>1.0</td>\n",
       "      <td>1.0</td>\n",
       "      <td>1.0</td>\n",
       "      <td>1.0</td>\n",
       "      <td>1.0</td>\n",
       "      <td>1.0</td>\n",
       "      <td>1.0</td>\n",
       "      <td>1.0</td>\n",
       "      <td>1.0</td>\n",
       "      <td>...</td>\n",
       "      <td>0.002863</td>\n",
       "      <td>0.672572</td>\n",
       "      <td>0.515865</td>\n",
       "      <td>0.878341</td>\n",
       "      <td>0.796702</td>\n",
       "      <td>0.919690</td>\n",
       "      <td>-0.000859</td>\n",
       "      <td>0.423690</td>\n",
       "      <td>0.214172</td>\n",
       "      <td>0</td>\n",
       "    </tr>\n",
       "  </tbody>\n",
       "</table>\n",
       "<p>2272 rows × 6167 columns</p>\n",
       "</div>"
      ],
      "text/plain": [
       "      sequence    0    1    2    3    4    5    6    7    8  ...      6156  \\\n",
       "0     P27204|1  1.0  1.0  1.0  0.0  0.0  0.0  0.0  1.0  1.0  ... -0.001267   \n",
       "1     P53528|1  1.0  1.0  1.0  1.0  1.0  1.0  1.0  1.0  1.0  ...  0.017937   \n",
       "...        ...  ...  ...  ...  ...  ...  ...  ...  ...  ...  ...       ...   \n",
       "2270  P80484|2  1.0  1.0  1.0  1.0  1.0  1.0  1.0  1.0  1.0  ...  0.532443   \n",
       "2271  Q57837|2  1.0  1.0  1.0  1.0  1.0  1.0  1.0  1.0  1.0  ...  0.002863   \n",
       "\n",
       "          6157      6158      6159      6160      6161      6162      6163  \\\n",
       "0     0.097833  0.190686  0.047367  0.000588  0.494923  0.202199 -0.015823   \n",
       "1     0.516417  0.817019  0.591379  0.696387  0.585353  0.010985  0.442446   \n",
       "...        ...       ...       ...       ...       ...       ...       ...   \n",
       "2270  0.071653  0.321972  0.253031  0.466342  0.534482  0.335638  0.040889   \n",
       "2271  0.672572  0.515865  0.878341  0.796702  0.919690 -0.000859  0.423690   \n",
       "\n",
       "          6164  label  \n",
       "0     0.281614      1  \n",
       "1     0.918994      1  \n",
       "...        ...    ...  \n",
       "2270  0.048345      0  \n",
       "2271  0.214172      0  \n",
       "\n",
       "[2272 rows x 6167 columns]"
      ]
     },
     "metadata": {},
     "output_type": "display_data"
    }
   ],
   "source": [
    "fu.check_with_df(Xs, ys, sequence_id)"
   ]
  },
  {
   "cell_type": "markdown",
   "id": "6a080e33-e05a-4169-af52-6113e3df6e5c",
   "metadata": {
    "tags": []
   },
   "source": [
    "- **Pooling Operation:  `sum`**"
   ]
  },
  {
   "cell_type": "markdown",
   "id": "bd983a9c-62c4-4af8-ac6f-2d29ee564095",
   "metadata": {},
   "source": [
    "Update arguments and prepare paths"
   ]
  },
  {
   "cell_type": "code",
   "execution_count": 27,
   "id": "25184f1a-43a4-456e-b961-448edaa9e111",
   "metadata": {
    "execution": {
     "iopub.execute_input": "2022-09-09T18:22:08.045298Z",
     "iopub.status.busy": "2022-09-09T18:22:08.045049Z",
     "iopub.status.idle": "2022-09-09T18:22:08.052737Z",
     "shell.execute_reply": "2022-09-09T18:22:08.051925Z",
     "shell.execute_reply.started": "2022-09-09T18:22:08.045281Z"
    },
    "tags": []
   },
   "outputs": [
    {
     "name": "stdout",
     "output_type": "stream",
     "text": [
      " ../data/dna_binding/test_prose.fa \n",
      " ../data/dna_binding/prose/test/dbp_test_dlm_sum\n"
     ]
    }
   ],
   "source": [
    "# Update arguments\n",
    "pool = 'sum'\n",
    "# Prepare paths\n",
    "path_pt, _, path_fa = fu.file_paths(ptmodel, task, file_base, model, pool)\n",
    "print('', path_fa, '\\n', path_pt)"
   ]
  },
  {
   "cell_type": "markdown",
   "id": "775344da-cb43-46c8-aa1c-386e6df0085c",
   "metadata": {},
   "source": [
    "Extract embeddings with `read_embedings` function."
   ]
  },
  {
   "cell_type": "code",
   "execution_count": 28,
   "id": "413cce3b-cc7d-41f2-9500-71f09797bd12",
   "metadata": {
    "execution": {
     "iopub.execute_input": "2022-09-09T18:22:29.556407Z",
     "iopub.status.busy": "2022-09-09T18:22:29.556123Z",
     "iopub.status.idle": "2022-09-09T18:22:55.124809Z",
     "shell.execute_reply": "2022-09-09T18:22:55.123978Z",
     "shell.execute_reply.started": "2022-09-09T18:22:29.556373Z"
    },
    "tags": []
   },
   "outputs": [
    {
     "name": "stdout",
     "output_type": "stream",
     "text": [
      "Shape of embeddings: \t\t(2272, 6165)\n",
      "Length of target label list:\t2272\n",
      "Length of sequential ids list:\t2272\n"
     ]
    }
   ],
   "source": [
    "Xs, ys, sequence_id = fu.read_embeddings(path_fa, path_pt, pool, emb_layer)"
   ]
  },
  {
   "cell_type": "markdown",
   "id": "8137b317-4d29-446e-8071-8c6823316f79",
   "metadata": {},
   "source": [
    "Check our data with `check_with_df` function."
   ]
  },
  {
   "cell_type": "code",
   "execution_count": 29,
   "id": "79c88461-a737-4c54-b2d3-25cb67f5e007",
   "metadata": {
    "execution": {
     "iopub.execute_input": "2022-09-09T18:23:49.643456Z",
     "iopub.status.busy": "2022-09-09T18:23:49.643182Z",
     "iopub.status.idle": "2022-09-09T18:23:49.726556Z",
     "shell.execute_reply": "2022-09-09T18:23:49.725825Z",
     "shell.execute_reply.started": "2022-09-09T18:23:49.643435Z"
    },
    "tags": []
   },
   "outputs": [
    {
     "data": {
      "text/html": [
       "<div>\n",
       "<style scoped>\n",
       "    .dataframe tbody tr th:only-of-type {\n",
       "        vertical-align: middle;\n",
       "    }\n",
       "\n",
       "    .dataframe tbody tr th {\n",
       "        vertical-align: top;\n",
       "    }\n",
       "\n",
       "    .dataframe thead th {\n",
       "        text-align: right;\n",
       "    }\n",
       "</style>\n",
       "<table border=\"1\" class=\"dataframe\">\n",
       "  <thead>\n",
       "    <tr style=\"text-align: right;\">\n",
       "      <th></th>\n",
       "      <th>sequence</th>\n",
       "      <th>0</th>\n",
       "      <th>1</th>\n",
       "      <th>2</th>\n",
       "      <th>3</th>\n",
       "      <th>4</th>\n",
       "      <th>5</th>\n",
       "      <th>6</th>\n",
       "      <th>7</th>\n",
       "      <th>8</th>\n",
       "      <th>...</th>\n",
       "      <th>6156</th>\n",
       "      <th>6157</th>\n",
       "      <th>6158</th>\n",
       "      <th>6159</th>\n",
       "      <th>6160</th>\n",
       "      <th>6161</th>\n",
       "      <th>6162</th>\n",
       "      <th>6163</th>\n",
       "      <th>6164</th>\n",
       "      <th>label</th>\n",
       "    </tr>\n",
       "  </thead>\n",
       "  <tbody>\n",
       "    <tr>\n",
       "      <th>0</th>\n",
       "      <td>P27204|1</td>\n",
       "      <td>14.0</td>\n",
       "      <td>27.0</td>\n",
       "      <td>3.0</td>\n",
       "      <td>0.0</td>\n",
       "      <td>0.0</td>\n",
       "      <td>0.0</td>\n",
       "      <td>0.0</td>\n",
       "      <td>2.0</td>\n",
       "      <td>3.0</td>\n",
       "      <td>...</td>\n",
       "      <td>-12.810034</td>\n",
       "      <td>1.092043</td>\n",
       "      <td>5.189063</td>\n",
       "      <td>-0.010999</td>\n",
       "      <td>-10.317245</td>\n",
       "      <td>11.229548</td>\n",
       "      <td>-8.081186</td>\n",
       "      <td>-14.008194</td>\n",
       "      <td>8.344089</td>\n",
       "      <td>1</td>\n",
       "    </tr>\n",
       "    <tr>\n",
       "      <th>1</th>\n",
       "      <td>P53528|1</td>\n",
       "      <td>108.0</td>\n",
       "      <td>63.0</td>\n",
       "      <td>14.0</td>\n",
       "      <td>41.0</td>\n",
       "      <td>9.0</td>\n",
       "      <td>33.0</td>\n",
       "      <td>45.0</td>\n",
       "      <td>45.0</td>\n",
       "      <td>13.0</td>\n",
       "      <td>...</td>\n",
       "      <td>-150.243561</td>\n",
       "      <td>-7.088599</td>\n",
       "      <td>18.026421</td>\n",
       "      <td>8.092163</td>\n",
       "      <td>-167.736679</td>\n",
       "      <td>12.646237</td>\n",
       "      <td>-101.441269</td>\n",
       "      <td>83.029282</td>\n",
       "      <td>34.802650</td>\n",
       "      <td>1</td>\n",
       "    </tr>\n",
       "    <tr>\n",
       "      <th>...</th>\n",
       "      <td>...</td>\n",
       "      <td>...</td>\n",
       "      <td>...</td>\n",
       "      <td>...</td>\n",
       "      <td>...</td>\n",
       "      <td>...</td>\n",
       "      <td>...</td>\n",
       "      <td>...</td>\n",
       "      <td>...</td>\n",
       "      <td>...</td>\n",
       "      <td>...</td>\n",
       "      <td>...</td>\n",
       "      <td>...</td>\n",
       "      <td>...</td>\n",
       "      <td>...</td>\n",
       "      <td>...</td>\n",
       "      <td>...</td>\n",
       "      <td>...</td>\n",
       "      <td>...</td>\n",
       "      <td>...</td>\n",
       "      <td>...</td>\n",
       "    </tr>\n",
       "    <tr>\n",
       "      <th>2270</th>\n",
       "      <td>P80484|2</td>\n",
       "      <td>78.0</td>\n",
       "      <td>7.0</td>\n",
       "      <td>12.0</td>\n",
       "      <td>24.0</td>\n",
       "      <td>1.0</td>\n",
       "      <td>12.0</td>\n",
       "      <td>10.0</td>\n",
       "      <td>24.0</td>\n",
       "      <td>5.0</td>\n",
       "      <td>...</td>\n",
       "      <td>86.080215</td>\n",
       "      <td>-3.495316</td>\n",
       "      <td>31.084242</td>\n",
       "      <td>6.355218</td>\n",
       "      <td>-37.252892</td>\n",
       "      <td>45.647121</td>\n",
       "      <td>7.129293</td>\n",
       "      <td>-5.245878</td>\n",
       "      <td>-2.066378</td>\n",
       "      <td>0</td>\n",
       "    </tr>\n",
       "    <tr>\n",
       "      <th>2271</th>\n",
       "      <td>Q57837|2</td>\n",
       "      <td>13.0</td>\n",
       "      <td>9.0</td>\n",
       "      <td>14.0</td>\n",
       "      <td>12.0</td>\n",
       "      <td>1.0</td>\n",
       "      <td>2.0</td>\n",
       "      <td>20.0</td>\n",
       "      <td>28.0</td>\n",
       "      <td>5.0</td>\n",
       "      <td>...</td>\n",
       "      <td>-44.220062</td>\n",
       "      <td>12.692288</td>\n",
       "      <td>-2.010568</td>\n",
       "      <td>15.417030</td>\n",
       "      <td>-16.445723</td>\n",
       "      <td>26.275995</td>\n",
       "      <td>-42.417809</td>\n",
       "      <td>42.689011</td>\n",
       "      <td>-8.098829</td>\n",
       "      <td>0</td>\n",
       "    </tr>\n",
       "  </tbody>\n",
       "</table>\n",
       "<p>2272 rows × 6167 columns</p>\n",
       "</div>"
      ],
      "text/plain": [
       "      sequence      0     1     2     3    4     5     6     7     8  ...  \\\n",
       "0     P27204|1   14.0  27.0   3.0   0.0  0.0   0.0   0.0   2.0   3.0  ...   \n",
       "1     P53528|1  108.0  63.0  14.0  41.0  9.0  33.0  45.0  45.0  13.0  ...   \n",
       "...        ...    ...   ...   ...   ...  ...   ...   ...   ...   ...  ...   \n",
       "2270  P80484|2   78.0   7.0  12.0  24.0  1.0  12.0  10.0  24.0   5.0  ...   \n",
       "2271  Q57837|2   13.0   9.0  14.0  12.0  1.0   2.0  20.0  28.0   5.0  ...   \n",
       "\n",
       "            6156       6157       6158       6159        6160       6161  \\\n",
       "0     -12.810034   1.092043   5.189063  -0.010999  -10.317245  11.229548   \n",
       "1    -150.243561  -7.088599  18.026421   8.092163 -167.736679  12.646237   \n",
       "...          ...        ...        ...        ...         ...        ...   \n",
       "2270   86.080215  -3.495316  31.084242   6.355218  -37.252892  45.647121   \n",
       "2271  -44.220062  12.692288  -2.010568  15.417030  -16.445723  26.275995   \n",
       "\n",
       "            6162       6163       6164  label  \n",
       "0      -8.081186 -14.008194   8.344089      1  \n",
       "1    -101.441269  83.029282  34.802650      1  \n",
       "...          ...        ...        ...    ...  \n",
       "2270    7.129293  -5.245878  -2.066378      0  \n",
       "2271  -42.417809  42.689011  -8.098829      0  \n",
       "\n",
       "[2272 rows x 6167 columns]"
      ]
     },
     "metadata": {},
     "output_type": "display_data"
    }
   ],
   "source": [
    "fu.check_with_df(Xs, ys, sequence_id)"
   ]
  },
  {
   "cell_type": "markdown",
   "id": "5b4ba083-ff07-42f2-a979-43fd44954556",
   "metadata": {
    "jp-MarkdownHeadingCollapsed": true,
    "tags": []
   },
   "source": [
    "<br>\n",
    "\n",
    "### ProSE MT model - prose_mt"
   ]
  },
  {
   "cell_type": "markdown",
   "id": "883def3f-b02a-48ed-8438-6671dc4f0c25",
   "metadata": {
    "tags": []
   },
   "source": [
    "- **Pooling Operation:  `avg`**"
   ]
  },
  {
   "cell_type": "markdown",
   "id": "83bf75af-e809-4de1-8417-1d54bbf27346",
   "metadata": {},
   "source": [
    "Update arguments and prepare paths"
   ]
  },
  {
   "cell_type": "code",
   "execution_count": 30,
   "id": "e2c6119b-7004-42b4-ba96-3697488df5ed",
   "metadata": {
    "execution": {
     "iopub.execute_input": "2022-09-09T18:24:18.635918Z",
     "iopub.status.busy": "2022-09-09T18:24:18.635633Z",
     "iopub.status.idle": "2022-09-09T18:24:18.644057Z",
     "shell.execute_reply": "2022-09-09T18:24:18.643077Z",
     "shell.execute_reply.started": "2022-09-09T18:24:18.635897Z"
    },
    "tags": []
   },
   "outputs": [
    {
     "name": "stdout",
     "output_type": "stream",
     "text": [
      " ../data/dna_binding/test_prose.fa \n",
      " ../data/dna_binding/prose/test/dbp_test_mt_avg\n"
     ]
    }
   ],
   "source": [
    "# Update arguments\n",
    "model = 'prose_mt'\n",
    "pool = 'avg'\n",
    "# Prepare paths\n",
    "path_pt, _, path_fa = fu.file_paths(ptmodel, task, file_base, model, pool)\n",
    "print('', path_fa, '\\n', path_pt)"
   ]
  },
  {
   "cell_type": "markdown",
   "id": "ae16fcb4-908e-4250-91b8-a05c3059a006",
   "metadata": {},
   "source": [
    "Extract embeddings with `read_embedings` function."
   ]
  },
  {
   "cell_type": "code",
   "execution_count": 31,
   "id": "a25adf3d-71ed-4ed7-b019-8fc145fdaf1d",
   "metadata": {
    "execution": {
     "iopub.execute_input": "2022-09-09T18:24:33.195251Z",
     "iopub.status.busy": "2022-09-09T18:24:33.194606Z",
     "iopub.status.idle": "2022-09-09T18:24:57.147080Z",
     "shell.execute_reply": "2022-09-09T18:24:57.146110Z",
     "shell.execute_reply.started": "2022-09-09T18:24:33.195223Z"
    },
    "tags": []
   },
   "outputs": [
    {
     "name": "stdout",
     "output_type": "stream",
     "text": [
      "Shape of embeddings: \t\t(2272, 6165)\n",
      "Length of target label list:\t2272\n",
      "Length of sequential ids list:\t2272\n"
     ]
    }
   ],
   "source": [
    "Xs, ys, sequence_id = fu.read_embeddings(path_fa, path_pt, pool, emb_layer)"
   ]
  },
  {
   "cell_type": "markdown",
   "id": "16bd01e2-eef5-4996-beec-4f57f6113783",
   "metadata": {},
   "source": [
    "Check our data with `check_with_df` function."
   ]
  },
  {
   "cell_type": "code",
   "execution_count": 32,
   "id": "77e1a49a-1565-4620-9dc5-63625ea672f4",
   "metadata": {
    "execution": {
     "iopub.execute_input": "2022-09-09T18:25:04.019638Z",
     "iopub.status.busy": "2022-09-09T18:25:04.019375Z",
     "iopub.status.idle": "2022-09-09T18:25:04.209464Z",
     "shell.execute_reply": "2022-09-09T18:25:04.208688Z",
     "shell.execute_reply.started": "2022-09-09T18:25:04.019619Z"
    },
    "tags": []
   },
   "outputs": [
    {
     "data": {
      "text/html": [
       "<div>\n",
       "<style scoped>\n",
       "    .dataframe tbody tr th:only-of-type {\n",
       "        vertical-align: middle;\n",
       "    }\n",
       "\n",
       "    .dataframe tbody tr th {\n",
       "        vertical-align: top;\n",
       "    }\n",
       "\n",
       "    .dataframe thead th {\n",
       "        text-align: right;\n",
       "    }\n",
       "</style>\n",
       "<table border=\"1\" class=\"dataframe\">\n",
       "  <thead>\n",
       "    <tr style=\"text-align: right;\">\n",
       "      <th></th>\n",
       "      <th>sequence</th>\n",
       "      <th>0</th>\n",
       "      <th>1</th>\n",
       "      <th>2</th>\n",
       "      <th>3</th>\n",
       "      <th>4</th>\n",
       "      <th>5</th>\n",
       "      <th>6</th>\n",
       "      <th>7</th>\n",
       "      <th>8</th>\n",
       "      <th>...</th>\n",
       "      <th>6156</th>\n",
       "      <th>6157</th>\n",
       "      <th>6158</th>\n",
       "      <th>6159</th>\n",
       "      <th>6160</th>\n",
       "      <th>6161</th>\n",
       "      <th>6162</th>\n",
       "      <th>6163</th>\n",
       "      <th>6164</th>\n",
       "      <th>label</th>\n",
       "    </tr>\n",
       "  </thead>\n",
       "  <tbody>\n",
       "    <tr>\n",
       "      <th>0</th>\n",
       "      <td>P27204|1</td>\n",
       "      <td>0.138614</td>\n",
       "      <td>0.267327</td>\n",
       "      <td>0.029703</td>\n",
       "      <td>0.000000</td>\n",
       "      <td>0.000000</td>\n",
       "      <td>0.000000</td>\n",
       "      <td>0.000000</td>\n",
       "      <td>0.019802</td>\n",
       "      <td>0.029703</td>\n",
       "      <td>...</td>\n",
       "      <td>-0.108032</td>\n",
       "      <td>-0.006805</td>\n",
       "      <td>0.025998</td>\n",
       "      <td>-0.000365</td>\n",
       "      <td>-0.071782</td>\n",
       "      <td>0.033783</td>\n",
       "      <td>-0.063707</td>\n",
       "      <td>-0.076529</td>\n",
       "      <td>0.051280</td>\n",
       "      <td>1</td>\n",
       "    </tr>\n",
       "    <tr>\n",
       "      <th>1</th>\n",
       "      <td>P53528|1</td>\n",
       "      <td>0.151261</td>\n",
       "      <td>0.088235</td>\n",
       "      <td>0.019608</td>\n",
       "      <td>0.057423</td>\n",
       "      <td>0.012605</td>\n",
       "      <td>0.046218</td>\n",
       "      <td>0.063025</td>\n",
       "      <td>0.063025</td>\n",
       "      <td>0.018207</td>\n",
       "      <td>...</td>\n",
       "      <td>-0.216519</td>\n",
       "      <td>0.009888</td>\n",
       "      <td>0.024019</td>\n",
       "      <td>0.013675</td>\n",
       "      <td>-0.240709</td>\n",
       "      <td>0.016526</td>\n",
       "      <td>-0.168821</td>\n",
       "      <td>0.141335</td>\n",
       "      <td>0.049230</td>\n",
       "      <td>1</td>\n",
       "    </tr>\n",
       "    <tr>\n",
       "      <th>...</th>\n",
       "      <td>...</td>\n",
       "      <td>...</td>\n",
       "      <td>...</td>\n",
       "      <td>...</td>\n",
       "      <td>...</td>\n",
       "      <td>...</td>\n",
       "      <td>...</td>\n",
       "      <td>...</td>\n",
       "      <td>...</td>\n",
       "      <td>...</td>\n",
       "      <td>...</td>\n",
       "      <td>...</td>\n",
       "      <td>...</td>\n",
       "      <td>...</td>\n",
       "      <td>...</td>\n",
       "      <td>...</td>\n",
       "      <td>...</td>\n",
       "      <td>...</td>\n",
       "      <td>...</td>\n",
       "      <td>...</td>\n",
       "      <td>...</td>\n",
       "    </tr>\n",
       "    <tr>\n",
       "      <th>2270</th>\n",
       "      <td>P80484|2</td>\n",
       "      <td>0.210811</td>\n",
       "      <td>0.018919</td>\n",
       "      <td>0.032432</td>\n",
       "      <td>0.064865</td>\n",
       "      <td>0.002703</td>\n",
       "      <td>0.032432</td>\n",
       "      <td>0.027027</td>\n",
       "      <td>0.064865</td>\n",
       "      <td>0.013514</td>\n",
       "      <td>...</td>\n",
       "      <td>0.026451</td>\n",
       "      <td>0.018157</td>\n",
       "      <td>0.049419</td>\n",
       "      <td>0.024843</td>\n",
       "      <td>-0.185805</td>\n",
       "      <td>0.105743</td>\n",
       "      <td>-0.001065</td>\n",
       "      <td>0.092161</td>\n",
       "      <td>-0.024942</td>\n",
       "      <td>0</td>\n",
       "    </tr>\n",
       "    <tr>\n",
       "      <th>2271</th>\n",
       "      <td>Q57837|2</td>\n",
       "      <td>0.038348</td>\n",
       "      <td>0.026549</td>\n",
       "      <td>0.041298</td>\n",
       "      <td>0.035398</td>\n",
       "      <td>0.002950</td>\n",
       "      <td>0.005900</td>\n",
       "      <td>0.058997</td>\n",
       "      <td>0.082596</td>\n",
       "      <td>0.014749</td>\n",
       "      <td>...</td>\n",
       "      <td>-0.113229</td>\n",
       "      <td>0.029627</td>\n",
       "      <td>-0.005488</td>\n",
       "      <td>0.049189</td>\n",
       "      <td>-0.048718</td>\n",
       "      <td>0.071532</td>\n",
       "      <td>-0.106684</td>\n",
       "      <td>0.148737</td>\n",
       "      <td>-0.021660</td>\n",
       "      <td>0</td>\n",
       "    </tr>\n",
       "  </tbody>\n",
       "</table>\n",
       "<p>2272 rows × 6167 columns</p>\n",
       "</div>"
      ],
      "text/plain": [
       "      sequence         0         1         2         3         4         5  \\\n",
       "0     P27204|1  0.138614  0.267327  0.029703  0.000000  0.000000  0.000000   \n",
       "1     P53528|1  0.151261  0.088235  0.019608  0.057423  0.012605  0.046218   \n",
       "...        ...       ...       ...       ...       ...       ...       ...   \n",
       "2270  P80484|2  0.210811  0.018919  0.032432  0.064865  0.002703  0.032432   \n",
       "2271  Q57837|2  0.038348  0.026549  0.041298  0.035398  0.002950  0.005900   \n",
       "\n",
       "             6         7         8  ...      6156      6157      6158  \\\n",
       "0     0.000000  0.019802  0.029703  ... -0.108032 -0.006805  0.025998   \n",
       "1     0.063025  0.063025  0.018207  ... -0.216519  0.009888  0.024019   \n",
       "...        ...       ...       ...  ...       ...       ...       ...   \n",
       "2270  0.027027  0.064865  0.013514  ...  0.026451  0.018157  0.049419   \n",
       "2271  0.058997  0.082596  0.014749  ... -0.113229  0.029627 -0.005488   \n",
       "\n",
       "          6159      6160      6161      6162      6163      6164  label  \n",
       "0    -0.000365 -0.071782  0.033783 -0.063707 -0.076529  0.051280      1  \n",
       "1     0.013675 -0.240709  0.016526 -0.168821  0.141335  0.049230      1  \n",
       "...        ...       ...       ...       ...       ...       ...    ...  \n",
       "2270  0.024843 -0.185805  0.105743 -0.001065  0.092161 -0.024942      0  \n",
       "2271  0.049189 -0.048718  0.071532 -0.106684  0.148737 -0.021660      0  \n",
       "\n",
       "[2272 rows x 6167 columns]"
      ]
     },
     "metadata": {},
     "output_type": "display_data"
    }
   ],
   "source": [
    "fu.check_with_df(Xs, ys, sequence_id)"
   ]
  },
  {
   "cell_type": "markdown",
   "id": "05aa019b-d116-43ee-9fc8-f99db827db71",
   "metadata": {
    "tags": []
   },
   "source": [
    "- **Pooling Operation:  `max`**"
   ]
  },
  {
   "cell_type": "markdown",
   "id": "3adfe398-5e80-4371-94ae-6faa5a7d0579",
   "metadata": {},
   "source": [
    "Update arguments and prepare paths"
   ]
  },
  {
   "cell_type": "code",
   "execution_count": 33,
   "id": "6fb59316-b076-42a2-860a-2bba20042d6a",
   "metadata": {
    "execution": {
     "iopub.execute_input": "2022-09-09T18:25:27.112780Z",
     "iopub.status.busy": "2022-09-09T18:25:27.112513Z",
     "iopub.status.idle": "2022-09-09T18:25:27.120035Z",
     "shell.execute_reply": "2022-09-09T18:25:27.119051Z",
     "shell.execute_reply.started": "2022-09-09T18:25:27.112761Z"
    },
    "tags": []
   },
   "outputs": [
    {
     "name": "stdout",
     "output_type": "stream",
     "text": [
      " ../data/dna_binding/test_prose.fa \n",
      " ../data/dna_binding/prose/test/dbp_test_mt_max\n"
     ]
    }
   ],
   "source": [
    "# Update arguments\n",
    "pool = 'max'\n",
    "# Prepare paths\n",
    "path_pt, _, path_fa = fu.file_paths(ptmodel, task, file_base, model, pool)\n",
    "print('', path_fa, '\\n', path_pt)"
   ]
  },
  {
   "cell_type": "markdown",
   "id": "11079f24-b484-4cc4-aab2-2b970ee52a17",
   "metadata": {},
   "source": [
    "Extract embeddings with `read_embedings` function."
   ]
  },
  {
   "cell_type": "code",
   "execution_count": 34,
   "id": "785a51dc-440a-4b8e-9034-ce840c7f63b7",
   "metadata": {
    "execution": {
     "iopub.execute_input": "2022-09-09T18:25:36.402251Z",
     "iopub.status.busy": "2022-09-09T18:25:36.401044Z",
     "iopub.status.idle": "2022-09-09T18:26:01.780511Z",
     "shell.execute_reply": "2022-09-09T18:26:01.779693Z",
     "shell.execute_reply.started": "2022-09-09T18:25:36.402226Z"
    },
    "tags": []
   },
   "outputs": [
    {
     "name": "stdout",
     "output_type": "stream",
     "text": [
      "Shape of embeddings: \t\t(2272, 6165)\n",
      "Length of target label list:\t2272\n",
      "Length of sequential ids list:\t2272\n"
     ]
    }
   ],
   "source": [
    "Xs, ys, sequence_id = fu.read_embeddings(path_fa, path_pt, pool, emb_layer)"
   ]
  },
  {
   "cell_type": "markdown",
   "id": "2c803456-ee47-4ab9-a935-e081296bbfdf",
   "metadata": {},
   "source": [
    "Check our data with `check_with_df` function."
   ]
  },
  {
   "cell_type": "code",
   "execution_count": 35,
   "id": "c819f87b-ee24-44a6-bfc8-a5ce9119fcb3",
   "metadata": {
    "execution": {
     "iopub.execute_input": "2022-09-09T18:26:14.602717Z",
     "iopub.status.busy": "2022-09-09T18:26:14.602450Z",
     "iopub.status.idle": "2022-09-09T18:26:14.758720Z",
     "shell.execute_reply": "2022-09-09T18:26:14.757964Z",
     "shell.execute_reply.started": "2022-09-09T18:26:14.602700Z"
    },
    "tags": []
   },
   "outputs": [
    {
     "data": {
      "text/html": [
       "<div>\n",
       "<style scoped>\n",
       "    .dataframe tbody tr th:only-of-type {\n",
       "        vertical-align: middle;\n",
       "    }\n",
       "\n",
       "    .dataframe tbody tr th {\n",
       "        vertical-align: top;\n",
       "    }\n",
       "\n",
       "    .dataframe thead th {\n",
       "        text-align: right;\n",
       "    }\n",
       "</style>\n",
       "<table border=\"1\" class=\"dataframe\">\n",
       "  <thead>\n",
       "    <tr style=\"text-align: right;\">\n",
       "      <th></th>\n",
       "      <th>sequence</th>\n",
       "      <th>0</th>\n",
       "      <th>1</th>\n",
       "      <th>2</th>\n",
       "      <th>3</th>\n",
       "      <th>4</th>\n",
       "      <th>5</th>\n",
       "      <th>6</th>\n",
       "      <th>7</th>\n",
       "      <th>8</th>\n",
       "      <th>...</th>\n",
       "      <th>6156</th>\n",
       "      <th>6157</th>\n",
       "      <th>6158</th>\n",
       "      <th>6159</th>\n",
       "      <th>6160</th>\n",
       "      <th>6161</th>\n",
       "      <th>6162</th>\n",
       "      <th>6163</th>\n",
       "      <th>6164</th>\n",
       "      <th>label</th>\n",
       "    </tr>\n",
       "  </thead>\n",
       "  <tbody>\n",
       "    <tr>\n",
       "      <th>0</th>\n",
       "      <td>P27204|1</td>\n",
       "      <td>1.0</td>\n",
       "      <td>1.0</td>\n",
       "      <td>1.0</td>\n",
       "      <td>0.0</td>\n",
       "      <td>0.0</td>\n",
       "      <td>0.0</td>\n",
       "      <td>0.0</td>\n",
       "      <td>1.0</td>\n",
       "      <td>1.0</td>\n",
       "      <td>...</td>\n",
       "      <td>-0.005655</td>\n",
       "      <td>0.066985</td>\n",
       "      <td>0.144704</td>\n",
       "      <td>0.034658</td>\n",
       "      <td>0.173915</td>\n",
       "      <td>0.220022</td>\n",
       "      <td>0.036432</td>\n",
       "      <td>0.020925</td>\n",
       "      <td>0.163018</td>\n",
       "      <td>1</td>\n",
       "    </tr>\n",
       "    <tr>\n",
       "      <th>1</th>\n",
       "      <td>P53528|1</td>\n",
       "      <td>1.0</td>\n",
       "      <td>1.0</td>\n",
       "      <td>1.0</td>\n",
       "      <td>1.0</td>\n",
       "      <td>1.0</td>\n",
       "      <td>1.0</td>\n",
       "      <td>1.0</td>\n",
       "      <td>1.0</td>\n",
       "      <td>1.0</td>\n",
       "      <td>...</td>\n",
       "      <td>-0.001896</td>\n",
       "      <td>0.838819</td>\n",
       "      <td>0.522188</td>\n",
       "      <td>0.687059</td>\n",
       "      <td>0.367041</td>\n",
       "      <td>0.430013</td>\n",
       "      <td>0.009612</td>\n",
       "      <td>0.499845</td>\n",
       "      <td>0.908976</td>\n",
       "      <td>1</td>\n",
       "    </tr>\n",
       "    <tr>\n",
       "      <th>...</th>\n",
       "      <td>...</td>\n",
       "      <td>...</td>\n",
       "      <td>...</td>\n",
       "      <td>...</td>\n",
       "      <td>...</td>\n",
       "      <td>...</td>\n",
       "      <td>...</td>\n",
       "      <td>...</td>\n",
       "      <td>...</td>\n",
       "      <td>...</td>\n",
       "      <td>...</td>\n",
       "      <td>...</td>\n",
       "      <td>...</td>\n",
       "      <td>...</td>\n",
       "      <td>...</td>\n",
       "      <td>...</td>\n",
       "      <td>...</td>\n",
       "      <td>...</td>\n",
       "      <td>...</td>\n",
       "      <td>...</td>\n",
       "      <td>...</td>\n",
       "    </tr>\n",
       "    <tr>\n",
       "      <th>2270</th>\n",
       "      <td>P80484|2</td>\n",
       "      <td>1.0</td>\n",
       "      <td>1.0</td>\n",
       "      <td>1.0</td>\n",
       "      <td>1.0</td>\n",
       "      <td>1.0</td>\n",
       "      <td>1.0</td>\n",
       "      <td>1.0</td>\n",
       "      <td>1.0</td>\n",
       "      <td>1.0</td>\n",
       "      <td>...</td>\n",
       "      <td>0.200721</td>\n",
       "      <td>0.175597</td>\n",
       "      <td>0.225573</td>\n",
       "      <td>0.249912</td>\n",
       "      <td>0.248831</td>\n",
       "      <td>0.482014</td>\n",
       "      <td>0.195493</td>\n",
       "      <td>0.207856</td>\n",
       "      <td>0.053781</td>\n",
       "      <td>0</td>\n",
       "    </tr>\n",
       "    <tr>\n",
       "      <th>2271</th>\n",
       "      <td>Q57837|2</td>\n",
       "      <td>1.0</td>\n",
       "      <td>1.0</td>\n",
       "      <td>1.0</td>\n",
       "      <td>1.0</td>\n",
       "      <td>1.0</td>\n",
       "      <td>1.0</td>\n",
       "      <td>1.0</td>\n",
       "      <td>1.0</td>\n",
       "      <td>1.0</td>\n",
       "      <td>...</td>\n",
       "      <td>-0.000725</td>\n",
       "      <td>0.575338</td>\n",
       "      <td>0.532389</td>\n",
       "      <td>0.882318</td>\n",
       "      <td>0.591743</td>\n",
       "      <td>0.912876</td>\n",
       "      <td>-0.004104</td>\n",
       "      <td>0.600571</td>\n",
       "      <td>0.382251</td>\n",
       "      <td>0</td>\n",
       "    </tr>\n",
       "  </tbody>\n",
       "</table>\n",
       "<p>2272 rows × 6167 columns</p>\n",
       "</div>"
      ],
      "text/plain": [
       "      sequence    0    1    2    3    4    5    6    7    8  ...      6156  \\\n",
       "0     P27204|1  1.0  1.0  1.0  0.0  0.0  0.0  0.0  1.0  1.0  ... -0.005655   \n",
       "1     P53528|1  1.0  1.0  1.0  1.0  1.0  1.0  1.0  1.0  1.0  ... -0.001896   \n",
       "...        ...  ...  ...  ...  ...  ...  ...  ...  ...  ...  ...       ...   \n",
       "2270  P80484|2  1.0  1.0  1.0  1.0  1.0  1.0  1.0  1.0  1.0  ...  0.200721   \n",
       "2271  Q57837|2  1.0  1.0  1.0  1.0  1.0  1.0  1.0  1.0  1.0  ... -0.000725   \n",
       "\n",
       "          6157      6158      6159      6160      6161      6162      6163  \\\n",
       "0     0.066985  0.144704  0.034658  0.173915  0.220022  0.036432  0.020925   \n",
       "1     0.838819  0.522188  0.687059  0.367041  0.430013  0.009612  0.499845   \n",
       "...        ...       ...       ...       ...       ...       ...       ...   \n",
       "2270  0.175597  0.225573  0.249912  0.248831  0.482014  0.195493  0.207856   \n",
       "2271  0.575338  0.532389  0.882318  0.591743  0.912876 -0.004104  0.600571   \n",
       "\n",
       "          6164  label  \n",
       "0     0.163018      1  \n",
       "1     0.908976      1  \n",
       "...        ...    ...  \n",
       "2270  0.053781      0  \n",
       "2271  0.382251      0  \n",
       "\n",
       "[2272 rows x 6167 columns]"
      ]
     },
     "metadata": {},
     "output_type": "display_data"
    }
   ],
   "source": [
    "fu.check_with_df(Xs, ys, sequence_id)"
   ]
  },
  {
   "cell_type": "markdown",
   "id": "57cf5a2d-50a6-4721-b7f0-f39b99a0b5cf",
   "metadata": {
    "tags": []
   },
   "source": [
    "- **Pooling Operation:  `sum`**"
   ]
  },
  {
   "cell_type": "markdown",
   "id": "5991b365-0986-49cf-9ad9-c57fbd4b3c6a",
   "metadata": {},
   "source": [
    "Update arguments and prepare paths"
   ]
  },
  {
   "cell_type": "code",
   "execution_count": 36,
   "id": "0e0c6edb-56ef-4d95-8159-36c2c232ff92",
   "metadata": {
    "execution": {
     "iopub.execute_input": "2022-09-09T18:26:41.905323Z",
     "iopub.status.busy": "2022-09-09T18:26:41.905019Z",
     "iopub.status.idle": "2022-09-09T18:26:41.913541Z",
     "shell.execute_reply": "2022-09-09T18:26:41.912639Z",
     "shell.execute_reply.started": "2022-09-09T18:26:41.905303Z"
    },
    "tags": []
   },
   "outputs": [
    {
     "name": "stdout",
     "output_type": "stream",
     "text": [
      " ../data/dna_binding/test_prose.fa \n",
      " ../data/dna_binding/prose/test/dbp_test_mt_sum\n"
     ]
    }
   ],
   "source": [
    "# Update arguments\n",
    "pool = 'sum'\n",
    "# Prepare paths\n",
    "path_pt, _, path_fa = fu.file_paths(ptmodel, task, file_base, model, pool)\n",
    "print('', path_fa, '\\n', path_pt)"
   ]
  },
  {
   "cell_type": "markdown",
   "id": "8b5f2a2e-cb74-47d1-ac95-783e0ea68f20",
   "metadata": {},
   "source": [
    "Extract embeddings with `read_embedings` function."
   ]
  },
  {
   "cell_type": "code",
   "execution_count": 37,
   "id": "d211c2ef-80dc-42dc-afff-aa1ae823be7b",
   "metadata": {
    "execution": {
     "iopub.execute_input": "2022-09-09T18:26:54.005955Z",
     "iopub.status.busy": "2022-09-09T18:26:54.005702Z",
     "iopub.status.idle": "2022-09-09T18:27:18.194312Z",
     "shell.execute_reply": "2022-09-09T18:27:18.193472Z",
     "shell.execute_reply.started": "2022-09-09T18:26:54.005937Z"
    },
    "tags": []
   },
   "outputs": [
    {
     "name": "stdout",
     "output_type": "stream",
     "text": [
      "Shape of embeddings: \t\t(2272, 6165)\n",
      "Length of target label list:\t2272\n",
      "Length of sequential ids list:\t2272\n"
     ]
    }
   ],
   "source": [
    "Xs, ys, sequence_id = fu.read_embeddings(path_fa, path_pt, pool, emb_layer)"
   ]
  },
  {
   "cell_type": "markdown",
   "id": "97382270-dc29-4824-b13a-7521f281ba41",
   "metadata": {},
   "source": [
    "Check our data with `check_with_df` function."
   ]
  },
  {
   "cell_type": "code",
   "execution_count": 38,
   "id": "679e9338-6815-4052-b7fe-cd029bf1ff72",
   "metadata": {
    "execution": {
     "iopub.execute_input": "2022-09-09T18:27:26.339680Z",
     "iopub.status.busy": "2022-09-09T18:27:26.339390Z",
     "iopub.status.idle": "2022-09-09T18:27:26.507173Z",
     "shell.execute_reply": "2022-09-09T18:27:26.506415Z",
     "shell.execute_reply.started": "2022-09-09T18:27:26.339660Z"
    },
    "tags": []
   },
   "outputs": [
    {
     "data": {
      "text/html": [
       "<div>\n",
       "<style scoped>\n",
       "    .dataframe tbody tr th:only-of-type {\n",
       "        vertical-align: middle;\n",
       "    }\n",
       "\n",
       "    .dataframe tbody tr th {\n",
       "        vertical-align: top;\n",
       "    }\n",
       "\n",
       "    .dataframe thead th {\n",
       "        text-align: right;\n",
       "    }\n",
       "</style>\n",
       "<table border=\"1\" class=\"dataframe\">\n",
       "  <thead>\n",
       "    <tr style=\"text-align: right;\">\n",
       "      <th></th>\n",
       "      <th>sequence</th>\n",
       "      <th>0</th>\n",
       "      <th>1</th>\n",
       "      <th>2</th>\n",
       "      <th>3</th>\n",
       "      <th>4</th>\n",
       "      <th>5</th>\n",
       "      <th>6</th>\n",
       "      <th>7</th>\n",
       "      <th>8</th>\n",
       "      <th>...</th>\n",
       "      <th>6156</th>\n",
       "      <th>6157</th>\n",
       "      <th>6158</th>\n",
       "      <th>6159</th>\n",
       "      <th>6160</th>\n",
       "      <th>6161</th>\n",
       "      <th>6162</th>\n",
       "      <th>6163</th>\n",
       "      <th>6164</th>\n",
       "      <th>label</th>\n",
       "    </tr>\n",
       "  </thead>\n",
       "  <tbody>\n",
       "    <tr>\n",
       "      <th>0</th>\n",
       "      <td>P27204|1</td>\n",
       "      <td>14.0</td>\n",
       "      <td>27.0</td>\n",
       "      <td>3.0</td>\n",
       "      <td>0.0</td>\n",
       "      <td>0.0</td>\n",
       "      <td>0.0</td>\n",
       "      <td>0.0</td>\n",
       "      <td>2.0</td>\n",
       "      <td>3.0</td>\n",
       "      <td>...</td>\n",
       "      <td>-10.911218</td>\n",
       "      <td>-0.687335</td>\n",
       "      <td>2.625784</td>\n",
       "      <td>-0.036835</td>\n",
       "      <td>-7.249979</td>\n",
       "      <td>3.412109</td>\n",
       "      <td>-6.434397</td>\n",
       "      <td>-7.729387</td>\n",
       "      <td>5.179250</td>\n",
       "      <td>1</td>\n",
       "    </tr>\n",
       "    <tr>\n",
       "      <th>1</th>\n",
       "      <td>P53528|1</td>\n",
       "      <td>108.0</td>\n",
       "      <td>63.0</td>\n",
       "      <td>14.0</td>\n",
       "      <td>41.0</td>\n",
       "      <td>9.0</td>\n",
       "      <td>33.0</td>\n",
       "      <td>45.0</td>\n",
       "      <td>45.0</td>\n",
       "      <td>13.0</td>\n",
       "      <td>...</td>\n",
       "      <td>-154.594452</td>\n",
       "      <td>7.059755</td>\n",
       "      <td>17.149433</td>\n",
       "      <td>9.763611</td>\n",
       "      <td>-171.866165</td>\n",
       "      <td>11.799815</td>\n",
       "      <td>-120.538528</td>\n",
       "      <td>100.913208</td>\n",
       "      <td>35.149967</td>\n",
       "      <td>1</td>\n",
       "    </tr>\n",
       "    <tr>\n",
       "      <th>...</th>\n",
       "      <td>...</td>\n",
       "      <td>...</td>\n",
       "      <td>...</td>\n",
       "      <td>...</td>\n",
       "      <td>...</td>\n",
       "      <td>...</td>\n",
       "      <td>...</td>\n",
       "      <td>...</td>\n",
       "      <td>...</td>\n",
       "      <td>...</td>\n",
       "      <td>...</td>\n",
       "      <td>...</td>\n",
       "      <td>...</td>\n",
       "      <td>...</td>\n",
       "      <td>...</td>\n",
       "      <td>...</td>\n",
       "      <td>...</td>\n",
       "      <td>...</td>\n",
       "      <td>...</td>\n",
       "      <td>...</td>\n",
       "      <td>...</td>\n",
       "    </tr>\n",
       "    <tr>\n",
       "      <th>2270</th>\n",
       "      <td>P80484|2</td>\n",
       "      <td>78.0</td>\n",
       "      <td>7.0</td>\n",
       "      <td>12.0</td>\n",
       "      <td>24.0</td>\n",
       "      <td>1.0</td>\n",
       "      <td>12.0</td>\n",
       "      <td>10.0</td>\n",
       "      <td>24.0</td>\n",
       "      <td>5.0</td>\n",
       "      <td>...</td>\n",
       "      <td>9.786963</td>\n",
       "      <td>6.718013</td>\n",
       "      <td>18.285032</td>\n",
       "      <td>9.191998</td>\n",
       "      <td>-68.748024</td>\n",
       "      <td>39.124813</td>\n",
       "      <td>-0.394081</td>\n",
       "      <td>34.099724</td>\n",
       "      <td>-9.228519</td>\n",
       "      <td>0</td>\n",
       "    </tr>\n",
       "    <tr>\n",
       "      <th>2271</th>\n",
       "      <td>Q57837|2</td>\n",
       "      <td>13.0</td>\n",
       "      <td>9.0</td>\n",
       "      <td>14.0</td>\n",
       "      <td>12.0</td>\n",
       "      <td>1.0</td>\n",
       "      <td>2.0</td>\n",
       "      <td>20.0</td>\n",
       "      <td>28.0</td>\n",
       "      <td>5.0</td>\n",
       "      <td>...</td>\n",
       "      <td>-38.384468</td>\n",
       "      <td>10.043718</td>\n",
       "      <td>-1.860400</td>\n",
       "      <td>16.674957</td>\n",
       "      <td>-16.515369</td>\n",
       "      <td>24.249302</td>\n",
       "      <td>-36.165977</td>\n",
       "      <td>50.421692</td>\n",
       "      <td>-7.342779</td>\n",
       "      <td>0</td>\n",
       "    </tr>\n",
       "  </tbody>\n",
       "</table>\n",
       "<p>2272 rows × 6167 columns</p>\n",
       "</div>"
      ],
      "text/plain": [
       "      sequence      0     1     2     3    4     5     6     7     8  ...  \\\n",
       "0     P27204|1   14.0  27.0   3.0   0.0  0.0   0.0   0.0   2.0   3.0  ...   \n",
       "1     P53528|1  108.0  63.0  14.0  41.0  9.0  33.0  45.0  45.0  13.0  ...   \n",
       "...        ...    ...   ...   ...   ...  ...   ...   ...   ...   ...  ...   \n",
       "2270  P80484|2   78.0   7.0  12.0  24.0  1.0  12.0  10.0  24.0   5.0  ...   \n",
       "2271  Q57837|2   13.0   9.0  14.0  12.0  1.0   2.0  20.0  28.0   5.0  ...   \n",
       "\n",
       "            6156       6157       6158       6159        6160       6161  \\\n",
       "0     -10.911218  -0.687335   2.625784  -0.036835   -7.249979   3.412109   \n",
       "1    -154.594452   7.059755  17.149433   9.763611 -171.866165  11.799815   \n",
       "...          ...        ...        ...        ...         ...        ...   \n",
       "2270    9.786963   6.718013  18.285032   9.191998  -68.748024  39.124813   \n",
       "2271  -38.384468  10.043718  -1.860400  16.674957  -16.515369  24.249302   \n",
       "\n",
       "            6162        6163       6164  label  \n",
       "0      -6.434397   -7.729387   5.179250      1  \n",
       "1    -120.538528  100.913208  35.149967      1  \n",
       "...          ...         ...        ...    ...  \n",
       "2270   -0.394081   34.099724  -9.228519      0  \n",
       "2271  -36.165977   50.421692  -7.342779      0  \n",
       "\n",
       "[2272 rows x 6167 columns]"
      ]
     },
     "metadata": {},
     "output_type": "display_data"
    }
   ],
   "source": [
    "fu.check_with_df(Xs, ys, sequence_id)"
   ]
  },
  {
   "cell_type": "markdown",
   "id": "11ca4896-fd39-4ed4-94fa-62910a673856",
   "metadata": {},
   "source": [
    "## ESM embeddings\n"
   ]
  },
  {
   "cell_type": "markdown",
   "id": "fec0ad7a-4b2b-4f89-8abd-5f27ea199977",
   "metadata": {},
   "source": [
    "## Train Dataset"
   ]
  },
  {
   "cell_type": "markdown",
   "id": "0117c935-e40d-42c9-b2a9-e8ba41473e62",
   "metadata": {},
   "source": [
    "### ESM ESM-1v model - esm1v_t33_650M_UR90S_1"
   ]
  },
  {
   "cell_type": "markdown",
   "id": "891590de-2e9d-4fd3-9298-7ce9832547d9",
   "metadata": {
    "tags": []
   },
   "source": [
    "#### Pooling Operation:  `mean`"
   ]
  },
  {
   "cell_type": "markdown",
   "id": "a893a64f-6795-40bd-a42d-dbe315400f93",
   "metadata": {},
   "source": [
    "Update arguments and prepare paths"
   ]
  },
  {
   "cell_type": "code",
   "execution_count": 39,
   "id": "dbb7418a-1779-4f2e-8fd1-771442bd88a8",
   "metadata": {
    "execution": {
     "iopub.execute_input": "2022-09-09T18:27:54.059545Z",
     "iopub.status.busy": "2022-09-09T18:27:54.059280Z",
     "iopub.status.idle": "2022-09-09T18:27:54.067650Z",
     "shell.execute_reply": "2022-09-09T18:27:54.066793Z",
     "shell.execute_reply.started": "2022-09-09T18:27:54.059526Z"
    },
    "tags": []
   },
   "outputs": [
    {
     "name": "stdout",
     "output_type": "stream",
     "text": [
      " ../data/dna_binding/train_esm.fa \n",
      " ../data/dna_binding/esm/train/dbp_train_esm1v_mean\n"
     ]
    }
   ],
   "source": [
    "# Update arguments\n",
    "ptmodel = 'esm'\n",
    "file_base = 'train'\n",
    "model = 'esm1v_t33_650M_UR90S_1'\n",
    "emb_layer = 33\n",
    "pool = 'mean'  \n",
    "# Prepare paths\n",
    "path_pt, _, path_fa = fu.file_paths(ptmodel, task, file_base, model, pool)\n",
    "print('', path_fa, '\\n', path_pt)"
   ]
  },
  {
   "cell_type": "markdown",
   "id": "02d220e3-7201-4659-abec-da00ab720caf",
   "metadata": {},
   "source": [
    "Extract embeddings with `read_embedings` function."
   ]
  },
  {
   "cell_type": "code",
   "execution_count": 40,
   "id": "7ed112bf-0d88-4885-bf99-79c1408b85a6",
   "metadata": {
    "execution": {
     "iopub.execute_input": "2022-09-09T18:28:20.583247Z",
     "iopub.status.busy": "2022-09-09T18:28:20.582974Z",
     "iopub.status.idle": "2022-09-09T18:30:57.738340Z",
     "shell.execute_reply": "2022-09-09T18:30:57.737560Z",
     "shell.execute_reply.started": "2022-09-09T18:28:20.583227Z"
    },
    "tags": []
   },
   "outputs": [
    {
     "name": "stdout",
     "output_type": "stream",
     "text": [
      "Shape of embeddings: \t\t(13108, 1280)\n",
      "Length of target label list:\t13108\n",
      "Length of sequential ids list:\t13108\n"
     ]
    }
   ],
   "source": [
    "Xs, ys, sequence_id = fu.read_embeddings(path_fa, path_pt, pool, emb_layer)"
   ]
  },
  {
   "cell_type": "markdown",
   "id": "75c52b33-6d7a-4df8-8935-2e5538385cae",
   "metadata": {},
   "source": [
    "Check our data with `check_with_df` function."
   ]
  },
  {
   "cell_type": "code",
   "execution_count": 41,
   "id": "04579c32-2ee4-470d-b719-31ed3cfc166d",
   "metadata": {
    "execution": {
     "iopub.execute_input": "2022-09-09T18:31:08.326743Z",
     "iopub.status.busy": "2022-09-09T18:31:08.326230Z",
     "iopub.status.idle": "2022-09-09T18:31:08.530915Z",
     "shell.execute_reply": "2022-09-09T18:31:08.529942Z",
     "shell.execute_reply.started": "2022-09-09T18:31:08.326720Z"
    },
    "tags": []
   },
   "outputs": [
    {
     "data": {
      "text/html": [
       "<div>\n",
       "<style scoped>\n",
       "    .dataframe tbody tr th:only-of-type {\n",
       "        vertical-align: middle;\n",
       "    }\n",
       "\n",
       "    .dataframe tbody tr th {\n",
       "        vertical-align: top;\n",
       "    }\n",
       "\n",
       "    .dataframe thead th {\n",
       "        text-align: right;\n",
       "    }\n",
       "</style>\n",
       "<table border=\"1\" class=\"dataframe\">\n",
       "  <thead>\n",
       "    <tr style=\"text-align: right;\">\n",
       "      <th></th>\n",
       "      <th>sequence</th>\n",
       "      <th>0</th>\n",
       "      <th>1</th>\n",
       "      <th>2</th>\n",
       "      <th>3</th>\n",
       "      <th>4</th>\n",
       "      <th>5</th>\n",
       "      <th>6</th>\n",
       "      <th>7</th>\n",
       "      <th>8</th>\n",
       "      <th>...</th>\n",
       "      <th>1271</th>\n",
       "      <th>1272</th>\n",
       "      <th>1273</th>\n",
       "      <th>1274</th>\n",
       "      <th>1275</th>\n",
       "      <th>1276</th>\n",
       "      <th>1277</th>\n",
       "      <th>1278</th>\n",
       "      <th>1279</th>\n",
       "      <th>label</th>\n",
       "    </tr>\n",
       "  </thead>\n",
       "  <tbody>\n",
       "    <tr>\n",
       "      <th>0</th>\n",
       "      <td>Q6A8L0</td>\n",
       "      <td>-0.236084</td>\n",
       "      <td>-0.080925</td>\n",
       "      <td>-0.112605</td>\n",
       "      <td>0.069161</td>\n",
       "      <td>0.160846</td>\n",
       "      <td>-0.079905</td>\n",
       "      <td>-0.074510</td>\n",
       "      <td>-0.134663</td>\n",
       "      <td>-0.008643</td>\n",
       "      <td>...</td>\n",
       "      <td>-0.090658</td>\n",
       "      <td>-0.155936</td>\n",
       "      <td>-0.094594</td>\n",
       "      <td>-0.004625</td>\n",
       "      <td>-0.134892</td>\n",
       "      <td>0.098090</td>\n",
       "      <td>-0.081409</td>\n",
       "      <td>-0.107882</td>\n",
       "      <td>-0.135179</td>\n",
       "      <td>1</td>\n",
       "    </tr>\n",
       "    <tr>\n",
       "      <th>1</th>\n",
       "      <td>Q7V7T9</td>\n",
       "      <td>-0.055984</td>\n",
       "      <td>0.031985</td>\n",
       "      <td>0.022922</td>\n",
       "      <td>-0.232816</td>\n",
       "      <td>-0.098906</td>\n",
       "      <td>0.037312</td>\n",
       "      <td>0.058930</td>\n",
       "      <td>-0.305301</td>\n",
       "      <td>0.236868</td>\n",
       "      <td>...</td>\n",
       "      <td>0.043834</td>\n",
       "      <td>0.015146</td>\n",
       "      <td>-0.230926</td>\n",
       "      <td>0.003251</td>\n",
       "      <td>-0.429846</td>\n",
       "      <td>0.046164</td>\n",
       "      <td>-0.067858</td>\n",
       "      <td>-0.084438</td>\n",
       "      <td>0.038270</td>\n",
       "      <td>1</td>\n",
       "    </tr>\n",
       "    <tr>\n",
       "      <th>...</th>\n",
       "      <td>...</td>\n",
       "      <td>...</td>\n",
       "      <td>...</td>\n",
       "      <td>...</td>\n",
       "      <td>...</td>\n",
       "      <td>...</td>\n",
       "      <td>...</td>\n",
       "      <td>...</td>\n",
       "      <td>...</td>\n",
       "      <td>...</td>\n",
       "      <td>...</td>\n",
       "      <td>...</td>\n",
       "      <td>...</td>\n",
       "      <td>...</td>\n",
       "      <td>...</td>\n",
       "      <td>...</td>\n",
       "      <td>...</td>\n",
       "      <td>...</td>\n",
       "      <td>...</td>\n",
       "      <td>...</td>\n",
       "      <td>...</td>\n",
       "    </tr>\n",
       "    <tr>\n",
       "      <th>13106</th>\n",
       "      <td>Q16AE8</td>\n",
       "      <td>0.019666</td>\n",
       "      <td>-0.046728</td>\n",
       "      <td>-0.145186</td>\n",
       "      <td>-0.060228</td>\n",
       "      <td>0.222324</td>\n",
       "      <td>0.058785</td>\n",
       "      <td>0.259896</td>\n",
       "      <td>-0.034740</td>\n",
       "      <td>-0.013585</td>\n",
       "      <td>...</td>\n",
       "      <td>-0.389559</td>\n",
       "      <td>0.229647</td>\n",
       "      <td>0.045373</td>\n",
       "      <td>-0.075256</td>\n",
       "      <td>0.073156</td>\n",
       "      <td>0.224126</td>\n",
       "      <td>0.069066</td>\n",
       "      <td>-0.215409</td>\n",
       "      <td>0.207082</td>\n",
       "      <td>0</td>\n",
       "    </tr>\n",
       "    <tr>\n",
       "      <th>13107</th>\n",
       "      <td>Q486Z0</td>\n",
       "      <td>-0.309475</td>\n",
       "      <td>0.157435</td>\n",
       "      <td>-0.090308</td>\n",
       "      <td>-0.015247</td>\n",
       "      <td>-0.292232</td>\n",
       "      <td>0.121620</td>\n",
       "      <td>0.231596</td>\n",
       "      <td>-0.217210</td>\n",
       "      <td>0.125528</td>\n",
       "      <td>...</td>\n",
       "      <td>-0.189036</td>\n",
       "      <td>0.064136</td>\n",
       "      <td>-0.156838</td>\n",
       "      <td>0.128314</td>\n",
       "      <td>0.065698</td>\n",
       "      <td>0.212815</td>\n",
       "      <td>-0.189209</td>\n",
       "      <td>-0.154284</td>\n",
       "      <td>0.045231</td>\n",
       "      <td>0</td>\n",
       "    </tr>\n",
       "  </tbody>\n",
       "</table>\n",
       "<p>13108 rows × 1282 columns</p>\n",
       "</div>"
      ],
      "text/plain": [
       "      sequence         0         1         2         3         4         5  \\\n",
       "0       Q6A8L0 -0.236084 -0.080925 -0.112605  0.069161  0.160846 -0.079905   \n",
       "1       Q7V7T9 -0.055984  0.031985  0.022922 -0.232816 -0.098906  0.037312   \n",
       "...        ...       ...       ...       ...       ...       ...       ...   \n",
       "13106   Q16AE8  0.019666 -0.046728 -0.145186 -0.060228  0.222324  0.058785   \n",
       "13107   Q486Z0 -0.309475  0.157435 -0.090308 -0.015247 -0.292232  0.121620   \n",
       "\n",
       "              6         7         8  ...      1271      1272      1273  \\\n",
       "0     -0.074510 -0.134663 -0.008643  ... -0.090658 -0.155936 -0.094594   \n",
       "1      0.058930 -0.305301  0.236868  ...  0.043834  0.015146 -0.230926   \n",
       "...         ...       ...       ...  ...       ...       ...       ...   \n",
       "13106  0.259896 -0.034740 -0.013585  ... -0.389559  0.229647  0.045373   \n",
       "13107  0.231596 -0.217210  0.125528  ... -0.189036  0.064136 -0.156838   \n",
       "\n",
       "           1274      1275      1276      1277      1278      1279  label  \n",
       "0     -0.004625 -0.134892  0.098090 -0.081409 -0.107882 -0.135179      1  \n",
       "1      0.003251 -0.429846  0.046164 -0.067858 -0.084438  0.038270      1  \n",
       "...         ...       ...       ...       ...       ...       ...    ...  \n",
       "13106 -0.075256  0.073156  0.224126  0.069066 -0.215409  0.207082      0  \n",
       "13107  0.128314  0.065698  0.212815 -0.189209 -0.154284  0.045231      0  \n",
       "\n",
       "[13108 rows x 1282 columns]"
      ]
     },
     "metadata": {},
     "output_type": "display_data"
    }
   ],
   "source": [
    "fu.check_with_df(Xs, ys, sequence_id)"
   ]
  },
  {
   "cell_type": "markdown",
   "id": "53e10fbf-3458-4ebd-a38b-6449e1c6c946",
   "metadata": {},
   "source": [
    "<br>\n",
    "\n",
    "### ESM ESM-1b model - esm1b_t33_650M_UR50S"
   ]
  },
  {
   "cell_type": "markdown",
   "id": "1c8dd07a-fb81-49f0-a7d1-77ad07c14e53",
   "metadata": {},
   "source": [
    "Update arguments and prepare paths"
   ]
  },
  {
   "cell_type": "code",
   "execution_count": 42,
   "id": "8048205f-636e-4136-a2d9-0ee2a791970c",
   "metadata": {
    "execution": {
     "iopub.execute_input": "2022-09-09T18:31:31.090892Z",
     "iopub.status.busy": "2022-09-09T18:31:31.090628Z",
     "iopub.status.idle": "2022-09-09T18:31:31.098582Z",
     "shell.execute_reply": "2022-09-09T18:31:31.097733Z",
     "shell.execute_reply.started": "2022-09-09T18:31:31.090873Z"
    },
    "tags": []
   },
   "outputs": [
    {
     "name": "stdout",
     "output_type": "stream",
     "text": [
      " ../data/dna_binding/train_esm.fa \n",
      " ../data/dna_binding/esm/train/dbp_train_esm1b_mean\n"
     ]
    }
   ],
   "source": [
    "# Update arguments\n",
    "model = 'esm1b_t33_650M_UR50S' \n",
    "# Prepare paths\n",
    "path_pt, _, path_fa = fu.file_paths(ptmodel, task, file_base, model, pool)\n",
    "print('', path_fa, '\\n', path_pt)"
   ]
  },
  {
   "cell_type": "markdown",
   "id": "c0525bad-c53d-4bc1-ac39-26aeb5e07206",
   "metadata": {},
   "source": [
    "Extract embeddings with `read_embedings` function."
   ]
  },
  {
   "cell_type": "code",
   "execution_count": 43,
   "id": "31df7d1a-b7a9-4d80-b4e2-a00a3baa1a50",
   "metadata": {
    "execution": {
     "iopub.execute_input": "2022-09-09T18:32:30.534387Z",
     "iopub.status.busy": "2022-09-09T18:32:30.534106Z",
     "iopub.status.idle": "2022-09-09T18:35:03.212812Z",
     "shell.execute_reply": "2022-09-09T18:35:03.211810Z",
     "shell.execute_reply.started": "2022-09-09T18:32:30.534366Z"
    },
    "tags": []
   },
   "outputs": [
    {
     "name": "stdout",
     "output_type": "stream",
     "text": [
      "Shape of embeddings: \t\t(13108, 1280)\n",
      "Length of target label list:\t13108\n",
      "Length of sequential ids list:\t13108\n"
     ]
    }
   ],
   "source": [
    "Xs, ys, sequence_id = fu.read_embeddings(path_fa, path_pt, pool, emb_layer)"
   ]
  },
  {
   "cell_type": "markdown",
   "id": "2e7b5bb7-bc28-4db6-9c84-0441ffc8de32",
   "metadata": {},
   "source": [
    "Check our data with `check_with_df` function."
   ]
  },
  {
   "cell_type": "code",
   "execution_count": 44,
   "id": "827e1d05-7191-426e-9e7c-bd32c66882af",
   "metadata": {
    "execution": {
     "iopub.execute_input": "2022-09-09T18:37:05.422251Z",
     "iopub.status.busy": "2022-09-09T18:37:05.421985Z",
     "iopub.status.idle": "2022-09-09T18:37:05.588358Z",
     "shell.execute_reply": "2022-09-09T18:37:05.586715Z",
     "shell.execute_reply.started": "2022-09-09T18:37:05.422231Z"
    },
    "tags": []
   },
   "outputs": [
    {
     "data": {
      "text/html": [
       "<div>\n",
       "<style scoped>\n",
       "    .dataframe tbody tr th:only-of-type {\n",
       "        vertical-align: middle;\n",
       "    }\n",
       "\n",
       "    .dataframe tbody tr th {\n",
       "        vertical-align: top;\n",
       "    }\n",
       "\n",
       "    .dataframe thead th {\n",
       "        text-align: right;\n",
       "    }\n",
       "</style>\n",
       "<table border=\"1\" class=\"dataframe\">\n",
       "  <thead>\n",
       "    <tr style=\"text-align: right;\">\n",
       "      <th></th>\n",
       "      <th>sequence</th>\n",
       "      <th>0</th>\n",
       "      <th>1</th>\n",
       "      <th>2</th>\n",
       "      <th>3</th>\n",
       "      <th>4</th>\n",
       "      <th>5</th>\n",
       "      <th>6</th>\n",
       "      <th>7</th>\n",
       "      <th>8</th>\n",
       "      <th>...</th>\n",
       "      <th>1271</th>\n",
       "      <th>1272</th>\n",
       "      <th>1273</th>\n",
       "      <th>1274</th>\n",
       "      <th>1275</th>\n",
       "      <th>1276</th>\n",
       "      <th>1277</th>\n",
       "      <th>1278</th>\n",
       "      <th>1279</th>\n",
       "      <th>label</th>\n",
       "    </tr>\n",
       "  </thead>\n",
       "  <tbody>\n",
       "    <tr>\n",
       "      <th>0</th>\n",
       "      <td>Q6A8L0</td>\n",
       "      <td>0.024735</td>\n",
       "      <td>0.121467</td>\n",
       "      <td>0.027258</td>\n",
       "      <td>0.053919</td>\n",
       "      <td>-0.044988</td>\n",
       "      <td>-0.049945</td>\n",
       "      <td>-0.059293</td>\n",
       "      <td>-0.069261</td>\n",
       "      <td>-0.151866</td>\n",
       "      <td>...</td>\n",
       "      <td>-0.048141</td>\n",
       "      <td>-0.056756</td>\n",
       "      <td>0.087139</td>\n",
       "      <td>-0.359019</td>\n",
       "      <td>-0.109614</td>\n",
       "      <td>-0.050734</td>\n",
       "      <td>-0.065588</td>\n",
       "      <td>-0.001964</td>\n",
       "      <td>0.149597</td>\n",
       "      <td>1</td>\n",
       "    </tr>\n",
       "    <tr>\n",
       "      <th>1</th>\n",
       "      <td>Q7V7T9</td>\n",
       "      <td>-0.017985</td>\n",
       "      <td>0.125560</td>\n",
       "      <td>0.137783</td>\n",
       "      <td>0.151576</td>\n",
       "      <td>0.192121</td>\n",
       "      <td>-0.133194</td>\n",
       "      <td>-0.079588</td>\n",
       "      <td>-0.032318</td>\n",
       "      <td>-0.195545</td>\n",
       "      <td>...</td>\n",
       "      <td>0.086358</td>\n",
       "      <td>-0.023590</td>\n",
       "      <td>0.001365</td>\n",
       "      <td>-0.429306</td>\n",
       "      <td>-0.043662</td>\n",
       "      <td>-0.033201</td>\n",
       "      <td>-0.015863</td>\n",
       "      <td>-0.048463</td>\n",
       "      <td>0.089530</td>\n",
       "      <td>1</td>\n",
       "    </tr>\n",
       "    <tr>\n",
       "      <th>...</th>\n",
       "      <td>...</td>\n",
       "      <td>...</td>\n",
       "      <td>...</td>\n",
       "      <td>...</td>\n",
       "      <td>...</td>\n",
       "      <td>...</td>\n",
       "      <td>...</td>\n",
       "      <td>...</td>\n",
       "      <td>...</td>\n",
       "      <td>...</td>\n",
       "      <td>...</td>\n",
       "      <td>...</td>\n",
       "      <td>...</td>\n",
       "      <td>...</td>\n",
       "      <td>...</td>\n",
       "      <td>...</td>\n",
       "      <td>...</td>\n",
       "      <td>...</td>\n",
       "      <td>...</td>\n",
       "      <td>...</td>\n",
       "      <td>...</td>\n",
       "    </tr>\n",
       "    <tr>\n",
       "      <th>13106</th>\n",
       "      <td>Q16AE8</td>\n",
       "      <td>0.066102</td>\n",
       "      <td>0.224571</td>\n",
       "      <td>0.061397</td>\n",
       "      <td>0.305505</td>\n",
       "      <td>-0.083444</td>\n",
       "      <td>-0.043334</td>\n",
       "      <td>-0.096683</td>\n",
       "      <td>0.019443</td>\n",
       "      <td>-0.197743</td>\n",
       "      <td>...</td>\n",
       "      <td>-0.121072</td>\n",
       "      <td>-0.120786</td>\n",
       "      <td>-0.114808</td>\n",
       "      <td>0.070889</td>\n",
       "      <td>-0.047742</td>\n",
       "      <td>0.063377</td>\n",
       "      <td>-0.176054</td>\n",
       "      <td>-0.116016</td>\n",
       "      <td>0.058687</td>\n",
       "      <td>0</td>\n",
       "    </tr>\n",
       "    <tr>\n",
       "      <th>13107</th>\n",
       "      <td>Q486Z0</td>\n",
       "      <td>0.088875</td>\n",
       "      <td>0.188258</td>\n",
       "      <td>-0.013611</td>\n",
       "      <td>-0.009012</td>\n",
       "      <td>-0.118099</td>\n",
       "      <td>-0.345594</td>\n",
       "      <td>-0.334829</td>\n",
       "      <td>0.208053</td>\n",
       "      <td>-0.214457</td>\n",
       "      <td>...</td>\n",
       "      <td>-0.065021</td>\n",
       "      <td>-0.296802</td>\n",
       "      <td>0.123161</td>\n",
       "      <td>0.009821</td>\n",
       "      <td>-0.066100</td>\n",
       "      <td>0.087617</td>\n",
       "      <td>-0.160601</td>\n",
       "      <td>-0.007373</td>\n",
       "      <td>-0.084994</td>\n",
       "      <td>0</td>\n",
       "    </tr>\n",
       "  </tbody>\n",
       "</table>\n",
       "<p>13108 rows × 1282 columns</p>\n",
       "</div>"
      ],
      "text/plain": [
       "      sequence         0         1         2         3         4         5  \\\n",
       "0       Q6A8L0  0.024735  0.121467  0.027258  0.053919 -0.044988 -0.049945   \n",
       "1       Q7V7T9 -0.017985  0.125560  0.137783  0.151576  0.192121 -0.133194   \n",
       "...        ...       ...       ...       ...       ...       ...       ...   \n",
       "13106   Q16AE8  0.066102  0.224571  0.061397  0.305505 -0.083444 -0.043334   \n",
       "13107   Q486Z0  0.088875  0.188258 -0.013611 -0.009012 -0.118099 -0.345594   \n",
       "\n",
       "              6         7         8  ...      1271      1272      1273  \\\n",
       "0     -0.059293 -0.069261 -0.151866  ... -0.048141 -0.056756  0.087139   \n",
       "1     -0.079588 -0.032318 -0.195545  ...  0.086358 -0.023590  0.001365   \n",
       "...         ...       ...       ...  ...       ...       ...       ...   \n",
       "13106 -0.096683  0.019443 -0.197743  ... -0.121072 -0.120786 -0.114808   \n",
       "13107 -0.334829  0.208053 -0.214457  ... -0.065021 -0.296802  0.123161   \n",
       "\n",
       "           1274      1275      1276      1277      1278      1279  label  \n",
       "0     -0.359019 -0.109614 -0.050734 -0.065588 -0.001964  0.149597      1  \n",
       "1     -0.429306 -0.043662 -0.033201 -0.015863 -0.048463  0.089530      1  \n",
       "...         ...       ...       ...       ...       ...       ...    ...  \n",
       "13106  0.070889 -0.047742  0.063377 -0.176054 -0.116016  0.058687      0  \n",
       "13107  0.009821 -0.066100  0.087617 -0.160601 -0.007373 -0.084994      0  \n",
       "\n",
       "[13108 rows x 1282 columns]"
      ]
     },
     "metadata": {},
     "output_type": "display_data"
    }
   ],
   "source": [
    "fu.check_with_df(Xs, ys, sequence_id)"
   ]
  },
  {
   "cell_type": "markdown",
   "id": "675a097e-9982-4abe-86bd-3a86fc4a37c1",
   "metadata": {
    "tags": []
   },
   "source": [
    "<br>\n",
    "\n",
    "## Test Dataset"
   ]
  },
  {
   "cell_type": "markdown",
   "id": "394fce27-e6f0-4ce6-bb56-9defd7bc5f40",
   "metadata": {},
   "source": [
    "### ESM ESM-1v model - esm1v_t33_650M_UR90S_1"
   ]
  },
  {
   "cell_type": "markdown",
   "id": "231204ea-0c8e-42be-93d7-b90b145821e1",
   "metadata": {
    "tags": []
   },
   "source": [
    "#### Pooling Operation:  `mean`"
   ]
  },
  {
   "cell_type": "markdown",
   "id": "f2280965-76ce-434d-b7fd-62c307fb9de2",
   "metadata": {},
   "source": [
    "Update arguments and prepare paths"
   ]
  },
  {
   "cell_type": "code",
   "execution_count": 45,
   "id": "c1db35bd-8e24-4391-b9f5-e7c41273fd68",
   "metadata": {
    "execution": {
     "iopub.execute_input": "2022-09-09T18:37:27.220994Z",
     "iopub.status.busy": "2022-09-09T18:37:27.220697Z",
     "iopub.status.idle": "2022-09-09T18:37:27.229065Z",
     "shell.execute_reply": "2022-09-09T18:37:27.228157Z",
     "shell.execute_reply.started": "2022-09-09T18:37:27.220954Z"
    },
    "tags": []
   },
   "outputs": [
    {
     "name": "stdout",
     "output_type": "stream",
     "text": [
      " ../data/dna_binding/test_esm.fa \n",
      " ../data/dna_binding/esm/test/dbp_test_esm1v_mean\n"
     ]
    }
   ],
   "source": [
    "# Update arguments\n",
    "model = 'esm1v_t33_650M_UR90S_1'\n",
    "file_base = 'test'\n",
    "emb_layer = 33\n",
    "# Prepare paths\n",
    "path_pt, _, path_fa = fu.file_paths(ptmodel, task, file_base, model, pool)\n",
    "print('', path_fa, '\\n', path_pt)"
   ]
  },
  {
   "cell_type": "code",
   "execution_count": 46,
   "id": "46da9c7e-b0e9-4be5-98f5-ed385eac586f",
   "metadata": {
    "execution": {
     "iopub.execute_input": "2022-09-09T18:37:40.930891Z",
     "iopub.status.busy": "2022-09-09T18:37:40.930593Z",
     "iopub.status.idle": "2022-09-09T18:38:03.910087Z",
     "shell.execute_reply": "2022-09-09T18:38:03.909159Z",
     "shell.execute_reply.started": "2022-09-09T18:37:40.930871Z"
    },
    "tags": []
   },
   "outputs": [
    {
     "name": "stdout",
     "output_type": "stream",
     "text": [
      "Shape of embeddings: \t\t(2081, 1280)\n",
      "Length of target label list:\t2081\n",
      "Length of sequential ids list:\t2081\n"
     ]
    }
   ],
   "source": [
    "Xs, ys, sequence_id = fu.read_embeddings(path_fa, path_pt, pool, emb_layer)"
   ]
  },
  {
   "cell_type": "markdown",
   "id": "1f88bcd8-e1bf-45f9-9528-9d54b8ed71b0",
   "metadata": {},
   "source": [
    "Check our data with `check_with_df` function."
   ]
  },
  {
   "cell_type": "code",
   "execution_count": 47,
   "id": "d9414a82-ec4e-4a1d-a8fa-9891a4cea97d",
   "metadata": {
    "execution": {
     "iopub.execute_input": "2022-09-09T18:38:11.062129Z",
     "iopub.status.busy": "2022-09-09T18:38:11.061817Z",
     "iopub.status.idle": "2022-09-09T18:38:11.099155Z",
     "shell.execute_reply": "2022-09-09T18:38:11.098156Z",
     "shell.execute_reply.started": "2022-09-09T18:38:11.062106Z"
    },
    "tags": []
   },
   "outputs": [
    {
     "data": {
      "text/html": [
       "<div>\n",
       "<style scoped>\n",
       "    .dataframe tbody tr th:only-of-type {\n",
       "        vertical-align: middle;\n",
       "    }\n",
       "\n",
       "    .dataframe tbody tr th {\n",
       "        vertical-align: top;\n",
       "    }\n",
       "\n",
       "    .dataframe thead th {\n",
       "        text-align: right;\n",
       "    }\n",
       "</style>\n",
       "<table border=\"1\" class=\"dataframe\">\n",
       "  <thead>\n",
       "    <tr style=\"text-align: right;\">\n",
       "      <th></th>\n",
       "      <th>sequence</th>\n",
       "      <th>0</th>\n",
       "      <th>1</th>\n",
       "      <th>2</th>\n",
       "      <th>3</th>\n",
       "      <th>4</th>\n",
       "      <th>5</th>\n",
       "      <th>6</th>\n",
       "      <th>7</th>\n",
       "      <th>8</th>\n",
       "      <th>...</th>\n",
       "      <th>1271</th>\n",
       "      <th>1272</th>\n",
       "      <th>1273</th>\n",
       "      <th>1274</th>\n",
       "      <th>1275</th>\n",
       "      <th>1276</th>\n",
       "      <th>1277</th>\n",
       "      <th>1278</th>\n",
       "      <th>1279</th>\n",
       "      <th>label</th>\n",
       "    </tr>\n",
       "  </thead>\n",
       "  <tbody>\n",
       "    <tr>\n",
       "      <th>0</th>\n",
       "      <td>P27204|1</td>\n",
       "      <td>-0.514593</td>\n",
       "      <td>-0.123215</td>\n",
       "      <td>-0.403862</td>\n",
       "      <td>-0.257147</td>\n",
       "      <td>-0.400282</td>\n",
       "      <td>0.334636</td>\n",
       "      <td>0.280655</td>\n",
       "      <td>-0.102672</td>\n",
       "      <td>-0.237462</td>\n",
       "      <td>...</td>\n",
       "      <td>0.070027</td>\n",
       "      <td>0.314713</td>\n",
       "      <td>0.100227</td>\n",
       "      <td>-0.433217</td>\n",
       "      <td>0.162725</td>\n",
       "      <td>0.089294</td>\n",
       "      <td>-0.208665</td>\n",
       "      <td>0.169917</td>\n",
       "      <td>0.079544</td>\n",
       "      <td>1</td>\n",
       "    </tr>\n",
       "    <tr>\n",
       "      <th>1</th>\n",
       "      <td>P53528|1</td>\n",
       "      <td>-0.597343</td>\n",
       "      <td>0.108853</td>\n",
       "      <td>0.030260</td>\n",
       "      <td>0.131975</td>\n",
       "      <td>0.152198</td>\n",
       "      <td>0.021401</td>\n",
       "      <td>-0.096014</td>\n",
       "      <td>-0.111102</td>\n",
       "      <td>0.040586</td>\n",
       "      <td>...</td>\n",
       "      <td>-0.046748</td>\n",
       "      <td>-0.152161</td>\n",
       "      <td>-0.323566</td>\n",
       "      <td>-0.042212</td>\n",
       "      <td>-0.029988</td>\n",
       "      <td>0.195072</td>\n",
       "      <td>-0.165746</td>\n",
       "      <td>0.098884</td>\n",
       "      <td>0.140598</td>\n",
       "      <td>1</td>\n",
       "    </tr>\n",
       "    <tr>\n",
       "      <th>...</th>\n",
       "      <td>...</td>\n",
       "      <td>...</td>\n",
       "      <td>...</td>\n",
       "      <td>...</td>\n",
       "      <td>...</td>\n",
       "      <td>...</td>\n",
       "      <td>...</td>\n",
       "      <td>...</td>\n",
       "      <td>...</td>\n",
       "      <td>...</td>\n",
       "      <td>...</td>\n",
       "      <td>...</td>\n",
       "      <td>...</td>\n",
       "      <td>...</td>\n",
       "      <td>...</td>\n",
       "      <td>...</td>\n",
       "      <td>...</td>\n",
       "      <td>...</td>\n",
       "      <td>...</td>\n",
       "      <td>...</td>\n",
       "      <td>...</td>\n",
       "    </tr>\n",
       "    <tr>\n",
       "      <th>2079</th>\n",
       "      <td>P80484|2</td>\n",
       "      <td>-0.189874</td>\n",
       "      <td>0.021987</td>\n",
       "      <td>-0.073087</td>\n",
       "      <td>-0.159768</td>\n",
       "      <td>-0.224471</td>\n",
       "      <td>0.024664</td>\n",
       "      <td>0.418944</td>\n",
       "      <td>-0.160513</td>\n",
       "      <td>0.047089</td>\n",
       "      <td>...</td>\n",
       "      <td>-0.133678</td>\n",
       "      <td>-0.233500</td>\n",
       "      <td>0.214999</td>\n",
       "      <td>-0.088417</td>\n",
       "      <td>-0.044613</td>\n",
       "      <td>0.117578</td>\n",
       "      <td>-0.100098</td>\n",
       "      <td>0.147895</td>\n",
       "      <td>-0.203335</td>\n",
       "      <td>0</td>\n",
       "    </tr>\n",
       "    <tr>\n",
       "      <th>2080</th>\n",
       "      <td>Q57837|2</td>\n",
       "      <td>-0.326968</td>\n",
       "      <td>-0.164970</td>\n",
       "      <td>-0.318906</td>\n",
       "      <td>0.064471</td>\n",
       "      <td>-0.559337</td>\n",
       "      <td>-0.019767</td>\n",
       "      <td>0.170227</td>\n",
       "      <td>-0.229546</td>\n",
       "      <td>-0.078261</td>\n",
       "      <td>...</td>\n",
       "      <td>-0.364000</td>\n",
       "      <td>-0.172490</td>\n",
       "      <td>0.014528</td>\n",
       "      <td>-0.141528</td>\n",
       "      <td>-0.249329</td>\n",
       "      <td>0.111519</td>\n",
       "      <td>-0.011608</td>\n",
       "      <td>0.197438</td>\n",
       "      <td>0.138820</td>\n",
       "      <td>0</td>\n",
       "    </tr>\n",
       "  </tbody>\n",
       "</table>\n",
       "<p>2081 rows × 1282 columns</p>\n",
       "</div>"
      ],
      "text/plain": [
       "      sequence         0         1         2         3         4         5  \\\n",
       "0     P27204|1 -0.514593 -0.123215 -0.403862 -0.257147 -0.400282  0.334636   \n",
       "1     P53528|1 -0.597343  0.108853  0.030260  0.131975  0.152198  0.021401   \n",
       "...        ...       ...       ...       ...       ...       ...       ...   \n",
       "2079  P80484|2 -0.189874  0.021987 -0.073087 -0.159768 -0.224471  0.024664   \n",
       "2080  Q57837|2 -0.326968 -0.164970 -0.318906  0.064471 -0.559337 -0.019767   \n",
       "\n",
       "             6         7         8  ...      1271      1272      1273  \\\n",
       "0     0.280655 -0.102672 -0.237462  ...  0.070027  0.314713  0.100227   \n",
       "1    -0.096014 -0.111102  0.040586  ... -0.046748 -0.152161 -0.323566   \n",
       "...        ...       ...       ...  ...       ...       ...       ...   \n",
       "2079  0.418944 -0.160513  0.047089  ... -0.133678 -0.233500  0.214999   \n",
       "2080  0.170227 -0.229546 -0.078261  ... -0.364000 -0.172490  0.014528   \n",
       "\n",
       "          1274      1275      1276      1277      1278      1279  label  \n",
       "0    -0.433217  0.162725  0.089294 -0.208665  0.169917  0.079544      1  \n",
       "1    -0.042212 -0.029988  0.195072 -0.165746  0.098884  0.140598      1  \n",
       "...        ...       ...       ...       ...       ...       ...    ...  \n",
       "2079 -0.088417 -0.044613  0.117578 -0.100098  0.147895 -0.203335      0  \n",
       "2080 -0.141528 -0.249329  0.111519 -0.011608  0.197438  0.138820      0  \n",
       "\n",
       "[2081 rows x 1282 columns]"
      ]
     },
     "metadata": {},
     "output_type": "display_data"
    }
   ],
   "source": [
    "fu.check_with_df(Xs, ys, sequence_id)"
   ]
  },
  {
   "cell_type": "markdown",
   "id": "85d3a50b-f2c7-4f3d-9fd3-52c87c33ce71",
   "metadata": {},
   "source": [
    "<br>\n",
    "\n",
    "### ESM ESM-1b model - esm1b_t33_650M_UR50S"
   ]
  },
  {
   "cell_type": "markdown",
   "id": "8d854ced-e66a-47c7-899d-7b93747e276e",
   "metadata": {},
   "source": [
    "Update arguments and prepare paths"
   ]
  },
  {
   "cell_type": "code",
   "execution_count": 48,
   "id": "4dfed0da-3952-4d23-a95d-e5b9653b8617",
   "metadata": {
    "execution": {
     "iopub.execute_input": "2022-09-09T18:38:20.323560Z",
     "iopub.status.busy": "2022-09-09T18:38:20.323281Z",
     "iopub.status.idle": "2022-09-09T18:38:20.331598Z",
     "shell.execute_reply": "2022-09-09T18:38:20.330794Z",
     "shell.execute_reply.started": "2022-09-09T18:38:20.323540Z"
    },
    "tags": []
   },
   "outputs": [
    {
     "name": "stdout",
     "output_type": "stream",
     "text": [
      " ../data/dna_binding/test_esm.fa \n",
      " ../data/dna_binding/esm/test/dbp_test_esm1b_mean\n"
     ]
    }
   ],
   "source": [
    "# Update arguments\n",
    "model = 'esm1b_t33_650M_UR50S' \n",
    "# Prepare paths\n",
    "path_pt, _, path_fa = fu.file_paths(ptmodel, task, file_base, model, pool)\n",
    "print('', path_fa, '\\n', path_pt)"
   ]
  },
  {
   "cell_type": "markdown",
   "id": "11bcde2b-e747-4abd-b169-81025474a38b",
   "metadata": {},
   "source": [
    "Extract embeddings with `read_embedings` function."
   ]
  },
  {
   "cell_type": "code",
   "execution_count": 49,
   "id": "140a0afd-7875-4f11-b0b0-382435e01fd4",
   "metadata": {
    "execution": {
     "iopub.execute_input": "2022-09-09T18:38:30.432719Z",
     "iopub.status.busy": "2022-09-09T18:38:30.432445Z",
     "iopub.status.idle": "2022-09-09T18:38:52.509812Z",
     "shell.execute_reply": "2022-09-09T18:38:52.509103Z",
     "shell.execute_reply.started": "2022-09-09T18:38:30.432699Z"
    },
    "tags": []
   },
   "outputs": [
    {
     "name": "stdout",
     "output_type": "stream",
     "text": [
      "Shape of embeddings: \t\t(2081, 1280)\n",
      "Length of target label list:\t2081\n",
      "Length of sequential ids list:\t2081\n"
     ]
    }
   ],
   "source": [
    "Xs, ys, sequence_id = fu.read_embeddings(path_fa, path_pt, pool, emb_layer)"
   ]
  },
  {
   "cell_type": "markdown",
   "id": "b88cb4fd-03f7-4e9d-9e83-d234f3b44e97",
   "metadata": {},
   "source": [
    "Check our data with `check_with_df` function."
   ]
  },
  {
   "cell_type": "code",
   "execution_count": 50,
   "id": "fa778f08-75af-4711-85ec-2635d04a0be3",
   "metadata": {
    "execution": {
     "iopub.execute_input": "2022-09-09T18:39:00.665415Z",
     "iopub.status.busy": "2022-09-09T18:39:00.665059Z",
     "iopub.status.idle": "2022-09-09T18:39:00.705885Z",
     "shell.execute_reply": "2022-09-09T18:39:00.704781Z",
     "shell.execute_reply.started": "2022-09-09T18:39:00.665370Z"
    },
    "tags": []
   },
   "outputs": [
    {
     "data": {
      "text/html": [
       "<div>\n",
       "<style scoped>\n",
       "    .dataframe tbody tr th:only-of-type {\n",
       "        vertical-align: middle;\n",
       "    }\n",
       "\n",
       "    .dataframe tbody tr th {\n",
       "        vertical-align: top;\n",
       "    }\n",
       "\n",
       "    .dataframe thead th {\n",
       "        text-align: right;\n",
       "    }\n",
       "</style>\n",
       "<table border=\"1\" class=\"dataframe\">\n",
       "  <thead>\n",
       "    <tr style=\"text-align: right;\">\n",
       "      <th></th>\n",
       "      <th>sequence</th>\n",
       "      <th>0</th>\n",
       "      <th>1</th>\n",
       "      <th>2</th>\n",
       "      <th>3</th>\n",
       "      <th>4</th>\n",
       "      <th>5</th>\n",
       "      <th>6</th>\n",
       "      <th>7</th>\n",
       "      <th>8</th>\n",
       "      <th>...</th>\n",
       "      <th>1271</th>\n",
       "      <th>1272</th>\n",
       "      <th>1273</th>\n",
       "      <th>1274</th>\n",
       "      <th>1275</th>\n",
       "      <th>1276</th>\n",
       "      <th>1277</th>\n",
       "      <th>1278</th>\n",
       "      <th>1279</th>\n",
       "      <th>label</th>\n",
       "    </tr>\n",
       "  </thead>\n",
       "  <tbody>\n",
       "    <tr>\n",
       "      <th>0</th>\n",
       "      <td>P27204|1</td>\n",
       "      <td>-0.011398</td>\n",
       "      <td>-0.006860</td>\n",
       "      <td>0.128372</td>\n",
       "      <td>0.106459</td>\n",
       "      <td>-0.043602</td>\n",
       "      <td>-0.045671</td>\n",
       "      <td>-0.068560</td>\n",
       "      <td>0.131720</td>\n",
       "      <td>-0.151244</td>\n",
       "      <td>...</td>\n",
       "      <td>0.020886</td>\n",
       "      <td>-0.019969</td>\n",
       "      <td>-0.037539</td>\n",
       "      <td>-0.831627</td>\n",
       "      <td>0.038463</td>\n",
       "      <td>0.073157</td>\n",
       "      <td>0.015005</td>\n",
       "      <td>-0.057251</td>\n",
       "      <td>0.154478</td>\n",
       "      <td>1</td>\n",
       "    </tr>\n",
       "    <tr>\n",
       "      <th>1</th>\n",
       "      <td>P53528|1</td>\n",
       "      <td>-0.052130</td>\n",
       "      <td>0.202240</td>\n",
       "      <td>0.161669</td>\n",
       "      <td>-0.053947</td>\n",
       "      <td>0.117859</td>\n",
       "      <td>-0.262483</td>\n",
       "      <td>-0.075677</td>\n",
       "      <td>0.120203</td>\n",
       "      <td>-0.188200</td>\n",
       "      <td>...</td>\n",
       "      <td>-0.009060</td>\n",
       "      <td>-0.118130</td>\n",
       "      <td>-0.073568</td>\n",
       "      <td>0.046297</td>\n",
       "      <td>-0.012672</td>\n",
       "      <td>0.103821</td>\n",
       "      <td>-0.086478</td>\n",
       "      <td>-0.041500</td>\n",
       "      <td>-0.025464</td>\n",
       "      <td>1</td>\n",
       "    </tr>\n",
       "    <tr>\n",
       "      <th>...</th>\n",
       "      <td>...</td>\n",
       "      <td>...</td>\n",
       "      <td>...</td>\n",
       "      <td>...</td>\n",
       "      <td>...</td>\n",
       "      <td>...</td>\n",
       "      <td>...</td>\n",
       "      <td>...</td>\n",
       "      <td>...</td>\n",
       "      <td>...</td>\n",
       "      <td>...</td>\n",
       "      <td>...</td>\n",
       "      <td>...</td>\n",
       "      <td>...</td>\n",
       "      <td>...</td>\n",
       "      <td>...</td>\n",
       "      <td>...</td>\n",
       "      <td>...</td>\n",
       "      <td>...</td>\n",
       "      <td>...</td>\n",
       "      <td>...</td>\n",
       "    </tr>\n",
       "    <tr>\n",
       "      <th>2079</th>\n",
       "      <td>P80484|2</td>\n",
       "      <td>0.052295</td>\n",
       "      <td>0.076697</td>\n",
       "      <td>-0.053086</td>\n",
       "      <td>0.043356</td>\n",
       "      <td>-0.033600</td>\n",
       "      <td>-0.125369</td>\n",
       "      <td>-0.006812</td>\n",
       "      <td>0.030662</td>\n",
       "      <td>-0.068741</td>\n",
       "      <td>...</td>\n",
       "      <td>0.068226</td>\n",
       "      <td>-0.017867</td>\n",
       "      <td>0.183126</td>\n",
       "      <td>-0.778656</td>\n",
       "      <td>0.018837</td>\n",
       "      <td>-0.117384</td>\n",
       "      <td>0.041702</td>\n",
       "      <td>0.065865</td>\n",
       "      <td>0.271809</td>\n",
       "      <td>0</td>\n",
       "    </tr>\n",
       "    <tr>\n",
       "      <th>2080</th>\n",
       "      <td>Q57837|2</td>\n",
       "      <td>0.067418</td>\n",
       "      <td>0.224127</td>\n",
       "      <td>-0.010041</td>\n",
       "      <td>0.057362</td>\n",
       "      <td>0.088127</td>\n",
       "      <td>-0.150553</td>\n",
       "      <td>-0.062061</td>\n",
       "      <td>0.013359</td>\n",
       "      <td>-0.026879</td>\n",
       "      <td>...</td>\n",
       "      <td>0.049471</td>\n",
       "      <td>-0.159092</td>\n",
       "      <td>0.032727</td>\n",
       "      <td>0.076621</td>\n",
       "      <td>0.118966</td>\n",
       "      <td>0.072636</td>\n",
       "      <td>0.024107</td>\n",
       "      <td>0.101532</td>\n",
       "      <td>0.061851</td>\n",
       "      <td>0</td>\n",
       "    </tr>\n",
       "  </tbody>\n",
       "</table>\n",
       "<p>2081 rows × 1282 columns</p>\n",
       "</div>"
      ],
      "text/plain": [
       "      sequence         0         1         2         3         4         5  \\\n",
       "0     P27204|1 -0.011398 -0.006860  0.128372  0.106459 -0.043602 -0.045671   \n",
       "1     P53528|1 -0.052130  0.202240  0.161669 -0.053947  0.117859 -0.262483   \n",
       "...        ...       ...       ...       ...       ...       ...       ...   \n",
       "2079  P80484|2  0.052295  0.076697 -0.053086  0.043356 -0.033600 -0.125369   \n",
       "2080  Q57837|2  0.067418  0.224127 -0.010041  0.057362  0.088127 -0.150553   \n",
       "\n",
       "             6         7         8  ...      1271      1272      1273  \\\n",
       "0    -0.068560  0.131720 -0.151244  ...  0.020886 -0.019969 -0.037539   \n",
       "1    -0.075677  0.120203 -0.188200  ... -0.009060 -0.118130 -0.073568   \n",
       "...        ...       ...       ...  ...       ...       ...       ...   \n",
       "2079 -0.006812  0.030662 -0.068741  ...  0.068226 -0.017867  0.183126   \n",
       "2080 -0.062061  0.013359 -0.026879  ...  0.049471 -0.159092  0.032727   \n",
       "\n",
       "          1274      1275      1276      1277      1278      1279  label  \n",
       "0    -0.831627  0.038463  0.073157  0.015005 -0.057251  0.154478      1  \n",
       "1     0.046297 -0.012672  0.103821 -0.086478 -0.041500 -0.025464      1  \n",
       "...        ...       ...       ...       ...       ...       ...    ...  \n",
       "2079 -0.778656  0.018837 -0.117384  0.041702  0.065865  0.271809      0  \n",
       "2080  0.076621  0.118966  0.072636  0.024107  0.101532  0.061851      0  \n",
       "\n",
       "[2081 rows x 1282 columns]"
      ]
     },
     "metadata": {},
     "output_type": "display_data"
    }
   ],
   "source": [
    "fu.check_with_df(Xs, ys, sequence_id)"
   ]
  }
 ],
 "metadata": {
  "kernelspec": {
   "display_name": "sa",
   "language": "python",
   "name": "conda-env-sa-py"
  },
  "language_info": {
   "codemirror_mode": {
    "name": "ipython",
    "version": 3
   },
   "file_extension": ".py",
   "mimetype": "text/x-python",
   "name": "python",
   "nbconvert_exporter": "python",
   "pygments_lexer": "ipython3",
   "version": "3.8.13"
  },
  "widgets": {
   "application/vnd.jupyter.widget-state+json": {
    "state": {},
    "version_major": 2,
    "version_minor": 0
   }
  }
 },
 "nbformat": 4,
 "nbformat_minor": 5
}
