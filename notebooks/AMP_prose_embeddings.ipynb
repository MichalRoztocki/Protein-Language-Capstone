{
 "cells": [
  {
   "cell_type": "markdown",
   "id": "cc6ea880-df4c-4874-baf3-5ebff2637727",
   "metadata": {},
   "source": [
    "## AMP - Antimicrobial Peptides"
   ]
  },
  {
   "cell_type": "code",
   "execution_count": null,
   "id": "bf5a6ee2-152f-4794-aec2-40e84f67aaea",
   "metadata": {},
   "outputs": [],
   "source": []
  },
  {
   "cell_type": "code",
   "execution_count": 1,
   "id": "dbb82159-e365-4b0b-ae40-6f27f49e9a81",
   "metadata": {
    "execution": {
     "iopub.execute_input": "2022-09-04T21:18:31.772111Z",
     "iopub.status.busy": "2022-09-04T21:18:31.771794Z",
     "iopub.status.idle": "2022-09-04T21:18:32.771546Z",
     "shell.execute_reply": "2022-09-04T21:18:32.770412Z",
     "shell.execute_reply.started": "2022-09-04T21:18:31.772058Z"
    },
    "tags": []
   },
   "outputs": [],
   "source": [
    "# Import dependencies\n",
    "import torch\n",
    "import h5py\n",
    "# import esm\n",
    "import os\n",
    "import numpy as np"
   ]
  },
  {
   "cell_type": "code",
   "execution_count": 2,
   "id": "9ded346c-15cb-4ebe-9223-423c089e94b4",
   "metadata": {
    "execution": {
     "iopub.execute_input": "2022-09-04T21:18:34.784478Z",
     "iopub.status.busy": "2022-09-04T21:18:34.784159Z",
     "iopub.status.idle": "2022-09-04T21:18:34.803129Z",
     "shell.execute_reply": "2022-09-04T21:18:34.802284Z",
     "shell.execute_reply.started": "2022-09-04T21:18:34.784459Z"
    },
    "tags": []
   },
   "outputs": [],
   "source": [
    "# Import the script from different folder\n",
    "import sys  \n",
    "sys.path.append('../scripts')\n",
    "\n",
    "import prepare_paths as pp"
   ]
  },
  {
   "cell_type": "code",
   "execution_count": 3,
   "id": "611c4c7d-4d43-4b6a-a669-a1d3d8bfa7b9",
   "metadata": {
    "execution": {
     "iopub.execute_input": "2022-09-04T21:18:38.851721Z",
     "iopub.status.busy": "2022-09-04T21:18:38.851448Z",
     "iopub.status.idle": "2022-09-04T21:18:38.855908Z",
     "shell.execute_reply": "2022-09-04T21:18:38.855067Z",
     "shell.execute_reply.started": "2022-09-04T21:18:38.851702Z"
    },
    "tags": []
   },
   "outputs": [],
   "source": [
    "# Define arguments for the file_paths function\n",
    "# First three (amp only) are constant in this notebook\n",
    "ptmodel = 'prose'\n",
    "task = 'amp'\n",
    "file_base = 'all_data'\n",
    "# Last 2 arguments we will be changing through the notebook\n",
    "model = 'prose_dlm'\n",
    "pool = 'avg'  \n"
   ]
  },
  {
   "cell_type": "markdown",
   "id": "710419bb-2c90-4e1f-921f-7cb736019931",
   "metadata": {},
   "source": [
    "### all_data Dataset"
   ]
  },
  {
   "cell_type": "markdown",
   "id": "8d5f3b96-ba95-438e-9f79-e13664e6ddf7",
   "metadata": {},
   "source": [
    "### ProSE DLM model - prose_dlm"
   ]
  },
  {
   "cell_type": "markdown",
   "id": "c138c681-f874-4c3b-8872-f315eb1e27bc",
   "metadata": {
    "tags": []
   },
   "source": [
    "**Pooling Operation:  avg**"
   ]
  },
  {
   "cell_type": "markdown",
   "id": "f3956a8e-f83e-4094-b750-60df31a4213c",
   "metadata": {},
   "source": [
    "Run the script `file_paths` to prepare paths. The default root data folder is *../data*."
   ]
  },
  {
   "cell_type": "code",
   "execution_count": 4,
   "id": "74bff221-c802-4b04-ac89-3895e38091bf",
   "metadata": {
    "execution": {
     "iopub.execute_input": "2022-09-04T21:18:54.013041Z",
     "iopub.status.busy": "2022-09-04T21:18:54.012720Z",
     "iopub.status.idle": "2022-09-04T21:18:54.020413Z",
     "shell.execute_reply": "2022-09-04T21:18:54.019499Z",
     "shell.execute_reply.started": "2022-09-04T21:18:54.013006Z"
    },
    "tags": []
   },
   "outputs": [],
   "source": [
    "# Prepare paths\n",
    "path_pt, path_h5, path_fa = pp.file_paths(ptmodel, task, file_base, model, pool)"
   ]
  },
  {
   "cell_type": "code",
   "execution_count": 5,
   "id": "f849628c-4ca5-4a99-be00-f1a06f36fe68",
   "metadata": {
    "execution": {
     "iopub.execute_input": "2022-09-04T21:18:57.890695Z",
     "iopub.status.busy": "2022-09-04T21:18:57.890440Z",
     "iopub.status.idle": "2022-09-04T21:18:57.896354Z",
     "shell.execute_reply": "2022-09-04T21:18:57.894886Z",
     "shell.execute_reply.started": "2022-09-04T21:18:57.890677Z"
    },
    "tags": []
   },
   "outputs": [
    {
     "name": "stdout",
     "output_type": "stream",
     "text": [
      "../data/amp/all_data.fa \n",
      " ../data/amp/prose/all_data/amp_all_dlm_avg.h5 \n",
      " ../data/amp/prose/all_data/amp_all_dlm_avg\n"
     ]
    }
   ],
   "source": [
    "print(path_fa, '\\n', path_h5, '\\n', path_pt)"
   ]
  },
  {
   "cell_type": "markdown",
   "id": "b0920522-f71c-46bf-8766-1432f343d006",
   "metadata": {},
   "source": [
    "Run the embeding script for: `prose - amp - all_data - dlm - avg`.  \n",
    "The script reads the fasta file and creates the h5 file wilh embeddings."
   ]
  },
  {
   "cell_type": "code",
   "execution_count": 6,
   "id": "17b5d09d-78e1-4d5d-9b53-cc4c6bc99b1c",
   "metadata": {
    "execution": {
     "iopub.execute_input": "2022-09-04T21:20:20.965276Z",
     "iopub.status.busy": "2022-09-04T21:20:20.964911Z",
     "iopub.status.idle": "2022-09-04T21:21:26.294100Z",
     "shell.execute_reply": "2022-09-04T21:21:26.293254Z",
     "shell.execute_reply.started": "2022-09-04T21:20:20.965254Z"
    }
   },
   "outputs": [
    {
     "name": "stderr",
     "output_type": "stream",
     "text": [
      "# loading the pre-trained ProSE DLM model\n",
      "# writing: ../data/amp/prose/all_data/amp_all_dlm_avg.h5\n",
      "# embedding with pool=avg\n",
      "                                                                                \r"
     ]
    }
   ],
   "source": [
    "# Run embedding script\n",
    "%%time\n",
    "%run ../prose/embed_sequences --model \"{model}\" --pool \"{pool}\" -o \"{path_h5}\" \"{path_fa}\""
   ]
  },
  {
   "cell_type": "markdown",
   "id": "596cca46-cfbf-4681-ac5c-cda9b70c0bea",
   "metadata": {},
   "source": [
    "The helper function `convert_h5_to_pt`, converts h5 file to set of pt files, one for each sequence embedding."
   ]
  },
  {
   "cell_type": "code",
   "execution_count": 10,
   "id": "729d7aef-2d52-4682-a994-11c3fc7ad0f0",
   "metadata": {
    "execution": {
     "iopub.execute_input": "2022-09-04T21:36:03.355496Z",
     "iopub.status.busy": "2022-09-04T21:36:03.355014Z",
     "iopub.status.idle": "2022-09-04T21:36:03.362266Z",
     "shell.execute_reply": "2022-09-04T21:36:03.361158Z",
     "shell.execute_reply.started": "2022-09-04T21:36:03.355472Z"
    },
    "tags": []
   },
   "outputs": [],
   "source": [
    "# Converts h5 file to ot files, one per each sequence embedding.\n",
    "def convert_h5_to_pt(path_h5, path_pt, pool):\n",
    "    os.makedirs(path_pt, exist_ok=True)\n",
    "    with h5py.File(path_h5, 'r') as hf:\n",
    "        dd = {}\n",
    "        for key in hf.keys():\n",
    "            \n",
    "            dd['label'] = key\n",
    "            t = torch.tensor(hf.get(key))\n",
    "            dd[f'{pool}_representations'] = {'layer': t}\n",
    "            torch.save(dd, f'{os.path.join(path_pt, key)}.pt')"
   ]
  },
  {
   "cell_type": "markdown",
   "id": "38153967-2cda-40f6-ae51-4de8576e013b",
   "metadata": {},
   "source": [
    "Read the h5 file and create one pt file for every embedding ih the path_pt folder."
   ]
  },
  {
   "cell_type": "code",
   "execution_count": 11,
   "id": "1e590b48-10f0-4639-9ee3-ce342975cbfb",
   "metadata": {
    "execution": {
     "iopub.execute_input": "2022-09-04T21:36:12.482488Z",
     "iopub.status.busy": "2022-09-04T21:36:12.482211Z",
     "iopub.status.idle": "2022-09-04T21:39:33.727547Z",
     "shell.execute_reply": "2022-09-04T21:39:33.726717Z",
     "shell.execute_reply.started": "2022-09-04T21:36:12.482469Z"
    },
    "tags": []
   },
   "outputs": [
    {
     "name": "stdout",
     "output_type": "stream",
     "text": [
      "CPU times: user 3min 1s, sys: 1.5 s, total: 3min 2s\n",
      "Wall time: 3min 21s\n"
     ]
    }
   ],
   "source": [
    "%%time\n",
    "# Convert h5 file to pt files\n",
    "convert_h5_to_pt(path_h5, path_pt, pool)"
   ]
  },
  {
   "cell_type": "code",
   "execution_count": null,
   "id": "d179325a-23dd-4849-9a5c-54ab9136d80c",
   "metadata": {},
   "outputs": [],
   "source": []
  },
  {
   "cell_type": "markdown",
   "id": "036e8a3a-febe-447c-9a54-d2b08c7ddbb9",
   "metadata": {
    "tags": []
   },
   "source": [
    "**Pooling Operation:  max**"
   ]
  },
  {
   "cell_type": "code",
   "execution_count": null,
   "id": "7a0ef35b-955f-4733-b8d3-d70604df800c",
   "metadata": {},
   "outputs": [],
   "source": [
    "# Prepare paths\n",
    "pool = 'max'\n",
    "path_pt, path_h5, path_fa = pp.file_paths(ptmodel, task, file_base, model, pool)"
   ]
  },
  {
   "cell_type": "markdown",
   "id": "7c643f32-70ca-478d-b705-533a8716c573",
   "metadata": {},
   "source": [
    "Run the embeding script for: `prose - amp - all_data - dlm - avg`.  \n",
    "The script reads the fasta file and creates the h5 file wilh embeddings."
   ]
  },
  {
   "cell_type": "code",
   "execution_count": null,
   "id": "111f7d00-b54e-4f7d-8adf-f8f0963d3e04",
   "metadata": {},
   "outputs": [],
   "source": [
    "# Run embedding script\n",
    "%run ../prose/embed_sequences --model \"{model}\" --pool \"{pool}\" -o \"{path_h5}\" \"{path_fa}\""
   ]
  }
 ],
 "metadata": {
  "kernelspec": {
   "display_name": "sa",
   "language": "python",
   "name": "conda-env-sa-py"
  },
  "language_info": {
   "codemirror_mode": {
    "name": "ipython",
    "version": 3
   },
   "file_extension": ".py",
   "mimetype": "text/x-python",
   "name": "python",
   "nbconvert_exporter": "python",
   "pygments_lexer": "ipython3",
   "version": "3.8.13"
  },
  "widgets": {
   "application/vnd.jupyter.widget-state+json": {
    "state": {},
    "version_major": 2,
    "version_minor": 0
   }
  }
 },
 "nbformat": 4,
 "nbformat_minor": 5
}
