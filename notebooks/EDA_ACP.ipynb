{
 "cells": [
  {
   "cell_type": "markdown",
   "metadata": {},
   "source": [
    "## Exploratory Data Analysis - Anti Cancer Peptides"
   ]
  },
  {
   "cell_type": "code",
   "execution_count": 1,
   "metadata": {},
   "outputs": [],
   "source": [
    "import pandas as pd\n",
    "import matplotlib.pyplot as plt\n",
    "import seaborn as sns\n",
    "\n",
    "%matplotlib inline"
   ]
  },
  {
   "cell_type": "markdown",
   "metadata": {},
   "source": [
    "Allow multiple outputs from each cell."
   ]
  },
  {
   "cell_type": "code",
   "execution_count": 2,
   "metadata": {},
   "outputs": [],
   "source": [
    "from IPython.core.interactiveshell import InteractiveShell\n",
    "InteractiveShell.ast_node_interactivity = \"all\""
   ]
  },
  {
   "cell_type": "markdown",
   "metadata": {},
   "source": [
    "Load in train and test datasets."
   ]
  },
  {
   "cell_type": "code",
   "execution_count": 3,
   "metadata": {},
   "outputs": [
    {
     "name": "stdout",
     "output_type": "stream",
     "text": [
      "Train dataset shape: (1378, 2)\n",
      "Test dataset shape: (344, 2)\n",
      "Train-test split: 80% Train, 20% Test\n"
     ]
    }
   ],
   "source": [
    "df_train = pd.read_csv(\"../data/acp/train_data.csv\")\n",
    "df_test = pd.read_csv(\"../data/acp/test_data.csv\")\n",
    "\n",
    "print(f\"Train dataset shape: {df_train.shape}\")\n",
    "print(f\"Test dataset shape: {df_test.shape}\")\n",
    "\n",
    "train_per = round(100*(df_train.shape[0]/(df_train.shape[0]+df_test.shape[0])))\n",
    "print(f\"Train-test split: {train_per}% Train, {100-train_per}% Test\")"
   ]
  },
  {
   "cell_type": "markdown",
   "metadata": {},
   "source": [
    "Take a look at the format of the data."
   ]
  },
  {
   "cell_type": "code",
   "execution_count": 4,
   "metadata": {},
   "outputs": [
    {
     "data": {
      "text/html": [
       "<div>\n",
       "<style scoped>\n",
       "    .dataframe tbody tr th:only-of-type {\n",
       "        vertical-align: middle;\n",
       "    }\n",
       "\n",
       "    .dataframe tbody tr th {\n",
       "        vertical-align: top;\n",
       "    }\n",
       "\n",
       "    .dataframe thead th {\n",
       "        text-align: right;\n",
       "    }\n",
       "</style>\n",
       "<table border=\"1\" class=\"dataframe\">\n",
       "  <thead>\n",
       "    <tr style=\"text-align: right;\">\n",
       "      <th></th>\n",
       "      <th>sequences</th>\n",
       "      <th>label</th>\n",
       "    </tr>\n",
       "  </thead>\n",
       "  <tbody>\n",
       "    <tr>\n",
       "      <th>0</th>\n",
       "      <td>RRWWRRWRRW</td>\n",
       "      <td>0</td>\n",
       "    </tr>\n",
       "    <tr>\n",
       "      <th>1</th>\n",
       "      <td>GWKSVFRKAKKVGKTVGGLALDHYLG</td>\n",
       "      <td>0</td>\n",
       "    </tr>\n",
       "    <tr>\n",
       "      <th>2</th>\n",
       "      <td>ALWKTMLKKLGTMALHAGKAALGAAADTISQGTQ</td>\n",
       "      <td>1</td>\n",
       "    </tr>\n",
       "    <tr>\n",
       "      <th>3</th>\n",
       "      <td>GLFDVIKKVAAVIGGL</td>\n",
       "      <td>1</td>\n",
       "    </tr>\n",
       "    <tr>\n",
       "      <th>4</th>\n",
       "      <td>VAKLLAKLAKKVL</td>\n",
       "      <td>1</td>\n",
       "    </tr>\n",
       "  </tbody>\n",
       "</table>\n",
       "</div>"
      ],
      "text/plain": [
       "                            sequences  label\n",
       "0                          RRWWRRWRRW      0\n",
       "1          GWKSVFRKAKKVGKTVGGLALDHYLG      0\n",
       "2  ALWKTMLKKLGTMALHAGKAALGAAADTISQGTQ      1\n",
       "3                    GLFDVIKKVAAVIGGL      1\n",
       "4                       VAKLLAKLAKKVL      1"
      ]
     },
     "execution_count": 4,
     "metadata": {},
     "output_type": "execute_result"
    },
    {
     "data": {
      "text/plain": [
       "sequences    object\n",
       "label         int64\n",
       "dtype: object"
      ]
     },
     "execution_count": 4,
     "metadata": {},
     "output_type": "execute_result"
    },
    {
     "name": "stdout",
     "output_type": "stream",
     "text": [
      "Unique values of label: [0 1]\n"
     ]
    }
   ],
   "source": [
    "df_train.head()\n",
    "df_train.dtypes\n",
    "print(f\"Unique values of label: {df_train.label.unique()}\")"
   ]
  },
  {
   "cell_type": "markdown",
   "metadata": {},
   "source": [
    "Check for distribution of classes to identify potential imbalances."
   ]
  },
  {
   "cell_type": "code",
   "execution_count": 5,
   "metadata": {},
   "outputs": [
    {
     "data": {
      "text/plain": [
       "0    689\n",
       "1    689\n",
       "Name: label, dtype: int64"
      ]
     },
     "execution_count": 5,
     "metadata": {},
     "output_type": "execute_result"
    },
    {
     "data": {
      "text/plain": [
       "0    172\n",
       "1    172\n",
       "Name: label, dtype: int64"
      ]
     },
     "execution_count": 5,
     "metadata": {},
     "output_type": "execute_result"
    },
    {
     "name": "stdout",
     "output_type": "stream",
     "text": [
      "Both train and test datasets are perfectly balanced between the positive and negative class\n"
     ]
    }
   ],
   "source": [
    "df_train.label.value_counts()\n",
    "df_test.label.value_counts()\n",
    "print(\"Both train and test datasets are perfectly balanced between the positive and negative class\")"
   ]
  },
  {
   "cell_type": "markdown",
   "metadata": {},
   "source": [
    "Visualizing the distribution of the lengths of sequences in each dataset."
   ]
  },
  {
   "cell_type": "code",
   "execution_count": 6,
   "metadata": {},
   "outputs": [
    {
     "data": {
      "image/png": "[encoded data removed]",
      "text/plain": [
       "<Figure size 432x288 with 1 Axes>"
      ]
     },
     "metadata": {
      "needs_background": "light"
     },
     "output_type": "display_data"
    }
   ],
   "source": [
    "sns.histplot(df_train.sequences.str.len(), bins=20, kde=True);\n",
    "plt.xlabel(\"Sequence Size\");\n",
    "plt.title('Distribution of Sequence Sizes in the Train dataset');"
   ]
  },
  {
   "cell_type": "code",
   "execution_count": 7,
   "metadata": {},
   "outputs": [
    {
     "data": {
      "image/png": "[encoded data removed]",
      "text/plain": [
       "<Figure size 432x288 with 1 Axes>"
      ]
     },
     "metadata": {
      "needs_background": "light"
     },
     "output_type": "display_data"
    }
   ],
   "source": [
    "sns.histplot(df_test.sequences.str.len(), bins=20, kde=True);\n",
    "plt.xlabel(\"Sequence Size\");\n",
    "plt.title('Distribution of Sequence Sizes in the Test dataset');"
   ]
  },
  {
   "cell_type": "code",
   "execution_count": 8,
   "metadata": {},
   "outputs": [
    {
     "name": "stdout",
     "output_type": "stream",
     "text": [
      "Train dataset - mean of sequence sizes: 23.826560232220608\n",
      "Test dataset - mean of sequence sizes: 23.75872093023256\n",
      "Train dataset - smallest sequence size: 3\n",
      "Test dataset - smallest sequence size: 2\n",
      "Train dataset - largest sequence size: 50\n",
      "Test dataset - largest sequence size: 50\n"
     ]
    }
   ],
   "source": [
    "train_seq_sizes = df_train.sequences.str.len()\n",
    "test_seq_sizes = df_test.sequences.str.len()\n",
    "\n",
    "print(f\"Train dataset - mean of sequence sizes: {train_seq_sizes.mean()}\")\n",
    "print(f\"Test dataset - mean of sequence sizes: {test_seq_sizes.mean()}\")\n",
    "\n",
    "print(f\"Train dataset - smallest sequence size: {train_seq_sizes.min()}\")\n",
    "print(f\"Test dataset - smallest sequence size: {test_seq_sizes.min()}\")\n",
    "\n",
    "print(f\"Train dataset - largest sequence size: {train_seq_sizes.max()}\")\n",
    "print(f\"Test dataset - largest sequence size: {test_seq_sizes.max()}\")"
   ]
  },
  {
   "cell_type": "code",
   "execution_count": 15,
   "metadata": {},
   "outputs": [
    {
     "data": {
      "text/plain": [
       "0       0\n",
       "1       2\n",
       "2       8\n",
       "3       2\n",
       "4       3\n",
       "       ..\n",
       "1373    0\n",
       "1374    5\n",
       "1375    0\n",
       "1376    2\n",
       "1377    0\n",
       "Name: sequences, Length: 1378, dtype: int64"
      ]
     },
     "execution_count": 15,
     "metadata": {},
     "output_type": "execute_result"
    },
    {
     "data": {
      "text/plain": [
       "array(['RRWWRRWRRW', 'GWKSVFRKAKKVGKTVGGLALDHYLG',\n",
       "       'ALWKTMLKKLGTMALHAGKAALGAAADTISQGTQ', ...,\n",
       "       'ESEFDRQEYEECKRQCMQLETSGQMRRCVSQCDKRFEEDIDWSKYDNQE',\n",
       "       'FISAIASFLGKFL', 'RLSRIVVIRVCR'], dtype=object)"
      ]
     },
     "execution_count": 15,
     "metadata": {},
     "output_type": "execute_result"
    }
   ],
   "source": [
    "df_train.sequences.str.count(\"A\")\n",
    "df_train.sequences.unique()"
   ]
  },
  {
   "cell_type": "markdown",
   "metadata": {},
   "source": [
    "Making sure there are no duplicate proteins."
   ]
  },
  {
   "cell_type": "code",
   "execution_count": 1,
   "metadata": {},
   "outputs": [
    {
     "ename": "NameError",
     "evalue": "name 'df_train' is not defined",
     "output_type": "error",
     "traceback": [
      "\u001b[0;31m---------------------------------------------------------------------------\u001b[0m",
      "\u001b[0;31mNameError\u001b[0m                                 Traceback (most recent call last)",
      "\u001b[1;32m/mnt/c/Users/mrozt/Documents/FourthBrain/Protein-Language-Capstone/notebooks/EDA_ACP.ipynb Cell 17\u001b[0m in \u001b[0;36m<cell line: 1>\u001b[0;34m()\u001b[0m\n\u001b[0;32m----> <a href='vscode-notebook-cell://wsl%2Bubuntu/mnt/c/Users/mrozt/Documents/FourthBrain/Protein-Language-Capstone/notebooks/EDA_ACP.ipynb#ch0000016vscode-remote?line=0'>1</a>\u001b[0m df_train\u001b[39m.\u001b[39msequences\u001b[39m.\u001b[39mduplicated()\u001b[39m.\u001b[39msum()\n\u001b[1;32m      <a href='vscode-notebook-cell://wsl%2Bubuntu/mnt/c/Users/mrozt/Documents/FourthBrain/Protein-Language-Capstone/notebooks/EDA_ACP.ipynb#ch0000016vscode-remote?line=1'>2</a>\u001b[0m df_test\u001b[39m.\u001b[39msequences\u001b[39m.\u001b[39mduplicated()\u001b[39m.\u001b[39msum()\n",
      "\u001b[0;31mNameError\u001b[0m: name 'df_train' is not defined"
     ]
    }
   ],
   "source": [
    "df_train.sequences.duplicated().sum()\n",
    "df_test.sequences.duplicated().sum()"
   ]
  },
  {
   "cell_type": "code",
   "execution_count": null,
   "metadata": {},
   "outputs": [],
   "source": []
  }
 ],
 "metadata": {
  "kernelspec": {
   "display_name": "Python 3.8.13 ('mle-course')",
   "language": "python",
   "name": "python3"
  },
  "language_info": {
   "codemirror_mode": {
    "name": "ipython",
    "version": 3
   },
   "file_extension": ".py",
   "mimetype": "text/x-python",
   "name": "python",
   "nbconvert_exporter": "python",
   "pygments_lexer": "ipython3",
   "version": "3.8.13"
  },
  "orig_nbformat": 4,
  "vscode": {
   "interpreter": {
    "hash": "227e226d2f65f05b8b2318de3eba0105a0c14a31aac345a5e995edf88d8cbb66"
   }
  }
 },
 "nbformat": 4,
 "nbformat_minor": 2
}
