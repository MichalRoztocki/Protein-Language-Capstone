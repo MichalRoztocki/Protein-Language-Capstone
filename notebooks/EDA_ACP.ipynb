{
 "cells": [
  {
   "cell_type": "markdown",
   "metadata": {},
   "source": [
    "## Exploratory Data Analysis - Anti Cancer Peptides"
   ]
  },
  {
   "cell_type": "code",
   "execution_count": 155,
   "metadata": {},
   "outputs": [],
   "source": [
    "import pandas as pd\n",
    "import matplotlib.pyplot as plt\n",
    "import seaborn as sns\n",
    "import Bio\n",
    "from Bio.SeqUtils.ProtParam import ProteinAnalysis\n",
    "from scipy.stats import pearsonr\n",
    "\n",
    "%matplotlib inline"
   ]
  },
  {
   "cell_type": "markdown",
   "metadata": {},
   "source": [
    "Allow multiple outputs from each cell."
   ]
  },
  {
   "cell_type": "code",
   "execution_count": 85,
   "metadata": {},
   "outputs": [],
   "source": [
    "from IPython.core.interactiveshell import InteractiveShell\n",
    "InteractiveShell.ast_node_interactivity = \"all\""
   ]
  },
  {
   "cell_type": "markdown",
   "metadata": {},
   "source": [
    "Load in train and test datasets."
   ]
  },
  {
   "cell_type": "code",
   "execution_count": 86,
   "metadata": {},
   "outputs": [
    {
     "name": "stdout",
     "output_type": "stream",
     "text": [
      "Train dataset shape: (1378, 2)\n",
      "Test dataset shape: (344, 2)\n",
      "Train-test split: 80% Train, 20% Test\n"
     ]
    }
   ],
   "source": [
    "df_train = pd.read_csv(\"../data/acp/train_data.csv\")\n",
    "df_test = pd.read_csv(\"../data/acp/test_data.csv\")\n",
    "\n",
    "print(f\"Train dataset shape: {df_train.shape}\")\n",
    "print(f\"Test dataset shape: {df_test.shape}\")\n",
    "\n",
    "train_per = round(100*(df_train.shape[0]/(df_train.shape[0]+df_test.shape[0])))\n",
    "print(f\"Train-test split: {train_per}% Train, {100-train_per}% Test\")"
   ]
  },
  {
   "cell_type": "markdown",
   "metadata": {},
   "source": [
    "Take a look at the format of the data."
   ]
  },
  {
   "cell_type": "code",
   "execution_count": 87,
   "metadata": {},
   "outputs": [
    {
     "data": {
      "text/html": [
       "<div>\n",
       "<style scoped>\n",
       "    .dataframe tbody tr th:only-of-type {\n",
       "        vertical-align: middle;\n",
       "    }\n",
       "\n",
       "    .dataframe tbody tr th {\n",
       "        vertical-align: top;\n",
       "    }\n",
       "\n",
       "    .dataframe thead th {\n",
       "        text-align: right;\n",
       "    }\n",
       "</style>\n",
       "<table border=\"1\" class=\"dataframe\">\n",
       "  <thead>\n",
       "    <tr style=\"text-align: right;\">\n",
       "      <th></th>\n",
       "      <th>sequences</th>\n",
       "      <th>label</th>\n",
       "    </tr>\n",
       "  </thead>\n",
       "  <tbody>\n",
       "    <tr>\n",
       "      <th>0</th>\n",
       "      <td>RRWWRRWRRW</td>\n",
       "      <td>0</td>\n",
       "    </tr>\n",
       "    <tr>\n",
       "      <th>1</th>\n",
       "      <td>GWKSVFRKAKKVGKTVGGLALDHYLG</td>\n",
       "      <td>0</td>\n",
       "    </tr>\n",
       "    <tr>\n",
       "      <th>2</th>\n",
       "      <td>ALWKTMLKKLGTMALHAGKAALGAAADTISQGTQ</td>\n",
       "      <td>1</td>\n",
       "    </tr>\n",
       "    <tr>\n",
       "      <th>3</th>\n",
       "      <td>GLFDVIKKVAAVIGGL</td>\n",
       "      <td>1</td>\n",
       "    </tr>\n",
       "    <tr>\n",
       "      <th>4</th>\n",
       "      <td>VAKLLAKLAKKVL</td>\n",
       "      <td>1</td>\n",
       "    </tr>\n",
       "  </tbody>\n",
       "</table>\n",
       "</div>"
      ],
      "text/plain": [
       "                            sequences  label\n",
       "0                          RRWWRRWRRW      0\n",
       "1          GWKSVFRKAKKVGKTVGGLALDHYLG      0\n",
       "2  ALWKTMLKKLGTMALHAGKAALGAAADTISQGTQ      1\n",
       "3                    GLFDVIKKVAAVIGGL      1\n",
       "4                       VAKLLAKLAKKVL      1"
      ]
     },
     "execution_count": 87,
     "metadata": {},
     "output_type": "execute_result"
    },
    {
     "data": {
      "text/plain": [
       "sequences    object\n",
       "label         int64\n",
       "dtype: object"
      ]
     },
     "execution_count": 87,
     "metadata": {},
     "output_type": "execute_result"
    },
    {
     "name": "stdout",
     "output_type": "stream",
     "text": [
      "Unique values of label: [0 1]\n"
     ]
    }
   ],
   "source": [
    "df_train.head()\n",
    "df_train.dtypes\n",
    "print(f\"Unique values of label: {df_train.label.unique()}\")"
   ]
  },
  {
   "cell_type": "markdown",
   "metadata": {},
   "source": [
    "Check for distribution of classes to identify potential imbalances."
   ]
  },
  {
   "cell_type": "code",
   "execution_count": 88,
   "metadata": {},
   "outputs": [
    {
     "data": {
      "text/plain": [
       "0    689\n",
       "1    689\n",
       "Name: label, dtype: int64"
      ]
     },
     "execution_count": 88,
     "metadata": {},
     "output_type": "execute_result"
    },
    {
     "data": {
      "text/plain": [
       "0    172\n",
       "1    172\n",
       "Name: label, dtype: int64"
      ]
     },
     "execution_count": 88,
     "metadata": {},
     "output_type": "execute_result"
    },
    {
     "name": "stdout",
     "output_type": "stream",
     "text": [
      "Both train and test datasets are perfectly balanced between the positive and negative class\n"
     ]
    }
   ],
   "source": [
    "df_train.label.value_counts()\n",
    "df_test.label.value_counts()\n",
    "print(\"Both train and test datasets are perfectly balanced between the positive and negative class\")"
   ]
  },
  {
   "cell_type": "markdown",
   "metadata": {},
   "source": [
    "### Sequence Sizes"
   ]
  },
  {
   "cell_type": "markdown",
   "metadata": {},
   "source": [
    "Visualizing the distribution of the lengths of sequences in each dataset."
   ]
  },
  {
   "cell_type": "code",
   "execution_count": 89,
   "metadata": {},
   "outputs": [
    {
     "data": {
      "image/png": "[encoded data removed]",
      "text/plain": [
       "<Figure size 432x288 with 1 Axes>"
      ]
     },
     "metadata": {
      "needs_background": "light"
     },
     "output_type": "display_data"
    }
   ],
   "source": [
    "sns.histplot(df_train.sequences.str.len(), bins=20, kde=True);\n",
    "plt.xlabel(\"Sequence Size\");\n",
    "plt.title('Distribution of Sequence Sizes in the Train dataset');"
   ]
  },
  {
   "cell_type": "code",
   "execution_count": 90,
   "metadata": {},
   "outputs": [
    {
     "data": {
      "image/png": "[encoded data removed]",
      "text/plain": [
       "<Figure size 432x288 with 1 Axes>"
      ]
     },
     "metadata": {
      "needs_background": "light"
     },
     "output_type": "display_data"
    }
   ],
   "source": [
    "sns.histplot(df_test.sequences.str.len(), bins=20, kde=True);\n",
    "plt.xlabel(\"Sequence Size\");\n",
    "plt.title('Distribution of Sequence Sizes in the Test dataset');"
   ]
  },
  {
   "cell_type": "code",
   "execution_count": 91,
   "metadata": {},
   "outputs": [
    {
     "name": "stdout",
     "output_type": "stream",
     "text": [
      "Train dataset - mean of sequence sizes: 23.826560232220608\n",
      "Test dataset - mean of sequence sizes: 23.75872093023256\n",
      "Train dataset - smallest sequence size: 3\n",
      "Test dataset - smallest sequence size: 2\n",
      "Train dataset - largest sequence size: 50\n",
      "Test dataset - largest sequence size: 50\n"
     ]
    }
   ],
   "source": [
    "train_seq_sizes = df_train.sequences.str.len()\n",
    "test_seq_sizes = df_test.sequences.str.len()\n",
    "\n",
    "print(f\"Train dataset - mean of sequence sizes: {train_seq_sizes.mean()}\")\n",
    "print(f\"Test dataset - mean of sequence sizes: {test_seq_sizes.mean()}\")\n",
    "\n",
    "print(f\"Train dataset - smallest sequence size: {train_seq_sizes.min()}\")\n",
    "print(f\"Test dataset - smallest sequence size: {test_seq_sizes.min()}\")\n",
    "\n",
    "print(f\"Train dataset - largest sequence size: {train_seq_sizes.max()}\")\n",
    "print(f\"Test dataset - largest sequence size: {test_seq_sizes.max()}\")"
   ]
  },
  {
   "cell_type": "markdown",
   "metadata": {},
   "source": [
    "### Checking for Duplicates"
   ]
  },
  {
   "cell_type": "markdown",
   "metadata": {},
   "source": [
    "Making sure there are no duplicate proteins."
   ]
  },
  {
   "cell_type": "code",
   "execution_count": 93,
   "metadata": {},
   "outputs": [
    {
     "data": {
      "text/plain": [
       "0"
      ]
     },
     "execution_count": 93,
     "metadata": {},
     "output_type": "execute_result"
    },
    {
     "data": {
      "text/plain": [
       "0"
      ]
     },
     "execution_count": 93,
     "metadata": {},
     "output_type": "execute_result"
    }
   ],
   "source": [
    "df_train.sequences.duplicated().sum()\n",
    "df_test.sequences.duplicated().sum()"
   ]
  },
  {
   "cell_type": "markdown",
   "metadata": {},
   "source": [
    "## Feature Engineering - Protein Features"
   ]
  },
  {
   "cell_type": "code",
   "execution_count": 139,
   "metadata": {},
   "outputs": [],
   "source": [
    "def add_protein_features(df: pd.DataFrame) -> pd.DataFrame:\n",
    "    df = df.copy()\n",
    "    \n",
    "    # Make protein analysis object for each sequence\n",
    "    df[\"protein_analysis\"] = df[\"sequences\"].map(ProteinAnalysis)\n",
    "\n",
    "    # Extract protein features from analysis object column\n",
    "    df[\"amino_acid_count\"] = df[\"protein_analysis\"].apply(lambda x: x.count_amino_acids())\n",
    "    df[\"amino_acid_percent\"] = df[\"protein_analysis\"].apply(lambda x: x.get_amino_acids_percent())\n",
    "    df[\"molecular_weight\"] = df[\"protein_analysis\"].apply(lambda x: x.molecular_weight())\n",
    "    df[\"aromaticity\"] = df[\"protein_analysis\"].apply(lambda x: x.aromaticity())\n",
    "    df[\"instability_index\"] = df[\"protein_analysis\"].apply(lambda x: x.instability_index())\n",
    "    df[\"flexibility\"] = df[\"protein_analysis\"].apply(lambda x: x.flexibility())\n",
    "    df[\"gravy\"] = df[\"protein_analysis\"].apply(lambda x: x.gravy())\n",
    "    df[\"isoelectric_point\"] = df[\"protein_analysis\"].apply(lambda x: x.isoelectric_point())\n",
    "    df[\"charge_at_pH\"] = df[\"protein_analysis\"].apply(lambda x: x.charge_at_pH(7.4)) # average pH in body\n",
    "    df[\"secondary_structure_fraction\"] = df[\"protein_analysis\"].apply(lambda x: x.secondary_structure_fraction())\n",
    "    df[\"molar_extinction_coefficient\"] = df[\"protein_analysis\"].apply(lambda x: x.molar_extinction_coefficient())\n",
    "    \n",
    "    # Drop protein analysis object column\n",
    "    df = df.drop(\"protein_analysis\", axis=1)\n",
    "\n",
    "    return df"
   ]
  },
  {
   "cell_type": "code",
   "execution_count": 100,
   "metadata": {},
   "outputs": [],
   "source": [
    "# Add protein features as columns\n",
    "df_train = add_protein_features(df_train)\n",
    "df_test = add_protein_features(df_test)"
   ]
  },
  {
   "cell_type": "code",
   "execution_count": 105,
   "metadata": {},
   "outputs": [
    {
     "data": {
      "text/html": [
       "<div>\n",
       "<style scoped>\n",
       "    .dataframe tbody tr th:only-of-type {\n",
       "        vertical-align: middle;\n",
       "    }\n",
       "\n",
       "    .dataframe tbody tr th {\n",
       "        vertical-align: top;\n",
       "    }\n",
       "\n",
       "    .dataframe thead th {\n",
       "        text-align: right;\n",
       "    }\n",
       "</style>\n",
       "<table border=\"1\" class=\"dataframe\">\n",
       "  <thead>\n",
       "    <tr style=\"text-align: right;\">\n",
       "      <th></th>\n",
       "      <th>sequences</th>\n",
       "      <th>label</th>\n",
       "      <th>amino_acid_count</th>\n",
       "      <th>amino_acid_percent</th>\n",
       "      <th>molecular_weight</th>\n",
       "      <th>aromaticity</th>\n",
       "      <th>instability_index</th>\n",
       "      <th>flexibility</th>\n",
       "      <th>gravy</th>\n",
       "      <th>isoelectric_point</th>\n",
       "      <th>charge_at_pH</th>\n",
       "      <th>secondary_structure_fraction</th>\n",
       "      <th>molar_extinction_coefficient</th>\n",
       "    </tr>\n",
       "  </thead>\n",
       "  <tbody>\n",
       "    <tr>\n",
       "      <th>0</th>\n",
       "      <td>RRWWRRWRRW</td>\n",
       "      <td>0</td>\n",
       "      <td>{'A': 0, 'C': 0, 'D': 0, 'E': 0, 'F': 0, 'G': ...</td>\n",
       "      <td>{'A': 0.0, 'C': 0.0, 'D': 0.0, 'E': 0.0, 'F': ...</td>\n",
       "      <td>1699.9691</td>\n",
       "      <td>0.400000</td>\n",
       "      <td>352.680000</td>\n",
       "      <td>[0.9671428571428571]</td>\n",
       "      <td>-3.060000</td>\n",
       "      <td>11.999968</td>\n",
       "      <td>5.557302</td>\n",
       "      <td>(0.4, 0.0, 0.0)</td>\n",
       "      <td>(22000, 22000)</td>\n",
       "    </tr>\n",
       "    <tr>\n",
       "      <th>1</th>\n",
       "      <td>GWKSVFRKAKKVGKTVGGLALDHYLG</td>\n",
       "      <td>0</td>\n",
       "      <td>{'A': 2, 'C': 0, 'D': 1, 'E': 0, 'F': 1, 'G': ...</td>\n",
       "      <td>{'A': 0.07692307692307693, 'C': 0.0, 'D': 0.03...</td>\n",
       "      <td>2816.3054</td>\n",
       "      <td>0.115385</td>\n",
       "      <td>22.946154</td>\n",
       "      <td>[0.9920833333333332, 1.017154761904762, 1.0339...</td>\n",
       "      <td>-0.230769</td>\n",
       "      <td>10.295295</td>\n",
       "      <td>4.579467</td>\n",
       "      <td>(0.34615384615384615, 0.23076923076923078, 0.1...</td>\n",
       "      <td>(6990, 6990)</td>\n",
       "    </tr>\n",
       "    <tr>\n",
       "      <th>2</th>\n",
       "      <td>ALWKTMLKKLGTMALHAGKAALGAAADTISQGTQ</td>\n",
       "      <td>1</td>\n",
       "      <td>{'A': 8, 'C': 0, 'D': 1, 'E': 0, 'F': 0, 'G': ...</td>\n",
       "      <td>{'A': 0.23529411764705882, 'C': 0.0, 'D': 0.02...</td>\n",
       "      <td>3455.0584</td>\n",
       "      <td>0.029412</td>\n",
       "      <td>1.847059</td>\n",
       "      <td>[0.9872261904761905, 0.9956904761904762, 1.039...</td>\n",
       "      <td>0.185294</td>\n",
       "      <td>10.001706</td>\n",
       "      <td>2.634853</td>\n",
       "      <td>(0.20588235294117646, 0.14705882352941177, 0.4...</td>\n",
       "      <td>(5500, 5500)</td>\n",
       "    </tr>\n",
       "    <tr>\n",
       "      <th>3</th>\n",
       "      <td>GLFDVIKKVAAVIGGL</td>\n",
       "      <td>1</td>\n",
       "      <td>{'A': 2, 'C': 0, 'D': 1, 'E': 0, 'F': 1, 'G': ...</td>\n",
       "      <td>{'A': 0.125, 'C': 0.0, 'D': 0.0625, 'E': 0.0, ...</td>\n",
       "      <td>1599.9542</td>\n",
       "      <td>0.062500</td>\n",
       "      <td>14.187500</td>\n",
       "      <td>[0.9886190476190477, 1.0280833333333335, 1.007...</td>\n",
       "      <td>1.443750</td>\n",
       "      <td>8.590944</td>\n",
       "      <td>0.552888</td>\n",
       "      <td>(0.5, 0.1875, 0.25)</td>\n",
       "      <td>(0, 0)</td>\n",
       "    </tr>\n",
       "    <tr>\n",
       "      <th>4</th>\n",
       "      <td>VAKLLAKLAKKVL</td>\n",
       "      <td>1</td>\n",
       "      <td>{'A': 3, 'C': 0, 'D': 0, 'E': 0, 'F': 0, 'G': ...</td>\n",
       "      <td>{'A': 0.23076923076923078, 'C': 0.0, 'D': 0.0,...</td>\n",
       "      <td>1394.8306</td>\n",
       "      <td>0.000000</td>\n",
       "      <td>-10.361538</td>\n",
       "      <td>[0.9979047619047619, 1.0209404761904763, 0.978...</td>\n",
       "      <td>1.030769</td>\n",
       "      <td>10.477676</td>\n",
       "      <td>3.513128</td>\n",
       "      <td>(0.46153846153846156, 0.0, 0.5384615384615385)</td>\n",
       "      <td>(0, 0)</td>\n",
       "    </tr>\n",
       "  </tbody>\n",
       "</table>\n",
       "</div>"
      ],
      "text/plain": [
       "                            sequences  label  \\\n",
       "0                          RRWWRRWRRW      0   \n",
       "1          GWKSVFRKAKKVGKTVGGLALDHYLG      0   \n",
       "2  ALWKTMLKKLGTMALHAGKAALGAAADTISQGTQ      1   \n",
       "3                    GLFDVIKKVAAVIGGL      1   \n",
       "4                       VAKLLAKLAKKVL      1   \n",
       "\n",
       "                                    amino_acid_count  \\\n",
       "0  {'A': 0, 'C': 0, 'D': 0, 'E': 0, 'F': 0, 'G': ...   \n",
       "1  {'A': 2, 'C': 0, 'D': 1, 'E': 0, 'F': 1, 'G': ...   \n",
       "2  {'A': 8, 'C': 0, 'D': 1, 'E': 0, 'F': 0, 'G': ...   \n",
       "3  {'A': 2, 'C': 0, 'D': 1, 'E': 0, 'F': 1, 'G': ...   \n",
       "4  {'A': 3, 'C': 0, 'D': 0, 'E': 0, 'F': 0, 'G': ...   \n",
       "\n",
       "                                  amino_acid_percent  molecular_weight  \\\n",
       "0  {'A': 0.0, 'C': 0.0, 'D': 0.0, 'E': 0.0, 'F': ...         1699.9691   \n",
       "1  {'A': 0.07692307692307693, 'C': 0.0, 'D': 0.03...         2816.3054   \n",
       "2  {'A': 0.23529411764705882, 'C': 0.0, 'D': 0.02...         3455.0584   \n",
       "3  {'A': 0.125, 'C': 0.0, 'D': 0.0625, 'E': 0.0, ...         1599.9542   \n",
       "4  {'A': 0.23076923076923078, 'C': 0.0, 'D': 0.0,...         1394.8306   \n",
       "\n",
       "   aromaticity  instability_index  \\\n",
       "0     0.400000         352.680000   \n",
       "1     0.115385          22.946154   \n",
       "2     0.029412           1.847059   \n",
       "3     0.062500          14.187500   \n",
       "4     0.000000         -10.361538   \n",
       "\n",
       "                                         flexibility     gravy  \\\n",
       "0                               [0.9671428571428571] -3.060000   \n",
       "1  [0.9920833333333332, 1.017154761904762, 1.0339... -0.230769   \n",
       "2  [0.9872261904761905, 0.9956904761904762, 1.039...  0.185294   \n",
       "3  [0.9886190476190477, 1.0280833333333335, 1.007...  1.443750   \n",
       "4  [0.9979047619047619, 1.0209404761904763, 0.978...  1.030769   \n",
       "\n",
       "   isoelectric_point  charge_at_pH  \\\n",
       "0          11.999968      5.557302   \n",
       "1          10.295295      4.579467   \n",
       "2          10.001706      2.634853   \n",
       "3           8.590944      0.552888   \n",
       "4          10.477676      3.513128   \n",
       "\n",
       "                        secondary_structure_fraction  \\\n",
       "0                                    (0.4, 0.0, 0.0)   \n",
       "1  (0.34615384615384615, 0.23076923076923078, 0.1...   \n",
       "2  (0.20588235294117646, 0.14705882352941177, 0.4...   \n",
       "3                                (0.5, 0.1875, 0.25)   \n",
       "4     (0.46153846153846156, 0.0, 0.5384615384615385)   \n",
       "\n",
       "  molar_extinction_coefficient  \n",
       "0               (22000, 22000)  \n",
       "1                 (6990, 6990)  \n",
       "2                 (5500, 5500)  \n",
       "3                       (0, 0)  \n",
       "4                       (0, 0)  "
      ]
     },
     "execution_count": 105,
     "metadata": {},
     "output_type": "execute_result"
    }
   ],
   "source": [
    "df_train.head()"
   ]
  },
  {
   "cell_type": "code",
   "execution_count": 110,
   "metadata": {},
   "outputs": [
    {
     "data": {
      "text/plain": [
       "sequences                        object\n",
       "label                             int64\n",
       "amino_acid_count                 object\n",
       "amino_acid_percent               object\n",
       "molecular_weight                float64\n",
       "aromaticity                     float64\n",
       "instability_index               float64\n",
       "flexibility                      object\n",
       "gravy                           float64\n",
       "isoelectric_point               float64\n",
       "charge_at_pH                    float64\n",
       "secondary_structure_fraction     object\n",
       "molar_extinction_coefficient     object\n",
       "dtype: object"
      ]
     },
     "execution_count": 110,
     "metadata": {},
     "output_type": "execute_result"
    }
   ],
   "source": [
    "df_train.dtypes"
   ]
  },
  {
   "cell_type": "markdown",
   "metadata": {},
   "source": [
    "### Amino Acid Frequencies/Composition"
   ]
  },
  {
   "cell_type": "markdown",
   "metadata": {},
   "source": [
    "Confirm that 20 amino acids are present in our sequences."
   ]
  },
  {
   "cell_type": "code",
   "execution_count": 102,
   "metadata": {},
   "outputs": [
    {
     "name": "stdout",
     "output_type": "stream",
     "text": [
      "{'Y', 'C', 'H', 'N', 'V', 'L', 'R', 'D', 'Q', 'I', 'S', 'T', 'A', 'G', 'E', 'K', 'P', 'M', 'F', 'W'}\n",
      "20\n"
     ]
    }
   ],
   "source": [
    "amino_acids = set()\n",
    "for protein in df_train.sequences:\n",
    "    for acid in protein:\n",
    "        amino_acids.add(acid)\n",
    "print(amino_acids)\n",
    "print(len(amino_acids))"
   ]
  },
  {
   "cell_type": "markdown",
   "metadata": {},
   "source": [
    "Function to get average amino acid content in a series of sequences"
   ]
  },
  {
   "cell_type": "code",
   "execution_count": 141,
   "metadata": {},
   "outputs": [],
   "source": [
    "def get_avg_amino_acid_count(df: pd.DataFrame, amino_acids: set or list) -> dict:\n",
    "    # Initialize amino acid dict for all sequences\n",
    "    am_acid_dict = dict.fromkeys(amino_acids, 0)\n",
    "\n",
    "    for am_dict in df.amino_acid_count:\n",
    "        for key in am_dict.keys():\n",
    "            # If amino acid present in sequence\n",
    "            if am_dict[key] != 0:\n",
    "                am_acid_dict[key] = am_acid_dict.get(key) + am_dict[key]\n",
    "\n",
    "    for key in am_acid_dict.keys():\n",
    "        am_acid_dict[key] = am_acid_dict.get(key)/len(df_train)\n",
    "\n",
    "    return am_acid_dict"
   ]
  },
  {
   "cell_type": "code",
   "execution_count": 142,
   "metadata": {},
   "outputs": [],
   "source": [
    "acp_avg_acids = get_avg_amino_acid_count(df_train[df_train.sequences==1], amino_acids)\n",
    "non_acp_avg_acids = get_avg_amino_acid_count(df_train[df_train.sequences==0], amino_acids)"
   ]
  },
  {
   "cell_type": "code",
   "execution_count": 149,
   "metadata": {},
   "outputs": [
    {
     "data": {
      "text/plain": [
       "<AxesSubplot:>"
      ]
     },
     "execution_count": 149,
     "metadata": {},
     "output_type": "execute_result"
    },
    {
     "data": {
      "image/png": "[encoded data removed]",
      "text/plain": [
       "<Figure size 432x288 with 1 Axes>"
      ]
     },
     "metadata": {
      "needs_background": "light"
     },
     "output_type": "display_data"
    }
   ],
   "source": [
    "sns.barplot(x = sorted(acp_avg_acids.keys()), y = [acp_avg_acids.get(key) for key in sorted(acp_avg_acids.keys())])"
   ]
  },
  {
   "cell_type": "code",
   "execution_count": 150,
   "metadata": {},
   "outputs": [
    {
     "data": {
      "text/plain": [
       "<AxesSubplot:>"
      ]
     },
     "execution_count": 150,
     "metadata": {},
     "output_type": "execute_result"
    },
    {
     "data": {
      "image/png": "[encoded data removed]",
      "text/plain": [
       "<Figure size 432x288 with 1 Axes>"
      ]
     },
     "metadata": {
      "needs_background": "light"
     },
     "output_type": "display_data"
    }
   ],
   "source": [
    "sns.barplot(x = sorted(non_acp_avg_acids.keys()), y = [non_acp_avg_acids.get(key) for key in sorted(non_acp_avg_acids.keys())])"
   ]
  },
  {
   "cell_type": "code",
   "execution_count": 154,
   "metadata": {},
   "outputs": [
    {
     "data": {
      "text/plain": [
       "1.0"
      ]
     },
     "execution_count": 154,
     "metadata": {},
     "output_type": "execute_result"
    }
   ],
   "source": [
    "pearsonr([acp_avg_acids.get(key) for key in sorted(acp_avg_acids.keys())],\n",
    "            [non_acp_avg_acids.get(key) for key in sorted(non_acp_avg_acids.keys())])[0]"
   ]
  },
  {
   "cell_type": "markdown",
   "metadata": {},
   "source": [
    "As seen in both the barplots of and correlation between the amino acid average counts of acp and non-acp proteins, there is no virtually no difference between the two, so this feature has zero predictive power for classifying ACPs and non-ACPs."
   ]
  },
  {
   "cell_type": "markdown",
   "metadata": {},
   "source": [
    "Function to get average percentage of amino acid for each sequence"
   ]
  },
  {
   "cell_type": "code",
   "execution_count": null,
   "metadata": {},
   "outputs": [],
   "source": [
    "def get_avg_amino_acid_percent(df: pd.DataFrame, amino_acids: set or list) -> dict:\n",
    "    # Initialize amino acid dict for all sequences\n",
    "    am_acid_dict = dict.fromkeys(amino_acids, 0)\n",
    "\n",
    "    for am_dict in df.amino_acid_count:\n",
    "        for key in am_dict.keys():\n",
    "            # If amino acid present in sequence\n",
    "            if am_dict[key] != 0:\n",
    "                am_acid_dict[key] = am_acid_dict.get(key) + am_dict[key]\n",
    "\n",
    "    for key in am_acid_dict.keys():\n",
    "        am_acid_dict[key] = am_acid_dict.get(key)/len(df_train)\n",
    "\n",
    "    return am_acid_dict"
   ]
  },
  {
   "cell_type": "code",
   "execution_count": null,
   "metadata": {},
   "outputs": [],
   "source": [
    "acp_avg_acids_percent = get_avg_amino_acid_percent(df_train[df_train.sequences==1], amino_acids)\n",
    "non_acp_avg_acids_percentt = get_avg_amino_acid_percent(df_train[df_train.sequences==0], amino_acids)"
   ]
  },
  {
   "cell_type": "code",
   "execution_count": null,
   "metadata": {},
   "outputs": [],
   "source": [
    "import Bio\n",
    "from Bio import pairwise2\n",
    "from Bio.pairwise2 import format_alignment"
   ]
  },
  {
   "cell_type": "code",
   "execution_count": null,
   "metadata": {},
   "outputs": [],
   "source": [
    "alignments = pairwise2.align.globalxx(df_train.sort_values(by=\"sequences\").sequences[0], df_train.sort_values(by=\"sequences\").sequences[1])\n",
    "print(format_alignment(*alignments[0]))"
   ]
  },
  {
   "cell_type": "code",
   "execution_count": null,
   "metadata": {},
   "outputs": [],
   "source": [
    "# from Bio.Alphabet import generic_dna\n",
    "from Bio.Seq import Seq\n",
    "from Bio.SeqRecord import SeqRecord\n",
    "from Bio.Align import MultipleSeqAlignment"
   ]
  },
  {
   "cell_type": "code",
   "execution_count": null,
   "metadata": {},
   "outputs": [],
   "source": [
    "a = SeqRecord(df_train.sort_values(by=\"sequences\").sequences[0])\n",
    "b = SeqRecord(df_train.sort_values(by=\"sequences\").sequences[1])\n",
    "c = SeqRecord(df_train.sort_values(by=\"sequences\").sequences[2])"
   ]
  },
  {
   "cell_type": "code",
   "execution_count": null,
   "metadata": {},
   "outputs": [],
   "source": [
    "# align = MultipleSeqAlignment([a, b, c],\n",
    "#                              annotations={\"tool\": \"demo\"},\n",
    "#                              column_annotations={\"stats\": \"CCCXCCC\"})"
   ]
  }
 ],
 "metadata": {
  "kernelspec": {
   "display_name": "Python 3.8.13 ('mle-course')",
   "language": "python",
   "name": "python3"
  },
  "language_info": {
   "codemirror_mode": {
    "name": "ipython",
    "version": 3
   },
   "file_extension": ".py",
   "mimetype": "text/x-python",
   "name": "python",
   "nbconvert_exporter": "python",
   "pygments_lexer": "ipython3",
   "version": "3.8.13"
  },
  "orig_nbformat": 4,
  "vscode": {
   "interpreter": {
    "hash": "227e226d2f65f05b8b2318de3eba0105a0c14a31aac345a5e995edf88d8cbb66"
   }
  }
 },
 "nbformat": 4,
 "nbformat_minor": 2
}
