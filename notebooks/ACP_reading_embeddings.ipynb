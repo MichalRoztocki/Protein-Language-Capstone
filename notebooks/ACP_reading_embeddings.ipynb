{
 "cells": [
  {
   "cell_type": "markdown",
   "id": "13c06ca2-0849-44f4-9b3a-e911765d428f",
   "metadata": {
    "tags": []
   },
   "source": [
    "# ACP - Reading Embeddings"
   ]
  },
  {
   "cell_type": "markdown",
   "id": "235a4bb0-7274-4209-b469-b83886fef883",
   "metadata": {},
   "source": [
    "In this notebook we are going to use previously created `.pt` files to extract embeddings together with corresponding sequence ids and our target variables (label).\n",
    "For every combination of pretrained models, pooling operations, our task datasets this wil be the workflow:\n",
    "\n",
    "1. set the arguments\n",
    "2. run `file_paths` function\n",
    "   - it vill set all needed paths according to the arguments\n",
    "3. run `read_embeddings` function\n",
    "   - reads fasta headers from a fasta file\n",
    "   - extracts sequence_id and our target variable ys from the header\n",
    "   - names of `.pt` files are `header[1:]`and the scripts loads the corresponding file\n",
    "   - extracts the embedding vector a an array Xs\n",
    "   - Xs, ys, sequence_id can be now used in machine learning applications\n",
    "4. run `check_with_df` function to check id all is OK\n",
    "   - it uses sequence_id, Xs, ys to create Pandas DataFrame\n",
    "   - displays first 2 and last 2 rows\n",
    "\n",
    "First we read `prose` embeddings and then `esm` embeddings."
   ]
  },
  {
   "cell_type": "markdown",
   "id": "c30771d0-dca8-44fa-bed4-2c2015c6c055",
   "metadata": {},
   "source": [
    "Import file utilities"
   ]
  },
  {
   "cell_type": "code",
   "execution_count": 1,
   "id": "0b5f7d2d-3db3-4d8c-8642-abad59d92ecc",
   "metadata": {
    "execution": {
     "iopub.execute_input": "2022-09-09T15:16:51.922238Z",
     "iopub.status.busy": "2022-09-09T15:16:51.921923Z",
     "iopub.status.idle": "2022-09-09T15:16:54.023511Z",
     "shell.execute_reply": "2022-09-09T15:16:54.022931Z",
     "shell.execute_reply.started": "2022-09-09T15:16:51.922174Z"
    },
    "tags": []
   },
   "outputs": [],
   "source": [
    "# Import the script from different folder\n",
    "import sys  \n",
    "sys.path.append('../scripts')\n",
    "\n",
    "import file_utilities as fu"
   ]
  },
  {
   "cell_type": "markdown",
   "id": "66a3f6d0-2810-44ad-bfa6-cbe8315f73ac",
   "metadata": {},
   "source": [
    "## ProSE embeddings\n"
   ]
  },
  {
   "cell_type": "markdown",
   "id": "7ac43643-eacf-4242-839f-d37a3454663d",
   "metadata": {},
   "source": [
    "Initiaize arguments"
   ]
  },
  {
   "cell_type": "code",
   "execution_count": 2,
   "id": "dc5143bb-c830-4c50-9264-cd3c2895c3d1",
   "metadata": {
    "execution": {
     "iopub.execute_input": "2022-09-09T15:17:24.597624Z",
     "iopub.status.busy": "2022-09-09T15:17:24.597270Z",
     "iopub.status.idle": "2022-09-09T15:17:24.601976Z",
     "shell.execute_reply": "2022-09-09T15:17:24.601080Z",
     "shell.execute_reply.started": "2022-09-09T15:17:24.597603Z"
    },
    "tags": []
   },
   "outputs": [],
   "source": [
    "# Define arguments for the file_paths function\n",
    "task = 'acp'\n",
    "ptmodel = 'prose'\n",
    "file_base = 'train'\n",
    "model = 'prose_dlm'\n",
    "emb_layer = 'layer'\n",
    "pool = 'avg'  \n"
   ]
  },
  {
   "cell_type": "markdown",
   "id": "3ad7620f-6916-4e6d-8bd1-39483047524d",
   "metadata": {},
   "source": [
    "<br>\n",
    "\n",
    "## Train Dataset"
   ]
  },
  {
   "cell_type": "markdown",
   "id": "61e721f2-1a9b-4633-811a-af2a9eb0bb45",
   "metadata": {},
   "source": [
    "### ProSE DLM model - prose_dlm"
   ]
  },
  {
   "cell_type": "markdown",
   "id": "af473383-f776-4eb5-9d48-bf1a4a6e5788",
   "metadata": {
    "tags": []
   },
   "source": [
    "- **Pooling Operation:  `avg`**"
   ]
  },
  {
   "cell_type": "markdown",
   "id": "51661013-6efd-4681-880e-7afad59c2c0d",
   "metadata": {},
   "source": [
    "Run the script `file_paths` to prepare paths. The default root data folder is *../data*."
   ]
  },
  {
   "cell_type": "code",
   "execution_count": 3,
   "id": "74bff221-c802-4b04-ac89-3895e38091bf",
   "metadata": {
    "execution": {
     "iopub.execute_input": "2022-09-09T15:17:33.677649Z",
     "iopub.status.busy": "2022-09-09T15:17:33.677373Z",
     "iopub.status.idle": "2022-09-09T15:17:33.685679Z",
     "shell.execute_reply": "2022-09-09T15:17:33.684930Z",
     "shell.execute_reply.started": "2022-09-09T15:17:33.677629Z"
    },
    "tags": []
   },
   "outputs": [
    {
     "name": "stdout",
     "output_type": "stream",
     "text": [
      " ../data/acp/train_data.fa \n",
      " ../data/acp/prose/train/acp_train_dlm_avg\n"
     ]
    }
   ],
   "source": [
    "# Prepare paths\n",
    "path_pt, _, path_fa = fu.file_paths(ptmodel, task, file_base, model, pool)\n",
    "print('', path_fa, '\\n', path_pt)"
   ]
  },
  {
   "cell_type": "markdown",
   "id": "deef46b5-20d2-402c-ad7e-b6c385853754",
   "metadata": {},
   "source": [
    "Extract embeddings with `read_embedings` function."
   ]
  },
  {
   "cell_type": "code",
   "execution_count": 4,
   "id": "cf7cdb89-f4c2-4da1-a2f8-3690bb8313a3",
   "metadata": {
    "execution": {
     "iopub.execute_input": "2022-09-09T15:17:55.916388Z",
     "iopub.status.busy": "2022-09-09T15:17:55.916107Z",
     "iopub.status.idle": "2022-09-09T15:18:12.162272Z",
     "shell.execute_reply": "2022-09-09T15:18:12.161357Z",
     "shell.execute_reply.started": "2022-09-09T15:17:55.916368Z"
    },
    "tags": []
   },
   "outputs": [
    {
     "name": "stdout",
     "output_type": "stream",
     "text": [
      "Shape of embeddings: \t\t(1378, 6165)\n",
      "Length of target label list:\t1378\n",
      "Length of sequential ids list:\t1378\n"
     ]
    }
   ],
   "source": [
    "Xs, ys, sequence_id = fu.read_embeddings(path_fa, path_pt, pool, emb_layer)"
   ]
  },
  {
   "cell_type": "markdown",
   "id": "620e2b62-a345-47ec-aa16-cb08ea7d3e1d",
   "metadata": {},
   "source": [
    "Check our data with `check_with_df` function."
   ]
  },
  {
   "cell_type": "code",
   "execution_count": 5,
   "id": "fa91b503-f770-42e0-85ea-80043b13a488",
   "metadata": {
    "execution": {
     "iopub.execute_input": "2022-09-09T15:18:33.702956Z",
     "iopub.status.busy": "2022-09-09T15:18:33.702682Z",
     "iopub.status.idle": "2022-09-09T15:18:33.774908Z",
     "shell.execute_reply": "2022-09-09T15:18:33.773967Z",
     "shell.execute_reply.started": "2022-09-09T15:18:33.702936Z"
    },
    "tags": []
   },
   "outputs": [
    {
     "data": {
      "text/html": [
       "<div>\n",
       "<style scoped>\n",
       "    .dataframe tbody tr th:only-of-type {\n",
       "        vertical-align: middle;\n",
       "    }\n",
       "\n",
       "    .dataframe tbody tr th {\n",
       "        vertical-align: top;\n",
       "    }\n",
       "\n",
       "    .dataframe thead th {\n",
       "        text-align: right;\n",
       "    }\n",
       "</style>\n",
       "<table border=\"1\" class=\"dataframe\">\n",
       "  <thead>\n",
       "    <tr style=\"text-align: right;\">\n",
       "      <th></th>\n",
       "      <th>sequence</th>\n",
       "      <th>0</th>\n",
       "      <th>1</th>\n",
       "      <th>2</th>\n",
       "      <th>3</th>\n",
       "      <th>4</th>\n",
       "      <th>5</th>\n",
       "      <th>6</th>\n",
       "      <th>7</th>\n",
       "      <th>8</th>\n",
       "      <th>...</th>\n",
       "      <th>6156</th>\n",
       "      <th>6157</th>\n",
       "      <th>6158</th>\n",
       "      <th>6159</th>\n",
       "      <th>6160</th>\n",
       "      <th>6161</th>\n",
       "      <th>6162</th>\n",
       "      <th>6163</th>\n",
       "      <th>6164</th>\n",
       "      <th>label</th>\n",
       "    </tr>\n",
       "  </thead>\n",
       "  <tbody>\n",
       "    <tr>\n",
       "      <th>0</th>\n",
       "      <td>Protein_seq_0001</td>\n",
       "      <td>0.000000</td>\n",
       "      <td>0.600000</td>\n",
       "      <td>0.0</td>\n",
       "      <td>0.000000</td>\n",
       "      <td>0.000000</td>\n",
       "      <td>0.0</td>\n",
       "      <td>0.0</td>\n",
       "      <td>0.000000</td>\n",
       "      <td>0.000000</td>\n",
       "      <td>...</td>\n",
       "      <td>0.049427</td>\n",
       "      <td>-0.011677</td>\n",
       "      <td>0.035984</td>\n",
       "      <td>-0.001416</td>\n",
       "      <td>-0.109538</td>\n",
       "      <td>0.000317</td>\n",
       "      <td>0.083599</td>\n",
       "      <td>-0.048907</td>\n",
       "      <td>-0.457161</td>\n",
       "      <td>0</td>\n",
       "    </tr>\n",
       "    <tr>\n",
       "      <th>1</th>\n",
       "      <td>Protein_seq_0002</td>\n",
       "      <td>0.076923</td>\n",
       "      <td>0.038462</td>\n",
       "      <td>0.0</td>\n",
       "      <td>0.038462</td>\n",
       "      <td>0.000000</td>\n",
       "      <td>0.0</td>\n",
       "      <td>0.0</td>\n",
       "      <td>0.192308</td>\n",
       "      <td>0.038462</td>\n",
       "      <td>...</td>\n",
       "      <td>0.004739</td>\n",
       "      <td>-0.007626</td>\n",
       "      <td>0.041614</td>\n",
       "      <td>0.027862</td>\n",
       "      <td>-0.099025</td>\n",
       "      <td>0.005362</td>\n",
       "      <td>-0.076701</td>\n",
       "      <td>-0.053982</td>\n",
       "      <td>0.004785</td>\n",
       "      <td>0</td>\n",
       "    </tr>\n",
       "    <tr>\n",
       "      <th>...</th>\n",
       "      <td>...</td>\n",
       "      <td>...</td>\n",
       "      <td>...</td>\n",
       "      <td>...</td>\n",
       "      <td>...</td>\n",
       "      <td>...</td>\n",
       "      <td>...</td>\n",
       "      <td>...</td>\n",
       "      <td>...</td>\n",
       "      <td>...</td>\n",
       "      <td>...</td>\n",
       "      <td>...</td>\n",
       "      <td>...</td>\n",
       "      <td>...</td>\n",
       "      <td>...</td>\n",
       "      <td>...</td>\n",
       "      <td>...</td>\n",
       "      <td>...</td>\n",
       "      <td>...</td>\n",
       "      <td>...</td>\n",
       "      <td>...</td>\n",
       "    </tr>\n",
       "    <tr>\n",
       "      <th>1376</th>\n",
       "      <td>Protein_seq_1377</td>\n",
       "      <td>0.153846</td>\n",
       "      <td>0.000000</td>\n",
       "      <td>0.0</td>\n",
       "      <td>0.000000</td>\n",
       "      <td>0.000000</td>\n",
       "      <td>0.0</td>\n",
       "      <td>0.0</td>\n",
       "      <td>0.076923</td>\n",
       "      <td>0.000000</td>\n",
       "      <td>...</td>\n",
       "      <td>0.072595</td>\n",
       "      <td>-0.014353</td>\n",
       "      <td>0.021571</td>\n",
       "      <td>0.004904</td>\n",
       "      <td>-0.086838</td>\n",
       "      <td>0.006352</td>\n",
       "      <td>-0.084948</td>\n",
       "      <td>-0.045534</td>\n",
       "      <td>0.023370</td>\n",
       "      <td>1</td>\n",
       "    </tr>\n",
       "    <tr>\n",
       "      <th>1377</th>\n",
       "      <td>Protein_seq_1378</td>\n",
       "      <td>0.000000</td>\n",
       "      <td>0.333333</td>\n",
       "      <td>0.0</td>\n",
       "      <td>0.000000</td>\n",
       "      <td>0.083333</td>\n",
       "      <td>0.0</td>\n",
       "      <td>0.0</td>\n",
       "      <td>0.000000</td>\n",
       "      <td>0.000000</td>\n",
       "      <td>...</td>\n",
       "      <td>-0.055110</td>\n",
       "      <td>-0.023708</td>\n",
       "      <td>0.021072</td>\n",
       "      <td>-0.004619</td>\n",
       "      <td>-0.132936</td>\n",
       "      <td>0.014448</td>\n",
       "      <td>-0.118819</td>\n",
       "      <td>-0.037327</td>\n",
       "      <td>-0.033501</td>\n",
       "      <td>0</td>\n",
       "    </tr>\n",
       "  </tbody>\n",
       "</table>\n",
       "<p>1378 rows × 6167 columns</p>\n",
       "</div>"
      ],
      "text/plain": [
       "              sequence         0         1    2         3         4    5    6  \\\n",
       "0     Protein_seq_0001  0.000000  0.600000  0.0  0.000000  0.000000  0.0  0.0   \n",
       "1     Protein_seq_0002  0.076923  0.038462  0.0  0.038462  0.000000  0.0  0.0   \n",
       "...                ...       ...       ...  ...       ...       ...  ...  ...   \n",
       "1376  Protein_seq_1377  0.153846  0.000000  0.0  0.000000  0.000000  0.0  0.0   \n",
       "1377  Protein_seq_1378  0.000000  0.333333  0.0  0.000000  0.083333  0.0  0.0   \n",
       "\n",
       "             7         8  ...      6156      6157      6158      6159  \\\n",
       "0     0.000000  0.000000  ...  0.049427 -0.011677  0.035984 -0.001416   \n",
       "1     0.192308  0.038462  ...  0.004739 -0.007626  0.041614  0.027862   \n",
       "...        ...       ...  ...       ...       ...       ...       ...   \n",
       "1376  0.076923  0.000000  ...  0.072595 -0.014353  0.021571  0.004904   \n",
       "1377  0.000000  0.000000  ... -0.055110 -0.023708  0.021072 -0.004619   \n",
       "\n",
       "          6160      6161      6162      6163      6164  label  \n",
       "0    -0.109538  0.000317  0.083599 -0.048907 -0.457161      0  \n",
       "1    -0.099025  0.005362 -0.076701 -0.053982  0.004785      0  \n",
       "...        ...       ...       ...       ...       ...    ...  \n",
       "1376 -0.086838  0.006352 -0.084948 -0.045534  0.023370      1  \n",
       "1377 -0.132936  0.014448 -0.118819 -0.037327 -0.033501      0  \n",
       "\n",
       "[1378 rows x 6167 columns]"
      ]
     },
     "metadata": {},
     "output_type": "display_data"
    }
   ],
   "source": [
    "fu.check_with_df(Xs, ys, sequence_id)"
   ]
  },
  {
   "cell_type": "markdown",
   "id": "63dacd99-aa4c-4006-9b0f-838fe32ccf3e",
   "metadata": {
    "tags": []
   },
   "source": [
    "- **Pooling Operation:  `max`**"
   ]
  },
  {
   "cell_type": "markdown",
   "id": "10b274f6-a1f3-48c7-be39-b348ed0da4d0",
   "metadata": {},
   "source": [
    "Update arguments and prepare paths"
   ]
  },
  {
   "cell_type": "code",
   "execution_count": 6,
   "id": "0a75e4fe-12fe-4bec-8086-7c8993b6b8cc",
   "metadata": {
    "execution": {
     "iopub.execute_input": "2022-09-09T15:23:01.612699Z",
     "iopub.status.busy": "2022-09-09T15:23:01.612437Z",
     "iopub.status.idle": "2022-09-09T15:23:01.620539Z",
     "shell.execute_reply": "2022-09-09T15:23:01.619873Z",
     "shell.execute_reply.started": "2022-09-09T15:23:01.612679Z"
    },
    "tags": []
   },
   "outputs": [
    {
     "name": "stdout",
     "output_type": "stream",
     "text": [
      " ../data/acp/train_data.fa \n",
      " ../data/acp/prose/train/acp_train_dlm_max\n"
     ]
    }
   ],
   "source": [
    "# Update arguments\n",
    "pool = 'max'\n",
    "# Prepare paths\n",
    "path_pt, _, path_fa = fu.file_paths(ptmodel, task, file_base, model, pool)\n",
    "print('', path_fa, '\\n', path_pt)"
   ]
  },
  {
   "cell_type": "markdown",
   "id": "20d5ddc0-c3e2-4bf8-8172-cc6bbf375647",
   "metadata": {},
   "source": [
    "Extract embeddings with `read_embedings` function."
   ]
  },
  {
   "cell_type": "code",
   "execution_count": 7,
   "id": "84dcd52a-ae28-4942-86f6-6f3dde10dae5",
   "metadata": {
    "execution": {
     "iopub.execute_input": "2022-09-09T15:23:18.281810Z",
     "iopub.status.busy": "2022-09-09T15:23:18.281496Z",
     "iopub.status.idle": "2022-09-09T15:23:33.393485Z",
     "shell.execute_reply": "2022-09-09T15:23:33.392639Z",
     "shell.execute_reply.started": "2022-09-09T15:23:18.281790Z"
    },
    "tags": []
   },
   "outputs": [
    {
     "name": "stdout",
     "output_type": "stream",
     "text": [
      "Shape of embeddings: \t\t(1378, 6165)\n",
      "Length of target label list:\t1378\n",
      "Length of sequential ids list:\t1378\n"
     ]
    }
   ],
   "source": [
    "Xs, ys, sequence_id = fu.read_embeddings(path_fa, path_pt, pool, emb_layer)"
   ]
  },
  {
   "cell_type": "markdown",
   "id": "09439d28-0104-449f-b9e2-5cda1a49a117",
   "metadata": {},
   "source": [
    "Check our data with `check_with_df` function."
   ]
  },
  {
   "cell_type": "code",
   "execution_count": 8,
   "id": "adf53db5-c3a3-41aa-b912-17969ac32de7",
   "metadata": {
    "execution": {
     "iopub.execute_input": "2022-09-09T15:23:48.559562Z",
     "iopub.status.busy": "2022-09-09T15:23:48.559292Z",
     "iopub.status.idle": "2022-09-09T15:23:48.616667Z",
     "shell.execute_reply": "2022-09-09T15:23:48.615719Z",
     "shell.execute_reply.started": "2022-09-09T15:23:48.559542Z"
    },
    "tags": []
   },
   "outputs": [
    {
     "data": {
      "text/html": [
       "<div>\n",
       "<style scoped>\n",
       "    .dataframe tbody tr th:only-of-type {\n",
       "        vertical-align: middle;\n",
       "    }\n",
       "\n",
       "    .dataframe tbody tr th {\n",
       "        vertical-align: top;\n",
       "    }\n",
       "\n",
       "    .dataframe thead th {\n",
       "        text-align: right;\n",
       "    }\n",
       "</style>\n",
       "<table border=\"1\" class=\"dataframe\">\n",
       "  <thead>\n",
       "    <tr style=\"text-align: right;\">\n",
       "      <th></th>\n",
       "      <th>sequence</th>\n",
       "      <th>0</th>\n",
       "      <th>1</th>\n",
       "      <th>2</th>\n",
       "      <th>3</th>\n",
       "      <th>4</th>\n",
       "      <th>5</th>\n",
       "      <th>6</th>\n",
       "      <th>7</th>\n",
       "      <th>8</th>\n",
       "      <th>...</th>\n",
       "      <th>6156</th>\n",
       "      <th>6157</th>\n",
       "      <th>6158</th>\n",
       "      <th>6159</th>\n",
       "      <th>6160</th>\n",
       "      <th>6161</th>\n",
       "      <th>6162</th>\n",
       "      <th>6163</th>\n",
       "      <th>6164</th>\n",
       "      <th>label</th>\n",
       "    </tr>\n",
       "  </thead>\n",
       "  <tbody>\n",
       "    <tr>\n",
       "      <th>0</th>\n",
       "      <td>Protein_seq_0001</td>\n",
       "      <td>0.0</td>\n",
       "      <td>1.0</td>\n",
       "      <td>0.0</td>\n",
       "      <td>0.0</td>\n",
       "      <td>0.0</td>\n",
       "      <td>0.0</td>\n",
       "      <td>0.0</td>\n",
       "      <td>0.0</td>\n",
       "      <td>0.0</td>\n",
       "      <td>...</td>\n",
       "      <td>0.098071</td>\n",
       "      <td>-0.004856</td>\n",
       "      <td>0.205549</td>\n",
       "      <td>0.016927</td>\n",
       "      <td>-0.032756</td>\n",
       "      <td>0.004301</td>\n",
       "      <td>0.154252</td>\n",
       "      <td>-0.027492</td>\n",
       "      <td>-0.159978</td>\n",
       "      <td>0</td>\n",
       "    </tr>\n",
       "    <tr>\n",
       "      <th>1</th>\n",
       "      <td>Protein_seq_0002</td>\n",
       "      <td>1.0</td>\n",
       "      <td>1.0</td>\n",
       "      <td>0.0</td>\n",
       "      <td>1.0</td>\n",
       "      <td>0.0</td>\n",
       "      <td>0.0</td>\n",
       "      <td>0.0</td>\n",
       "      <td>1.0</td>\n",
       "      <td>1.0</td>\n",
       "      <td>...</td>\n",
       "      <td>0.105207</td>\n",
       "      <td>0.014237</td>\n",
       "      <td>0.149053</td>\n",
       "      <td>0.089912</td>\n",
       "      <td>0.072833</td>\n",
       "      <td>0.051643</td>\n",
       "      <td>0.004200</td>\n",
       "      <td>-0.014472</td>\n",
       "      <td>0.036598</td>\n",
       "      <td>0</td>\n",
       "    </tr>\n",
       "    <tr>\n",
       "      <th>...</th>\n",
       "      <td>...</td>\n",
       "      <td>...</td>\n",
       "      <td>...</td>\n",
       "      <td>...</td>\n",
       "      <td>...</td>\n",
       "      <td>...</td>\n",
       "      <td>...</td>\n",
       "      <td>...</td>\n",
       "      <td>...</td>\n",
       "      <td>...</td>\n",
       "      <td>...</td>\n",
       "      <td>...</td>\n",
       "      <td>...</td>\n",
       "      <td>...</td>\n",
       "      <td>...</td>\n",
       "      <td>...</td>\n",
       "      <td>...</td>\n",
       "      <td>...</td>\n",
       "      <td>...</td>\n",
       "      <td>...</td>\n",
       "      <td>...</td>\n",
       "    </tr>\n",
       "    <tr>\n",
       "      <th>1376</th>\n",
       "      <td>Protein_seq_1377</td>\n",
       "      <td>1.0</td>\n",
       "      <td>0.0</td>\n",
       "      <td>0.0</td>\n",
       "      <td>0.0</td>\n",
       "      <td>0.0</td>\n",
       "      <td>0.0</td>\n",
       "      <td>0.0</td>\n",
       "      <td>1.0</td>\n",
       "      <td>0.0</td>\n",
       "      <td>...</td>\n",
       "      <td>0.119992</td>\n",
       "      <td>-0.005735</td>\n",
       "      <td>0.077855</td>\n",
       "      <td>0.024257</td>\n",
       "      <td>0.014907</td>\n",
       "      <td>0.014248</td>\n",
       "      <td>-0.009560</td>\n",
       "      <td>-0.012431</td>\n",
       "      <td>0.043095</td>\n",
       "      <td>1</td>\n",
       "    </tr>\n",
       "    <tr>\n",
       "      <th>1377</th>\n",
       "      <td>Protein_seq_1378</td>\n",
       "      <td>0.0</td>\n",
       "      <td>1.0</td>\n",
       "      <td>0.0</td>\n",
       "      <td>0.0</td>\n",
       "      <td>1.0</td>\n",
       "      <td>0.0</td>\n",
       "      <td>0.0</td>\n",
       "      <td>0.0</td>\n",
       "      <td>0.0</td>\n",
       "      <td>...</td>\n",
       "      <td>-0.021431</td>\n",
       "      <td>0.009526</td>\n",
       "      <td>0.109263</td>\n",
       "      <td>0.001237</td>\n",
       "      <td>0.081146</td>\n",
       "      <td>0.025377</td>\n",
       "      <td>-0.019791</td>\n",
       "      <td>-0.020703</td>\n",
       "      <td>0.062248</td>\n",
       "      <td>0</td>\n",
       "    </tr>\n",
       "  </tbody>\n",
       "</table>\n",
       "<p>1378 rows × 6167 columns</p>\n",
       "</div>"
      ],
      "text/plain": [
       "              sequence    0    1    2    3    4    5    6    7    8  ...  \\\n",
       "0     Protein_seq_0001  0.0  1.0  0.0  0.0  0.0  0.0  0.0  0.0  0.0  ...   \n",
       "1     Protein_seq_0002  1.0  1.0  0.0  1.0  0.0  0.0  0.0  1.0  1.0  ...   \n",
       "...                ...  ...  ...  ...  ...  ...  ...  ...  ...  ...  ...   \n",
       "1376  Protein_seq_1377  1.0  0.0  0.0  0.0  0.0  0.0  0.0  1.0  0.0  ...   \n",
       "1377  Protein_seq_1378  0.0  1.0  0.0  0.0  1.0  0.0  0.0  0.0  0.0  ...   \n",
       "\n",
       "          6156      6157      6158      6159      6160      6161      6162  \\\n",
       "0     0.098071 -0.004856  0.205549  0.016927 -0.032756  0.004301  0.154252   \n",
       "1     0.105207  0.014237  0.149053  0.089912  0.072833  0.051643  0.004200   \n",
       "...        ...       ...       ...       ...       ...       ...       ...   \n",
       "1376  0.119992 -0.005735  0.077855  0.024257  0.014907  0.014248 -0.009560   \n",
       "1377 -0.021431  0.009526  0.109263  0.001237  0.081146  0.025377 -0.019791   \n",
       "\n",
       "          6163      6164  label  \n",
       "0    -0.027492 -0.159978      0  \n",
       "1    -0.014472  0.036598      0  \n",
       "...        ...       ...    ...  \n",
       "1376 -0.012431  0.043095      1  \n",
       "1377 -0.020703  0.062248      0  \n",
       "\n",
       "[1378 rows x 6167 columns]"
      ]
     },
     "metadata": {},
     "output_type": "display_data"
    }
   ],
   "source": [
    "fu.check_with_df(Xs, ys, sequence_id)"
   ]
  },
  {
   "cell_type": "markdown",
   "id": "b544e212-2495-4ba0-bedc-751cfe79f7aa",
   "metadata": {
    "tags": []
   },
   "source": [
    "- **Pooling Operation:  `sum`**"
   ]
  },
  {
   "cell_type": "markdown",
   "id": "26464c9b-52cd-4f3c-bc86-3ba03097e824",
   "metadata": {},
   "source": [
    "Update arguments and prepare paths"
   ]
  },
  {
   "cell_type": "code",
   "execution_count": 9,
   "id": "654a6f7f-b3c9-4fe3-842b-b13522fd1ca8",
   "metadata": {
    "execution": {
     "iopub.execute_input": "2022-09-09T15:25:51.354122Z",
     "iopub.status.busy": "2022-09-09T15:25:51.353867Z",
     "iopub.status.idle": "2022-09-09T15:25:51.361376Z",
     "shell.execute_reply": "2022-09-09T15:25:51.360708Z",
     "shell.execute_reply.started": "2022-09-09T15:25:51.354102Z"
    },
    "tags": []
   },
   "outputs": [
    {
     "name": "stdout",
     "output_type": "stream",
     "text": [
      " ../data/acp/train_data.fa \n",
      " ../data/acp/prose/train/acp_train_dlm_sum\n"
     ]
    }
   ],
   "source": [
    "# Update arguments\n",
    "pool = 'sum'\n",
    "# Prepare paths\n",
    "path_pt, _, path_fa = fu.file_paths(ptmodel, task, file_base, model, pool)\n",
    "print('', path_fa, '\\n', path_pt)"
   ]
  },
  {
   "cell_type": "markdown",
   "id": "e36b403b-30a0-4ccc-86c0-d1875de10dc4",
   "metadata": {},
   "source": [
    "Extract embeddings with `read_embedings` function."
   ]
  },
  {
   "cell_type": "code",
   "execution_count": 10,
   "id": "63b23c1e-8908-43f5-a759-0c0f77ada0c7",
   "metadata": {
    "execution": {
     "iopub.execute_input": "2022-09-09T15:26:17.060920Z",
     "iopub.status.busy": "2022-09-09T15:26:17.060643Z",
     "iopub.status.idle": "2022-09-09T15:26:30.802484Z",
     "shell.execute_reply": "2022-09-09T15:26:30.801686Z",
     "shell.execute_reply.started": "2022-09-09T15:26:17.060899Z"
    },
    "tags": []
   },
   "outputs": [
    {
     "name": "stdout",
     "output_type": "stream",
     "text": [
      "Shape of embeddings: \t\t(1378, 6165)\n",
      "Length of target label list:\t1378\n",
      "Length of sequential ids list:\t1378\n"
     ]
    }
   ],
   "source": [
    "Xs, ys, sequence_id = fu.read_embeddings(path_fa, path_pt, pool, emb_layer)"
   ]
  },
  {
   "cell_type": "markdown",
   "id": "21ad5ffa-a770-4748-a6b0-564614a21088",
   "metadata": {},
   "source": [
    "Check our data with `check_with_df` function."
   ]
  },
  {
   "cell_type": "code",
   "execution_count": 11,
   "id": "91e3dd65-93cb-4b37-bcd1-2960f781f763",
   "metadata": {
    "execution": {
     "iopub.execute_input": "2022-09-09T15:26:49.556551Z",
     "iopub.status.busy": "2022-09-09T15:26:49.556261Z",
     "iopub.status.idle": "2022-09-09T15:26:49.614011Z",
     "shell.execute_reply": "2022-09-09T15:26:49.613219Z",
     "shell.execute_reply.started": "2022-09-09T15:26:49.556530Z"
    },
    "tags": []
   },
   "outputs": [
    {
     "data": {
      "text/html": [
       "<div>\n",
       "<style scoped>\n",
       "    .dataframe tbody tr th:only-of-type {\n",
       "        vertical-align: middle;\n",
       "    }\n",
       "\n",
       "    .dataframe tbody tr th {\n",
       "        vertical-align: top;\n",
       "    }\n",
       "\n",
       "    .dataframe thead th {\n",
       "        text-align: right;\n",
       "    }\n",
       "</style>\n",
       "<table border=\"1\" class=\"dataframe\">\n",
       "  <thead>\n",
       "    <tr style=\"text-align: right;\">\n",
       "      <th></th>\n",
       "      <th>sequence</th>\n",
       "      <th>0</th>\n",
       "      <th>1</th>\n",
       "      <th>2</th>\n",
       "      <th>3</th>\n",
       "      <th>4</th>\n",
       "      <th>5</th>\n",
       "      <th>6</th>\n",
       "      <th>7</th>\n",
       "      <th>8</th>\n",
       "      <th>...</th>\n",
       "      <th>6156</th>\n",
       "      <th>6157</th>\n",
       "      <th>6158</th>\n",
       "      <th>6159</th>\n",
       "      <th>6160</th>\n",
       "      <th>6161</th>\n",
       "      <th>6162</th>\n",
       "      <th>6163</th>\n",
       "      <th>6164</th>\n",
       "      <th>label</th>\n",
       "    </tr>\n",
       "  </thead>\n",
       "  <tbody>\n",
       "    <tr>\n",
       "      <th>0</th>\n",
       "      <td>Protein_seq_0001</td>\n",
       "      <td>0.0</td>\n",
       "      <td>6.0</td>\n",
       "      <td>0.0</td>\n",
       "      <td>0.0</td>\n",
       "      <td>0.0</td>\n",
       "      <td>0.0</td>\n",
       "      <td>0.0</td>\n",
       "      <td>0.0</td>\n",
       "      <td>0.0</td>\n",
       "      <td>...</td>\n",
       "      <td>0.494269</td>\n",
       "      <td>-0.116769</td>\n",
       "      <td>0.359840</td>\n",
       "      <td>-0.014159</td>\n",
       "      <td>-1.095376</td>\n",
       "      <td>0.003168</td>\n",
       "      <td>0.835994</td>\n",
       "      <td>-0.489074</td>\n",
       "      <td>-4.571615</td>\n",
       "      <td>0</td>\n",
       "    </tr>\n",
       "    <tr>\n",
       "      <th>1</th>\n",
       "      <td>Protein_seq_0002</td>\n",
       "      <td>2.0</td>\n",
       "      <td>1.0</td>\n",
       "      <td>0.0</td>\n",
       "      <td>1.0</td>\n",
       "      <td>0.0</td>\n",
       "      <td>0.0</td>\n",
       "      <td>0.0</td>\n",
       "      <td>5.0</td>\n",
       "      <td>1.0</td>\n",
       "      <td>...</td>\n",
       "      <td>0.123219</td>\n",
       "      <td>-0.198279</td>\n",
       "      <td>1.081959</td>\n",
       "      <td>0.724408</td>\n",
       "      <td>-2.574637</td>\n",
       "      <td>0.139403</td>\n",
       "      <td>-1.994219</td>\n",
       "      <td>-1.403535</td>\n",
       "      <td>0.124409</td>\n",
       "      <td>0</td>\n",
       "    </tr>\n",
       "    <tr>\n",
       "      <th>...</th>\n",
       "      <td>...</td>\n",
       "      <td>...</td>\n",
       "      <td>...</td>\n",
       "      <td>...</td>\n",
       "      <td>...</td>\n",
       "      <td>...</td>\n",
       "      <td>...</td>\n",
       "      <td>...</td>\n",
       "      <td>...</td>\n",
       "      <td>...</td>\n",
       "      <td>...</td>\n",
       "      <td>...</td>\n",
       "      <td>...</td>\n",
       "      <td>...</td>\n",
       "      <td>...</td>\n",
       "      <td>...</td>\n",
       "      <td>...</td>\n",
       "      <td>...</td>\n",
       "      <td>...</td>\n",
       "      <td>...</td>\n",
       "      <td>...</td>\n",
       "    </tr>\n",
       "    <tr>\n",
       "      <th>1376</th>\n",
       "      <td>Protein_seq_1377</td>\n",
       "      <td>2.0</td>\n",
       "      <td>0.0</td>\n",
       "      <td>0.0</td>\n",
       "      <td>0.0</td>\n",
       "      <td>0.0</td>\n",
       "      <td>0.0</td>\n",
       "      <td>0.0</td>\n",
       "      <td>1.0</td>\n",
       "      <td>0.0</td>\n",
       "      <td>...</td>\n",
       "      <td>0.943738</td>\n",
       "      <td>-0.186590</td>\n",
       "      <td>0.280417</td>\n",
       "      <td>0.063755</td>\n",
       "      <td>-1.128891</td>\n",
       "      <td>0.082574</td>\n",
       "      <td>-1.104320</td>\n",
       "      <td>-0.591940</td>\n",
       "      <td>0.303815</td>\n",
       "      <td>1</td>\n",
       "    </tr>\n",
       "    <tr>\n",
       "      <th>1377</th>\n",
       "      <td>Protein_seq_1378</td>\n",
       "      <td>0.0</td>\n",
       "      <td>4.0</td>\n",
       "      <td>0.0</td>\n",
       "      <td>0.0</td>\n",
       "      <td>1.0</td>\n",
       "      <td>0.0</td>\n",
       "      <td>0.0</td>\n",
       "      <td>0.0</td>\n",
       "      <td>0.0</td>\n",
       "      <td>...</td>\n",
       "      <td>-0.661316</td>\n",
       "      <td>-0.284495</td>\n",
       "      <td>0.252859</td>\n",
       "      <td>-0.055431</td>\n",
       "      <td>-1.595233</td>\n",
       "      <td>0.173380</td>\n",
       "      <td>-1.425824</td>\n",
       "      <td>-0.447922</td>\n",
       "      <td>-0.402017</td>\n",
       "      <td>0</td>\n",
       "    </tr>\n",
       "  </tbody>\n",
       "</table>\n",
       "<p>1378 rows × 6167 columns</p>\n",
       "</div>"
      ],
      "text/plain": [
       "              sequence    0    1    2    3    4    5    6    7    8  ...  \\\n",
       "0     Protein_seq_0001  0.0  6.0  0.0  0.0  0.0  0.0  0.0  0.0  0.0  ...   \n",
       "1     Protein_seq_0002  2.0  1.0  0.0  1.0  0.0  0.0  0.0  5.0  1.0  ...   \n",
       "...                ...  ...  ...  ...  ...  ...  ...  ...  ...  ...  ...   \n",
       "1376  Protein_seq_1377  2.0  0.0  0.0  0.0  0.0  0.0  0.0  1.0  0.0  ...   \n",
       "1377  Protein_seq_1378  0.0  4.0  0.0  0.0  1.0  0.0  0.0  0.0  0.0  ...   \n",
       "\n",
       "          6156      6157      6158      6159      6160      6161      6162  \\\n",
       "0     0.494269 -0.116769  0.359840 -0.014159 -1.095376  0.003168  0.835994   \n",
       "1     0.123219 -0.198279  1.081959  0.724408 -2.574637  0.139403 -1.994219   \n",
       "...        ...       ...       ...       ...       ...       ...       ...   \n",
       "1376  0.943738 -0.186590  0.280417  0.063755 -1.128891  0.082574 -1.104320   \n",
       "1377 -0.661316 -0.284495  0.252859 -0.055431 -1.595233  0.173380 -1.425824   \n",
       "\n",
       "          6163      6164  label  \n",
       "0    -0.489074 -4.571615      0  \n",
       "1    -1.403535  0.124409      0  \n",
       "...        ...       ...    ...  \n",
       "1376 -0.591940  0.303815      1  \n",
       "1377 -0.447922 -0.402017      0  \n",
       "\n",
       "[1378 rows x 6167 columns]"
      ]
     },
     "metadata": {},
     "output_type": "display_data"
    }
   ],
   "source": [
    "fu.check_with_df(Xs, ys, sequence_id)"
   ]
  },
  {
   "cell_type": "markdown",
   "id": "36bf0b17-8745-491f-950c-6b920755887d",
   "metadata": {
    "jp-MarkdownHeadingCollapsed": true,
    "tags": []
   },
   "source": [
    "<br>\n",
    "\n",
    "### ProSE MT model - prose_mt"
   ]
  },
  {
   "cell_type": "markdown",
   "id": "759f1406-38da-4ecb-bbd9-4f3925ed4f35",
   "metadata": {
    "tags": []
   },
   "source": [
    "- **Pooling Operation:  `avg`**"
   ]
  },
  {
   "cell_type": "markdown",
   "id": "16ad9e6b-7eeb-4966-9cb1-eb4c61b42bf0",
   "metadata": {},
   "source": [
    "Update arguments and prepare paths"
   ]
  },
  {
   "cell_type": "code",
   "execution_count": 12,
   "id": "9979e6bc-7257-49ae-993d-c46a4925cf81",
   "metadata": {
    "execution": {
     "iopub.execute_input": "2022-09-09T15:28:36.234289Z",
     "iopub.status.busy": "2022-09-09T15:28:36.232848Z",
     "iopub.status.idle": "2022-09-09T15:28:36.249874Z",
     "shell.execute_reply": "2022-09-09T15:28:36.248105Z",
     "shell.execute_reply.started": "2022-09-09T15:28:36.234247Z"
    },
    "tags": []
   },
   "outputs": [
    {
     "name": "stdout",
     "output_type": "stream",
     "text": [
      " ../data/acp/train_data.fa \n",
      " ../data/acp/prose/train/acp_train_mt_avg\n"
     ]
    }
   ],
   "source": [
    "# Update arguments\n",
    "model = 'prose_mt'\n",
    "pool = 'avg'\n",
    "# Prepare paths\n",
    "path_pt, _, path_fa = fu.file_paths(ptmodel, task, file_base, model, pool)\n",
    "print('', path_fa, '\\n', path_pt)"
   ]
  },
  {
   "cell_type": "markdown",
   "id": "67d73d5d-3a82-4a73-b7e2-1906ff89bd5b",
   "metadata": {},
   "source": [
    "Extract embeddings with `read_embedings` function."
   ]
  },
  {
   "cell_type": "code",
   "execution_count": 13,
   "id": "21aeef2e-cc51-4643-93d4-327db2595c38",
   "metadata": {
    "execution": {
     "iopub.execute_input": "2022-09-09T15:28:51.580782Z",
     "iopub.status.busy": "2022-09-09T15:28:51.580363Z",
     "iopub.status.idle": "2022-09-09T15:29:06.369278Z",
     "shell.execute_reply": "2022-09-09T15:29:06.368423Z",
     "shell.execute_reply.started": "2022-09-09T15:28:51.580750Z"
    },
    "tags": []
   },
   "outputs": [
    {
     "name": "stdout",
     "output_type": "stream",
     "text": [
      "Shape of embeddings: \t\t(1378, 6165)\n",
      "Length of target label list:\t1378\n",
      "Length of sequential ids list:\t1378\n"
     ]
    }
   ],
   "source": [
    "Xs, ys, sequence_id = fu.read_embeddings(path_fa, path_pt, pool, emb_layer)"
   ]
  },
  {
   "cell_type": "markdown",
   "id": "366a0d02-6639-4b49-a008-50e6f74ff537",
   "metadata": {},
   "source": [
    "Check our data with `check_with_df` function."
   ]
  },
  {
   "cell_type": "code",
   "execution_count": 14,
   "id": "a993bf94-77da-4d65-889e-74a1e87c3f9a",
   "metadata": {
    "execution": {
     "iopub.execute_input": "2022-09-09T15:29:50.517711Z",
     "iopub.status.busy": "2022-09-09T15:29:50.517442Z",
     "iopub.status.idle": "2022-09-09T15:29:50.574194Z",
     "shell.execute_reply": "2022-09-09T15:29:50.573315Z",
     "shell.execute_reply.started": "2022-09-09T15:29:50.517691Z"
    },
    "tags": []
   },
   "outputs": [
    {
     "data": {
      "text/html": [
       "<div>\n",
       "<style scoped>\n",
       "    .dataframe tbody tr th:only-of-type {\n",
       "        vertical-align: middle;\n",
       "    }\n",
       "\n",
       "    .dataframe tbody tr th {\n",
       "        vertical-align: top;\n",
       "    }\n",
       "\n",
       "    .dataframe thead th {\n",
       "        text-align: right;\n",
       "    }\n",
       "</style>\n",
       "<table border=\"1\" class=\"dataframe\">\n",
       "  <thead>\n",
       "    <tr style=\"text-align: right;\">\n",
       "      <th></th>\n",
       "      <th>sequence</th>\n",
       "      <th>0</th>\n",
       "      <th>1</th>\n",
       "      <th>2</th>\n",
       "      <th>3</th>\n",
       "      <th>4</th>\n",
       "      <th>5</th>\n",
       "      <th>6</th>\n",
       "      <th>7</th>\n",
       "      <th>8</th>\n",
       "      <th>...</th>\n",
       "      <th>6156</th>\n",
       "      <th>6157</th>\n",
       "      <th>6158</th>\n",
       "      <th>6159</th>\n",
       "      <th>6160</th>\n",
       "      <th>6161</th>\n",
       "      <th>6162</th>\n",
       "      <th>6163</th>\n",
       "      <th>6164</th>\n",
       "      <th>label</th>\n",
       "    </tr>\n",
       "  </thead>\n",
       "  <tbody>\n",
       "    <tr>\n",
       "      <th>0</th>\n",
       "      <td>Protein_seq_0001</td>\n",
       "      <td>0.000000</td>\n",
       "      <td>0.600000</td>\n",
       "      <td>0.0</td>\n",
       "      <td>0.000000</td>\n",
       "      <td>0.000000</td>\n",
       "      <td>0.0</td>\n",
       "      <td>0.0</td>\n",
       "      <td>0.000000</td>\n",
       "      <td>0.000000</td>\n",
       "      <td>...</td>\n",
       "      <td>0.088738</td>\n",
       "      <td>-0.001149</td>\n",
       "      <td>0.027113</td>\n",
       "      <td>0.001807</td>\n",
       "      <td>-0.056439</td>\n",
       "      <td>0.008605</td>\n",
       "      <td>0.155694</td>\n",
       "      <td>-0.168206</td>\n",
       "      <td>-0.189653</td>\n",
       "      <td>0</td>\n",
       "    </tr>\n",
       "    <tr>\n",
       "      <th>1</th>\n",
       "      <td>Protein_seq_0002</td>\n",
       "      <td>0.076923</td>\n",
       "      <td>0.038462</td>\n",
       "      <td>0.0</td>\n",
       "      <td>0.038462</td>\n",
       "      <td>0.000000</td>\n",
       "      <td>0.0</td>\n",
       "      <td>0.0</td>\n",
       "      <td>0.192308</td>\n",
       "      <td>0.038462</td>\n",
       "      <td>...</td>\n",
       "      <td>0.348926</td>\n",
       "      <td>-0.003707</td>\n",
       "      <td>0.154556</td>\n",
       "      <td>0.133863</td>\n",
       "      <td>-0.135781</td>\n",
       "      <td>-0.054469</td>\n",
       "      <td>-0.060656</td>\n",
       "      <td>0.043199</td>\n",
       "      <td>0.001528</td>\n",
       "      <td>0</td>\n",
       "    </tr>\n",
       "    <tr>\n",
       "      <th>...</th>\n",
       "      <td>...</td>\n",
       "      <td>...</td>\n",
       "      <td>...</td>\n",
       "      <td>...</td>\n",
       "      <td>...</td>\n",
       "      <td>...</td>\n",
       "      <td>...</td>\n",
       "      <td>...</td>\n",
       "      <td>...</td>\n",
       "      <td>...</td>\n",
       "      <td>...</td>\n",
       "      <td>...</td>\n",
       "      <td>...</td>\n",
       "      <td>...</td>\n",
       "      <td>...</td>\n",
       "      <td>...</td>\n",
       "      <td>...</td>\n",
       "      <td>...</td>\n",
       "      <td>...</td>\n",
       "      <td>...</td>\n",
       "      <td>...</td>\n",
       "    </tr>\n",
       "    <tr>\n",
       "      <th>1376</th>\n",
       "      <td>Protein_seq_1377</td>\n",
       "      <td>0.153846</td>\n",
       "      <td>0.000000</td>\n",
       "      <td>0.0</td>\n",
       "      <td>0.000000</td>\n",
       "      <td>0.000000</td>\n",
       "      <td>0.0</td>\n",
       "      <td>0.0</td>\n",
       "      <td>0.076923</td>\n",
       "      <td>0.000000</td>\n",
       "      <td>...</td>\n",
       "      <td>0.105621</td>\n",
       "      <td>-0.003129</td>\n",
       "      <td>0.086821</td>\n",
       "      <td>0.048828</td>\n",
       "      <td>-0.023954</td>\n",
       "      <td>-0.029000</td>\n",
       "      <td>-0.053837</td>\n",
       "      <td>-0.025096</td>\n",
       "      <td>0.023295</td>\n",
       "      <td>1</td>\n",
       "    </tr>\n",
       "    <tr>\n",
       "      <th>1377</th>\n",
       "      <td>Protein_seq_1378</td>\n",
       "      <td>0.000000</td>\n",
       "      <td>0.333333</td>\n",
       "      <td>0.0</td>\n",
       "      <td>0.000000</td>\n",
       "      <td>0.083333</td>\n",
       "      <td>0.0</td>\n",
       "      <td>0.0</td>\n",
       "      <td>0.000000</td>\n",
       "      <td>0.000000</td>\n",
       "      <td>...</td>\n",
       "      <td>-0.039725</td>\n",
       "      <td>-0.015628</td>\n",
       "      <td>0.008452</td>\n",
       "      <td>0.008466</td>\n",
       "      <td>0.049375</td>\n",
       "      <td>0.047414</td>\n",
       "      <td>-0.055997</td>\n",
       "      <td>-0.076221</td>\n",
       "      <td>-0.055401</td>\n",
       "      <td>0</td>\n",
       "    </tr>\n",
       "  </tbody>\n",
       "</table>\n",
       "<p>1378 rows × 6167 columns</p>\n",
       "</div>"
      ],
      "text/plain": [
       "              sequence         0         1    2         3         4    5    6  \\\n",
       "0     Protein_seq_0001  0.000000  0.600000  0.0  0.000000  0.000000  0.0  0.0   \n",
       "1     Protein_seq_0002  0.076923  0.038462  0.0  0.038462  0.000000  0.0  0.0   \n",
       "...                ...       ...       ...  ...       ...       ...  ...  ...   \n",
       "1376  Protein_seq_1377  0.153846  0.000000  0.0  0.000000  0.000000  0.0  0.0   \n",
       "1377  Protein_seq_1378  0.000000  0.333333  0.0  0.000000  0.083333  0.0  0.0   \n",
       "\n",
       "             7         8  ...      6156      6157      6158      6159  \\\n",
       "0     0.000000  0.000000  ...  0.088738 -0.001149  0.027113  0.001807   \n",
       "1     0.192308  0.038462  ...  0.348926 -0.003707  0.154556  0.133863   \n",
       "...        ...       ...  ...       ...       ...       ...       ...   \n",
       "1376  0.076923  0.000000  ...  0.105621 -0.003129  0.086821  0.048828   \n",
       "1377  0.000000  0.000000  ... -0.039725 -0.015628  0.008452  0.008466   \n",
       "\n",
       "          6160      6161      6162      6163      6164  label  \n",
       "0    -0.056439  0.008605  0.155694 -0.168206 -0.189653      0  \n",
       "1    -0.135781 -0.054469 -0.060656  0.043199  0.001528      0  \n",
       "...        ...       ...       ...       ...       ...    ...  \n",
       "1376 -0.023954 -0.029000 -0.053837 -0.025096  0.023295      1  \n",
       "1377  0.049375  0.047414 -0.055997 -0.076221 -0.055401      0  \n",
       "\n",
       "[1378 rows x 6167 columns]"
      ]
     },
     "metadata": {},
     "output_type": "display_data"
    }
   ],
   "source": [
    "fu.check_with_df(Xs, ys, sequence_id)"
   ]
  },
  {
   "cell_type": "markdown",
   "id": "0e07d819-b9a7-496a-879d-e401cfe75284",
   "metadata": {
    "tags": []
   },
   "source": [
    "- **Pooling Operation:  `max`**"
   ]
  },
  {
   "cell_type": "markdown",
   "id": "c8bab97f-0a70-494d-af57-a673f3c02054",
   "metadata": {},
   "source": [
    "Update arguments and prepare paths"
   ]
  },
  {
   "cell_type": "code",
   "execution_count": 15,
   "id": "d673836d-461f-42f4-beb5-17f12009e5ac",
   "metadata": {
    "execution": {
     "iopub.execute_input": "2022-09-09T15:31:40.414808Z",
     "iopub.status.busy": "2022-09-09T15:31:40.414539Z",
     "iopub.status.idle": "2022-09-09T15:31:40.422821Z",
     "shell.execute_reply": "2022-09-09T15:31:40.421923Z",
     "shell.execute_reply.started": "2022-09-09T15:31:40.414788Z"
    },
    "tags": []
   },
   "outputs": [
    {
     "name": "stdout",
     "output_type": "stream",
     "text": [
      " ../data/acp/train_data.fa \n",
      " ../data/acp/prose/train/acp_train_mt_max\n"
     ]
    }
   ],
   "source": [
    "# Update arguments\n",
    "model = 'prose_mt'\n",
    "pool = 'max'\n",
    "# Prepare paths\n",
    "path_pt, _, path_fa = fu.file_paths(ptmodel, task, file_base, model, pool)\n",
    "print('', path_fa, '\\n', path_pt)"
   ]
  },
  {
   "cell_type": "markdown",
   "id": "22a4e705-532d-4dde-9e9a-301a18f687ab",
   "metadata": {},
   "source": [
    "Extract embeddings with `read_embedings` function."
   ]
  },
  {
   "cell_type": "code",
   "execution_count": 16,
   "id": "7f243474-8e86-466a-83d7-d7d3fea796b0",
   "metadata": {
    "execution": {
     "iopub.execute_input": "2022-09-09T15:31:46.894817Z",
     "iopub.status.busy": "2022-09-09T15:31:46.894549Z",
     "iopub.status.idle": "2022-09-09T15:32:01.140599Z",
     "shell.execute_reply": "2022-09-09T15:32:01.139403Z",
     "shell.execute_reply.started": "2022-09-09T15:31:46.894796Z"
    },
    "tags": []
   },
   "outputs": [
    {
     "name": "stdout",
     "output_type": "stream",
     "text": [
      "Shape of embeddings: \t\t(1378, 6165)\n",
      "Length of target label list:\t1378\n",
      "Length of sequential ids list:\t1378\n"
     ]
    }
   ],
   "source": [
    "Xs, ys, sequence_id = fu.read_embeddings(path_fa, path_pt, pool, emb_layer)"
   ]
  },
  {
   "cell_type": "markdown",
   "id": "d12ced0e-e2e6-4bac-83fe-74c55994c0c7",
   "metadata": {},
   "source": [
    "Check our data with `check_with_df` function."
   ]
  },
  {
   "cell_type": "code",
   "execution_count": 17,
   "id": "79d68a44-79ae-457a-b898-606b09645150",
   "metadata": {
    "execution": {
     "iopub.execute_input": "2022-09-09T15:32:15.867914Z",
     "iopub.status.busy": "2022-09-09T15:32:15.867643Z",
     "iopub.status.idle": "2022-09-09T15:32:15.925912Z",
     "shell.execute_reply": "2022-09-09T15:32:15.925040Z",
     "shell.execute_reply.started": "2022-09-09T15:32:15.867892Z"
    },
    "tags": []
   },
   "outputs": [
    {
     "data": {
      "text/html": [
       "<div>\n",
       "<style scoped>\n",
       "    .dataframe tbody tr th:only-of-type {\n",
       "        vertical-align: middle;\n",
       "    }\n",
       "\n",
       "    .dataframe tbody tr th {\n",
       "        vertical-align: top;\n",
       "    }\n",
       "\n",
       "    .dataframe thead th {\n",
       "        text-align: right;\n",
       "    }\n",
       "</style>\n",
       "<table border=\"1\" class=\"dataframe\">\n",
       "  <thead>\n",
       "    <tr style=\"text-align: right;\">\n",
       "      <th></th>\n",
       "      <th>sequence</th>\n",
       "      <th>0</th>\n",
       "      <th>1</th>\n",
       "      <th>2</th>\n",
       "      <th>3</th>\n",
       "      <th>4</th>\n",
       "      <th>5</th>\n",
       "      <th>6</th>\n",
       "      <th>7</th>\n",
       "      <th>8</th>\n",
       "      <th>...</th>\n",
       "      <th>6156</th>\n",
       "      <th>6157</th>\n",
       "      <th>6158</th>\n",
       "      <th>6159</th>\n",
       "      <th>6160</th>\n",
       "      <th>6161</th>\n",
       "      <th>6162</th>\n",
       "      <th>6163</th>\n",
       "      <th>6164</th>\n",
       "      <th>label</th>\n",
       "    </tr>\n",
       "  </thead>\n",
       "  <tbody>\n",
       "    <tr>\n",
       "      <th>0</th>\n",
       "      <td>Protein_seq_0001</td>\n",
       "      <td>0.0</td>\n",
       "      <td>1.0</td>\n",
       "      <td>0.0</td>\n",
       "      <td>0.0</td>\n",
       "      <td>0.0</td>\n",
       "      <td>0.0</td>\n",
       "      <td>0.0</td>\n",
       "      <td>0.0</td>\n",
       "      <td>0.0</td>\n",
       "      <td>...</td>\n",
       "      <td>0.173222</td>\n",
       "      <td>0.000546</td>\n",
       "      <td>0.143507</td>\n",
       "      <td>0.035961</td>\n",
       "      <td>-0.006350</td>\n",
       "      <td>0.064840</td>\n",
       "      <td>0.254236</td>\n",
       "      <td>-0.056681</td>\n",
       "      <td>0.024833</td>\n",
       "      <td>0</td>\n",
       "    </tr>\n",
       "    <tr>\n",
       "      <th>1</th>\n",
       "      <td>Protein_seq_0002</td>\n",
       "      <td>1.0</td>\n",
       "      <td>1.0</td>\n",
       "      <td>0.0</td>\n",
       "      <td>1.0</td>\n",
       "      <td>0.0</td>\n",
       "      <td>0.0</td>\n",
       "      <td>0.0</td>\n",
       "      <td>1.0</td>\n",
       "      <td>1.0</td>\n",
       "      <td>...</td>\n",
       "      <td>0.747496</td>\n",
       "      <td>0.004670</td>\n",
       "      <td>0.712976</td>\n",
       "      <td>0.431933</td>\n",
       "      <td>0.220262</td>\n",
       "      <td>0.334480</td>\n",
       "      <td>-0.004101</td>\n",
       "      <td>0.113751</td>\n",
       "      <td>0.039629</td>\n",
       "      <td>0</td>\n",
       "    </tr>\n",
       "    <tr>\n",
       "      <th>...</th>\n",
       "      <td>...</td>\n",
       "      <td>...</td>\n",
       "      <td>...</td>\n",
       "      <td>...</td>\n",
       "      <td>...</td>\n",
       "      <td>...</td>\n",
       "      <td>...</td>\n",
       "      <td>...</td>\n",
       "      <td>...</td>\n",
       "      <td>...</td>\n",
       "      <td>...</td>\n",
       "      <td>...</td>\n",
       "      <td>...</td>\n",
       "      <td>...</td>\n",
       "      <td>...</td>\n",
       "      <td>...</td>\n",
       "      <td>...</td>\n",
       "      <td>...</td>\n",
       "      <td>...</td>\n",
       "      <td>...</td>\n",
       "      <td>...</td>\n",
       "    </tr>\n",
       "    <tr>\n",
       "      <th>1376</th>\n",
       "      <td>Protein_seq_1377</td>\n",
       "      <td>1.0</td>\n",
       "      <td>0.0</td>\n",
       "      <td>0.0</td>\n",
       "      <td>0.0</td>\n",
       "      <td>0.0</td>\n",
       "      <td>0.0</td>\n",
       "      <td>0.0</td>\n",
       "      <td>1.0</td>\n",
       "      <td>0.0</td>\n",
       "      <td>...</td>\n",
       "      <td>0.265788</td>\n",
       "      <td>0.009886</td>\n",
       "      <td>0.386292</td>\n",
       "      <td>0.137479</td>\n",
       "      <td>0.102106</td>\n",
       "      <td>0.057675</td>\n",
       "      <td>-0.018014</td>\n",
       "      <td>0.014908</td>\n",
       "      <td>0.165961</td>\n",
       "      <td>1</td>\n",
       "    </tr>\n",
       "    <tr>\n",
       "      <th>1377</th>\n",
       "      <td>Protein_seq_1378</td>\n",
       "      <td>0.0</td>\n",
       "      <td>1.0</td>\n",
       "      <td>0.0</td>\n",
       "      <td>0.0</td>\n",
       "      <td>1.0</td>\n",
       "      <td>0.0</td>\n",
       "      <td>0.0</td>\n",
       "      <td>0.0</td>\n",
       "      <td>0.0</td>\n",
       "      <td>...</td>\n",
       "      <td>0.024972</td>\n",
       "      <td>0.039072</td>\n",
       "      <td>0.057057</td>\n",
       "      <td>0.052728</td>\n",
       "      <td>0.337448</td>\n",
       "      <td>0.108013</td>\n",
       "      <td>0.043138</td>\n",
       "      <td>-0.048651</td>\n",
       "      <td>-0.005079</td>\n",
       "      <td>0</td>\n",
       "    </tr>\n",
       "  </tbody>\n",
       "</table>\n",
       "<p>1378 rows × 6167 columns</p>\n",
       "</div>"
      ],
      "text/plain": [
       "              sequence    0    1    2    3    4    5    6    7    8  ...  \\\n",
       "0     Protein_seq_0001  0.0  1.0  0.0  0.0  0.0  0.0  0.0  0.0  0.0  ...   \n",
       "1     Protein_seq_0002  1.0  1.0  0.0  1.0  0.0  0.0  0.0  1.0  1.0  ...   \n",
       "...                ...  ...  ...  ...  ...  ...  ...  ...  ...  ...  ...   \n",
       "1376  Protein_seq_1377  1.0  0.0  0.0  0.0  0.0  0.0  0.0  1.0  0.0  ...   \n",
       "1377  Protein_seq_1378  0.0  1.0  0.0  0.0  1.0  0.0  0.0  0.0  0.0  ...   \n",
       "\n",
       "          6156      6157      6158      6159      6160      6161      6162  \\\n",
       "0     0.173222  0.000546  0.143507  0.035961 -0.006350  0.064840  0.254236   \n",
       "1     0.747496  0.004670  0.712976  0.431933  0.220262  0.334480 -0.004101   \n",
       "...        ...       ...       ...       ...       ...       ...       ...   \n",
       "1376  0.265788  0.009886  0.386292  0.137479  0.102106  0.057675 -0.018014   \n",
       "1377  0.024972  0.039072  0.057057  0.052728  0.337448  0.108013  0.043138   \n",
       "\n",
       "          6163      6164  label  \n",
       "0    -0.056681  0.024833      0  \n",
       "1     0.113751  0.039629      0  \n",
       "...        ...       ...    ...  \n",
       "1376  0.014908  0.165961      1  \n",
       "1377 -0.048651 -0.005079      0  \n",
       "\n",
       "[1378 rows x 6167 columns]"
      ]
     },
     "metadata": {},
     "output_type": "display_data"
    }
   ],
   "source": [
    "fu.check_with_df(Xs, ys, sequence_id)"
   ]
  },
  {
   "cell_type": "markdown",
   "id": "3303187c-426c-4cdc-8ea5-02c3bb040ea0",
   "metadata": {
    "tags": []
   },
   "source": [
    "- **Pooling Operation:  `sum`**"
   ]
  },
  {
   "cell_type": "markdown",
   "id": "fe5607c6-48ee-41d2-bf30-62a8873f6f4f",
   "metadata": {},
   "source": [
    "Update arguments and prepare paths"
   ]
  },
  {
   "cell_type": "code",
   "execution_count": 18,
   "id": "a5e74888-0056-4a0b-ab39-6188006d2f5e",
   "metadata": {
    "execution": {
     "iopub.execute_input": "2022-09-09T15:34:08.739315Z",
     "iopub.status.busy": "2022-09-09T15:34:08.739021Z",
     "iopub.status.idle": "2022-09-09T15:34:08.746981Z",
     "shell.execute_reply": "2022-09-09T15:34:08.746205Z",
     "shell.execute_reply.started": "2022-09-09T15:34:08.739294Z"
    },
    "tags": []
   },
   "outputs": [
    {
     "name": "stdout",
     "output_type": "stream",
     "text": [
      " ../data/acp/train_data.fa \n",
      " ../data/acp/prose/train/acp_train_mt_sum\n"
     ]
    }
   ],
   "source": [
    "# Update arguments\n",
    "model = 'prose_mt'\n",
    "pool = 'sum'\n",
    "# Prepare paths\n",
    "path_pt, _, path_fa = fu.file_paths(ptmodel, task, file_base, model, pool)\n",
    "print('', path_fa, '\\n', path_pt)"
   ]
  },
  {
   "cell_type": "markdown",
   "id": "605a612e-1a09-41bc-97f8-2527b0ff5070",
   "metadata": {},
   "source": [
    "Extract embeddings with `read_embedings` function."
   ]
  },
  {
   "cell_type": "code",
   "execution_count": 19,
   "id": "2877e46c-6b54-4fa7-a392-ade47739becb",
   "metadata": {
    "execution": {
     "iopub.execute_input": "2022-09-09T15:34:22.797506Z",
     "iopub.status.busy": "2022-09-09T15:34:22.797223Z",
     "iopub.status.idle": "2022-09-09T15:34:38.334017Z",
     "shell.execute_reply": "2022-09-09T15:34:38.333010Z",
     "shell.execute_reply.started": "2022-09-09T15:34:22.797486Z"
    },
    "tags": []
   },
   "outputs": [
    {
     "name": "stdout",
     "output_type": "stream",
     "text": [
      "Shape of embeddings: \t\t(1378, 6165)\n",
      "Length of target label list:\t1378\n",
      "Length of sequential ids list:\t1378\n"
     ]
    }
   ],
   "source": [
    "Xs, ys, sequence_id = fu.read_embeddings(path_fa, path_pt, pool, emb_layer)"
   ]
  },
  {
   "cell_type": "markdown",
   "id": "b6338a7c-889c-4889-b461-db332c1212dc",
   "metadata": {},
   "source": [
    "Check our data with `check_with_df` function."
   ]
  },
  {
   "cell_type": "code",
   "execution_count": 20,
   "id": "a1b1df1c-1794-4681-8a76-9304518ef89b",
   "metadata": {
    "execution": {
     "iopub.execute_input": "2022-09-09T15:34:49.102416Z",
     "iopub.status.busy": "2022-09-09T15:34:49.102137Z",
     "iopub.status.idle": "2022-09-09T15:34:49.160994Z",
     "shell.execute_reply": "2022-09-09T15:34:49.160282Z",
     "shell.execute_reply.started": "2022-09-09T15:34:49.102395Z"
    },
    "tags": []
   },
   "outputs": [
    {
     "data": {
      "text/html": [
       "<div>\n",
       "<style scoped>\n",
       "    .dataframe tbody tr th:only-of-type {\n",
       "        vertical-align: middle;\n",
       "    }\n",
       "\n",
       "    .dataframe tbody tr th {\n",
       "        vertical-align: top;\n",
       "    }\n",
       "\n",
       "    .dataframe thead th {\n",
       "        text-align: right;\n",
       "    }\n",
       "</style>\n",
       "<table border=\"1\" class=\"dataframe\">\n",
       "  <thead>\n",
       "    <tr style=\"text-align: right;\">\n",
       "      <th></th>\n",
       "      <th>sequence</th>\n",
       "      <th>0</th>\n",
       "      <th>1</th>\n",
       "      <th>2</th>\n",
       "      <th>3</th>\n",
       "      <th>4</th>\n",
       "      <th>5</th>\n",
       "      <th>6</th>\n",
       "      <th>7</th>\n",
       "      <th>8</th>\n",
       "      <th>...</th>\n",
       "      <th>6156</th>\n",
       "      <th>6157</th>\n",
       "      <th>6158</th>\n",
       "      <th>6159</th>\n",
       "      <th>6160</th>\n",
       "      <th>6161</th>\n",
       "      <th>6162</th>\n",
       "      <th>6163</th>\n",
       "      <th>6164</th>\n",
       "      <th>label</th>\n",
       "    </tr>\n",
       "  </thead>\n",
       "  <tbody>\n",
       "    <tr>\n",
       "      <th>0</th>\n",
       "      <td>Protein_seq_0001</td>\n",
       "      <td>0.0</td>\n",
       "      <td>6.0</td>\n",
       "      <td>0.0</td>\n",
       "      <td>0.0</td>\n",
       "      <td>0.0</td>\n",
       "      <td>0.0</td>\n",
       "      <td>0.0</td>\n",
       "      <td>0.0</td>\n",
       "      <td>0.0</td>\n",
       "      <td>...</td>\n",
       "      <td>0.887380</td>\n",
       "      <td>-0.011494</td>\n",
       "      <td>0.271127</td>\n",
       "      <td>0.018067</td>\n",
       "      <td>-0.564391</td>\n",
       "      <td>0.086048</td>\n",
       "      <td>1.556936</td>\n",
       "      <td>-1.682055</td>\n",
       "      <td>-1.896534</td>\n",
       "      <td>0</td>\n",
       "    </tr>\n",
       "    <tr>\n",
       "      <th>1</th>\n",
       "      <td>Protein_seq_0002</td>\n",
       "      <td>2.0</td>\n",
       "      <td>1.0</td>\n",
       "      <td>0.0</td>\n",
       "      <td>1.0</td>\n",
       "      <td>0.0</td>\n",
       "      <td>0.0</td>\n",
       "      <td>0.0</td>\n",
       "      <td>5.0</td>\n",
       "      <td>1.0</td>\n",
       "      <td>...</td>\n",
       "      <td>9.072073</td>\n",
       "      <td>-0.096385</td>\n",
       "      <td>4.018457</td>\n",
       "      <td>3.480438</td>\n",
       "      <td>-3.530303</td>\n",
       "      <td>-1.416185</td>\n",
       "      <td>-1.577045</td>\n",
       "      <td>1.123185</td>\n",
       "      <td>0.039732</td>\n",
       "      <td>0</td>\n",
       "    </tr>\n",
       "    <tr>\n",
       "      <th>...</th>\n",
       "      <td>...</td>\n",
       "      <td>...</td>\n",
       "      <td>...</td>\n",
       "      <td>...</td>\n",
       "      <td>...</td>\n",
       "      <td>...</td>\n",
       "      <td>...</td>\n",
       "      <td>...</td>\n",
       "      <td>...</td>\n",
       "      <td>...</td>\n",
       "      <td>...</td>\n",
       "      <td>...</td>\n",
       "      <td>...</td>\n",
       "      <td>...</td>\n",
       "      <td>...</td>\n",
       "      <td>...</td>\n",
       "      <td>...</td>\n",
       "      <td>...</td>\n",
       "      <td>...</td>\n",
       "      <td>...</td>\n",
       "      <td>...</td>\n",
       "    </tr>\n",
       "    <tr>\n",
       "      <th>1376</th>\n",
       "      <td>Protein_seq_1377</td>\n",
       "      <td>2.0</td>\n",
       "      <td>0.0</td>\n",
       "      <td>0.0</td>\n",
       "      <td>0.0</td>\n",
       "      <td>0.0</td>\n",
       "      <td>0.0</td>\n",
       "      <td>0.0</td>\n",
       "      <td>1.0</td>\n",
       "      <td>0.0</td>\n",
       "      <td>...</td>\n",
       "      <td>1.373076</td>\n",
       "      <td>-0.040675</td>\n",
       "      <td>1.128679</td>\n",
       "      <td>0.634764</td>\n",
       "      <td>-0.311402</td>\n",
       "      <td>-0.376998</td>\n",
       "      <td>-0.699875</td>\n",
       "      <td>-0.326243</td>\n",
       "      <td>0.302838</td>\n",
       "      <td>1</td>\n",
       "    </tr>\n",
       "    <tr>\n",
       "      <th>1377</th>\n",
       "      <td>Protein_seq_1378</td>\n",
       "      <td>0.0</td>\n",
       "      <td>4.0</td>\n",
       "      <td>0.0</td>\n",
       "      <td>0.0</td>\n",
       "      <td>1.0</td>\n",
       "      <td>0.0</td>\n",
       "      <td>0.0</td>\n",
       "      <td>0.0</td>\n",
       "      <td>0.0</td>\n",
       "      <td>...</td>\n",
       "      <td>-0.476698</td>\n",
       "      <td>-0.187542</td>\n",
       "      <td>0.101420</td>\n",
       "      <td>0.101587</td>\n",
       "      <td>0.592505</td>\n",
       "      <td>0.568967</td>\n",
       "      <td>-0.671963</td>\n",
       "      <td>-0.914656</td>\n",
       "      <td>-0.664809</td>\n",
       "      <td>0</td>\n",
       "    </tr>\n",
       "  </tbody>\n",
       "</table>\n",
       "<p>1378 rows × 6167 columns</p>\n",
       "</div>"
      ],
      "text/plain": [
       "              sequence    0    1    2    3    4    5    6    7    8  ...  \\\n",
       "0     Protein_seq_0001  0.0  6.0  0.0  0.0  0.0  0.0  0.0  0.0  0.0  ...   \n",
       "1     Protein_seq_0002  2.0  1.0  0.0  1.0  0.0  0.0  0.0  5.0  1.0  ...   \n",
       "...                ...  ...  ...  ...  ...  ...  ...  ...  ...  ...  ...   \n",
       "1376  Protein_seq_1377  2.0  0.0  0.0  0.0  0.0  0.0  0.0  1.0  0.0  ...   \n",
       "1377  Protein_seq_1378  0.0  4.0  0.0  0.0  1.0  0.0  0.0  0.0  0.0  ...   \n",
       "\n",
       "          6156      6157      6158      6159      6160      6161      6162  \\\n",
       "0     0.887380 -0.011494  0.271127  0.018067 -0.564391  0.086048  1.556936   \n",
       "1     9.072073 -0.096385  4.018457  3.480438 -3.530303 -1.416185 -1.577045   \n",
       "...        ...       ...       ...       ...       ...       ...       ...   \n",
       "1376  1.373076 -0.040675  1.128679  0.634764 -0.311402 -0.376998 -0.699875   \n",
       "1377 -0.476698 -0.187542  0.101420  0.101587  0.592505  0.568967 -0.671963   \n",
       "\n",
       "          6163      6164  label  \n",
       "0    -1.682055 -1.896534      0  \n",
       "1     1.123185  0.039732      0  \n",
       "...        ...       ...    ...  \n",
       "1376 -0.326243  0.302838      1  \n",
       "1377 -0.914656 -0.664809      0  \n",
       "\n",
       "[1378 rows x 6167 columns]"
      ]
     },
     "metadata": {},
     "output_type": "display_data"
    }
   ],
   "source": [
    "fu.check_with_df(Xs, ys, sequence_id)"
   ]
  },
  {
   "cell_type": "markdown",
   "id": "56bfbb3f-22b1-43df-8703-1baebcafc2d5",
   "metadata": {},
   "source": [
    "<br>\n",
    "\n",
    "## Test Dataset"
   ]
  },
  {
   "cell_type": "markdown",
   "id": "28fe2373-8dae-4bde-84ae-55e71af91b08",
   "metadata": {},
   "source": [
    "### ProSE DLM model - prose_dlm"
   ]
  },
  {
   "cell_type": "markdown",
   "id": "8766825b-117e-4250-9e2c-19312e34afda",
   "metadata": {
    "tags": []
   },
   "source": [
    "- **Pooling Operation:  `avg`**"
   ]
  },
  {
   "cell_type": "markdown",
   "id": "71104cd2-6d36-458d-b4d3-2872df373809",
   "metadata": {},
   "source": [
    "Update arguments and prepare paths"
   ]
  },
  {
   "cell_type": "code",
   "execution_count": 21,
   "id": "867e75e2-b47d-4302-8a4a-49ef0710b5d5",
   "metadata": {
    "execution": {
     "iopub.execute_input": "2022-09-09T15:38:14.446836Z",
     "iopub.status.busy": "2022-09-09T15:38:14.446580Z",
     "iopub.status.idle": "2022-09-09T15:38:14.454803Z",
     "shell.execute_reply": "2022-09-09T15:38:14.454024Z",
     "shell.execute_reply.started": "2022-09-09T15:38:14.446817Z"
    },
    "tags": []
   },
   "outputs": [
    {
     "name": "stdout",
     "output_type": "stream",
     "text": [
      " ../data/acp/test_data.fa \n",
      " ../data/acp/prose/test/acp_test_dlm_avg\n"
     ]
    }
   ],
   "source": [
    "# Update arguments\n",
    "file_base = 'test'\n",
    "model = 'prose_dlm'\n",
    "pool = 'avg'\n",
    "# Prepare paths\n",
    "path_pt, _, path_fa = fu.file_paths(ptmodel, task, file_base, model, pool)\n",
    "print('', path_fa, '\\n', path_pt)"
   ]
  },
  {
   "cell_type": "markdown",
   "id": "f4563def-1852-4527-9066-0d5eaa18ad52",
   "metadata": {},
   "source": [
    "Extract embeddings with `read_embedings` function."
   ]
  },
  {
   "cell_type": "code",
   "execution_count": 22,
   "id": "76ae0a12-2ca7-473c-807e-591a40564a39",
   "metadata": {
    "execution": {
     "iopub.execute_input": "2022-09-09T15:38:34.418244Z",
     "iopub.status.busy": "2022-09-09T15:38:34.417978Z",
     "iopub.status.idle": "2022-09-09T15:38:37.999330Z",
     "shell.execute_reply": "2022-09-09T15:38:37.998624Z",
     "shell.execute_reply.started": "2022-09-09T15:38:34.418224Z"
    },
    "tags": []
   },
   "outputs": [
    {
     "name": "stdout",
     "output_type": "stream",
     "text": [
      "Shape of embeddings: \t\t(344, 6165)\n",
      "Length of target label list:\t344\n",
      "Length of sequential ids list:\t344\n"
     ]
    }
   ],
   "source": [
    "Xs, ys, sequence_id = fu.read_embeddings(path_fa, path_pt, pool, emb_layer)"
   ]
  },
  {
   "cell_type": "markdown",
   "id": "e7c7302c-63e9-4844-b4d9-beb34f4e13a9",
   "metadata": {},
   "source": [
    "Check our data with `check_with_df` function."
   ]
  },
  {
   "cell_type": "code",
   "execution_count": 23,
   "id": "7cb2524d-1626-4899-aa14-1ac672f52519",
   "metadata": {
    "execution": {
     "iopub.execute_input": "2022-09-09T15:38:49.160970Z",
     "iopub.status.busy": "2022-09-09T15:38:49.160697Z",
     "iopub.status.idle": "2022-09-09T15:38:49.191437Z",
     "shell.execute_reply": "2022-09-09T15:38:49.190626Z",
     "shell.execute_reply.started": "2022-09-09T15:38:49.160950Z"
    },
    "tags": []
   },
   "outputs": [
    {
     "data": {
      "text/html": [
       "<div>\n",
       "<style scoped>\n",
       "    .dataframe tbody tr th:only-of-type {\n",
       "        vertical-align: middle;\n",
       "    }\n",
       "\n",
       "    .dataframe tbody tr th {\n",
       "        vertical-align: top;\n",
       "    }\n",
       "\n",
       "    .dataframe thead th {\n",
       "        text-align: right;\n",
       "    }\n",
       "</style>\n",
       "<table border=\"1\" class=\"dataframe\">\n",
       "  <thead>\n",
       "    <tr style=\"text-align: right;\">\n",
       "      <th></th>\n",
       "      <th>sequence</th>\n",
       "      <th>0</th>\n",
       "      <th>1</th>\n",
       "      <th>2</th>\n",
       "      <th>3</th>\n",
       "      <th>4</th>\n",
       "      <th>5</th>\n",
       "      <th>6</th>\n",
       "      <th>7</th>\n",
       "      <th>8</th>\n",
       "      <th>...</th>\n",
       "      <th>6156</th>\n",
       "      <th>6157</th>\n",
       "      <th>6158</th>\n",
       "      <th>6159</th>\n",
       "      <th>6160</th>\n",
       "      <th>6161</th>\n",
       "      <th>6162</th>\n",
       "      <th>6163</th>\n",
       "      <th>6164</th>\n",
       "      <th>label</th>\n",
       "    </tr>\n",
       "  </thead>\n",
       "  <tbody>\n",
       "    <tr>\n",
       "      <th>0</th>\n",
       "      <td>Protein_seq_0001</td>\n",
       "      <td>0.050000</td>\n",
       "      <td>0.000000</td>\n",
       "      <td>0.000000</td>\n",
       "      <td>0.000000</td>\n",
       "      <td>0.100000</td>\n",
       "      <td>0.0</td>\n",
       "      <td>0.000000</td>\n",
       "      <td>0.000000</td>\n",
       "      <td>0.000000</td>\n",
       "      <td>...</td>\n",
       "      <td>0.022126</td>\n",
       "      <td>-0.018916</td>\n",
       "      <td>0.013000</td>\n",
       "      <td>-0.000939</td>\n",
       "      <td>-0.154109</td>\n",
       "      <td>0.006128</td>\n",
       "      <td>0.074266</td>\n",
       "      <td>-0.067285</td>\n",
       "      <td>0.009709</td>\n",
       "      <td>0</td>\n",
       "    </tr>\n",
       "    <tr>\n",
       "      <th>1</th>\n",
       "      <td>Protein_seq_0002</td>\n",
       "      <td>0.045455</td>\n",
       "      <td>0.045455</td>\n",
       "      <td>0.113636</td>\n",
       "      <td>0.022727</td>\n",
       "      <td>0.136364</td>\n",
       "      <td>0.0</td>\n",
       "      <td>0.045455</td>\n",
       "      <td>0.113636</td>\n",
       "      <td>0.022727</td>\n",
       "      <td>...</td>\n",
       "      <td>-0.158891</td>\n",
       "      <td>-0.029196</td>\n",
       "      <td>0.099248</td>\n",
       "      <td>0.018526</td>\n",
       "      <td>-0.146355</td>\n",
       "      <td>0.057987</td>\n",
       "      <td>-0.036259</td>\n",
       "      <td>-0.045937</td>\n",
       "      <td>-0.048397</td>\n",
       "      <td>0</td>\n",
       "    </tr>\n",
       "    <tr>\n",
       "      <th>...</th>\n",
       "      <td>...</td>\n",
       "      <td>...</td>\n",
       "      <td>...</td>\n",
       "      <td>...</td>\n",
       "      <td>...</td>\n",
       "      <td>...</td>\n",
       "      <td>...</td>\n",
       "      <td>...</td>\n",
       "      <td>...</td>\n",
       "      <td>...</td>\n",
       "      <td>...</td>\n",
       "      <td>...</td>\n",
       "      <td>...</td>\n",
       "      <td>...</td>\n",
       "      <td>...</td>\n",
       "      <td>...</td>\n",
       "      <td>...</td>\n",
       "      <td>...</td>\n",
       "      <td>...</td>\n",
       "      <td>...</td>\n",
       "      <td>...</td>\n",
       "    </tr>\n",
       "    <tr>\n",
       "      <th>342</th>\n",
       "      <td>Protein_seq_0343</td>\n",
       "      <td>0.000000</td>\n",
       "      <td>0.029412</td>\n",
       "      <td>0.088235</td>\n",
       "      <td>0.058824</td>\n",
       "      <td>0.176471</td>\n",
       "      <td>0.0</td>\n",
       "      <td>0.029412</td>\n",
       "      <td>0.029412</td>\n",
       "      <td>0.000000</td>\n",
       "      <td>...</td>\n",
       "      <td>-0.074295</td>\n",
       "      <td>-0.027915</td>\n",
       "      <td>0.047587</td>\n",
       "      <td>0.009566</td>\n",
       "      <td>-0.164005</td>\n",
       "      <td>0.045475</td>\n",
       "      <td>-0.086575</td>\n",
       "      <td>0.001548</td>\n",
       "      <td>-0.209905</td>\n",
       "      <td>0</td>\n",
       "    </tr>\n",
       "    <tr>\n",
       "      <th>343</th>\n",
       "      <td>Protein_seq_0344</td>\n",
       "      <td>0.066667</td>\n",
       "      <td>0.100000</td>\n",
       "      <td>0.066667</td>\n",
       "      <td>0.033333</td>\n",
       "      <td>0.000000</td>\n",
       "      <td>0.0</td>\n",
       "      <td>0.000000</td>\n",
       "      <td>0.166667</td>\n",
       "      <td>0.033333</td>\n",
       "      <td>...</td>\n",
       "      <td>0.278144</td>\n",
       "      <td>-0.001120</td>\n",
       "      <td>0.041746</td>\n",
       "      <td>0.036685</td>\n",
       "      <td>-0.121415</td>\n",
       "      <td>0.016682</td>\n",
       "      <td>-0.090837</td>\n",
       "      <td>-0.068485</td>\n",
       "      <td>0.018224</td>\n",
       "      <td>1</td>\n",
       "    </tr>\n",
       "  </tbody>\n",
       "</table>\n",
       "<p>344 rows × 6167 columns</p>\n",
       "</div>"
      ],
      "text/plain": [
       "             sequence         0         1         2         3         4    5  \\\n",
       "0    Protein_seq_0001  0.050000  0.000000  0.000000  0.000000  0.100000  0.0   \n",
       "1    Protein_seq_0002  0.045455  0.045455  0.113636  0.022727  0.136364  0.0   \n",
       "..                ...       ...       ...       ...       ...       ...  ...   \n",
       "342  Protein_seq_0343  0.000000  0.029412  0.088235  0.058824  0.176471  0.0   \n",
       "343  Protein_seq_0344  0.066667  0.100000  0.066667  0.033333  0.000000  0.0   \n",
       "\n",
       "            6         7         8  ...      6156      6157      6158  \\\n",
       "0    0.000000  0.000000  0.000000  ...  0.022126 -0.018916  0.013000   \n",
       "1    0.045455  0.113636  0.022727  ... -0.158891 -0.029196  0.099248   \n",
       "..        ...       ...       ...  ...       ...       ...       ...   \n",
       "342  0.029412  0.029412  0.000000  ... -0.074295 -0.027915  0.047587   \n",
       "343  0.000000  0.166667  0.033333  ...  0.278144 -0.001120  0.041746   \n",
       "\n",
       "         6159      6160      6161      6162      6163      6164  label  \n",
       "0   -0.000939 -0.154109  0.006128  0.074266 -0.067285  0.009709      0  \n",
       "1    0.018526 -0.146355  0.057987 -0.036259 -0.045937 -0.048397      0  \n",
       "..        ...       ...       ...       ...       ...       ...    ...  \n",
       "342  0.009566 -0.164005  0.045475 -0.086575  0.001548 -0.209905      0  \n",
       "343  0.036685 -0.121415  0.016682 -0.090837 -0.068485  0.018224      1  \n",
       "\n",
       "[344 rows x 6167 columns]"
      ]
     },
     "metadata": {},
     "output_type": "display_data"
    }
   ],
   "source": [
    "fu.check_with_df(Xs, ys, sequence_id)"
   ]
  },
  {
   "cell_type": "markdown",
   "id": "d0b1373a-dfcf-4d70-9761-ef20137ffd0e",
   "metadata": {
    "tags": []
   },
   "source": [
    "- **Pooling Operation:  `max`**"
   ]
  },
  {
   "cell_type": "markdown",
   "id": "fddecae6-4817-4b56-80fc-323aad77f0c6",
   "metadata": {},
   "source": [
    "Update arguments and prepare paths"
   ]
  },
  {
   "cell_type": "code",
   "execution_count": 24,
   "id": "2fb701b7-e25e-49c7-80ed-275d006bafe4",
   "metadata": {
    "execution": {
     "iopub.execute_input": "2022-09-09T15:55:44.516262Z",
     "iopub.status.busy": "2022-09-09T15:55:44.515987Z",
     "iopub.status.idle": "2022-09-09T15:55:44.524258Z",
     "shell.execute_reply": "2022-09-09T15:55:44.523331Z",
     "shell.execute_reply.started": "2022-09-09T15:55:44.516241Z"
    },
    "tags": []
   },
   "outputs": [
    {
     "name": "stdout",
     "output_type": "stream",
     "text": [
      " ../data/acp/test_data.fa \n",
      " ../data/acp/prose/test/acp_test_dlm_max\n"
     ]
    }
   ],
   "source": [
    "# Update arguments\n",
    "pool = 'max'\n",
    "# Prepare paths\n",
    "path_pt, _, path_fa = fu.file_paths(ptmodel, task, file_base, model, pool)\n",
    "print('', path_fa, '\\n', path_pt)"
   ]
  },
  {
   "cell_type": "markdown",
   "id": "0f416270-1277-4995-941e-d0e81af735bd",
   "metadata": {},
   "source": [
    "Extract embeddings with `read_embedings` function."
   ]
  },
  {
   "cell_type": "code",
   "execution_count": 25,
   "id": "e7426719-4344-4fff-9e57-5e11f77c0ef0",
   "metadata": {
    "execution": {
     "iopub.execute_input": "2022-09-09T15:55:59.562174Z",
     "iopub.status.busy": "2022-09-09T15:55:59.561900Z",
     "iopub.status.idle": "2022-09-09T15:56:03.357484Z",
     "shell.execute_reply": "2022-09-09T15:56:03.356602Z",
     "shell.execute_reply.started": "2022-09-09T15:55:59.562153Z"
    },
    "tags": []
   },
   "outputs": [
    {
     "name": "stdout",
     "output_type": "stream",
     "text": [
      "Shape of embeddings: \t\t(344, 6165)\n",
      "Length of target label list:\t344\n",
      "Length of sequential ids list:\t344\n"
     ]
    }
   ],
   "source": [
    "Xs, ys, sequence_id = fu.read_embeddings(path_fa, path_pt, pool, emb_layer)"
   ]
  },
  {
   "cell_type": "markdown",
   "id": "03304baa-2a19-4fae-9d57-2aa6616c1678",
   "metadata": {},
   "source": [
    "Check our data with `check_with_df` function."
   ]
  },
  {
   "cell_type": "code",
   "execution_count": 26,
   "id": "5077a433-6b0e-4642-9d24-a46373ab78d6",
   "metadata": {
    "execution": {
     "iopub.execute_input": "2022-09-09T15:56:24.668550Z",
     "iopub.status.busy": "2022-09-09T15:56:24.668284Z",
     "iopub.status.idle": "2022-09-09T15:56:24.698705Z",
     "shell.execute_reply": "2022-09-09T15:56:24.697857Z",
     "shell.execute_reply.started": "2022-09-09T15:56:24.668530Z"
    },
    "tags": []
   },
   "outputs": [
    {
     "data": {
      "text/html": [
       "<div>\n",
       "<style scoped>\n",
       "    .dataframe tbody tr th:only-of-type {\n",
       "        vertical-align: middle;\n",
       "    }\n",
       "\n",
       "    .dataframe tbody tr th {\n",
       "        vertical-align: top;\n",
       "    }\n",
       "\n",
       "    .dataframe thead th {\n",
       "        text-align: right;\n",
       "    }\n",
       "</style>\n",
       "<table border=\"1\" class=\"dataframe\">\n",
       "  <thead>\n",
       "    <tr style=\"text-align: right;\">\n",
       "      <th></th>\n",
       "      <th>sequence</th>\n",
       "      <th>0</th>\n",
       "      <th>1</th>\n",
       "      <th>2</th>\n",
       "      <th>3</th>\n",
       "      <th>4</th>\n",
       "      <th>5</th>\n",
       "      <th>6</th>\n",
       "      <th>7</th>\n",
       "      <th>8</th>\n",
       "      <th>...</th>\n",
       "      <th>6156</th>\n",
       "      <th>6157</th>\n",
       "      <th>6158</th>\n",
       "      <th>6159</th>\n",
       "      <th>6160</th>\n",
       "      <th>6161</th>\n",
       "      <th>6162</th>\n",
       "      <th>6163</th>\n",
       "      <th>6164</th>\n",
       "      <th>label</th>\n",
       "    </tr>\n",
       "  </thead>\n",
       "  <tbody>\n",
       "    <tr>\n",
       "      <th>0</th>\n",
       "      <td>Protein_seq_0001</td>\n",
       "      <td>1.0</td>\n",
       "      <td>0.0</td>\n",
       "      <td>0.0</td>\n",
       "      <td>0.0</td>\n",
       "      <td>1.0</td>\n",
       "      <td>0.0</td>\n",
       "      <td>0.0</td>\n",
       "      <td>0.0</td>\n",
       "      <td>0.0</td>\n",
       "      <td>...</td>\n",
       "      <td>0.052047</td>\n",
       "      <td>0.002589</td>\n",
       "      <td>0.089642</td>\n",
       "      <td>0.002420</td>\n",
       "      <td>0.016091</td>\n",
       "      <td>0.020113</td>\n",
       "      <td>0.188227</td>\n",
       "      <td>0.008648</td>\n",
       "      <td>0.070660</td>\n",
       "      <td>0</td>\n",
       "    </tr>\n",
       "    <tr>\n",
       "      <th>1</th>\n",
       "      <td>Protein_seq_0002</td>\n",
       "      <td>1.0</td>\n",
       "      <td>1.0</td>\n",
       "      <td>1.0</td>\n",
       "      <td>1.0</td>\n",
       "      <td>1.0</td>\n",
       "      <td>0.0</td>\n",
       "      <td>1.0</td>\n",
       "      <td>1.0</td>\n",
       "      <td>1.0</td>\n",
       "      <td>...</td>\n",
       "      <td>-0.040933</td>\n",
       "      <td>0.070645</td>\n",
       "      <td>0.368851</td>\n",
       "      <td>0.175326</td>\n",
       "      <td>0.021163</td>\n",
       "      <td>0.419425</td>\n",
       "      <td>0.041212</td>\n",
       "      <td>-0.007430</td>\n",
       "      <td>0.071112</td>\n",
       "      <td>0</td>\n",
       "    </tr>\n",
       "    <tr>\n",
       "      <th>...</th>\n",
       "      <td>...</td>\n",
       "      <td>...</td>\n",
       "      <td>...</td>\n",
       "      <td>...</td>\n",
       "      <td>...</td>\n",
       "      <td>...</td>\n",
       "      <td>...</td>\n",
       "      <td>...</td>\n",
       "      <td>...</td>\n",
       "      <td>...</td>\n",
       "      <td>...</td>\n",
       "      <td>...</td>\n",
       "      <td>...</td>\n",
       "      <td>...</td>\n",
       "      <td>...</td>\n",
       "      <td>...</td>\n",
       "      <td>...</td>\n",
       "      <td>...</td>\n",
       "      <td>...</td>\n",
       "      <td>...</td>\n",
       "      <td>...</td>\n",
       "    </tr>\n",
       "    <tr>\n",
       "      <th>342</th>\n",
       "      <td>Protein_seq_0343</td>\n",
       "      <td>0.0</td>\n",
       "      <td>1.0</td>\n",
       "      <td>1.0</td>\n",
       "      <td>1.0</td>\n",
       "      <td>1.0</td>\n",
       "      <td>0.0</td>\n",
       "      <td>1.0</td>\n",
       "      <td>1.0</td>\n",
       "      <td>0.0</td>\n",
       "      <td>...</td>\n",
       "      <td>-0.017585</td>\n",
       "      <td>0.041106</td>\n",
       "      <td>0.150218</td>\n",
       "      <td>0.128818</td>\n",
       "      <td>-0.040178</td>\n",
       "      <td>0.112985</td>\n",
       "      <td>-0.016964</td>\n",
       "      <td>0.064841</td>\n",
       "      <td>0.026078</td>\n",
       "      <td>0</td>\n",
       "    </tr>\n",
       "    <tr>\n",
       "      <th>343</th>\n",
       "      <td>Protein_seq_0344</td>\n",
       "      <td>1.0</td>\n",
       "      <td>1.0</td>\n",
       "      <td>1.0</td>\n",
       "      <td>1.0</td>\n",
       "      <td>0.0</td>\n",
       "      <td>0.0</td>\n",
       "      <td>0.0</td>\n",
       "      <td>1.0</td>\n",
       "      <td>1.0</td>\n",
       "      <td>...</td>\n",
       "      <td>0.415007</td>\n",
       "      <td>0.048386</td>\n",
       "      <td>0.104834</td>\n",
       "      <td>0.157649</td>\n",
       "      <td>0.043800</td>\n",
       "      <td>0.064324</td>\n",
       "      <td>-0.020729</td>\n",
       "      <td>-0.006121</td>\n",
       "      <td>0.074632</td>\n",
       "      <td>1</td>\n",
       "    </tr>\n",
       "  </tbody>\n",
       "</table>\n",
       "<p>344 rows × 6167 columns</p>\n",
       "</div>"
      ],
      "text/plain": [
       "             sequence    0    1    2    3    4    5    6    7    8  ...  \\\n",
       "0    Protein_seq_0001  1.0  0.0  0.0  0.0  1.0  0.0  0.0  0.0  0.0  ...   \n",
       "1    Protein_seq_0002  1.0  1.0  1.0  1.0  1.0  0.0  1.0  1.0  1.0  ...   \n",
       "..                ...  ...  ...  ...  ...  ...  ...  ...  ...  ...  ...   \n",
       "342  Protein_seq_0343  0.0  1.0  1.0  1.0  1.0  0.0  1.0  1.0  0.0  ...   \n",
       "343  Protein_seq_0344  1.0  1.0  1.0  1.0  0.0  0.0  0.0  1.0  1.0  ...   \n",
       "\n",
       "         6156      6157      6158      6159      6160      6161      6162  \\\n",
       "0    0.052047  0.002589  0.089642  0.002420  0.016091  0.020113  0.188227   \n",
       "1   -0.040933  0.070645  0.368851  0.175326  0.021163  0.419425  0.041212   \n",
       "..        ...       ...       ...       ...       ...       ...       ...   \n",
       "342 -0.017585  0.041106  0.150218  0.128818 -0.040178  0.112985 -0.016964   \n",
       "343  0.415007  0.048386  0.104834  0.157649  0.043800  0.064324 -0.020729   \n",
       "\n",
       "         6163      6164  label  \n",
       "0    0.008648  0.070660      0  \n",
       "1   -0.007430  0.071112      0  \n",
       "..        ...       ...    ...  \n",
       "342  0.064841  0.026078      0  \n",
       "343 -0.006121  0.074632      1  \n",
       "\n",
       "[344 rows x 6167 columns]"
      ]
     },
     "metadata": {},
     "output_type": "display_data"
    }
   ],
   "source": [
    "fu.check_with_df(Xs, ys, sequence_id)"
   ]
  },
  {
   "cell_type": "markdown",
   "id": "6a080e33-e05a-4169-af52-6113e3df6e5c",
   "metadata": {
    "tags": []
   },
   "source": [
    "- **Pooling Operation:  `sum`**"
   ]
  },
  {
   "cell_type": "markdown",
   "id": "bd983a9c-62c4-4af8-ac6f-2d29ee564095",
   "metadata": {},
   "source": [
    "Update arguments and prepare paths"
   ]
  },
  {
   "cell_type": "code",
   "execution_count": 27,
   "id": "25184f1a-43a4-456e-b961-448edaa9e111",
   "metadata": {
    "execution": {
     "iopub.execute_input": "2022-09-09T15:57:16.328001Z",
     "iopub.status.busy": "2022-09-09T15:57:16.327658Z",
     "iopub.status.idle": "2022-09-09T15:57:16.336782Z",
     "shell.execute_reply": "2022-09-09T15:57:16.335687Z",
     "shell.execute_reply.started": "2022-09-09T15:57:16.327979Z"
    },
    "tags": []
   },
   "outputs": [
    {
     "name": "stdout",
     "output_type": "stream",
     "text": [
      " ../data/acp/test_data.fa \n",
      " ../data/acp/prose/test/acp_test_dlm_sum\n"
     ]
    }
   ],
   "source": [
    "# Update arguments\n",
    "pool = 'sum'\n",
    "# Prepare paths\n",
    "path_pt, _, path_fa = fu.file_paths(ptmodel, task, file_base, model, pool)\n",
    "print('', path_fa, '\\n', path_pt)"
   ]
  },
  {
   "cell_type": "markdown",
   "id": "775344da-cb43-46c8-aa1c-386e6df0085c",
   "metadata": {},
   "source": [
    "Extract embeddings with `read_embedings` function."
   ]
  },
  {
   "cell_type": "code",
   "execution_count": 28,
   "id": "413cce3b-cc7d-41f2-9500-71f09797bd12",
   "metadata": {
    "execution": {
     "iopub.execute_input": "2022-09-09T15:57:32.922301Z",
     "iopub.status.busy": "2022-09-09T15:57:32.922012Z",
     "iopub.status.idle": "2022-09-09T15:57:36.954804Z",
     "shell.execute_reply": "2022-09-09T15:57:36.954029Z",
     "shell.execute_reply.started": "2022-09-09T15:57:32.922280Z"
    },
    "tags": []
   },
   "outputs": [
    {
     "name": "stdout",
     "output_type": "stream",
     "text": [
      "Shape of embeddings: \t\t(344, 6165)\n",
      "Length of target label list:\t344\n",
      "Length of sequential ids list:\t344\n"
     ]
    }
   ],
   "source": [
    "Xs, ys, sequence_id = fu.read_embeddings(path_fa, path_pt, pool, emb_layer)"
   ]
  },
  {
   "cell_type": "markdown",
   "id": "8137b317-4d29-446e-8071-8c6823316f79",
   "metadata": {},
   "source": [
    "Check our data with `check_with_df` function."
   ]
  },
  {
   "cell_type": "code",
   "execution_count": 29,
   "id": "79c88461-a737-4c54-b2d3-25cb67f5e007",
   "metadata": {
    "execution": {
     "iopub.execute_input": "2022-09-09T15:57:49.435516Z",
     "iopub.status.busy": "2022-09-09T15:57:49.435244Z",
     "iopub.status.idle": "2022-09-09T15:57:49.464220Z",
     "shell.execute_reply": "2022-09-09T15:57:49.463386Z",
     "shell.execute_reply.started": "2022-09-09T15:57:49.435495Z"
    },
    "tags": []
   },
   "outputs": [
    {
     "data": {
      "text/html": [
       "<div>\n",
       "<style scoped>\n",
       "    .dataframe tbody tr th:only-of-type {\n",
       "        vertical-align: middle;\n",
       "    }\n",
       "\n",
       "    .dataframe tbody tr th {\n",
       "        vertical-align: top;\n",
       "    }\n",
       "\n",
       "    .dataframe thead th {\n",
       "        text-align: right;\n",
       "    }\n",
       "</style>\n",
       "<table border=\"1\" class=\"dataframe\">\n",
       "  <thead>\n",
       "    <tr style=\"text-align: right;\">\n",
       "      <th></th>\n",
       "      <th>sequence</th>\n",
       "      <th>0</th>\n",
       "      <th>1</th>\n",
       "      <th>2</th>\n",
       "      <th>3</th>\n",
       "      <th>4</th>\n",
       "      <th>5</th>\n",
       "      <th>6</th>\n",
       "      <th>7</th>\n",
       "      <th>8</th>\n",
       "      <th>...</th>\n",
       "      <th>6156</th>\n",
       "      <th>6157</th>\n",
       "      <th>6158</th>\n",
       "      <th>6159</th>\n",
       "      <th>6160</th>\n",
       "      <th>6161</th>\n",
       "      <th>6162</th>\n",
       "      <th>6163</th>\n",
       "      <th>6164</th>\n",
       "      <th>label</th>\n",
       "    </tr>\n",
       "  </thead>\n",
       "  <tbody>\n",
       "    <tr>\n",
       "      <th>0</th>\n",
       "      <td>Protein_seq_0001</td>\n",
       "      <td>1.0</td>\n",
       "      <td>0.0</td>\n",
       "      <td>0.0</td>\n",
       "      <td>0.0</td>\n",
       "      <td>2.0</td>\n",
       "      <td>0.0</td>\n",
       "      <td>0.0</td>\n",
       "      <td>0.0</td>\n",
       "      <td>0.0</td>\n",
       "      <td>...</td>\n",
       "      <td>0.442528</td>\n",
       "      <td>-0.378323</td>\n",
       "      <td>0.260004</td>\n",
       "      <td>-0.018781</td>\n",
       "      <td>-3.082188</td>\n",
       "      <td>0.122568</td>\n",
       "      <td>1.485326</td>\n",
       "      <td>-1.345693</td>\n",
       "      <td>0.194190</td>\n",
       "      <td>0</td>\n",
       "    </tr>\n",
       "    <tr>\n",
       "      <th>1</th>\n",
       "      <td>Protein_seq_0002</td>\n",
       "      <td>2.0</td>\n",
       "      <td>2.0</td>\n",
       "      <td>5.0</td>\n",
       "      <td>1.0</td>\n",
       "      <td>6.0</td>\n",
       "      <td>0.0</td>\n",
       "      <td>2.0</td>\n",
       "      <td>5.0</td>\n",
       "      <td>1.0</td>\n",
       "      <td>...</td>\n",
       "      <td>-6.991189</td>\n",
       "      <td>-1.284623</td>\n",
       "      <td>4.366925</td>\n",
       "      <td>0.815132</td>\n",
       "      <td>-6.439634</td>\n",
       "      <td>2.551432</td>\n",
       "      <td>-1.595399</td>\n",
       "      <td>-2.021245</td>\n",
       "      <td>-2.129475</td>\n",
       "      <td>0</td>\n",
       "    </tr>\n",
       "    <tr>\n",
       "      <th>...</th>\n",
       "      <td>...</td>\n",
       "      <td>...</td>\n",
       "      <td>...</td>\n",
       "      <td>...</td>\n",
       "      <td>...</td>\n",
       "      <td>...</td>\n",
       "      <td>...</td>\n",
       "      <td>...</td>\n",
       "      <td>...</td>\n",
       "      <td>...</td>\n",
       "      <td>...</td>\n",
       "      <td>...</td>\n",
       "      <td>...</td>\n",
       "      <td>...</td>\n",
       "      <td>...</td>\n",
       "      <td>...</td>\n",
       "      <td>...</td>\n",
       "      <td>...</td>\n",
       "      <td>...</td>\n",
       "      <td>...</td>\n",
       "      <td>...</td>\n",
       "    </tr>\n",
       "    <tr>\n",
       "      <th>342</th>\n",
       "      <td>Protein_seq_0343</td>\n",
       "      <td>0.0</td>\n",
       "      <td>1.0</td>\n",
       "      <td>3.0</td>\n",
       "      <td>2.0</td>\n",
       "      <td>6.0</td>\n",
       "      <td>0.0</td>\n",
       "      <td>1.0</td>\n",
       "      <td>1.0</td>\n",
       "      <td>0.0</td>\n",
       "      <td>...</td>\n",
       "      <td>-2.526030</td>\n",
       "      <td>-0.949109</td>\n",
       "      <td>1.617966</td>\n",
       "      <td>0.325234</td>\n",
       "      <td>-5.576172</td>\n",
       "      <td>1.546156</td>\n",
       "      <td>-2.943535</td>\n",
       "      <td>0.052647</td>\n",
       "      <td>-7.136753</td>\n",
       "      <td>0</td>\n",
       "    </tr>\n",
       "    <tr>\n",
       "      <th>343</th>\n",
       "      <td>Protein_seq_0344</td>\n",
       "      <td>2.0</td>\n",
       "      <td>3.0</td>\n",
       "      <td>2.0</td>\n",
       "      <td>1.0</td>\n",
       "      <td>0.0</td>\n",
       "      <td>0.0</td>\n",
       "      <td>0.0</td>\n",
       "      <td>5.0</td>\n",
       "      <td>1.0</td>\n",
       "      <td>...</td>\n",
       "      <td>8.344315</td>\n",
       "      <td>-0.033606</td>\n",
       "      <td>1.252369</td>\n",
       "      <td>1.100552</td>\n",
       "      <td>-3.642461</td>\n",
       "      <td>0.500466</td>\n",
       "      <td>-2.725115</td>\n",
       "      <td>-2.054560</td>\n",
       "      <td>0.546709</td>\n",
       "      <td>1</td>\n",
       "    </tr>\n",
       "  </tbody>\n",
       "</table>\n",
       "<p>344 rows × 6167 columns</p>\n",
       "</div>"
      ],
      "text/plain": [
       "             sequence    0    1    2    3    4    5    6    7    8  ...  \\\n",
       "0    Protein_seq_0001  1.0  0.0  0.0  0.0  2.0  0.0  0.0  0.0  0.0  ...   \n",
       "1    Protein_seq_0002  2.0  2.0  5.0  1.0  6.0  0.0  2.0  5.0  1.0  ...   \n",
       "..                ...  ...  ...  ...  ...  ...  ...  ...  ...  ...  ...   \n",
       "342  Protein_seq_0343  0.0  1.0  3.0  2.0  6.0  0.0  1.0  1.0  0.0  ...   \n",
       "343  Protein_seq_0344  2.0  3.0  2.0  1.0  0.0  0.0  0.0  5.0  1.0  ...   \n",
       "\n",
       "         6156      6157      6158      6159      6160      6161      6162  \\\n",
       "0    0.442528 -0.378323  0.260004 -0.018781 -3.082188  0.122568  1.485326   \n",
       "1   -6.991189 -1.284623  4.366925  0.815132 -6.439634  2.551432 -1.595399   \n",
       "..        ...       ...       ...       ...       ...       ...       ...   \n",
       "342 -2.526030 -0.949109  1.617966  0.325234 -5.576172  1.546156 -2.943535   \n",
       "343  8.344315 -0.033606  1.252369  1.100552 -3.642461  0.500466 -2.725115   \n",
       "\n",
       "         6163      6164  label  \n",
       "0   -1.345693  0.194190      0  \n",
       "1   -2.021245 -2.129475      0  \n",
       "..        ...       ...    ...  \n",
       "342  0.052647 -7.136753      0  \n",
       "343 -2.054560  0.546709      1  \n",
       "\n",
       "[344 rows x 6167 columns]"
      ]
     },
     "metadata": {},
     "output_type": "display_data"
    }
   ],
   "source": [
    "fu.check_with_df(Xs, ys, sequence_id)"
   ]
  },
  {
   "cell_type": "markdown",
   "id": "5b4ba083-ff07-42f2-a979-43fd44954556",
   "metadata": {
    "jp-MarkdownHeadingCollapsed": true,
    "tags": []
   },
   "source": [
    "<br>\n",
    "\n",
    "### ProSE MT model - prose_mt"
   ]
  },
  {
   "cell_type": "markdown",
   "id": "883def3f-b02a-48ed-8438-6671dc4f0c25",
   "metadata": {
    "tags": []
   },
   "source": [
    "- **Pooling Operation:  `avg`**"
   ]
  },
  {
   "cell_type": "markdown",
   "id": "83bf75af-e809-4de1-8417-1d54bbf27346",
   "metadata": {},
   "source": [
    "Update arguments and prepare paths"
   ]
  },
  {
   "cell_type": "code",
   "execution_count": 30,
   "id": "e2c6119b-7004-42b4-ba96-3697488df5ed",
   "metadata": {
    "execution": {
     "iopub.execute_input": "2022-09-09T15:59:57.230031Z",
     "iopub.status.busy": "2022-09-09T15:59:57.229761Z",
     "iopub.status.idle": "2022-09-09T15:59:57.238034Z",
     "shell.execute_reply": "2022-09-09T15:59:57.237153Z",
     "shell.execute_reply.started": "2022-09-09T15:59:57.230011Z"
    },
    "tags": []
   },
   "outputs": [
    {
     "name": "stdout",
     "output_type": "stream",
     "text": [
      " ../data/acp/test_data.fa \n",
      " ../data/acp/prose/test/acp_test_mt_avg\n"
     ]
    }
   ],
   "source": [
    "# Update arguments\n",
    "model = 'prose_mt'\n",
    "pool = 'avg'\n",
    "# Prepare paths\n",
    "path_pt, _, path_fa = fu.file_paths(ptmodel, task, file_base, model, pool)\n",
    "print('', path_fa, '\\n', path_pt)"
   ]
  },
  {
   "cell_type": "markdown",
   "id": "ae16fcb4-908e-4250-91b8-a05c3059a006",
   "metadata": {},
   "source": [
    "Extract embeddings with `read_embedings` function."
   ]
  },
  {
   "cell_type": "code",
   "execution_count": 31,
   "id": "a25adf3d-71ed-4ed7-b019-8fc145fdaf1d",
   "metadata": {
    "execution": {
     "iopub.execute_input": "2022-09-09T16:00:29.942039Z",
     "iopub.status.busy": "2022-09-09T16:00:29.941769Z",
     "iopub.status.idle": "2022-09-09T16:00:33.671079Z",
     "shell.execute_reply": "2022-09-09T16:00:33.670276Z",
     "shell.execute_reply.started": "2022-09-09T16:00:29.942019Z"
    },
    "tags": []
   },
   "outputs": [
    {
     "name": "stdout",
     "output_type": "stream",
     "text": [
      "Shape of embeddings: \t\t(344, 6165)\n",
      "Length of target label list:\t344\n",
      "Length of sequential ids list:\t344\n"
     ]
    }
   ],
   "source": [
    "Xs, ys, sequence_id = fu.read_embeddings(path_fa, path_pt, pool, emb_layer)"
   ]
  },
  {
   "cell_type": "markdown",
   "id": "16bd01e2-eef5-4996-beec-4f57f6113783",
   "metadata": {},
   "source": [
    "Check our data with `check_with_df` function."
   ]
  },
  {
   "cell_type": "code",
   "execution_count": 32,
   "id": "77e1a49a-1565-4620-9dc5-63625ea672f4",
   "metadata": {
    "execution": {
     "iopub.execute_input": "2022-09-09T16:00:40.224810Z",
     "iopub.status.busy": "2022-09-09T16:00:40.224542Z",
     "iopub.status.idle": "2022-09-09T16:00:40.250297Z",
     "shell.execute_reply": "2022-09-09T16:00:40.249510Z",
     "shell.execute_reply.started": "2022-09-09T16:00:40.224789Z"
    },
    "tags": []
   },
   "outputs": [
    {
     "data": {
      "text/html": [
       "<div>\n",
       "<style scoped>\n",
       "    .dataframe tbody tr th:only-of-type {\n",
       "        vertical-align: middle;\n",
       "    }\n",
       "\n",
       "    .dataframe tbody tr th {\n",
       "        vertical-align: top;\n",
       "    }\n",
       "\n",
       "    .dataframe thead th {\n",
       "        text-align: right;\n",
       "    }\n",
       "</style>\n",
       "<table border=\"1\" class=\"dataframe\">\n",
       "  <thead>\n",
       "    <tr style=\"text-align: right;\">\n",
       "      <th></th>\n",
       "      <th>sequence</th>\n",
       "      <th>0</th>\n",
       "      <th>1</th>\n",
       "      <th>2</th>\n",
       "      <th>3</th>\n",
       "      <th>4</th>\n",
       "      <th>5</th>\n",
       "      <th>6</th>\n",
       "      <th>7</th>\n",
       "      <th>8</th>\n",
       "      <th>...</th>\n",
       "      <th>6156</th>\n",
       "      <th>6157</th>\n",
       "      <th>6158</th>\n",
       "      <th>6159</th>\n",
       "      <th>6160</th>\n",
       "      <th>6161</th>\n",
       "      <th>6162</th>\n",
       "      <th>6163</th>\n",
       "      <th>6164</th>\n",
       "      <th>label</th>\n",
       "    </tr>\n",
       "  </thead>\n",
       "  <tbody>\n",
       "    <tr>\n",
       "      <th>0</th>\n",
       "      <td>Protein_seq_0001</td>\n",
       "      <td>0.050000</td>\n",
       "      <td>0.000000</td>\n",
       "      <td>0.000000</td>\n",
       "      <td>0.000000</td>\n",
       "      <td>0.100000</td>\n",
       "      <td>0.0</td>\n",
       "      <td>0.000000</td>\n",
       "      <td>0.000000</td>\n",
       "      <td>0.000000</td>\n",
       "      <td>...</td>\n",
       "      <td>0.008637</td>\n",
       "      <td>-0.018315</td>\n",
       "      <td>-0.000528</td>\n",
       "      <td>0.011046</td>\n",
       "      <td>0.043528</td>\n",
       "      <td>0.095396</td>\n",
       "      <td>0.122163</td>\n",
       "      <td>-0.279304</td>\n",
       "      <td>-0.041722</td>\n",
       "      <td>0</td>\n",
       "    </tr>\n",
       "    <tr>\n",
       "      <th>1</th>\n",
       "      <td>Protein_seq_0002</td>\n",
       "      <td>0.045455</td>\n",
       "      <td>0.045455</td>\n",
       "      <td>0.113636</td>\n",
       "      <td>0.022727</td>\n",
       "      <td>0.136364</td>\n",
       "      <td>0.0</td>\n",
       "      <td>0.045455</td>\n",
       "      <td>0.113636</td>\n",
       "      <td>0.022727</td>\n",
       "      <td>...</td>\n",
       "      <td>-0.050221</td>\n",
       "      <td>0.219214</td>\n",
       "      <td>0.284175</td>\n",
       "      <td>0.040288</td>\n",
       "      <td>-0.111377</td>\n",
       "      <td>0.255813</td>\n",
       "      <td>0.094091</td>\n",
       "      <td>-0.050291</td>\n",
       "      <td>0.624662</td>\n",
       "      <td>0</td>\n",
       "    </tr>\n",
       "    <tr>\n",
       "      <th>...</th>\n",
       "      <td>...</td>\n",
       "      <td>...</td>\n",
       "      <td>...</td>\n",
       "      <td>...</td>\n",
       "      <td>...</td>\n",
       "      <td>...</td>\n",
       "      <td>...</td>\n",
       "      <td>...</td>\n",
       "      <td>...</td>\n",
       "      <td>...</td>\n",
       "      <td>...</td>\n",
       "      <td>...</td>\n",
       "      <td>...</td>\n",
       "      <td>...</td>\n",
       "      <td>...</td>\n",
       "      <td>...</td>\n",
       "      <td>...</td>\n",
       "      <td>...</td>\n",
       "      <td>...</td>\n",
       "      <td>...</td>\n",
       "      <td>...</td>\n",
       "    </tr>\n",
       "    <tr>\n",
       "      <th>342</th>\n",
       "      <td>Protein_seq_0343</td>\n",
       "      <td>0.000000</td>\n",
       "      <td>0.029412</td>\n",
       "      <td>0.088235</td>\n",
       "      <td>0.058824</td>\n",
       "      <td>0.176471</td>\n",
       "      <td>0.0</td>\n",
       "      <td>0.029412</td>\n",
       "      <td>0.029412</td>\n",
       "      <td>0.000000</td>\n",
       "      <td>...</td>\n",
       "      <td>-0.007637</td>\n",
       "      <td>0.231036</td>\n",
       "      <td>0.262570</td>\n",
       "      <td>-0.060898</td>\n",
       "      <td>0.028585</td>\n",
       "      <td>0.204784</td>\n",
       "      <td>0.103657</td>\n",
       "      <td>0.060234</td>\n",
       "      <td>-0.554332</td>\n",
       "      <td>0</td>\n",
       "    </tr>\n",
       "    <tr>\n",
       "      <th>343</th>\n",
       "      <td>Protein_seq_0344</td>\n",
       "      <td>0.066667</td>\n",
       "      <td>0.100000</td>\n",
       "      <td>0.066667</td>\n",
       "      <td>0.033333</td>\n",
       "      <td>0.000000</td>\n",
       "      <td>0.0</td>\n",
       "      <td>0.000000</td>\n",
       "      <td>0.166667</td>\n",
       "      <td>0.033333</td>\n",
       "      <td>...</td>\n",
       "      <td>0.433051</td>\n",
       "      <td>0.012130</td>\n",
       "      <td>0.150403</td>\n",
       "      <td>0.192943</td>\n",
       "      <td>-0.092854</td>\n",
       "      <td>0.164331</td>\n",
       "      <td>-0.017945</td>\n",
       "      <td>-0.012524</td>\n",
       "      <td>-0.037857</td>\n",
       "      <td>1</td>\n",
       "    </tr>\n",
       "  </tbody>\n",
       "</table>\n",
       "<p>344 rows × 6167 columns</p>\n",
       "</div>"
      ],
      "text/plain": [
       "             sequence         0         1         2         3         4    5  \\\n",
       "0    Protein_seq_0001  0.050000  0.000000  0.000000  0.000000  0.100000  0.0   \n",
       "1    Protein_seq_0002  0.045455  0.045455  0.113636  0.022727  0.136364  0.0   \n",
       "..                ...       ...       ...       ...       ...       ...  ...   \n",
       "342  Protein_seq_0343  0.000000  0.029412  0.088235  0.058824  0.176471  0.0   \n",
       "343  Protein_seq_0344  0.066667  0.100000  0.066667  0.033333  0.000000  0.0   \n",
       "\n",
       "            6         7         8  ...      6156      6157      6158  \\\n",
       "0    0.000000  0.000000  0.000000  ...  0.008637 -0.018315 -0.000528   \n",
       "1    0.045455  0.113636  0.022727  ... -0.050221  0.219214  0.284175   \n",
       "..        ...       ...       ...  ...       ...       ...       ...   \n",
       "342  0.029412  0.029412  0.000000  ... -0.007637  0.231036  0.262570   \n",
       "343  0.000000  0.166667  0.033333  ...  0.433051  0.012130  0.150403   \n",
       "\n",
       "         6159      6160      6161      6162      6163      6164  label  \n",
       "0    0.011046  0.043528  0.095396  0.122163 -0.279304 -0.041722      0  \n",
       "1    0.040288 -0.111377  0.255813  0.094091 -0.050291  0.624662      0  \n",
       "..        ...       ...       ...       ...       ...       ...    ...  \n",
       "342 -0.060898  0.028585  0.204784  0.103657  0.060234 -0.554332      0  \n",
       "343  0.192943 -0.092854  0.164331 -0.017945 -0.012524 -0.037857      1  \n",
       "\n",
       "[344 rows x 6167 columns]"
      ]
     },
     "metadata": {},
     "output_type": "display_data"
    }
   ],
   "source": [
    "fu.check_with_df(Xs, ys, sequence_id)"
   ]
  },
  {
   "cell_type": "markdown",
   "id": "05aa019b-d116-43ee-9fc8-f99db827db71",
   "metadata": {
    "tags": []
   },
   "source": [
    "- **Pooling Operation:  `max`**"
   ]
  },
  {
   "cell_type": "markdown",
   "id": "3adfe398-5e80-4371-94ae-6faa5a7d0579",
   "metadata": {},
   "source": [
    "Update arguments and prepare paths"
   ]
  },
  {
   "cell_type": "code",
   "execution_count": 33,
   "id": "6fb59316-b076-42a2-860a-2bba20042d6a",
   "metadata": {
    "execution": {
     "iopub.execute_input": "2022-09-09T16:01:39.384964Z",
     "iopub.status.busy": "2022-09-09T16:01:39.384704Z",
     "iopub.status.idle": "2022-09-09T16:01:39.392349Z",
     "shell.execute_reply": "2022-09-09T16:01:39.391537Z",
     "shell.execute_reply.started": "2022-09-09T16:01:39.384944Z"
    },
    "tags": []
   },
   "outputs": [
    {
     "name": "stdout",
     "output_type": "stream",
     "text": [
      " ../data/acp/test_data.fa \n",
      " ../data/acp/prose/test/acp_test_mt_max\n"
     ]
    }
   ],
   "source": [
    "# Update arguments\n",
    "pool = 'max'\n",
    "# Prepare paths\n",
    "path_pt, _, path_fa = fu.file_paths(ptmodel, task, file_base, model, pool)\n",
    "print('', path_fa, '\\n', path_pt)"
   ]
  },
  {
   "cell_type": "markdown",
   "id": "11079f24-b484-4cc4-aab2-2b970ee52a17",
   "metadata": {},
   "source": [
    "Extract embeddings with `read_embedings` function."
   ]
  },
  {
   "cell_type": "code",
   "execution_count": 34,
   "id": "785a51dc-440a-4b8e-9034-ce840c7f63b7",
   "metadata": {
    "execution": {
     "iopub.execute_input": "2022-09-09T16:01:50.703556Z",
     "iopub.status.busy": "2022-09-09T16:01:50.703290Z",
     "iopub.status.idle": "2022-09-09T16:01:54.669065Z",
     "shell.execute_reply": "2022-09-09T16:01:54.668000Z",
     "shell.execute_reply.started": "2022-09-09T16:01:50.703535Z"
    },
    "tags": []
   },
   "outputs": [
    {
     "name": "stdout",
     "output_type": "stream",
     "text": [
      "Shape of embeddings: \t\t(344, 6165)\n",
      "Length of target label list:\t344\n",
      "Length of sequential ids list:\t344\n"
     ]
    }
   ],
   "source": [
    "Xs, ys, sequence_id = fu.read_embeddings(path_fa, path_pt, pool, emb_layer)"
   ]
  },
  {
   "cell_type": "markdown",
   "id": "2c803456-ee47-4ab9-a935-e081296bbfdf",
   "metadata": {},
   "source": [
    "Check our data with `check_with_df` function."
   ]
  },
  {
   "cell_type": "code",
   "execution_count": 35,
   "id": "c819f87b-ee24-44a6-bfc8-a5ce9119fcb3",
   "metadata": {
    "execution": {
     "iopub.execute_input": "2022-09-09T16:02:15.155757Z",
     "iopub.status.busy": "2022-09-09T16:02:15.155461Z",
     "iopub.status.idle": "2022-09-09T16:02:15.183649Z",
     "shell.execute_reply": "2022-09-09T16:02:15.182497Z",
     "shell.execute_reply.started": "2022-09-09T16:02:15.155736Z"
    },
    "tags": []
   },
   "outputs": [
    {
     "data": {
      "text/html": [
       "<div>\n",
       "<style scoped>\n",
       "    .dataframe tbody tr th:only-of-type {\n",
       "        vertical-align: middle;\n",
       "    }\n",
       "\n",
       "    .dataframe tbody tr th {\n",
       "        vertical-align: top;\n",
       "    }\n",
       "\n",
       "    .dataframe thead th {\n",
       "        text-align: right;\n",
       "    }\n",
       "</style>\n",
       "<table border=\"1\" class=\"dataframe\">\n",
       "  <thead>\n",
       "    <tr style=\"text-align: right;\">\n",
       "      <th></th>\n",
       "      <th>sequence</th>\n",
       "      <th>0</th>\n",
       "      <th>1</th>\n",
       "      <th>2</th>\n",
       "      <th>3</th>\n",
       "      <th>4</th>\n",
       "      <th>5</th>\n",
       "      <th>6</th>\n",
       "      <th>7</th>\n",
       "      <th>8</th>\n",
       "      <th>...</th>\n",
       "      <th>6156</th>\n",
       "      <th>6157</th>\n",
       "      <th>6158</th>\n",
       "      <th>6159</th>\n",
       "      <th>6160</th>\n",
       "      <th>6161</th>\n",
       "      <th>6162</th>\n",
       "      <th>6163</th>\n",
       "      <th>6164</th>\n",
       "      <th>label</th>\n",
       "    </tr>\n",
       "  </thead>\n",
       "  <tbody>\n",
       "    <tr>\n",
       "      <th>0</th>\n",
       "      <td>Protein_seq_0001</td>\n",
       "      <td>1.0</td>\n",
       "      <td>0.0</td>\n",
       "      <td>0.0</td>\n",
       "      <td>0.0</td>\n",
       "      <td>1.0</td>\n",
       "      <td>0.0</td>\n",
       "      <td>0.0</td>\n",
       "      <td>0.0</td>\n",
       "      <td>0.0</td>\n",
       "      <td>...</td>\n",
       "      <td>0.110451</td>\n",
       "      <td>0.049564</td>\n",
       "      <td>0.088130</td>\n",
       "      <td>0.053263</td>\n",
       "      <td>0.444589</td>\n",
       "      <td>0.316590</td>\n",
       "      <td>0.345659</td>\n",
       "      <td>-0.037727</td>\n",
       "      <td>0.191679</td>\n",
       "      <td>0</td>\n",
       "    </tr>\n",
       "    <tr>\n",
       "      <th>1</th>\n",
       "      <td>Protein_seq_0002</td>\n",
       "      <td>1.0</td>\n",
       "      <td>1.0</td>\n",
       "      <td>1.0</td>\n",
       "      <td>1.0</td>\n",
       "      <td>1.0</td>\n",
       "      <td>0.0</td>\n",
       "      <td>1.0</td>\n",
       "      <td>1.0</td>\n",
       "      <td>1.0</td>\n",
       "      <td>...</td>\n",
       "      <td>0.360737</td>\n",
       "      <td>0.878113</td>\n",
       "      <td>0.999674</td>\n",
       "      <td>0.739617</td>\n",
       "      <td>0.690238</td>\n",
       "      <td>0.998892</td>\n",
       "      <td>0.640663</td>\n",
       "      <td>-0.002014</td>\n",
       "      <td>0.999404</td>\n",
       "      <td>0</td>\n",
       "    </tr>\n",
       "    <tr>\n",
       "      <th>...</th>\n",
       "      <td>...</td>\n",
       "      <td>...</td>\n",
       "      <td>...</td>\n",
       "      <td>...</td>\n",
       "      <td>...</td>\n",
       "      <td>...</td>\n",
       "      <td>...</td>\n",
       "      <td>...</td>\n",
       "      <td>...</td>\n",
       "      <td>...</td>\n",
       "      <td>...</td>\n",
       "      <td>...</td>\n",
       "      <td>...</td>\n",
       "      <td>...</td>\n",
       "      <td>...</td>\n",
       "      <td>...</td>\n",
       "      <td>...</td>\n",
       "      <td>...</td>\n",
       "      <td>...</td>\n",
       "      <td>...</td>\n",
       "      <td>...</td>\n",
       "    </tr>\n",
       "    <tr>\n",
       "      <th>342</th>\n",
       "      <td>Protein_seq_0343</td>\n",
       "      <td>0.0</td>\n",
       "      <td>1.0</td>\n",
       "      <td>1.0</td>\n",
       "      <td>1.0</td>\n",
       "      <td>1.0</td>\n",
       "      <td>0.0</td>\n",
       "      <td>1.0</td>\n",
       "      <td>1.0</td>\n",
       "      <td>0.0</td>\n",
       "      <td>...</td>\n",
       "      <td>0.474195</td>\n",
       "      <td>0.916303</td>\n",
       "      <td>0.975597</td>\n",
       "      <td>0.788543</td>\n",
       "      <td>0.689950</td>\n",
       "      <td>0.921763</td>\n",
       "      <td>0.774353</td>\n",
       "      <td>0.271772</td>\n",
       "      <td>0.159036</td>\n",
       "      <td>0</td>\n",
       "    </tr>\n",
       "    <tr>\n",
       "      <th>343</th>\n",
       "      <td>Protein_seq_0344</td>\n",
       "      <td>1.0</td>\n",
       "      <td>1.0</td>\n",
       "      <td>1.0</td>\n",
       "      <td>1.0</td>\n",
       "      <td>0.0</td>\n",
       "      <td>0.0</td>\n",
       "      <td>0.0</td>\n",
       "      <td>1.0</td>\n",
       "      <td>1.0</td>\n",
       "      <td>...</td>\n",
       "      <td>0.704793</td>\n",
       "      <td>0.217215</td>\n",
       "      <td>0.449781</td>\n",
       "      <td>0.718158</td>\n",
       "      <td>0.324645</td>\n",
       "      <td>0.849167</td>\n",
       "      <td>0.006671</td>\n",
       "      <td>0.002739</td>\n",
       "      <td>0.033046</td>\n",
       "      <td>1</td>\n",
       "    </tr>\n",
       "  </tbody>\n",
       "</table>\n",
       "<p>344 rows × 6167 columns</p>\n",
       "</div>"
      ],
      "text/plain": [
       "             sequence    0    1    2    3    4    5    6    7    8  ...  \\\n",
       "0    Protein_seq_0001  1.0  0.0  0.0  0.0  1.0  0.0  0.0  0.0  0.0  ...   \n",
       "1    Protein_seq_0002  1.0  1.0  1.0  1.0  1.0  0.0  1.0  1.0  1.0  ...   \n",
       "..                ...  ...  ...  ...  ...  ...  ...  ...  ...  ...  ...   \n",
       "342  Protein_seq_0343  0.0  1.0  1.0  1.0  1.0  0.0  1.0  1.0  0.0  ...   \n",
       "343  Protein_seq_0344  1.0  1.0  1.0  1.0  0.0  0.0  0.0  1.0  1.0  ...   \n",
       "\n",
       "         6156      6157      6158      6159      6160      6161      6162  \\\n",
       "0    0.110451  0.049564  0.088130  0.053263  0.444589  0.316590  0.345659   \n",
       "1    0.360737  0.878113  0.999674  0.739617  0.690238  0.998892  0.640663   \n",
       "..        ...       ...       ...       ...       ...       ...       ...   \n",
       "342  0.474195  0.916303  0.975597  0.788543  0.689950  0.921763  0.774353   \n",
       "343  0.704793  0.217215  0.449781  0.718158  0.324645  0.849167  0.006671   \n",
       "\n",
       "         6163      6164  label  \n",
       "0   -0.037727  0.191679      0  \n",
       "1   -0.002014  0.999404      0  \n",
       "..        ...       ...    ...  \n",
       "342  0.271772  0.159036      0  \n",
       "343  0.002739  0.033046      1  \n",
       "\n",
       "[344 rows x 6167 columns]"
      ]
     },
     "metadata": {},
     "output_type": "display_data"
    }
   ],
   "source": [
    "fu.check_with_df(Xs, ys, sequence_id)"
   ]
  },
  {
   "cell_type": "markdown",
   "id": "57cf5a2d-50a6-4721-b7f0-f39b99a0b5cf",
   "metadata": {
    "tags": []
   },
   "source": [
    "- **Pooling Operation:  `sum`**"
   ]
  },
  {
   "cell_type": "markdown",
   "id": "5991b365-0986-49cf-9ad9-c57fbd4b3c6a",
   "metadata": {},
   "source": [
    "Update arguments and prepare paths"
   ]
  },
  {
   "cell_type": "code",
   "execution_count": 36,
   "id": "0e0c6edb-56ef-4d95-8159-36c2c232ff92",
   "metadata": {
    "execution": {
     "iopub.execute_input": "2022-09-09T16:03:00.131156Z",
     "iopub.status.busy": "2022-09-09T16:03:00.130864Z",
     "iopub.status.idle": "2022-09-09T16:03:00.138335Z",
     "shell.execute_reply": "2022-09-09T16:03:00.137489Z",
     "shell.execute_reply.started": "2022-09-09T16:03:00.131136Z"
    },
    "tags": []
   },
   "outputs": [
    {
     "name": "stdout",
     "output_type": "stream",
     "text": [
      " ../data/acp/test_data.fa \n",
      " ../data/acp/prose/test/acp_test_mt_sum\n"
     ]
    }
   ],
   "source": [
    "# Update arguments\n",
    "pool = 'sum'\n",
    "# Prepare paths\n",
    "path_pt, _, path_fa = fu.file_paths(ptmodel, task, file_base, model, pool)\n",
    "print('', path_fa, '\\n', path_pt)"
   ]
  },
  {
   "cell_type": "markdown",
   "id": "8b5f2a2e-cb74-47d1-ac95-783e0ea68f20",
   "metadata": {},
   "source": [
    "Extract embeddings with `read_embedings` function."
   ]
  },
  {
   "cell_type": "code",
   "execution_count": 37,
   "id": "d211c2ef-80dc-42dc-afff-aa1ae823be7b",
   "metadata": {
    "execution": {
     "iopub.execute_input": "2022-09-09T16:03:07.015444Z",
     "iopub.status.busy": "2022-09-09T16:03:07.015173Z",
     "iopub.status.idle": "2022-09-09T16:03:10.906255Z",
     "shell.execute_reply": "2022-09-09T16:03:10.905436Z",
     "shell.execute_reply.started": "2022-09-09T16:03:07.015424Z"
    },
    "tags": []
   },
   "outputs": [
    {
     "name": "stdout",
     "output_type": "stream",
     "text": [
      "Shape of embeddings: \t\t(344, 6165)\n",
      "Length of target label list:\t344\n",
      "Length of sequential ids list:\t344\n"
     ]
    }
   ],
   "source": [
    "Xs, ys, sequence_id = fu.read_embeddings(path_fa, path_pt, pool, emb_layer)"
   ]
  },
  {
   "cell_type": "markdown",
   "id": "97382270-dc29-4824-b13a-7521f281ba41",
   "metadata": {},
   "source": [
    "Check our data with `check_with_df` function."
   ]
  },
  {
   "cell_type": "code",
   "execution_count": 38,
   "id": "679e9338-6815-4052-b7fe-cd029bf1ff72",
   "metadata": {
    "execution": {
     "iopub.execute_input": "2022-09-09T16:03:21.504839Z",
     "iopub.status.busy": "2022-09-09T16:03:21.504538Z",
     "iopub.status.idle": "2022-09-09T16:03:21.531817Z",
     "shell.execute_reply": "2022-09-09T16:03:21.531047Z",
     "shell.execute_reply.started": "2022-09-09T16:03:21.504818Z"
    },
    "tags": []
   },
   "outputs": [
    {
     "data": {
      "text/html": [
       "<div>\n",
       "<style scoped>\n",
       "    .dataframe tbody tr th:only-of-type {\n",
       "        vertical-align: middle;\n",
       "    }\n",
       "\n",
       "    .dataframe tbody tr th {\n",
       "        vertical-align: top;\n",
       "    }\n",
       "\n",
       "    .dataframe thead th {\n",
       "        text-align: right;\n",
       "    }\n",
       "</style>\n",
       "<table border=\"1\" class=\"dataframe\">\n",
       "  <thead>\n",
       "    <tr style=\"text-align: right;\">\n",
       "      <th></th>\n",
       "      <th>sequence</th>\n",
       "      <th>0</th>\n",
       "      <th>1</th>\n",
       "      <th>2</th>\n",
       "      <th>3</th>\n",
       "      <th>4</th>\n",
       "      <th>5</th>\n",
       "      <th>6</th>\n",
       "      <th>7</th>\n",
       "      <th>8</th>\n",
       "      <th>...</th>\n",
       "      <th>6156</th>\n",
       "      <th>6157</th>\n",
       "      <th>6158</th>\n",
       "      <th>6159</th>\n",
       "      <th>6160</th>\n",
       "      <th>6161</th>\n",
       "      <th>6162</th>\n",
       "      <th>6163</th>\n",
       "      <th>6164</th>\n",
       "      <th>label</th>\n",
       "    </tr>\n",
       "  </thead>\n",
       "  <tbody>\n",
       "    <tr>\n",
       "      <th>0</th>\n",
       "      <td>Protein_seq_0001</td>\n",
       "      <td>1.0</td>\n",
       "      <td>0.0</td>\n",
       "      <td>0.0</td>\n",
       "      <td>0.0</td>\n",
       "      <td>2.0</td>\n",
       "      <td>0.0</td>\n",
       "      <td>0.0</td>\n",
       "      <td>0.0</td>\n",
       "      <td>0.0</td>\n",
       "      <td>...</td>\n",
       "      <td>0.172748</td>\n",
       "      <td>-0.366306</td>\n",
       "      <td>-0.010552</td>\n",
       "      <td>0.220912</td>\n",
       "      <td>0.870551</td>\n",
       "      <td>1.907911</td>\n",
       "      <td>2.443265</td>\n",
       "      <td>-5.586086</td>\n",
       "      <td>-0.834441</td>\n",
       "      <td>0</td>\n",
       "    </tr>\n",
       "    <tr>\n",
       "      <th>1</th>\n",
       "      <td>Protein_seq_0002</td>\n",
       "      <td>2.0</td>\n",
       "      <td>2.0</td>\n",
       "      <td>5.0</td>\n",
       "      <td>1.0</td>\n",
       "      <td>6.0</td>\n",
       "      <td>0.0</td>\n",
       "      <td>2.0</td>\n",
       "      <td>5.0</td>\n",
       "      <td>1.0</td>\n",
       "      <td>...</td>\n",
       "      <td>-2.209705</td>\n",
       "      <td>9.645418</td>\n",
       "      <td>12.503687</td>\n",
       "      <td>1.772668</td>\n",
       "      <td>-4.900606</td>\n",
       "      <td>11.255764</td>\n",
       "      <td>4.140015</td>\n",
       "      <td>-2.212802</td>\n",
       "      <td>27.485130</td>\n",
       "      <td>0</td>\n",
       "    </tr>\n",
       "    <tr>\n",
       "      <th>...</th>\n",
       "      <td>...</td>\n",
       "      <td>...</td>\n",
       "      <td>...</td>\n",
       "      <td>...</td>\n",
       "      <td>...</td>\n",
       "      <td>...</td>\n",
       "      <td>...</td>\n",
       "      <td>...</td>\n",
       "      <td>...</td>\n",
       "      <td>...</td>\n",
       "      <td>...</td>\n",
       "      <td>...</td>\n",
       "      <td>...</td>\n",
       "      <td>...</td>\n",
       "      <td>...</td>\n",
       "      <td>...</td>\n",
       "      <td>...</td>\n",
       "      <td>...</td>\n",
       "      <td>...</td>\n",
       "      <td>...</td>\n",
       "      <td>...</td>\n",
       "    </tr>\n",
       "    <tr>\n",
       "      <th>342</th>\n",
       "      <td>Protein_seq_0343</td>\n",
       "      <td>0.0</td>\n",
       "      <td>1.0</td>\n",
       "      <td>3.0</td>\n",
       "      <td>2.0</td>\n",
       "      <td>6.0</td>\n",
       "      <td>0.0</td>\n",
       "      <td>1.0</td>\n",
       "      <td>1.0</td>\n",
       "      <td>0.0</td>\n",
       "      <td>...</td>\n",
       "      <td>-0.259670</td>\n",
       "      <td>7.855216</td>\n",
       "      <td>8.927393</td>\n",
       "      <td>-2.070531</td>\n",
       "      <td>0.971876</td>\n",
       "      <td>6.962669</td>\n",
       "      <td>3.524337</td>\n",
       "      <td>2.047955</td>\n",
       "      <td>-18.847296</td>\n",
       "      <td>0</td>\n",
       "    </tr>\n",
       "    <tr>\n",
       "      <th>343</th>\n",
       "      <td>Protein_seq_0344</td>\n",
       "      <td>2.0</td>\n",
       "      <td>3.0</td>\n",
       "      <td>2.0</td>\n",
       "      <td>1.0</td>\n",
       "      <td>0.0</td>\n",
       "      <td>0.0</td>\n",
       "      <td>0.0</td>\n",
       "      <td>5.0</td>\n",
       "      <td>1.0</td>\n",
       "      <td>...</td>\n",
       "      <td>12.991516</td>\n",
       "      <td>0.363910</td>\n",
       "      <td>4.512089</td>\n",
       "      <td>5.788303</td>\n",
       "      <td>-2.785632</td>\n",
       "      <td>4.929940</td>\n",
       "      <td>-0.538359</td>\n",
       "      <td>-0.375729</td>\n",
       "      <td>-1.135704</td>\n",
       "      <td>1</td>\n",
       "    </tr>\n",
       "  </tbody>\n",
       "</table>\n",
       "<p>344 rows × 6167 columns</p>\n",
       "</div>"
      ],
      "text/plain": [
       "             sequence    0    1    2    3    4    5    6    7    8  ...  \\\n",
       "0    Protein_seq_0001  1.0  0.0  0.0  0.0  2.0  0.0  0.0  0.0  0.0  ...   \n",
       "1    Protein_seq_0002  2.0  2.0  5.0  1.0  6.0  0.0  2.0  5.0  1.0  ...   \n",
       "..                ...  ...  ...  ...  ...  ...  ...  ...  ...  ...  ...   \n",
       "342  Protein_seq_0343  0.0  1.0  3.0  2.0  6.0  0.0  1.0  1.0  0.0  ...   \n",
       "343  Protein_seq_0344  2.0  3.0  2.0  1.0  0.0  0.0  0.0  5.0  1.0  ...   \n",
       "\n",
       "          6156      6157       6158      6159      6160       6161      6162  \\\n",
       "0     0.172748 -0.366306  -0.010552  0.220912  0.870551   1.907911  2.443265   \n",
       "1    -2.209705  9.645418  12.503687  1.772668 -4.900606  11.255764  4.140015   \n",
       "..         ...       ...        ...       ...       ...        ...       ...   \n",
       "342  -0.259670  7.855216   8.927393 -2.070531  0.971876   6.962669  3.524337   \n",
       "343  12.991516  0.363910   4.512089  5.788303 -2.785632   4.929940 -0.538359   \n",
       "\n",
       "         6163       6164  label  \n",
       "0   -5.586086  -0.834441      0  \n",
       "1   -2.212802  27.485130      0  \n",
       "..        ...        ...    ...  \n",
       "342  2.047955 -18.847296      0  \n",
       "343 -0.375729  -1.135704      1  \n",
       "\n",
       "[344 rows x 6167 columns]"
      ]
     },
     "metadata": {},
     "output_type": "display_data"
    }
   ],
   "source": [
    "fu.check_with_df(Xs, ys, sequence_id)"
   ]
  },
  {
   "cell_type": "markdown",
   "id": "11ca4896-fd39-4ed4-94fa-62910a673856",
   "metadata": {},
   "source": [
    "## ESM embeddings\n"
   ]
  },
  {
   "cell_type": "markdown",
   "id": "fec0ad7a-4b2b-4f89-8abd-5f27ea199977",
   "metadata": {},
   "source": [
    "## Train Dataset"
   ]
  },
  {
   "cell_type": "markdown",
   "id": "0117c935-e40d-42c9-b2a9-e8ba41473e62",
   "metadata": {},
   "source": [
    "### ESM ESM-1v model - esm1v_t33_650M_UR90S_1"
   ]
  },
  {
   "cell_type": "markdown",
   "id": "891590de-2e9d-4fd3-9298-7ce9832547d9",
   "metadata": {
    "tags": []
   },
   "source": [
    "#### Pooling Operation:  `mean`"
   ]
  },
  {
   "cell_type": "markdown",
   "id": "a893a64f-6795-40bd-a42d-dbe315400f93",
   "metadata": {},
   "source": [
    "Update arguments and prepare paths"
   ]
  },
  {
   "cell_type": "code",
   "execution_count": 41,
   "id": "dbb7418a-1779-4f2e-8fd1-771442bd88a8",
   "metadata": {
    "execution": {
     "iopub.execute_input": "2022-09-09T17:22:02.036714Z",
     "iopub.status.busy": "2022-09-09T17:22:02.036461Z",
     "iopub.status.idle": "2022-09-09T17:22:02.044661Z",
     "shell.execute_reply": "2022-09-09T17:22:02.043674Z",
     "shell.execute_reply.started": "2022-09-09T17:22:02.036695Z"
    },
    "tags": []
   },
   "outputs": [
    {
     "name": "stdout",
     "output_type": "stream",
     "text": [
      " ../data/acp/train_data.fa \n",
      " ../data/acp/esm/train/acp_train_esm1v_mean\n"
     ]
    }
   ],
   "source": [
    "# Update arguments\n",
    "ptmodel = 'esm'\n",
    "file_base = 'train'\n",
    "model = 'esm1v_t33_650M_UR90S_1'\n",
    "emb_layer = 33\n",
    "pool = 'mean'  \n",
    "# Prepare paths\n",
    "path_pt, _, path_fa = fu.file_paths(ptmodel, task, file_base, model, pool)\n",
    "print('', path_fa, '\\n', path_pt)"
   ]
  },
  {
   "cell_type": "markdown",
   "id": "02d220e3-7201-4659-abec-da00ab720caf",
   "metadata": {},
   "source": [
    "Extract embeddings with `read_embedings` function."
   ]
  },
  {
   "cell_type": "code",
   "execution_count": 42,
   "id": "7ed112bf-0d88-4885-bf99-79c1408b85a6",
   "metadata": {
    "execution": {
     "iopub.execute_input": "2022-09-09T17:22:28.019907Z",
     "iopub.status.busy": "2022-09-09T17:22:28.019007Z",
     "iopub.status.idle": "2022-09-09T17:22:43.067205Z",
     "shell.execute_reply": "2022-09-09T17:22:43.066442Z",
     "shell.execute_reply.started": "2022-09-09T17:22:28.019883Z"
    },
    "tags": []
   },
   "outputs": [
    {
     "name": "stdout",
     "output_type": "stream",
     "text": [
      "Shape of embeddings: \t\t(1378, 1280)\n",
      "Length of target label list:\t1378\n",
      "Length of sequential ids list:\t1378\n"
     ]
    }
   ],
   "source": [
    "Xs, ys, sequence_id = fu.read_embeddings(path_fa, path_pt, pool, emb_layer)"
   ]
  },
  {
   "cell_type": "markdown",
   "id": "75c52b33-6d7a-4df8-8935-2e5538385cae",
   "metadata": {},
   "source": [
    "Check our data with `check_with_df` function."
   ]
  },
  {
   "cell_type": "code",
   "execution_count": 43,
   "id": "04579c32-2ee4-470d-b719-31ed3cfc166d",
   "metadata": {
    "execution": {
     "iopub.execute_input": "2022-09-09T17:23:27.880334Z",
     "iopub.status.busy": "2022-09-09T17:23:27.880065Z",
     "iopub.status.idle": "2022-09-09T17:23:27.906343Z",
     "shell.execute_reply": "2022-09-09T17:23:27.905594Z",
     "shell.execute_reply.started": "2022-09-09T17:23:27.880315Z"
    },
    "tags": []
   },
   "outputs": [
    {
     "data": {
      "text/html": [
       "<div>\n",
       "<style scoped>\n",
       "    .dataframe tbody tr th:only-of-type {\n",
       "        vertical-align: middle;\n",
       "    }\n",
       "\n",
       "    .dataframe tbody tr th {\n",
       "        vertical-align: top;\n",
       "    }\n",
       "\n",
       "    .dataframe thead th {\n",
       "        text-align: right;\n",
       "    }\n",
       "</style>\n",
       "<table border=\"1\" class=\"dataframe\">\n",
       "  <thead>\n",
       "    <tr style=\"text-align: right;\">\n",
       "      <th></th>\n",
       "      <th>sequence</th>\n",
       "      <th>0</th>\n",
       "      <th>1</th>\n",
       "      <th>2</th>\n",
       "      <th>3</th>\n",
       "      <th>4</th>\n",
       "      <th>5</th>\n",
       "      <th>6</th>\n",
       "      <th>7</th>\n",
       "      <th>8</th>\n",
       "      <th>...</th>\n",
       "      <th>1271</th>\n",
       "      <th>1272</th>\n",
       "      <th>1273</th>\n",
       "      <th>1274</th>\n",
       "      <th>1275</th>\n",
       "      <th>1276</th>\n",
       "      <th>1277</th>\n",
       "      <th>1278</th>\n",
       "      <th>1279</th>\n",
       "      <th>label</th>\n",
       "    </tr>\n",
       "  </thead>\n",
       "  <tbody>\n",
       "    <tr>\n",
       "      <th>0</th>\n",
       "      <td>Protein_seq_0001</td>\n",
       "      <td>-0.138126</td>\n",
       "      <td>-0.055445</td>\n",
       "      <td>-0.347316</td>\n",
       "      <td>-0.112959</td>\n",
       "      <td>-0.480035</td>\n",
       "      <td>0.491782</td>\n",
       "      <td>0.036463</td>\n",
       "      <td>-0.483421</td>\n",
       "      <td>0.331314</td>\n",
       "      <td>...</td>\n",
       "      <td>0.254845</td>\n",
       "      <td>0.156322</td>\n",
       "      <td>-0.107048</td>\n",
       "      <td>-0.020280</td>\n",
       "      <td>0.090806</td>\n",
       "      <td>-0.086318</td>\n",
       "      <td>-0.391517</td>\n",
       "      <td>0.093338</td>\n",
       "      <td>0.216391</td>\n",
       "      <td>0</td>\n",
       "    </tr>\n",
       "    <tr>\n",
       "      <th>1</th>\n",
       "      <td>Protein_seq_0002</td>\n",
       "      <td>0.075502</td>\n",
       "      <td>-0.189331</td>\n",
       "      <td>-0.183814</td>\n",
       "      <td>-0.048120</td>\n",
       "      <td>-0.571827</td>\n",
       "      <td>0.303221</td>\n",
       "      <td>0.303297</td>\n",
       "      <td>-0.116944</td>\n",
       "      <td>0.021927</td>\n",
       "      <td>...</td>\n",
       "      <td>-0.073445</td>\n",
       "      <td>0.039713</td>\n",
       "      <td>-0.011428</td>\n",
       "      <td>-0.048105</td>\n",
       "      <td>-0.040856</td>\n",
       "      <td>0.033303</td>\n",
       "      <td>-0.210972</td>\n",
       "      <td>0.296037</td>\n",
       "      <td>0.002197</td>\n",
       "      <td>0</td>\n",
       "    </tr>\n",
       "    <tr>\n",
       "      <th>...</th>\n",
       "      <td>...</td>\n",
       "      <td>...</td>\n",
       "      <td>...</td>\n",
       "      <td>...</td>\n",
       "      <td>...</td>\n",
       "      <td>...</td>\n",
       "      <td>...</td>\n",
       "      <td>...</td>\n",
       "      <td>...</td>\n",
       "      <td>...</td>\n",
       "      <td>...</td>\n",
       "      <td>...</td>\n",
       "      <td>...</td>\n",
       "      <td>...</td>\n",
       "      <td>...</td>\n",
       "      <td>...</td>\n",
       "      <td>...</td>\n",
       "      <td>...</td>\n",
       "      <td>...</td>\n",
       "      <td>...</td>\n",
       "      <td>...</td>\n",
       "    </tr>\n",
       "    <tr>\n",
       "      <th>1376</th>\n",
       "      <td>Protein_seq_1377</td>\n",
       "      <td>-0.001074</td>\n",
       "      <td>-0.035816</td>\n",
       "      <td>-0.038935</td>\n",
       "      <td>-0.082159</td>\n",
       "      <td>-0.919749</td>\n",
       "      <td>0.248961</td>\n",
       "      <td>0.149405</td>\n",
       "      <td>-0.195072</td>\n",
       "      <td>0.078797</td>\n",
       "      <td>...</td>\n",
       "      <td>0.111134</td>\n",
       "      <td>-0.016999</td>\n",
       "      <td>-0.357851</td>\n",
       "      <td>-0.063481</td>\n",
       "      <td>-0.047024</td>\n",
       "      <td>-0.197977</td>\n",
       "      <td>-0.235286</td>\n",
       "      <td>0.000254</td>\n",
       "      <td>0.105499</td>\n",
       "      <td>1</td>\n",
       "    </tr>\n",
       "    <tr>\n",
       "      <th>1377</th>\n",
       "      <td>Protein_seq_1378</td>\n",
       "      <td>-0.272645</td>\n",
       "      <td>0.294362</td>\n",
       "      <td>-0.213407</td>\n",
       "      <td>0.048606</td>\n",
       "      <td>-0.403573</td>\n",
       "      <td>0.172892</td>\n",
       "      <td>-0.038970</td>\n",
       "      <td>-0.254383</td>\n",
       "      <td>0.015924</td>\n",
       "      <td>...</td>\n",
       "      <td>0.311809</td>\n",
       "      <td>0.027571</td>\n",
       "      <td>-0.398911</td>\n",
       "      <td>-0.062097</td>\n",
       "      <td>0.012328</td>\n",
       "      <td>-0.061342</td>\n",
       "      <td>-0.361377</td>\n",
       "      <td>-0.014396</td>\n",
       "      <td>0.162779</td>\n",
       "      <td>0</td>\n",
       "    </tr>\n",
       "  </tbody>\n",
       "</table>\n",
       "<p>1378 rows × 1282 columns</p>\n",
       "</div>"
      ],
      "text/plain": [
       "              sequence         0         1         2         3         4  \\\n",
       "0     Protein_seq_0001 -0.138126 -0.055445 -0.347316 -0.112959 -0.480035   \n",
       "1     Protein_seq_0002  0.075502 -0.189331 -0.183814 -0.048120 -0.571827   \n",
       "...                ...       ...       ...       ...       ...       ...   \n",
       "1376  Protein_seq_1377 -0.001074 -0.035816 -0.038935 -0.082159 -0.919749   \n",
       "1377  Protein_seq_1378 -0.272645  0.294362 -0.213407  0.048606 -0.403573   \n",
       "\n",
       "             5         6         7         8  ...      1271      1272  \\\n",
       "0     0.491782  0.036463 -0.483421  0.331314  ...  0.254845  0.156322   \n",
       "1     0.303221  0.303297 -0.116944  0.021927  ... -0.073445  0.039713   \n",
       "...        ...       ...       ...       ...  ...       ...       ...   \n",
       "1376  0.248961  0.149405 -0.195072  0.078797  ...  0.111134 -0.016999   \n",
       "1377  0.172892 -0.038970 -0.254383  0.015924  ...  0.311809  0.027571   \n",
       "\n",
       "          1273      1274      1275      1276      1277      1278      1279  \\\n",
       "0    -0.107048 -0.020280  0.090806 -0.086318 -0.391517  0.093338  0.216391   \n",
       "1    -0.011428 -0.048105 -0.040856  0.033303 -0.210972  0.296037  0.002197   \n",
       "...        ...       ...       ...       ...       ...       ...       ...   \n",
       "1376 -0.357851 -0.063481 -0.047024 -0.197977 -0.235286  0.000254  0.105499   \n",
       "1377 -0.398911 -0.062097  0.012328 -0.061342 -0.361377 -0.014396  0.162779   \n",
       "\n",
       "      label  \n",
       "0         0  \n",
       "1         0  \n",
       "...     ...  \n",
       "1376      1  \n",
       "1377      0  \n",
       "\n",
       "[1378 rows x 1282 columns]"
      ]
     },
     "metadata": {},
     "output_type": "display_data"
    }
   ],
   "source": [
    "fu.check_with_df(Xs, ys, sequence_id)"
   ]
  },
  {
   "cell_type": "markdown",
   "id": "53e10fbf-3458-4ebd-a38b-6449e1c6c946",
   "metadata": {},
   "source": [
    "<br>\n",
    "\n",
    "### ESM ESM-1b model - esm1b_t33_650M_UR50S"
   ]
  },
  {
   "cell_type": "markdown",
   "id": "1c8dd07a-fb81-49f0-a7d1-77ad07c14e53",
   "metadata": {},
   "source": [
    "Update arguments and prepare paths"
   ]
  },
  {
   "cell_type": "code",
   "execution_count": 44,
   "id": "8048205f-636e-4136-a2d9-0ee2a791970c",
   "metadata": {
    "execution": {
     "iopub.execute_input": "2022-09-09T17:24:54.332251Z",
     "iopub.status.busy": "2022-09-09T17:24:54.331978Z",
     "iopub.status.idle": "2022-09-09T17:24:54.340133Z",
     "shell.execute_reply": "2022-09-09T17:24:54.339433Z",
     "shell.execute_reply.started": "2022-09-09T17:24:54.332230Z"
    },
    "tags": []
   },
   "outputs": [
    {
     "name": "stdout",
     "output_type": "stream",
     "text": [
      " ../data/acp/train_data.fa \n",
      " ../data/acp/esm/train/acp_train_esm1b_mean\n"
     ]
    }
   ],
   "source": [
    "# Update arguments\n",
    "model = 'esm1b_t33_650M_UR50S' \n",
    "# Prepare paths\n",
    "path_pt, _, path_fa = fu.file_paths(ptmodel, task, file_base, model, pool)\n",
    "print('', path_fa, '\\n', path_pt)"
   ]
  },
  {
   "cell_type": "markdown",
   "id": "c0525bad-c53d-4bc1-ac39-26aeb5e07206",
   "metadata": {},
   "source": [
    "Extract embeddings with `read_embedings` function."
   ]
  },
  {
   "cell_type": "code",
   "execution_count": 45,
   "id": "31df7d1a-b7a9-4d80-b4e2-a00a3baa1a50",
   "metadata": {
    "execution": {
     "iopub.execute_input": "2022-09-09T17:25:22.541821Z",
     "iopub.status.busy": "2022-09-09T17:25:22.541544Z",
     "iopub.status.idle": "2022-09-09T17:25:38.535895Z",
     "shell.execute_reply": "2022-09-09T17:25:38.535059Z",
     "shell.execute_reply.started": "2022-09-09T17:25:22.541799Z"
    },
    "tags": []
   },
   "outputs": [
    {
     "name": "stdout",
     "output_type": "stream",
     "text": [
      "Shape of embeddings: \t\t(1378, 1280)\n",
      "Length of target label list:\t1378\n",
      "Length of sequential ids list:\t1378\n"
     ]
    }
   ],
   "source": [
    "Xs, ys, sequence_id = fu.read_embeddings(path_fa, path_pt, pool, emb_layer)"
   ]
  },
  {
   "cell_type": "markdown",
   "id": "2e7b5bb7-bc28-4db6-9c84-0441ffc8de32",
   "metadata": {},
   "source": [
    "Check our data with `check_with_df` function."
   ]
  },
  {
   "cell_type": "code",
   "execution_count": 46,
   "id": "827e1d05-7191-426e-9e7c-bd32c66882af",
   "metadata": {
    "execution": {
     "iopub.execute_input": "2022-09-09T17:26:13.329618Z",
     "iopub.status.busy": "2022-09-09T17:26:13.329356Z",
     "iopub.status.idle": "2022-09-09T17:26:13.353095Z",
     "shell.execute_reply": "2022-09-09T17:26:13.352315Z",
     "shell.execute_reply.started": "2022-09-09T17:26:13.329599Z"
    },
    "tags": []
   },
   "outputs": [
    {
     "data": {
      "text/html": [
       "<div>\n",
       "<style scoped>\n",
       "    .dataframe tbody tr th:only-of-type {\n",
       "        vertical-align: middle;\n",
       "    }\n",
       "\n",
       "    .dataframe tbody tr th {\n",
       "        vertical-align: top;\n",
       "    }\n",
       "\n",
       "    .dataframe thead th {\n",
       "        text-align: right;\n",
       "    }\n",
       "</style>\n",
       "<table border=\"1\" class=\"dataframe\">\n",
       "  <thead>\n",
       "    <tr style=\"text-align: right;\">\n",
       "      <th></th>\n",
       "      <th>sequence</th>\n",
       "      <th>0</th>\n",
       "      <th>1</th>\n",
       "      <th>2</th>\n",
       "      <th>3</th>\n",
       "      <th>4</th>\n",
       "      <th>5</th>\n",
       "      <th>6</th>\n",
       "      <th>7</th>\n",
       "      <th>8</th>\n",
       "      <th>...</th>\n",
       "      <th>1271</th>\n",
       "      <th>1272</th>\n",
       "      <th>1273</th>\n",
       "      <th>1274</th>\n",
       "      <th>1275</th>\n",
       "      <th>1276</th>\n",
       "      <th>1277</th>\n",
       "      <th>1278</th>\n",
       "      <th>1279</th>\n",
       "      <th>label</th>\n",
       "    </tr>\n",
       "  </thead>\n",
       "  <tbody>\n",
       "    <tr>\n",
       "      <th>0</th>\n",
       "      <td>Protein_seq_0001</td>\n",
       "      <td>0.013383</td>\n",
       "      <td>0.263489</td>\n",
       "      <td>0.112976</td>\n",
       "      <td>0.121213</td>\n",
       "      <td>0.068783</td>\n",
       "      <td>0.349227</td>\n",
       "      <td>0.082764</td>\n",
       "      <td>-0.380642</td>\n",
       "      <td>0.089891</td>\n",
       "      <td>...</td>\n",
       "      <td>-0.440336</td>\n",
       "      <td>-0.045218</td>\n",
       "      <td>0.059868</td>\n",
       "      <td>-2.970160</td>\n",
       "      <td>-0.157830</td>\n",
       "      <td>-0.845686</td>\n",
       "      <td>-0.023482</td>\n",
       "      <td>0.066518</td>\n",
       "      <td>-0.478375</td>\n",
       "      <td>0</td>\n",
       "    </tr>\n",
       "    <tr>\n",
       "      <th>1</th>\n",
       "      <td>Protein_seq_0002</td>\n",
       "      <td>-0.069985</td>\n",
       "      <td>0.024390</td>\n",
       "      <td>0.022845</td>\n",
       "      <td>0.080284</td>\n",
       "      <td>-0.141245</td>\n",
       "      <td>-0.104143</td>\n",
       "      <td>0.039870</td>\n",
       "      <td>-0.117321</td>\n",
       "      <td>-0.080534</td>\n",
       "      <td>...</td>\n",
       "      <td>-0.126686</td>\n",
       "      <td>0.091434</td>\n",
       "      <td>-0.130513</td>\n",
       "      <td>-0.763611</td>\n",
       "      <td>-0.005721</td>\n",
       "      <td>0.087701</td>\n",
       "      <td>-0.019189</td>\n",
       "      <td>0.102544</td>\n",
       "      <td>-0.125280</td>\n",
       "      <td>0</td>\n",
       "    </tr>\n",
       "    <tr>\n",
       "      <th>...</th>\n",
       "      <td>...</td>\n",
       "      <td>...</td>\n",
       "      <td>...</td>\n",
       "      <td>...</td>\n",
       "      <td>...</td>\n",
       "      <td>...</td>\n",
       "      <td>...</td>\n",
       "      <td>...</td>\n",
       "      <td>...</td>\n",
       "      <td>...</td>\n",
       "      <td>...</td>\n",
       "      <td>...</td>\n",
       "      <td>...</td>\n",
       "      <td>...</td>\n",
       "      <td>...</td>\n",
       "      <td>...</td>\n",
       "      <td>...</td>\n",
       "      <td>...</td>\n",
       "      <td>...</td>\n",
       "      <td>...</td>\n",
       "      <td>...</td>\n",
       "    </tr>\n",
       "    <tr>\n",
       "      <th>1376</th>\n",
       "      <td>Protein_seq_1377</td>\n",
       "      <td>0.025062</td>\n",
       "      <td>0.139695</td>\n",
       "      <td>0.169002</td>\n",
       "      <td>0.067507</td>\n",
       "      <td>-0.099769</td>\n",
       "      <td>-0.167287</td>\n",
       "      <td>-0.002163</td>\n",
       "      <td>-0.182491</td>\n",
       "      <td>-0.075108</td>\n",
       "      <td>...</td>\n",
       "      <td>-0.150237</td>\n",
       "      <td>-0.064731</td>\n",
       "      <td>-0.098473</td>\n",
       "      <td>-0.682649</td>\n",
       "      <td>0.122551</td>\n",
       "      <td>0.227881</td>\n",
       "      <td>-0.090101</td>\n",
       "      <td>0.066067</td>\n",
       "      <td>0.020852</td>\n",
       "      <td>1</td>\n",
       "    </tr>\n",
       "    <tr>\n",
       "      <th>1377</th>\n",
       "      <td>Protein_seq_1378</td>\n",
       "      <td>0.100933</td>\n",
       "      <td>-0.011118</td>\n",
       "      <td>0.240505</td>\n",
       "      <td>0.112940</td>\n",
       "      <td>-0.006494</td>\n",
       "      <td>-0.005311</td>\n",
       "      <td>-0.147712</td>\n",
       "      <td>0.164667</td>\n",
       "      <td>-0.015644</td>\n",
       "      <td>...</td>\n",
       "      <td>0.031900</td>\n",
       "      <td>-0.240745</td>\n",
       "      <td>0.021270</td>\n",
       "      <td>-1.207849</td>\n",
       "      <td>-0.080719</td>\n",
       "      <td>0.181342</td>\n",
       "      <td>0.011719</td>\n",
       "      <td>0.281298</td>\n",
       "      <td>-0.020788</td>\n",
       "      <td>0</td>\n",
       "    </tr>\n",
       "  </tbody>\n",
       "</table>\n",
       "<p>1378 rows × 1282 columns</p>\n",
       "</div>"
      ],
      "text/plain": [
       "              sequence         0         1         2         3         4  \\\n",
       "0     Protein_seq_0001  0.013383  0.263489  0.112976  0.121213  0.068783   \n",
       "1     Protein_seq_0002 -0.069985  0.024390  0.022845  0.080284 -0.141245   \n",
       "...                ...       ...       ...       ...       ...       ...   \n",
       "1376  Protein_seq_1377  0.025062  0.139695  0.169002  0.067507 -0.099769   \n",
       "1377  Protein_seq_1378  0.100933 -0.011118  0.240505  0.112940 -0.006494   \n",
       "\n",
       "             5         6         7         8  ...      1271      1272  \\\n",
       "0     0.349227  0.082764 -0.380642  0.089891  ... -0.440336 -0.045218   \n",
       "1    -0.104143  0.039870 -0.117321 -0.080534  ... -0.126686  0.091434   \n",
       "...        ...       ...       ...       ...  ...       ...       ...   \n",
       "1376 -0.167287 -0.002163 -0.182491 -0.075108  ... -0.150237 -0.064731   \n",
       "1377 -0.005311 -0.147712  0.164667 -0.015644  ...  0.031900 -0.240745   \n",
       "\n",
       "          1273      1274      1275      1276      1277      1278      1279  \\\n",
       "0     0.059868 -2.970160 -0.157830 -0.845686 -0.023482  0.066518 -0.478375   \n",
       "1    -0.130513 -0.763611 -0.005721  0.087701 -0.019189  0.102544 -0.125280   \n",
       "...        ...       ...       ...       ...       ...       ...       ...   \n",
       "1376 -0.098473 -0.682649  0.122551  0.227881 -0.090101  0.066067  0.020852   \n",
       "1377  0.021270 -1.207849 -0.080719  0.181342  0.011719  0.281298 -0.020788   \n",
       "\n",
       "      label  \n",
       "0         0  \n",
       "1         0  \n",
       "...     ...  \n",
       "1376      1  \n",
       "1377      0  \n",
       "\n",
       "[1378 rows x 1282 columns]"
      ]
     },
     "metadata": {},
     "output_type": "display_data"
    }
   ],
   "source": [
    "fu.check_with_df(Xs, ys, sequence_id)"
   ]
  },
  {
   "cell_type": "markdown",
   "id": "675a097e-9982-4abe-86bd-3a86fc4a37c1",
   "metadata": {
    "tags": []
   },
   "source": [
    "<br>\n",
    "\n",
    "## Test Dataset"
   ]
  },
  {
   "cell_type": "markdown",
   "id": "394fce27-e6f0-4ce6-bb56-9defd7bc5f40",
   "metadata": {},
   "source": [
    "### ESM ESM-1v model - esm1v_t33_650M_UR90S_1"
   ]
  },
  {
   "cell_type": "markdown",
   "id": "231204ea-0c8e-42be-93d7-b90b145821e1",
   "metadata": {
    "tags": []
   },
   "source": [
    "#### Pooling Operation:  `mean`"
   ]
  },
  {
   "cell_type": "markdown",
   "id": "f2280965-76ce-434d-b7fd-62c307fb9de2",
   "metadata": {},
   "source": [
    "Update arguments and prepare paths"
   ]
  },
  {
   "cell_type": "code",
   "execution_count": 47,
   "id": "c1db35bd-8e24-4391-b9f5-e7c41273fd68",
   "metadata": {
    "execution": {
     "iopub.execute_input": "2022-09-09T17:31:17.323958Z",
     "iopub.status.busy": "2022-09-09T17:31:17.323688Z",
     "iopub.status.idle": "2022-09-09T17:31:17.332091Z",
     "shell.execute_reply": "2022-09-09T17:31:17.331158Z",
     "shell.execute_reply.started": "2022-09-09T17:31:17.323937Z"
    },
    "tags": []
   },
   "outputs": [
    {
     "name": "stdout",
     "output_type": "stream",
     "text": [
      " ../data/acp/test_data.fa \n",
      " ../data/acp/esm/test/acp_test_esm1v_mean\n"
     ]
    }
   ],
   "source": [
    "# Update arguments\n",
    "model = 'esm1v_t33_650M_UR90S_1'\n",
    "file_base = 'test'\n",
    "emb_layer = 33\n",
    "# Prepare paths\n",
    "path_pt, _, path_fa = fu.file_paths(ptmodel, task, file_base, model, pool)\n",
    "print('', path_fa, '\\n', path_pt)"
   ]
  },
  {
   "cell_type": "code",
   "execution_count": 48,
   "id": "46da9c7e-b0e9-4be5-98f5-ed385eac586f",
   "metadata": {
    "execution": {
     "iopub.execute_input": "2022-09-09T17:31:48.304564Z",
     "iopub.status.busy": "2022-09-09T17:31:48.304263Z",
     "iopub.status.idle": "2022-09-09T17:31:52.138101Z",
     "shell.execute_reply": "2022-09-09T17:31:52.137389Z",
     "shell.execute_reply.started": "2022-09-09T17:31:48.304541Z"
    },
    "tags": []
   },
   "outputs": [
    {
     "name": "stdout",
     "output_type": "stream",
     "text": [
      "Shape of embeddings: \t\t(344, 1280)\n",
      "Length of target label list:\t344\n",
      "Length of sequential ids list:\t344\n"
     ]
    }
   ],
   "source": [
    "Xs, ys, sequence_id = fu.read_embeddings(path_fa, path_pt, pool, emb_layer)"
   ]
  },
  {
   "cell_type": "markdown",
   "id": "1f88bcd8-e1bf-45f9-9528-9d54b8ed71b0",
   "metadata": {},
   "source": [
    "Check our data with `check_with_df` function."
   ]
  },
  {
   "cell_type": "code",
   "execution_count": 49,
   "id": "d9414a82-ec4e-4a1d-a8fa-9891a4cea97d",
   "metadata": {
    "execution": {
     "iopub.execute_input": "2022-09-09T17:31:59.529411Z",
     "iopub.status.busy": "2022-09-09T17:31:59.528761Z",
     "iopub.status.idle": "2022-09-09T17:31:59.548583Z",
     "shell.execute_reply": "2022-09-09T17:31:59.547744Z",
     "shell.execute_reply.started": "2022-09-09T17:31:59.529387Z"
    },
    "tags": []
   },
   "outputs": [
    {
     "data": {
      "text/html": [
       "<div>\n",
       "<style scoped>\n",
       "    .dataframe tbody tr th:only-of-type {\n",
       "        vertical-align: middle;\n",
       "    }\n",
       "\n",
       "    .dataframe tbody tr th {\n",
       "        vertical-align: top;\n",
       "    }\n",
       "\n",
       "    .dataframe thead th {\n",
       "        text-align: right;\n",
       "    }\n",
       "</style>\n",
       "<table border=\"1\" class=\"dataframe\">\n",
       "  <thead>\n",
       "    <tr style=\"text-align: right;\">\n",
       "      <th></th>\n",
       "      <th>sequence</th>\n",
       "      <th>0</th>\n",
       "      <th>1</th>\n",
       "      <th>2</th>\n",
       "      <th>3</th>\n",
       "      <th>4</th>\n",
       "      <th>5</th>\n",
       "      <th>6</th>\n",
       "      <th>7</th>\n",
       "      <th>8</th>\n",
       "      <th>...</th>\n",
       "      <th>1271</th>\n",
       "      <th>1272</th>\n",
       "      <th>1273</th>\n",
       "      <th>1274</th>\n",
       "      <th>1275</th>\n",
       "      <th>1276</th>\n",
       "      <th>1277</th>\n",
       "      <th>1278</th>\n",
       "      <th>1279</th>\n",
       "      <th>label</th>\n",
       "    </tr>\n",
       "  </thead>\n",
       "  <tbody>\n",
       "    <tr>\n",
       "      <th>0</th>\n",
       "      <td>Protein_seq_0001</td>\n",
       "      <td>-0.182235</td>\n",
       "      <td>0.361860</td>\n",
       "      <td>-0.017193</td>\n",
       "      <td>-0.152551</td>\n",
       "      <td>-1.438788</td>\n",
       "      <td>0.026033</td>\n",
       "      <td>0.178496</td>\n",
       "      <td>-0.079849</td>\n",
       "      <td>0.313568</td>\n",
       "      <td>...</td>\n",
       "      <td>0.338911</td>\n",
       "      <td>0.087524</td>\n",
       "      <td>-0.548240</td>\n",
       "      <td>-0.161019</td>\n",
       "      <td>-0.023369</td>\n",
       "      <td>-0.506091</td>\n",
       "      <td>-0.418309</td>\n",
       "      <td>-0.018172</td>\n",
       "      <td>0.284923</td>\n",
       "      <td>0</td>\n",
       "    </tr>\n",
       "    <tr>\n",
       "      <th>1</th>\n",
       "      <td>Protein_seq_0002</td>\n",
       "      <td>0.051948</td>\n",
       "      <td>-0.015856</td>\n",
       "      <td>-0.014406</td>\n",
       "      <td>-0.075514</td>\n",
       "      <td>0.156486</td>\n",
       "      <td>-0.287665</td>\n",
       "      <td>-0.086575</td>\n",
       "      <td>0.124207</td>\n",
       "      <td>-0.089903</td>\n",
       "      <td>...</td>\n",
       "      <td>-0.180648</td>\n",
       "      <td>0.164926</td>\n",
       "      <td>-0.133322</td>\n",
       "      <td>-0.102071</td>\n",
       "      <td>0.020742</td>\n",
       "      <td>-0.003653</td>\n",
       "      <td>-0.029525</td>\n",
       "      <td>0.034266</td>\n",
       "      <td>-0.137092</td>\n",
       "      <td>0</td>\n",
       "    </tr>\n",
       "    <tr>\n",
       "      <th>...</th>\n",
       "      <td>...</td>\n",
       "      <td>...</td>\n",
       "      <td>...</td>\n",
       "      <td>...</td>\n",
       "      <td>...</td>\n",
       "      <td>...</td>\n",
       "      <td>...</td>\n",
       "      <td>...</td>\n",
       "      <td>...</td>\n",
       "      <td>...</td>\n",
       "      <td>...</td>\n",
       "      <td>...</td>\n",
       "      <td>...</td>\n",
       "      <td>...</td>\n",
       "      <td>...</td>\n",
       "      <td>...</td>\n",
       "      <td>...</td>\n",
       "      <td>...</td>\n",
       "      <td>...</td>\n",
       "      <td>...</td>\n",
       "      <td>...</td>\n",
       "    </tr>\n",
       "    <tr>\n",
       "      <th>342</th>\n",
       "      <td>Protein_seq_0343</td>\n",
       "      <td>0.088324</td>\n",
       "      <td>-0.096162</td>\n",
       "      <td>-0.082784</td>\n",
       "      <td>-0.182584</td>\n",
       "      <td>0.000360</td>\n",
       "      <td>-0.294891</td>\n",
       "      <td>0.199458</td>\n",
       "      <td>0.270405</td>\n",
       "      <td>-0.170535</td>\n",
       "      <td>...</td>\n",
       "      <td>-0.235207</td>\n",
       "      <td>0.198515</td>\n",
       "      <td>-0.039839</td>\n",
       "      <td>-0.114767</td>\n",
       "      <td>-0.057207</td>\n",
       "      <td>-0.056086</td>\n",
       "      <td>-0.135266</td>\n",
       "      <td>0.119055</td>\n",
       "      <td>-0.215575</td>\n",
       "      <td>0</td>\n",
       "    </tr>\n",
       "    <tr>\n",
       "      <th>343</th>\n",
       "      <td>Protein_seq_0344</td>\n",
       "      <td>-0.024125</td>\n",
       "      <td>-0.107894</td>\n",
       "      <td>-0.113403</td>\n",
       "      <td>0.020654</td>\n",
       "      <td>-0.271500</td>\n",
       "      <td>0.226581</td>\n",
       "      <td>0.192231</td>\n",
       "      <td>-0.190837</td>\n",
       "      <td>-0.030578</td>\n",
       "      <td>...</td>\n",
       "      <td>-0.062776</td>\n",
       "      <td>0.051986</td>\n",
       "      <td>-0.111523</td>\n",
       "      <td>0.044257</td>\n",
       "      <td>-0.051940</td>\n",
       "      <td>0.033404</td>\n",
       "      <td>-0.161278</td>\n",
       "      <td>0.236552</td>\n",
       "      <td>-0.062306</td>\n",
       "      <td>1</td>\n",
       "    </tr>\n",
       "  </tbody>\n",
       "</table>\n",
       "<p>344 rows × 1282 columns</p>\n",
       "</div>"
      ],
      "text/plain": [
       "             sequence         0         1         2         3         4  \\\n",
       "0    Protein_seq_0001 -0.182235  0.361860 -0.017193 -0.152551 -1.438788   \n",
       "1    Protein_seq_0002  0.051948 -0.015856 -0.014406 -0.075514  0.156486   \n",
       "..                ...       ...       ...       ...       ...       ...   \n",
       "342  Protein_seq_0343  0.088324 -0.096162 -0.082784 -0.182584  0.000360   \n",
       "343  Protein_seq_0344 -0.024125 -0.107894 -0.113403  0.020654 -0.271500   \n",
       "\n",
       "            5         6         7         8  ...      1271      1272  \\\n",
       "0    0.026033  0.178496 -0.079849  0.313568  ...  0.338911  0.087524   \n",
       "1   -0.287665 -0.086575  0.124207 -0.089903  ... -0.180648  0.164926   \n",
       "..        ...       ...       ...       ...  ...       ...       ...   \n",
       "342 -0.294891  0.199458  0.270405 -0.170535  ... -0.235207  0.198515   \n",
       "343  0.226581  0.192231 -0.190837 -0.030578  ... -0.062776  0.051986   \n",
       "\n",
       "         1273      1274      1275      1276      1277      1278      1279  \\\n",
       "0   -0.548240 -0.161019 -0.023369 -0.506091 -0.418309 -0.018172  0.284923   \n",
       "1   -0.133322 -0.102071  0.020742 -0.003653 -0.029525  0.034266 -0.137092   \n",
       "..        ...       ...       ...       ...       ...       ...       ...   \n",
       "342 -0.039839 -0.114767 -0.057207 -0.056086 -0.135266  0.119055 -0.215575   \n",
       "343 -0.111523  0.044257 -0.051940  0.033404 -0.161278  0.236552 -0.062306   \n",
       "\n",
       "     label  \n",
       "0        0  \n",
       "1        0  \n",
       "..     ...  \n",
       "342      0  \n",
       "343      1  \n",
       "\n",
       "[344 rows x 1282 columns]"
      ]
     },
     "metadata": {},
     "output_type": "display_data"
    }
   ],
   "source": [
    "fu.check_with_df(Xs, ys, sequence_id)"
   ]
  },
  {
   "cell_type": "markdown",
   "id": "85d3a50b-f2c7-4f3d-9fd3-52c87c33ce71",
   "metadata": {},
   "source": [
    "<br>\n",
    "\n",
    "### ESM ESM-1b model - esm1b_t33_650M_UR50S"
   ]
  },
  {
   "cell_type": "markdown",
   "id": "8d854ced-e66a-47c7-899d-7b93747e276e",
   "metadata": {},
   "source": [
    "Update arguments and prepare paths"
   ]
  },
  {
   "cell_type": "code",
   "execution_count": 50,
   "id": "4dfed0da-3952-4d23-a95d-e5b9653b8617",
   "metadata": {
    "execution": {
     "iopub.execute_input": "2022-09-09T17:34:59.081311Z",
     "iopub.status.busy": "2022-09-09T17:34:59.081038Z",
     "iopub.status.idle": "2022-09-09T17:34:59.088485Z",
     "shell.execute_reply": "2022-09-09T17:34:59.087701Z",
     "shell.execute_reply.started": "2022-09-09T17:34:59.081291Z"
    },
    "tags": []
   },
   "outputs": [
    {
     "name": "stdout",
     "output_type": "stream",
     "text": [
      " ../data/acp/test_data.fa \n",
      " ../data/acp/esm/test/acp_test_esm1b_mean\n"
     ]
    }
   ],
   "source": [
    "# Update arguments\n",
    "model = 'esm1b_t33_650M_UR50S' \n",
    "# Prepare paths\n",
    "path_pt, _, path_fa = fu.file_paths(ptmodel, task, file_base, model, pool)\n",
    "print('', path_fa, '\\n', path_pt)"
   ]
  },
  {
   "cell_type": "markdown",
   "id": "11bcde2b-e747-4abd-b169-81025474a38b",
   "metadata": {},
   "source": [
    "Extract embeddings with `read_embedings` function."
   ]
  },
  {
   "cell_type": "code",
   "execution_count": 51,
   "id": "140a0afd-7875-4f11-b0b0-382435e01fd4",
   "metadata": {
    "execution": {
     "iopub.execute_input": "2022-09-09T17:35:09.400519Z",
     "iopub.status.busy": "2022-09-09T17:35:09.399899Z",
     "iopub.status.idle": "2022-09-09T17:35:13.378188Z",
     "shell.execute_reply": "2022-09-09T17:35:13.377469Z",
     "shell.execute_reply.started": "2022-09-09T17:35:09.400495Z"
    },
    "tags": []
   },
   "outputs": [
    {
     "name": "stdout",
     "output_type": "stream",
     "text": [
      "Shape of embeddings: \t\t(344, 1280)\n",
      "Length of target label list:\t344\n",
      "Length of sequential ids list:\t344\n"
     ]
    }
   ],
   "source": [
    "Xs, ys, sequence_id = fu.read_embeddings(path_fa, path_pt, pool, emb_layer)"
   ]
  },
  {
   "cell_type": "markdown",
   "id": "b88cb4fd-03f7-4e9d-9e83-d234f3b44e97",
   "metadata": {},
   "source": [
    "Check our data with `check_with_df` function."
   ]
  },
  {
   "cell_type": "code",
   "execution_count": 52,
   "id": "fa778f08-75af-4711-85ec-2635d04a0be3",
   "metadata": {
    "execution": {
     "iopub.execute_input": "2022-09-09T17:35:19.230515Z",
     "iopub.status.busy": "2022-09-09T17:35:19.230244Z",
     "iopub.status.idle": "2022-09-09T17:35:19.249835Z",
     "shell.execute_reply": "2022-09-09T17:35:19.248757Z",
     "shell.execute_reply.started": "2022-09-09T17:35:19.230495Z"
    },
    "tags": []
   },
   "outputs": [
    {
     "data": {
      "text/html": [
       "<div>\n",
       "<style scoped>\n",
       "    .dataframe tbody tr th:only-of-type {\n",
       "        vertical-align: middle;\n",
       "    }\n",
       "\n",
       "    .dataframe tbody tr th {\n",
       "        vertical-align: top;\n",
       "    }\n",
       "\n",
       "    .dataframe thead th {\n",
       "        text-align: right;\n",
       "    }\n",
       "</style>\n",
       "<table border=\"1\" class=\"dataframe\">\n",
       "  <thead>\n",
       "    <tr style=\"text-align: right;\">\n",
       "      <th></th>\n",
       "      <th>sequence</th>\n",
       "      <th>0</th>\n",
       "      <th>1</th>\n",
       "      <th>2</th>\n",
       "      <th>3</th>\n",
       "      <th>4</th>\n",
       "      <th>5</th>\n",
       "      <th>6</th>\n",
       "      <th>7</th>\n",
       "      <th>8</th>\n",
       "      <th>...</th>\n",
       "      <th>1271</th>\n",
       "      <th>1272</th>\n",
       "      <th>1273</th>\n",
       "      <th>1274</th>\n",
       "      <th>1275</th>\n",
       "      <th>1276</th>\n",
       "      <th>1277</th>\n",
       "      <th>1278</th>\n",
       "      <th>1279</th>\n",
       "      <th>label</th>\n",
       "    </tr>\n",
       "  </thead>\n",
       "  <tbody>\n",
       "    <tr>\n",
       "      <th>0</th>\n",
       "      <td>Protein_seq_0001</td>\n",
       "      <td>0.088257</td>\n",
       "      <td>0.108168</td>\n",
       "      <td>0.066006</td>\n",
       "      <td>0.129144</td>\n",
       "      <td>0.107783</td>\n",
       "      <td>-0.078416</td>\n",
       "      <td>0.010681</td>\n",
       "      <td>-0.019907</td>\n",
       "      <td>-0.035259</td>\n",
       "      <td>...</td>\n",
       "      <td>-0.105909</td>\n",
       "      <td>-0.174954</td>\n",
       "      <td>0.119478</td>\n",
       "      <td>-1.237831</td>\n",
       "      <td>0.052709</td>\n",
       "      <td>0.350217</td>\n",
       "      <td>-0.031515</td>\n",
       "      <td>0.203626</td>\n",
       "      <td>0.100336</td>\n",
       "      <td>0</td>\n",
       "    </tr>\n",
       "    <tr>\n",
       "      <th>1</th>\n",
       "      <td>Protein_seq_0002</td>\n",
       "      <td>0.045376</td>\n",
       "      <td>0.277047</td>\n",
       "      <td>-0.057178</td>\n",
       "      <td>-0.032632</td>\n",
       "      <td>-0.105120</td>\n",
       "      <td>-0.078605</td>\n",
       "      <td>-0.132627</td>\n",
       "      <td>0.012729</td>\n",
       "      <td>-0.118805</td>\n",
       "      <td>...</td>\n",
       "      <td>-0.107482</td>\n",
       "      <td>-0.013155</td>\n",
       "      <td>-0.041099</td>\n",
       "      <td>-0.685873</td>\n",
       "      <td>0.156594</td>\n",
       "      <td>-0.003488</td>\n",
       "      <td>0.155243</td>\n",
       "      <td>0.107222</td>\n",
       "      <td>0.136139</td>\n",
       "      <td>0</td>\n",
       "    </tr>\n",
       "    <tr>\n",
       "      <th>...</th>\n",
       "      <td>...</td>\n",
       "      <td>...</td>\n",
       "      <td>...</td>\n",
       "      <td>...</td>\n",
       "      <td>...</td>\n",
       "      <td>...</td>\n",
       "      <td>...</td>\n",
       "      <td>...</td>\n",
       "      <td>...</td>\n",
       "      <td>...</td>\n",
       "      <td>...</td>\n",
       "      <td>...</td>\n",
       "      <td>...</td>\n",
       "      <td>...</td>\n",
       "      <td>...</td>\n",
       "      <td>...</td>\n",
       "      <td>...</td>\n",
       "      <td>...</td>\n",
       "      <td>...</td>\n",
       "      <td>...</td>\n",
       "      <td>...</td>\n",
       "    </tr>\n",
       "    <tr>\n",
       "      <th>342</th>\n",
       "      <td>Protein_seq_0343</td>\n",
       "      <td>-0.036402</td>\n",
       "      <td>0.355699</td>\n",
       "      <td>-0.066467</td>\n",
       "      <td>0.041765</td>\n",
       "      <td>0.052619</td>\n",
       "      <td>-0.048664</td>\n",
       "      <td>-0.036612</td>\n",
       "      <td>-0.116422</td>\n",
       "      <td>-0.068359</td>\n",
       "      <td>...</td>\n",
       "      <td>-0.094321</td>\n",
       "      <td>-0.228979</td>\n",
       "      <td>-0.034547</td>\n",
       "      <td>-0.634425</td>\n",
       "      <td>0.142032</td>\n",
       "      <td>0.091536</td>\n",
       "      <td>0.046962</td>\n",
       "      <td>0.011019</td>\n",
       "      <td>0.115468</td>\n",
       "      <td>0</td>\n",
       "    </tr>\n",
       "    <tr>\n",
       "      <th>343</th>\n",
       "      <td>Protein_seq_0344</td>\n",
       "      <td>0.038379</td>\n",
       "      <td>0.068516</td>\n",
       "      <td>0.053050</td>\n",
       "      <td>0.119118</td>\n",
       "      <td>-0.184480</td>\n",
       "      <td>-0.086476</td>\n",
       "      <td>0.054324</td>\n",
       "      <td>-0.155769</td>\n",
       "      <td>-0.123679</td>\n",
       "      <td>...</td>\n",
       "      <td>-0.064922</td>\n",
       "      <td>-0.010431</td>\n",
       "      <td>-0.051974</td>\n",
       "      <td>-0.933202</td>\n",
       "      <td>-0.095085</td>\n",
       "      <td>0.154882</td>\n",
       "      <td>0.045132</td>\n",
       "      <td>0.169930</td>\n",
       "      <td>0.018835</td>\n",
       "      <td>1</td>\n",
       "    </tr>\n",
       "  </tbody>\n",
       "</table>\n",
       "<p>344 rows × 1282 columns</p>\n",
       "</div>"
      ],
      "text/plain": [
       "             sequence         0         1         2         3         4  \\\n",
       "0    Protein_seq_0001  0.088257  0.108168  0.066006  0.129144  0.107783   \n",
       "1    Protein_seq_0002  0.045376  0.277047 -0.057178 -0.032632 -0.105120   \n",
       "..                ...       ...       ...       ...       ...       ...   \n",
       "342  Protein_seq_0343 -0.036402  0.355699 -0.066467  0.041765  0.052619   \n",
       "343  Protein_seq_0344  0.038379  0.068516  0.053050  0.119118 -0.184480   \n",
       "\n",
       "            5         6         7         8  ...      1271      1272  \\\n",
       "0   -0.078416  0.010681 -0.019907 -0.035259  ... -0.105909 -0.174954   \n",
       "1   -0.078605 -0.132627  0.012729 -0.118805  ... -0.107482 -0.013155   \n",
       "..        ...       ...       ...       ...  ...       ...       ...   \n",
       "342 -0.048664 -0.036612 -0.116422 -0.068359  ... -0.094321 -0.228979   \n",
       "343 -0.086476  0.054324 -0.155769 -0.123679  ... -0.064922 -0.010431   \n",
       "\n",
       "         1273      1274      1275      1276      1277      1278      1279  \\\n",
       "0    0.119478 -1.237831  0.052709  0.350217 -0.031515  0.203626  0.100336   \n",
       "1   -0.041099 -0.685873  0.156594 -0.003488  0.155243  0.107222  0.136139   \n",
       "..        ...       ...       ...       ...       ...       ...       ...   \n",
       "342 -0.034547 -0.634425  0.142032  0.091536  0.046962  0.011019  0.115468   \n",
       "343 -0.051974 -0.933202 -0.095085  0.154882  0.045132  0.169930  0.018835   \n",
       "\n",
       "     label  \n",
       "0        0  \n",
       "1        0  \n",
       "..     ...  \n",
       "342      0  \n",
       "343      1  \n",
       "\n",
       "[344 rows x 1282 columns]"
      ]
     },
     "metadata": {},
     "output_type": "display_data"
    }
   ],
   "source": [
    "fu.check_with_df(Xs, ys, sequence_id)"
   ]
  }
 ],
 "metadata": {
  "kernelspec": {
   "display_name": "sa",
   "language": "python",
   "name": "conda-env-sa-py"
  },
  "language_info": {
   "codemirror_mode": {
    "name": "ipython",
    "version": 3
   },
   "file_extension": ".py",
   "mimetype": "text/x-python",
   "name": "python",
   "nbconvert_exporter": "python",
   "pygments_lexer": "ipython3",
   "version": "3.8.13"
  },
  "widgets": {
   "application/vnd.jupyter.widget-state+json": {
    "state": {},
    "version_major": 2,
    "version_minor": 0
   }
  }
 },
 "nbformat": 4,
 "nbformat_minor": 5
}
