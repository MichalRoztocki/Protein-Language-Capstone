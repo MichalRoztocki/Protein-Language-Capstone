{
 "cells": [
  {
   "cell_type": "markdown",
   "metadata": {},
   "source": [
    "## Exploratory Data Analysis - Anti Microbial Peptides"
   ]
  },
  {
   "cell_type": "code",
   "execution_count": 19,
   "metadata": {},
   "outputs": [],
   "source": [
    "import pandas as pd\n",
    "import matplotlib.pyplot as plt\n",
    "import seaborn as sns\n",
    "\n",
    "from sklearn.model_selection import train_test_split\n",
    "\n",
    "%matplotlib inline"
   ]
  },
  {
   "cell_type": "markdown",
   "metadata": {},
   "source": [
    "Allow multiple outputs from each cell."
   ]
  },
  {
   "cell_type": "code",
   "execution_count": 2,
   "metadata": {},
   "outputs": [],
   "source": [
    "from IPython.core.interactiveshell import InteractiveShell\n",
    "InteractiveShell.ast_node_interactivity = \"all\""
   ]
  },
  {
   "cell_type": "markdown",
   "metadata": {},
   "source": [
    "Load in all data"
   ]
  },
  {
   "cell_type": "code",
   "execution_count": 20,
   "metadata": {},
   "outputs": [
    {
     "name": "stdout",
     "output_type": "stream",
     "text": [
      "Full dataset shape: (4042, 3)\n"
     ]
    },
    {
     "data": {
      "text/html": [
       "<div>\n",
       "<style scoped>\n",
       "    .dataframe tbody tr th:only-of-type {\n",
       "        vertical-align: middle;\n",
       "    }\n",
       "\n",
       "    .dataframe tbody tr th {\n",
       "        vertical-align: top;\n",
       "    }\n",
       "\n",
       "    .dataframe thead th {\n",
       "        text-align: right;\n",
       "    }\n",
       "</style>\n",
       "<table border=\"1\" class=\"dataframe\">\n",
       "  <thead>\n",
       "    <tr style=\"text-align: right;\">\n",
       "      <th></th>\n",
       "      <th>PDBs_code</th>\n",
       "      <th>SequenceID</th>\n",
       "      <th>label</th>\n",
       "    </tr>\n",
       "  </thead>\n",
       "  <tbody>\n",
       "    <tr>\n",
       "      <th>0</th>\n",
       "      <td>AP02484</td>\n",
       "      <td>GMASKAGSVLGKITKIALGAL</td>\n",
       "      <td>1</td>\n",
       "    </tr>\n",
       "    <tr>\n",
       "      <th>1</th>\n",
       "      <td>AP02630</td>\n",
       "      <td>NIGLFTSTCFSSQCFSSKCFTDTCFSSNCFTGRHQCGYTHGSC</td>\n",
       "      <td>1</td>\n",
       "    </tr>\n",
       "    <tr>\n",
       "      <th>2</th>\n",
       "      <td>AP01427</td>\n",
       "      <td>GAIKDALKGAAKTVAVELLKKAQCKLEKTC</td>\n",
       "      <td>1</td>\n",
       "    </tr>\n",
       "    <tr>\n",
       "      <th>3</th>\n",
       "      <td>AP02983</td>\n",
       "      <td>FFGRLKAVFRGARQGWKEHRY</td>\n",
       "      <td>1</td>\n",
       "    </tr>\n",
       "    <tr>\n",
       "      <th>4</th>\n",
       "      <td>AP01815</td>\n",
       "      <td>DFGCARGMIFVCMRRCARMYPGSTGYCQGFRCMCDTMIPIRRPPFIMG</td>\n",
       "      <td>1</td>\n",
       "    </tr>\n",
       "  </tbody>\n",
       "</table>\n",
       "</div>"
      ],
      "text/plain": [
       "  PDBs_code                                        SequenceID  label\n",
       "0   AP02484                             GMASKAGSVLGKITKIALGAL      1\n",
       "1   AP02630       NIGLFTSTCFSSQCFSSKCFTDTCFSSNCFTGRHQCGYTHGSC      1\n",
       "2   AP01427                    GAIKDALKGAAKTVAVELLKKAQCKLEKTC      1\n",
       "3   AP02983                             FFGRLKAVFRGARQGWKEHRY      1\n",
       "4   AP01815  DFGCARGMIFVCMRRCARMYPGSTGYCQGFRCMCDTMIPIRRPPFIMG      1"
      ]
     },
     "execution_count": 20,
     "metadata": {},
     "output_type": "execute_result"
    }
   ],
   "source": [
    "df_full = pd.read_csv(\"../data/amp/all_data.csv\")\n",
    "print(f\"Full dataset shape: {df_full.shape}\")\n",
    "df_full.head()"
   ]
  },
  {
   "cell_type": "markdown",
   "metadata": {},
   "source": [
    "Split into train and test datasets."
   ]
  },
  {
   "cell_type": "code",
   "execution_count": 32,
   "metadata": {},
   "outputs": [
    {
     "name": "stdout",
     "output_type": "stream",
     "text": [
      "Train dataset shape: (3233, 3)\n",
      "Test dataset shape: (809, 3)\n",
      "Train-test split: 80% Train, 20% Test\n"
     ]
    }
   ],
   "source": [
    "X_train, X_test, y_train, y_test = train_test_split(df_full[[\"PDBs_code\", \"SequenceID\"]], \\\n",
    "    df_full[\"label\"], test_size=0.2, random_state=42, stratify=df_full[\"label\"])\n",
    "\n",
    "df_train = X_train.copy()\n",
    "df_train[\"label\"] = y_train\n",
    "\n",
    "df_test = X_test.copy()\n",
    "df_test[\"label\"] = y_test\n",
    "\n",
    "print(f\"Train dataset shape: {df_train.shape}\")\n",
    "print(f\"Test dataset shape: {df_test.shape}\")\n",
    "\n",
    "train_per = round(100*(df_train.shape[0]/(df_train.shape[0]+df_test.shape[0])))\n",
    "print(f\"Train-test split: {train_per}% Train, {100-train_per}% Test\")"
   ]
  },
  {
   "cell_type": "markdown",
   "metadata": {},
   "source": [
    "Take a look at the format of the data."
   ]
  },
  {
   "cell_type": "code",
   "execution_count": 35,
   "metadata": {},
   "outputs": [
    {
     "data": {
      "text/html": [
       "<div>\n",
       "<style scoped>\n",
       "    .dataframe tbody tr th:only-of-type {\n",
       "        vertical-align: middle;\n",
       "    }\n",
       "\n",
       "    .dataframe tbody tr th {\n",
       "        vertical-align: top;\n",
       "    }\n",
       "\n",
       "    .dataframe thead th {\n",
       "        text-align: right;\n",
       "    }\n",
       "</style>\n",
       "<table border=\"1\" class=\"dataframe\">\n",
       "  <thead>\n",
       "    <tr style=\"text-align: right;\">\n",
       "      <th></th>\n",
       "      <th>PDBs_code</th>\n",
       "      <th>SequenceID</th>\n",
       "      <th>label</th>\n",
       "    </tr>\n",
       "  </thead>\n",
       "  <tbody>\n",
       "    <tr>\n",
       "      <th>2049</th>\n",
       "      <td>UniRef50_Q6ZRV2</td>\n",
       "      <td>SGSYSFMWSFEKIHRSLAHVFQGEL</td>\n",
       "      <td>0</td>\n",
       "    </tr>\n",
       "    <tr>\n",
       "      <th>1041</th>\n",
       "      <td>AP02875</td>\n",
       "      <td>LKRVWKRVFKLLKRYWRQLKKPVR</td>\n",
       "      <td>1</td>\n",
       "    </tr>\n",
       "    <tr>\n",
       "      <th>1159</th>\n",
       "      <td>AP01644</td>\n",
       "      <td>GAFGNFLKGVAKKAGLKILSIAQCKLSGTC</td>\n",
       "      <td>1</td>\n",
       "    </tr>\n",
       "    <tr>\n",
       "      <th>2007</th>\n",
       "      <td>AP02453</td>\n",
       "      <td>MDSFQKIEKIGEGTYGVVYKAKDKVSGRLVALKKIRLENESEGVPSTA</td>\n",
       "      <td>1</td>\n",
       "    </tr>\n",
       "    <tr>\n",
       "      <th>3822</th>\n",
       "      <td>UniRef50_Q9BRR0</td>\n",
       "      <td>PESQGLLKVEDVALTLTPEWTQQDSSQGNL</td>\n",
       "      <td>0</td>\n",
       "    </tr>\n",
       "  </tbody>\n",
       "</table>\n",
       "</div>"
      ],
      "text/plain": [
       "            PDBs_code                                        SequenceID  label\n",
       "2049  UniRef50_Q6ZRV2                         SGSYSFMWSFEKIHRSLAHVFQGEL      0\n",
       "1041          AP02875                          LKRVWKRVFKLLKRYWRQLKKPVR      1\n",
       "1159          AP01644                    GAFGNFLKGVAKKAGLKILSIAQCKLSGTC      1\n",
       "2007          AP02453  MDSFQKIEKIGEGTYGVVYKAKDKVSGRLVALKKIRLENESEGVPSTA      1\n",
       "3822  UniRef50_Q9BRR0                    PESQGLLKVEDVALTLTPEWTQQDSSQGNL      0"
      ]
     },
     "execution_count": 35,
     "metadata": {},
     "output_type": "execute_result"
    },
    {
     "data": {
      "text/plain": [
       "PDBs_code     object\n",
       "SequenceID    object\n",
       "label          int64\n",
       "dtype: object"
      ]
     },
     "execution_count": 35,
     "metadata": {},
     "output_type": "execute_result"
    },
    {
     "name": "stdout",
     "output_type": "stream",
     "text": [
      "Unique values of label: [0 1]\n"
     ]
    }
   ],
   "source": [
    "df_train.head()\n",
    "df_train.dtypes\n",
    "print(f\"Unique values of label: {df_train.label.unique()}\")"
   ]
  },
  {
   "cell_type": "markdown",
   "metadata": {},
   "source": [
    "Check for distribution of classes to identify potential imbalances."
   ]
  },
  {
   "cell_type": "code",
   "execution_count": 41,
   "metadata": {},
   "outputs": [
    {
     "data": {
      "text/plain": [
       "1    1617\n",
       "0    1616\n",
       "Name: label, dtype: int64"
      ]
     },
     "execution_count": 41,
     "metadata": {},
     "output_type": "execute_result"
    },
    {
     "data": {
      "text/plain": [
       "0    405\n",
       "1    404\n",
       "Name: label, dtype: int64"
      ]
     },
     "execution_count": 41,
     "metadata": {},
     "output_type": "execute_result"
    },
    {
     "name": "stdout",
     "output_type": "stream",
     "text": [
      "Both train and test datasets are almost perfectly balanced between the positive and negative class\n"
     ]
    }
   ],
   "source": [
    "df_train.label.value_counts()\n",
    "df_test.label.value_counts()\n",
    "print(\"Both train and test datasets are almost perfectly balanced between the positive and negative class\")"
   ]
  },
  {
   "cell_type": "markdown",
   "metadata": {},
   "source": [
    "Visualizing the distribution of the lengths of sequences in each dataset."
   ]
  },
  {
   "cell_type": "code",
   "execution_count": 38,
   "metadata": {},
   "outputs": [
    {
     "data": {
      "image/png": "[encoded data removed]",
      "text/plain": [
       "<Figure size 432x288 with 1 Axes>"
      ]
     },
     "metadata": {
      "needs_background": "light"
     },
     "output_type": "display_data"
    }
   ],
   "source": [
    "sns.histplot(df_train[\"SequenceID\"].str.len(), bins=20, kde=True);\n",
    "plt.xlabel(\"Sequence Size\");\n",
    "plt.title('Distribution of Sequence Sizes in the Train dataset');"
   ]
  },
  {
   "cell_type": "code",
   "execution_count": 39,
   "metadata": {},
   "outputs": [
    {
     "data": {
      "image/png": "[encoded data removed]",
      "text/plain": [
       "<Figure size 432x288 with 1 Axes>"
      ]
     },
     "metadata": {
      "needs_background": "light"
     },
     "output_type": "display_data"
    }
   ],
   "source": [
    "sns.histplot(df_test[\"SequenceID\"].str.len(), bins=20, kde=True);\n",
    "plt.xlabel(\"Sequence Size\");\n",
    "plt.title('Distribution of Sequence Sizes in the Test dataset');"
   ]
  },
  {
   "cell_type": "code",
   "execution_count": 40,
   "metadata": {},
   "outputs": [
    {
     "name": "stdout",
     "output_type": "stream",
     "text": [
      "Train dataset - mean of sequence sizes: 34.250850603154966\n",
      "Test dataset - mean of sequence sizes: 33.00988875154512\n",
      "Train dataset - smallest sequence size: 11\n",
      "Test dataset - smallest sequence size: 11\n",
      "Train dataset - largest sequence size: 183\n",
      "Test dataset - largest sequence size: 133\n"
     ]
    }
   ],
   "source": [
    "train_seq_sizes = df_train[\"SequenceID\"].str.len()\n",
    "test_seq_sizes = df_test[\"SequenceID\"].str.len()\n",
    "\n",
    "print(f\"Train dataset - mean of sequence sizes: {train_seq_sizes.mean()}\")\n",
    "print(f\"Test dataset - mean of sequence sizes: {test_seq_sizes.mean()}\")\n",
    "\n",
    "print(f\"Train dataset - smallest sequence size: {train_seq_sizes.min()}\")\n",
    "print(f\"Test dataset - smallest sequence size: {test_seq_sizes.min()}\")\n",
    "\n",
    "print(f\"Train dataset - largest sequence size: {train_seq_sizes.max()}\")\n",
    "print(f\"Test dataset - largest sequence size: {test_seq_sizes.max()}\")"
   ]
  },
  {
   "cell_type": "code",
   "execution_count": 15,
   "metadata": {},
   "outputs": [
    {
     "data": {
      "text/plain": [
       "0       0\n",
       "1       2\n",
       "2       8\n",
       "3       2\n",
       "4       3\n",
       "       ..\n",
       "1373    0\n",
       "1374    5\n",
       "1375    0\n",
       "1376    2\n",
       "1377    0\n",
       "Name: sequences, Length: 1378, dtype: int64"
      ]
     },
     "execution_count": 15,
     "metadata": {},
     "output_type": "execute_result"
    },
    {
     "data": {
      "text/plain": [
       "array(['RRWWRRWRRW', 'GWKSVFRKAKKVGKTVGGLALDHYLG',\n",
       "       'ALWKTMLKKLGTMALHAGKAALGAAADTISQGTQ', ...,\n",
       "       'ESEFDRQEYEECKRQCMQLETSGQMRRCVSQCDKRFEEDIDWSKYDNQE',\n",
       "       'FISAIASFLGKFL', 'RLSRIVVIRVCR'], dtype=object)"
      ]
     },
     "execution_count": 15,
     "metadata": {},
     "output_type": "execute_result"
    }
   ],
   "source": [
    "df_train.sequences.str.count(\"A\")\n",
    "df_train.sequences.unique()"
   ]
  },
  {
   "cell_type": "markdown",
   "metadata": {},
   "source": [
    "Making sure there are no duplicate proteins."
   ]
  },
  {
   "cell_type": "code",
   "execution_count": 44,
   "metadata": {},
   "outputs": [
    {
     "data": {
      "text/plain": [
       "0"
      ]
     },
     "execution_count": 44,
     "metadata": {},
     "output_type": "execute_result"
    },
    {
     "data": {
      "text/plain": [
       "0"
      ]
     },
     "execution_count": 44,
     "metadata": {},
     "output_type": "execute_result"
    }
   ],
   "source": [
    "df_train[\"SequenceID\"].duplicated().sum()\n",
    "df_test[\"SequenceID\"].duplicated().sum()"
   ]
  },
  {
   "cell_type": "code",
   "execution_count": null,
   "metadata": {},
   "outputs": [],
   "source": []
  }
 ],
 "metadata": {
  "kernelspec": {
   "display_name": "Python 3.8.13 ('mle-course')",
   "language": "python",
   "name": "python3"
  },
  "language_info": {
   "codemirror_mode": {
    "name": "ipython",
    "version": 3
   },
   "file_extension": ".py",
   "mimetype": "text/x-python",
   "name": "python",
   "nbconvert_exporter": "python",
   "pygments_lexer": "ipython3",
   "version": "3.8.13"
  },
  "orig_nbformat": 4,
  "vscode": {
   "interpreter": {
    "hash": "227e226d2f65f05b8b2318de3eba0105a0c14a31aac345a5e995edf88d8cbb66"
   }
  }
 },
 "nbformat": 4,
 "nbformat_minor": 2
}
