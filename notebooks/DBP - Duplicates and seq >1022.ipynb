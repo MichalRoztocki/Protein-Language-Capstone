{
 "cells": [
  {
   "cell_type": "markdown",
   "id": "b72504f7-e163-49e4-86af-da9e6c3f8552",
   "metadata": {},
   "source": [
    "## Removing duplicates and rows with sequences > 1022"
   ]
  },
  {
   "cell_type": "markdown",
   "id": "9d1c2208-dba9-405d-8892-62476845aa1c",
   "metadata": {},
   "source": [
    "#### <u>Duplicates</u>\n",
    "We have found some duplicate sequences in the DBP train dataset so we are going to remove them.\n",
    "\n",
    "#### <u>Sequence Length</u>\n",
    "For `esm` pretrained models we will remove all rows with sequences longer than 1024, because these models, according to [ESM repo](https://github.com/facebookresearch/esm/issues/21), accept only sequences with maximum length of 1024.  \n",
    "\n",
    "Later we realized that the models also do not accept sequences with length of 1023 and 1024.  \n",
    "Sequences of length 1024 input into an ESM model give the following error:\n",
    "```\n",
    "ValueError: Sequence length 1026 above maximum  sequence length of 1024\n",
    "```\n",
    "Sequences of length 1023 input into an ESM model give the following error:\n",
    "```\n",
    "ValueError: Sequence length 1025 above maximum  sequence length of 1024\n",
    "```\n",
    "\n",
    "However, this error does not show up for sequences with lengths of 1022 amino acids or less, so for we removed all sequences longer than 1022 in the `esm` case, but not in the ProSE case.\n",
    "\n",
    "#### <u>Tokens</u>\n",
    "During processing of embeddings for the test dataset for `esm` there was another issue:\n",
    "```\n",
    "KeyError: 'v'\n",
    "```\n",
    "The `esm` accepts the following tokens:\n",
    "```\n",
    "proteinseq_toks = {\n",
    "    'toks': ['L', 'A', 'G', 'V', 'S', 'E', 'R', 'T', 'I', 'D', 'P', 'K', 'Q', 'N', 'F', 'Y', 'M', 'H', 'W', 'C', 'X', 'B', 'U', 'Z', 'O', '.', '-']\n",
    "}\n",
    "```\n",
    "\n",
    "In the last step of this notebook we will find all lowercase tokens and convert them to uppercase."
   ]
  },
  {
   "cell_type": "code",
   "execution_count": 158,
   "id": "bcba2766-293d-4877-a23a-a0ae8df58f2e",
   "metadata": {
    "execution": {
     "iopub.execute_input": "2022-09-08T14:55:08.011545Z",
     "iopub.status.busy": "2022-09-08T14:55:08.004640Z",
     "iopub.status.idle": "2022-09-08T14:55:08.052827Z",
     "shell.execute_reply": "2022-09-08T14:55:08.051414Z",
     "shell.execute_reply.started": "2022-09-08T14:55:08.011282Z"
    },
    "tags": []
   },
   "outputs": [],
   "source": [
    "# Import dependencies\n",
    "import pandas as pd"
   ]
  },
  {
   "cell_type": "markdown",
   "id": "bdc0fb85-ef07-4f2e-84dc-faf696c4a1e0",
   "metadata": {},
   "source": [
    "#### Duplicates\n",
    "Duplicates are found in DBP (DNA Binding Proteins) files only."
   ]
  },
  {
   "cell_type": "code",
   "execution_count": 2,
   "id": "0504962a-1a0b-412c-84b6-0c40b8f82913",
   "metadata": {
    "execution": {
     "iopub.execute_input": "2022-09-07T21:38:52.950000Z",
     "iopub.status.busy": "2022-09-07T21:38:52.949592Z",
     "iopub.status.idle": "2022-09-07T21:38:52.954113Z",
     "shell.execute_reply": "2022-09-07T21:38:52.953205Z",
     "shell.execute_reply.started": "2022-09-07T21:38:52.949975Z"
    },
    "tags": []
   },
   "outputs": [],
   "source": [
    "# Create file paths\n",
    "fn_test = '../data/dna_binding/test.csv'\n",
    "fn_train = '../data/dna_binding/train.csv'"
   ]
  },
  {
   "cell_type": "markdown",
   "id": "b2853ff0-a892-4688-ba89-5c9f7b94cca7",
   "metadata": {},
   "source": [
    "Create dataframes"
   ]
  },
  {
   "cell_type": "code",
   "execution_count": 3,
   "id": "fb64f22d-1ad8-4bd2-9e32-b9e741f6b21f",
   "metadata": {
    "execution": {
     "iopub.execute_input": "2022-09-07T21:39:04.203590Z",
     "iopub.status.busy": "2022-09-07T21:39:04.202920Z",
     "iopub.status.idle": "2022-09-07T21:39:04.264874Z",
     "shell.execute_reply": "2022-09-07T21:39:04.263084Z",
     "shell.execute_reply.started": "2022-09-07T21:39:04.203561Z"
    },
    "tags": []
   },
   "outputs": [
    {
     "data": {
      "text/html": [
       "<div>\n",
       "<style scoped>\n",
       "    .dataframe tbody tr th:only-of-type {\n",
       "        vertical-align: middle;\n",
       "    }\n",
       "\n",
       "    .dataframe tbody tr th {\n",
       "        vertical-align: top;\n",
       "    }\n",
       "\n",
       "    .dataframe thead th {\n",
       "        text-align: right;\n",
       "    }\n",
       "</style>\n",
       "<table border=\"1\" class=\"dataframe\">\n",
       "  <thead>\n",
       "    <tr style=\"text-align: right;\">\n",
       "      <th></th>\n",
       "      <th>code</th>\n",
       "      <th>sequence</th>\n",
       "      <th>label</th>\n",
       "      <th>origin</th>\n",
       "    </tr>\n",
       "  </thead>\n",
       "  <tbody>\n",
       "    <tr>\n",
       "      <th>0</th>\n",
       "      <td>P27204|1</td>\n",
       "      <td>AKKRSRSRKRSASRKRSRSRKRSASKKSSKKHVRKALAAGMKNHLL...</td>\n",
       "      <td>1</td>\n",
       "      <td>https://github.com/hfuulgb/PDB-Fusion/tree/mai...</td>\n",
       "    </tr>\n",
       "    <tr>\n",
       "      <th>1</th>\n",
       "      <td>P53528|1</td>\n",
       "      <td>MVMVVNPLTAGLDDEQREAVLAPRGPVCVLAGAGTGKTRTITHRIA...</td>\n",
       "      <td>1</td>\n",
       "      <td>https://github.com/hfuulgb/PDB-Fusion/tree/mai...</td>\n",
       "    </tr>\n",
       "    <tr>\n",
       "      <th>2</th>\n",
       "      <td>P52684|1</td>\n",
       "      <td>MKDDINQEITFRKLSVFMMFMAKGNIARTAEAMKLSSVSVHRALHT...</td>\n",
       "      <td>1</td>\n",
       "      <td>https://github.com/hfuulgb/PDB-Fusion/tree/mai...</td>\n",
       "    </tr>\n",
       "    <tr>\n",
       "      <th>3</th>\n",
       "      <td>P10961|1</td>\n",
       "      <td>MNNAANTGTTNESNVSDAPRIEPLPSLNDDDIEKILQPNDIFTTDR...</td>\n",
       "      <td>1</td>\n",
       "      <td>https://github.com/hfuulgb/PDB-Fusion/tree/mai...</td>\n",
       "    </tr>\n",
       "    <tr>\n",
       "      <th>4</th>\n",
       "      <td>P06023|1</td>\n",
       "      <td>MAKPAKRIKSAAAAYVPQNRDAVITDIKRIGDLQREASRLETEMND...</td>\n",
       "      <td>1</td>\n",
       "      <td>https://github.com/hfuulgb/PDB-Fusion/tree/mai...</td>\n",
       "    </tr>\n",
       "  </tbody>\n",
       "</table>\n",
       "</div>"
      ],
      "text/plain": [
       "       code                                           sequence  label  \\\n",
       "0  P27204|1  AKKRSRSRKRSASRKRSRSRKRSASKKSSKKHVRKALAAGMKNHLL...      1   \n",
       "1  P53528|1  MVMVVNPLTAGLDDEQREAVLAPRGPVCVLAGAGTGKTRTITHRIA...      1   \n",
       "2  P52684|1  MKDDINQEITFRKLSVFMMFMAKGNIARTAEAMKLSSVSVHRALHT...      1   \n",
       "3  P10961|1  MNNAANTGTTNESNVSDAPRIEPLPSLNDDDIEKILQPNDIFTTDR...      1   \n",
       "4  P06023|1  MAKPAKRIKSAAAAYVPQNRDAVITDIKRIGDLQREASRLETEMND...      1   \n",
       "\n",
       "                                              origin  \n",
       "0  https://github.com/hfuulgb/PDB-Fusion/tree/mai...  \n",
       "1  https://github.com/hfuulgb/PDB-Fusion/tree/mai...  \n",
       "2  https://github.com/hfuulgb/PDB-Fusion/tree/mai...  \n",
       "3  https://github.com/hfuulgb/PDB-Fusion/tree/mai...  \n",
       "4  https://github.com/hfuulgb/PDB-Fusion/tree/mai...  "
      ]
     },
     "execution_count": 3,
     "metadata": {},
     "output_type": "execute_result"
    }
   ],
   "source": [
    "df_test = pd.read_csv(fn_test)\n",
    "df_test.head()"
   ]
  },
  {
   "cell_type": "code",
   "execution_count": 4,
   "id": "f5f500cf-15ec-4b8a-b62b-659c896fff1c",
   "metadata": {
    "execution": {
     "iopub.execute_input": "2022-09-07T21:39:07.150237Z",
     "iopub.status.busy": "2022-09-07T21:39:07.149899Z",
     "iopub.status.idle": "2022-09-07T21:39:07.279312Z",
     "shell.execute_reply": "2022-09-07T21:39:07.278210Z",
     "shell.execute_reply.started": "2022-09-07T21:39:07.150215Z"
    },
    "tags": []
   },
   "outputs": [
    {
     "data": {
      "text/html": [
       "<div>\n",
       "<style scoped>\n",
       "    .dataframe tbody tr th:only-of-type {\n",
       "        vertical-align: middle;\n",
       "    }\n",
       "\n",
       "    .dataframe tbody tr th {\n",
       "        vertical-align: top;\n",
       "    }\n",
       "\n",
       "    .dataframe thead th {\n",
       "        text-align: right;\n",
       "    }\n",
       "</style>\n",
       "<table border=\"1\" class=\"dataframe\">\n",
       "  <thead>\n",
       "    <tr style=\"text-align: right;\">\n",
       "      <th></th>\n",
       "      <th>code</th>\n",
       "      <th>sequence</th>\n",
       "      <th>label</th>\n",
       "      <th>origin</th>\n",
       "    </tr>\n",
       "  </thead>\n",
       "  <tbody>\n",
       "    <tr>\n",
       "      <th>0</th>\n",
       "      <td>Q6A8L0</td>\n",
       "      <td>MSGHSKWATTKHKKAAIDAKRGKLFARLIKNIEVAARLGGGDPSGN...</td>\n",
       "      <td>1</td>\n",
       "      <td>https://github.com/hfuulgb/PDB-Fusion/tree/mai...</td>\n",
       "    </tr>\n",
       "    <tr>\n",
       "      <th>1</th>\n",
       "      <td>Q7V7T9</td>\n",
       "      <td>MIGWLQGQKVEAWQQGTRQGVVLACAGVGYEVQIAPRHLSEMEHGQ...</td>\n",
       "      <td>1</td>\n",
       "      <td>https://github.com/hfuulgb/PDB-Fusion/tree/mai...</td>\n",
       "    </tr>\n",
       "    <tr>\n",
       "      <th>2</th>\n",
       "      <td>Q9ZUP2</td>\n",
       "      <td>MARILRNVYSLRSSLFSSELLRRSVVGTSFQLRGFAAKAKKKSKSD...</td>\n",
       "      <td>1</td>\n",
       "      <td>https://github.com/hfuulgb/PDB-Fusion/tree/mai...</td>\n",
       "    </tr>\n",
       "    <tr>\n",
       "      <th>3</th>\n",
       "      <td>Q2JVG1</td>\n",
       "      <td>MKCPRCGKQEIRVLESRSAEGGQSVRRRRECMSCGYRFTTYERIEF...</td>\n",
       "      <td>1</td>\n",
       "      <td>https://github.com/hfuulgb/PDB-Fusion/tree/mai...</td>\n",
       "    </tr>\n",
       "    <tr>\n",
       "      <th>4</th>\n",
       "      <td>Q9K4Q3</td>\n",
       "      <td>MTKADIIEGVYEKVGFSKKESAEIVELVFDTLKETLERGDKIKISG...</td>\n",
       "      <td>1</td>\n",
       "      <td>https://github.com/hfuulgb/PDB-Fusion/tree/mai...</td>\n",
       "    </tr>\n",
       "  </tbody>\n",
       "</table>\n",
       "</div>"
      ],
      "text/plain": [
       "     code                                           sequence  label  \\\n",
       "0  Q6A8L0  MSGHSKWATTKHKKAAIDAKRGKLFARLIKNIEVAARLGGGDPSGN...      1   \n",
       "1  Q7V7T9  MIGWLQGQKVEAWQQGTRQGVVLACAGVGYEVQIAPRHLSEMEHGQ...      1   \n",
       "2  Q9ZUP2  MARILRNVYSLRSSLFSSELLRRSVVGTSFQLRGFAAKAKKKSKSD...      1   \n",
       "3  Q2JVG1  MKCPRCGKQEIRVLESRSAEGGQSVRRRRECMSCGYRFTTYERIEF...      1   \n",
       "4  Q9K4Q3  MTKADIIEGVYEKVGFSKKESAEIVELVFDTLKETLERGDKIKISG...      1   \n",
       "\n",
       "                                              origin  \n",
       "0  https://github.com/hfuulgb/PDB-Fusion/tree/mai...  \n",
       "1  https://github.com/hfuulgb/PDB-Fusion/tree/mai...  \n",
       "2  https://github.com/hfuulgb/PDB-Fusion/tree/mai...  \n",
       "3  https://github.com/hfuulgb/PDB-Fusion/tree/mai...  \n",
       "4  https://github.com/hfuulgb/PDB-Fusion/tree/mai...  "
      ]
     },
     "execution_count": 4,
     "metadata": {},
     "output_type": "execute_result"
    }
   ],
   "source": [
    "df_train = pd.read_csv(fn_train)\n",
    "df_train.head()"
   ]
  },
  {
   "cell_type": "markdown",
   "id": "cbc7aaca-020e-4b6f-b8e5-8db039459ab9",
   "metadata": {},
   "source": [
    "Check dimensions"
   ]
  },
  {
   "cell_type": "code",
   "execution_count": 5,
   "id": "8b203a0d-a64b-48c1-aaa9-92622a204772",
   "metadata": {
    "execution": {
     "iopub.execute_input": "2022-09-07T21:39:16.492026Z",
     "iopub.status.busy": "2022-09-07T21:39:16.491755Z",
     "iopub.status.idle": "2022-09-07T21:39:16.497029Z",
     "shell.execute_reply": "2022-09-07T21:39:16.496093Z",
     "shell.execute_reply.started": "2022-09-07T21:39:16.492006Z"
    },
    "tags": []
   },
   "outputs": [
    {
     "name": "stdout",
     "output_type": "stream",
     "text": [
      "Test: (2272, 4)\n",
      "Train: (14189, 4)\n"
     ]
    }
   ],
   "source": [
    "print(f'Test: {df_test.shape}')\n",
    "print(f'Train: {df_train.shape}')"
   ]
  },
  {
   "cell_type": "markdown",
   "id": "0764f6cb-0eed-4055-808f-5d205bc13981",
   "metadata": {},
   "source": [
    "Check for duplicates"
   ]
  },
  {
   "cell_type": "code",
   "execution_count": 6,
   "id": "77f28b4b-62cf-45f6-be39-f5b31ffc63df",
   "metadata": {
    "execution": {
     "iopub.execute_input": "2022-09-07T21:39:23.398855Z",
     "iopub.status.busy": "2022-09-07T21:39:23.398578Z",
     "iopub.status.idle": "2022-09-07T21:39:23.426533Z",
     "shell.execute_reply": "2022-09-07T21:39:23.425671Z",
     "shell.execute_reply.started": "2022-09-07T21:39:23.398835Z"
    },
    "tags": []
   },
   "outputs": [
    {
     "data": {
      "text/plain": [
       "312"
      ]
     },
     "execution_count": 6,
     "metadata": {},
     "output_type": "execute_result"
    }
   ],
   "source": [
    "df_train.duplicated(subset='sequence', keep=False).sum()"
   ]
  },
  {
   "cell_type": "code",
   "execution_count": 7,
   "id": "3e236944-28ee-4a9e-9041-dc212486b48c",
   "metadata": {
    "execution": {
     "iopub.execute_input": "2022-09-07T21:39:26.219634Z",
     "iopub.status.busy": "2022-09-07T21:39:26.219328Z",
     "iopub.status.idle": "2022-09-07T21:39:26.227949Z",
     "shell.execute_reply": "2022-09-07T21:39:26.226982Z",
     "shell.execute_reply.started": "2022-09-07T21:39:26.219599Z"
    },
    "tags": []
   },
   "outputs": [
    {
     "data": {
      "text/plain": [
       "0"
      ]
     },
     "execution_count": 7,
     "metadata": {},
     "output_type": "execute_result"
    }
   ],
   "source": [
    "df_test.duplicated(subset='sequence', keep=False).sum()"
   ]
  },
  {
   "cell_type": "markdown",
   "id": "21ac1a9e-c926-4e37-a79e-258fe6dd9e02",
   "metadata": {},
   "source": [
    "No duplicates in the test file but there are 312 rows in the train file.\n",
    "\n",
    "We need to decide which duplicate to keep, the first or last occurrence of the sequence. The default is the first occurrence."
   ]
  },
  {
   "cell_type": "code",
   "execution_count": 8,
   "id": "17d665c2-ed97-40dc-9da4-44d1274a39c2",
   "metadata": {
    "execution": {
     "iopub.execute_input": "2022-09-07T21:39:36.680986Z",
     "iopub.status.busy": "2022-09-07T21:39:36.680546Z",
     "iopub.status.idle": "2022-09-07T21:39:36.700849Z",
     "shell.execute_reply": "2022-09-07T21:39:36.700017Z",
     "shell.execute_reply.started": "2022-09-07T21:39:36.680945Z"
    },
    "tags": []
   },
   "outputs": [
    {
     "data": {
      "text/plain": [
       "173"
      ]
     },
     "execution_count": 8,
     "metadata": {},
     "output_type": "execute_result"
    }
   ],
   "source": [
    "df_train.duplicated(subset='sequence', keep='first').sum()"
   ]
  },
  {
   "cell_type": "markdown",
   "id": "dd306947-6e24-47fd-8c2f-4ea8a6092f52",
   "metadata": {},
   "source": [
    "We will drop 173 rows of these 312 duplicates. Some sequences have more than 2 copies."
   ]
  },
  {
   "cell_type": "code",
   "execution_count": 9,
   "id": "ce1d6d35-4534-424b-970c-e8a29c008755",
   "metadata": {
    "execution": {
     "iopub.execute_input": "2022-09-07T21:39:54.772839Z",
     "iopub.status.busy": "2022-09-07T21:39:54.772564Z",
     "iopub.status.idle": "2022-09-07T21:39:54.794492Z",
     "shell.execute_reply": "2022-09-07T21:39:54.793526Z",
     "shell.execute_reply.started": "2022-09-07T21:39:54.772819Z"
    },
    "tags": []
   },
   "outputs": [
    {
     "data": {
      "text/plain": [
       "(14016, 4)"
      ]
     },
     "execution_count": 9,
     "metadata": {},
     "output_type": "execute_result"
    }
   ],
   "source": [
    "df_train = df_train.drop_duplicates(subset='sequence')\n",
    "df_train.shape"
   ]
  },
  {
   "cell_type": "markdown",
   "id": "7a3078b4-43a2-4b8a-b87f-ab0602cb321f",
   "metadata": {},
   "source": [
    "Save these two dataframes as .csv files for `prose` pretrained models"
   ]
  },
  {
   "cell_type": "code",
   "execution_count": 90,
   "id": "762c8372-5017-4fd7-9feb-fc6ab22478c6",
   "metadata": {
    "execution": {
     "iopub.execute_input": "2022-09-03T21:00:24.433971Z",
     "iopub.status.busy": "2022-09-03T21:00:24.433184Z",
     "iopub.status.idle": "2022-09-03T21:00:24.779394Z",
     "shell.execute_reply": "2022-09-03T21:00:24.778415Z",
     "shell.execute_reply.started": "2022-09-03T21:00:24.433947Z"
    },
    "tags": []
   },
   "outputs": [],
   "source": [
    "df_test.to_csv('../data/dna_binding/test_prose.csv', index=False)\n",
    "df_train.to_csv('../data/dna_binding/train_prose.csv', index=False)"
   ]
  },
  {
   "cell_type": "markdown",
   "id": "59e5cf6a-f007-45ab-923e-fd7a25554ce7",
   "metadata": {},
   "source": [
    "#### Sequence Length"
   ]
  },
  {
   "cell_type": "markdown",
   "id": "02bd88b7-c770-483d-adb2-2b3bc9e925ee",
   "metadata": {},
   "source": [
    "`esm` pretrained models only accept sequences with a maximum length of 1022.  \n",
    "\n",
    "We will remove all sequences with a length above 1022 amino acids.\n",
    "\n",
    "**Train dataset**"
   ]
  },
  {
   "cell_type": "code",
   "execution_count": 10,
   "id": "80d3dc7e-e302-4af0-a003-c41c88f07464",
   "metadata": {
    "execution": {
     "iopub.execute_input": "2022-09-07T21:40:44.884827Z",
     "iopub.status.busy": "2022-09-07T21:40:44.884562Z",
     "iopub.status.idle": "2022-09-07T21:40:44.895802Z",
     "shell.execute_reply": "2022-09-07T21:40:44.894854Z",
     "shell.execute_reply.started": "2022-09-07T21:40:44.884807Z"
    },
    "tags": []
   },
   "outputs": [
    {
     "data": {
      "text/plain": [
       "908"
      ]
     },
     "execution_count": 10,
     "metadata": {},
     "output_type": "execute_result"
    }
   ],
   "source": [
    "(df_train.sequence.map(len) > 1022).sum()"
   ]
  },
  {
   "cell_type": "markdown",
   "id": "073e8ca2-ff4d-44c6-8c60-6b4e55e64ff2",
   "metadata": {},
   "source": [
    "There are 908 sequences longer than 1022 in the train dataset.\n",
    "\n",
    "Let's remove them."
   ]
  },
  {
   "cell_type": "code",
   "execution_count": 11,
   "id": "23def49c-8399-41f9-91a6-4a995de1f309",
   "metadata": {
    "execution": {
     "iopub.execute_input": "2022-09-07T21:42:45.559073Z",
     "iopub.status.busy": "2022-09-07T21:42:45.553250Z",
     "iopub.status.idle": "2022-09-07T21:42:45.748786Z",
     "shell.execute_reply": "2022-09-07T21:42:45.746803Z",
     "shell.execute_reply.started": "2022-09-07T21:42:45.558781Z"
    },
    "tags": []
   },
   "outputs": [
    {
     "data": {
      "text/plain": [
       "(13108, 4)"
      ]
     },
     "execution_count": 11,
     "metadata": {},
     "output_type": "execute_result"
    }
   ],
   "source": [
    "mask = (df_train.sequence.map(len) <= 1022)\n",
    "df_train = df_train[mask]\n",
    "df_train.shape"
   ]
  },
  {
   "cell_type": "markdown",
   "id": "a7fe9468-f3aa-461c-9910-05571b45e3ca",
   "metadata": {
    "execution": {
     "iopub.execute_input": "2022-09-03T21:42:41.332821Z",
     "iopub.status.busy": "2022-09-03T21:42:41.332540Z",
     "iopub.status.idle": "2022-09-03T21:42:41.339386Z",
     "shell.execute_reply": "2022-09-03T21:42:41.338262Z",
     "shell.execute_reply.started": "2022-09-03T21:42:41.332801Z"
    },
    "tags": []
   },
   "source": [
    "Working now on **test dataset**"
   ]
  },
  {
   "cell_type": "code",
   "execution_count": 12,
   "id": "f66815c0-cf96-4d32-84b7-c806c7bcf87e",
   "metadata": {
    "execution": {
     "iopub.execute_input": "2022-09-07T21:43:05.683726Z",
     "iopub.status.busy": "2022-09-07T21:43:05.683432Z",
     "iopub.status.idle": "2022-09-07T21:43:05.701364Z",
     "shell.execute_reply": "2022-09-07T21:43:05.700694Z",
     "shell.execute_reply.started": "2022-09-07T21:43:05.683706Z"
    },
    "tags": []
   },
   "outputs": [
    {
     "data": {
      "text/plain": [
       "191"
      ]
     },
     "execution_count": 12,
     "metadata": {},
     "output_type": "execute_result"
    }
   ],
   "source": [
    "(df_test.sequence.map(len) > 1022).sum()"
   ]
  },
  {
   "cell_type": "markdown",
   "id": "83edcaa6-ef10-4e86-a52c-73ca233541bd",
   "metadata": {},
   "source": [
    "There are 191 sequences longer than 1022 in the test data set. \n",
    "\n",
    "Let's remove them."
   ]
  },
  {
   "cell_type": "code",
   "execution_count": 13,
   "id": "3d7060e3-5957-489b-9d58-c48daac614a7",
   "metadata": {
    "execution": {
     "iopub.execute_input": "2022-09-07T21:43:56.877381Z",
     "iopub.status.busy": "2022-09-07T21:43:56.876846Z",
     "iopub.status.idle": "2022-09-07T21:43:56.888300Z",
     "shell.execute_reply": "2022-09-07T21:43:56.887380Z",
     "shell.execute_reply.started": "2022-09-07T21:43:56.877342Z"
    },
    "tags": []
   },
   "outputs": [
    {
     "data": {
      "text/plain": [
       "(2081, 4)"
      ]
     },
     "execution_count": 13,
     "metadata": {},
     "output_type": "execute_result"
    }
   ],
   "source": [
    "mask = (df_test.sequence.map(len) <= 1022)\n",
    "df_test = df_test[mask]\n",
    "df_test.shape"
   ]
  },
  {
   "cell_type": "markdown",
   "id": "b4e0d0a6-1df9-477b-afc0-7d727404f134",
   "metadata": {},
   "source": [
    "#### Lowercase Tokens"
   ]
  },
  {
   "cell_type": "code",
   "execution_count": 16,
   "id": "2a45eeca-317a-467e-b758-f296ba9d43af",
   "metadata": {
    "execution": {
     "iopub.execute_input": "2022-09-08T02:02:19.745185Z",
     "iopub.status.busy": "2022-09-08T02:02:19.744217Z",
     "iopub.status.idle": "2022-09-08T02:02:19.834355Z",
     "shell.execute_reply": "2022-09-08T02:02:19.832819Z",
     "shell.execute_reply.started": "2022-09-08T02:02:19.745137Z"
    },
    "tags": []
   },
   "outputs": [
    {
     "data": {
      "text/html": [
       "<div>\n",
       "<style scoped>\n",
       "    .dataframe tbody tr th:only-of-type {\n",
       "        vertical-align: middle;\n",
       "    }\n",
       "\n",
       "    .dataframe tbody tr th {\n",
       "        vertical-align: top;\n",
       "    }\n",
       "\n",
       "    .dataframe thead th {\n",
       "        text-align: right;\n",
       "    }\n",
       "</style>\n",
       "<table border=\"1\" class=\"dataframe\">\n",
       "  <thead>\n",
       "    <tr style=\"text-align: right;\">\n",
       "      <th></th>\n",
       "      <th>code</th>\n",
       "      <th>sequence</th>\n",
       "      <th>label</th>\n",
       "      <th>origin</th>\n",
       "    </tr>\n",
       "  </thead>\n",
       "  <tbody>\n",
       "    <tr>\n",
       "      <th>0</th>\n",
       "      <td>P27204|1</td>\n",
       "      <td>AKKRSRSRKRSASRKRSRSRKRSASKKSSKKHVRKALAAGMKNHLL...</td>\n",
       "      <td>1</td>\n",
       "      <td>https://github.com/hfuulgb/PDB-Fusion/tree/mai...</td>\n",
       "    </tr>\n",
       "    <tr>\n",
       "      <th>1</th>\n",
       "      <td>P53528|1</td>\n",
       "      <td>MVMVVNPLTAGLDDEQREAVLAPRGPVCVLAGAGTGKTRTITHRIA...</td>\n",
       "      <td>1</td>\n",
       "      <td>https://github.com/hfuulgb/PDB-Fusion/tree/mai...</td>\n",
       "    </tr>\n",
       "  </tbody>\n",
       "</table>\n",
       "</div>"
      ],
      "text/plain": [
       "       code                                           sequence  label  \\\n",
       "0  P27204|1  AKKRSRSRKRSASRKRSRSRKRSASKKSSKKHVRKALAAGMKNHLL...      1   \n",
       "1  P53528|1  MVMVVNPLTAGLDDEQREAVLAPRGPVCVLAGAGTGKTRTITHRIA...      1   \n",
       "\n",
       "                                              origin  \n",
       "0  https://github.com/hfuulgb/PDB-Fusion/tree/mai...  \n",
       "1  https://github.com/hfuulgb/PDB-Fusion/tree/mai...  "
      ]
     },
     "execution_count": 16,
     "metadata": {},
     "output_type": "execute_result"
    }
   ],
   "source": [
    "df_test.head(2)"
   ]
  },
  {
   "cell_type": "markdown",
   "id": "d641f3f9-ce7b-4577-b3a8-f8531e6b22f8",
   "metadata": {},
   "source": [
    "We will use this helper function to find lowercase tokens."
   ]
  },
  {
   "cell_type": "code",
   "execution_count": 163,
   "id": "712c81ce-f022-4400-bd01-08a5a3968fb5",
   "metadata": {
    "execution": {
     "iopub.execute_input": "2022-09-08T15:22:48.848384Z",
     "iopub.status.busy": "2022-09-08T15:22:48.848082Z",
     "iopub.status.idle": "2022-09-08T15:22:48.855405Z",
     "shell.execute_reply": "2022-09-08T15:22:48.854201Z",
     "shell.execute_reply.started": "2022-09-08T15:22:48.848360Z"
    },
    "tags": []
   },
   "outputs": [],
   "source": [
    "def lowercase_token(df):\n",
    "    \"\"\" Find and print info about lowercase tokens\n",
    "    Args:\n",
    "        df: dataframe to check for lowercase tokens      \n",
    "    Returns:\n",
    "        Print info about lowercase tokens\n",
    "    \"\"\"   \n",
    "    # Initialize Boolean value for printing\n",
    "    prt = False\n",
    "    # Loop through every row\n",
    "    for idx in range(len(df)):\n",
    "        row = df.iloc[idx]\n",
    "        # Iterate through every character in the sequence\n",
    "        for i, c in enumerate(row.sequence):\n",
    "            # Printo info about lowercase token\n",
    "            if c.islower():\n",
    "                if not prt:\n",
    "                    print('', 'Lowercase tokens:', '\\n', '='*17)\n",
    "                print(f'Sequence ID {row.code} (index={idx}) has lowercase \\'{c}\\' at position {i}')\n",
    "                prt = True\n",
    "    if not prt:\n",
    "        print('No lowercase tokens!')"
   ]
  },
  {
   "cell_type": "code",
   "execution_count": 164,
   "id": "25bd332c-d72e-433c-8e9a-7088b5baf970",
   "metadata": {
    "execution": {
     "iopub.execute_input": "2022-09-08T15:22:51.062917Z",
     "iopub.status.busy": "2022-09-08T15:22:51.062234Z",
     "iopub.status.idle": "2022-09-08T15:22:51.329340Z",
     "shell.execute_reply": "2022-09-08T15:22:51.328203Z",
     "shell.execute_reply.started": "2022-09-08T15:22:51.062892Z"
    },
    "tags": []
   },
   "outputs": [
    {
     "name": "stdout",
     "output_type": "stream",
     "text": [
      " Lowercase tokens: \n",
      " =================\n",
      "Sequence ID Q9LXX6|2 (index=2007) has lowercase 'v' at position 623\n"
     ]
    }
   ],
   "source": [
    "lowercase_token(df_test)"
   ]
  },
  {
   "cell_type": "code",
   "execution_count": 165,
   "id": "cc345afa-9d65-4617-9bd6-4acc755ca044",
   "metadata": {
    "execution": {
     "iopub.execute_input": "2022-09-08T15:22:56.728590Z",
     "iopub.status.busy": "2022-09-08T15:22:56.728324Z",
     "iopub.status.idle": "2022-09-08T15:22:58.157805Z",
     "shell.execute_reply": "2022-09-08T15:22:58.156837Z",
     "shell.execute_reply.started": "2022-09-08T15:22:56.728571Z"
    },
    "tags": []
   },
   "outputs": [
    {
     "name": "stdout",
     "output_type": "stream",
     "text": [
      "No lowercase tokens!\n"
     ]
    }
   ],
   "source": [
    "lowercase_token(df_train)"
   ]
  },
  {
   "cell_type": "markdown",
   "id": "7de757c1-9290-4fa6-90ff-744c3a73612a",
   "metadata": {},
   "source": [
    "As we can see there are no lowercase tokens in the train data set, and there is only one in the test data set. \n",
    "\n",
    "Let's convert it to uppercase."
   ]
  },
  {
   "cell_type": "code",
   "execution_count": 184,
   "id": "d37c1d46-9c2d-439f-a055-54056b73bb93",
   "metadata": {
    "execution": {
     "iopub.execute_input": "2022-09-08T15:50:49.152086Z",
     "iopub.status.busy": "2022-09-08T15:50:49.151787Z",
     "iopub.status.idle": "2022-09-08T15:50:49.157881Z",
     "shell.execute_reply": "2022-09-08T15:50:49.156923Z",
     "shell.execute_reply.started": "2022-09-08T15:50:49.152065Z"
    },
    "tags": []
   },
   "outputs": [],
   "source": [
    "df_test.loc[df_test.code == 'Q9LXX6|2', 'sequence'] = df_test.iloc[2007].sequence.upper()"
   ]
  },
  {
   "cell_type": "markdown",
   "id": "7c6761e8-6891-421b-a508-a1cd4751d691",
   "metadata": {},
   "source": [
    "Check conversion"
   ]
  },
  {
   "cell_type": "code",
   "execution_count": 185,
   "id": "2e5979a0-0916-45f5-8748-d1cd572bde44",
   "metadata": {
    "execution": {
     "iopub.execute_input": "2022-09-08T15:51:53.200651Z",
     "iopub.status.busy": "2022-09-08T15:51:53.200360Z",
     "iopub.status.idle": "2022-09-08T15:51:53.445110Z",
     "shell.execute_reply": "2022-09-08T15:51:53.443899Z",
     "shell.execute_reply.started": "2022-09-08T15:51:53.200629Z"
    }
   },
   "outputs": [
    {
     "name": "stdout",
     "output_type": "stream",
     "text": [
      "No lowercase tokens!\n"
     ]
    }
   ],
   "source": [
    "lowercase_token(df_test)"
   ]
  },
  {
   "cell_type": "markdown",
   "id": "700e9896-2c4b-41ad-a0e2-673bfe15d452",
   "metadata": {},
   "source": [
    "And now, save these two dataframes as .csv file for `esm` pretrained models."
   ]
  },
  {
   "cell_type": "code",
   "execution_count": 188,
   "id": "7a8922d5-fe10-4971-9b7c-4bd395899e46",
   "metadata": {
    "execution": {
     "iopub.execute_input": "2022-09-08T15:59:11.974945Z",
     "iopub.status.busy": "2022-09-08T15:59:11.974634Z",
     "iopub.status.idle": "2022-09-08T15:59:12.298401Z",
     "shell.execute_reply": "2022-09-08T15:59:12.297407Z",
     "shell.execute_reply.started": "2022-09-08T15:59:11.974924Z"
    },
    "tags": []
   },
   "outputs": [],
   "source": [
    "df_test.to_csv('../data/dna_binding/test_esm.csv', index=False)\n",
    "df_train.to_csv('../data/dna_binding/train_esm.csv', index=False)"
   ]
  },
  {
   "cell_type": "markdown",
   "id": "a22238c0-cf5e-444f-9cb6-64311257ca15",
   "metadata": {},
   "source": [
    "This concludes cleanup of DBP .csv datasets."
   ]
  }
 ],
 "metadata": {
  "kernelspec": {
   "display_name": "sa",
   "language": "python",
   "name": "conda-env-sa-py"
  },
  "language_info": {
   "codemirror_mode": {
    "name": "ipython",
    "version": 3
   },
   "file_extension": ".py",
   "mimetype": "text/x-python",
   "name": "python",
   "nbconvert_exporter": "python",
   "pygments_lexer": "ipython3",
   "version": "3.8.13"
  },
  "widgets": {
   "application/vnd.jupyter.widget-state+json": {
    "state": {},
    "version_major": 2,
    "version_minor": 0
   }
  }
 },
 "nbformat": 4,
 "nbformat_minor": 5
}
