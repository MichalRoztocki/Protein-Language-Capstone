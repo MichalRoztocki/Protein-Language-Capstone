{
 "cells": [
  {
   "cell_type": "markdown",
   "id": "fdb0965d-0cd3-4ff3-9d13-330896e56484",
   "metadata": {},
   "source": [
    "# Conversion of csv files to fasta files"
   ]
  },
  {
   "cell_type": "markdown",
   "id": "2032cbae-41e4-4e19-93f3-03d0511507b1",
   "metadata": {
    "tags": []
   },
   "source": [
    "We have received all files in the csv format. Both repositories with pretrained transformer models ([Facebook's Evolutionary Scale Modeling](https://github.com/facebookresearch/esm), [Protein Sequence Embeddings (ProSE)](https://github.com/tbepler/prose)) are using fasta formatted files as input. That is why, in this notebook we will transfer all our csv files to fasta files. \n",
    "\n",
    "We have created the script *convert_csv_to_fasta.py* to help us with that.\n",
    "\n",
    "We will follow the fasta header formatting used by the Evolutionary Scale Modeling (ESM) team from Facebook AI Research and adjust it for our data:  \n",
    "\n",
    "`>{index}|{sequence_id}|{label}`  \n",
    "\n",
    "where:\n",
    "- `index` - index of the sequence in the fasta file  \n",
    "- `sequence_id` - PBD code for the sequence  \n",
    "- `label` - class label (0, 1) for the protein  \n",
    "\n"
   ]
  },
  {
   "cell_type": "code",
   "execution_count": 1,
   "id": "76068524-9010-40e1-be2e-bdee02be05c2",
   "metadata": {
    "execution": {
     "iopub.execute_input": "2022-10-02T23:13:17.460667Z",
     "iopub.status.busy": "2022-10-02T23:13:17.460353Z",
     "iopub.status.idle": "2022-10-02T23:13:17.783595Z",
     "shell.execute_reply": "2022-10-02T23:13:17.782671Z",
     "shell.execute_reply.started": "2022-10-02T23:13:17.460611Z"
    },
    "tags": []
   },
   "outputs": [],
   "source": [
    "# Import dependencies\n",
    "import pandas as pd"
   ]
  },
  {
   "cell_type": "code",
   "execution_count": 2,
   "id": "c46aee90-4929-4a39-8c0f-f70b8b7c1d81",
   "metadata": {
    "execution": {
     "iopub.execute_input": "2022-10-02T23:13:17.785305Z",
     "iopub.status.busy": "2022-10-02T23:13:17.784897Z",
     "iopub.status.idle": "2022-10-02T23:13:17.819682Z",
     "shell.execute_reply": "2022-10-02T23:13:17.818602Z",
     "shell.execute_reply.started": "2022-10-02T23:13:17.785282Z"
    },
    "tags": []
   },
   "outputs": [],
   "source": [
    "# Import the script from different folder\n",
    "import sys  \n",
    "sys.path.append('../../scripts')\n",
    "\n",
    "import convert_csv_to_fasta as cf"
   ]
  },
  {
   "cell_type": "markdown",
   "id": "3f752fb0-5a28-47f5-b86c-e29dc0563609",
   "metadata": {
    "tags": []
   },
   "source": [
    "## ACP - Anti Cancer Peptides\n",
    "\n",
    "Therapeutic peptide drugs which target and kill cancer cells.\n"
   ]
  },
  {
   "cell_type": "markdown",
   "id": "1d27b2a6-1faa-40d9-81e8-04a33164d07e",
   "metadata": {},
   "source": [
    "ACP datasets do not have PBD Codes listed. The conversion script will insert sequential protein \"names\" needed for fasta format.\n",
    "\n",
    "The format of the added names is <code>Protein_seq_xxxx</code> where <code>xxxx</code> is a sequential row number padded with zeros."
   ]
  },
  {
   "cell_type": "markdown",
   "id": "8fa75649-2dc2-4f98-830c-1f9531a0c851",
   "metadata": {
    "execution": {
     "iopub.execute_input": "2022-08-08T21:45:14.059188Z",
     "iopub.status.busy": "2022-08-08T21:45:14.056742Z",
     "iopub.status.idle": "2022-08-08T21:45:14.090136Z",
     "shell.execute_reply": "2022-08-08T21:45:14.088756Z",
     "shell.execute_reply.started": "2022-08-08T21:45:14.058958Z"
    }
   },
   "source": [
    "### Train Dataset"
   ]
  },
  {
   "cell_type": "code",
   "execution_count": 3,
   "id": "867cdb39-928d-43fb-a8bd-675de1315ebd",
   "metadata": {
    "execution": {
     "iopub.execute_input": "2022-10-02T23:13:17.820862Z",
     "iopub.status.busy": "2022-10-02T23:13:17.820634Z",
     "iopub.status.idle": "2022-10-02T23:13:17.825345Z",
     "shell.execute_reply": "2022-10-02T23:13:17.824271Z",
     "shell.execute_reply.started": "2022-10-02T23:13:17.820841Z"
    },
    "tags": []
   },
   "outputs": [],
   "source": [
    "# Define paths\n",
    "csv_file = '../../data/acp/train_data.csv'\n",
    "fasta_file = '../../data/acp/train_data.fa'"
   ]
  },
  {
   "cell_type": "code",
   "execution_count": 4,
   "id": "557ee4f2-7869-4d98-8748-670a07aa76ba",
   "metadata": {
    "execution": {
     "iopub.execute_input": "2022-10-02T23:13:17.826894Z",
     "iopub.status.busy": "2022-10-02T23:13:17.826456Z",
     "iopub.status.idle": "2022-10-02T23:13:17.866819Z",
     "shell.execute_reply": "2022-10-02T23:13:17.865438Z",
     "shell.execute_reply.started": "2022-10-02T23:13:17.826855Z"
    },
    "tags": []
   },
   "outputs": [
    {
     "name": "stdout",
     "output_type": "stream",
     "text": [
      "(1378, 2)\n"
     ]
    },
    {
     "data": {
      "text/html": [
       "<div>\n",
       "<style scoped>\n",
       "    .dataframe tbody tr th:only-of-type {\n",
       "        vertical-align: middle;\n",
       "    }\n",
       "\n",
       "    .dataframe tbody tr th {\n",
       "        vertical-align: top;\n",
       "    }\n",
       "\n",
       "    .dataframe thead th {\n",
       "        text-align: right;\n",
       "    }\n",
       "</style>\n",
       "<table border=\"1\" class=\"dataframe\">\n",
       "  <thead>\n",
       "    <tr style=\"text-align: right;\">\n",
       "      <th></th>\n",
       "      <th>sequences</th>\n",
       "      <th>label</th>\n",
       "    </tr>\n",
       "  </thead>\n",
       "  <tbody>\n",
       "    <tr>\n",
       "      <th>0</th>\n",
       "      <td>RRWWRRWRRW</td>\n",
       "      <td>0</td>\n",
       "    </tr>\n",
       "    <tr>\n",
       "      <th>1</th>\n",
       "      <td>GWKSVFRKAKKVGKTVGGLALDHYLG</td>\n",
       "      <td>0</td>\n",
       "    </tr>\n",
       "    <tr>\n",
       "      <th>2</th>\n",
       "      <td>ALWKTMLKKLGTMALHAGKAALGAAADTISQGTQ</td>\n",
       "      <td>1</td>\n",
       "    </tr>\n",
       "    <tr>\n",
       "      <th>3</th>\n",
       "      <td>GLFDVIKKVAAVIGGL</td>\n",
       "      <td>1</td>\n",
       "    </tr>\n",
       "    <tr>\n",
       "      <th>4</th>\n",
       "      <td>VAKLLAKLAKKVL</td>\n",
       "      <td>1</td>\n",
       "    </tr>\n",
       "  </tbody>\n",
       "</table>\n",
       "</div>"
      ],
      "text/plain": [
       "                            sequences  label\n",
       "0                          RRWWRRWRRW      0\n",
       "1          GWKSVFRKAKKVGKTVGGLALDHYLG      0\n",
       "2  ALWKTMLKKLGTMALHAGKAALGAAADTISQGTQ      1\n",
       "3                    GLFDVIKKVAAVIGGL      1\n",
       "4                       VAKLLAKLAKKVL      1"
      ]
     },
     "execution_count": 4,
     "metadata": {},
     "output_type": "execute_result"
    }
   ],
   "source": [
    "# Create dataframe to see data format\n",
    "df = pd.read_csv(csv_file)\n",
    "print(df.shape)\n",
    "df.head()"
   ]
  },
  {
   "cell_type": "markdown",
   "id": "6d829e9d-8954-4b1e-bfd8-a3448047c6ca",
   "metadata": {},
   "source": [
    "Run conversion"
   ]
  },
  {
   "cell_type": "code",
   "execution_count": 5,
   "id": "005acc17-2fd4-48a9-9eb1-c9c750e22d1c",
   "metadata": {
    "execution": {
     "iopub.execute_input": "2022-10-02T23:13:17.871886Z",
     "iopub.status.busy": "2022-10-02T23:13:17.871236Z",
     "iopub.status.idle": "2022-10-02T23:13:17.895056Z",
     "shell.execute_reply": "2022-10-02T23:13:17.893320Z",
     "shell.execute_reply.started": "2022-10-02T23:13:17.871859Z"
    },
    "tags": []
   },
   "outputs": [],
   "source": [
    "# Run the script\n",
    "cf.csv_to_fasta(csv_file, fasta_file)"
   ]
  },
  {
   "cell_type": "markdown",
   "id": "7fe4a304-3c6b-4854-83f4-025701f5569d",
   "metadata": {
    "execution": {
     "iopub.execute_input": "2022-08-08T21:45:14.059188Z",
     "iopub.status.busy": "2022-08-08T21:45:14.056742Z",
     "iopub.status.idle": "2022-08-08T21:45:14.090136Z",
     "shell.execute_reply": "2022-08-08T21:45:14.088756Z",
     "shell.execute_reply.started": "2022-08-08T21:45:14.058958Z"
    }
   },
   "source": [
    "### Test Dataset"
   ]
  },
  {
   "cell_type": "code",
   "execution_count": 6,
   "id": "7517e712-e6ba-4841-b66b-b45a9423d852",
   "metadata": {
    "execution": {
     "iopub.execute_input": "2022-10-02T23:13:17.898042Z",
     "iopub.status.busy": "2022-10-02T23:13:17.896763Z",
     "iopub.status.idle": "2022-10-02T23:13:17.902706Z",
     "shell.execute_reply": "2022-10-02T23:13:17.901614Z",
     "shell.execute_reply.started": "2022-10-02T23:13:17.898008Z"
    },
    "tags": []
   },
   "outputs": [],
   "source": [
    "# Define paths\n",
    "csv_file = '../../data/acp/test_data.csv'\n",
    "fasta_file = '../../data/acp/test_data.fa'"
   ]
  },
  {
   "cell_type": "code",
   "execution_count": 7,
   "id": "93752b1f-6a0b-454e-9bba-4834810e0348",
   "metadata": {
    "execution": {
     "iopub.execute_input": "2022-10-02T23:13:17.904717Z",
     "iopub.status.busy": "2022-10-02T23:13:17.903957Z",
     "iopub.status.idle": "2022-10-02T23:13:17.929325Z",
     "shell.execute_reply": "2022-10-02T23:13:17.928023Z",
     "shell.execute_reply.started": "2022-10-02T23:13:17.904690Z"
    },
    "tags": []
   },
   "outputs": [
    {
     "name": "stdout",
     "output_type": "stream",
     "text": [
      "(344, 2)\n"
     ]
    },
    {
     "data": {
      "text/html": [
       "<div>\n",
       "<style scoped>\n",
       "    .dataframe tbody tr th:only-of-type {\n",
       "        vertical-align: middle;\n",
       "    }\n",
       "\n",
       "    .dataframe tbody tr th {\n",
       "        vertical-align: top;\n",
       "    }\n",
       "\n",
       "    .dataframe thead th {\n",
       "        text-align: right;\n",
       "    }\n",
       "</style>\n",
       "<table border=\"1\" class=\"dataframe\">\n",
       "  <thead>\n",
       "    <tr style=\"text-align: right;\">\n",
       "      <th></th>\n",
       "      <th>sequences</th>\n",
       "      <th>label</th>\n",
       "    </tr>\n",
       "  </thead>\n",
       "  <tbody>\n",
       "    <tr>\n",
       "      <th>0</th>\n",
       "      <td>FLPLLLSALPSFLCLVFKKC</td>\n",
       "      <td>0</td>\n",
       "    </tr>\n",
       "    <tr>\n",
       "      <th>1</th>\n",
       "      <td>DKLIGSCVWLAVNYTSNCNAECKRRGYKGGHCGSFLNVNCWCET</td>\n",
       "      <td>0</td>\n",
       "    </tr>\n",
       "    <tr>\n",
       "      <th>2</th>\n",
       "      <td>AVKDTYSCFIMRGKCRHECHDFEKPIGFCTKLNANCYM</td>\n",
       "      <td>0</td>\n",
       "    </tr>\n",
       "    <tr>\n",
       "      <th>3</th>\n",
       "      <td>GLPTCGETCFGGTCNTPGCTCDPWPVCTHN</td>\n",
       "      <td>1</td>\n",
       "    </tr>\n",
       "    <tr>\n",
       "      <th>4</th>\n",
       "      <td>ENCGRQAG</td>\n",
       "      <td>0</td>\n",
       "    </tr>\n",
       "  </tbody>\n",
       "</table>\n",
       "</div>"
      ],
      "text/plain": [
       "                                      sequences  label\n",
       "0                          FLPLLLSALPSFLCLVFKKC      0\n",
       "1  DKLIGSCVWLAVNYTSNCNAECKRRGYKGGHCGSFLNVNCWCET      0\n",
       "2        AVKDTYSCFIMRGKCRHECHDFEKPIGFCTKLNANCYM      0\n",
       "3                GLPTCGETCFGGTCNTPGCTCDPWPVCTHN      1\n",
       "4                                      ENCGRQAG      0"
      ]
     },
     "execution_count": 7,
     "metadata": {},
     "output_type": "execute_result"
    }
   ],
   "source": [
    "# Create dataframe to see data format\n",
    "df = pd.read_csv(csv_file)\n",
    "print(df.shape)\n",
    "df.head()"
   ]
  },
  {
   "cell_type": "markdown",
   "id": "2e25daea-4cee-4275-bc71-d4250116d2be",
   "metadata": {},
   "source": [
    "Run conversion"
   ]
  },
  {
   "cell_type": "code",
   "execution_count": 8,
   "id": "a32539db-1511-479f-adff-15c1a9525991",
   "metadata": {
    "execution": {
     "iopub.execute_input": "2022-10-02T23:13:17.930929Z",
     "iopub.status.busy": "2022-10-02T23:13:17.930590Z",
     "iopub.status.idle": "2022-10-02T23:13:17.945584Z",
     "shell.execute_reply": "2022-10-02T23:13:17.944501Z",
     "shell.execute_reply.started": "2022-10-02T23:13:17.930902Z"
    },
    "tags": []
   },
   "outputs": [],
   "source": [
    "# Run the script\n",
    "cf.csv_to_fasta(csv_file, fasta_file)"
   ]
  },
  {
   "cell_type": "markdown",
   "id": "705f45bc-b103-48c2-8585-1c59f4506400",
   "metadata": {},
   "source": [
    "Check if both files were created."
   ]
  },
  {
   "cell_type": "code",
   "execution_count": 9,
   "id": "c43654cc-540c-4c25-aea0-186789062437",
   "metadata": {
    "execution": {
     "iopub.execute_input": "2022-10-02T23:13:17.947247Z",
     "iopub.status.busy": "2022-10-02T23:13:17.946663Z",
     "iopub.status.idle": "2022-10-02T23:13:18.092726Z",
     "shell.execute_reply": "2022-10-02T23:13:18.091098Z",
     "shell.execute_reply.started": "2022-10-02T23:13:17.947219Z"
    },
    "tags": []
   },
   "outputs": [
    {
     "name": "stdout",
     "output_type": "stream",
     "text": [
      "../../data/acp\n",
      "├── [4.0K Sep 19 09:51]  esm\n",
      "├── [4.0K Sep 13 10:39]  prose\n",
      "├── [9.0K Dec  1  2021]  test_data.csv\n",
      "├── [ 17K Oct  2 19:13]  test_data.fa\n",
      "├── [ 36K Dec  1  2021]  train_data.csv\n",
      "└── [ 66K Oct  2 19:13]  train_data.fa\n",
      "\n",
      "2 directories, 4 files\n"
     ]
    }
   ],
   "source": [
    "!tree ../../data/acp -nDhL 1"
   ]
  },
  {
   "cell_type": "markdown",
   "id": "294dec76-8971-4794-b669-e2513df4d86c",
   "metadata": {
    "tags": []
   },
   "source": [
    "## AMP - Antimicrobial Peptides\n",
    "\n",
    "Peptides with a wide range of inhibitory effects against bacteria, fungi, parasites, and viruses.\n",
    "\n"
   ]
  },
  {
   "cell_type": "markdown",
   "id": "327f0c72-4a18-43bb-b71a-786ea7a7ac2f",
   "metadata": {},
   "source": [
    "We have only one file for this type of peptide."
   ]
  },
  {
   "cell_type": "code",
   "execution_count": 10,
   "id": "74263675-84c9-46e4-8d5a-888778a1770c",
   "metadata": {
    "execution": {
     "iopub.execute_input": "2022-10-02T23:13:18.095453Z",
     "iopub.status.busy": "2022-10-02T23:13:18.094840Z",
     "iopub.status.idle": "2022-10-02T23:13:18.102360Z",
     "shell.execute_reply": "2022-10-02T23:13:18.101042Z",
     "shell.execute_reply.started": "2022-10-02T23:13:18.095402Z"
    },
    "tags": []
   },
   "outputs": [],
   "source": [
    "# Define paths\n",
    "csv_file = '../../data/amp/all_data.csv'\n",
    "fasta_file = '../../data/amp/all_data.fa'"
   ]
  },
  {
   "cell_type": "code",
   "execution_count": 11,
   "id": "abc35d05-e136-4d29-8031-4dbb8f92d420",
   "metadata": {
    "execution": {
     "iopub.execute_input": "2022-10-02T23:13:18.105507Z",
     "iopub.status.busy": "2022-10-02T23:13:18.104886Z",
     "iopub.status.idle": "2022-10-02T23:13:18.185038Z",
     "shell.execute_reply": "2022-10-02T23:13:18.183776Z",
     "shell.execute_reply.started": "2022-10-02T23:13:18.105444Z"
    },
    "tags": []
   },
   "outputs": [
    {
     "name": "stdout",
     "output_type": "stream",
     "text": [
      "(4042, 3)\n"
     ]
    },
    {
     "data": {
      "text/html": [
       "<div>\n",
       "<style scoped>\n",
       "    .dataframe tbody tr th:only-of-type {\n",
       "        vertical-align: middle;\n",
       "    }\n",
       "\n",
       "    .dataframe tbody tr th {\n",
       "        vertical-align: top;\n",
       "    }\n",
       "\n",
       "    .dataframe thead th {\n",
       "        text-align: right;\n",
       "    }\n",
       "</style>\n",
       "<table border=\"1\" class=\"dataframe\">\n",
       "  <thead>\n",
       "    <tr style=\"text-align: right;\">\n",
       "      <th></th>\n",
       "      <th>PDBs_code</th>\n",
       "      <th>SequenceID</th>\n",
       "      <th>label</th>\n",
       "    </tr>\n",
       "  </thead>\n",
       "  <tbody>\n",
       "    <tr>\n",
       "      <th>0</th>\n",
       "      <td>AP02484</td>\n",
       "      <td>GMASKAGSVLGKITKIALGAL</td>\n",
       "      <td>1</td>\n",
       "    </tr>\n",
       "    <tr>\n",
       "      <th>1</th>\n",
       "      <td>AP02630</td>\n",
       "      <td>NIGLFTSTCFSSQCFSSKCFTDTCFSSNCFTGRHQCGYTHGSC</td>\n",
       "      <td>1</td>\n",
       "    </tr>\n",
       "    <tr>\n",
       "      <th>2</th>\n",
       "      <td>AP01427</td>\n",
       "      <td>GAIKDALKGAAKTVAVELLKKAQCKLEKTC</td>\n",
       "      <td>1</td>\n",
       "    </tr>\n",
       "    <tr>\n",
       "      <th>3</th>\n",
       "      <td>AP02983</td>\n",
       "      <td>FFGRLKAVFRGARQGWKEHRY</td>\n",
       "      <td>1</td>\n",
       "    </tr>\n",
       "    <tr>\n",
       "      <th>4</th>\n",
       "      <td>AP01815</td>\n",
       "      <td>DFGCARGMIFVCMRRCARMYPGSTGYCQGFRCMCDTMIPIRRPPFIMG</td>\n",
       "      <td>1</td>\n",
       "    </tr>\n",
       "  </tbody>\n",
       "</table>\n",
       "</div>"
      ],
      "text/plain": [
       "  PDBs_code                                        SequenceID  label\n",
       "0   AP02484                             GMASKAGSVLGKITKIALGAL      1\n",
       "1   AP02630       NIGLFTSTCFSSQCFSSKCFTDTCFSSNCFTGRHQCGYTHGSC      1\n",
       "2   AP01427                    GAIKDALKGAAKTVAVELLKKAQCKLEKTC      1\n",
       "3   AP02983                             FFGRLKAVFRGARQGWKEHRY      1\n",
       "4   AP01815  DFGCARGMIFVCMRRCARMYPGSTGYCQGFRCMCDTMIPIRRPPFIMG      1"
      ]
     },
     "execution_count": 11,
     "metadata": {},
     "output_type": "execute_result"
    }
   ],
   "source": [
    "# Create dataframe to see data format\n",
    "df = pd.read_csv(csv_file)\n",
    "print(df.shape)\n",
    "df.head()"
   ]
  },
  {
   "cell_type": "markdown",
   "id": "f899a24d-de59-4e12-b8ab-675b3a61d0bb",
   "metadata": {},
   "source": [
    "Run conversion"
   ]
  },
  {
   "cell_type": "code",
   "execution_count": 12,
   "id": "3b8620be-9305-4dab-8cac-53b445ad61d4",
   "metadata": {
    "execution": {
     "iopub.execute_input": "2022-10-02T23:13:18.187160Z",
     "iopub.status.busy": "2022-10-02T23:13:18.186672Z",
     "iopub.status.idle": "2022-10-02T23:13:18.231793Z",
     "shell.execute_reply": "2022-10-02T23:13:18.230454Z",
     "shell.execute_reply.started": "2022-10-02T23:13:18.187127Z"
    },
    "tags": []
   },
   "outputs": [],
   "source": [
    "# Run the script\n",
    "cf.csv_to_fasta(csv_file, fasta_file)"
   ]
  },
  {
   "cell_type": "markdown",
   "id": "cc4a8f6d-4d5f-4225-aa95-6f7c4bce3b36",
   "metadata": {},
   "source": [
    "Check if the file was created."
   ]
  },
  {
   "cell_type": "code",
   "execution_count": 13,
   "id": "888e378a-afea-4ce9-ab43-8e123ba11edc",
   "metadata": {
    "execution": {
     "iopub.execute_input": "2022-10-02T23:13:18.234095Z",
     "iopub.status.busy": "2022-10-02T23:13:18.233188Z",
     "iopub.status.idle": "2022-10-02T23:13:18.368257Z",
     "shell.execute_reply": "2022-10-02T23:13:18.367110Z",
     "shell.execute_reply.started": "2022-10-02T23:13:18.234052Z"
    },
    "tags": []
   },
   "outputs": [
    {
     "name": "stdout",
     "output_type": "stream",
     "text": [
      "../../data/amp\n",
      "├── [193K Feb  3  2022]  all_data.csv\n",
      "├── [216K Oct  2 19:13]  all_data.fa\n",
      "├── [4.0K Sep 20 15:58]  esm\n",
      "└── [4.0K Sep 20 15:53]  prose\n",
      "\n",
      "2 directories, 2 files\n"
     ]
    }
   ],
   "source": [
    "!tree ../../data/amp -nDhL 1"
   ]
  },
  {
   "cell_type": "markdown",
   "id": "f4d56de9-c616-400e-bf79-84cf293a04f3",
   "metadata": {
    "tags": []
   },
   "source": [
    "## DNA-Binding proteins\n",
    "\n",
    "Proteins with an important role in DNA replication, DNA methylation, gene expression, and other biological processes.\n",
    "\n",
    "\n",
    "There were some duplicates so we had to remove them in order to have train and test sets ready to be input into the `prose` models.  \n",
    "\n",
    "`esm` models only accept sequences with a maximum length of 1024 amino acids, so we removed the incompatible sequences and created another set of datasets for `esm`.  \n",
    "Refer to the notebook *DBP - Duplicates and seq >1022.ipynb* in this folder."
   ]
  },
  {
   "cell_type": "markdown",
   "id": "4eaa475c-932b-4275-98aa-6d4b3aec5350",
   "metadata": {
    "execution": {
     "iopub.execute_input": "2022-08-08T21:45:14.059188Z",
     "iopub.status.busy": "2022-08-08T21:45:14.056742Z",
     "iopub.status.idle": "2022-08-08T21:45:14.090136Z",
     "shell.execute_reply": "2022-08-08T21:45:14.088756Z",
     "shell.execute_reply.started": "2022-08-08T21:45:14.058958Z"
    }
   },
   "source": [
    "### Train Dataset - `prose`"
   ]
  },
  {
   "cell_type": "code",
   "execution_count": 14,
   "id": "105bafff-9086-4782-8243-190676640ce6",
   "metadata": {
    "execution": {
     "iopub.execute_input": "2022-10-02T23:13:18.371038Z",
     "iopub.status.busy": "2022-10-02T23:13:18.370788Z",
     "iopub.status.idle": "2022-10-02T23:13:18.375791Z",
     "shell.execute_reply": "2022-10-02T23:13:18.374796Z",
     "shell.execute_reply.started": "2022-10-02T23:13:18.371016Z"
    },
    "tags": []
   },
   "outputs": [],
   "source": [
    "# Define paths\n",
    "csv_file = '../../data/dna_binding/train_prose.csv'\n",
    "fasta_file = '../../data/dna_binding/train_prose.fa'"
   ]
  },
  {
   "cell_type": "code",
   "execution_count": 15,
   "id": "f9c11100-c63a-4d52-9425-b2f9e926c91b",
   "metadata": {
    "execution": {
     "iopub.execute_input": "2022-10-02T23:13:18.377914Z",
     "iopub.status.busy": "2022-10-02T23:13:18.376982Z",
     "iopub.status.idle": "2022-10-02T23:13:18.474724Z",
     "shell.execute_reply": "2022-10-02T23:13:18.473545Z",
     "shell.execute_reply.started": "2022-10-02T23:13:18.377883Z"
    },
    "tags": []
   },
   "outputs": [
    {
     "name": "stdout",
     "output_type": "stream",
     "text": [
      "(14016, 4)\n"
     ]
    },
    {
     "data": {
      "text/html": [
       "<div>\n",
       "<style scoped>\n",
       "    .dataframe tbody tr th:only-of-type {\n",
       "        vertical-align: middle;\n",
       "    }\n",
       "\n",
       "    .dataframe tbody tr th {\n",
       "        vertical-align: top;\n",
       "    }\n",
       "\n",
       "    .dataframe thead th {\n",
       "        text-align: right;\n",
       "    }\n",
       "</style>\n",
       "<table border=\"1\" class=\"dataframe\">\n",
       "  <thead>\n",
       "    <tr style=\"text-align: right;\">\n",
       "      <th></th>\n",
       "      <th>code</th>\n",
       "      <th>sequence</th>\n",
       "      <th>label</th>\n",
       "      <th>origin</th>\n",
       "    </tr>\n",
       "  </thead>\n",
       "  <tbody>\n",
       "    <tr>\n",
       "      <th>0</th>\n",
       "      <td>Q6A8L0</td>\n",
       "      <td>MSGHSKWATTKHKKAAIDAKRGKLFARLIKNIEVAARLGGGDPSGN...</td>\n",
       "      <td>1</td>\n",
       "      <td>https://github.com/hfuulgb/PDB-Fusion/tree/mai...</td>\n",
       "    </tr>\n",
       "    <tr>\n",
       "      <th>1</th>\n",
       "      <td>Q7V7T9</td>\n",
       "      <td>MIGWLQGQKVEAWQQGTRQGVVLACAGVGYEVQIAPRHLSEMEHGQ...</td>\n",
       "      <td>1</td>\n",
       "      <td>https://github.com/hfuulgb/PDB-Fusion/tree/mai...</td>\n",
       "    </tr>\n",
       "    <tr>\n",
       "      <th>2</th>\n",
       "      <td>Q9ZUP2</td>\n",
       "      <td>MARILRNVYSLRSSLFSSELLRRSVVGTSFQLRGFAAKAKKKSKSD...</td>\n",
       "      <td>1</td>\n",
       "      <td>https://github.com/hfuulgb/PDB-Fusion/tree/mai...</td>\n",
       "    </tr>\n",
       "    <tr>\n",
       "      <th>3</th>\n",
       "      <td>Q2JVG1</td>\n",
       "      <td>MKCPRCGKQEIRVLESRSAEGGQSVRRRRECMSCGYRFTTYERIEF...</td>\n",
       "      <td>1</td>\n",
       "      <td>https://github.com/hfuulgb/PDB-Fusion/tree/mai...</td>\n",
       "    </tr>\n",
       "    <tr>\n",
       "      <th>4</th>\n",
       "      <td>Q9K4Q3</td>\n",
       "      <td>MTKADIIEGVYEKVGFSKKESAEIVELVFDTLKETLERGDKIKISG...</td>\n",
       "      <td>1</td>\n",
       "      <td>https://github.com/hfuulgb/PDB-Fusion/tree/mai...</td>\n",
       "    </tr>\n",
       "  </tbody>\n",
       "</table>\n",
       "</div>"
      ],
      "text/plain": [
       "     code                                           sequence  label  \\\n",
       "0  Q6A8L0  MSGHSKWATTKHKKAAIDAKRGKLFARLIKNIEVAARLGGGDPSGN...      1   \n",
       "1  Q7V7T9  MIGWLQGQKVEAWQQGTRQGVVLACAGVGYEVQIAPRHLSEMEHGQ...      1   \n",
       "2  Q9ZUP2  MARILRNVYSLRSSLFSSELLRRSVVGTSFQLRGFAAKAKKKSKSD...      1   \n",
       "3  Q2JVG1  MKCPRCGKQEIRVLESRSAEGGQSVRRRRECMSCGYRFTTYERIEF...      1   \n",
       "4  Q9K4Q3  MTKADIIEGVYEKVGFSKKESAEIVELVFDTLKETLERGDKIKISG...      1   \n",
       "\n",
       "                                              origin  \n",
       "0  https://github.com/hfuulgb/PDB-Fusion/tree/mai...  \n",
       "1  https://github.com/hfuulgb/PDB-Fusion/tree/mai...  \n",
       "2  https://github.com/hfuulgb/PDB-Fusion/tree/mai...  \n",
       "3  https://github.com/hfuulgb/PDB-Fusion/tree/mai...  \n",
       "4  https://github.com/hfuulgb/PDB-Fusion/tree/mai...  "
      ]
     },
     "execution_count": 15,
     "metadata": {},
     "output_type": "execute_result"
    }
   ],
   "source": [
    "# Create dataframe to see data format\n",
    "df = pd.read_csv(csv_file)\n",
    "print(df.shape)\n",
    "df.head()"
   ]
  },
  {
   "cell_type": "markdown",
   "id": "7f5752d4-07bf-49e8-b13d-fcbb75066381",
   "metadata": {},
   "source": [
    "Run conversion"
   ]
  },
  {
   "cell_type": "code",
   "execution_count": 16,
   "id": "4a3b4bc4-b49c-4833-a444-bc622cdd93d2",
   "metadata": {
    "execution": {
     "iopub.execute_input": "2022-10-02T23:13:18.476236Z",
     "iopub.status.busy": "2022-10-02T23:13:18.475914Z",
     "iopub.status.idle": "2022-10-02T23:13:19.040025Z",
     "shell.execute_reply": "2022-10-02T23:13:19.039219Z",
     "shell.execute_reply.started": "2022-10-02T23:13:18.476213Z"
    },
    "tags": []
   },
   "outputs": [],
   "source": [
    "# Run the script\n",
    "cf.csv_to_fasta(csv_file, fasta_file)"
   ]
  },
  {
   "cell_type": "markdown",
   "id": "b68e040a-5fd2-4bc6-88d1-7c50c400214f",
   "metadata": {
    "execution": {
     "iopub.execute_input": "2022-08-08T21:45:14.059188Z",
     "iopub.status.busy": "2022-08-08T21:45:14.056742Z",
     "iopub.status.idle": "2022-08-08T21:45:14.090136Z",
     "shell.execute_reply": "2022-08-08T21:45:14.088756Z",
     "shell.execute_reply.started": "2022-08-08T21:45:14.058958Z"
    }
   },
   "source": [
    "### Test Dataset - `prose`"
   ]
  },
  {
   "cell_type": "code",
   "execution_count": 17,
   "id": "98b58d8a-2822-4e9c-9d38-5ac7e2a8b435",
   "metadata": {
    "execution": {
     "iopub.execute_input": "2022-10-02T23:13:19.041243Z",
     "iopub.status.busy": "2022-10-02T23:13:19.041016Z",
     "iopub.status.idle": "2022-10-02T23:13:19.046389Z",
     "shell.execute_reply": "2022-10-02T23:13:19.045174Z",
     "shell.execute_reply.started": "2022-10-02T23:13:19.041225Z"
    },
    "tags": []
   },
   "outputs": [],
   "source": [
    "# Define paths\n",
    "csv_file = '../../data/dna_binding/test_prose.csv'\n",
    "fasta_file = '../../data/dna_binding/test_prose.fa'"
   ]
  },
  {
   "cell_type": "code",
   "execution_count": 18,
   "id": "92361981-9dde-4505-a157-f96631fa420a",
   "metadata": {
    "execution": {
     "iopub.execute_input": "2022-10-02T23:13:19.047374Z",
     "iopub.status.busy": "2022-10-02T23:13:19.047153Z",
     "iopub.status.idle": "2022-10-02T23:13:19.086793Z",
     "shell.execute_reply": "2022-10-02T23:13:19.085836Z",
     "shell.execute_reply.started": "2022-10-02T23:13:19.047356Z"
    },
    "tags": []
   },
   "outputs": [
    {
     "name": "stdout",
     "output_type": "stream",
     "text": [
      "(2272, 4)\n"
     ]
    },
    {
     "data": {
      "text/html": [
       "<div>\n",
       "<style scoped>\n",
       "    .dataframe tbody tr th:only-of-type {\n",
       "        vertical-align: middle;\n",
       "    }\n",
       "\n",
       "    .dataframe tbody tr th {\n",
       "        vertical-align: top;\n",
       "    }\n",
       "\n",
       "    .dataframe thead th {\n",
       "        text-align: right;\n",
       "    }\n",
       "</style>\n",
       "<table border=\"1\" class=\"dataframe\">\n",
       "  <thead>\n",
       "    <tr style=\"text-align: right;\">\n",
       "      <th></th>\n",
       "      <th>code</th>\n",
       "      <th>sequence</th>\n",
       "      <th>label</th>\n",
       "      <th>origin</th>\n",
       "    </tr>\n",
       "  </thead>\n",
       "  <tbody>\n",
       "    <tr>\n",
       "      <th>0</th>\n",
       "      <td>P27204|1</td>\n",
       "      <td>AKKRSRSRKRSASRKRSRSRKRSASKKSSKKHVRKALAAGMKNHLL...</td>\n",
       "      <td>1</td>\n",
       "      <td>https://github.com/hfuulgb/PDB-Fusion/tree/mai...</td>\n",
       "    </tr>\n",
       "    <tr>\n",
       "      <th>1</th>\n",
       "      <td>P53528|1</td>\n",
       "      <td>MVMVVNPLTAGLDDEQREAVLAPRGPVCVLAGAGTGKTRTITHRIA...</td>\n",
       "      <td>1</td>\n",
       "      <td>https://github.com/hfuulgb/PDB-Fusion/tree/mai...</td>\n",
       "    </tr>\n",
       "    <tr>\n",
       "      <th>2</th>\n",
       "      <td>P52684|1</td>\n",
       "      <td>MKDDINQEITFRKLSVFMMFMAKGNIARTAEAMKLSSVSVHRALHT...</td>\n",
       "      <td>1</td>\n",
       "      <td>https://github.com/hfuulgb/PDB-Fusion/tree/mai...</td>\n",
       "    </tr>\n",
       "    <tr>\n",
       "      <th>3</th>\n",
       "      <td>P10961|1</td>\n",
       "      <td>MNNAANTGTTNESNVSDAPRIEPLPSLNDDDIEKILQPNDIFTTDR...</td>\n",
       "      <td>1</td>\n",
       "      <td>https://github.com/hfuulgb/PDB-Fusion/tree/mai...</td>\n",
       "    </tr>\n",
       "    <tr>\n",
       "      <th>4</th>\n",
       "      <td>P06023|1</td>\n",
       "      <td>MAKPAKRIKSAAAAYVPQNRDAVITDIKRIGDLQREASRLETEMND...</td>\n",
       "      <td>1</td>\n",
       "      <td>https://github.com/hfuulgb/PDB-Fusion/tree/mai...</td>\n",
       "    </tr>\n",
       "  </tbody>\n",
       "</table>\n",
       "</div>"
      ],
      "text/plain": [
       "       code                                           sequence  label  \\\n",
       "0  P27204|1  AKKRSRSRKRSASRKRSRSRKRSASKKSSKKHVRKALAAGMKNHLL...      1   \n",
       "1  P53528|1  MVMVVNPLTAGLDDEQREAVLAPRGPVCVLAGAGTGKTRTITHRIA...      1   \n",
       "2  P52684|1  MKDDINQEITFRKLSVFMMFMAKGNIARTAEAMKLSSVSVHRALHT...      1   \n",
       "3  P10961|1  MNNAANTGTTNESNVSDAPRIEPLPSLNDDDIEKILQPNDIFTTDR...      1   \n",
       "4  P06023|1  MAKPAKRIKSAAAAYVPQNRDAVITDIKRIGDLQREASRLETEMND...      1   \n",
       "\n",
       "                                              origin  \n",
       "0  https://github.com/hfuulgb/PDB-Fusion/tree/mai...  \n",
       "1  https://github.com/hfuulgb/PDB-Fusion/tree/mai...  \n",
       "2  https://github.com/hfuulgb/PDB-Fusion/tree/mai...  \n",
       "3  https://github.com/hfuulgb/PDB-Fusion/tree/mai...  \n",
       "4  https://github.com/hfuulgb/PDB-Fusion/tree/mai...  "
      ]
     },
     "execution_count": 18,
     "metadata": {},
     "output_type": "execute_result"
    }
   ],
   "source": [
    "# Create dataframe to see data format\n",
    "df = pd.read_csv(csv_file)\n",
    "print(df.shape)\n",
    "df.head()"
   ]
  },
  {
   "cell_type": "markdown",
   "id": "a39d00f8-042e-4df6-8978-f594d73b503b",
   "metadata": {},
   "source": [
    "Run conversion"
   ]
  },
  {
   "cell_type": "code",
   "execution_count": 19,
   "id": "20868e2e-a06f-4cd7-8880-79ca1fb02290",
   "metadata": {
    "execution": {
     "iopub.execute_input": "2022-10-02T23:13:19.087879Z",
     "iopub.status.busy": "2022-10-02T23:13:19.087683Z",
     "iopub.status.idle": "2022-10-02T23:13:19.193556Z",
     "shell.execute_reply": "2022-10-02T23:13:19.192683Z",
     "shell.execute_reply.started": "2022-10-02T23:13:19.087861Z"
    },
    "tags": []
   },
   "outputs": [],
   "source": [
    "# Run the script\n",
    "cf.csv_to_fasta(csv_file, fasta_file)"
   ]
  },
  {
   "cell_type": "markdown",
   "id": "7bc50f4f-40ec-4fa5-899e-26301760d19a",
   "metadata": {
    "execution": {
     "iopub.execute_input": "2022-08-08T21:45:14.059188Z",
     "iopub.status.busy": "2022-08-08T21:45:14.056742Z",
     "iopub.status.idle": "2022-08-08T21:45:14.090136Z",
     "shell.execute_reply": "2022-08-08T21:45:14.088756Z",
     "shell.execute_reply.started": "2022-08-08T21:45:14.058958Z"
    }
   },
   "source": [
    "### Train Dataset - `esm`"
   ]
  },
  {
   "cell_type": "code",
   "execution_count": 20,
   "id": "d732dd7c-2340-4611-8115-e3a55af4065a",
   "metadata": {
    "execution": {
     "iopub.execute_input": "2022-10-02T23:13:19.195327Z",
     "iopub.status.busy": "2022-10-02T23:13:19.194833Z",
     "iopub.status.idle": "2022-10-02T23:13:19.201246Z",
     "shell.execute_reply": "2022-10-02T23:13:19.200243Z",
     "shell.execute_reply.started": "2022-10-02T23:13:19.195284Z"
    },
    "tags": []
   },
   "outputs": [],
   "source": [
    "# Define paths\n",
    "csv_file = '../../data/dna_binding/train_esm.csv'\n",
    "fasta_file = '../../data/dna_binding/train_esm.fa'"
   ]
  },
  {
   "cell_type": "code",
   "execution_count": 21,
   "id": "e2bab1ee-432a-43d3-952e-0478f8d95580",
   "metadata": {
    "execution": {
     "iopub.execute_input": "2022-10-02T23:13:19.202217Z",
     "iopub.status.busy": "2022-10-02T23:13:19.201941Z",
     "iopub.status.idle": "2022-10-02T23:13:19.281916Z",
     "shell.execute_reply": "2022-10-02T23:13:19.280950Z",
     "shell.execute_reply.started": "2022-10-02T23:13:19.202195Z"
    },
    "tags": []
   },
   "outputs": [
    {
     "name": "stdout",
     "output_type": "stream",
     "text": [
      "(13108, 4)\n"
     ]
    },
    {
     "data": {
      "text/html": [
       "<div>\n",
       "<style scoped>\n",
       "    .dataframe tbody tr th:only-of-type {\n",
       "        vertical-align: middle;\n",
       "    }\n",
       "\n",
       "    .dataframe tbody tr th {\n",
       "        vertical-align: top;\n",
       "    }\n",
       "\n",
       "    .dataframe thead th {\n",
       "        text-align: right;\n",
       "    }\n",
       "</style>\n",
       "<table border=\"1\" class=\"dataframe\">\n",
       "  <thead>\n",
       "    <tr style=\"text-align: right;\">\n",
       "      <th></th>\n",
       "      <th>code</th>\n",
       "      <th>sequence</th>\n",
       "      <th>label</th>\n",
       "      <th>origin</th>\n",
       "    </tr>\n",
       "  </thead>\n",
       "  <tbody>\n",
       "    <tr>\n",
       "      <th>0</th>\n",
       "      <td>Q6A8L0</td>\n",
       "      <td>MSGHSKWATTKHKKAAIDAKRGKLFARLIKNIEVAARLGGGDPSGN...</td>\n",
       "      <td>1</td>\n",
       "      <td>https://github.com/hfuulgb/PDB-Fusion/tree/mai...</td>\n",
       "    </tr>\n",
       "    <tr>\n",
       "      <th>1</th>\n",
       "      <td>Q7V7T9</td>\n",
       "      <td>MIGWLQGQKVEAWQQGTRQGVVLACAGVGYEVQIAPRHLSEMEHGQ...</td>\n",
       "      <td>1</td>\n",
       "      <td>https://github.com/hfuulgb/PDB-Fusion/tree/mai...</td>\n",
       "    </tr>\n",
       "    <tr>\n",
       "      <th>2</th>\n",
       "      <td>Q9ZUP2</td>\n",
       "      <td>MARILRNVYSLRSSLFSSELLRRSVVGTSFQLRGFAAKAKKKSKSD...</td>\n",
       "      <td>1</td>\n",
       "      <td>https://github.com/hfuulgb/PDB-Fusion/tree/mai...</td>\n",
       "    </tr>\n",
       "    <tr>\n",
       "      <th>3</th>\n",
       "      <td>Q2JVG1</td>\n",
       "      <td>MKCPRCGKQEIRVLESRSAEGGQSVRRRRECMSCGYRFTTYERIEF...</td>\n",
       "      <td>1</td>\n",
       "      <td>https://github.com/hfuulgb/PDB-Fusion/tree/mai...</td>\n",
       "    </tr>\n",
       "    <tr>\n",
       "      <th>4</th>\n",
       "      <td>Q9K4Q3</td>\n",
       "      <td>MTKADIIEGVYEKVGFSKKESAEIVELVFDTLKETLERGDKIKISG...</td>\n",
       "      <td>1</td>\n",
       "      <td>https://github.com/hfuulgb/PDB-Fusion/tree/mai...</td>\n",
       "    </tr>\n",
       "  </tbody>\n",
       "</table>\n",
       "</div>"
      ],
      "text/plain": [
       "     code                                           sequence  label  \\\n",
       "0  Q6A8L0  MSGHSKWATTKHKKAAIDAKRGKLFARLIKNIEVAARLGGGDPSGN...      1   \n",
       "1  Q7V7T9  MIGWLQGQKVEAWQQGTRQGVVLACAGVGYEVQIAPRHLSEMEHGQ...      1   \n",
       "2  Q9ZUP2  MARILRNVYSLRSSLFSSELLRRSVVGTSFQLRGFAAKAKKKSKSD...      1   \n",
       "3  Q2JVG1  MKCPRCGKQEIRVLESRSAEGGQSVRRRRECMSCGYRFTTYERIEF...      1   \n",
       "4  Q9K4Q3  MTKADIIEGVYEKVGFSKKESAEIVELVFDTLKETLERGDKIKISG...      1   \n",
       "\n",
       "                                              origin  \n",
       "0  https://github.com/hfuulgb/PDB-Fusion/tree/mai...  \n",
       "1  https://github.com/hfuulgb/PDB-Fusion/tree/mai...  \n",
       "2  https://github.com/hfuulgb/PDB-Fusion/tree/mai...  \n",
       "3  https://github.com/hfuulgb/PDB-Fusion/tree/mai...  \n",
       "4  https://github.com/hfuulgb/PDB-Fusion/tree/mai...  "
      ]
     },
     "execution_count": 21,
     "metadata": {},
     "output_type": "execute_result"
    }
   ],
   "source": [
    "# Create dataframe to see data format\n",
    "df = pd.read_csv(csv_file)\n",
    "print(df.shape)\n",
    "df.head()"
   ]
  },
  {
   "cell_type": "markdown",
   "id": "3767235c-aa1b-4046-bbb5-4656719525bf",
   "metadata": {},
   "source": [
    "Run conversion"
   ]
  },
  {
   "cell_type": "code",
   "execution_count": 22,
   "id": "e679795b-cced-4c90-80ea-766deb7736ef",
   "metadata": {
    "execution": {
     "iopub.execute_input": "2022-10-02T23:13:19.282955Z",
     "iopub.status.busy": "2022-10-02T23:13:19.282754Z",
     "iopub.status.idle": "2022-10-02T23:13:19.884036Z",
     "shell.execute_reply": "2022-10-02T23:13:19.882989Z",
     "shell.execute_reply.started": "2022-10-02T23:13:19.282936Z"
    },
    "tags": []
   },
   "outputs": [],
   "source": [
    "# Run the script\n",
    "cf.csv_to_fasta(csv_file, fasta_file)"
   ]
  },
  {
   "cell_type": "markdown",
   "id": "b47a2232-23c5-4e87-8a8a-ca061572a327",
   "metadata": {
    "execution": {
     "iopub.execute_input": "2022-08-08T21:45:14.059188Z",
     "iopub.status.busy": "2022-08-08T21:45:14.056742Z",
     "iopub.status.idle": "2022-08-08T21:45:14.090136Z",
     "shell.execute_reply": "2022-08-08T21:45:14.088756Z",
     "shell.execute_reply.started": "2022-08-08T21:45:14.058958Z"
    }
   },
   "source": [
    "### Test Dataset - `esm`"
   ]
  },
  {
   "cell_type": "code",
   "execution_count": 23,
   "id": "62751650-4155-4265-bada-17bfb6995dc6",
   "metadata": {
    "execution": {
     "iopub.execute_input": "2022-10-02T23:13:19.886233Z",
     "iopub.status.busy": "2022-10-02T23:13:19.885392Z",
     "iopub.status.idle": "2022-10-02T23:13:19.891529Z",
     "shell.execute_reply": "2022-10-02T23:13:19.890173Z",
     "shell.execute_reply.started": "2022-10-02T23:13:19.886201Z"
    },
    "tags": []
   },
   "outputs": [],
   "source": [
    "# Define paths\n",
    "csv_file = '../../data/dna_binding/test_esm.csv'\n",
    "fasta_file = '../../data/dna_binding/test_esm.fa'"
   ]
  },
  {
   "cell_type": "code",
   "execution_count": 24,
   "id": "aaeec816-751d-4492-8813-0d777e998b26",
   "metadata": {
    "execution": {
     "iopub.execute_input": "2022-10-02T23:13:19.896436Z",
     "iopub.status.busy": "2022-10-02T23:13:19.893918Z",
     "iopub.status.idle": "2022-10-02T23:13:19.940107Z",
     "shell.execute_reply": "2022-10-02T23:13:19.937886Z",
     "shell.execute_reply.started": "2022-10-02T23:13:19.896053Z"
    },
    "tags": []
   },
   "outputs": [
    {
     "name": "stdout",
     "output_type": "stream",
     "text": [
      "(2081, 4)\n"
     ]
    },
    {
     "data": {
      "text/html": [
       "<div>\n",
       "<style scoped>\n",
       "    .dataframe tbody tr th:only-of-type {\n",
       "        vertical-align: middle;\n",
       "    }\n",
       "\n",
       "    .dataframe tbody tr th {\n",
       "        vertical-align: top;\n",
       "    }\n",
       "\n",
       "    .dataframe thead th {\n",
       "        text-align: right;\n",
       "    }\n",
       "</style>\n",
       "<table border=\"1\" class=\"dataframe\">\n",
       "  <thead>\n",
       "    <tr style=\"text-align: right;\">\n",
       "      <th></th>\n",
       "      <th>code</th>\n",
       "      <th>sequence</th>\n",
       "      <th>label</th>\n",
       "      <th>origin</th>\n",
       "    </tr>\n",
       "  </thead>\n",
       "  <tbody>\n",
       "    <tr>\n",
       "      <th>0</th>\n",
       "      <td>P27204|1</td>\n",
       "      <td>AKKRSRSRKRSASRKRSRSRKRSASKKSSKKHVRKALAAGMKNHLL...</td>\n",
       "      <td>1</td>\n",
       "      <td>https://github.com/hfuulgb/PDB-Fusion/tree/mai...</td>\n",
       "    </tr>\n",
       "    <tr>\n",
       "      <th>1</th>\n",
       "      <td>P53528|1</td>\n",
       "      <td>MVMVVNPLTAGLDDEQREAVLAPRGPVCVLAGAGTGKTRTITHRIA...</td>\n",
       "      <td>1</td>\n",
       "      <td>https://github.com/hfuulgb/PDB-Fusion/tree/mai...</td>\n",
       "    </tr>\n",
       "    <tr>\n",
       "      <th>2</th>\n",
       "      <td>P52684|1</td>\n",
       "      <td>MKDDINQEITFRKLSVFMMFMAKGNIARTAEAMKLSSVSVHRALHT...</td>\n",
       "      <td>1</td>\n",
       "      <td>https://github.com/hfuulgb/PDB-Fusion/tree/mai...</td>\n",
       "    </tr>\n",
       "    <tr>\n",
       "      <th>3</th>\n",
       "      <td>P10961|1</td>\n",
       "      <td>MNNAANTGTTNESNVSDAPRIEPLPSLNDDDIEKILQPNDIFTTDR...</td>\n",
       "      <td>1</td>\n",
       "      <td>https://github.com/hfuulgb/PDB-Fusion/tree/mai...</td>\n",
       "    </tr>\n",
       "    <tr>\n",
       "      <th>4</th>\n",
       "      <td>P06023|1</td>\n",
       "      <td>MAKPAKRIKSAAAAYVPQNRDAVITDIKRIGDLQREASRLETEMND...</td>\n",
       "      <td>1</td>\n",
       "      <td>https://github.com/hfuulgb/PDB-Fusion/tree/mai...</td>\n",
       "    </tr>\n",
       "  </tbody>\n",
       "</table>\n",
       "</div>"
      ],
      "text/plain": [
       "       code                                           sequence  label  \\\n",
       "0  P27204|1  AKKRSRSRKRSASRKRSRSRKRSASKKSSKKHVRKALAAGMKNHLL...      1   \n",
       "1  P53528|1  MVMVVNPLTAGLDDEQREAVLAPRGPVCVLAGAGTGKTRTITHRIA...      1   \n",
       "2  P52684|1  MKDDINQEITFRKLSVFMMFMAKGNIARTAEAMKLSSVSVHRALHT...      1   \n",
       "3  P10961|1  MNNAANTGTTNESNVSDAPRIEPLPSLNDDDIEKILQPNDIFTTDR...      1   \n",
       "4  P06023|1  MAKPAKRIKSAAAAYVPQNRDAVITDIKRIGDLQREASRLETEMND...      1   \n",
       "\n",
       "                                              origin  \n",
       "0  https://github.com/hfuulgb/PDB-Fusion/tree/mai...  \n",
       "1  https://github.com/hfuulgb/PDB-Fusion/tree/mai...  \n",
       "2  https://github.com/hfuulgb/PDB-Fusion/tree/mai...  \n",
       "3  https://github.com/hfuulgb/PDB-Fusion/tree/mai...  \n",
       "4  https://github.com/hfuulgb/PDB-Fusion/tree/mai...  "
      ]
     },
     "execution_count": 24,
     "metadata": {},
     "output_type": "execute_result"
    }
   ],
   "source": [
    "# Create dataframe to see data format\n",
    "df = pd.read_csv(csv_file)\n",
    "print(df.shape)\n",
    "df.head()"
   ]
  },
  {
   "cell_type": "markdown",
   "id": "aca2bc03-5367-44f6-afc8-c8740574764d",
   "metadata": {},
   "source": [
    "Run conversion"
   ]
  },
  {
   "cell_type": "code",
   "execution_count": 25,
   "id": "2b5dddd0-029d-4628-89b1-a9978edca4e1",
   "metadata": {
    "execution": {
     "iopub.execute_input": "2022-10-02T23:13:19.942104Z",
     "iopub.status.busy": "2022-10-02T23:13:19.941665Z",
     "iopub.status.idle": "2022-10-02T23:13:20.096593Z",
     "shell.execute_reply": "2022-10-02T23:13:20.094326Z",
     "shell.execute_reply.started": "2022-10-02T23:13:19.942075Z"
    },
    "tags": []
   },
   "outputs": [],
   "source": [
    "# Run the script\n",
    "cf.csv_to_fasta(csv_file, fasta_file)"
   ]
  },
  {
   "cell_type": "markdown",
   "id": "646d3317-25c0-4c3a-9cc4-abf97b24d9c2",
   "metadata": {},
   "source": [
    "Check if both files were created."
   ]
  },
  {
   "cell_type": "code",
   "execution_count": 26,
   "id": "9d097451-4a34-4c9b-9566-e78f502c1c67",
   "metadata": {
    "execution": {
     "iopub.execute_input": "2022-10-02T23:13:20.101075Z",
     "iopub.status.busy": "2022-10-02T23:13:20.099267Z",
     "iopub.status.idle": "2022-10-02T23:13:20.251035Z",
     "shell.execute_reply": "2022-10-02T23:13:20.249930Z",
     "shell.execute_reply.started": "2022-10-02T23:13:20.101020Z"
    },
    "tags": []
   },
   "outputs": [
    {
     "name": "stdout",
     "output_type": "stream",
     "text": [
      "../../data/dna_binding\n",
      "├── [4.0K Sep 20 15:53]  esm\n",
      "├── [4.0K Sep 20 16:00]  prose\n",
      "├── [1.1M Dec  1  2021]  test.csv\n",
      "├── [864K Oct  2 19:07]  test_esm.csv\n",
      "├── [781K Oct  2 19:13]  test_esm.fa\n",
      "├── [1.1M Oct  2 19:07]  test_prose.csv\n",
      "├── [1.0M Oct  2 19:13]  test_prose.fa\n",
      "├── [6.6M Dec  1  2021]  train.csv\n",
      "├── [5.2M Oct  2 19:07]  train_esm.csv\n",
      "├── [4.7M Oct  2 19:13]  train_esm.fa\n",
      "├── [6.5M Oct  2 19:07]  train_prose.csv\n",
      "└── [6.0M Oct  2 19:13]  train_prose.fa\n",
      "\n",
      "2 directories, 10 files\n"
     ]
    }
   ],
   "source": [
    "!tree ../../data/dna_binding -nDhL 1 --dirsfirst"
   ]
  }
 ],
 "metadata": {
  "kernelspec": {
   "display_name": "proteins",
   "language": "python",
   "name": "conda-env-proteins-py"
  },
  "language_info": {
   "codemirror_mode": {
    "name": "ipython",
    "version": 3
   },
   "file_extension": ".py",
   "mimetype": "text/x-python",
   "name": "python",
   "nbconvert_exporter": "python",
   "pygments_lexer": "ipython3",
   "version": "3.9.13"
  },
  "widgets": {
   "application/vnd.jupyter.widget-state+json": {
    "state": {},
    "version_major": 2,
    "version_minor": 0
   }
  }
 },
 "nbformat": 4,
 "nbformat_minor": 5
}
