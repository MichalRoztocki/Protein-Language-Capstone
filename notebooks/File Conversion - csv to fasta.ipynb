{
 "cells": [
  {
   "cell_type": "markdown",
   "id": "fdb0965d-0cd3-4ff3-9d13-330896e56484",
   "metadata": {},
   "source": [
    "# Conversion of csv files to fasta files"
   ]
  },
  {
   "cell_type": "markdown",
   "id": "2032cbae-41e4-4e19-93f3-03d0511507b1",
   "metadata": {},
   "source": [
    "We have received all files in the csv format. Both repositories with pretrained transformer models ([Facebook's Evolutionary Scale Modeling](https://github.com/facebookresearch/esm), [Protein Sequence Embeddings (ProSE)](V))  are using fasta formated files as input. That is why, in this notebook we will transfer all our csv files to fasta files. \n",
    "\n",
    "We have created the script *convert_csv_to_fasta.py* to help us with that."
   ]
  },
  {
   "cell_type": "code",
   "execution_count": 1,
   "id": "76068524-9010-40e1-be2e-bdee02be05c2",
   "metadata": {
    "execution": {
     "iopub.execute_input": "2022-08-09T13:44:32.242102Z",
     "iopub.status.busy": "2022-08-09T13:44:32.241703Z",
     "iopub.status.idle": "2022-08-09T13:44:32.891178Z",
     "shell.execute_reply": "2022-08-09T13:44:32.890291Z",
     "shell.execute_reply.started": "2022-08-09T13:44:32.242037Z"
    },
    "tags": []
   },
   "outputs": [],
   "source": [
    "# Import dependencies\n",
    "import pandas as pd\n",
    "#import numpy as np"
   ]
  },
  {
   "cell_type": "code",
   "execution_count": 2,
   "id": "c46aee90-4929-4a39-8c0f-f70b8b7c1d81",
   "metadata": {
    "execution": {
     "iopub.execute_input": "2022-08-09T13:44:32.892794Z",
     "iopub.status.busy": "2022-08-09T13:44:32.892446Z",
     "iopub.status.idle": "2022-08-09T13:44:32.912310Z",
     "shell.execute_reply": "2022-08-09T13:44:32.911213Z",
     "shell.execute_reply.started": "2022-08-09T13:44:32.892769Z"
    },
    "tags": []
   },
   "outputs": [],
   "source": [
    "# Import the script from different folder\n",
    "import sys  \n",
    "#sys.path.insert(1, '../scripts')\n",
    "sys.path.append('../scripts')\n",
    "\n",
    "import convert_csv_to_fasta as cf"
   ]
  },
  {
   "cell_type": "markdown",
   "id": "3f752fb0-5a28-47f5-b86c-e29dc0563609",
   "metadata": {
    "tags": []
   },
   "source": [
    "## ACP - Anticancer Peptides\n",
    "\n",
    "A new type of anticancer therapeutic agent, that have been selected as a safe drug.\n"
   ]
  },
  {
   "cell_type": "markdown",
   "id": "1d27b2a6-1faa-40d9-81e8-04a33164d07e",
   "metadata": {},
   "source": [
    "ACP datasets do not have PBD Codes listed. The conversion script will insert sequential protein \"names\" needed for fasta format.\n",
    "\n",
    "The format of the added names is <code>Protein_seq_xxxx</code> where <code>xxxx</code> is a sequential row number padded with zeros."
   ]
  },
  {
   "cell_type": "markdown",
   "id": "8fa75649-2dc2-4f98-830c-1f9531a0c851",
   "metadata": {
    "execution": {
     "iopub.execute_input": "2022-08-08T21:45:14.059188Z",
     "iopub.status.busy": "2022-08-08T21:45:14.056742Z",
     "iopub.status.idle": "2022-08-08T21:45:14.090136Z",
     "shell.execute_reply": "2022-08-08T21:45:14.088756Z",
     "shell.execute_reply.started": "2022-08-08T21:45:14.058958Z"
    }
   },
   "source": [
    "### Train Dataset"
   ]
  },
  {
   "cell_type": "code",
   "execution_count": 3,
   "id": "867cdb39-928d-43fb-a8bd-675de1315ebd",
   "metadata": {
    "execution": {
     "iopub.execute_input": "2022-08-09T13:44:32.914427Z",
     "iopub.status.busy": "2022-08-09T13:44:32.913657Z",
     "iopub.status.idle": "2022-08-09T13:44:32.920661Z",
     "shell.execute_reply": "2022-08-09T13:44:32.919206Z",
     "shell.execute_reply.started": "2022-08-09T13:44:32.914382Z"
    },
    "tags": []
   },
   "outputs": [],
   "source": [
    "# Define paths\n",
    "csv_file = '../data/acp/train_data.csv'\n",
    "fasta_file = '../data/acp/train_data.fa'"
   ]
  },
  {
   "cell_type": "code",
   "execution_count": 4,
   "id": "557ee4f2-7869-4d98-8748-670a07aa76ba",
   "metadata": {
    "execution": {
     "iopub.execute_input": "2022-08-09T13:44:32.924373Z",
     "iopub.status.busy": "2022-08-09T13:44:32.923999Z",
     "iopub.status.idle": "2022-08-09T13:44:32.971035Z",
     "shell.execute_reply": "2022-08-09T13:44:32.969736Z",
     "shell.execute_reply.started": "2022-08-09T13:44:32.924344Z"
    },
    "tags": []
   },
   "outputs": [
    {
     "name": "stdout",
     "output_type": "stream",
     "text": [
      "(1378, 2)\n"
     ]
    },
    {
     "data": {
      "text/html": [
       "<div>\n",
       "<style scoped>\n",
       "    .dataframe tbody tr th:only-of-type {\n",
       "        vertical-align: middle;\n",
       "    }\n",
       "\n",
       "    .dataframe tbody tr th {\n",
       "        vertical-align: top;\n",
       "    }\n",
       "\n",
       "    .dataframe thead th {\n",
       "        text-align: right;\n",
       "    }\n",
       "</style>\n",
       "<table border=\"1\" class=\"dataframe\">\n",
       "  <thead>\n",
       "    <tr style=\"text-align: right;\">\n",
       "      <th></th>\n",
       "      <th>sequences</th>\n",
       "      <th>label</th>\n",
       "    </tr>\n",
       "  </thead>\n",
       "  <tbody>\n",
       "    <tr>\n",
       "      <th>0</th>\n",
       "      <td>RRWWRRWRRW</td>\n",
       "      <td>0</td>\n",
       "    </tr>\n",
       "    <tr>\n",
       "      <th>1</th>\n",
       "      <td>GWKSVFRKAKKVGKTVGGLALDHYLG</td>\n",
       "      <td>0</td>\n",
       "    </tr>\n",
       "    <tr>\n",
       "      <th>2</th>\n",
       "      <td>ALWKTMLKKLGTMALHAGKAALGAAADTISQGTQ</td>\n",
       "      <td>1</td>\n",
       "    </tr>\n",
       "    <tr>\n",
       "      <th>3</th>\n",
       "      <td>GLFDVIKKVAAVIGGL</td>\n",
       "      <td>1</td>\n",
       "    </tr>\n",
       "    <tr>\n",
       "      <th>4</th>\n",
       "      <td>VAKLLAKLAKKVL</td>\n",
       "      <td>1</td>\n",
       "    </tr>\n",
       "  </tbody>\n",
       "</table>\n",
       "</div>"
      ],
      "text/plain": [
       "                            sequences  label\n",
       "0                          RRWWRRWRRW      0\n",
       "1          GWKSVFRKAKKVGKTVGGLALDHYLG      0\n",
       "2  ALWKTMLKKLGTMALHAGKAALGAAADTISQGTQ      1\n",
       "3                    GLFDVIKKVAAVIGGL      1\n",
       "4                       VAKLLAKLAKKVL      1"
      ]
     },
     "execution_count": 4,
     "metadata": {},
     "output_type": "execute_result"
    }
   ],
   "source": [
    "# Create dataframe to see data format\n",
    "df = pd.read_csv(csv_file)\n",
    "print(df.shape)\n",
    "df.head()"
   ]
  },
  {
   "cell_type": "markdown",
   "id": "6d829e9d-8954-4b1e-bfd8-a3448047c6ca",
   "metadata": {},
   "source": [
    "Run conversion"
   ]
  },
  {
   "cell_type": "code",
   "execution_count": 5,
   "id": "005acc17-2fd4-48a9-9eb1-c9c750e22d1c",
   "metadata": {
    "execution": {
     "iopub.execute_input": "2022-08-09T13:44:32.972067Z",
     "iopub.status.busy": "2022-08-09T13:44:32.971866Z",
     "iopub.status.idle": "2022-08-09T13:44:32.994127Z",
     "shell.execute_reply": "2022-08-09T13:44:32.992604Z",
     "shell.execute_reply.started": "2022-08-09T13:44:32.972050Z"
    },
    "tags": []
   },
   "outputs": [],
   "source": [
    "# Run the script\n",
    "cf.csv_to_fasta(csv_file, fasta_file)"
   ]
  },
  {
   "cell_type": "markdown",
   "id": "7fe4a304-3c6b-4854-83f4-025701f5569d",
   "metadata": {
    "execution": {
     "iopub.execute_input": "2022-08-08T21:45:14.059188Z",
     "iopub.status.busy": "2022-08-08T21:45:14.056742Z",
     "iopub.status.idle": "2022-08-08T21:45:14.090136Z",
     "shell.execute_reply": "2022-08-08T21:45:14.088756Z",
     "shell.execute_reply.started": "2022-08-08T21:45:14.058958Z"
    }
   },
   "source": [
    "### Test Dataset"
   ]
  },
  {
   "cell_type": "code",
   "execution_count": 6,
   "id": "7517e712-e6ba-4841-b66b-b45a9423d852",
   "metadata": {
    "execution": {
     "iopub.execute_input": "2022-08-09T13:44:32.995456Z",
     "iopub.status.busy": "2022-08-09T13:44:32.995202Z",
     "iopub.status.idle": "2022-08-09T13:44:32.999776Z",
     "shell.execute_reply": "2022-08-09T13:44:32.998916Z",
     "shell.execute_reply.started": "2022-08-09T13:44:32.995435Z"
    },
    "tags": []
   },
   "outputs": [],
   "source": [
    "# Define paths\n",
    "csv_file = '../data/acp/test_data.csv'\n",
    "fasta_file = '../data/acp/test_data.fa'"
   ]
  },
  {
   "cell_type": "code",
   "execution_count": 7,
   "id": "93752b1f-6a0b-454e-9bba-4834810e0348",
   "metadata": {
    "execution": {
     "iopub.execute_input": "2022-08-09T13:44:33.000582Z",
     "iopub.status.busy": "2022-08-09T13:44:33.000387Z",
     "iopub.status.idle": "2022-08-09T13:44:33.022559Z",
     "shell.execute_reply": "2022-08-09T13:44:33.021570Z",
     "shell.execute_reply.started": "2022-08-09T13:44:33.000565Z"
    },
    "tags": []
   },
   "outputs": [
    {
     "name": "stdout",
     "output_type": "stream",
     "text": [
      "(344, 2)\n"
     ]
    },
    {
     "data": {
      "text/html": [
       "<div>\n",
       "<style scoped>\n",
       "    .dataframe tbody tr th:only-of-type {\n",
       "        vertical-align: middle;\n",
       "    }\n",
       "\n",
       "    .dataframe tbody tr th {\n",
       "        vertical-align: top;\n",
       "    }\n",
       "\n",
       "    .dataframe thead th {\n",
       "        text-align: right;\n",
       "    }\n",
       "</style>\n",
       "<table border=\"1\" class=\"dataframe\">\n",
       "  <thead>\n",
       "    <tr style=\"text-align: right;\">\n",
       "      <th></th>\n",
       "      <th>sequences</th>\n",
       "      <th>label</th>\n",
       "    </tr>\n",
       "  </thead>\n",
       "  <tbody>\n",
       "    <tr>\n",
       "      <th>0</th>\n",
       "      <td>FLPLLLSALPSFLCLVFKKC</td>\n",
       "      <td>0</td>\n",
       "    </tr>\n",
       "    <tr>\n",
       "      <th>1</th>\n",
       "      <td>DKLIGSCVWLAVNYTSNCNAECKRRGYKGGHCGSFLNVNCWCET</td>\n",
       "      <td>0</td>\n",
       "    </tr>\n",
       "    <tr>\n",
       "      <th>2</th>\n",
       "      <td>AVKDTYSCFIMRGKCRHECHDFEKPIGFCTKLNANCYM</td>\n",
       "      <td>0</td>\n",
       "    </tr>\n",
       "    <tr>\n",
       "      <th>3</th>\n",
       "      <td>GLPTCGETCFGGTCNTPGCTCDPWPVCTHN</td>\n",
       "      <td>1</td>\n",
       "    </tr>\n",
       "    <tr>\n",
       "      <th>4</th>\n",
       "      <td>ENCGRQAG</td>\n",
       "      <td>0</td>\n",
       "    </tr>\n",
       "  </tbody>\n",
       "</table>\n",
       "</div>"
      ],
      "text/plain": [
       "                                      sequences  label\n",
       "0                          FLPLLLSALPSFLCLVFKKC      0\n",
       "1  DKLIGSCVWLAVNYTSNCNAECKRRGYKGGHCGSFLNVNCWCET      0\n",
       "2        AVKDTYSCFIMRGKCRHECHDFEKPIGFCTKLNANCYM      0\n",
       "3                GLPTCGETCFGGTCNTPGCTCDPWPVCTHN      1\n",
       "4                                      ENCGRQAG      0"
      ]
     },
     "execution_count": 7,
     "metadata": {},
     "output_type": "execute_result"
    }
   ],
   "source": [
    "# Create dataframe to see data format\n",
    "df = pd.read_csv(csv_file)\n",
    "print(df.shape)\n",
    "df.head()"
   ]
  },
  {
   "cell_type": "markdown",
   "id": "2e25daea-4cee-4275-bc71-d4250116d2be",
   "metadata": {},
   "source": [
    "Run conversion"
   ]
  },
  {
   "cell_type": "code",
   "execution_count": 8,
   "id": "a32539db-1511-479f-adff-15c1a9525991",
   "metadata": {
    "execution": {
     "iopub.execute_input": "2022-08-09T13:44:33.023960Z",
     "iopub.status.busy": "2022-08-09T13:44:33.023664Z",
     "iopub.status.idle": "2022-08-09T13:44:33.038940Z",
     "shell.execute_reply": "2022-08-09T13:44:33.037445Z",
     "shell.execute_reply.started": "2022-08-09T13:44:33.023937Z"
    },
    "tags": []
   },
   "outputs": [],
   "source": [
    "# Run the script\n",
    "cf.csv_to_fasta(csv_file, fasta_file)"
   ]
  },
  {
   "cell_type": "markdown",
   "id": "705f45bc-b103-48c2-8585-1c59f4506400",
   "metadata": {},
   "source": [
    "Check if both files were created."
   ]
  },
  {
   "cell_type": "code",
   "execution_count": 10,
   "id": "c43654cc-540c-4c25-aea0-186789062437",
   "metadata": {
    "execution": {
     "iopub.execute_input": "2022-08-09T13:48:07.902026Z",
     "iopub.status.busy": "2022-08-09T13:48:07.894338Z",
     "iopub.status.idle": "2022-08-09T13:48:08.096503Z",
     "shell.execute_reply": "2022-08-09T13:48:08.090549Z",
     "shell.execute_reply.started": "2022-08-09T13:48:07.901774Z"
    },
    "tags": []
   },
   "outputs": [
    {
     "name": "stdout",
     "output_type": "stream",
     "text": [
      "\u001b[34;42m../data/acp\u001b[00m\n",
      "├── [9.0K Dec  1  2021]  \u001b[01;32mtest_data.csv\u001b[00m\n",
      "├── [ 14K Aug  9 09:44]  \u001b[01;32mtest_data.fa\u001b[00m\n",
      "├── [ 36K Dec  1  2021]  \u001b[01;32mtrain_data.csv\u001b[00m\n",
      "└── [ 58K Aug  9 09:44]  \u001b[01;32mtrain_data.fa\u001b[00m\n",
      "\n",
      "0 directories, 4 files\n"
     ]
    }
   ],
   "source": [
    "!tree ../data/acp -DhL 1"
   ]
  },
  {
   "cell_type": "markdown",
   "id": "294dec76-8971-4794-b669-e2513df4d86c",
   "metadata": {
    "tags": []
   },
   "source": [
    "## AMP - Antimicrobial Peptides\n",
    "\n",
    "They have a wide range of inhibitory effects against bacteria, fungi, parasites, and viruses.\n",
    "\n"
   ]
  },
  {
   "cell_type": "markdown",
   "id": "327f0c72-4a18-43bb-b71a-786ea7a7ac2f",
   "metadata": {},
   "source": [
    "We have only one file for this group of peptides."
   ]
  },
  {
   "cell_type": "code",
   "execution_count": 11,
   "id": "74263675-84c9-46e4-8d5a-888778a1770c",
   "metadata": {
    "execution": {
     "iopub.execute_input": "2022-08-09T14:02:21.538015Z",
     "iopub.status.busy": "2022-08-09T14:02:21.530426Z",
     "iopub.status.idle": "2022-08-09T14:02:21.569884Z",
     "shell.execute_reply": "2022-08-09T14:02:21.568304Z",
     "shell.execute_reply.started": "2022-08-09T14:02:21.537767Z"
    },
    "tags": []
   },
   "outputs": [],
   "source": [
    "# Define paths\n",
    "csv_file = '../data/amp/all_data.csv'\n",
    "fasta_file = '../data/amp/all_data.fa'"
   ]
  },
  {
   "cell_type": "code",
   "execution_count": 12,
   "id": "abc35d05-e136-4d29-8031-4dbb8f92d420",
   "metadata": {
    "execution": {
     "iopub.execute_input": "2022-08-09T14:02:24.694910Z",
     "iopub.status.busy": "2022-08-09T14:02:24.694615Z",
     "iopub.status.idle": "2022-08-09T14:02:24.860263Z",
     "shell.execute_reply": "2022-08-09T14:02:24.858895Z",
     "shell.execute_reply.started": "2022-08-09T14:02:24.694893Z"
    },
    "tags": []
   },
   "outputs": [
    {
     "name": "stdout",
     "output_type": "stream",
     "text": [
      "(4042, 3)\n"
     ]
    },
    {
     "data": {
      "text/html": [
       "<div>\n",
       "<style scoped>\n",
       "    .dataframe tbody tr th:only-of-type {\n",
       "        vertical-align: middle;\n",
       "    }\n",
       "\n",
       "    .dataframe tbody tr th {\n",
       "        vertical-align: top;\n",
       "    }\n",
       "\n",
       "    .dataframe thead th {\n",
       "        text-align: right;\n",
       "    }\n",
       "</style>\n",
       "<table border=\"1\" class=\"dataframe\">\n",
       "  <thead>\n",
       "    <tr style=\"text-align: right;\">\n",
       "      <th></th>\n",
       "      <th>PDBs_code</th>\n",
       "      <th>SequenceID</th>\n",
       "      <th>label</th>\n",
       "    </tr>\n",
       "  </thead>\n",
       "  <tbody>\n",
       "    <tr>\n",
       "      <th>0</th>\n",
       "      <td>AP02484</td>\n",
       "      <td>GMASKAGSVLGKITKIALGAL</td>\n",
       "      <td>1</td>\n",
       "    </tr>\n",
       "    <tr>\n",
       "      <th>1</th>\n",
       "      <td>AP02630</td>\n",
       "      <td>NIGLFTSTCFSSQCFSSKCFTDTCFSSNCFTGRHQCGYTHGSC</td>\n",
       "      <td>1</td>\n",
       "    </tr>\n",
       "    <tr>\n",
       "      <th>2</th>\n",
       "      <td>AP01427</td>\n",
       "      <td>GAIKDALKGAAKTVAVELLKKAQCKLEKTC</td>\n",
       "      <td>1</td>\n",
       "    </tr>\n",
       "    <tr>\n",
       "      <th>3</th>\n",
       "      <td>AP02983</td>\n",
       "      <td>FFGRLKAVFRGARQGWKEHRY</td>\n",
       "      <td>1</td>\n",
       "    </tr>\n",
       "    <tr>\n",
       "      <th>4</th>\n",
       "      <td>AP01815</td>\n",
       "      <td>DFGCARGMIFVCMRRCARMYPGSTGYCQGFRCMCDTMIPIRRPPFIMG</td>\n",
       "      <td>1</td>\n",
       "    </tr>\n",
       "  </tbody>\n",
       "</table>\n",
       "</div>"
      ],
      "text/plain": [
       "  PDBs_code                                        SequenceID  label\n",
       "0   AP02484                             GMASKAGSVLGKITKIALGAL      1\n",
       "1   AP02630       NIGLFTSTCFSSQCFSSKCFTDTCFSSNCFTGRHQCGYTHGSC      1\n",
       "2   AP01427                    GAIKDALKGAAKTVAVELLKKAQCKLEKTC      1\n",
       "3   AP02983                             FFGRLKAVFRGARQGWKEHRY      1\n",
       "4   AP01815  DFGCARGMIFVCMRRCARMYPGSTGYCQGFRCMCDTMIPIRRPPFIMG      1"
      ]
     },
     "execution_count": 12,
     "metadata": {},
     "output_type": "execute_result"
    }
   ],
   "source": [
    "# Create dataframe to see data format\n",
    "df = pd.read_csv(csv_file)\n",
    "print(df.shape)\n",
    "df.head()"
   ]
  },
  {
   "cell_type": "markdown",
   "id": "f899a24d-de59-4e12-b8ab-675b3a61d0bb",
   "metadata": {},
   "source": [
    "Run conversion"
   ]
  },
  {
   "cell_type": "code",
   "execution_count": 13,
   "id": "3b8620be-9305-4dab-8cac-53b445ad61d4",
   "metadata": {
    "execution": {
     "iopub.execute_input": "2022-08-09T14:03:08.525632Z",
     "iopub.status.busy": "2022-08-09T14:03:08.523127Z",
     "iopub.status.idle": "2022-08-09T14:03:08.601937Z",
     "shell.execute_reply": "2022-08-09T14:03:08.601194Z",
     "shell.execute_reply.started": "2022-08-09T14:03:08.525581Z"
    },
    "tags": []
   },
   "outputs": [],
   "source": [
    "# Run the script\n",
    "cf.csv_to_fasta(csv_file, fasta_file)"
   ]
  },
  {
   "cell_type": "markdown",
   "id": "cc4a8f6d-4d5f-4225-aa95-6f7c4bce3b36",
   "metadata": {},
   "source": [
    "Check if the file was created."
   ]
  },
  {
   "cell_type": "code",
   "execution_count": 14,
   "id": "888e378a-afea-4ce9-ab43-8e123ba11edc",
   "metadata": {
    "execution": {
     "iopub.execute_input": "2022-08-09T14:03:12.628059Z",
     "iopub.status.busy": "2022-08-09T14:03:12.627769Z",
     "iopub.status.idle": "2022-08-09T14:03:12.795961Z",
     "shell.execute_reply": "2022-08-09T14:03:12.792482Z",
     "shell.execute_reply.started": "2022-08-09T14:03:12.628038Z"
    },
    "tags": []
   },
   "outputs": [
    {
     "name": "stdout",
     "output_type": "stream",
     "text": [
      "\u001b[34;42m../data/amp\u001b[00m\n",
      "├── [193K Feb  3  2022]  \u001b[01;32mall_data.csv\u001b[00m\n",
      "└── [190K Aug  9 10:03]  \u001b[01;32mall_data.fa\u001b[00m\n",
      "\n",
      "0 directories, 2 files\n"
     ]
    }
   ],
   "source": [
    "!tree ../data/amp -DhL 1"
   ]
  },
  {
   "cell_type": "markdown",
   "id": "f4d56de9-c616-400e-bf79-84cf293a04f3",
   "metadata": {
    "tags": []
   },
   "source": [
    "## DNA-Binding proteins\n",
    "\n",
    "These proteins have an important role in DNA replication, DNA methylation, gene expression, and other biological processes.\n"
   ]
  },
  {
   "cell_type": "markdown",
   "id": "4eaa475c-932b-4275-98aa-6d4b3aec5350",
   "metadata": {
    "execution": {
     "iopub.execute_input": "2022-08-08T21:45:14.059188Z",
     "iopub.status.busy": "2022-08-08T21:45:14.056742Z",
     "iopub.status.idle": "2022-08-08T21:45:14.090136Z",
     "shell.execute_reply": "2022-08-08T21:45:14.088756Z",
     "shell.execute_reply.started": "2022-08-08T21:45:14.058958Z"
    }
   },
   "source": [
    "### Train Dataset"
   ]
  },
  {
   "cell_type": "code",
   "execution_count": 15,
   "id": "105bafff-9086-4782-8243-190676640ce6",
   "metadata": {
    "execution": {
     "iopub.execute_input": "2022-08-09T14:12:08.930111Z",
     "iopub.status.busy": "2022-08-09T14:12:08.921846Z",
     "iopub.status.idle": "2022-08-09T14:12:08.959185Z",
     "shell.execute_reply": "2022-08-09T14:12:08.957352Z",
     "shell.execute_reply.started": "2022-08-09T14:12:08.929695Z"
    },
    "tags": []
   },
   "outputs": [],
   "source": [
    "# Define paths\n",
    "csv_file = '../data/dna_binding/train.csv'\n",
    "fasta_file = '../data/dna_binding/train.fa'"
   ]
  },
  {
   "cell_type": "code",
   "execution_count": 16,
   "id": "f9c11100-c63a-4d52-9425-b2f9e926c91b",
   "metadata": {
    "execution": {
     "iopub.execute_input": "2022-08-09T14:12:14.346234Z",
     "iopub.status.busy": "2022-08-09T14:12:14.345984Z",
     "iopub.status.idle": "2022-08-09T14:12:14.561077Z",
     "shell.execute_reply": "2022-08-09T14:12:14.560118Z",
     "shell.execute_reply.started": "2022-08-09T14:12:14.346217Z"
    },
    "tags": []
   },
   "outputs": [
    {
     "name": "stdout",
     "output_type": "stream",
     "text": [
      "(14189, 4)\n"
     ]
    },
    {
     "data": {
      "text/html": [
       "<div>\n",
       "<style scoped>\n",
       "    .dataframe tbody tr th:only-of-type {\n",
       "        vertical-align: middle;\n",
       "    }\n",
       "\n",
       "    .dataframe tbody tr th {\n",
       "        vertical-align: top;\n",
       "    }\n",
       "\n",
       "    .dataframe thead th {\n",
       "        text-align: right;\n",
       "    }\n",
       "</style>\n",
       "<table border=\"1\" class=\"dataframe\">\n",
       "  <thead>\n",
       "    <tr style=\"text-align: right;\">\n",
       "      <th></th>\n",
       "      <th>code</th>\n",
       "      <th>sequence</th>\n",
       "      <th>label</th>\n",
       "      <th>origin</th>\n",
       "    </tr>\n",
       "  </thead>\n",
       "  <tbody>\n",
       "    <tr>\n",
       "      <th>0</th>\n",
       "      <td>Q6A8L0</td>\n",
       "      <td>MSGHSKWATTKHKKAAIDAKRGKLFARLIKNIEVAARLGGGDPSGN...</td>\n",
       "      <td>1</td>\n",
       "      <td>https://github.com/hfuulgb/PDB-Fusion/tree/mai...</td>\n",
       "    </tr>\n",
       "    <tr>\n",
       "      <th>1</th>\n",
       "      <td>Q7V7T9</td>\n",
       "      <td>MIGWLQGQKVEAWQQGTRQGVVLACAGVGYEVQIAPRHLSEMEHGQ...</td>\n",
       "      <td>1</td>\n",
       "      <td>https://github.com/hfuulgb/PDB-Fusion/tree/mai...</td>\n",
       "    </tr>\n",
       "    <tr>\n",
       "      <th>2</th>\n",
       "      <td>Q9ZUP2</td>\n",
       "      <td>MARILRNVYSLRSSLFSSELLRRSVVGTSFQLRGFAAKAKKKSKSD...</td>\n",
       "      <td>1</td>\n",
       "      <td>https://github.com/hfuulgb/PDB-Fusion/tree/mai...</td>\n",
       "    </tr>\n",
       "    <tr>\n",
       "      <th>3</th>\n",
       "      <td>Q2JVG1</td>\n",
       "      <td>MKCPRCGKQEIRVLESRSAEGGQSVRRRRECMSCGYRFTTYERIEF...</td>\n",
       "      <td>1</td>\n",
       "      <td>https://github.com/hfuulgb/PDB-Fusion/tree/mai...</td>\n",
       "    </tr>\n",
       "    <tr>\n",
       "      <th>4</th>\n",
       "      <td>Q9K4Q3</td>\n",
       "      <td>MTKADIIEGVYEKVGFSKKESAEIVELVFDTLKETLERGDKIKISG...</td>\n",
       "      <td>1</td>\n",
       "      <td>https://github.com/hfuulgb/PDB-Fusion/tree/mai...</td>\n",
       "    </tr>\n",
       "  </tbody>\n",
       "</table>\n",
       "</div>"
      ],
      "text/plain": [
       "     code                                           sequence  label  \\\n",
       "0  Q6A8L0  MSGHSKWATTKHKKAAIDAKRGKLFARLIKNIEVAARLGGGDPSGN...      1   \n",
       "1  Q7V7T9  MIGWLQGQKVEAWQQGTRQGVVLACAGVGYEVQIAPRHLSEMEHGQ...      1   \n",
       "2  Q9ZUP2  MARILRNVYSLRSSLFSSELLRRSVVGTSFQLRGFAAKAKKKSKSD...      1   \n",
       "3  Q2JVG1  MKCPRCGKQEIRVLESRSAEGGQSVRRRRECMSCGYRFTTYERIEF...      1   \n",
       "4  Q9K4Q3  MTKADIIEGVYEKVGFSKKESAEIVELVFDTLKETLERGDKIKISG...      1   \n",
       "\n",
       "                                              origin  \n",
       "0  https://github.com/hfuulgb/PDB-Fusion/tree/mai...  \n",
       "1  https://github.com/hfuulgb/PDB-Fusion/tree/mai...  \n",
       "2  https://github.com/hfuulgb/PDB-Fusion/tree/mai...  \n",
       "3  https://github.com/hfuulgb/PDB-Fusion/tree/mai...  \n",
       "4  https://github.com/hfuulgb/PDB-Fusion/tree/mai...  "
      ]
     },
     "execution_count": 16,
     "metadata": {},
     "output_type": "execute_result"
    }
   ],
   "source": [
    "# Create dataframe to see data format\n",
    "df = pd.read_csv(csv_file)\n",
    "print(df.shape)\n",
    "df.head()"
   ]
  },
  {
   "cell_type": "markdown",
   "id": "7f5752d4-07bf-49e8-b13d-fcbb75066381",
   "metadata": {},
   "source": [
    "Run conversion"
   ]
  },
  {
   "cell_type": "code",
   "execution_count": 17,
   "id": "4a3b4bc4-b49c-4833-a444-bc622cdd93d2",
   "metadata": {
    "execution": {
     "iopub.execute_input": "2022-08-09T14:13:33.695688Z",
     "iopub.status.busy": "2022-08-09T14:13:33.688086Z",
     "iopub.status.idle": "2022-08-09T14:13:34.316961Z",
     "shell.execute_reply": "2022-08-09T14:13:34.315550Z",
     "shell.execute_reply.started": "2022-08-09T14:13:33.695419Z"
    },
    "tags": []
   },
   "outputs": [],
   "source": [
    "# Run the script\n",
    "cf.csv_to_fasta(csv_file, fasta_file)"
   ]
  },
  {
   "cell_type": "markdown",
   "id": "b68e040a-5fd2-4bc6-88d1-7c50c400214f",
   "metadata": {
    "execution": {
     "iopub.execute_input": "2022-08-08T21:45:14.059188Z",
     "iopub.status.busy": "2022-08-08T21:45:14.056742Z",
     "iopub.status.idle": "2022-08-08T21:45:14.090136Z",
     "shell.execute_reply": "2022-08-08T21:45:14.088756Z",
     "shell.execute_reply.started": "2022-08-08T21:45:14.058958Z"
    }
   },
   "source": [
    "### Test Dataset"
   ]
  },
  {
   "cell_type": "code",
   "execution_count": 18,
   "id": "98b58d8a-2822-4e9c-9d38-5ac7e2a8b435",
   "metadata": {
    "execution": {
     "iopub.execute_input": "2022-08-09T14:13:56.556822Z",
     "iopub.status.busy": "2022-08-09T14:13:56.556508Z",
     "iopub.status.idle": "2022-08-09T14:13:56.561373Z",
     "shell.execute_reply": "2022-08-09T14:13:56.560421Z",
     "shell.execute_reply.started": "2022-08-09T14:13:56.556803Z"
    },
    "tags": []
   },
   "outputs": [],
   "source": [
    "# Define paths\n",
    "csv_file = '../data/dna_binding/test.csv'\n",
    "fasta_file = '../data/dna_binding/test.fa'"
   ]
  },
  {
   "cell_type": "code",
   "execution_count": 19,
   "id": "92361981-9dde-4505-a157-f96631fa420a",
   "metadata": {
    "execution": {
     "iopub.execute_input": "2022-08-09T14:14:04.644264Z",
     "iopub.status.busy": "2022-08-09T14:14:04.643866Z",
     "iopub.status.idle": "2022-08-09T14:14:04.761023Z",
     "shell.execute_reply": "2022-08-09T14:14:04.759748Z",
     "shell.execute_reply.started": "2022-08-09T14:14:04.644246Z"
    },
    "tags": []
   },
   "outputs": [
    {
     "name": "stdout",
     "output_type": "stream",
     "text": [
      "(2272, 4)\n"
     ]
    },
    {
     "data": {
      "text/html": [
       "<div>\n",
       "<style scoped>\n",
       "    .dataframe tbody tr th:only-of-type {\n",
       "        vertical-align: middle;\n",
       "    }\n",
       "\n",
       "    .dataframe tbody tr th {\n",
       "        vertical-align: top;\n",
       "    }\n",
       "\n",
       "    .dataframe thead th {\n",
       "        text-align: right;\n",
       "    }\n",
       "</style>\n",
       "<table border=\"1\" class=\"dataframe\">\n",
       "  <thead>\n",
       "    <tr style=\"text-align: right;\">\n",
       "      <th></th>\n",
       "      <th>code</th>\n",
       "      <th>sequence</th>\n",
       "      <th>label</th>\n",
       "      <th>origin</th>\n",
       "    </tr>\n",
       "  </thead>\n",
       "  <tbody>\n",
       "    <tr>\n",
       "      <th>0</th>\n",
       "      <td>P27204|1</td>\n",
       "      <td>AKKRSRSRKRSASRKRSRSRKRSASKKSSKKHVRKALAAGMKNHLL...</td>\n",
       "      <td>1</td>\n",
       "      <td>https://github.com/hfuulgb/PDB-Fusion/tree/mai...</td>\n",
       "    </tr>\n",
       "    <tr>\n",
       "      <th>1</th>\n",
       "      <td>P53528|1</td>\n",
       "      <td>MVMVVNPLTAGLDDEQREAVLAPRGPVCVLAGAGTGKTRTITHRIA...</td>\n",
       "      <td>1</td>\n",
       "      <td>https://github.com/hfuulgb/PDB-Fusion/tree/mai...</td>\n",
       "    </tr>\n",
       "    <tr>\n",
       "      <th>2</th>\n",
       "      <td>P52684|1</td>\n",
       "      <td>MKDDINQEITFRKLSVFMMFMAKGNIARTAEAMKLSSVSVHRALHT...</td>\n",
       "      <td>1</td>\n",
       "      <td>https://github.com/hfuulgb/PDB-Fusion/tree/mai...</td>\n",
       "    </tr>\n",
       "    <tr>\n",
       "      <th>3</th>\n",
       "      <td>P10961|1</td>\n",
       "      <td>MNNAANTGTTNESNVSDAPRIEPLPSLNDDDIEKILQPNDIFTTDR...</td>\n",
       "      <td>1</td>\n",
       "      <td>https://github.com/hfuulgb/PDB-Fusion/tree/mai...</td>\n",
       "    </tr>\n",
       "    <tr>\n",
       "      <th>4</th>\n",
       "      <td>P06023|1</td>\n",
       "      <td>MAKPAKRIKSAAAAYVPQNRDAVITDIKRIGDLQREASRLETEMND...</td>\n",
       "      <td>1</td>\n",
       "      <td>https://github.com/hfuulgb/PDB-Fusion/tree/mai...</td>\n",
       "    </tr>\n",
       "  </tbody>\n",
       "</table>\n",
       "</div>"
      ],
      "text/plain": [
       "       code                                           sequence  label  \\\n",
       "0  P27204|1  AKKRSRSRKRSASRKRSRSRKRSASKKSSKKHVRKALAAGMKNHLL...      1   \n",
       "1  P53528|1  MVMVVNPLTAGLDDEQREAVLAPRGPVCVLAGAGTGKTRTITHRIA...      1   \n",
       "2  P52684|1  MKDDINQEITFRKLSVFMMFMAKGNIARTAEAMKLSSVSVHRALHT...      1   \n",
       "3  P10961|1  MNNAANTGTTNESNVSDAPRIEPLPSLNDDDIEKILQPNDIFTTDR...      1   \n",
       "4  P06023|1  MAKPAKRIKSAAAAYVPQNRDAVITDIKRIGDLQREASRLETEMND...      1   \n",
       "\n",
       "                                              origin  \n",
       "0  https://github.com/hfuulgb/PDB-Fusion/tree/mai...  \n",
       "1  https://github.com/hfuulgb/PDB-Fusion/tree/mai...  \n",
       "2  https://github.com/hfuulgb/PDB-Fusion/tree/mai...  \n",
       "3  https://github.com/hfuulgb/PDB-Fusion/tree/mai...  \n",
       "4  https://github.com/hfuulgb/PDB-Fusion/tree/mai...  "
      ]
     },
     "execution_count": 19,
     "metadata": {},
     "output_type": "execute_result"
    }
   ],
   "source": [
    "# Create dataframe to see data format\n",
    "df = pd.read_csv(csv_file)\n",
    "print(df.shape)\n",
    "df.head()"
   ]
  },
  {
   "cell_type": "markdown",
   "id": "a39d00f8-042e-4df6-8978-f594d73b503b",
   "metadata": {},
   "source": [
    "Run conversion"
   ]
  },
  {
   "cell_type": "code",
   "execution_count": 20,
   "id": "20868e2e-a06f-4cd7-8880-79ca1fb02290",
   "metadata": {
    "execution": {
     "iopub.execute_input": "2022-08-09T14:15:06.353923Z",
     "iopub.status.busy": "2022-08-09T14:15:06.353427Z",
     "iopub.status.idle": "2022-08-09T14:15:06.476329Z",
     "shell.execute_reply": "2022-08-09T14:15:06.475550Z",
     "shell.execute_reply.started": "2022-08-09T14:15:06.353902Z"
    },
    "tags": []
   },
   "outputs": [],
   "source": [
    "# Run the script\n",
    "cf.csv_to_fasta(csv_file, fasta_file)"
   ]
  },
  {
   "cell_type": "markdown",
   "id": "646d3317-25c0-4c3a-9cc4-abf97b24d9c2",
   "metadata": {},
   "source": [
    "Check if both files were created."
   ]
  },
  {
   "cell_type": "code",
   "execution_count": 21,
   "id": "9d097451-4a34-4c9b-9566-e78f502c1c67",
   "metadata": {
    "execution": {
     "iopub.execute_input": "2022-08-09T14:15:10.001527Z",
     "iopub.status.busy": "2022-08-09T14:15:10.000742Z",
     "iopub.status.idle": "2022-08-09T14:15:10.168260Z",
     "shell.execute_reply": "2022-08-09T14:15:10.165732Z",
     "shell.execute_reply.started": "2022-08-09T14:15:10.001505Z"
    },
    "tags": []
   },
   "outputs": [
    {
     "name": "stdout",
     "output_type": "stream",
     "text": [
      "\u001b[34;42m../data/dna_binding\u001b[00m\n",
      "├── [1.1M Dec  1  2021]  \u001b[01;32mtest.csv\u001b[00m\n",
      "├── [1.0M Aug  9 10:15]  \u001b[01;32mtest.fa\u001b[00m\n",
      "├── [6.6M Dec  1  2021]  \u001b[01;32mtrain.csv\u001b[00m\n",
      "└── [6.0M Aug  9 10:13]  \u001b[01;32mtrain.fa\u001b[00m\n",
      "\n",
      "0 directories, 4 files\n"
     ]
    }
   ],
   "source": [
    "!tree ../data/dna_binding -DhL 1"
   ]
  },
  {
   "cell_type": "code",
   "execution_count": null,
   "id": "95006a64-3d38-458b-91ba-ab4216e7d3c5",
   "metadata": {},
   "outputs": [],
   "source": []
  }
 ],
 "metadata": {
  "kernelspec": {
   "display_name": "sa",
   "language": "python",
   "name": "conda-env-sa-py"
  },
  "language_info": {
   "codemirror_mode": {
    "name": "ipython",
    "version": 3
   },
   "file_extension": ".py",
   "mimetype": "text/x-python",
   "name": "python",
   "nbconvert_exporter": "python",
   "pygments_lexer": "ipython3",
   "version": "3.8.13"
  },
  "widgets": {
   "application/vnd.jupyter.widget-state+json": {
    "state": {},
    "version_major": 2,
    "version_minor": 0
   }
  }
 },
 "nbformat": 4,
 "nbformat_minor": 5
}
