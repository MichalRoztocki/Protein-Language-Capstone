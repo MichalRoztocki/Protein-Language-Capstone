{
 "cells": [
  {
   "cell_type": "markdown",
   "id": "a6996cf1-5b97-45b2-920a-112afc130631",
   "metadata": {},
   "source": [
    "## Testing Modelling with knn"
   ]
  },
  {
   "cell_type": "code",
   "execution_count": 48,
   "id": "108c50d5-7568-4d90-9ba8-daa6f72f49c9",
   "metadata": {
    "execution": {
     "iopub.execute_input": "2022-09-17T00:14:16.619611Z",
     "iopub.status.busy": "2022-09-17T00:14:16.619303Z",
     "iopub.status.idle": "2022-09-17T00:14:16.625758Z",
     "shell.execute_reply": "2022-09-17T00:14:16.624530Z",
     "shell.execute_reply.started": "2022-09-17T00:14:16.619591Z"
    },
    "tags": []
   },
   "outputs": [],
   "source": [
    "import os\n",
    "import numpy as np\n",
    "from sklearn.decomposition import PCA\n",
    "from sklearn.pipeline import Pipeline\n",
    "import matplotlib.pyplot as plt\n",
    "# import numpy as np\n",
    "# import pandas as pd\n",
    "import seaborn as sns\n",
    "# Classification metrics\n",
    "from sklearn.metrics import confusion_matrix, classification_report, accuracy_score"
   ]
  },
  {
   "cell_type": "code",
   "execution_count": 2,
   "id": "f149ee94-8f14-4edc-817a-b7e15624acce",
   "metadata": {
    "execution": {
     "iopub.execute_input": "2022-09-16T22:33:05.591039Z",
     "iopub.status.busy": "2022-09-16T22:33:05.590738Z",
     "iopub.status.idle": "2022-09-16T22:33:07.969647Z",
     "shell.execute_reply": "2022-09-16T22:33:07.968815Z",
     "shell.execute_reply.started": "2022-09-16T22:33:05.591019Z"
    },
    "tags": []
   },
   "outputs": [],
   "source": [
    "# Import the script from different folder\n",
    "import sys  \n",
    "sys.path.append('../scripts')\n",
    "\n",
    "import file_utilities as fu"
   ]
  },
  {
   "cell_type": "markdown",
   "id": "b0c9687a-bf2e-46e7-8444-a7a15c0e954a",
   "metadata": {},
   "source": [
    "## ProSE embeddings\n"
   ]
  },
  {
   "cell_type": "markdown",
   "id": "a1178ecc-9a4c-4e64-8a84-ce0c827ee119",
   "metadata": {},
   "source": [
    "Initiaize arguments"
   ]
  },
  {
   "cell_type": "code",
   "execution_count": 3,
   "id": "accc113a-1d21-4733-9cc7-b3a550643d91",
   "metadata": {
    "execution": {
     "iopub.execute_input": "2022-09-16T22:33:09.928833Z",
     "iopub.status.busy": "2022-09-16T22:33:09.928424Z",
     "iopub.status.idle": "2022-09-16T22:33:09.933428Z",
     "shell.execute_reply": "2022-09-16T22:33:09.932457Z",
     "shell.execute_reply.started": "2022-09-16T22:33:09.928795Z"
    },
    "tags": []
   },
   "outputs": [],
   "source": [
    "# Define arguments for the file_paths function\n",
    "task = 'acp'\n",
    "ptmodel = 'prose'\n",
    "file_base = 'train'\n",
    "model = 'prose_dlm'\n",
    "emb_layer = 'layer'\n",
    "pool = 'avg'  \n"
   ]
  },
  {
   "cell_type": "markdown",
   "id": "f9965d9c-c1a0-4c53-8501-99da644ae432",
   "metadata": {},
   "source": [
    "### ProSE DLM model - prose_dlm"
   ]
  },
  {
   "cell_type": "markdown",
   "id": "c55b6f57-1554-461f-b0f8-a2e82bbf1bb3",
   "metadata": {
    "tags": []
   },
   "source": [
    "- **Pooling Operation:  `avg`**"
   ]
  },
  {
   "cell_type": "markdown",
   "id": "f6972b56-7460-4ebf-a232-6ec4e31cfd52",
   "metadata": {},
   "source": [
    "### Train Dataset"
   ]
  },
  {
   "cell_type": "markdown",
   "id": "104804ad-e39a-4240-80b9-edc7da4a4923",
   "metadata": {},
   "source": [
    "Run the script `file_paths` to prepare paths. The default root data folder is *../data*."
   ]
  },
  {
   "cell_type": "code",
   "execution_count": 4,
   "id": "d6bcadce-2f90-4d8a-a45a-f8743e2ae328",
   "metadata": {
    "execution": {
     "iopub.execute_input": "2022-09-16T22:33:17.532193Z",
     "iopub.status.busy": "2022-09-16T22:33:17.531307Z",
     "iopub.status.idle": "2022-09-16T22:33:17.540982Z",
     "shell.execute_reply": "2022-09-16T22:33:17.539445Z",
     "shell.execute_reply.started": "2022-09-16T22:33:17.532159Z"
    },
    "tags": []
   },
   "outputs": [
    {
     "name": "stdout",
     "output_type": "stream",
     "text": [
      " ../data/acp/train_data.fa \n",
      " ../data/acp/prose/train/acp_train_dlm_avg\n"
     ]
    }
   ],
   "source": [
    "# Prepare paths\n",
    "path_pt, _, path_fa = fu.file_paths(ptmodel, task, file_base, model, pool)\n",
    "print('', path_fa, '\\n', path_pt)"
   ]
  },
  {
   "cell_type": "code",
   "execution_count": 5,
   "id": "3c26f2f1-3663-440d-9bec-da560e71aca3",
   "metadata": {
    "execution": {
     "iopub.execute_input": "2022-09-16T22:35:13.261188Z",
     "iopub.status.busy": "2022-09-16T22:35:13.260878Z",
     "iopub.status.idle": "2022-09-16T22:35:29.091217Z",
     "shell.execute_reply": "2022-09-16T22:35:29.090426Z",
     "shell.execute_reply.started": "2022-09-16T22:35:13.261166Z"
    },
    "tags": []
   },
   "outputs": [
    {
     "name": "stdout",
     "output_type": "stream",
     "text": [
      "Shape of embeddings: \t\t(1378, 6165)\n",
      "Length of target label list:\t1378\n",
      "Length of sequential ids list:\t1378\n"
     ]
    }
   ],
   "source": [
    "X_train, y_train, sequence_id_train = fu.read_embeddings(path_fa, path_pt, pool, emb_layer)"
   ]
  },
  {
   "cell_type": "markdown",
   "id": "7f337a50-6390-4684-8d06-8f090e7f81db",
   "metadata": {},
   "source": [
    "### Test Dataset"
   ]
  },
  {
   "cell_type": "code",
   "execution_count": 6,
   "id": "d2f60a6c-1d50-40be-97d9-8f61c6ea4ab6",
   "metadata": {
    "execution": {
     "iopub.execute_input": "2022-09-16T22:35:51.701679Z",
     "iopub.status.busy": "2022-09-16T22:35:51.700931Z",
     "iopub.status.idle": "2022-09-16T22:35:51.709829Z",
     "shell.execute_reply": "2022-09-16T22:35:51.708760Z",
     "shell.execute_reply.started": "2022-09-16T22:35:51.701653Z"
    },
    "tags": []
   },
   "outputs": [
    {
     "name": "stdout",
     "output_type": "stream",
     "text": [
      " ../data/acp/test_data.fa \n",
      " ../data/acp/prose/test/acp_test_dlm_avg\n"
     ]
    }
   ],
   "source": [
    "# Update arguments\n",
    "file_base = 'test'\n",
    "# Prepare paths\n",
    "path_pt, _, path_fa = fu.file_paths(ptmodel, task, file_base, model, pool)\n",
    "print('', path_fa, '\\n', path_pt)"
   ]
  },
  {
   "cell_type": "code",
   "execution_count": 7,
   "id": "cf7cdb89-f4c2-4da1-a2f8-3690bb8313a3",
   "metadata": {
    "execution": {
     "iopub.execute_input": "2022-09-16T22:35:54.085052Z",
     "iopub.status.busy": "2022-09-16T22:35:54.084509Z",
     "iopub.status.idle": "2022-09-16T22:35:55.446095Z",
     "shell.execute_reply": "2022-09-16T22:35:55.445201Z",
     "shell.execute_reply.started": "2022-09-16T22:35:54.085024Z"
    },
    "tags": []
   },
   "outputs": [
    {
     "name": "stdout",
     "output_type": "stream",
     "text": [
      "Shape of embeddings: \t\t(344, 6165)\n",
      "Length of target label list:\t344\n",
      "Length of sequential ids list:\t344\n"
     ]
    }
   ],
   "source": [
    "X_test, y_test, sequence_id_test = fu.read_embeddings(path_fa, path_pt, pool, emb_layer)"
   ]
  },
  {
   "cell_type": "code",
   "execution_count": 10,
   "id": "c2204063-18dd-41b7-812c-27bda9a4a460",
   "metadata": {
    "execution": {
     "iopub.execute_input": "2022-09-16T22:53:20.974520Z",
     "iopub.status.busy": "2022-09-16T22:53:20.974205Z",
     "iopub.status.idle": "2022-09-16T22:53:21.813844Z",
     "shell.execute_reply": "2022-09-16T22:53:21.813000Z",
     "shell.execute_reply.started": "2022-09-16T22:53:20.974483Z"
    },
    "tags": []
   },
   "outputs": [],
   "source": [
    "# If shuffle is needed\n",
    "# from sklearn.utils import shuffle\n",
    "\n",
    "# X_sh, y_sh = shuffle(X_train, y_train, random_state=11)"
   ]
  },
  {
   "cell_type": "code",
   "execution_count": 23,
   "id": "ad60a12b-7fc5-4ebb-a641-ec218f987a48",
   "metadata": {
    "execution": {
     "iopub.execute_input": "2022-09-16T23:10:31.055729Z",
     "iopub.status.busy": "2022-09-16T23:10:31.054841Z",
     "iopub.status.idle": "2022-09-16T23:10:31.121606Z",
     "shell.execute_reply": "2022-09-16T23:10:31.120501Z",
     "shell.execute_reply.started": "2022-09-16T23:10:31.055695Z"
    },
    "tags": []
   },
   "outputs": [],
   "source": [
    "from sklearn.preprocessing import MinMaxScaler\n",
    "\n",
    "scaler = MinMaxScaler()\n",
    "X_train_s = scaler.fit_transform(X_train)\n",
    "X_test_s = scaler.transform(X_test)"
   ]
  },
  {
   "cell_type": "markdown",
   "id": "2386126e-267b-46a8-90ae-96002788a39d",
   "metadata": {
    "execution": {
     "iopub.execute_input": "2022-09-16T23:04:52.957865Z",
     "iopub.status.busy": "2022-09-16T23:04:52.957510Z",
     "iopub.status.idle": "2022-09-16T23:04:52.964735Z",
     "shell.execute_reply": "2022-09-16T23:04:52.963723Z",
     "shell.execute_reply.started": "2022-09-16T23:04:52.957843Z"
    }
   },
   "source": [
    "### PCA"
   ]
  },
  {
   "cell_type": "code",
   "execution_count": 24,
   "id": "08dfec76-805f-4547-9b5a-fe88d185c5d6",
   "metadata": {
    "execution": {
     "iopub.execute_input": "2022-09-16T23:10:42.285095Z",
     "iopub.status.busy": "2022-09-16T23:10:42.284739Z",
     "iopub.status.idle": "2022-09-16T23:10:43.852723Z",
     "shell.execute_reply": "2022-09-16T23:10:43.851681Z",
     "shell.execute_reply.started": "2022-09-16T23:10:42.285074Z"
    },
    "tags": []
   },
   "outputs": [],
   "source": [
    "num_pca_components = 60\n",
    "pca = PCA(num_pca_components)\n",
    "X_train_s_pca = pca.fit_transform(X_train_s)"
   ]
  },
  {
   "cell_type": "code",
   "execution_count": 29,
   "id": "7e5f3dea-c0a4-4bb3-b8ec-17303ff9f2cb",
   "metadata": {
    "execution": {
     "iopub.execute_input": "2022-09-16T23:14:27.037457Z",
     "iopub.status.busy": "2022-09-16T23:14:27.036869Z",
     "iopub.status.idle": "2022-09-16T23:14:27.257863Z",
     "shell.execute_reply": "2022-09-16T23:14:27.256980Z",
     "shell.execute_reply.started": "2022-09-16T23:14:27.037434Z"
    },
    "tags": []
   },
   "outputs": [
    {
     "data": {
      "text/plain": [
       "Text(0, 0.5, 'PCA second principal component')"
      ]
     },
     "execution_count": 29,
     "metadata": {},
     "output_type": "execute_result"
    },
    {
     "data": {
      "image/png": "[encoded data removed]",
      "text/plain": [
       "<Figure size 700x600 with 1 Axes>"
      ]
     },
     "metadata": {},
     "output_type": "display_data"
    }
   ],
   "source": [
    "fig_dims = (7, 6)\n",
    "fig, ax = plt.subplots(figsize=fig_dims)\n",
    "sc = ax.scatter(X_train_s_pca[:,0], X_train_s_pca[:,1], c=y_train, marker='.')\n",
    "ax.set_xlabel('PCA first principal component')\n",
    "ax.set_ylabel('PCA second principal component')\n",
    "#plt.colorbar(sc, label='Variant Effect')"
   ]
  },
  {
   "cell_type": "code",
   "execution_count": null,
   "id": "f6185782-adb2-407a-bebc-ea87bc2fdbff",
   "metadata": {},
   "outputs": [],
   "source": []
  },
  {
   "cell_type": "code",
   "execution_count": 31,
   "id": "d77e9e2b-a902-4196-bac4-5556553a15ff",
   "metadata": {
    "execution": {
     "iopub.execute_input": "2022-09-16T23:51:43.876952Z",
     "iopub.status.busy": "2022-09-16T23:51:43.876205Z",
     "iopub.status.idle": "2022-09-16T23:51:43.919637Z",
     "shell.execute_reply": "2022-09-16T23:51:43.917863Z",
     "shell.execute_reply.started": "2022-09-16T23:51:43.876901Z"
    }
   },
   "outputs": [],
   "source": [
    "from sklearn.neighbors import KNeighborsClassifier"
   ]
  },
  {
   "cell_type": "code",
   "execution_count": 33,
   "id": "f4a406f6-8794-4399-b35c-0b6de024cfe1",
   "metadata": {
    "execution": {
     "iopub.execute_input": "2022-09-16T23:55:33.714529Z",
     "iopub.status.busy": "2022-09-16T23:55:33.714047Z",
     "iopub.status.idle": "2022-09-16T23:55:33.719881Z",
     "shell.execute_reply": "2022-09-16T23:55:33.718849Z",
     "shell.execute_reply.started": "2022-09-16T23:55:33.714505Z"
    },
    "tags": []
   },
   "outputs": [],
   "source": [
    "pipe = Pipeline(\n",
    "    steps = (\n",
    "        ('scaler', MinMaxScaler()),\n",
    "        ('knc', KNeighborsClassifier())\n",
    "    )\n",
    ")"
   ]
  },
  {
   "cell_type": "code",
   "execution_count": 64,
   "id": "6a44c8d3-e21f-4c3f-9fd7-69cf4d3cbe84",
   "metadata": {
    "execution": {
     "iopub.execute_input": "2022-09-17T01:26:53.909775Z",
     "iopub.status.busy": "2022-09-17T01:26:53.909284Z",
     "iopub.status.idle": "2022-09-17T01:26:54.145766Z",
     "shell.execute_reply": "2022-09-17T01:26:54.144081Z",
     "shell.execute_reply.started": "2022-09-17T01:26:53.909754Z"
    },
    "tags": []
   },
   "outputs": [
    {
     "data": {
      "text/html": [
       "<style>#sk-container-id-3 {color: black;background-color: white;}#sk-container-id-3 pre{padding: 0;}#sk-container-id-3 div.sk-toggleable {background-color: white;}#sk-container-id-3 label.sk-toggleable__label {cursor: pointer;display: block;width: 100%;margin-bottom: 0;padding: 0.3em;box-sizing: border-box;text-align: center;}#sk-container-id-3 label.sk-toggleable__label-arrow:before {content: \"▸\";float: left;margin-right: 0.25em;color: #696969;}#sk-container-id-3 label.sk-toggleable__label-arrow:hover:before {color: black;}#sk-container-id-3 div.sk-estimator:hover label.sk-toggleable__label-arrow:before {color: black;}#sk-container-id-3 div.sk-toggleable__content {max-height: 0;max-width: 0;overflow: hidden;text-align: left;background-color: #f0f8ff;}#sk-container-id-3 div.sk-toggleable__content pre {margin: 0.2em;color: black;border-radius: 0.25em;background-color: #f0f8ff;}#sk-container-id-3 input.sk-toggleable__control:checked~div.sk-toggleable__content {max-height: 200px;max-width: 100%;overflow: auto;}#sk-container-id-3 input.sk-toggleable__control:checked~label.sk-toggleable__label-arrow:before {content: \"▾\";}#sk-container-id-3 div.sk-estimator input.sk-toggleable__control:checked~label.sk-toggleable__label {background-color: #d4ebff;}#sk-container-id-3 div.sk-label input.sk-toggleable__control:checked~label.sk-toggleable__label {background-color: #d4ebff;}#sk-container-id-3 input.sk-hidden--visually {border: 0;clip: rect(1px 1px 1px 1px);clip: rect(1px, 1px, 1px, 1px);height: 1px;margin: -1px;overflow: hidden;padding: 0;position: absolute;width: 1px;}#sk-container-id-3 div.sk-estimator {font-family: monospace;background-color: #f0f8ff;border: 1px dotted black;border-radius: 0.25em;box-sizing: border-box;margin-bottom: 0.5em;}#sk-container-id-3 div.sk-estimator:hover {background-color: #d4ebff;}#sk-container-id-3 div.sk-parallel-item::after {content: \"\";width: 100%;border-bottom: 1px solid gray;flex-grow: 1;}#sk-container-id-3 div.sk-label:hover label.sk-toggleable__label {background-color: #d4ebff;}#sk-container-id-3 div.sk-serial::before {content: \"\";position: absolute;border-left: 1px solid gray;box-sizing: border-box;top: 0;bottom: 0;left: 50%;z-index: 0;}#sk-container-id-3 div.sk-serial {display: flex;flex-direction: column;align-items: center;background-color: white;padding-right: 0.2em;padding-left: 0.2em;position: relative;}#sk-container-id-3 div.sk-item {position: relative;z-index: 1;}#sk-container-id-3 div.sk-parallel {display: flex;align-items: stretch;justify-content: center;background-color: white;position: relative;}#sk-container-id-3 div.sk-item::before, #sk-container-id-3 div.sk-parallel-item::before {content: \"\";position: absolute;border-left: 1px solid gray;box-sizing: border-box;top: 0;bottom: 0;left: 50%;z-index: -1;}#sk-container-id-3 div.sk-parallel-item {display: flex;flex-direction: column;z-index: 1;position: relative;background-color: white;}#sk-container-id-3 div.sk-parallel-item:first-child::after {align-self: flex-end;width: 50%;}#sk-container-id-3 div.sk-parallel-item:last-child::after {align-self: flex-start;width: 50%;}#sk-container-id-3 div.sk-parallel-item:only-child::after {width: 0;}#sk-container-id-3 div.sk-dashed-wrapped {border: 1px dashed gray;margin: 0 0.4em 0.5em 0.4em;box-sizing: border-box;padding-bottom: 0.4em;background-color: white;}#sk-container-id-3 div.sk-label label {font-family: monospace;font-weight: bold;display: inline-block;line-height: 1.2em;}#sk-container-id-3 div.sk-label-container {text-align: center;}#sk-container-id-3 div.sk-container {/* jupyter's `normalize.less` sets `[hidden] { display: none; }` but bootstrap.min.css set `[hidden] { display: none !important; }` so we also need the `!important` here to be able to override the default hidden behavior on the sphinx rendered scikit-learn.org. See: https://github.com/scikit-learn/scikit-learn/issues/21755 */display: inline-block !important;position: relative;}#sk-container-id-3 div.sk-text-repr-fallback {display: none;}</style><div id=\"sk-container-id-3\" class=\"sk-top-container\"><div class=\"sk-text-repr-fallback\"><pre>Pipeline(steps=[(&#x27;scaler&#x27;, MinMaxScaler()), (&#x27;knc&#x27;, KNeighborsClassifier())])</pre><b>In a Jupyter environment, please rerun this cell to show the HTML representation or trust the notebook. <br />On GitHub, the HTML representation is unable to render, please try loading this page with nbviewer.org.</b></div><div class=\"sk-container\" hidden><div class=\"sk-item sk-dashed-wrapped\"><div class=\"sk-label-container\"><div class=\"sk-label sk-toggleable\"><input class=\"sk-toggleable__control sk-hidden--visually\" id=\"sk-estimator-id-7\" type=\"checkbox\" ><label for=\"sk-estimator-id-7\" class=\"sk-toggleable__label sk-toggleable__label-arrow\">Pipeline</label><div class=\"sk-toggleable__content\"><pre>Pipeline(steps=[(&#x27;scaler&#x27;, MinMaxScaler()), (&#x27;knc&#x27;, KNeighborsClassifier())])</pre></div></div></div><div class=\"sk-serial\"><div class=\"sk-item\"><div class=\"sk-estimator sk-toggleable\"><input class=\"sk-toggleable__control sk-hidden--visually\" id=\"sk-estimator-id-8\" type=\"checkbox\" ><label for=\"sk-estimator-id-8\" class=\"sk-toggleable__label sk-toggleable__label-arrow\">MinMaxScaler</label><div class=\"sk-toggleable__content\"><pre>MinMaxScaler()</pre></div></div></div><div class=\"sk-item\"><div class=\"sk-estimator sk-toggleable\"><input class=\"sk-toggleable__control sk-hidden--visually\" id=\"sk-estimator-id-9\" type=\"checkbox\" ><label for=\"sk-estimator-id-9\" class=\"sk-toggleable__label sk-toggleable__label-arrow\">KNeighborsClassifier</label><div class=\"sk-toggleable__content\"><pre>KNeighborsClassifier()</pre></div></div></div></div></div></div></div>"
      ],
      "text/plain": [
       "Pipeline(steps=[('scaler', MinMaxScaler()), ('knc', KNeighborsClassifier())])"
      ]
     },
     "execution_count": 64,
     "metadata": {},
     "output_type": "execute_result"
    }
   ],
   "source": [
    "pipe.fit(X_train, y_train)"
   ]
  },
  {
   "cell_type": "code",
   "execution_count": 65,
   "id": "b30d2d61-918e-4e1c-825c-ec5ac7d985c4",
   "metadata": {
    "execution": {
     "iopub.execute_input": "2022-09-17T01:26:57.103795Z",
     "iopub.status.busy": "2022-09-17T01:26:57.103515Z",
     "iopub.status.idle": "2022-09-17T01:26:57.111649Z",
     "shell.execute_reply": "2022-09-17T01:26:57.110698Z",
     "shell.execute_reply.started": "2022-09-17T01:26:57.103775Z"
    },
    "tags": []
   },
   "outputs": [
    {
     "data": {
      "text/plain": [
       "{'memory': None,\n",
       " 'steps': [('scaler', MinMaxScaler()), ('knc', KNeighborsClassifier())],\n",
       " 'verbose': False,\n",
       " 'scaler': MinMaxScaler(),\n",
       " 'knc': KNeighborsClassifier(),\n",
       " 'scaler__clip': False,\n",
       " 'scaler__copy': True,\n",
       " 'scaler__feature_range': (0, 1),\n",
       " 'knc__algorithm': 'auto',\n",
       " 'knc__leaf_size': 30,\n",
       " 'knc__metric': 'minkowski',\n",
       " 'knc__metric_params': None,\n",
       " 'knc__n_jobs': None,\n",
       " 'knc__n_neighbors': 5,\n",
       " 'knc__p': 2,\n",
       " 'knc__weights': 'uniform'}"
      ]
     },
     "execution_count": 65,
     "metadata": {},
     "output_type": "execute_result"
    }
   ],
   "source": [
    "pipe.get_params()"
   ]
  },
  {
   "cell_type": "code",
   "execution_count": 89,
   "id": "d867670c-3f2b-448b-9954-fe5ca0d67d52",
   "metadata": {
    "execution": {
     "iopub.execute_input": "2022-09-17T19:38:33.639010Z",
     "iopub.status.busy": "2022-09-17T19:38:33.638712Z",
     "iopub.status.idle": "2022-09-17T19:38:35.469392Z",
     "shell.execute_reply": "2022-09-17T19:38:35.468129Z",
     "shell.execute_reply.started": "2022-09-17T19:38:33.638990Z"
    },
    "tags": []
   },
   "outputs": [],
   "source": [
    "y_pred = pipe.predict(X_test)"
   ]
  },
  {
   "cell_type": "code",
   "execution_count": 67,
   "id": "0ff7c611-1218-485a-b257-b62aea6ba29e",
   "metadata": {
    "execution": {
     "iopub.execute_input": "2022-09-17T01:27:13.874078Z",
     "iopub.status.busy": "2022-09-17T01:27:13.873812Z",
     "iopub.status.idle": "2022-09-17T01:27:13.881347Z",
     "shell.execute_reply": "2022-09-17T01:27:13.880427Z",
     "shell.execute_reply.started": "2022-09-17T01:27:13.874059Z"
    },
    "tags": []
   },
   "outputs": [
    {
     "data": {
      "text/plain": [
       "array([1, 0, 0, 1, 0, 0, 1, 1, 0, 1, 1, 0, 0, 1, 0, 1, 1, 0, 0, 1, 0, 0,\n",
       "       1, 1, 1, 0, 0, 0, 1, 0, 0, 1, 1, 1, 1, 1, 1, 0, 1, 1, 1, 1, 1, 0,\n",
       "       1, 0, 1, 0, 1, 1, 0, 0, 1, 1, 0, 1, 1, 0, 1, 1, 0, 1, 0, 0, 1, 1,\n",
       "       1, 0, 1, 1, 1, 1, 1, 1, 0, 1, 0, 1, 1, 0, 1, 0, 1, 0, 0, 1, 0, 1,\n",
       "       1, 0, 1, 1, 1, 0, 1, 1, 0, 1, 0, 0, 0, 0, 0, 1, 0, 1, 0, 0, 0, 0,\n",
       "       0, 1, 1, 1, 0, 1, 1, 0, 1, 1, 0, 1, 0, 0, 1, 0, 0, 1, 1, 1, 1, 1,\n",
       "       1, 0, 0, 1, 0, 1, 0, 1, 0, 1, 0, 0, 1, 0, 1, 1, 1, 0, 0, 0, 1, 0,\n",
       "       1, 1, 0, 0, 0, 0, 1, 1, 0, 1, 1, 1, 1, 1, 1, 0, 0, 0, 0, 0, 0, 1,\n",
       "       1, 1, 1, 1, 0, 0, 0, 1, 0, 1, 0, 0, 0, 0, 1, 0, 0, 0, 0, 0, 1, 1,\n",
       "       1, 0, 0, 1, 0, 1, 1, 1, 0, 1, 1, 0, 1, 0, 1, 0, 1, 1, 1, 0, 1, 1,\n",
       "       0, 1, 0, 0, 1, 1, 1, 0, 1, 0, 0, 1, 1, 1, 0, 1, 1, 1, 0, 0, 0, 1,\n",
       "       0, 1, 1, 1, 1, 1, 1, 0, 1, 1, 1, 0, 0, 1, 0, 0, 0, 0, 1, 0, 1, 1,\n",
       "       0, 0, 1, 1, 1, 0, 0, 0, 1, 1, 0, 0, 1, 1, 1, 1, 0, 0, 1, 1, 1, 1,\n",
       "       0, 1, 0, 0, 0, 1, 0, 0, 0, 1, 1, 1, 1, 0, 1, 1, 0, 0, 0, 1, 1, 0,\n",
       "       1, 0, 1, 0, 0, 0, 1, 1, 0, 0, 1, 0, 1, 1, 1, 0, 0, 0, 1, 1, 0, 0,\n",
       "       0, 0, 0, 0, 0, 0, 0, 0, 1, 0, 0, 0, 0, 0])"
      ]
     },
     "execution_count": 67,
     "metadata": {},
     "output_type": "execute_result"
    }
   ],
   "source": [
    "y_pred"
   ]
  },
  {
   "cell_type": "code",
   "execution_count": 68,
   "id": "d5202993-869d-4f2d-9adc-79014f3b9f48",
   "metadata": {
    "execution": {
     "iopub.execute_input": "2022-09-17T01:27:20.501787Z",
     "iopub.status.busy": "2022-09-17T01:27:20.501502Z",
     "iopub.status.idle": "2022-09-17T01:27:20.510339Z",
     "shell.execute_reply": "2022-09-17T01:27:20.509443Z",
     "shell.execute_reply.started": "2022-09-17T01:27:20.501767Z"
    },
    "tags": []
   },
   "outputs": [
    {
     "data": {
      "text/plain": [
       "0.7267441860465116"
      ]
     },
     "execution_count": 68,
     "metadata": {},
     "output_type": "execute_result"
    }
   ],
   "source": [
    "accuracy_score(y_test, y_pred)"
   ]
  },
  {
   "cell_type": "code",
   "execution_count": 69,
   "id": "818c9ac3-2c68-4331-a847-02104aa61faa",
   "metadata": {
    "execution": {
     "iopub.execute_input": "2022-09-17T01:27:35.338324Z",
     "iopub.status.busy": "2022-09-17T01:27:35.338041Z",
     "iopub.status.idle": "2022-09-17T01:27:35.355786Z",
     "shell.execute_reply": "2022-09-17T01:27:35.354658Z",
     "shell.execute_reply.started": "2022-09-17T01:27:35.338304Z"
    },
    "tags": []
   },
   "outputs": [
    {
     "data": {
      "text/plain": [
       "array([[122,  50],\n",
       "       [ 44, 128]])"
      ]
     },
     "execution_count": 69,
     "metadata": {},
     "output_type": "execute_result"
    }
   ],
   "source": [
    "confusion_matrix(y_test, y_pred)"
   ]
  },
  {
   "cell_type": "code",
   "execution_count": 70,
   "id": "83dfff22-ce0c-4df9-9ac5-3b7faf3a7ec9",
   "metadata": {
    "execution": {
     "iopub.execute_input": "2022-09-17T01:27:38.751064Z",
     "iopub.status.busy": "2022-09-17T01:27:38.750705Z",
     "iopub.status.idle": "2022-09-17T01:27:38.767659Z",
     "shell.execute_reply": "2022-09-17T01:27:38.766139Z",
     "shell.execute_reply.started": "2022-09-17T01:27:38.751042Z"
    },
    "tags": []
   },
   "outputs": [
    {
     "name": "stdout",
     "output_type": "stream",
     "text": [
      "              precision    recall  f1-score   support\n",
      "\n",
      "           0       0.73      0.71      0.72       172\n",
      "           1       0.72      0.74      0.73       172\n",
      "\n",
      "    accuracy                           0.73       344\n",
      "   macro avg       0.73      0.73      0.73       344\n",
      "weighted avg       0.73      0.73      0.73       344\n",
      "\n"
     ]
    }
   ],
   "source": [
    "print(classification_report(y_test, y_pred))"
   ]
  },
  {
   "cell_type": "code",
   "execution_count": 71,
   "id": "d7e3018d-d2ed-497f-b67c-4db123f39b51",
   "metadata": {
    "execution": {
     "iopub.execute_input": "2022-09-17T01:27:50.580750Z",
     "iopub.status.busy": "2022-09-17T01:27:50.580454Z",
     "iopub.status.idle": "2022-09-17T01:27:52.779364Z",
     "shell.execute_reply": "2022-09-17T01:27:52.778347Z",
     "shell.execute_reply.started": "2022-09-17T01:27:50.580729Z"
    },
    "tags": []
   },
   "outputs": [
    {
     "data": {
      "text/plain": [
       "0.8207547169811321"
      ]
     },
     "execution_count": 71,
     "metadata": {},
     "output_type": "execute_result"
    }
   ],
   "source": [
    "pipe.score(X_train, y_train)"
   ]
  },
  {
   "cell_type": "code",
   "execution_count": 72,
   "id": "e6b0b0bb-d3a8-4dfd-958e-2829f566415b",
   "metadata": {
    "execution": {
     "iopub.execute_input": "2022-09-17T01:28:01.563998Z",
     "iopub.status.busy": "2022-09-17T01:28:01.563696Z",
     "iopub.status.idle": "2022-09-17T01:28:02.200214Z",
     "shell.execute_reply": "2022-09-17T01:28:02.199108Z",
     "shell.execute_reply.started": "2022-09-17T01:28:01.563976Z"
    },
    "tags": []
   },
   "outputs": [
    {
     "data": {
      "text/plain": [
       "0.7267441860465116"
      ]
     },
     "execution_count": 72,
     "metadata": {},
     "output_type": "execute_result"
    }
   ],
   "source": [
    "pipe.score(X_test, y_test)"
   ]
  },
  {
   "cell_type": "code",
   "execution_count": 73,
   "id": "b5b83d16-4577-4c86-9108-b4381f691d84",
   "metadata": {
    "execution": {
     "iopub.execute_input": "2022-09-17T01:28:13.423518Z",
     "iopub.status.busy": "2022-09-17T01:28:13.422971Z",
     "iopub.status.idle": "2022-09-17T01:28:13.433551Z",
     "shell.execute_reply": "2022-09-17T01:28:13.431628Z",
     "shell.execute_reply.started": "2022-09-17T01:28:13.423482Z"
    },
    "tags": []
   },
   "outputs": [
    {
     "name": "stdout",
     "output_type": "stream",
     "text": [
      "[0 0 0 1 0 0 1 1 1 0]\n",
      "[1 0 0 1 0 0 1 1 0 1]\n"
     ]
    }
   ],
   "source": [
    "print(np.array(y_test)[:10])\n",
    "print(y_pred[:10])"
   ]
  },
  {
   "cell_type": "code",
   "execution_count": 75,
   "id": "40938468-4bf2-4ca9-9f83-4e33cf73a2e8",
   "metadata": {
    "execution": {
     "iopub.execute_input": "2022-09-17T01:28:29.044300Z",
     "iopub.status.busy": "2022-09-17T01:28:29.044001Z",
     "iopub.status.idle": "2022-09-17T01:28:29.130535Z",
     "shell.execute_reply": "2022-09-17T01:28:29.129377Z",
     "shell.execute_reply.started": "2022-09-17T01:28:29.044280Z"
    },
    "tags": []
   },
   "outputs": [
    {
     "data": {
      "text/plain": [
       "array([1])"
      ]
     },
     "execution_count": 75,
     "metadata": {},
     "output_type": "execute_result"
    }
   ],
   "source": [
    "pipe.predict(X_test[55:56])"
   ]
  },
  {
   "cell_type": "markdown",
   "id": "e4034a0a-9b60-49f8-9704-92c5471a449e",
   "metadata": {},
   "source": [
    "### Pipeline with PCA"
   ]
  },
  {
   "cell_type": "code",
   "execution_count": 84,
   "id": "0a07c1b8-f6f2-4b17-9450-16408d62e873",
   "metadata": {
    "execution": {
     "iopub.execute_input": "2022-09-17T19:35:05.555980Z",
     "iopub.status.busy": "2022-09-17T19:35:05.545580Z",
     "iopub.status.idle": "2022-09-17T19:35:05.597247Z",
     "shell.execute_reply": "2022-09-17T19:35:05.594179Z",
     "shell.execute_reply.started": "2022-09-17T19:35:05.555709Z"
    }
   },
   "outputs": [],
   "source": [
    "num_pca_components = 60"
   ]
  },
  {
   "cell_type": "code",
   "execution_count": 85,
   "id": "d023f0ca-d547-4468-b40e-db03476708c4",
   "metadata": {
    "execution": {
     "iopub.execute_input": "2022-09-17T19:35:09.407076Z",
     "iopub.status.busy": "2022-09-17T19:35:09.406736Z",
     "iopub.status.idle": "2022-09-17T19:35:09.421728Z",
     "shell.execute_reply": "2022-09-17T19:35:09.420822Z",
     "shell.execute_reply.started": "2022-09-17T19:35:09.407053Z"
    },
    "tags": []
   },
   "outputs": [],
   "source": [
    "pipe_pca = Pipeline(\n",
    "    steps = (\n",
    "        ('scaler', MinMaxScaler()),\n",
    "        ('pca', PCA(num_pca_components)),\n",
    "        ('knc', KNeighborsClassifier())\n",
    "    )\n",
    ")"
   ]
  },
  {
   "cell_type": "code",
   "execution_count": 86,
   "id": "3361f3c0-f338-478c-8d84-42dfd2e7ef42",
   "metadata": {
    "execution": {
     "iopub.execute_input": "2022-09-17T19:35:21.433522Z",
     "iopub.status.busy": "2022-09-17T19:35:21.433216Z",
     "iopub.status.idle": "2022-09-17T19:35:23.253348Z",
     "shell.execute_reply": "2022-09-17T19:35:23.251910Z",
     "shell.execute_reply.started": "2022-09-17T19:35:21.433502Z"
    },
    "tags": []
   },
   "outputs": [
    {
     "data": {
      "text/html": [
       "<style>#sk-container-id-4 {color: black;background-color: white;}#sk-container-id-4 pre{padding: 0;}#sk-container-id-4 div.sk-toggleable {background-color: white;}#sk-container-id-4 label.sk-toggleable__label {cursor: pointer;display: block;width: 100%;margin-bottom: 0;padding: 0.3em;box-sizing: border-box;text-align: center;}#sk-container-id-4 label.sk-toggleable__label-arrow:before {content: \"▸\";float: left;margin-right: 0.25em;color: #696969;}#sk-container-id-4 label.sk-toggleable__label-arrow:hover:before {color: black;}#sk-container-id-4 div.sk-estimator:hover label.sk-toggleable__label-arrow:before {color: black;}#sk-container-id-4 div.sk-toggleable__content {max-height: 0;max-width: 0;overflow: hidden;text-align: left;background-color: #f0f8ff;}#sk-container-id-4 div.sk-toggleable__content pre {margin: 0.2em;color: black;border-radius: 0.25em;background-color: #f0f8ff;}#sk-container-id-4 input.sk-toggleable__control:checked~div.sk-toggleable__content {max-height: 200px;max-width: 100%;overflow: auto;}#sk-container-id-4 input.sk-toggleable__control:checked~label.sk-toggleable__label-arrow:before {content: \"▾\";}#sk-container-id-4 div.sk-estimator input.sk-toggleable__control:checked~label.sk-toggleable__label {background-color: #d4ebff;}#sk-container-id-4 div.sk-label input.sk-toggleable__control:checked~label.sk-toggleable__label {background-color: #d4ebff;}#sk-container-id-4 input.sk-hidden--visually {border: 0;clip: rect(1px 1px 1px 1px);clip: rect(1px, 1px, 1px, 1px);height: 1px;margin: -1px;overflow: hidden;padding: 0;position: absolute;width: 1px;}#sk-container-id-4 div.sk-estimator {font-family: monospace;background-color: #f0f8ff;border: 1px dotted black;border-radius: 0.25em;box-sizing: border-box;margin-bottom: 0.5em;}#sk-container-id-4 div.sk-estimator:hover {background-color: #d4ebff;}#sk-container-id-4 div.sk-parallel-item::after {content: \"\";width: 100%;border-bottom: 1px solid gray;flex-grow: 1;}#sk-container-id-4 div.sk-label:hover label.sk-toggleable__label {background-color: #d4ebff;}#sk-container-id-4 div.sk-serial::before {content: \"\";position: absolute;border-left: 1px solid gray;box-sizing: border-box;top: 0;bottom: 0;left: 50%;z-index: 0;}#sk-container-id-4 div.sk-serial {display: flex;flex-direction: column;align-items: center;background-color: white;padding-right: 0.2em;padding-left: 0.2em;position: relative;}#sk-container-id-4 div.sk-item {position: relative;z-index: 1;}#sk-container-id-4 div.sk-parallel {display: flex;align-items: stretch;justify-content: center;background-color: white;position: relative;}#sk-container-id-4 div.sk-item::before, #sk-container-id-4 div.sk-parallel-item::before {content: \"\";position: absolute;border-left: 1px solid gray;box-sizing: border-box;top: 0;bottom: 0;left: 50%;z-index: -1;}#sk-container-id-4 div.sk-parallel-item {display: flex;flex-direction: column;z-index: 1;position: relative;background-color: white;}#sk-container-id-4 div.sk-parallel-item:first-child::after {align-self: flex-end;width: 50%;}#sk-container-id-4 div.sk-parallel-item:last-child::after {align-self: flex-start;width: 50%;}#sk-container-id-4 div.sk-parallel-item:only-child::after {width: 0;}#sk-container-id-4 div.sk-dashed-wrapped {border: 1px dashed gray;margin: 0 0.4em 0.5em 0.4em;box-sizing: border-box;padding-bottom: 0.4em;background-color: white;}#sk-container-id-4 div.sk-label label {font-family: monospace;font-weight: bold;display: inline-block;line-height: 1.2em;}#sk-container-id-4 div.sk-label-container {text-align: center;}#sk-container-id-4 div.sk-container {/* jupyter's `normalize.less` sets `[hidden] { display: none; }` but bootstrap.min.css set `[hidden] { display: none !important; }` so we also need the `!important` here to be able to override the default hidden behavior on the sphinx rendered scikit-learn.org. See: https://github.com/scikit-learn/scikit-learn/issues/21755 */display: inline-block !important;position: relative;}#sk-container-id-4 div.sk-text-repr-fallback {display: none;}</style><div id=\"sk-container-id-4\" class=\"sk-top-container\"><div class=\"sk-text-repr-fallback\"><pre>Pipeline(steps=[(&#x27;scaler&#x27;, MinMaxScaler()), (&#x27;pca&#x27;, PCA(n_components=60)),\n",
       "                (&#x27;knc&#x27;, KNeighborsClassifier())])</pre><b>In a Jupyter environment, please rerun this cell to show the HTML representation or trust the notebook. <br />On GitHub, the HTML representation is unable to render, please try loading this page with nbviewer.org.</b></div><div class=\"sk-container\" hidden><div class=\"sk-item sk-dashed-wrapped\"><div class=\"sk-label-container\"><div class=\"sk-label sk-toggleable\"><input class=\"sk-toggleable__control sk-hidden--visually\" id=\"sk-estimator-id-10\" type=\"checkbox\" ><label for=\"sk-estimator-id-10\" class=\"sk-toggleable__label sk-toggleable__label-arrow\">Pipeline</label><div class=\"sk-toggleable__content\"><pre>Pipeline(steps=[(&#x27;scaler&#x27;, MinMaxScaler()), (&#x27;pca&#x27;, PCA(n_components=60)),\n",
       "                (&#x27;knc&#x27;, KNeighborsClassifier())])</pre></div></div></div><div class=\"sk-serial\"><div class=\"sk-item\"><div class=\"sk-estimator sk-toggleable\"><input class=\"sk-toggleable__control sk-hidden--visually\" id=\"sk-estimator-id-11\" type=\"checkbox\" ><label for=\"sk-estimator-id-11\" class=\"sk-toggleable__label sk-toggleable__label-arrow\">MinMaxScaler</label><div class=\"sk-toggleable__content\"><pre>MinMaxScaler()</pre></div></div></div><div class=\"sk-item\"><div class=\"sk-estimator sk-toggleable\"><input class=\"sk-toggleable__control sk-hidden--visually\" id=\"sk-estimator-id-12\" type=\"checkbox\" ><label for=\"sk-estimator-id-12\" class=\"sk-toggleable__label sk-toggleable__label-arrow\">PCA</label><div class=\"sk-toggleable__content\"><pre>PCA(n_components=60)</pre></div></div></div><div class=\"sk-item\"><div class=\"sk-estimator sk-toggleable\"><input class=\"sk-toggleable__control sk-hidden--visually\" id=\"sk-estimator-id-13\" type=\"checkbox\" ><label for=\"sk-estimator-id-13\" class=\"sk-toggleable__label sk-toggleable__label-arrow\">KNeighborsClassifier</label><div class=\"sk-toggleable__content\"><pre>KNeighborsClassifier()</pre></div></div></div></div></div></div></div>"
      ],
      "text/plain": [
       "Pipeline(steps=[('scaler', MinMaxScaler()), ('pca', PCA(n_components=60)),\n",
       "                ('knc', KNeighborsClassifier())])"
      ]
     },
     "execution_count": 86,
     "metadata": {},
     "output_type": "execute_result"
    }
   ],
   "source": [
    "pipe_pca.fit(X_train, y_train)"
   ]
  },
  {
   "cell_type": "code",
   "execution_count": 87,
   "id": "49d74800-1632-4986-a612-60d20f9b308c",
   "metadata": {
    "execution": {
     "iopub.execute_input": "2022-09-17T19:36:14.187013Z",
     "iopub.status.busy": "2022-09-17T19:36:14.186677Z",
     "iopub.status.idle": "2022-09-17T19:36:14.196871Z",
     "shell.execute_reply": "2022-09-17T19:36:14.195929Z",
     "shell.execute_reply.started": "2022-09-17T19:36:14.186990Z"
    },
    "tags": []
   },
   "outputs": [
    {
     "data": {
      "text/plain": [
       "{'memory': None,\n",
       " 'steps': [('scaler', MinMaxScaler()),\n",
       "  ('pca', PCA(n_components=60)),\n",
       "  ('knc', KNeighborsClassifier())],\n",
       " 'verbose': False,\n",
       " 'scaler': MinMaxScaler(),\n",
       " 'pca': PCA(n_components=60),\n",
       " 'knc': KNeighborsClassifier(),\n",
       " 'scaler__clip': False,\n",
       " 'scaler__copy': True,\n",
       " 'scaler__feature_range': (0, 1),\n",
       " 'pca__copy': True,\n",
       " 'pca__iterated_power': 'auto',\n",
       " 'pca__n_components': 60,\n",
       " 'pca__n_oversamples': 10,\n",
       " 'pca__power_iteration_normalizer': 'auto',\n",
       " 'pca__random_state': None,\n",
       " 'pca__svd_solver': 'auto',\n",
       " 'pca__tol': 0.0,\n",
       " 'pca__whiten': False,\n",
       " 'knc__algorithm': 'auto',\n",
       " 'knc__leaf_size': 30,\n",
       " 'knc__metric': 'minkowski',\n",
       " 'knc__metric_params': None,\n",
       " 'knc__n_jobs': None,\n",
       " 'knc__n_neighbors': 5,\n",
       " 'knc__p': 2,\n",
       " 'knc__weights': 'uniform'}"
      ]
     },
     "execution_count": 87,
     "metadata": {},
     "output_type": "execute_result"
    }
   ],
   "source": [
    "pipe_pca.get_params()"
   ]
  },
  {
   "cell_type": "code",
   "execution_count": 90,
   "id": "e222d660-3284-4729-9bc0-03c59ffdc7bd",
   "metadata": {
    "execution": {
     "iopub.execute_input": "2022-09-17T19:38:52.754251Z",
     "iopub.status.busy": "2022-09-17T19:38:52.752831Z",
     "iopub.status.idle": "2022-09-17T19:38:52.909902Z",
     "shell.execute_reply": "2022-09-17T19:38:52.908646Z",
     "shell.execute_reply.started": "2022-09-17T19:38:52.754218Z"
    },
    "tags": []
   },
   "outputs": [],
   "source": [
    "y_pred_pca = pipe_pca.predict(X_test)"
   ]
  },
  {
   "cell_type": "code",
   "execution_count": 91,
   "id": "a69e4c99-11fb-4f7a-992f-23c6ff74c1fd",
   "metadata": {
    "execution": {
     "iopub.execute_input": "2022-09-17T19:39:05.572816Z",
     "iopub.status.busy": "2022-09-17T19:39:05.572519Z",
     "iopub.status.idle": "2022-09-17T19:39:05.581487Z",
     "shell.execute_reply": "2022-09-17T19:39:05.580535Z",
     "shell.execute_reply.started": "2022-09-17T19:39:05.572794Z"
    },
    "tags": []
   },
   "outputs": [
    {
     "data": {
      "text/plain": [
       "0.7151162790697675"
      ]
     },
     "execution_count": 91,
     "metadata": {},
     "output_type": "execute_result"
    }
   ],
   "source": [
    "accuracy_score(y_test, y_pred_pca)"
   ]
  },
  {
   "cell_type": "code",
   "execution_count": 92,
   "id": "629af1fc-c4c9-4271-9915-dd8ea4170b0f",
   "metadata": {
    "execution": {
     "iopub.execute_input": "2022-09-17T19:39:22.952487Z",
     "iopub.status.busy": "2022-09-17T19:39:22.951653Z",
     "iopub.status.idle": "2022-09-17T19:39:22.967776Z",
     "shell.execute_reply": "2022-09-17T19:39:22.966672Z",
     "shell.execute_reply.started": "2022-09-17T19:39:22.952460Z"
    },
    "tags": []
   },
   "outputs": [
    {
     "data": {
      "text/plain": [
       "array([[123,  49],\n",
       "       [ 49, 123]])"
      ]
     },
     "execution_count": 92,
     "metadata": {},
     "output_type": "execute_result"
    }
   ],
   "source": [
    "confusion_matrix(y_test, y_pred_pca)"
   ]
  },
  {
   "cell_type": "code",
   "execution_count": 93,
   "id": "218796fb-42fb-43c5-85e7-80e201ff6cd6",
   "metadata": {
    "execution": {
     "iopub.execute_input": "2022-09-17T19:40:20.420717Z",
     "iopub.status.busy": "2022-09-17T19:40:20.417803Z",
     "iopub.status.idle": "2022-09-17T19:40:20.445393Z",
     "shell.execute_reply": "2022-09-17T19:40:20.443951Z",
     "shell.execute_reply.started": "2022-09-17T19:40:20.420648Z"
    },
    "tags": []
   },
   "outputs": [
    {
     "name": "stdout",
     "output_type": "stream",
     "text": [
      "              precision    recall  f1-score   support\n",
      "\n",
      "           0       0.72      0.72      0.72       172\n",
      "           1       0.72      0.72      0.72       172\n",
      "\n",
      "    accuracy                           0.72       344\n",
      "   macro avg       0.72      0.72      0.72       344\n",
      "weighted avg       0.72      0.72      0.72       344\n",
      "\n"
     ]
    }
   ],
   "source": [
    "print(classification_report(y_test, y_pred_pca))"
   ]
  },
  {
   "cell_type": "code",
   "execution_count": 94,
   "id": "d9cdcd4b-b3e7-4619-9a5a-238c4cb06f52",
   "metadata": {
    "execution": {
     "iopub.execute_input": "2022-09-17T19:40:36.301202Z",
     "iopub.status.busy": "2022-09-17T19:40:36.300865Z",
     "iopub.status.idle": "2022-09-17T19:40:36.771807Z",
     "shell.execute_reply": "2022-09-17T19:40:36.770075Z",
     "shell.execute_reply.started": "2022-09-17T19:40:36.301180Z"
    },
    "tags": []
   },
   "outputs": [
    {
     "data": {
      "text/plain": [
       "0.8287373004354136"
      ]
     },
     "execution_count": 94,
     "metadata": {},
     "output_type": "execute_result"
    }
   ],
   "source": [
    "pipe_pca.score(X_train, y_train)"
   ]
  },
  {
   "cell_type": "code",
   "execution_count": 95,
   "id": "6cb00be9-53d4-4ddb-9c3c-c7fe2bdc9e5d",
   "metadata": {
    "execution": {
     "iopub.execute_input": "2022-09-17T19:40:58.726471Z",
     "iopub.status.busy": "2022-09-17T19:40:58.726169Z",
     "iopub.status.idle": "2022-09-17T19:40:58.946061Z",
     "shell.execute_reply": "2022-09-17T19:40:58.944824Z",
     "shell.execute_reply.started": "2022-09-17T19:40:58.726449Z"
    },
    "tags": []
   },
   "outputs": [
    {
     "data": {
      "text/plain": [
       "0.7151162790697675"
      ]
     },
     "execution_count": 95,
     "metadata": {},
     "output_type": "execute_result"
    }
   ],
   "source": [
    "pipe_pca.score(X_test, y_test)"
   ]
  },
  {
   "cell_type": "code",
   "execution_count": 96,
   "id": "99777f26-e10b-4164-93df-a1616d377bb2",
   "metadata": {
    "execution": {
     "iopub.execute_input": "2022-09-17T19:41:40.602993Z",
     "iopub.status.busy": "2022-09-17T19:41:40.602288Z",
     "iopub.status.idle": "2022-09-17T19:41:40.608821Z",
     "shell.execute_reply": "2022-09-17T19:41:40.607698Z",
     "shell.execute_reply.started": "2022-09-17T19:41:40.602971Z"
    },
    "tags": []
   },
   "outputs": [
    {
     "name": "stdout",
     "output_type": "stream",
     "text": [
      "[0 0 0 1 0 0 1 1 1 0]\n",
      "[1 0 0 1 0 0 1 1 0 1]\n"
     ]
    }
   ],
   "source": [
    "print(np.array(y_test)[:10])\n",
    "print(y_pred_pca[:10])"
   ]
  },
  {
   "cell_type": "code",
   "execution_count": 97,
   "id": "673b6e75-2825-4aa7-b7c2-cbc0461dd1c9",
   "metadata": {
    "execution": {
     "iopub.execute_input": "2022-09-17T19:42:04.703680Z",
     "iopub.status.busy": "2022-09-17T19:42:04.703366Z",
     "iopub.status.idle": "2022-09-17T19:42:04.723163Z",
     "shell.execute_reply": "2022-09-17T19:42:04.721867Z",
     "shell.execute_reply.started": "2022-09-17T19:42:04.703659Z"
    },
    "tags": []
   },
   "outputs": [
    {
     "data": {
      "text/plain": [
       "array([1])"
      ]
     },
     "execution_count": 97,
     "metadata": {},
     "output_type": "execute_result"
    }
   ],
   "source": [
    "pipe_pca.predict(X_test[55:56])"
   ]
  },
  {
   "cell_type": "markdown",
   "id": "6fbc14a4-f8d8-4747-afd6-2a40c4f237ce",
   "metadata": {},
   "source": [
    "### Creating classifier path"
   ]
  },
  {
   "cell_type": "code",
   "execution_count": 76,
   "id": "9a1648a9-2fbf-44c6-a98f-e562d634d1d1",
   "metadata": {
    "execution": {
     "iopub.execute_input": "2022-09-17T01:28:47.996774Z",
     "iopub.status.busy": "2022-09-17T01:28:47.996451Z",
     "iopub.status.idle": "2022-09-17T01:28:48.006322Z",
     "shell.execute_reply": "2022-09-17T01:28:48.005262Z",
     "shell.execute_reply.started": "2022-09-17T01:28:47.996752Z"
    },
    "tags": []
   },
   "outputs": [
    {
     "data": {
      "text/plain": [
       "'../saved_models/acp_dlm_avg_knn.sav'"
      ]
     },
     "execution_count": 76,
     "metadata": {},
     "output_type": "execute_result"
    }
   ],
   "source": [
    "# check what to use joblib(.sav), PyTorch (.pt), Keras(.h5) or something else\n",
    "\n",
    "clf = ['rf', 'lr', 'xgb', 'dl', 'knn']\n",
    "\n",
    "tail = os.path.split(path_pt)[1].split('_')\n",
    "tail.pop(1)\n",
    "\n",
    "model_name = f'{\"_\".join(tail)}_{clf[4]}.sav'\n",
    "model_path = os.path.join('../saved_models', model_name)\n",
    "model_path"
   ]
  },
  {
   "cell_type": "code",
   "execution_count": 77,
   "id": "85d01e6e-1e35-4a54-b114-d38f7d0dccaf",
   "metadata": {
    "execution": {
     "iopub.execute_input": "2022-09-17T01:28:54.634245Z",
     "iopub.status.busy": "2022-09-17T01:28:54.633923Z",
     "iopub.status.idle": "2022-09-17T01:28:54.704777Z",
     "shell.execute_reply": "2022-09-17T01:28:54.703199Z",
     "shell.execute_reply.started": "2022-09-17T01:28:54.634223Z"
    },
    "tags": []
   },
   "outputs": [
    {
     "data": {
      "text/plain": [
       "['../saved_models/acp_dlm_avg_knn.sav']"
      ]
     },
     "execution_count": 77,
     "metadata": {},
     "output_type": "execute_result"
    }
   ],
   "source": [
    "import joblib\n",
    "\n",
    "joblib.dump(pipe, model_path)"
   ]
  },
  {
   "cell_type": "code",
   "execution_count": 79,
   "id": "f64e5df9-a9df-430d-8c97-d480bedf9e55",
   "metadata": {
    "execution": {
     "iopub.execute_input": "2022-09-17T01:29:14.214927Z",
     "iopub.status.busy": "2022-09-17T01:29:14.214619Z",
     "iopub.status.idle": "2022-09-17T01:29:14.978317Z",
     "shell.execute_reply": "2022-09-17T01:29:14.975238Z",
     "shell.execute_reply.started": "2022-09-17T01:29:14.214906Z"
    },
    "tags": []
   },
   "outputs": [
    {
     "name": "stdout",
     "output_type": "stream",
     "text": [
      "0.7267441860465116\n"
     ]
    }
   ],
   "source": [
    "knn_saved = joblib.load(model_path)\n",
    "print(knn_saved.score(X_test, y_test))"
   ]
  },
  {
   "cell_type": "code",
   "execution_count": 80,
   "id": "155984a3-b4f1-4ff3-beb7-66e5b575d072",
   "metadata": {
    "execution": {
     "iopub.execute_input": "2022-09-17T01:29:26.364044Z",
     "iopub.status.busy": "2022-09-17T01:29:26.363729Z",
     "iopub.status.idle": "2022-09-17T01:29:26.499791Z",
     "shell.execute_reply": "2022-09-17T01:29:26.498763Z",
     "shell.execute_reply.started": "2022-09-17T01:29:26.364022Z"
    },
    "tags": []
   },
   "outputs": [
    {
     "data": {
      "text/plain": [
       "array([1])"
      ]
     },
     "execution_count": 80,
     "metadata": {},
     "output_type": "execute_result"
    }
   ],
   "source": [
    "knn_saved.predict(X_test[55:56])"
   ]
  },
  {
   "cell_type": "code",
   "execution_count": 81,
   "id": "7c5f7984-3145-47b8-b581-397d9b46a558",
   "metadata": {
    "execution": {
     "iopub.execute_input": "2022-09-17T01:29:49.587856Z",
     "iopub.status.busy": "2022-09-17T01:29:49.587549Z",
     "iopub.status.idle": "2022-09-17T01:29:49.593763Z",
     "shell.execute_reply": "2022-09-17T01:29:49.592893Z",
     "shell.execute_reply.started": "2022-09-17T01:29:49.587834Z"
    },
    "tags": []
   },
   "outputs": [
    {
     "data": {
      "text/plain": [
       "['Protein_seq_ts0056']"
      ]
     },
     "execution_count": 81,
     "metadata": {},
     "output_type": "execute_result"
    }
   ],
   "source": [
    "sequence_id_test[55:56]"
   ]
  },
  {
   "cell_type": "code",
   "execution_count": null,
   "id": "2d0d89e5-33e3-4d8b-8c80-0135cd62e0e0",
   "metadata": {},
   "outputs": [],
   "source": [
    "GVGDIFRKIVSTIKNVV"
   ]
  },
  {
   "cell_type": "code",
   "execution_count": 82,
   "id": "952d58d9-2312-4ac3-a712-f522413b0f62",
   "metadata": {
    "execution": {
     "iopub.execute_input": "2022-09-17T01:29:57.182362Z",
     "iopub.status.busy": "2022-09-17T01:29:57.182040Z",
     "iopub.status.idle": "2022-09-17T01:29:57.190123Z",
     "shell.execute_reply": "2022-09-17T01:29:57.188836Z",
     "shell.execute_reply.started": "2022-09-17T01:29:57.182339Z"
    },
    "tags": []
   },
   "outputs": [
    {
     "data": {
      "text/plain": [
       "([0], array([1]))"
      ]
     },
     "execution_count": 82,
     "metadata": {},
     "output_type": "execute_result"
    }
   ],
   "source": [
    "y_test[55:56], y_pred[55:56]"
   ]
  },
  {
   "cell_type": "code",
   "execution_count": 83,
   "id": "fd81cbb2-497f-4710-b98b-d789d0ade8e5",
   "metadata": {
    "execution": {
     "iopub.execute_input": "2022-09-17T01:30:05.640598Z",
     "iopub.status.busy": "2022-09-17T01:30:05.640289Z",
     "iopub.status.idle": "2022-09-17T01:30:05.647297Z",
     "shell.execute_reply": "2022-09-17T01:30:05.646320Z",
     "shell.execute_reply.started": "2022-09-17T01:30:05.640576Z"
    },
    "tags": []
   },
   "outputs": [
    {
     "data": {
      "text/plain": [
       "array([[ 0.        ,  0.05882353,  0.05882353, ..., -0.06649267,\n",
       "         0.03789606,  0.0419427 ]], dtype=float32)"
      ]
     },
     "execution_count": 83,
     "metadata": {},
     "output_type": "execute_result"
    }
   ],
   "source": [
    "X_test[55:56]"
   ]
  },
  {
   "cell_type": "code",
   "execution_count": 63,
   "id": "e9077c45-7029-45ac-8dda-5431de59b092",
   "metadata": {
    "execution": {
     "iopub.execute_input": "2022-09-17T01:23:47.699203Z",
     "iopub.status.busy": "2022-09-17T01:23:47.698900Z",
     "iopub.status.idle": "2022-09-17T01:23:47.705604Z",
     "shell.execute_reply": "2022-09-17T01:23:47.704570Z",
     "shell.execute_reply.started": "2022-09-17T01:23:47.699182Z"
    },
    "tags": []
   },
   "outputs": [
    {
     "data": {
      "text/plain": [
       "array([[0.        , 0.0882353 , 0.2647059 , ..., 0.35692528, 0.41596144,\n",
       "        0.55292535]], dtype=float32)"
      ]
     },
     "execution_count": 63,
     "metadata": {},
     "output_type": "execute_result"
    }
   ],
   "source": [
    "X_test_s[55:56]"
   ]
  },
  {
   "cell_type": "code",
   "execution_count": null,
   "id": "efef645f-0ba9-4f1f-bd6e-1a3be30d7e71",
   "metadata": {},
   "outputs": [],
   "source": []
  },
  {
   "cell_type": "markdown",
   "id": "187269ee-ead7-4193-b607-fd62974c28a7",
   "metadata": {},
   "source": [
    "# "
   ]
  },
  {
   "cell_type": "code",
   "execution_count": null,
   "id": "c75fd3ca-8302-406f-aaad-3eee541c1298",
   "metadata": {},
   "outputs": [],
   "source": []
  }
 ],
 "metadata": {
  "kernelspec": {
   "display_name": "sa",
   "language": "python",
   "name": "conda-env-sa-py"
  },
  "language_info": {
   "codemirror_mode": {
    "name": "ipython",
    "version": 3
   },
   "file_extension": ".py",
   "mimetype": "text/x-python",
   "name": "python",
   "nbconvert_exporter": "python",
   "pygments_lexer": "ipython3",
   "version": "3.8.13"
  },
  "widgets": {
   "application/vnd.jupyter.widget-state+json": {
    "state": {},
    "version_major": 2,
    "version_minor": 0
   }
  }
 },
 "nbformat": 4,
 "nbformat_minor": 5
}
