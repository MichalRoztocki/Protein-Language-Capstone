{
 "cells": [
  {
   "cell_type": "markdown",
   "id": "a6996cf1-5b97-45b2-920a-112afc130631",
   "metadata": {},
   "source": [
    "## AMP - Testing Modelling"
   ]
  },
  {
   "cell_type": "code",
   "execution_count": 1,
   "id": "108c50d5-7568-4d90-9ba8-daa6f72f49c9",
   "metadata": {
    "execution": {
     "iopub.execute_input": "2022-09-21T16:06:39.648722Z",
     "iopub.status.busy": "2022-09-21T16:06:39.648400Z",
     "iopub.status.idle": "2022-09-21T16:06:40.921343Z",
     "shell.execute_reply": "2022-09-21T16:06:40.920375Z",
     "shell.execute_reply.started": "2022-09-21T16:06:39.648670Z"
    },
    "tags": []
   },
   "outputs": [],
   "source": [
    "import os\n",
    "import numpy as np\n",
    "import pandas as pd\n",
    "import joblib\n",
    "\n",
    "from sklearn.model_selection import GridSearchCV, train_test_split,  StratifiedKFold\n",
    "\n",
    "from sklearn.svm import SVC\n",
    "from sklearn.ensemble import RandomForestClassifier\n",
    "from sklearn.naive_bayes import GaussianNB\n",
    "from sklearn.linear_model import LogisticRegression\n",
    "from sklearn.pipeline import make_pipeline\n",
    "from sklearn.preprocessing import MinMaxScaler\n",
    "from sklearn.decomposition import PCA\n",
    "# To visualize pipeline diagram - 'text', or 'diagram'\n",
    "from sklearn import set_config\n",
    "\n",
    "# Import XGBoost\n",
    "from xgboost import XGBClassifier\n",
    "\n",
    "import matplotlib.pyplot as plt\n",
    "# import numpy as np\n",
    "# import pandas as pd\n",
    "import seaborn as sns\n",
    "# Classification metrics\n",
    "from sklearn.metrics import confusion_matrix, classification_report, accuracy_score, f1_score\n",
    "\n",
    "random_state = 10"
   ]
  },
  {
   "cell_type": "code",
   "execution_count": 2,
   "id": "f149ee94-8f14-4edc-817a-b7e15624acce",
   "metadata": {
    "execution": {
     "iopub.execute_input": "2022-09-21T16:06:40.922499Z",
     "iopub.status.busy": "2022-09-21T16:06:40.922243Z",
     "iopub.status.idle": "2022-09-21T16:06:41.873772Z",
     "shell.execute_reply": "2022-09-21T16:06:41.872941Z",
     "shell.execute_reply.started": "2022-09-21T16:06:40.922482Z"
    },
    "tags": []
   },
   "outputs": [],
   "source": [
    "# Import the script from different folder\n",
    "import sys  \n",
    "sys.path.append('../../scripts')\n",
    "\n",
    "import file_utilities as fu\n",
    "import modelling_utilities as mu"
   ]
  },
  {
   "cell_type": "markdown",
   "id": "5216d3bc-e557-4bb4-8ef2-69e90b29ff77",
   "metadata": {},
   "source": [
    "#### Set the task"
   ]
  },
  {
   "cell_type": "code",
   "execution_count": 3,
   "id": "0d8545e5-9849-405d-b959-59eb9a6beacf",
   "metadata": {
    "execution": {
     "iopub.execute_input": "2022-09-21T16:06:43.421612Z",
     "iopub.status.busy": "2022-09-21T16:06:43.421338Z",
     "iopub.status.idle": "2022-09-21T16:06:43.426337Z",
     "shell.execute_reply": "2022-09-21T16:06:43.425445Z",
     "shell.execute_reply.started": "2022-09-21T16:06:43.421592Z"
    },
    "tags": []
   },
   "outputs": [],
   "source": [
    "# task - ['acp', 'amp', 'dna_binding']\n",
    "task = 'amp'"
   ]
  },
  {
   "cell_type": "markdown",
   "id": "060b0c62-ea69-4577-901e-1b86e632fe98",
   "metadata": {},
   "source": [
    "#### Get embedding folders and fasta files for the task."
   ]
  },
  {
   "cell_type": "code",
   "execution_count": 4,
   "id": "ca536a8c-eef6-415a-b586-56b909890dd1",
   "metadata": {
    "execution": {
     "iopub.execute_input": "2022-09-21T16:06:45.661449Z",
     "iopub.status.busy": "2022-09-21T16:06:45.661122Z",
     "iopub.status.idle": "2022-09-21T16:06:45.832872Z",
     "shell.execute_reply": "2022-09-21T16:06:45.831704Z",
     "shell.execute_reply.started": "2022-09-21T16:06:45.661417Z"
    },
    "tags": []
   },
   "outputs": [],
   "source": [
    "pt_folders, fa_files = mu.get_emb_folders(task)"
   ]
  },
  {
   "cell_type": "code",
   "execution_count": 5,
   "id": "fff88972-8653-4213-bbaf-88810e2ea28e",
   "metadata": {
    "execution": {
     "iopub.execute_input": "2022-09-21T16:06:47.114446Z",
     "iopub.status.busy": "2022-09-21T16:06:47.114171Z",
     "iopub.status.idle": "2022-09-21T16:06:47.124781Z",
     "shell.execute_reply": "2022-09-21T16:06:47.123695Z",
     "shell.execute_reply.started": "2022-09-21T16:06:47.114428Z"
    },
    "tags": []
   },
   "outputs": [
    {
     "data": {
      "text/plain": [
       "['../../data/amp/esm/all_data/amp_all_esm1b_mean',\n",
       " '../../data/amp/esm/all_data/amp_all_esm1v_mean',\n",
       " '../../data/amp/prose/all_data/amp_all_dlm_avg',\n",
       " '../../data/amp/prose/all_data/amp_all_dlm_max',\n",
       " '../../data/amp/prose/all_data/amp_all_dlm_sum',\n",
       " '../../data/amp/prose/all_data/amp_all_mt_avg',\n",
       " '../../data/amp/prose/all_data/amp_all_mt_max',\n",
       " '../../data/amp/prose/all_data/amp_all_mt_sum']"
      ]
     },
     "execution_count": 5,
     "metadata": {},
     "output_type": "execute_result"
    }
   ],
   "source": [
    "pt_folders"
   ]
  },
  {
   "cell_type": "code",
   "execution_count": 6,
   "id": "cee3e694-993c-4f5f-903d-2ee4f36a3922",
   "metadata": {
    "execution": {
     "iopub.execute_input": "2022-09-21T16:06:51.100999Z",
     "iopub.status.busy": "2022-09-21T16:06:51.100733Z",
     "iopub.status.idle": "2022-09-21T16:06:51.106534Z",
     "shell.execute_reply": "2022-09-21T16:06:51.105688Z",
     "shell.execute_reply.started": "2022-09-21T16:06:51.100981Z"
    },
    "tags": []
   },
   "outputs": [
    {
     "data": {
      "text/plain": [
       "['../../data/amp/all_data.fa']"
      ]
     },
     "execution_count": 6,
     "metadata": {},
     "output_type": "execute_result"
    }
   ],
   "source": [
    "fa_files"
   ]
  },
  {
   "cell_type": "markdown",
   "id": "6c57e6be-bd8c-4023-8b0b-0d1f5ffb9161",
   "metadata": {},
   "source": [
    "### Define Pipelines"
   ]
  },
  {
   "cell_type": "code",
   "execution_count": 7,
   "id": "101624ba-c67b-417a-b636-7e96a262bcb6",
   "metadata": {
    "execution": {
     "iopub.execute_input": "2022-09-21T16:06:54.249807Z",
     "iopub.status.busy": "2022-09-21T16:06:54.249494Z",
     "iopub.status.idle": "2022-09-21T16:06:54.254839Z",
     "shell.execute_reply": "2022-09-21T16:06:54.253962Z",
     "shell.execute_reply.started": "2022-09-21T16:06:54.249786Z"
    },
    "tags": []
   },
   "outputs": [],
   "source": [
    "pipelines = {\n",
    "    'xgb' : make_pipeline(MinMaxScaler(), \n",
    "                          XGBClassifier(random_state=random_state)),\n",
    "    'lr' : make_pipeline(MinMaxScaler(),\n",
    "                         LogisticRegression(max_iter=25000, random_state=random_state)),    \n",
    "    'svm' : make_pipeline(MinMaxScaler(), \n",
    "                          SVC(random_state=random_state)),\n",
    "    'rf' : make_pipeline(MinMaxScaler(), \n",
    "                         RandomForestClassifier(random_state=random_state))\n",
    "}"
   ]
  },
  {
   "cell_type": "markdown",
   "id": "f95f2601-fc3c-4a3e-865e-ccccdbfdf3c4",
   "metadata": {},
   "source": [
    "### Define Hyperparameter Grids"
   ]
  },
  {
   "cell_type": "code",
   "execution_count": 8,
   "id": "1300ab6a-edf9-4718-a372-9801901d43a3",
   "metadata": {
    "execution": {
     "iopub.execute_input": "2022-09-21T16:06:55.917616Z",
     "iopub.status.busy": "2022-09-21T16:06:55.917340Z",
     "iopub.status.idle": "2022-09-21T16:06:55.923772Z",
     "shell.execute_reply": "2022-09-21T16:06:55.922706Z",
     "shell.execute_reply.started": "2022-09-21T16:06:55.917596Z"
    },
    "tags": []
   },
   "outputs": [],
   "source": [
    "xgb_grid = {\n",
    "        'xgbclassifier__max_depth': [3, 5],\n",
    "         'xgbclassifier__n_estimators': [100, 200],\n",
    "        }\n",
    "\n",
    "svm_grid = {\n",
    "        'svc__kernel' : ['linear', 'rbf'],\n",
    "        'svc__C': [0.01, 0.1, 1]\n",
    "        #'svc__gamma': [5, 1, 0.1]\n",
    "    }\n",
    "\n",
    "rf_grid = {\n",
    "        'randomforestclassifier__n_estimators' : [100, 150],\n",
    "        #'randomforestclassifier__max_features' : ['sqrt', 0.33],\n",
    "        'randomforestclassifier__min_samples_leaf' : [1, 3],\n",
    "        #'randomforestclassifier__criterion' : ['gini', 'entropy'],\n",
    "        'randomforestclassifier__min_samples_split' : [2, 3]\n",
    "    }\n",
    "\n",
    "lr_grid = {\n",
    "        'logisticregression__C' : [0.1, 1],\n",
    "        'logisticregression__solver' : ['lbfgs', saga']\n",
    "    }\n"
   ]
  },
  {
   "cell_type": "code",
   "execution_count": 9,
   "id": "d1dbf049-d5a4-46a4-b30a-a423094bb393",
   "metadata": {
    "execution": {
     "iopub.execute_input": "2022-09-21T16:07:05.379341Z",
     "iopub.status.busy": "2022-09-21T16:07:05.379056Z",
     "iopub.status.idle": "2022-09-21T16:07:05.383802Z",
     "shell.execute_reply": "2022-09-21T16:07:05.382961Z",
     "shell.execute_reply.started": "2022-09-21T16:07:05.379320Z"
    },
    "tags": []
   },
   "outputs": [],
   "source": [
    "# Create hyperparameter grids dictionary\n",
    "hp_grids = {\n",
    "    'lr' : lr_grid,\n",
    "    'svm' : svm_grid,\n",
    "    'rf' : rf_grid,\n",
    "    'xgb' : xgb_grid\n",
    "}"
   ]
  },
  {
   "cell_type": "code",
   "execution_count": null,
   "id": "048577de-cf29-435e-be57-8fb8e9d9a124",
   "metadata": {},
   "outputs": [],
   "source": []
  },
  {
   "cell_type": "code",
   "execution_count": 14,
   "id": "29f59eed-14fb-47e8-97ab-fdd38b6e32e3",
   "metadata": {
    "execution": {
     "iopub.execute_input": "2022-09-21T15:02:26.392979Z",
     "iopub.status.busy": "2022-09-21T15:02:26.392691Z",
     "iopub.status.idle": "2022-09-21T15:02:26.398316Z",
     "shell.execute_reply": "2022-09-21T15:02:26.397328Z",
     "shell.execute_reply.started": "2022-09-21T15:02:26.392957Z"
    },
    "tags": []
   },
   "outputs": [
    {
     "name": "stdout",
     "output_type": "stream",
     "text": [
      "../../data/amp/esm/all_data/amp_all_esm1b_mean ../../data/amp/all_data.fa mean \n",
      "\n",
      "../../data/amp/esm/all_data/amp_all_esm1v_mean ../../data/amp/all_data.fa mean \n",
      "\n",
      "../../data/amp/prose/all_data/amp_all_dlm_avg ../../data/amp/all_data.fa avg \n",
      "\n",
      "../../data/amp/prose/all_data/amp_all_dlm_max ../../data/amp/all_data.fa max \n",
      "\n",
      "../../data/amp/prose/all_data/amp_all_dlm_sum ../../data/amp/all_data.fa sum \n",
      "\n",
      "../../data/amp/prose/all_data/amp_all_mt_avg ../../data/amp/all_data.fa avg \n",
      "\n",
      "../../data/amp/prose/all_data/amp_all_mt_max ../../data/amp/all_data.fa max \n",
      "\n",
      "../../data/amp/prose/all_data/amp_all_mt_sum ../../data/amp/all_data.fa sum \n",
      "\n"
     ]
    }
   ],
   "source": [
    "for i in range(len(pt_folders)):\n",
    "    path_fa, path_pt = fa_files[0], pt_folders[i]\n",
    "    pool = os.path.split(path_pt)[1].split('_')[-1]\n",
    "    print(path_pt, path_fa, pool, '\\n')"
   ]
  },
  {
   "cell_type": "markdown",
   "id": "68ac1c2a-14c4-4cfe-90f8-9912c8cc6414",
   "metadata": {},
   "source": [
    "## Modelling Loop"
   ]
  },
  {
   "cell_type": "code",
   "execution_count": 10,
   "id": "2c0eead5-f993-47db-b9a7-72588844b28c",
   "metadata": {
    "execution": {
     "iopub.execute_input": "2022-09-21T16:07:29.058348Z",
     "iopub.status.busy": "2022-09-21T16:07:29.057732Z",
     "iopub.status.idle": "2022-09-21T16:39:57.784234Z",
     "shell.execute_reply": "2022-09-21T16:39:57.783020Z",
     "shell.execute_reply.started": "2022-09-21T16:07:29.058325Z"
    },
    "tags": []
   },
   "outputs": [
    {
     "name": "stdout",
     "output_type": "stream",
     "text": [
      "---------------------------------------------------------------------------\n",
      "\tPretrained Model \"esm1b\" by ESM - Pooling Operation: \"mean\"\n",
      "---------------------------------------------------------------------------\n",
      "XGBClassifier(base_score=0.5, booster='gbtree', callbacks=None,\n",
      "              colsample_bylevel=1, colsample_bynode=1, colsample_bytree=1,\n",
      "              early_stopping_rounds=None, enable_categorical=False,\n",
      "              eval_metric=None, gamma=0, gpu_id=-1, grow_policy='depthwise',\n",
      "              importance_type=None, interaction_constraints='',\n",
      "              learning_rate=0.300000012, max_bin=256, max_cat_to_onehot=4,\n",
      "              max_delta_step=0, max_depth=5, max_leaves=0, min_child_weight=1,\n",
      "              missing=nan, monotone_constraints='()', n_estimators=200,\n",
      "              n_jobs=0, num_parallel_tree=1, predictor='auto', random_state=10,\n",
      "              reg_alpha=0, reg_lambda=1, ...)\n",
      "esm1b_mean_xgb has been fitted and saved\n",
      "LogisticRegression(C=1, max_iter=15000, random_state=10)\n",
      "esm1b_mean_lr has been fitted and saved\n",
      "SVC(C=0.1, gamma=5, kernel='linear', random_state=10)\n",
      "esm1b_mean_svm has been fitted and saved\n",
      "RandomForestClassifier(n_estimators=150, random_state=10)\n",
      "esm1b_mean_rf has been fitted and saved\n"
     ]
    }
   ],
   "source": [
    "# Initialize dictionary to keep evaluation dataframes \n",
    "# One dataframe per embeddings folder (train+test, or all_data)\n",
    "df_models = {}\n",
    "\n",
    "#for i in range(len(pt_folders)):\n",
    "for i in range(1):\n",
    "    \n",
    "    # Train\n",
    "    # second index: 0 - train, 1 - test\n",
    "    path_fa, path_pt = fa_files[0], pt_folders[i]\n",
    "    pool = os.path.split(path_pt)[1].split('_')[-1]\n",
    "    emb_layer = 33 if 'esm' in path_pt else 'layer'\n",
    "    X, y, sequence_id_train = fu.read_embeddings(path_fa, path_pt, pool, emb_layer,print_dims=False)\n",
    "    \n",
    "    # Train-Test split\n",
    "    # Split X and y into train and test sets\n",
    "    X_train, X_test, y_train, y_test = train_test_split(X, y, test_size=0.25,\n",
    "                                                    random_state=random_state,\n",
    "                                                   stratify=y)\n",
    "\n",
    "# Print number of observations in X_train, X_test, y_train, and y_test\n",
    "# print(len(X_train), len(X_test), len(y_train), len(y_test))\n",
    "\n",
    "    # Extensions for evaluations dataframes\n",
    "    df_ext = os.path.split(path_pt)[1].split('_', 1)[1].split('_', 1)[1]\n",
    "    \n",
    "    # Printing header\n",
    "    ptm = df_ext.split('_')[0]\n",
    "    ptr = 'ESM' if 'esm' in ptm else 'ProSE'\n",
    "    print('-' * 75)\n",
    "    print(f'\\tPretrained Model \"{ptm}\" by {ptr} - Pooling Operation: \"{pool}\"')\n",
    "    print('-' * 75)\n",
    "    \n",
    "    # Grid search and fit\n",
    "    fitted_models, cv_results = mu.fit_tune_CV(pipelines, hp_grids, 'accuracy', path_pt, X_train, y_train, task)\n",
    "    \n",
    "    # Evaluation\n",
    "    df_models[f'env_{df_ext}'] = mu.evaluation(fitted_models, X_test, y_test)\n",
    "  "
   ]
  },
  {
   "cell_type": "code",
   "execution_count": null,
   "id": "ec3e1ebc-9b96-4ff9-8e04-fc7b77f2a4d4",
   "metadata": {},
   "outputs": [],
   "source": []
  },
  {
   "cell_type": "code",
   "execution_count": null,
   "id": "40f1d62c-f9a5-401d-b53a-7d4d21adb8c2",
   "metadata": {},
   "outputs": [],
   "source": []
  },
  {
   "cell_type": "code",
   "execution_count": 11,
   "id": "7a1f36ac-cc28-4a82-9afa-c44ac9b79dd9",
   "metadata": {
    "execution": {
     "iopub.execute_input": "2022-09-21T16:41:08.867834Z",
     "iopub.status.busy": "2022-09-21T16:41:08.867564Z",
     "iopub.status.idle": "2022-09-21T16:41:08.885089Z",
     "shell.execute_reply": "2022-09-21T16:41:08.884064Z",
     "shell.execute_reply.started": "2022-09-21T16:41:08.867813Z"
    },
    "tags": []
   },
   "outputs": [
    {
     "data": {
      "text/plain": [
       "{'env_esm1b_mean':                 best_score  f1_macro  accuracy\n",
       " model                                         \n",
       " esm1b_mean_xgb    0.938307  0.932668  0.932740\n",
       " esm1b_mean_lr     0.936984  0.933671  0.933729\n",
       " esm1b_mean_svm    0.934677  0.933663  0.933729\n",
       " esm1b_mean_rf     0.931046  0.931555  0.931751}"
      ]
     },
     "execution_count": 11,
     "metadata": {},
     "output_type": "execute_result"
    }
   ],
   "source": [
    "df_models"
   ]
  },
  {
   "cell_type": "code",
   "execution_count": 12,
   "id": "ececf340-a583-450c-b359-5422a331bc53",
   "metadata": {
    "execution": {
     "iopub.execute_input": "2022-09-21T16:41:18.236362Z",
     "iopub.status.busy": "2022-09-21T16:41:18.236063Z",
     "iopub.status.idle": "2022-09-21T16:41:18.251615Z",
     "shell.execute_reply": "2022-09-21T16:41:18.250745Z",
     "shell.execute_reply.started": "2022-09-21T16:41:18.236342Z"
    },
    "tags": []
   },
   "outputs": [
    {
     "data": {
      "text/html": [
       "<div>\n",
       "<style scoped>\n",
       "    .dataframe tbody tr th:only-of-type {\n",
       "        vertical-align: middle;\n",
       "    }\n",
       "\n",
       "    .dataframe tbody tr th {\n",
       "        vertical-align: top;\n",
       "    }\n",
       "\n",
       "    .dataframe thead th {\n",
       "        text-align: right;\n",
       "    }\n",
       "</style>\n",
       "<table border=\"1\" class=\"dataframe\">\n",
       "  <thead>\n",
       "    <tr style=\"text-align: right;\">\n",
       "      <th></th>\n",
       "      <th>best_score</th>\n",
       "      <th>f1_macro</th>\n",
       "      <th>accuracy</th>\n",
       "    </tr>\n",
       "    <tr>\n",
       "      <th>model</th>\n",
       "      <th></th>\n",
       "      <th></th>\n",
       "      <th></th>\n",
       "    </tr>\n",
       "  </thead>\n",
       "  <tbody>\n",
       "    <tr>\n",
       "      <th>esm1b_mean_xgb</th>\n",
       "      <td>0.938307</td>\n",
       "      <td>0.932668</td>\n",
       "      <td>0.932740</td>\n",
       "    </tr>\n",
       "    <tr>\n",
       "      <th>esm1b_mean_lr</th>\n",
       "      <td>0.936984</td>\n",
       "      <td>0.933671</td>\n",
       "      <td>0.933729</td>\n",
       "    </tr>\n",
       "    <tr>\n",
       "      <th>esm1b_mean_svm</th>\n",
       "      <td>0.934677</td>\n",
       "      <td>0.933663</td>\n",
       "      <td>0.933729</td>\n",
       "    </tr>\n",
       "    <tr>\n",
       "      <th>esm1b_mean_rf</th>\n",
       "      <td>0.931046</td>\n",
       "      <td>0.931555</td>\n",
       "      <td>0.931751</td>\n",
       "    </tr>\n",
       "  </tbody>\n",
       "</table>\n",
       "</div>"
      ],
      "text/plain": [
       "                best_score  f1_macro  accuracy\n",
       "model                                         \n",
       "esm1b_mean_xgb    0.938307  0.932668  0.932740\n",
       "esm1b_mean_lr     0.936984  0.933671  0.933729\n",
       "esm1b_mean_svm    0.934677  0.933663  0.933729\n",
       "esm1b_mean_rf     0.931046  0.931555  0.931751"
      ]
     },
     "execution_count": 12,
     "metadata": {},
     "output_type": "execute_result"
    }
   ],
   "source": [
    "df_models['env_esm1b_mean']"
   ]
  },
  {
   "cell_type": "code",
   "execution_count": 13,
   "id": "041fd15c-8d8e-4f53-b986-03259c7ad9d7",
   "metadata": {
    "execution": {
     "iopub.execute_input": "2022-09-21T16:47:05.796392Z",
     "iopub.status.busy": "2022-09-21T16:47:05.796087Z",
     "iopub.status.idle": "2022-09-21T16:47:05.801041Z",
     "shell.execute_reply": "2022-09-21T16:47:05.800212Z",
     "shell.execute_reply.started": "2022-09-21T16:47:05.796373Z"
    },
    "tags": []
   },
   "outputs": [],
   "source": [
    "df_models['env_esm1v_mean']"
   ]
  },
  {
   "cell_type": "code",
   "execution_count": null,
   "id": "2986c4cb-8d2c-4067-aebb-136c662000d1",
   "metadata": {},
   "outputs": [],
   "source": []
  },
  {
   "cell_type": "markdown",
   "id": "405b86ba-1e67-4546-b0a4-5972fa6dbadd",
   "metadata": {},
   "source": [
    "## Collecting Evaluation Results into a DataFrame"
   ]
  },
  {
   "cell_type": "markdown",
   "id": "7745b6a8-c99b-4205-a161-69af9d29a4fc",
   "metadata": {},
   "source": [
    "#### Merge all dataframes from the dictionary `df_models`"
   ]
  },
  {
   "cell_type": "code",
   "execution_count": 17,
   "id": "efef645f-0ba9-4f1f-bd6e-1a3be30d7e71",
   "metadata": {
    "execution": {
     "iopub.execute_input": "2022-09-22T22:36:18.059794Z",
     "iopub.status.busy": "2022-09-22T22:36:18.058328Z",
     "iopub.status.idle": "2022-09-22T22:36:18.076508Z",
     "shell.execute_reply": "2022-09-22T22:36:18.074328Z",
     "shell.execute_reply.started": "2022-09-22T22:36:18.059674Z"
    },
    "tags": []
   },
   "outputs": [],
   "source": [
    "# Create dataframe with evaluations for all models\n",
    "\n",
    "# initialize dataframe\n",
    "eval_df_all = pd.DataFrame()\n",
    "# concatenate all dataframes from dictionary df_models\n",
    "# Iterate through all dictionary keys \n",
    "for i in df_models.keys():\n",
    "    # Use a temporary dataframe to hold one iteraton's dataframe\n",
    "    eval_df_t = df_models[i].copy().reset_index()\n",
    "    eval_df_all = pd.concat([eval_df_all, eval_df_t])\n",
    "\n",
    "# Set the column 'model' as an index\n",
    "eval_df_all = eval_df_all.set_index('model')"
   ]
  },
  {
   "cell_type": "markdown",
   "id": "018969ee-795f-45df-a808-bdab4ebfeb25",
   "metadata": {},
   "source": [
    "#### Display the results."
   ]
  },
  {
   "cell_type": "code",
   "execution_count": null,
   "id": "928ff706-6507-4dc9-af58-41c7c79f5171",
   "metadata": {
    "tags": []
   },
   "outputs": [],
   "source": [
    "# Display the dataframe\n",
    "eval_df_all"
   ]
  }
 ],
 "metadata": {
  "kernelspec": {
   "display_name": "sa",
   "language": "python",
   "name": "conda-env-sa-py"
  },
  "language_info": {
   "codemirror_mode": {
    "name": "ipython",
    "version": 3
   },
   "file_extension": ".py",
   "mimetype": "text/x-python",
   "name": "python",
   "nbconvert_exporter": "python",
   "pygments_lexer": "ipython3",
   "version": "3.8.13"
  },
  "widgets": {
   "application/vnd.jupyter.widget-state+json": {
    "state": {},
    "version_major": 2,
    "version_minor": 0
   }
  }
 },
 "nbformat": 4,
 "nbformat_minor": 5
}
