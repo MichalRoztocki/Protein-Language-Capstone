{
 "cells": [
  {
   "cell_type": "markdown",
   "id": "a6996cf1-5b97-45b2-920a-112afc130631",
   "metadata": {},
   "source": [
    "## AMP - Modelling"
   ]
  },
  {
   "cell_type": "markdown",
   "id": "1532a824-132d-454f-ae5e-999535bbd86e",
   "metadata": {},
   "source": [
    "First we will import all dependencies."
   ]
  },
  {
   "cell_type": "code",
   "execution_count": 11,
   "id": "bcad73be-65a9-4c27-afbb-350997ae379f",
   "metadata": {
    "execution": {
     "iopub.execute_input": "2022-09-29T11:13:38.364565Z",
     "iopub.status.busy": "2022-09-29T11:13:38.364188Z",
     "iopub.status.idle": "2022-09-29T11:13:38.371594Z",
     "shell.execute_reply": "2022-09-29T11:13:38.369933Z",
     "shell.execute_reply.started": "2022-09-29T11:13:38.364538Z"
    },
    "tags": []
   },
   "outputs": [],
   "source": [
    "import os\n",
    "import pandas as pd\n",
    "\n",
    "from sklearn.svm import SVC\n",
    "from sklearn.ensemble import RandomForestClassifier\n",
    "from sklearn.linear_model import LogisticRegression\n",
    "from sklearn.pipeline import make_pipeline\n",
    "from sklearn.preprocessing import MinMaxScaler\n",
    "from sklearn.decomposition import PCA\n",
    "from sklearn.model_selection import train_test_split\n",
    "# To visualize pipeline diagram - 'text', or 'diagram'\n",
    "from sklearn import set_config\n",
    "# Import XGBoost\n",
    "from xgboost import XGBClassifier\n",
    "\n",
    "random_state = 10"
   ]
  },
  {
   "cell_type": "code",
   "execution_count": 2,
   "id": "f149ee94-8f14-4edc-817a-b7e15624acce",
   "metadata": {
    "execution": {
     "iopub.execute_input": "2022-09-29T11:08:21.573191Z",
     "iopub.status.busy": "2022-09-29T11:08:21.572766Z",
     "iopub.status.idle": "2022-09-29T11:08:22.440041Z",
     "shell.execute_reply": "2022-09-29T11:08:22.439209Z",
     "shell.execute_reply.started": "2022-09-29T11:08:21.573169Z"
    },
    "tags": []
   },
   "outputs": [],
   "source": [
    "# Import the script from different folder\n",
    "import sys  \n",
    "sys.path.append('../../scripts')\n",
    "\n",
    "import file_utilities as fu\n",
    "import modelling_utilities as mu"
   ]
  },
  {
   "cell_type": "markdown",
   "id": "6a71fc85-837e-4a6a-b651-98ef65ebbc4a",
   "metadata": {},
   "source": [
    "#### Set one of three project tasks (*acp*, *amp*, *dna_binding*)"
   ]
  },
  {
   "cell_type": "code",
   "execution_count": 3,
   "id": "0d8545e5-9849-405d-b959-59eb9a6beacf",
   "metadata": {
    "execution": {
     "iopub.execute_input": "2022-09-29T11:08:32.032137Z",
     "iopub.status.busy": "2022-09-29T11:08:32.031867Z",
     "iopub.status.idle": "2022-09-29T11:08:32.036986Z",
     "shell.execute_reply": "2022-09-29T11:08:32.036123Z",
     "shell.execute_reply.started": "2022-09-29T11:08:32.032118Z"
    },
    "tags": []
   },
   "outputs": [],
   "source": [
    "# task - ['acp', 'amp', 'dna_binding']\n",
    "task = 'amp'"
   ]
  },
  {
   "cell_type": "markdown",
   "id": "4668c61b-6631-46a9-93e1-496a769a1720",
   "metadata": {},
   "source": [
    "### Define Pipelines"
   ]
  },
  {
   "cell_type": "markdown",
   "id": "46e48aa6-425e-4b37-950a-496904f7f2d5",
   "metadata": {},
   "source": [
    "Define pipelines for ML algorithms.  \n",
    "As preprocessing steps we will use `MinMaxScaler()` and `PCA()`."
   ]
  },
  {
   "cell_type": "code",
   "execution_count": 4,
   "id": "ba6dbff9-de68-490d-9d00-897a79e4a12b",
   "metadata": {
    "execution": {
     "iopub.execute_input": "2022-09-29T11:08:41.507277Z",
     "iopub.status.busy": "2022-09-29T11:08:41.507007Z",
     "iopub.status.idle": "2022-09-29T11:08:41.513260Z",
     "shell.execute_reply": "2022-09-29T11:08:41.512301Z",
     "shell.execute_reply.started": "2022-09-29T11:08:41.507258Z"
    },
    "tags": []
   },
   "outputs": [],
   "source": [
    "# Define number of PCA components\n",
    "num_pca_components = 1000\n",
    "\n",
    "pipelines = {\n",
    "    'xgb' : make_pipeline(MinMaxScaler(), \n",
    "                          PCA(num_pca_components),\n",
    "                          XGBClassifier(random_state=random_state)),\n",
    "    'lr' : make_pipeline(MinMaxScaler(),\n",
    "                         PCA(num_pca_components),\n",
    "                         LogisticRegression(max_iter=25000, random_state=random_state)),    \n",
    "    'svm' : make_pipeline(MinMaxScaler(),\n",
    "                          PCA(num_pca_components),\n",
    "                          SVC(random_state=random_state)),\n",
    "    'rf' : make_pipeline(MinMaxScaler(),\n",
    "                         PCA(num_pca_components),\n",
    "                         RandomForestClassifier(random_state=random_state))\n",
    "}"
   ]
  },
  {
   "cell_type": "markdown",
   "id": "8b2eae11-9f05-435d-89bf-3178ea692cec",
   "metadata": {},
   "source": [
    "### Define Hyperparameter Grids\n",
    "\n",
    "Define hyperparamter grids for chosen ML algorithms."
   ]
  },
  {
   "cell_type": "code",
   "execution_count": 5,
   "id": "1300ab6a-edf9-4718-a372-9801901d43a3",
   "metadata": {
    "execution": {
     "iopub.execute_input": "2022-09-29T11:08:48.563198Z",
     "iopub.status.busy": "2022-09-29T11:08:48.562892Z",
     "iopub.status.idle": "2022-09-29T11:08:48.569002Z",
     "shell.execute_reply": "2022-09-29T11:08:48.567915Z",
     "shell.execute_reply.started": "2022-09-29T11:08:48.563176Z"
    },
    "tags": []
   },
   "outputs": [],
   "source": [
    "# XGBoost\n",
    "xgb_grid = {\n",
    "        'xgbclassifier__max_depth': [3, 5],\n",
    "         'xgbclassifier__n_estimators': [100, 200],\n",
    "        }\n",
    "# SVC\n",
    "svm_grid = {\n",
    "        'svc__kernel' : ['linear', 'rbf'],\n",
    "        'svc__C': [0.01, 0.1, 1]\n",
    "    }\n",
    "# Random Forest\n",
    "rf_grid = {\n",
    "        'randomforestclassifier__n_estimators' : [100, 150],\n",
    "        'randomforestclassifier__min_samples_leaf' : [1, 3],\n",
    "        'randomforestclassifier__min_samples_split' : [2, 3]\n",
    "    }\n",
    "# Logistic Regression\n",
    "lr_grid = {\n",
    "        'logisticregression__C' : [0.1, 1],\n",
    "        'logisticregression__solver' : ['lbfgs', 'saga']\n",
    "    }"
   ]
  },
  {
   "cell_type": "markdown",
   "id": "300e603d-c74b-457a-998f-4adab1d167d0",
   "metadata": {},
   "source": [
    "#### Create dictionary for hyperparameter grids"
   ]
  },
  {
   "cell_type": "code",
   "execution_count": 6,
   "id": "d1dbf049-d5a4-46a4-b30a-a423094bb393",
   "metadata": {
    "execution": {
     "iopub.execute_input": "2022-09-29T11:08:50.924399Z",
     "iopub.status.busy": "2022-09-29T11:08:50.924119Z",
     "iopub.status.idle": "2022-09-29T11:08:50.929022Z",
     "shell.execute_reply": "2022-09-29T11:08:50.928097Z",
     "shell.execute_reply.started": "2022-09-29T11:08:50.924381Z"
    },
    "tags": []
   },
   "outputs": [],
   "source": [
    "# Create hyperparameter grids dictionary\n",
    "hp_grids = {\n",
    "    'lr' : lr_grid,\n",
    "    'svm' : svm_grid,\n",
    "    'rf' : rf_grid,\n",
    "    'xgb' : xgb_grid\n",
    "}"
   ]
  },
  {
   "cell_type": "markdown",
   "id": "200cac87-f2d9-4bc0-ae2e-af8647fb0904",
   "metadata": {},
   "source": [
    "### Get embedding folders and fasta files for the task."
   ]
  },
  {
   "cell_type": "markdown",
   "id": "2a2d9b96-7e79-4a80-941b-bbed0b71d802",
   "metadata": {},
   "source": [
    "For our modelling we will need to use previously created fasta files:"
   ]
  },
  {
   "cell_type": "code",
   "execution_count": 7,
   "id": "2f056a20-593b-4d73-b163-ca0efd56a3a6",
   "metadata": {
    "execution": {
     "iopub.execute_input": "2022-09-29T11:09:08.256874Z",
     "iopub.status.busy": "2022-09-29T11:09:08.256094Z",
     "iopub.status.idle": "2022-09-29T11:09:08.417399Z",
     "shell.execute_reply": "2022-09-29T11:09:08.416261Z",
     "shell.execute_reply.started": "2022-09-29T11:09:08.256848Z"
    },
    "tags": []
   },
   "outputs": [
    {
     "name": "stdout",
     "output_type": "stream",
     "text": [
      "├── [216K Sep  3 22:34]  ../../data/amp/all_data.fa\n"
     ]
    }
   ],
   "source": [
    "!tree -nhDL 1 ../../data/\"{task}\"/ -fP *.fa | grep fa"
   ]
  },
  {
   "cell_type": "markdown",
   "id": "ebdb6695-d455-41d0-8b6e-7d29109e8fc1",
   "metadata": {},
   "source": [
    "<br>\n",
    "\n",
    "and embedding `.pt` files in these folders:"
   ]
  },
  {
   "cell_type": "code",
   "execution_count": 8,
   "id": "9c742696-6d75-423e-8352-4dfe10c7d5ca",
   "metadata": {
    "execution": {
     "iopub.execute_input": "2022-09-29T11:09:16.121833Z",
     "iopub.status.busy": "2022-09-29T11:09:16.121526Z",
     "iopub.status.idle": "2022-09-29T11:09:16.292066Z",
     "shell.execute_reply": "2022-09-29T11:09:16.291167Z",
     "shell.execute_reply.started": "2022-09-29T11:09:16.121791Z"
    },
    "tags": []
   },
   "outputs": [
    {
     "name": "stdout",
     "output_type": "stream",
     "text": [
      "│       ├── [4.0K Sep  6 17:55]  ../../data/amp/esm/all_data/amp_all_esm1b_mean\n",
      "│       └── [4.0K Sep  6 17:46]  ../../data/amp/esm/all_data/amp_all_esm1v_mean\n",
      "        ├── [4.0K Sep  4 17:39]  ../../data/amp/prose/all_data/amp_all_dlm_avg\n",
      "        ├── [4.0K Sep  4 22:27]  ../../data/amp/prose/all_data/amp_all_dlm_max\n",
      "        ├── [4.0K Sep  4 22:38]  ../../data/amp/prose/all_data/amp_all_dlm_sum\n",
      "        ├── [4.0K Sep  4 22:56]  ../../data/amp/prose/all_data/amp_all_mt_avg\n",
      "        ├── [4.0K Sep  4 23:05]  ../../data/amp/prose/all_data/amp_all_mt_max\n",
      "        └── [4.0K Sep  4 23:16]  ../../data/amp/prose/all_data/amp_all_mt_sum\n"
     ]
    }
   ],
   "source": [
    "!tree -nhDL 3 ../../data/\"{task}\"/ -df | grep 'esm1\\|mt\\|dlm'"
   ]
  },
  {
   "cell_type": "markdown",
   "id": "0ad0f1ce-ac1f-4ca3-b032-0bc934474083",
   "metadata": {},
   "source": [
    "<br>  \n",
    "\n",
    "To get paths for embedding folders and fasta files we will use the function `get_emb_folders()`."
   ]
  },
  {
   "cell_type": "code",
   "execution_count": 9,
   "id": "ca536a8c-eef6-415a-b586-56b909890dd1",
   "metadata": {
    "execution": {
     "iopub.execute_input": "2022-09-29T11:09:21.553709Z",
     "iopub.status.busy": "2022-09-29T11:09:21.553379Z",
     "iopub.status.idle": "2022-09-29T11:09:21.885357Z",
     "shell.execute_reply": "2022-09-29T11:09:21.883837Z",
     "shell.execute_reply.started": "2022-09-29T11:09:21.553686Z"
    },
    "tags": []
   },
   "outputs": [],
   "source": [
    "pt_folders, fa_files = mu.get_emb_folders(task)"
   ]
  },
  {
   "cell_type": "markdown",
   "id": "68ac1c2a-14c4-4cfe-90f8-9912c8cc6414",
   "metadata": {},
   "source": [
    "## Modelling Loop"
   ]
  },
  {
   "cell_type": "markdown",
   "id": "7e107e24-a93f-4281-9990-19b05ac55033",
   "metadata": {},
   "source": [
    "The modelling loop includes the following steps:\n",
    "\n",
    "1. Loop through embedding folders\n",
    "2. Run the function `read_embeddings()` for all_data embeddings to get `X` and `y`\n",
    "3. Split `X` and `y` into train and test sets\n",
    "4. Define and print the output header\n",
    "5. Use the function `fit_tune_CV()`to to do the following:\n",
    "   - use above defined `pipelines` and `hp_grids` dictionaries and `GridSearchCV()` to get models\n",
    "   - save the models with `joblib()`\n",
    "   - create a dictionary of the models for one set of embeddings\n",
    "6. Run the function `evaluation()` to create an evaluation dataframe for one set of embeddings\n"
   ]
  },
  {
   "cell_type": "code",
   "execution_count": 12,
   "id": "2c0eead5-f993-47db-b9a7-72588844b28c",
   "metadata": {
    "execution": {
     "iopub.execute_input": "2022-09-29T11:14:00.066131Z",
     "iopub.status.busy": "2022-09-29T11:14:00.065859Z",
     "iopub.status.idle": "2022-09-29T12:33:56.696202Z",
     "shell.execute_reply": "2022-09-29T12:33:56.694971Z",
     "shell.execute_reply.started": "2022-09-29T11:14:00.066112Z"
    },
    "tags": []
   },
   "outputs": [
    {
     "name": "stdout",
     "output_type": "stream",
     "text": [
      "---------------------------------------------------------------------------\n",
      "\tPretrained Model \"esm1b\" by ESM - Pooling Operation: \"mean\"\n",
      "---------------------------------------------------------------------------\n",
      "esm1b_mean_xgb has been fitted and saved\n",
      "esm1b_mean_lr has been fitted and saved\n",
      "esm1b_mean_svm has been fitted and saved\n",
      "esm1b_mean_rf has been fitted and saved\n",
      "---------------------------------------------------------------------------\n",
      "\tPretrained Model \"esm1v\" by ESM - Pooling Operation: \"mean\"\n",
      "---------------------------------------------------------------------------\n",
      "esm1v_mean_xgb has been fitted and saved\n",
      "esm1v_mean_lr has been fitted and saved\n",
      "esm1v_mean_svm has been fitted and saved\n",
      "esm1v_mean_rf has been fitted and saved\n",
      "---------------------------------------------------------------------------\n",
      "\tPretrained Model \"dlm\" by ProSE - Pooling Operation: \"avg\"\n",
      "---------------------------------------------------------------------------\n",
      "dlm_avg_xgb has been fitted and saved\n",
      "dlm_avg_lr has been fitted and saved\n",
      "dlm_avg_svm has been fitted and saved\n",
      "dlm_avg_rf has been fitted and saved\n",
      "---------------------------------------------------------------------------\n",
      "\tPretrained Model \"dlm\" by ProSE - Pooling Operation: \"max\"\n",
      "---------------------------------------------------------------------------\n",
      "dlm_max_xgb has been fitted and saved\n",
      "dlm_max_lr has been fitted and saved\n",
      "dlm_max_svm has been fitted and saved\n",
      "dlm_max_rf has been fitted and saved\n",
      "---------------------------------------------------------------------------\n",
      "\tPretrained Model \"dlm\" by ProSE - Pooling Operation: \"sum\"\n",
      "---------------------------------------------------------------------------\n",
      "dlm_sum_xgb has been fitted and saved\n",
      "dlm_sum_lr has been fitted and saved\n",
      "dlm_sum_svm has been fitted and saved\n",
      "dlm_sum_rf has been fitted and saved\n",
      "---------------------------------------------------------------------------\n",
      "\tPretrained Model \"mt\" by ProSE - Pooling Operation: \"avg\"\n",
      "---------------------------------------------------------------------------\n",
      "mt_avg_xgb has been fitted and saved\n",
      "mt_avg_lr has been fitted and saved\n",
      "mt_avg_svm has been fitted and saved\n",
      "mt_avg_rf has been fitted and saved\n",
      "---------------------------------------------------------------------------\n",
      "\tPretrained Model \"mt\" by ProSE - Pooling Operation: \"max\"\n",
      "---------------------------------------------------------------------------\n",
      "mt_max_xgb has been fitted and saved\n",
      "mt_max_lr has been fitted and saved\n",
      "mt_max_svm has been fitted and saved\n",
      "mt_max_rf has been fitted and saved\n",
      "---------------------------------------------------------------------------\n",
      "\tPretrained Model \"mt\" by ProSE - Pooling Operation: \"sum\"\n",
      "---------------------------------------------------------------------------\n",
      "mt_sum_xgb has been fitted and saved\n",
      "mt_sum_lr has been fitted and saved\n",
      "mt_sum_svm has been fitted and saved\n",
      "mt_sum_rf has been fitted and saved\n"
     ]
    }
   ],
   "source": [
    "# Initialize dictionary to keep evaluation dataframes \n",
    "# One dataframe per embeddings folder (train+test, or all_data)\n",
    "df_models = {}\n",
    "\n",
    "for i in range(len(pt_folders)):\n",
    "    \n",
    "    # No test, train files, only one: all_data\n",
    "    path_fa, path_pt = fa_files[0], pt_folders[i]\n",
    "    pool = os.path.split(path_pt)[1].split('_')[-1]\n",
    "    emb_layer = 33 if 'esm' in path_pt else 'layer'\n",
    "    X, y, sequence_id_train = fu.read_embeddings(path_fa, path_pt, pool, emb_layer,print_dims=False)\n",
    "    \n",
    "    # Train-Test split\n",
    "    # Split X and y into train and test sets\n",
    "    X_train, X_test, y_train, y_test = train_test_split(X, y, test_size=0.25,\n",
    "                                                    random_state=random_state,\n",
    "                                                   stratify=y)\n",
    "\n",
    "    # Extensions for evaluations dataframes\n",
    "    df_ext = os.path.split(path_pt)[1].split('_', 1)[1].split('_', 1)[1]\n",
    "    \n",
    "    # Printing output header\n",
    "    ptm = df_ext.split('_')[0]\n",
    "    ptr = 'ESM' if 'esm' in ptm else 'ProSE'\n",
    "    print('-' * 75)\n",
    "    print(f'\\tPretrained Model \"{ptm}\" by {ptr} - Pooling Operation: \"{pool}\"')\n",
    "    print('-' * 75)\n",
    "    \n",
    "    # Grid search and fit\n",
    "    fitted_models = mu.fit_tune_CV(pipelines, hp_grids, 'accuracy', path_pt, X_train, y_train, task)\n",
    "    \n",
    "    # Save valuation dataframe into dictionary\n",
    "    df_models[f'eval_{df_ext}'] = mu.evaluation(fitted_models, X_test, y_test)\n",
    "  "
   ]
  },
  {
   "cell_type": "markdown",
   "id": "a7c1f2bb-9d0d-4d70-877b-1a79cb9cfe8e",
   "metadata": {},
   "source": [
    "<br>\n",
    "\n",
    "Let's list the keys of the `df_models` dictionary:"
   ]
  },
  {
   "cell_type": "code",
   "execution_count": 13,
   "id": "4855c791-bfde-44ba-a36f-4d0c5020dc0d",
   "metadata": {
    "execution": {
     "iopub.execute_input": "2022-09-29T12:59:14.674704Z",
     "iopub.status.busy": "2022-09-29T12:59:14.674423Z",
     "iopub.status.idle": "2022-09-29T12:59:14.684990Z",
     "shell.execute_reply": "2022-09-29T12:59:14.684165Z",
     "shell.execute_reply.started": "2022-09-29T12:59:14.674684Z"
    },
    "tags": []
   },
   "outputs": [
    {
     "data": {
      "text/plain": [
       "dict_keys(['eval_esm1b_mean', 'eval_esm1v_mean', 'eval_dlm_avg', 'eval_dlm_max', 'eval_dlm_sum', 'eval_mt_avg', 'eval_mt_max', 'eval_mt_sum'])"
      ]
     },
     "execution_count": 13,
     "metadata": {},
     "output_type": "execute_result"
    }
   ],
   "source": [
    "df_models.keys()"
   ]
  },
  {
   "cell_type": "markdown",
   "id": "a6be04e0-b55e-4c16-abef-e1cff9b828cb",
   "metadata": {},
   "source": [
    "<br>\n",
    "Let's check a dataframe for a randomly chosen key (set of embeddings)"
   ]
  },
  {
   "cell_type": "code",
   "execution_count": 14,
   "id": "a3538003-0b5d-4818-9a69-8e60d8eb7092",
   "metadata": {
    "execution": {
     "iopub.execute_input": "2022-09-29T12:59:39.242044Z",
     "iopub.status.busy": "2022-09-29T12:59:39.241700Z",
     "iopub.status.idle": "2022-09-29T12:59:39.262306Z",
     "shell.execute_reply": "2022-09-29T12:59:39.261420Z",
     "shell.execute_reply.started": "2022-09-29T12:59:39.242018Z"
    },
    "tags": []
   },
   "outputs": [
    {
     "data": {
      "text/html": [
       "<div>\n",
       "<style scoped>\n",
       "    .dataframe tbody tr th:only-of-type {\n",
       "        vertical-align: middle;\n",
       "    }\n",
       "\n",
       "    .dataframe tbody tr th {\n",
       "        vertical-align: top;\n",
       "    }\n",
       "\n",
       "    .dataframe thead th {\n",
       "        text-align: right;\n",
       "    }\n",
       "</style>\n",
       "<table border=\"1\" class=\"dataframe\">\n",
       "  <thead>\n",
       "    <tr style=\"text-align: right;\">\n",
       "      <th></th>\n",
       "      <th>cv_best_score</th>\n",
       "      <th>f1_macro</th>\n",
       "      <th>accuracy</th>\n",
       "    </tr>\n",
       "    <tr>\n",
       "      <th>model</th>\n",
       "      <th></th>\n",
       "      <th></th>\n",
       "      <th></th>\n",
       "    </tr>\n",
       "  </thead>\n",
       "  <tbody>\n",
       "    <tr>\n",
       "      <th>esm1v_mean_xgb</th>\n",
       "      <td>0.923127</td>\n",
       "      <td>0.918843</td>\n",
       "      <td>0.918892</td>\n",
       "    </tr>\n",
       "    <tr>\n",
       "      <th>esm1v_mean_lr</th>\n",
       "      <td>0.934676</td>\n",
       "      <td>0.933692</td>\n",
       "      <td>0.933729</td>\n",
       "    </tr>\n",
       "    <tr>\n",
       "      <th>esm1v_mean_svm</th>\n",
       "      <td>0.935005</td>\n",
       "      <td>0.934672</td>\n",
       "      <td>0.934718</td>\n",
       "    </tr>\n",
       "    <tr>\n",
       "      <th>esm1v_mean_rf</th>\n",
       "      <td>0.906302</td>\n",
       "      <td>0.910906</td>\n",
       "      <td>0.910979</td>\n",
       "    </tr>\n",
       "  </tbody>\n",
       "</table>\n",
       "</div>"
      ],
      "text/plain": [
       "                cv_best_score  f1_macro  accuracy\n",
       "model                                            \n",
       "esm1v_mean_xgb       0.923127  0.918843  0.918892\n",
       "esm1v_mean_lr        0.934676  0.933692  0.933729\n",
       "esm1v_mean_svm       0.935005  0.934672  0.934718\n",
       "esm1v_mean_rf        0.906302  0.910906  0.910979"
      ]
     },
     "execution_count": 14,
     "metadata": {},
     "output_type": "execute_result"
    }
   ],
   "source": [
    "import random\n",
    "df_models[list(df_models.keys())[random.randint(0, len(df_models))]]"
   ]
  },
  {
   "cell_type": "markdown",
   "id": "405b86ba-1e67-4546-b0a4-5972fa6dbadd",
   "metadata": {},
   "source": [
    "## Collecting Evaluation Results into a DataFrame"
   ]
  },
  {
   "cell_type": "markdown",
   "id": "6df92a3f-a157-44db-8065-8ee77f4434a9",
   "metadata": {},
   "source": [
    "To compare evaluations for all models, collect results from all dataframes into one dataframe.  \n",
    "\n",
    "To do that, we will merge all dataframes from the dictionary `df_models`."
   ]
  },
  {
   "cell_type": "code",
   "execution_count": 15,
   "id": "efef645f-0ba9-4f1f-bd6e-1a3be30d7e71",
   "metadata": {
    "execution": {
     "iopub.execute_input": "2022-09-29T13:00:12.269305Z",
     "iopub.status.busy": "2022-09-29T13:00:12.268995Z",
     "iopub.status.idle": "2022-09-29T13:00:12.283877Z",
     "shell.execute_reply": "2022-09-29T13:00:12.283020Z",
     "shell.execute_reply.started": "2022-09-29T13:00:12.269285Z"
    },
    "tags": []
   },
   "outputs": [],
   "source": [
    "# Create dataframe with evaluations for all models\n",
    "\n",
    "# initialize dataframe\n",
    "eval_df_all = pd.DataFrame()\n",
    "# concatenate all dataframes from dictionary df_models\n",
    "# Iterate through all dictionary keys \n",
    "for i in df_models.keys():\n",
    "    # Use a temporary dataframe to hold one iteraton's dataframe\n",
    "    eval_df_t = df_models[i].copy().reset_index()\n",
    "    eval_df_all = pd.concat([eval_df_all, eval_df_t])\n",
    "\n",
    "# Set the column 'model' as an index\n",
    "eval_df_all = eval_df_all.set_index('model')"
   ]
  },
  {
   "cell_type": "markdown",
   "id": "5fe7ac30-db89-4f19-a383-63f214ac0a88",
   "metadata": {},
   "source": [
    "#### Display the results sorted by \"accuracy\""
   ]
  },
  {
   "cell_type": "code",
   "execution_count": 16,
   "id": "928ff706-6507-4dc9-af58-41c7c79f5171",
   "metadata": {
    "execution": {
     "iopub.execute_input": "2022-09-29T13:00:21.014284Z",
     "iopub.status.busy": "2022-09-29T13:00:21.013222Z",
     "iopub.status.idle": "2022-09-29T13:00:21.025434Z",
     "shell.execute_reply": "2022-09-29T13:00:21.024336Z",
     "shell.execute_reply.started": "2022-09-29T13:00:21.014257Z"
    },
    "tags": []
   },
   "outputs": [
    {
     "data": {
      "text/html": [
       "<div>\n",
       "<style scoped>\n",
       "    .dataframe tbody tr th:only-of-type {\n",
       "        vertical-align: middle;\n",
       "    }\n",
       "\n",
       "    .dataframe tbody tr th {\n",
       "        vertical-align: top;\n",
       "    }\n",
       "\n",
       "    .dataframe thead th {\n",
       "        text-align: right;\n",
       "    }\n",
       "</style>\n",
       "<table border=\"1\" class=\"dataframe\">\n",
       "  <thead>\n",
       "    <tr style=\"text-align: right;\">\n",
       "      <th></th>\n",
       "      <th>cv_best_score</th>\n",
       "      <th>f1_macro</th>\n",
       "      <th>accuracy</th>\n",
       "    </tr>\n",
       "    <tr>\n",
       "      <th>model</th>\n",
       "      <th></th>\n",
       "      <th></th>\n",
       "      <th></th>\n",
       "    </tr>\n",
       "  </thead>\n",
       "  <tbody>\n",
       "    <tr>\n",
       "      <th>mt_avg_lr</th>\n",
       "      <td>0.929726</td>\n",
       "      <td>0.944585</td>\n",
       "      <td>0.944609</td>\n",
       "    </tr>\n",
       "    <tr>\n",
       "      <th>mt_max_lr</th>\n",
       "      <td>0.931379</td>\n",
       "      <td>0.943593</td>\n",
       "      <td>0.943620</td>\n",
       "    </tr>\n",
       "    <tr>\n",
       "      <th>mt_avg_svm</th>\n",
       "      <td>0.931707</td>\n",
       "      <td>0.942601</td>\n",
       "      <td>0.942631</td>\n",
       "    </tr>\n",
       "    <tr>\n",
       "      <th>mt_sum_lr</th>\n",
       "      <td>0.929068</td>\n",
       "      <td>0.941597</td>\n",
       "      <td>0.941642</td>\n",
       "    </tr>\n",
       "    <tr>\n",
       "      <th>dlm_avg_svm</th>\n",
       "      <td>0.932037</td>\n",
       "      <td>0.940617</td>\n",
       "      <td>0.940653</td>\n",
       "    </tr>\n",
       "    <tr>\n",
       "      <th>mt_max_svm</th>\n",
       "      <td>0.933027</td>\n",
       "      <td>0.936669</td>\n",
       "      <td>0.936696</td>\n",
       "    </tr>\n",
       "    <tr>\n",
       "      <th>esm1v_mean_svm</th>\n",
       "      <td>0.935005</td>\n",
       "      <td>0.934672</td>\n",
       "      <td>0.934718</td>\n",
       "    </tr>\n",
       "    <tr>\n",
       "      <th>dlm_avg_lr</th>\n",
       "      <td>0.923787</td>\n",
       "      <td>0.934707</td>\n",
       "      <td>0.934718</td>\n",
       "    </tr>\n",
       "    <tr>\n",
       "      <th>dlm_sum_svm</th>\n",
       "      <td>0.926430</td>\n",
       "      <td>0.934672</td>\n",
       "      <td>0.934718</td>\n",
       "    </tr>\n",
       "    <tr>\n",
       "      <th>esm1v_mean_lr</th>\n",
       "      <td>0.934676</td>\n",
       "      <td>0.933692</td>\n",
       "      <td>0.933729</td>\n",
       "    </tr>\n",
       "    <tr>\n",
       "      <th>esm1b_mean_lr</th>\n",
       "      <td>0.935665</td>\n",
       "      <td>0.933671</td>\n",
       "      <td>0.933729</td>\n",
       "    </tr>\n",
       "    <tr>\n",
       "      <th>esm1b_mean_svm</th>\n",
       "      <td>0.934677</td>\n",
       "      <td>0.932668</td>\n",
       "      <td>0.932740</td>\n",
       "    </tr>\n",
       "    <tr>\n",
       "      <th>mt_sum_svm</th>\n",
       "      <td>0.929069</td>\n",
       "      <td>0.931712</td>\n",
       "      <td>0.931751</td>\n",
       "    </tr>\n",
       "    <tr>\n",
       "      <th>dlm_max_svm</th>\n",
       "      <td>0.929396</td>\n",
       "      <td>0.931724</td>\n",
       "      <td>0.931751</td>\n",
       "    </tr>\n",
       "    <tr>\n",
       "      <th>dlm_max_lr</th>\n",
       "      <td>0.927088</td>\n",
       "      <td>0.930737</td>\n",
       "      <td>0.930762</td>\n",
       "    </tr>\n",
       "    <tr>\n",
       "      <th>mt_avg_xgb</th>\n",
       "      <td>0.922466</td>\n",
       "      <td>0.929766</td>\n",
       "      <td>0.929773</td>\n",
       "    </tr>\n",
       "    <tr>\n",
       "      <th>esm1b_mean_xgb</th>\n",
       "      <td>0.924118</td>\n",
       "      <td>0.928677</td>\n",
       "      <td>0.928783</td>\n",
       "    </tr>\n",
       "    <tr>\n",
       "      <th>mt_sum_xgb</th>\n",
       "      <td>0.923129</td>\n",
       "      <td>0.927771</td>\n",
       "      <td>0.927794</td>\n",
       "    </tr>\n",
       "    <tr>\n",
       "      <th>dlm_sum_lr</th>\n",
       "      <td>0.926099</td>\n",
       "      <td>0.927771</td>\n",
       "      <td>0.927794</td>\n",
       "    </tr>\n",
       "    <tr>\n",
       "      <th>dlm_avg_xgb</th>\n",
       "      <td>0.922798</td>\n",
       "      <td>0.925787</td>\n",
       "      <td>0.925816</td>\n",
       "    </tr>\n",
       "    <tr>\n",
       "      <th>dlm_max_xgb</th>\n",
       "      <td>0.917849</td>\n",
       "      <td>0.921823</td>\n",
       "      <td>0.921860</td>\n",
       "    </tr>\n",
       "    <tr>\n",
       "      <th>mt_max_xgb</th>\n",
       "      <td>0.919830</td>\n",
       "      <td>0.921791</td>\n",
       "      <td>0.921860</td>\n",
       "    </tr>\n",
       "    <tr>\n",
       "      <th>dlm_sum_xgb</th>\n",
       "      <td>0.920492</td>\n",
       "      <td>0.918834</td>\n",
       "      <td>0.918892</td>\n",
       "    </tr>\n",
       "    <tr>\n",
       "      <th>esm1v_mean_xgb</th>\n",
       "      <td>0.923127</td>\n",
       "      <td>0.918843</td>\n",
       "      <td>0.918892</td>\n",
       "    </tr>\n",
       "    <tr>\n",
       "      <th>esm1v_mean_rf</th>\n",
       "      <td>0.906302</td>\n",
       "      <td>0.910906</td>\n",
       "      <td>0.910979</td>\n",
       "    </tr>\n",
       "    <tr>\n",
       "      <th>dlm_avg_rf</th>\n",
       "      <td>0.909600</td>\n",
       "      <td>0.908904</td>\n",
       "      <td>0.909001</td>\n",
       "    </tr>\n",
       "    <tr>\n",
       "      <th>esm1b_mean_rf</th>\n",
       "      <td>0.908275</td>\n",
       "      <td>0.907642</td>\n",
       "      <td>0.908012</td>\n",
       "    </tr>\n",
       "    <tr>\n",
       "      <th>mt_sum_rf</th>\n",
       "      <td>0.904659</td>\n",
       "      <td>0.902053</td>\n",
       "      <td>0.902077</td>\n",
       "    </tr>\n",
       "    <tr>\n",
       "      <th>dlm_sum_rf</th>\n",
       "      <td>0.890470</td>\n",
       "      <td>0.898063</td>\n",
       "      <td>0.898121</td>\n",
       "    </tr>\n",
       "    <tr>\n",
       "      <th>dlm_max_rf</th>\n",
       "      <td>0.900038</td>\n",
       "      <td>0.896139</td>\n",
       "      <td>0.896142</td>\n",
       "    </tr>\n",
       "    <tr>\n",
       "      <th>mt_avg_rf</th>\n",
       "      <td>0.904327</td>\n",
       "      <td>0.890180</td>\n",
       "      <td>0.890208</td>\n",
       "    </tr>\n",
       "    <tr>\n",
       "      <th>mt_max_rf</th>\n",
       "      <td>0.896083</td>\n",
       "      <td>0.882291</td>\n",
       "      <td>0.882295</td>\n",
       "    </tr>\n",
       "  </tbody>\n",
       "</table>\n",
       "</div>"
      ],
      "text/plain": [
       "                cv_best_score  f1_macro  accuracy\n",
       "model                                            \n",
       "mt_avg_lr            0.929726  0.944585  0.944609\n",
       "mt_max_lr            0.931379  0.943593  0.943620\n",
       "mt_avg_svm           0.931707  0.942601  0.942631\n",
       "mt_sum_lr            0.929068  0.941597  0.941642\n",
       "dlm_avg_svm          0.932037  0.940617  0.940653\n",
       "mt_max_svm           0.933027  0.936669  0.936696\n",
       "esm1v_mean_svm       0.935005  0.934672  0.934718\n",
       "dlm_avg_lr           0.923787  0.934707  0.934718\n",
       "dlm_sum_svm          0.926430  0.934672  0.934718\n",
       "esm1v_mean_lr        0.934676  0.933692  0.933729\n",
       "esm1b_mean_lr        0.935665  0.933671  0.933729\n",
       "esm1b_mean_svm       0.934677  0.932668  0.932740\n",
       "mt_sum_svm           0.929069  0.931712  0.931751\n",
       "dlm_max_svm          0.929396  0.931724  0.931751\n",
       "dlm_max_lr           0.927088  0.930737  0.930762\n",
       "mt_avg_xgb           0.922466  0.929766  0.929773\n",
       "esm1b_mean_xgb       0.924118  0.928677  0.928783\n",
       "mt_sum_xgb           0.923129  0.927771  0.927794\n",
       "dlm_sum_lr           0.926099  0.927771  0.927794\n",
       "dlm_avg_xgb          0.922798  0.925787  0.925816\n",
       "dlm_max_xgb          0.917849  0.921823  0.921860\n",
       "mt_max_xgb           0.919830  0.921791  0.921860\n",
       "dlm_sum_xgb          0.920492  0.918834  0.918892\n",
       "esm1v_mean_xgb       0.923127  0.918843  0.918892\n",
       "esm1v_mean_rf        0.906302  0.910906  0.910979\n",
       "dlm_avg_rf           0.909600  0.908904  0.909001\n",
       "esm1b_mean_rf        0.908275  0.907642  0.908012\n",
       "mt_sum_rf            0.904659  0.902053  0.902077\n",
       "dlm_sum_rf           0.890470  0.898063  0.898121\n",
       "dlm_max_rf           0.900038  0.896139  0.896142\n",
       "mt_avg_rf            0.904327  0.890180  0.890208\n",
       "mt_max_rf            0.896083  0.882291  0.882295"
      ]
     },
     "execution_count": 16,
     "metadata": {},
     "output_type": "execute_result"
    }
   ],
   "source": [
    "# Display the dataframe\n",
    "eval_df_all.sort_values(by=['accuracy'], ascending=False)"
   ]
  },
  {
   "cell_type": "markdown",
   "id": "c4880e09-a36a-4921-8cc1-f6a0ece12026",
   "metadata": {},
   "source": [
    "### Saving dataframe for future use"
   ]
  },
  {
   "cell_type": "code",
   "execution_count": 17,
   "id": "e485790d-908e-44f3-93ce-5ddcbb6a7c20",
   "metadata": {
    "execution": {
     "iopub.execute_input": "2022-09-29T13:04:29.960489Z",
     "iopub.status.busy": "2022-09-29T13:04:29.960192Z",
     "iopub.status.idle": "2022-09-29T13:04:29.983602Z",
     "shell.execute_reply": "2022-09-29T13:04:29.982456Z",
     "shell.execute_reply.started": "2022-09-29T13:04:29.960467Z"
    },
    "tags": []
   },
   "outputs": [],
   "source": [
    "TASK = 'DBP' if task == 'dna_binding' else task.upper()\n",
    "file_path = f'../../results/{TASK}_classifiers.csv'\n",
    "eval_df_all.to_csv(file_path)"
   ]
  },
  {
   "cell_type": "markdown",
   "id": "16b3bc9f-b8f7-4f62-a86b-1e577597cbf7",
   "metadata": {},
   "source": [
    "<br>\n",
    "\n",
    "When you need to work with the results from that file, read it with the parameter `index_col=`:   \n",
    "```python\n",
    "df = pd.read_csv(file_path, index_col='model')\n",
    "```"
   ]
  }
 ],
 "metadata": {
  "kernelspec": {
   "display_name": "proteins",
   "language": "python",
   "name": "conda-env-proteins-py"
  },
  "language_info": {
   "codemirror_mode": {
    "name": "ipython",
    "version": 3
   },
   "file_extension": ".py",
   "mimetype": "text/x-python",
   "name": "python",
   "nbconvert_exporter": "python",
   "pygments_lexer": "ipython3",
   "version": "3.9.13"
  },
  "widgets": {
   "application/vnd.jupyter.widget-state+json": {
    "state": {},
    "version_major": 2,
    "version_minor": 0
   }
  }
 },
 "nbformat": 4,
 "nbformat_minor": 5
}
