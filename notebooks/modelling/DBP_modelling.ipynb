{
 "cells": [
  {
   "cell_type": "markdown",
   "id": "a6996cf1-5b97-45b2-920a-112afc130631",
   "metadata": {},
   "source": [
    "## DBP - Modelling"
   ]
  },
  {
   "cell_type": "markdown",
   "id": "1ef10ba7-0d8c-44d6-aa19-931776f702d2",
   "metadata": {},
   "source": [
    "First we will import all dependencies."
   ]
  },
  {
   "cell_type": "code",
   "execution_count": 1,
   "id": "0291583d-4ba1-4896-abd0-c5396d7e8cc8",
   "metadata": {
    "execution": {
     "iopub.execute_input": "2022-09-30T01:36:39.092450Z",
     "iopub.status.busy": "2022-09-30T01:36:39.092159Z",
     "iopub.status.idle": "2022-09-30T01:36:39.859593Z",
     "shell.execute_reply": "2022-09-30T01:36:39.858575Z",
     "shell.execute_reply.started": "2022-09-30T01:36:39.092385Z"
    },
    "tags": []
   },
   "outputs": [],
   "source": [
    "import os\n",
    "import pandas as pd\n",
    "\n",
    "from sklearn.svm import SVC\n",
    "from sklearn.ensemble import RandomForestClassifier\n",
    "from sklearn.linear_model import LogisticRegression\n",
    "from sklearn.pipeline import make_pipeline\n",
    "from sklearn.preprocessing import MinMaxScaler\n",
    "from sklearn.decomposition import PCA\n",
    "# To visualize pipeline diagram - 'text', or 'diagram'\n",
    "from sklearn import set_config\n",
    "# Import XGBoost\n",
    "from xgboost import XGBClassifier\n",
    "\n",
    "random_state = 10"
   ]
  },
  {
   "cell_type": "code",
   "execution_count": 2,
   "id": "f149ee94-8f14-4edc-817a-b7e15624acce",
   "metadata": {
    "execution": {
     "iopub.execute_input": "2022-09-30T01:36:39.861121Z",
     "iopub.status.busy": "2022-09-30T01:36:39.860871Z",
     "iopub.status.idle": "2022-09-30T01:36:40.384646Z",
     "shell.execute_reply": "2022-09-30T01:36:40.383781Z",
     "shell.execute_reply.started": "2022-09-30T01:36:39.861103Z"
    },
    "tags": []
   },
   "outputs": [],
   "source": [
    "# Import the script from different folder\n",
    "import sys  \n",
    "sys.path.append('../../scripts')\n",
    "\n",
    "import file_utilities as fu\n",
    "import modelling_utilities as mu"
   ]
  },
  {
   "cell_type": "markdown",
   "id": "d1752a27-1b44-46e1-b763-24a5f11fd08d",
   "metadata": {},
   "source": [
    "#### Set one of three project tasks (*acp*, *amp*, *dna_binding*)"
   ]
  },
  {
   "cell_type": "code",
   "execution_count": 3,
   "id": "1d6dd64d",
   "metadata": {
    "execution": {
     "iopub.execute_input": "2022-09-30T01:36:40.385529Z",
     "iopub.status.busy": "2022-09-30T01:36:40.385342Z",
     "iopub.status.idle": "2022-09-30T01:36:40.389514Z",
     "shell.execute_reply": "2022-09-30T01:36:40.388381Z",
     "shell.execute_reply.started": "2022-09-30T01:36:40.385512Z"
    },
    "tags": []
   },
   "outputs": [],
   "source": [
    "# task - ['acp', 'amp', 'dna_binding']\n",
    "task = 'dna_binding'"
   ]
  },
  {
   "cell_type": "markdown",
   "id": "6c57e6be-bd8c-4023-8b0b-0d1f5ffb9161",
   "metadata": {},
   "source": [
    "### Define Pipelines"
   ]
  },
  {
   "cell_type": "markdown",
   "id": "c7d1a7d5-47e2-4a84-b39d-408023c94b05",
   "metadata": {},
   "source": [
    "Define pipelines for ML algorithms.  \n",
    "As preprocessing steps we will use `MinMaxScaler()` and `PCA()`."
   ]
  },
  {
   "cell_type": "code",
   "execution_count": 4,
   "id": "ba6dbff9-de68-490d-9d00-897a79e4a12b",
   "metadata": {
    "execution": {
     "iopub.execute_input": "2022-09-30T01:36:40.390727Z",
     "iopub.status.busy": "2022-09-30T01:36:40.390399Z",
     "iopub.status.idle": "2022-09-30T01:36:40.404462Z",
     "shell.execute_reply": "2022-09-30T01:36:40.403602Z",
     "shell.execute_reply.started": "2022-09-30T01:36:40.390705Z"
    },
    "tags": []
   },
   "outputs": [],
   "source": [
    "# Define number of PCA components\n",
    "num_pca_components = 1000\n",
    "\n",
    "pipelines = {\n",
    "    'xgb' : make_pipeline(MinMaxScaler(), \n",
    "                          PCA(num_pca_components),\n",
    "                          XGBClassifier(random_state=random_state)),\n",
    "    'lr' : make_pipeline(MinMaxScaler(),\n",
    "                         PCA(num_pca_components),\n",
    "                         LogisticRegression(max_iter=20000, random_state=random_state)),    \n",
    "    'svm' : make_pipeline(MinMaxScaler(),\n",
    "                          PCA(num_pca_components),\n",
    "                          SVC(random_state=random_state)),\n",
    "    'rf' : make_pipeline(MinMaxScaler(),\n",
    "                         PCA(num_pca_components),\n",
    "                         RandomForestClassifier(random_state=random_state))\n",
    "}"
   ]
  },
  {
   "cell_type": "markdown",
   "id": "df5a3195-2d93-411d-9332-618727e58453",
   "metadata": {},
   "source": [
    "### Define Hyperparameter Grids\n",
    "\n",
    "Define hyperparameter grids for chosen ML algorithms."
   ]
  },
  {
   "cell_type": "code",
   "execution_count": 5,
   "id": "1300ab6a-edf9-4718-a372-9801901d43a3",
   "metadata": {
    "execution": {
     "iopub.execute_input": "2022-09-30T01:36:40.409507Z",
     "iopub.status.busy": "2022-09-30T01:36:40.408831Z",
     "iopub.status.idle": "2022-09-30T01:36:40.415947Z",
     "shell.execute_reply": "2022-09-30T01:36:40.414950Z",
     "shell.execute_reply.started": "2022-09-30T01:36:40.409460Z"
    },
    "tags": []
   },
   "outputs": [],
   "source": [
    "# XGBoost\n",
    "xgb_grid = {\n",
    "        'xgbclassifier__max_depth': [3, 5],\n",
    "         'xgbclassifier__n_estimators': [100, 200],\n",
    "        }\n",
    "# SVC\n",
    "svm_grid = {\n",
    "        'svc__kernel' : ['linear', 'rbf'],\n",
    "        'svc__C': [0.01, 0.1, 1]\n",
    "    }\n",
    "# Random Forest\n",
    "rf_grid = {\n",
    "        'randomforestclassifier__n_estimators' : [100, 150],\n",
    "        'randomforestclassifier__min_samples_leaf' : [1, 3],\n",
    "        'randomforestclassifier__min_samples_split' : [2, 3]\n",
    "    }\n",
    "# Logistic Regression\n",
    "lr_grid = {\n",
    "        'logisticregression__C' : [0.1, 1],\n",
    "        'logisticregression__solver' : ['lbfgs', 'saga']\n",
    "    }"
   ]
  },
  {
   "cell_type": "markdown",
   "id": "2d74e9ce-f268-4fe0-a37f-2a23ff4ea779",
   "metadata": {},
   "source": [
    "#### Create dictionary for hyperparameter grids"
   ]
  },
  {
   "cell_type": "code",
   "execution_count": 6,
   "id": "d1dbf049-d5a4-46a4-b30a-a423094bb393",
   "metadata": {
    "execution": {
     "iopub.execute_input": "2022-09-30T01:36:40.417148Z",
     "iopub.status.busy": "2022-09-30T01:36:40.416826Z",
     "iopub.status.idle": "2022-09-30T01:36:40.424592Z",
     "shell.execute_reply": "2022-09-30T01:36:40.423706Z",
     "shell.execute_reply.started": "2022-09-30T01:36:40.417130Z"
    },
    "tags": []
   },
   "outputs": [],
   "source": [
    "# Create hyperparameter grids dictionary\n",
    "hp_grids = {\n",
    "    'lr' : lr_grid,\n",
    "    'svm' : svm_grid,\n",
    "    'rf' : rf_grid,\n",
    "    'xgb' : xgb_grid\n",
    "}"
   ]
  },
  {
   "cell_type": "markdown",
   "id": "4a5d43cb-3b84-4e35-b0ac-c8062925cb03",
   "metadata": {},
   "source": [
    "### Get embedding folders and fasta files for the task."
   ]
  },
  {
   "cell_type": "markdown",
   "id": "da5ff220-ddc1-4096-9d12-d131f965650b",
   "metadata": {},
   "source": [
    "For our modelling we will need to use previously created fasta files:"
   ]
  },
  {
   "cell_type": "code",
   "execution_count": 7,
   "id": "2f056a20-593b-4d73-b163-ca0efd56a3a6",
   "metadata": {
    "execution": {
     "iopub.execute_input": "2022-09-30T01:36:40.425666Z",
     "iopub.status.busy": "2022-09-30T01:36:40.425439Z",
     "iopub.status.idle": "2022-09-30T01:36:40.590936Z",
     "shell.execute_reply": "2022-09-30T01:36:40.590085Z",
     "shell.execute_reply.started": "2022-09-30T01:36:40.425643Z"
    },
    "tags": []
   },
   "outputs": [
    {
     "name": "stdout",
     "output_type": "stream",
     "text": [
      "├── [781K Sep  8 12:05]  ../../data/dna_binding/test_esm.fa\n",
      "├── [1.0M Sep  3 22:42]  ../../data/dna_binding/test_prose.fa\n",
      "├── [4.7M Sep  7 17:51]  ../../data/dna_binding/train_esm.fa\n",
      "└── [6.0M Sep  3 22:39]  ../../data/dna_binding/train_prose.fa\n"
     ]
    }
   ],
   "source": [
    "!tree -nhDL 1 ../../data/\"{task}\"/ -fP *.fa | grep fa"
   ]
  },
  {
   "cell_type": "markdown",
   "id": "2d921046-b0a4-41db-b878-40dba76f1008",
   "metadata": {},
   "source": [
    "<br>\n",
    "\n",
    "and embedding `.pt` files in these folders:"
   ]
  },
  {
   "cell_type": "code",
   "execution_count": 8,
   "id": "9c742696-6d75-423e-8352-4dfe10c7d5ca",
   "metadata": {
    "execution": {
     "iopub.execute_input": "2022-09-30T01:36:40.592100Z",
     "iopub.status.busy": "2022-09-30T01:36:40.591873Z",
     "iopub.status.idle": "2022-09-30T01:36:40.770249Z",
     "shell.execute_reply": "2022-09-30T01:36:40.769287Z",
     "shell.execute_reply.started": "2022-09-30T01:36:40.592081Z"
    },
    "tags": []
   },
   "outputs": [
    {
     "name": "stdout",
     "output_type": "stream",
     "text": [
      "│   │   ├── [4.0K Sep  8 12:45]  ../../data/dna_binding/esm/test/dbp_test_esm1b_mean\n",
      "│   │   └── [4.0K Sep  8 12:36]  ../../data/dna_binding/esm/test/dbp_test_esm1v_mean\n",
      "│       ├── [4.0K Sep  7 19:27]  ../../data/dna_binding/esm/train/dbp_train_esm1b_mean\n",
      "│       └── [4.0K Sep  7 18:42]  ../../data/dna_binding/esm/train/dbp_train_esm1v_mean\n",
      "    │   ├── [4.0K Sep  6 10:41]  ../../data/dna_binding/prose/test/dbp_test_dlm_avg\n",
      "    │   ├── [4.0K Sep  6 10:55]  ../../data/dna_binding/prose/test/dbp_test_dlm_max\n",
      "    │   ├── [4.0K Sep  6 11:10]  ../../data/dna_binding/prose/test/dbp_test_dlm_sum\n",
      "    │   ├── [4.0K Sep  6 11:33]  ../../data/dna_binding/prose/test/dbp_test_mt_avg\n",
      "    │   ├── [4.0K Sep  6 13:32]  ../../data/dna_binding/prose/test/dbp_test_mt_max\n",
      "    │   └── [4.0K Sep  6 13:59]  ../../data/dna_binding/prose/test/dbp_test_mt_sum\n",
      "        ├── [4.0K Sep  5 17:52]  ../../data/dna_binding/prose/train/dbp_train_dlm_avg\n",
      "        ├── [4.0K Sep  5 19:49]  ../../data/dna_binding/prose/train/dbp_train_dlm_max\n",
      "        ├── [4.0K Sep  5 20:53]  ../../data/dna_binding/prose/train/dbp_train_dlm_sum\n",
      "        ├── [4.0K Sep  5 21:52]  ../../data/dna_binding/prose/train/dbp_train_mt_avg\n",
      "        ├── [4.0K Sep  5 22:49]  ../../data/dna_binding/prose/train/dbp_train_mt_max\n",
      "        └── [4.0K Sep  6 05:28]  ../../data/dna_binding/prose/train/dbp_train_mt_sum\n"
     ]
    }
   ],
   "source": [
    "!tree -nhDL 3 ../../data/\"{task}\"/ -df | grep 'esm1\\|mt\\|dlm'"
   ]
  },
  {
   "cell_type": "markdown",
   "id": "03baf257-e5df-4d14-b7c9-fb6ebd63879b",
   "metadata": {},
   "source": [
    "<br>  \n",
    "\n",
    "To get paths for embedding folders and fasta files we will use the function `get_emb_folders()`."
   ]
  },
  {
   "cell_type": "code",
   "execution_count": 9,
   "id": "ca536a8c-eef6-415a-b586-56b909890dd1",
   "metadata": {
    "execution": {
     "iopub.execute_input": "2022-09-30T01:36:40.771334Z",
     "iopub.status.busy": "2022-09-30T01:36:40.771111Z",
     "iopub.status.idle": "2022-09-30T01:36:41.178173Z",
     "shell.execute_reply": "2022-09-30T01:36:41.177357Z",
     "shell.execute_reply.started": "2022-09-30T01:36:40.771314Z"
    },
    "tags": []
   },
   "outputs": [],
   "source": [
    "pt_folders, fa_files = mu.get_emb_folders(task)"
   ]
  },
  {
   "cell_type": "markdown",
   "id": "68ac1c2a-14c4-4cfe-90f8-9912c8cc6414",
   "metadata": {},
   "source": [
    "## Modelling Loop"
   ]
  },
  {
   "cell_type": "markdown",
   "id": "2179bb33-2477-4f7c-85ad-19aa22ddbbe8",
   "metadata": {},
   "source": [
    "The modelling loop includes the following steps:\n",
    "\n",
    "1. Loop through train and test embedding folders\n",
    "2. Run the function `read_embeddings()` for train embeddings to get `X_train` and `y_train`\n",
    "3. Run the function `read_embeddings()` for test embeddings to get `X_test` and `y_test`\n",
    "4. Define and print the output header\n",
    "5. Use the function `fit_tune_CV()`to to do the following:\n",
    "   - use above defined `pipelines` and `hp_grids` dictionaries and `GridSearchCV()` to get models\n",
    "   - save the models with `joblib`\n",
    "   - create a dictionary of the models for one set of embedding folders\n",
    "6. Run the function `evaluation()` to create an evaluation dataframe for one set of embedding folders\n"
   ]
  },
  {
   "cell_type": "code",
   "execution_count": 10,
   "id": "2c0eead5-f993-47db-b9a7-72588844b28c",
   "metadata": {
    "execution": {
     "iopub.execute_input": "2022-09-30T01:37:02.289410Z",
     "iopub.status.busy": "2022-09-30T01:37:02.289163Z",
     "iopub.status.idle": "2022-09-30T13:35:29.999649Z",
     "shell.execute_reply": "2022-09-30T13:35:29.998370Z",
     "shell.execute_reply.started": "2022-09-30T01:37:02.289393Z"
    },
    "tags": []
   },
   "outputs": [
    {
     "name": "stdout",
     "output_type": "stream",
     "text": [
      "---------------------------------------------------------------------------\n",
      "\tPretrained Model \"esm1b\" by ESM - Pooling Operation: \"mean\"\n",
      "---------------------------------------------------------------------------\n",
      "esm1b_mean_xgb has been fitted and saved\n",
      "esm1b_mean_lr has been fitted and saved\n",
      "esm1b_mean_svm has been fitted and saved\n",
      "esm1b_mean_rf has been fitted and saved\n",
      "---------------------------------------------------------------------------\n",
      "\tPretrained Model \"esm1v\" by ESM - Pooling Operation: \"mean\"\n",
      "---------------------------------------------------------------------------\n",
      "esm1v_mean_xgb has been fitted and saved\n",
      "esm1v_mean_lr has been fitted and saved\n",
      "esm1v_mean_svm has been fitted and saved\n",
      "esm1v_mean_rf has been fitted and saved\n",
      "---------------------------------------------------------------------------\n",
      "\tPretrained Model \"dlm\" by ProSE - Pooling Operation: \"avg\"\n",
      "---------------------------------------------------------------------------\n",
      "dlm_avg_xgb has been fitted and saved\n",
      "dlm_avg_lr has been fitted and saved\n",
      "dlm_avg_svm has been fitted and saved\n",
      "dlm_avg_rf has been fitted and saved\n",
      "---------------------------------------------------------------------------\n",
      "\tPretrained Model \"dlm\" by ProSE - Pooling Operation: \"max\"\n",
      "---------------------------------------------------------------------------\n",
      "dlm_max_xgb has been fitted and saved\n"
     ]
    },
    {
     "name": "stderr",
     "output_type": "stream",
     "text": [
      "/home/damir/miniconda3/envs/proteins/lib/python3.9/site-packages/sklearn/linear_model/_sag.py:350: ConvergenceWarning: The max_iter was reached which means the coef_ did not converge\n",
      "  warnings.warn(\n",
      "/home/damir/miniconda3/envs/proteins/lib/python3.9/site-packages/sklearn/linear_model/_sag.py:350: ConvergenceWarning: The max_iter was reached which means the coef_ did not converge\n",
      "  warnings.warn(\n",
      "/home/damir/miniconda3/envs/proteins/lib/python3.9/site-packages/sklearn/linear_model/_sag.py:350: ConvergenceWarning: The max_iter was reached which means the coef_ did not converge\n",
      "  warnings.warn(\n",
      "/home/damir/miniconda3/envs/proteins/lib/python3.9/site-packages/sklearn/linear_model/_sag.py:350: ConvergenceWarning: The max_iter was reached which means the coef_ did not converge\n",
      "  warnings.warn(\n",
      "/home/damir/miniconda3/envs/proteins/lib/python3.9/site-packages/sklearn/linear_model/_sag.py:350: ConvergenceWarning: The max_iter was reached which means the coef_ did not converge\n",
      "  warnings.warn(\n"
     ]
    },
    {
     "name": "stdout",
     "output_type": "stream",
     "text": [
      "dlm_max_lr has been fitted and saved\n",
      "dlm_max_svm has been fitted and saved\n",
      "dlm_max_rf has been fitted and saved\n",
      "---------------------------------------------------------------------------\n",
      "\tPretrained Model \"dlm\" by ProSE - Pooling Operation: \"sum\"\n",
      "---------------------------------------------------------------------------\n",
      "dlm_sum_xgb has been fitted and saved\n"
     ]
    },
    {
     "name": "stderr",
     "output_type": "stream",
     "text": [
      "/home/damir/miniconda3/envs/proteins/lib/python3.9/site-packages/sklearn/linear_model/_sag.py:350: ConvergenceWarning: The max_iter was reached which means the coef_ did not converge\n",
      "  warnings.warn(\n",
      "/home/damir/miniconda3/envs/proteins/lib/python3.9/site-packages/sklearn/linear_model/_sag.py:350: ConvergenceWarning: The max_iter was reached which means the coef_ did not converge\n",
      "  warnings.warn(\n",
      "/home/damir/miniconda3/envs/proteins/lib/python3.9/site-packages/sklearn/linear_model/_sag.py:350: ConvergenceWarning: The max_iter was reached which means the coef_ did not converge\n",
      "  warnings.warn(\n"
     ]
    },
    {
     "name": "stdout",
     "output_type": "stream",
     "text": [
      "dlm_sum_lr has been fitted and saved\n",
      "dlm_sum_svm has been fitted and saved\n",
      "dlm_sum_rf has been fitted and saved\n",
      "---------------------------------------------------------------------------\n",
      "\tPretrained Model \"mt\" by ProSE - Pooling Operation: \"avg\"\n",
      "---------------------------------------------------------------------------\n",
      "mt_avg_xgb has been fitted and saved\n",
      "mt_avg_lr has been fitted and saved\n",
      "mt_avg_svm has been fitted and saved\n",
      "mt_avg_rf has been fitted and saved\n",
      "---------------------------------------------------------------------------\n",
      "\tPretrained Model \"mt\" by ProSE - Pooling Operation: \"max\"\n",
      "---------------------------------------------------------------------------\n",
      "mt_max_xgb has been fitted and saved\n"
     ]
    },
    {
     "name": "stderr",
     "output_type": "stream",
     "text": [
      "/home/damir/miniconda3/envs/proteins/lib/python3.9/site-packages/sklearn/linear_model/_sag.py:350: ConvergenceWarning: The max_iter was reached which means the coef_ did not converge\n",
      "  warnings.warn(\n",
      "/home/damir/miniconda3/envs/proteins/lib/python3.9/site-packages/sklearn/linear_model/_sag.py:350: ConvergenceWarning: The max_iter was reached which means the coef_ did not converge\n",
      "  warnings.warn(\n",
      "/home/damir/miniconda3/envs/proteins/lib/python3.9/site-packages/sklearn/linear_model/_sag.py:350: ConvergenceWarning: The max_iter was reached which means the coef_ did not converge\n",
      "  warnings.warn(\n",
      "/home/damir/miniconda3/envs/proteins/lib/python3.9/site-packages/sklearn/linear_model/_sag.py:350: ConvergenceWarning: The max_iter was reached which means the coef_ did not converge\n",
      "  warnings.warn(\n",
      "/home/damir/miniconda3/envs/proteins/lib/python3.9/site-packages/sklearn/linear_model/_sag.py:350: ConvergenceWarning: The max_iter was reached which means the coef_ did not converge\n",
      "  warnings.warn(\n"
     ]
    },
    {
     "name": "stdout",
     "output_type": "stream",
     "text": [
      "mt_max_lr has been fitted and saved\n",
      "mt_max_svm has been fitted and saved\n",
      "mt_max_rf has been fitted and saved\n",
      "---------------------------------------------------------------------------\n",
      "\tPretrained Model \"mt\" by ProSE - Pooling Operation: \"sum\"\n",
      "---------------------------------------------------------------------------\n",
      "mt_sum_xgb has been fitted and saved\n",
      "mt_sum_lr has been fitted and saved\n"
     ]
    },
    {
     "name": "stderr",
     "output_type": "stream",
     "text": [
      "/home/damir/miniconda3/envs/proteins/lib/python3.9/site-packages/sklearn/linear_model/_sag.py:350: ConvergenceWarning: The max_iter was reached which means the coef_ did not converge\n",
      "  warnings.warn(\n"
     ]
    },
    {
     "name": "stdout",
     "output_type": "stream",
     "text": [
      "mt_sum_svm has been fitted and saved\n",
      "mt_sum_rf has been fitted and saved\n"
     ]
    }
   ],
   "source": [
    "# Initialize dictionary to keep evaluation dataframes \n",
    "# One dataframe per embeddings folder (train+test, or all_data)\n",
    "df_models = {}\n",
    "\n",
    "for i in range(len(pt_folders)):\n",
    "    \n",
    "    # Train\n",
    "    # second index: 0 - train, 1 - test\n",
    "    path_pt = pt_folders[i][0]\n",
    "    # Different fasta files for ESM and ProSE\n",
    "    # Fasta files index: esm - 0, prose - 1\n",
    "    fa_idx = 0 if 'esm' in path_pt else 1\n",
    "    path_fa = fa_files[fa_idx][0]\n",
    "    pool = os.path.split(path_pt)[1].split('_')[-1]\n",
    "    emb_layer = 33 if 'esm' in path_pt else 'layer'\n",
    "    X_train, y_train, sequence_id_train = fu.read_embeddings(path_fa, path_pt, pool, emb_layer,print_dims=False)\n",
    "    \n",
    "    # Test\n",
    "    path_fa, path_pt = fa_files[fa_idx][1], pt_folders[i][1]\n",
    "    X_test, y_test, sequence_id_train = fu.read_embeddings(path_fa, path_pt, pool, emb_layer, print_dims=False)  \n",
    "\n",
    "    # Extensions for evaluations dataframes\n",
    "    df_ext = os.path.split(path_pt)[1].split('_', 1)[1].split('_', 1)[1]\n",
    "    \n",
    "    # Printing output header\n",
    "    ptm = df_ext.split('_')[0]\n",
    "    ptr = 'ESM' if 'esm' in ptm else 'ProSE'\n",
    "    print('-' * 75)\n",
    "    print(f'\\tPretrained Model \"{ptm}\" by {ptr} - Pooling Operation: \"{pool}\"')\n",
    "    print('-' * 75)\n",
    "    \n",
    "    # Grid search and fit\n",
    "    fitted_models = mu.fit_tune_CV(pipelines, hp_grids, 'accuracy', path_pt, X_train, y_train, task)\n",
    "    \n",
    "    # Save evaluation dataframe into dictionary\n",
    "    df_models[f'eval_{df_ext}'] = mu.evaluation(fitted_models, X_test, y_test)\n",
    "  "
   ]
  },
  {
   "cell_type": "markdown",
   "id": "eb2cf5df-7120-4b96-a5e6-579d97a159fd",
   "metadata": {},
   "source": [
    "<br>\n",
    "\n",
    "Let's list the keys of the `df_models` dictionary:"
   ]
  },
  {
   "cell_type": "code",
   "execution_count": 11,
   "id": "4855c791-bfde-44ba-a36f-4d0c5020dc0d",
   "metadata": {
    "execution": {
     "iopub.execute_input": "2022-09-30T13:36:36.718274Z",
     "iopub.status.busy": "2022-09-30T13:36:36.717940Z",
     "iopub.status.idle": "2022-09-30T13:36:36.736287Z",
     "shell.execute_reply": "2022-09-30T13:36:36.735369Z",
     "shell.execute_reply.started": "2022-09-30T13:36:36.718246Z"
    },
    "tags": []
   },
   "outputs": [
    {
     "data": {
      "text/plain": [
       "dict_keys(['eval_esm1b_mean', 'eval_esm1v_mean', 'eval_dlm_avg', 'eval_dlm_max', 'eval_dlm_sum', 'eval_mt_avg', 'eval_mt_max', 'eval_mt_sum'])"
      ]
     },
     "execution_count": 11,
     "metadata": {},
     "output_type": "execute_result"
    }
   ],
   "source": [
    "df_models.keys()"
   ]
  },
  {
   "cell_type": "markdown",
   "id": "e3c1941a-bb8b-4525-973e-21da6a659b6b",
   "metadata": {},
   "source": [
    "<br>\n",
    "Let's check a dataframe for a randomly chosen key (set of embedding folders)"
   ]
  },
  {
   "cell_type": "code",
   "execution_count": 12,
   "id": "a3538003-0b5d-4818-9a69-8e60d8eb7092",
   "metadata": {
    "execution": {
     "iopub.execute_input": "2022-09-30T13:36:43.816576Z",
     "iopub.status.busy": "2022-09-30T13:36:43.816324Z",
     "iopub.status.idle": "2022-09-30T13:36:43.832580Z",
     "shell.execute_reply": "2022-09-30T13:36:43.831597Z",
     "shell.execute_reply.started": "2022-09-30T13:36:43.816559Z"
    },
    "tags": []
   },
   "outputs": [
    {
     "data": {
      "text/html": [
       "<div>\n",
       "<style scoped>\n",
       "    .dataframe tbody tr th:only-of-type {\n",
       "        vertical-align: middle;\n",
       "    }\n",
       "\n",
       "    .dataframe tbody tr th {\n",
       "        vertical-align: top;\n",
       "    }\n",
       "\n",
       "    .dataframe thead th {\n",
       "        text-align: right;\n",
       "    }\n",
       "</style>\n",
       "<table border=\"1\" class=\"dataframe\">\n",
       "  <thead>\n",
       "    <tr style=\"text-align: right;\">\n",
       "      <th></th>\n",
       "      <th>cv_best_score</th>\n",
       "      <th>f1_macro</th>\n",
       "      <th>accuracy</th>\n",
       "    </tr>\n",
       "    <tr>\n",
       "      <th>model</th>\n",
       "      <th></th>\n",
       "      <th></th>\n",
       "      <th></th>\n",
       "    </tr>\n",
       "  </thead>\n",
       "  <tbody>\n",
       "    <tr>\n",
       "      <th>mt_max_xgb</th>\n",
       "      <td>0.918308</td>\n",
       "      <td>0.880322</td>\n",
       "      <td>0.881602</td>\n",
       "    </tr>\n",
       "    <tr>\n",
       "      <th>mt_max_lr</th>\n",
       "      <td>0.915098</td>\n",
       "      <td>0.827865</td>\n",
       "      <td>0.828345</td>\n",
       "    </tr>\n",
       "    <tr>\n",
       "      <th>mt_max_svm</th>\n",
       "      <td>0.917524</td>\n",
       "      <td>0.847299</td>\n",
       "      <td>0.847711</td>\n",
       "    </tr>\n",
       "    <tr>\n",
       "      <th>mt_max_rf</th>\n",
       "      <td>0.914384</td>\n",
       "      <td>0.850791</td>\n",
       "      <td>0.852993</td>\n",
       "    </tr>\n",
       "  </tbody>\n",
       "</table>\n",
       "</div>"
      ],
      "text/plain": [
       "            cv_best_score  f1_macro  accuracy\n",
       "model                                        \n",
       "mt_max_xgb       0.918308  0.880322  0.881602\n",
       "mt_max_lr        0.915098  0.827865  0.828345\n",
       "mt_max_svm       0.917524  0.847299  0.847711\n",
       "mt_max_rf        0.914384  0.850791  0.852993"
      ]
     },
     "execution_count": 12,
     "metadata": {},
     "output_type": "execute_result"
    }
   ],
   "source": [
    "import random\n",
    "df_models[list(df_models.keys())[random.randint(0, len(df_models))]]"
   ]
  },
  {
   "cell_type": "markdown",
   "id": "c4b13a3b-9815-4ccc-b798-95b3e46cedcc",
   "metadata": {},
   "source": [
    "## Collecting Evaluation Results into a DataFrame"
   ]
  },
  {
   "cell_type": "markdown",
   "id": "4ad1d5ea-4da4-4728-ae81-c20adf71d6a9",
   "metadata": {},
   "source": [
    "To compare evaluations for all models, collect results from all dataframes into one dataframe.  \n",
    "\n",
    "To do that, we will merge all dataframes from the dictionary `df_models`."
   ]
  },
  {
   "cell_type": "code",
   "execution_count": 13,
   "id": "efef645f-0ba9-4f1f-bd6e-1a3be30d7e71",
   "metadata": {
    "execution": {
     "iopub.execute_input": "2022-09-30T13:37:14.661638Z",
     "iopub.status.busy": "2022-09-30T13:37:14.661357Z",
     "iopub.status.idle": "2022-09-30T13:37:14.682045Z",
     "shell.execute_reply": "2022-09-30T13:37:14.681243Z",
     "shell.execute_reply.started": "2022-09-30T13:37:14.661618Z"
    },
    "tags": []
   },
   "outputs": [],
   "source": [
    "# Create dataframe with evaluations for all models\n",
    "\n",
    "# initialize dataframe\n",
    "eval_df_all = pd.DataFrame()\n",
    "# concatenate all dataframes from dictionary df_models\n",
    "# Iterate through all dictionary keys \n",
    "for i in df_models.keys():\n",
    "    # Use a temporary dataframe to hold one iteration's dataframe\n",
    "    eval_df_t = df_models[i].copy().reset_index()\n",
    "    eval_df_all = pd.concat([eval_df_all, eval_df_t])\n",
    "\n",
    "# Set the column 'model' as an index\n",
    "eval_df_all = eval_df_all.set_index('model')"
   ]
  },
  {
   "cell_type": "markdown",
   "id": "f50bbfb1-3dea-4acf-bf3c-02ea3aaa8bd7",
   "metadata": {},
   "source": [
    "#### Display the results sorted by \"accuracy\""
   ]
  },
  {
   "cell_type": "code",
   "execution_count": 14,
   "id": "928ff706-6507-4dc9-af58-41c7c79f5171",
   "metadata": {
    "execution": {
     "iopub.execute_input": "2022-09-30T13:37:17.775843Z",
     "iopub.status.busy": "2022-09-30T13:37:17.775573Z",
     "iopub.status.idle": "2022-09-30T13:37:17.787687Z",
     "shell.execute_reply": "2022-09-30T13:37:17.786729Z",
     "shell.execute_reply.started": "2022-09-30T13:37:17.775824Z"
    },
    "tags": []
   },
   "outputs": [
    {
     "data": {
      "text/html": [
       "<div>\n",
       "<style scoped>\n",
       "    .dataframe tbody tr th:only-of-type {\n",
       "        vertical-align: middle;\n",
       "    }\n",
       "\n",
       "    .dataframe tbody tr th {\n",
       "        vertical-align: top;\n",
       "    }\n",
       "\n",
       "    .dataframe thead th {\n",
       "        text-align: right;\n",
       "    }\n",
       "</style>\n",
       "<table border=\"1\" class=\"dataframe\">\n",
       "  <thead>\n",
       "    <tr style=\"text-align: right;\">\n",
       "      <th></th>\n",
       "      <th>cv_best_score</th>\n",
       "      <th>f1_macro</th>\n",
       "      <th>accuracy</th>\n",
       "    </tr>\n",
       "    <tr>\n",
       "      <th>model</th>\n",
       "      <th></th>\n",
       "      <th></th>\n",
       "      <th></th>\n",
       "    </tr>\n",
       "  </thead>\n",
       "  <tbody>\n",
       "    <tr>\n",
       "      <th>dlm_max_rf</th>\n",
       "      <td>0.906037</td>\n",
       "      <td>0.882461</td>\n",
       "      <td>0.883363</td>\n",
       "    </tr>\n",
       "    <tr>\n",
       "      <th>mt_max_xgb</th>\n",
       "      <td>0.918308</td>\n",
       "      <td>0.880322</td>\n",
       "      <td>0.881602</td>\n",
       "    </tr>\n",
       "    <tr>\n",
       "      <th>dlm_max_xgb</th>\n",
       "      <td>0.913171</td>\n",
       "      <td>0.875029</td>\n",
       "      <td>0.876320</td>\n",
       "    </tr>\n",
       "    <tr>\n",
       "      <th>esm1b_mean_svm</th>\n",
       "      <td>0.951480</td>\n",
       "      <td>0.871616</td>\n",
       "      <td>0.871696</td>\n",
       "    </tr>\n",
       "    <tr>\n",
       "      <th>mt_avg_xgb</th>\n",
       "      <td>0.914170</td>\n",
       "      <td>0.868554</td>\n",
       "      <td>0.870158</td>\n",
       "    </tr>\n",
       "    <tr>\n",
       "      <th>mt_sum_xgb</th>\n",
       "      <td>0.913385</td>\n",
       "      <td>0.865448</td>\n",
       "      <td>0.867077</td>\n",
       "    </tr>\n",
       "    <tr>\n",
       "      <th>dlm_avg_rf</th>\n",
       "      <td>0.883705</td>\n",
       "      <td>0.864151</td>\n",
       "      <td>0.865757</td>\n",
       "    </tr>\n",
       "    <tr>\n",
       "      <th>dlm_avg_xgb</th>\n",
       "      <td>0.905822</td>\n",
       "      <td>0.858953</td>\n",
       "      <td>0.860915</td>\n",
       "    </tr>\n",
       "    <tr>\n",
       "      <th>dlm_sum_xgb</th>\n",
       "      <td>0.902968</td>\n",
       "      <td>0.856583</td>\n",
       "      <td>0.858715</td>\n",
       "    </tr>\n",
       "    <tr>\n",
       "      <th>esm1v_mean_svm</th>\n",
       "      <td>0.944309</td>\n",
       "      <td>0.857090</td>\n",
       "      <td>0.857280</td>\n",
       "    </tr>\n",
       "    <tr>\n",
       "      <th>mt_max_rf</th>\n",
       "      <td>0.914384</td>\n",
       "      <td>0.850791</td>\n",
       "      <td>0.852993</td>\n",
       "    </tr>\n",
       "    <tr>\n",
       "      <th>esm1b_mean_xgb</th>\n",
       "      <td>0.939274</td>\n",
       "      <td>0.851859</td>\n",
       "      <td>0.852955</td>\n",
       "    </tr>\n",
       "    <tr>\n",
       "      <th>mt_avg_rf</th>\n",
       "      <td>0.894193</td>\n",
       "      <td>0.850089</td>\n",
       "      <td>0.852113</td>\n",
       "    </tr>\n",
       "    <tr>\n",
       "      <th>mt_sum_rf</th>\n",
       "      <td>0.904681</td>\n",
       "      <td>0.848905</td>\n",
       "      <td>0.851232</td>\n",
       "    </tr>\n",
       "    <tr>\n",
       "      <th>dlm_sum_rf</th>\n",
       "      <td>0.896048</td>\n",
       "      <td>0.847374</td>\n",
       "      <td>0.849912</td>\n",
       "    </tr>\n",
       "    <tr>\n",
       "      <th>esm1v_mean_xgb</th>\n",
       "      <td>0.934163</td>\n",
       "      <td>0.847632</td>\n",
       "      <td>0.849111</td>\n",
       "    </tr>\n",
       "    <tr>\n",
       "      <th>mt_avg_svm</th>\n",
       "      <td>0.920306</td>\n",
       "      <td>0.847525</td>\n",
       "      <td>0.848592</td>\n",
       "    </tr>\n",
       "    <tr>\n",
       "      <th>mt_max_svm</th>\n",
       "      <td>0.917524</td>\n",
       "      <td>0.847299</td>\n",
       "      <td>0.847711</td>\n",
       "    </tr>\n",
       "    <tr>\n",
       "      <th>dlm_avg_svm</th>\n",
       "      <td>0.912101</td>\n",
       "      <td>0.842342</td>\n",
       "      <td>0.843310</td>\n",
       "    </tr>\n",
       "    <tr>\n",
       "      <th>esm1b_mean_lr</th>\n",
       "      <td>0.943851</td>\n",
       "      <td>0.842167</td>\n",
       "      <td>0.842383</td>\n",
       "    </tr>\n",
       "    <tr>\n",
       "      <th>dlm_sum_svm</th>\n",
       "      <td>0.898474</td>\n",
       "      <td>0.835355</td>\n",
       "      <td>0.835387</td>\n",
       "    </tr>\n",
       "    <tr>\n",
       "      <th>mt_avg_lr</th>\n",
       "      <td>0.913599</td>\n",
       "      <td>0.834348</td>\n",
       "      <td>0.835387</td>\n",
       "    </tr>\n",
       "    <tr>\n",
       "      <th>esm1v_mean_lr</th>\n",
       "      <td>0.932865</td>\n",
       "      <td>0.832080</td>\n",
       "      <td>0.832292</td>\n",
       "    </tr>\n",
       "    <tr>\n",
       "      <th>mt_sum_svm</th>\n",
       "      <td>0.910603</td>\n",
       "      <td>0.829827</td>\n",
       "      <td>0.830106</td>\n",
       "    </tr>\n",
       "    <tr>\n",
       "      <th>mt_max_lr</th>\n",
       "      <td>0.915098</td>\n",
       "      <td>0.827865</td>\n",
       "      <td>0.828345</td>\n",
       "    </tr>\n",
       "    <tr>\n",
       "      <th>dlm_max_lr</th>\n",
       "      <td>0.907963</td>\n",
       "      <td>0.827564</td>\n",
       "      <td>0.827905</td>\n",
       "    </tr>\n",
       "    <tr>\n",
       "      <th>dlm_max_svm</th>\n",
       "      <td>0.908462</td>\n",
       "      <td>0.826066</td>\n",
       "      <td>0.826585</td>\n",
       "    </tr>\n",
       "    <tr>\n",
       "      <th>dlm_sum_lr</th>\n",
       "      <td>0.899972</td>\n",
       "      <td>0.826088</td>\n",
       "      <td>0.826144</td>\n",
       "    </tr>\n",
       "    <tr>\n",
       "      <th>mt_sum_lr</th>\n",
       "      <td>0.907606</td>\n",
       "      <td>0.825466</td>\n",
       "      <td>0.825704</td>\n",
       "    </tr>\n",
       "    <tr>\n",
       "      <th>dlm_avg_lr</th>\n",
       "      <td>0.904681</td>\n",
       "      <td>0.824338</td>\n",
       "      <td>0.825264</td>\n",
       "    </tr>\n",
       "    <tr>\n",
       "      <th>esm1v_mean_rf</th>\n",
       "      <td>0.907309</td>\n",
       "      <td>0.798910</td>\n",
       "      <td>0.802499</td>\n",
       "    </tr>\n",
       "    <tr>\n",
       "      <th>esm1b_mean_rf</th>\n",
       "      <td>0.925542</td>\n",
       "      <td>0.796921</td>\n",
       "      <td>0.801057</td>\n",
       "    </tr>\n",
       "  </tbody>\n",
       "</table>\n",
       "</div>"
      ],
      "text/plain": [
       "                cv_best_score  f1_macro  accuracy\n",
       "model                                            \n",
       "dlm_max_rf           0.906037  0.882461  0.883363\n",
       "mt_max_xgb           0.918308  0.880322  0.881602\n",
       "dlm_max_xgb          0.913171  0.875029  0.876320\n",
       "esm1b_mean_svm       0.951480  0.871616  0.871696\n",
       "mt_avg_xgb           0.914170  0.868554  0.870158\n",
       "mt_sum_xgb           0.913385  0.865448  0.867077\n",
       "dlm_avg_rf           0.883705  0.864151  0.865757\n",
       "dlm_avg_xgb          0.905822  0.858953  0.860915\n",
       "dlm_sum_xgb          0.902968  0.856583  0.858715\n",
       "esm1v_mean_svm       0.944309  0.857090  0.857280\n",
       "mt_max_rf            0.914384  0.850791  0.852993\n",
       "esm1b_mean_xgb       0.939274  0.851859  0.852955\n",
       "mt_avg_rf            0.894193  0.850089  0.852113\n",
       "mt_sum_rf            0.904681  0.848905  0.851232\n",
       "dlm_sum_rf           0.896048  0.847374  0.849912\n",
       "esm1v_mean_xgb       0.934163  0.847632  0.849111\n",
       "mt_avg_svm           0.920306  0.847525  0.848592\n",
       "mt_max_svm           0.917524  0.847299  0.847711\n",
       "dlm_avg_svm          0.912101  0.842342  0.843310\n",
       "esm1b_mean_lr        0.943851  0.842167  0.842383\n",
       "dlm_sum_svm          0.898474  0.835355  0.835387\n",
       "mt_avg_lr            0.913599  0.834348  0.835387\n",
       "esm1v_mean_lr        0.932865  0.832080  0.832292\n",
       "mt_sum_svm           0.910603  0.829827  0.830106\n",
       "mt_max_lr            0.915098  0.827865  0.828345\n",
       "dlm_max_lr           0.907963  0.827564  0.827905\n",
       "dlm_max_svm          0.908462  0.826066  0.826585\n",
       "dlm_sum_lr           0.899972  0.826088  0.826144\n",
       "mt_sum_lr            0.907606  0.825466  0.825704\n",
       "dlm_avg_lr           0.904681  0.824338  0.825264\n",
       "esm1v_mean_rf        0.907309  0.798910  0.802499\n",
       "esm1b_mean_rf        0.925542  0.796921  0.801057"
      ]
     },
     "execution_count": 14,
     "metadata": {},
     "output_type": "execute_result"
    }
   ],
   "source": [
    "# Display the dataframe\n",
    "eval_df_all.sort_values(by=['accuracy'], ascending=False)"
   ]
  },
  {
   "cell_type": "markdown",
   "id": "831ed6b0-2cf3-4177-9d21-61f2b1a4617e",
   "metadata": {},
   "source": [
    "### Saving dataframe for future use"
   ]
  },
  {
   "cell_type": "code",
   "execution_count": 15,
   "id": "e485790d-908e-44f3-93ce-5ddcbb6a7c20",
   "metadata": {
    "execution": {
     "iopub.execute_input": "2022-09-30T13:39:07.496284Z",
     "iopub.status.busy": "2022-09-30T13:39:07.496017Z",
     "iopub.status.idle": "2022-09-30T13:39:07.522042Z",
     "shell.execute_reply": "2022-09-30T13:39:07.521205Z",
     "shell.execute_reply.started": "2022-09-30T13:39:07.496265Z"
    },
    "tags": []
   },
   "outputs": [],
   "source": [
    "TASK = 'DBP' if task == 'dna_binding' else task.upper()\n",
    "file_path = f'../../results/{TASK}_classifiers.csv'\n",
    "eval_df_all.to_csv(file_path)"
   ]
  },
  {
   "cell_type": "markdown",
   "id": "16e796ef-95f5-4cc7-a252-c05b2be86135",
   "metadata": {},
   "source": [
    "<br>\n",
    "\n",
    "When you need to work with the results from that file, read it with the parameter `index_col=`:   \n",
    "```python\n",
    "df = pd.read_csv(file_path, index_col='model')\n",
    "```"
   ]
  }
 ],
 "metadata": {
  "kernelspec": {
   "display_name": "proteins",
   "language": "python",
   "name": "conda-env-proteins-py"
  },
  "language_info": {
   "codemirror_mode": {
    "name": "ipython",
    "version": 3
   },
   "file_extension": ".py",
   "mimetype": "text/x-python",
   "name": "python",
   "nbconvert_exporter": "python",
   "pygments_lexer": "ipython3",
   "version": "3.9.13"
  },
  "widgets": {
   "application/vnd.jupyter.widget-state+json": {
    "state": {},
    "version_major": 2,
    "version_minor": 0
   }
  }
 },
 "nbformat": 4,
 "nbformat_minor": 5
}
