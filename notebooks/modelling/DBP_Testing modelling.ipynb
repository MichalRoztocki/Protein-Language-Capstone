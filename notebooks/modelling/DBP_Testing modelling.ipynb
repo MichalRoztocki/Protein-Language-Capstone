{
 "cells": [
  {
   "cell_type": "markdown",
   "id": "a6996cf1-5b97-45b2-920a-112afc130631",
   "metadata": {},
   "source": [
    "## DBP - Testing Modelling"
   ]
  },
  {
   "cell_type": "code",
   "execution_count": 29,
   "id": "108c50d5-7568-4d90-9ba8-daa6f72f49c9",
   "metadata": {
    "execution": {
     "iopub.execute_input": "2022-09-23T01:53:05.692817Z",
     "iopub.status.busy": "2022-09-23T01:53:05.692416Z",
     "iopub.status.idle": "2022-09-23T01:53:05.701661Z",
     "shell.execute_reply": "2022-09-23T01:53:05.700017Z",
     "shell.execute_reply.started": "2022-09-23T01:53:05.692791Z"
    },
    "tags": []
   },
   "outputs": [],
   "source": [
    "import os\n",
    "import numpy as np\n",
    "import pandas as pd\n",
    "import joblib\n",
    "\n",
    "from sklearn.model_selection import GridSearchCV, train_test_split,  StratifiedKFold\n",
    "\n",
    "from sklearn.svm import SVC\n",
    "from sklearn.ensemble import RandomForestClassifier\n",
    "from sklearn.naive_bayes import GaussianNB\n",
    "from sklearn.linear_model import LogisticRegression\n",
    "from sklearn.pipeline import make_pipeline\n",
    "from sklearn.preprocessing import MinMaxScaler\n",
    "from sklearn.decomposition import PCA\n",
    "# To visualize pipeline diagram - 'text', or 'diagram'\n",
    "from sklearn import set_config\n",
    "\n",
    "# Import XGBoost\n",
    "from xgboost import XGBClassifier\n",
    "\n",
    "import matplotlib.pyplot as plt\n",
    "# import numpy as np\n",
    "# import pandas as pd\n",
    "import seaborn as sns\n",
    "# Classification metrics\n",
    "from sklearn.metrics import confusion_matrix, classification_report, accuracy_score, f1_score\n",
    "\n",
    "random_state = 10"
   ]
  },
  {
   "cell_type": "code",
   "execution_count": 2,
   "id": "f149ee94-8f14-4edc-817a-b7e15624acce",
   "metadata": {
    "execution": {
     "iopub.execute_input": "2022-09-22T15:45:26.916382Z",
     "iopub.status.busy": "2022-09-22T15:45:26.916044Z",
     "iopub.status.idle": "2022-09-22T15:45:28.526341Z",
     "shell.execute_reply": "2022-09-22T15:45:28.525580Z",
     "shell.execute_reply.started": "2022-09-22T15:45:26.916364Z"
    },
    "tags": []
   },
   "outputs": [],
   "source": [
    "# Import the script from different folder\n",
    "import sys  \n",
    "sys.path.append('../../scripts')\n",
    "\n",
    "import file_utilities as fu\n",
    "import modelling_utilities as mu"
   ]
  },
  {
   "cell_type": "markdown",
   "id": "5216d3bc-e557-4bb4-8ef2-69e90b29ff77",
   "metadata": {},
   "source": [
    "#### Set the task"
   ]
  },
  {
   "cell_type": "code",
   "execution_count": 3,
   "id": "0d8545e5-9849-405d-b959-59eb9a6beacf",
   "metadata": {
    "execution": {
     "iopub.execute_input": "2022-09-22T15:45:35.603335Z",
     "iopub.status.busy": "2022-09-22T15:45:35.603046Z",
     "iopub.status.idle": "2022-09-22T15:45:35.607153Z",
     "shell.execute_reply": "2022-09-22T15:45:35.606290Z",
     "shell.execute_reply.started": "2022-09-22T15:45:35.603316Z"
    },
    "tags": []
   },
   "outputs": [],
   "source": [
    "# task - ['acp', 'amp', 'dna_binding']\n",
    "task = 'dna_binding'\n"
   ]
  },
  {
   "cell_type": "markdown",
   "id": "060b0c62-ea69-4577-901e-1b86e632fe98",
   "metadata": {},
   "source": [
    "#### Get embedding folders and fasta files for the task."
   ]
  },
  {
   "cell_type": "code",
   "execution_count": 4,
   "id": "ca536a8c-eef6-415a-b586-56b909890dd1",
   "metadata": {
    "execution": {
     "iopub.execute_input": "2022-09-22T15:45:45.015083Z",
     "iopub.status.busy": "2022-09-22T15:45:45.014807Z",
     "iopub.status.idle": "2022-09-22T15:45:45.509174Z",
     "shell.execute_reply": "2022-09-22T15:45:45.508407Z",
     "shell.execute_reply.started": "2022-09-22T15:45:45.015065Z"
    },
    "tags": []
   },
   "outputs": [],
   "source": [
    "pt_folders, fa_files = mu.get_emb_folders(task)"
   ]
  },
  {
   "cell_type": "code",
   "execution_count": 5,
   "id": "fff88972-8653-4213-bbaf-88810e2ea28e",
   "metadata": {
    "execution": {
     "iopub.execute_input": "2022-09-22T15:45:47.090701Z",
     "iopub.status.busy": "2022-09-22T15:45:47.090449Z",
     "iopub.status.idle": "2022-09-22T15:45:47.101719Z",
     "shell.execute_reply": "2022-09-22T15:45:47.100819Z",
     "shell.execute_reply.started": "2022-09-22T15:45:47.090683Z"
    },
    "tags": []
   },
   "outputs": [
    {
     "data": {
      "text/plain": [
       "[('../../data/dna_binding/esm/train/dbp_train_esm1b_mean',\n",
       "  '../../data/dna_binding/esm/test/dbp_test_esm1b_mean'),\n",
       " ('../../data/dna_binding/esm/train/dbp_train_esm1v_mean',\n",
       "  '../../data/dna_binding/esm/test/dbp_test_esm1v_mean'),\n",
       " ('../../data/dna_binding/prose/train/dbp_train_dlm_avg',\n",
       "  '../../data/dna_binding/prose/test/dbp_test_dlm_avg'),\n",
       " ('../../data/dna_binding/prose/train/dbp_train_dlm_max',\n",
       "  '../../data/dna_binding/prose/test/dbp_test_dlm_max'),\n",
       " ('../../data/dna_binding/prose/train/dbp_train_dlm_sum',\n",
       "  '../../data/dna_binding/prose/test/dbp_test_dlm_sum'),\n",
       " ('../../data/dna_binding/prose/train/dbp_train_mt_avg',\n",
       "  '../../data/dna_binding/prose/test/dbp_test_mt_avg'),\n",
       " ('../../data/dna_binding/prose/train/dbp_train_mt_max',\n",
       "  '../../data/dna_binding/prose/test/dbp_test_mt_max'),\n",
       " ('../../data/dna_binding/prose/train/dbp_train_mt_sum',\n",
       "  '../../data/dna_binding/prose/test/dbp_test_mt_sum')]"
      ]
     },
     "execution_count": 5,
     "metadata": {},
     "output_type": "execute_result"
    }
   ],
   "source": [
    "pt_folders"
   ]
  },
  {
   "cell_type": "code",
   "execution_count": 6,
   "id": "cee3e694-993c-4f5f-903d-2ee4f36a3922",
   "metadata": {
    "execution": {
     "iopub.execute_input": "2022-09-22T15:45:54.792994Z",
     "iopub.status.busy": "2022-09-22T15:45:54.792742Z",
     "iopub.status.idle": "2022-09-22T15:45:54.798114Z",
     "shell.execute_reply": "2022-09-22T15:45:54.797280Z",
     "shell.execute_reply.started": "2022-09-22T15:45:54.792976Z"
    },
    "tags": []
   },
   "outputs": [
    {
     "data": {
      "text/plain": [
       "[('../../data/dna_binding/train_esm.fa', '../../data/dna_binding/test_esm.fa'),\n",
       " ('../../data/dna_binding/train_prose.fa',\n",
       "  '../../data/dna_binding/test_prose.fa')]"
      ]
     },
     "execution_count": 6,
     "metadata": {},
     "output_type": "execute_result"
    }
   ],
   "source": [
    "fa_files"
   ]
  },
  {
   "cell_type": "code",
   "execution_count": null,
   "id": "39121a63-f5e7-451f-99ed-8b658c1c8078",
   "metadata": {},
   "outputs": [],
   "source": []
  },
  {
   "cell_type": "markdown",
   "id": "6c57e6be-bd8c-4023-8b0b-0d1f5ffb9161",
   "metadata": {},
   "source": [
    "### Define Pipelines"
   ]
  },
  {
   "cell_type": "code",
   "execution_count": 9,
   "id": "101624ba-c67b-417a-b636-7e96a262bcb6",
   "metadata": {
    "execution": {
     "iopub.execute_input": "2022-09-22T15:46:41.775284Z",
     "iopub.status.busy": "2022-09-22T15:46:41.775050Z",
     "iopub.status.idle": "2022-09-22T15:46:41.780630Z",
     "shell.execute_reply": "2022-09-22T15:46:41.779620Z",
     "shell.execute_reply.started": "2022-09-22T15:46:41.775267Z"
    },
    "tags": []
   },
   "outputs": [],
   "source": [
    "pipelines = {\n",
    "    'xgb' : make_pipeline(MinMaxScaler(), \n",
    "                          XGBClassifier(random_state=random_state)),\n",
    "    'lr' : make_pipeline(MinMaxScaler(),\n",
    "                         LogisticRegression(max_iter=25000, random_state=random_state)),    \n",
    "    'svm' : make_pipeline(MinMaxScaler(), \n",
    "                          SVC(random_state=random_state)),\n",
    "    'rf' : make_pipeline(MinMaxScaler(), \n",
    "                         RandomForestClassifier(random_state=random_state))\n",
    "}"
   ]
  },
  {
   "cell_type": "code",
   "execution_count": 31,
   "id": "1dbe028f-ef6d-46cb-891f-57222b7825f0",
   "metadata": {
    "execution": {
     "iopub.execute_input": "2022-09-23T01:53:46.519755Z",
     "iopub.status.busy": "2022-09-23T01:53:46.519483Z",
     "iopub.status.idle": "2022-09-23T01:53:46.524908Z",
     "shell.execute_reply": "2022-09-23T01:53:46.524031Z",
     "shell.execute_reply.started": "2022-09-23T01:53:46.519736Z"
    },
    "tags": []
   },
   "outputs": [],
   "source": [
    "num_pca_components = 1000\n",
    "pipelines = {\n",
    "    'xgb' : make_pipeline(MinMaxScaler(), \n",
    "                          PCA(num_pca_components),\n",
    "                          XGBClassifier(random_state=random_state)),\n",
    "    'lr' : make_pipeline(MinMaxScaler(),\n",
    "                         PCA(num_pca_components),\n",
    "                         LogisticRegression(max_iter=25000, random_state=random_state))   \n",
    "\n",
    "}"
   ]
  },
  {
   "cell_type": "markdown",
   "id": "f95f2601-fc3c-4a3e-865e-ccccdbfdf3c4",
   "metadata": {},
   "source": [
    "### Define Hyperparameter Grids"
   ]
  },
  {
   "cell_type": "code",
   "execution_count": 32,
   "id": "1300ab6a-edf9-4718-a372-9801901d43a3",
   "metadata": {
    "execution": {
     "iopub.execute_input": "2022-09-23T01:53:50.569638Z",
     "iopub.status.busy": "2022-09-23T01:53:50.569336Z",
     "iopub.status.idle": "2022-09-23T01:53:50.576056Z",
     "shell.execute_reply": "2022-09-23T01:53:50.574947Z",
     "shell.execute_reply.started": "2022-09-23T01:53:50.569617Z"
    },
    "tags": []
   },
   "outputs": [],
   "source": [
    "xgb_grid = {\n",
    "        'xgbclassifier__max_depth': [3, 5],\n",
    "         'xgbclassifier__n_estimators': [100, 200],\n",
    "        }\n",
    "\n",
    "svm_grid = {\n",
    "        'svc__kernel' : ['linear', 'rbf'],\n",
    "        'svc__C': [0.01, 0.1, 1]\n",
    "        #'svc__gamma': [5, 1, 0.1, 0.01]\n",
    "    }\n",
    "\n",
    "rf_grid = {\n",
    "        'randomforestclassifier__n_estimators' : [100, 150],\n",
    "        #'randomforestclassifier__max_features' : ['sqrt', 0.33],\n",
    "        'randomforestclassifier__min_samples_leaf' : [1, 3],\n",
    "        #'randomforestclassifier__criterion' : ['gini', 'entropy'],\n",
    "        'randomforestclassifier__min_samples_split' : [2, 3]\n",
    "    }\n",
    "\n",
    "lr_grid = {\n",
    "        'logisticregression__C' : [0.1, 1],\n",
    "        'logisticregression__solver' : ['lbfgs', 'saga']\n",
    "    }\n"
   ]
  },
  {
   "cell_type": "code",
   "execution_count": 33,
   "id": "d1dbf049-d5a4-46a4-b30a-a423094bb393",
   "metadata": {
    "execution": {
     "iopub.execute_input": "2022-09-23T01:53:51.408897Z",
     "iopub.status.busy": "2022-09-23T01:53:51.407847Z",
     "iopub.status.idle": "2022-09-23T01:53:51.413627Z",
     "shell.execute_reply": "2022-09-23T01:53:51.412441Z",
     "shell.execute_reply.started": "2022-09-23T01:53:51.408850Z"
    },
    "tags": []
   },
   "outputs": [],
   "source": [
    "# Create hyperparameter grids dictionary\n",
    "hp_grids = {\n",
    "    'lr' : lr_grid,\n",
    "    'svm' : svm_grid,\n",
    "    'rf' : rf_grid,\n",
    "    'xgb' : xgb_grid\n",
    "}"
   ]
  },
  {
   "cell_type": "code",
   "execution_count": null,
   "id": "048577de-cf29-435e-be57-8fb8e9d9a124",
   "metadata": {},
   "outputs": [],
   "source": []
  },
  {
   "cell_type": "markdown",
   "id": "68ac1c2a-14c4-4cfe-90f8-9912c8cc6414",
   "metadata": {},
   "source": [
    "## Modelling Loop"
   ]
  },
  {
   "cell_type": "code",
   "execution_count": 34,
   "id": "2c0eead5-f993-47db-b9a7-72588844b28c",
   "metadata": {
    "execution": {
     "iopub.execute_input": "2022-09-23T01:53:54.789252Z",
     "iopub.status.busy": "2022-09-23T01:53:54.788447Z",
     "iopub.status.idle": "2022-09-23T02:47:05.342539Z",
     "shell.execute_reply": "2022-09-23T02:47:05.339909Z",
     "shell.execute_reply.started": "2022-09-23T01:53:54.789225Z"
    },
    "tags": []
   },
   "outputs": [
    {
     "name": "stdout",
     "output_type": "stream",
     "text": [
      "---------------------------------------------------------------------------\n",
      "\tPretrained Model \"esm1v\" by ESM - Pooling Operation: \"mean\"\n",
      "---------------------------------------------------------------------------\n",
      "esm1v_mean_xgb has been fitted and saved\n",
      "esm1v_mean_lr has been fitted and saved\n",
      "---------------------------------------------------------------------------\n",
      "\tPretrained Model \"dlm\" by ProSE - Pooling Operation: \"avg\"\n",
      "---------------------------------------------------------------------------\n",
      "dlm_avg_xgb has been fitted and saved\n",
      "dlm_avg_lr has been fitted and saved\n"
     ]
    }
   ],
   "source": [
    "# Initialize dictionary to keep evaluation dataframes \n",
    "# One dataframe per embeddings folder (train+test, or all_data)\n",
    "df_models = {}\n",
    "\n",
    "#for i in range(len(pt_folders)):\n",
    "for i in range(1, 3):\n",
    "    \n",
    "    # Train\n",
    "    # second index: 0 - train, 1 - test\n",
    "    path_pt = pt_folders[i][0]\n",
    "    fa_idx = 0 if 'esm' in path_pt else 1\n",
    "    path_fa = fa_files[fa_idx][0]\n",
    "    pool = os.path.split(path_pt)[1].split('_')[-1]\n",
    "    emb_layer = 33 if 'esm' in path_pt else 'layer'\n",
    "    X_train, y_train, sequence_id_train = fu.read_embeddings(path_fa, path_pt, pool, emb_layer,print_dims=False)\n",
    "    \n",
    "    # Test\n",
    "    path_fa, path_pt = fa_files[fa_idx][1], pt_folders[i][1]\n",
    "    X_test, y_test, sequence_id_train = fu.read_embeddings(path_fa, path_pt, pool, emb_layer, print_dims=False)  \n",
    "\n",
    "    # Extensions for evaluations dataframes\n",
    "    df_ext = os.path.split(path_pt)[1].split('_', 1)[1].split('_', 1)[1]\n",
    "    \n",
    "    # Printing header\n",
    "    ptm = df_ext.split('_')[0]\n",
    "    ptr = 'ESM' if 'esm' in ptm else 'ProSE'\n",
    "    print('-' * 75)\n",
    "    print(f'\\tPretrained Model \"{ptm}\" by {ptr} - Pooling Operation: \"{pool}\"')\n",
    "    print('-' * 75)\n",
    "    \n",
    "    # Grid search and fit\n",
    "    fitted_models, cv_results = mu.fit_tune_CV(pipelines, hp_grids, 'accuracy', path_pt, X_train, y_train, task)\n",
    "    \n",
    "    # Evaluation\n",
    "    df_models[f'env_{df_ext}'] = mu.evaluation(fitted_models, X_test, y_test)\n",
    "  "
   ]
  },
  {
   "cell_type": "code",
   "execution_count": null,
   "id": "ec3e1ebc-9b96-4ff9-8e04-fc7b77f2a4d4",
   "metadata": {},
   "outputs": [],
   "source": []
  },
  {
   "cell_type": "code",
   "execution_count": null,
   "id": "40f1d62c-f9a5-401d-b53a-7d4d21adb8c2",
   "metadata": {},
   "outputs": [],
   "source": []
  },
  {
   "cell_type": "code",
   "execution_count": 35,
   "id": "7a1f36ac-cc28-4a82-9afa-c44ac9b79dd9",
   "metadata": {
    "execution": {
     "iopub.execute_input": "2022-09-23T02:48:34.552685Z",
     "iopub.status.busy": "2022-09-23T02:48:34.552216Z",
     "iopub.status.idle": "2022-09-23T02:48:34.586176Z",
     "shell.execute_reply": "2022-09-23T02:48:34.585175Z",
     "shell.execute_reply.started": "2022-09-23T02:48:34.552553Z"
    },
    "tags": []
   },
   "outputs": [
    {
     "data": {
      "text/plain": [
       "{'env_esm1v_mean':                 best_score  f1_macro  accuracy\n",
       " model                                         \n",
       " esm1v_mean_xgb    0.930883  0.841339  0.842864\n",
       " esm1v_mean_lr     0.931950  0.833042  0.833253,\n",
       " 'env_dlm_avg':              best_score  f1_macro  accuracy\n",
       " model                                      \n",
       " dlm_avg_xgb    0.905751  0.857198  0.859155\n",
       " dlm_avg_lr     0.904895  0.825514  0.826585}"
      ]
     },
     "execution_count": 35,
     "metadata": {},
     "output_type": "execute_result"
    }
   ],
   "source": [
    "df_models"
   ]
  },
  {
   "cell_type": "code",
   "execution_count": 36,
   "id": "ececf340-a583-450c-b359-5422a331bc53",
   "metadata": {
    "execution": {
     "iopub.execute_input": "2022-09-23T02:48:42.078097Z",
     "iopub.status.busy": "2022-09-23T02:48:42.077465Z",
     "iopub.status.idle": "2022-09-23T02:48:42.089280Z",
     "shell.execute_reply": "2022-09-23T02:48:42.088369Z",
     "shell.execute_reply.started": "2022-09-23T02:48:42.078072Z"
    },
    "tags": []
   },
   "outputs": [
    {
     "data": {
      "text/html": [
       "<div>\n",
       "<style scoped>\n",
       "    .dataframe tbody tr th:only-of-type {\n",
       "        vertical-align: middle;\n",
       "    }\n",
       "\n",
       "    .dataframe tbody tr th {\n",
       "        vertical-align: top;\n",
       "    }\n",
       "\n",
       "    .dataframe thead th {\n",
       "        text-align: right;\n",
       "    }\n",
       "</style>\n",
       "<table border=\"1\" class=\"dataframe\">\n",
       "  <thead>\n",
       "    <tr style=\"text-align: right;\">\n",
       "      <th></th>\n",
       "      <th>best_score</th>\n",
       "      <th>f1_macro</th>\n",
       "      <th>accuracy</th>\n",
       "    </tr>\n",
       "    <tr>\n",
       "      <th>model</th>\n",
       "      <th></th>\n",
       "      <th></th>\n",
       "      <th></th>\n",
       "    </tr>\n",
       "  </thead>\n",
       "  <tbody>\n",
       "    <tr>\n",
       "      <th>esm1v_mean_xgb</th>\n",
       "      <td>0.930883</td>\n",
       "      <td>0.841339</td>\n",
       "      <td>0.842864</td>\n",
       "    </tr>\n",
       "    <tr>\n",
       "      <th>esm1v_mean_lr</th>\n",
       "      <td>0.931950</td>\n",
       "      <td>0.833042</td>\n",
       "      <td>0.833253</td>\n",
       "    </tr>\n",
       "  </tbody>\n",
       "</table>\n",
       "</div>"
      ],
      "text/plain": [
       "                best_score  f1_macro  accuracy\n",
       "model                                         \n",
       "esm1v_mean_xgb    0.930883  0.841339  0.842864\n",
       "esm1v_mean_lr     0.931950  0.833042  0.833253"
      ]
     },
     "execution_count": 36,
     "metadata": {},
     "output_type": "execute_result"
    }
   ],
   "source": [
    "df_models['env_esm1v_mean']"
   ]
  },
  {
   "cell_type": "code",
   "execution_count": 37,
   "id": "041fd15c-8d8e-4f53-b986-03259c7ad9d7",
   "metadata": {
    "execution": {
     "iopub.execute_input": "2022-09-23T02:48:53.611477Z",
     "iopub.status.busy": "2022-09-23T02:48:53.611165Z",
     "iopub.status.idle": "2022-09-23T02:48:53.620314Z",
     "shell.execute_reply": "2022-09-23T02:48:53.619337Z",
     "shell.execute_reply.started": "2022-09-23T02:48:53.611457Z"
    },
    "tags": []
   },
   "outputs": [
    {
     "data": {
      "text/html": [
       "<div>\n",
       "<style scoped>\n",
       "    .dataframe tbody tr th:only-of-type {\n",
       "        vertical-align: middle;\n",
       "    }\n",
       "\n",
       "    .dataframe tbody tr th {\n",
       "        vertical-align: top;\n",
       "    }\n",
       "\n",
       "    .dataframe thead th {\n",
       "        text-align: right;\n",
       "    }\n",
       "</style>\n",
       "<table border=\"1\" class=\"dataframe\">\n",
       "  <thead>\n",
       "    <tr style=\"text-align: right;\">\n",
       "      <th></th>\n",
       "      <th>best_score</th>\n",
       "      <th>f1_macro</th>\n",
       "      <th>accuracy</th>\n",
       "    </tr>\n",
       "    <tr>\n",
       "      <th>model</th>\n",
       "      <th></th>\n",
       "      <th></th>\n",
       "      <th></th>\n",
       "    </tr>\n",
       "  </thead>\n",
       "  <tbody>\n",
       "    <tr>\n",
       "      <th>dlm_avg_xgb</th>\n",
       "      <td>0.905751</td>\n",
       "      <td>0.857198</td>\n",
       "      <td>0.859155</td>\n",
       "    </tr>\n",
       "    <tr>\n",
       "      <th>dlm_avg_lr</th>\n",
       "      <td>0.904895</td>\n",
       "      <td>0.825514</td>\n",
       "      <td>0.826585</td>\n",
       "    </tr>\n",
       "  </tbody>\n",
       "</table>\n",
       "</div>"
      ],
      "text/plain": [
       "             best_score  f1_macro  accuracy\n",
       "model                                      \n",
       "dlm_avg_xgb    0.905751  0.857198  0.859155\n",
       "dlm_avg_lr     0.904895  0.825514  0.826585"
      ]
     },
     "execution_count": 37,
     "metadata": {},
     "output_type": "execute_result"
    }
   ],
   "source": [
    "df_models['env_dlm_avg']"
   ]
  },
  {
   "cell_type": "code",
   "execution_count": null,
   "id": "2986c4cb-8d2c-4067-aebb-136c662000d1",
   "metadata": {},
   "outputs": [],
   "source": []
  },
  {
   "cell_type": "markdown",
   "id": "c4b13a3b-9815-4ccc-b798-95b3e46cedcc",
   "metadata": {},
   "source": [
    "## Collecting Evaluation Results into a DataFrame"
   ]
  },
  {
   "cell_type": "markdown",
   "id": "21268bd7-53a9-4c4a-bd99-138a0c7c2ac8",
   "metadata": {},
   "source": [
    "#### Merge all dataframes from the dictionary `df_models`"
   ]
  },
  {
   "cell_type": "code",
   "execution_count": 38,
   "id": "efef645f-0ba9-4f1f-bd6e-1a3be30d7e71",
   "metadata": {
    "execution": {
     "iopub.execute_input": "2022-09-23T02:49:01.597335Z",
     "iopub.status.busy": "2022-09-23T02:49:01.596999Z",
     "iopub.status.idle": "2022-09-23T02:49:01.611256Z",
     "shell.execute_reply": "2022-09-23T02:49:01.610229Z",
     "shell.execute_reply.started": "2022-09-23T02:49:01.597316Z"
    },
    "tags": []
   },
   "outputs": [],
   "source": [
    "# Create dataframe with evaluations for all models\n",
    "\n",
    "# initialize dataframe\n",
    "eval_df_all = pd.DataFrame()\n",
    "# concatenate all dataframes from dictionary df_models\n",
    "# Iterate through all dictionary keys \n",
    "for i in df_models.keys():\n",
    "    # Use a temporary dataframe to hold one iteraton's dataframe\n",
    "    eval_df_t = df_models[i].copy().reset_index()\n",
    "    eval_df_all = pd.concat([eval_df_all, eval_df_t])\n",
    "\n",
    "# Set the column 'model' as an index\n",
    "eval_df_all = eval_df_all.set_index('model')"
   ]
  },
  {
   "cell_type": "markdown",
   "id": "819361e7-8da4-4d14-b611-777289ec8f5d",
   "metadata": {},
   "source": [
    "#### Display the results."
   ]
  },
  {
   "cell_type": "code",
   "execution_count": 39,
   "id": "928ff706-6507-4dc9-af58-41c7c79f5171",
   "metadata": {
    "execution": {
     "iopub.execute_input": "2022-09-23T02:49:04.114030Z",
     "iopub.status.busy": "2022-09-23T02:49:04.113703Z",
     "iopub.status.idle": "2022-09-23T02:49:04.124686Z",
     "shell.execute_reply": "2022-09-23T02:49:04.123623Z",
     "shell.execute_reply.started": "2022-09-23T02:49:04.114005Z"
    },
    "tags": []
   },
   "outputs": [
    {
     "data": {
      "text/html": [
       "<div>\n",
       "<style scoped>\n",
       "    .dataframe tbody tr th:only-of-type {\n",
       "        vertical-align: middle;\n",
       "    }\n",
       "\n",
       "    .dataframe tbody tr th {\n",
       "        vertical-align: top;\n",
       "    }\n",
       "\n",
       "    .dataframe thead th {\n",
       "        text-align: right;\n",
       "    }\n",
       "</style>\n",
       "<table border=\"1\" class=\"dataframe\">\n",
       "  <thead>\n",
       "    <tr style=\"text-align: right;\">\n",
       "      <th></th>\n",
       "      <th>best_score</th>\n",
       "      <th>f1_macro</th>\n",
       "      <th>accuracy</th>\n",
       "    </tr>\n",
       "    <tr>\n",
       "      <th>model</th>\n",
       "      <th></th>\n",
       "      <th></th>\n",
       "      <th></th>\n",
       "    </tr>\n",
       "  </thead>\n",
       "  <tbody>\n",
       "    <tr>\n",
       "      <th>esm1v_mean_xgb</th>\n",
       "      <td>0.930883</td>\n",
       "      <td>0.841339</td>\n",
       "      <td>0.842864</td>\n",
       "    </tr>\n",
       "    <tr>\n",
       "      <th>esm1v_mean_lr</th>\n",
       "      <td>0.931950</td>\n",
       "      <td>0.833042</td>\n",
       "      <td>0.833253</td>\n",
       "    </tr>\n",
       "    <tr>\n",
       "      <th>dlm_avg_xgb</th>\n",
       "      <td>0.905751</td>\n",
       "      <td>0.857198</td>\n",
       "      <td>0.859155</td>\n",
       "    </tr>\n",
       "    <tr>\n",
       "      <th>dlm_avg_lr</th>\n",
       "      <td>0.904895</td>\n",
       "      <td>0.825514</td>\n",
       "      <td>0.826585</td>\n",
       "    </tr>\n",
       "  </tbody>\n",
       "</table>\n",
       "</div>"
      ],
      "text/plain": [
       "                best_score  f1_macro  accuracy\n",
       "model                                         \n",
       "esm1v_mean_xgb    0.930883  0.841339  0.842864\n",
       "esm1v_mean_lr     0.931950  0.833042  0.833253\n",
       "dlm_avg_xgb       0.905751  0.857198  0.859155\n",
       "dlm_avg_lr        0.904895  0.825514  0.826585"
      ]
     },
     "execution_count": 39,
     "metadata": {},
     "output_type": "execute_result"
    }
   ],
   "source": [
    "# Display the dataframe\n",
    "eval_df_all"
   ]
  },
  {
   "cell_type": "code",
   "execution_count": 27,
   "id": "73e5ed36-969e-4a65-bc76-d4f0929e0d5a",
   "metadata": {
    "execution": {
     "iopub.execute_input": "2022-09-23T01:50:56.254569Z",
     "iopub.status.busy": "2022-09-23T01:50:56.254211Z",
     "iopub.status.idle": "2022-09-23T01:50:56.264926Z",
     "shell.execute_reply": "2022-09-23T01:50:56.263712Z",
     "shell.execute_reply.started": "2022-09-23T01:50:56.254549Z"
    }
   },
   "outputs": [
    {
     "data": {
      "text/html": [
       "<div>\n",
       "<style scoped>\n",
       "    .dataframe tbody tr th:only-of-type {\n",
       "        vertical-align: middle;\n",
       "    }\n",
       "\n",
       "    .dataframe tbody tr th {\n",
       "        vertical-align: top;\n",
       "    }\n",
       "\n",
       "    .dataframe thead th {\n",
       "        text-align: right;\n",
       "    }\n",
       "</style>\n",
       "<table border=\"1\" class=\"dataframe\">\n",
       "  <thead>\n",
       "    <tr style=\"text-align: right;\">\n",
       "      <th></th>\n",
       "      <th>best_score</th>\n",
       "      <th>f1_macro</th>\n",
       "      <th>accuracy</th>\n",
       "    </tr>\n",
       "    <tr>\n",
       "      <th>model</th>\n",
       "      <th></th>\n",
       "      <th></th>\n",
       "      <th></th>\n",
       "    </tr>\n",
       "  </thead>\n",
       "  <tbody>\n",
       "    <tr>\n",
       "      <th>esm1v_mean_xgb</th>\n",
       "      <td>0.935230</td>\n",
       "      <td>0.846940</td>\n",
       "      <td>0.848150</td>\n",
       "    </tr>\n",
       "    <tr>\n",
       "      <th>esm1v_mean_lr</th>\n",
       "      <td>0.933399</td>\n",
       "      <td>0.836427</td>\n",
       "      <td>0.836617</td>\n",
       "    </tr>\n",
       "    <tr>\n",
       "      <th>dlm_avg_xgb</th>\n",
       "      <td>0.915169</td>\n",
       "      <td>0.865985</td>\n",
       "      <td>0.867518</td>\n",
       "    </tr>\n",
       "    <tr>\n",
       "      <th>dlm_avg_lr</th>\n",
       "      <td>0.910959</td>\n",
       "      <td>0.832193</td>\n",
       "      <td>0.833627</td>\n",
       "    </tr>\n",
       "  </tbody>\n",
       "</table>\n",
       "</div>"
      ],
      "text/plain": [
       "                best_score  f1_macro  accuracy\n",
       "model                                         \n",
       "esm1v_mean_xgb    0.935230  0.846940  0.848150\n",
       "esm1v_mean_lr     0.933399  0.836427  0.836617\n",
       "dlm_avg_xgb       0.915169  0.865985  0.867518\n",
       "dlm_avg_lr        0.910959  0.832193  0.833627"
      ]
     },
     "execution_count": 27,
     "metadata": {},
     "output_type": "execute_result"
    }
   ],
   "source": [
    "eval_df_all_nopca = eval_df_all\n",
    "eval_df_all_nopca"
   ]
  },
  {
   "cell_type": "code",
   "execution_count": null,
   "id": "72c69d26-cd26-4bee-9149-9deada46b296",
   "metadata": {},
   "outputs": [],
   "source": []
  },
  {
   "cell_type": "code",
   "execution_count": null,
   "id": "946d613f-ff21-42cd-8a50-a9214d545adb",
   "metadata": {},
   "outputs": [],
   "source": []
  }
 ],
 "metadata": {
  "kernelspec": {
   "display_name": "sa",
   "language": "python",
   "name": "conda-env-sa-py"
  },
  "language_info": {
   "codemirror_mode": {
    "name": "ipython",
    "version": 3
   },
   "file_extension": ".py",
   "mimetype": "text/x-python",
   "name": "python",
   "nbconvert_exporter": "python",
   "pygments_lexer": "ipython3",
   "version": "3.8.13"
  },
  "widgets": {
   "application/vnd.jupyter.widget-state+json": {
    "state": {},
    "version_major": 2,
    "version_minor": 0
   }
  }
 },
 "nbformat": 4,
 "nbformat_minor": 5
}
