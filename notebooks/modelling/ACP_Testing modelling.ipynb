{
 "cells": [
  {
   "cell_type": "markdown",
   "id": "a6996cf1-5b97-45b2-920a-112afc130631",
   "metadata": {},
   "source": [
    "## ACP - Testing Modelling"
   ]
  },
  {
   "cell_type": "code",
   "execution_count": 1,
   "id": "108c50d5-7568-4d90-9ba8-daa6f72f49c9",
   "metadata": {
    "execution": {
     "iopub.execute_input": "2022-09-23T14:28:14.803168Z",
     "iopub.status.busy": "2022-09-23T14:28:14.802852Z",
     "iopub.status.idle": "2022-09-23T14:28:16.723521Z",
     "shell.execute_reply": "2022-09-23T14:28:16.722542Z",
     "shell.execute_reply.started": "2022-09-23T14:28:14.803107Z"
    },
    "tags": []
   },
   "outputs": [],
   "source": [
    "import os\n",
    "import numpy as np\n",
    "import pandas as pd\n",
    "import joblib\n",
    "\n",
    "from sklearn.model_selection import GridSearchCV, train_test_split,  StratifiedKFold\n",
    "\n",
    "from sklearn.svm import SVC\n",
    "from sklearn.ensemble import RandomForestClassifier\n",
    "from sklearn.naive_bayes import GaussianNB\n",
    "from sklearn.linear_model import LogisticRegression\n",
    "from sklearn.pipeline import make_pipeline\n",
    "from sklearn.preprocessing import MinMaxScaler\n",
    "from sklearn.decomposition import PCA\n",
    "# To visualize pipeline diagram - 'text', or 'diagram'\n",
    "from sklearn import set_config\n",
    "\n",
    "# Import XGBoost\n",
    "from xgboost import XGBClassifier\n",
    "\n",
    "import matplotlib.pyplot as plt\n",
    "# import numpy as np\n",
    "# import pandas as pd\n",
    "import seaborn as sns\n",
    "# Classification metrics\n",
    "from sklearn.metrics import confusion_matrix, classification_report, accuracy_score, f1_score\n",
    "\n",
    "random_state = 10"
   ]
  },
  {
   "cell_type": "code",
   "execution_count": 2,
   "id": "f149ee94-8f14-4edc-817a-b7e15624acce",
   "metadata": {
    "execution": {
     "iopub.execute_input": "2022-09-23T14:28:17.162446Z",
     "iopub.status.busy": "2022-09-23T14:28:17.162025Z",
     "iopub.status.idle": "2022-09-23T14:28:18.572297Z",
     "shell.execute_reply": "2022-09-23T14:28:18.571497Z",
     "shell.execute_reply.started": "2022-09-23T14:28:17.162424Z"
    },
    "tags": []
   },
   "outputs": [],
   "source": [
    "# Import the script from different folder\n",
    "import sys  \n",
    "sys.path.append('../../scripts')\n",
    "\n",
    "import file_utilities as fu\n",
    "import modelling_utilities as mu"
   ]
  },
  {
   "cell_type": "markdown",
   "id": "5216d3bc-e557-4bb4-8ef2-69e90b29ff77",
   "metadata": {},
   "source": [
    "#### Set the task"
   ]
  },
  {
   "cell_type": "code",
   "execution_count": 3,
   "id": "0d8545e5-9849-405d-b959-59eb9a6beacf",
   "metadata": {
    "execution": {
     "iopub.execute_input": "2022-09-23T14:28:24.618094Z",
     "iopub.status.busy": "2022-09-23T14:28:24.616873Z",
     "iopub.status.idle": "2022-09-23T14:28:24.622584Z",
     "shell.execute_reply": "2022-09-23T14:28:24.621382Z",
     "shell.execute_reply.started": "2022-09-23T14:28:24.618046Z"
    },
    "tags": []
   },
   "outputs": [],
   "source": [
    "# task - ['acp', 'amp', 'dna_binding']\n",
    "task = 'acp'"
   ]
  },
  {
   "cell_type": "markdown",
   "id": "060b0c62-ea69-4577-901e-1b86e632fe98",
   "metadata": {},
   "source": [
    "#### Get embedding folders and fasta files for the task."
   ]
  },
  {
   "cell_type": "code",
   "execution_count": 4,
   "id": "ca536a8c-eef6-415a-b586-56b909890dd1",
   "metadata": {
    "execution": {
     "iopub.execute_input": "2022-09-23T14:28:30.485504Z",
     "iopub.status.busy": "2022-09-23T14:28:30.485203Z",
     "iopub.status.idle": "2022-09-23T14:28:30.702330Z",
     "shell.execute_reply": "2022-09-23T14:28:30.701407Z",
     "shell.execute_reply.started": "2022-09-23T14:28:30.485482Z"
    },
    "tags": []
   },
   "outputs": [],
   "source": [
    "pt_folders, fa_files = mu.get_emb_folders(task)"
   ]
  },
  {
   "cell_type": "code",
   "execution_count": 5,
   "id": "fff88972-8653-4213-bbaf-88810e2ea28e",
   "metadata": {
    "execution": {
     "iopub.execute_input": "2022-09-23T14:28:32.478084Z",
     "iopub.status.busy": "2022-09-23T14:28:32.477812Z",
     "iopub.status.idle": "2022-09-23T14:28:32.488147Z",
     "shell.execute_reply": "2022-09-23T14:28:32.487069Z",
     "shell.execute_reply.started": "2022-09-23T14:28:32.478064Z"
    },
    "tags": []
   },
   "outputs": [
    {
     "data": {
      "text/plain": [
       "[('../../data/acp/esm/train/acp_train_esm1b_mean',\n",
       "  '../../data/acp/esm/test/acp_test_esm1b_mean'),\n",
       " ('../../data/acp/esm/train/acp_train_esm1v_mean',\n",
       "  '../../data/acp/esm/test/acp_test_esm1v_mean'),\n",
       " ('../../data/acp/prose/train/acp_train_dlm_avg',\n",
       "  '../../data/acp/prose/test/acp_test_dlm_avg'),\n",
       " ('../../data/acp/prose/train/acp_train_dlm_max',\n",
       "  '../../data/acp/prose/test/acp_test_dlm_max'),\n",
       " ('../../data/acp/prose/train/acp_train_dlm_sum',\n",
       "  '../../data/acp/prose/test/acp_test_dlm_sum'),\n",
       " ('../../data/acp/prose/train/acp_train_mt_avg',\n",
       "  '../../data/acp/prose/test/acp_test_mt_avg'),\n",
       " ('../../data/acp/prose/train/acp_train_mt_max',\n",
       "  '../../data/acp/prose/test/acp_test_mt_max'),\n",
       " ('../../data/acp/prose/train/acp_train_mt_sum',\n",
       "  '../../data/acp/prose/test/acp_test_mt_sum')]"
      ]
     },
     "execution_count": 5,
     "metadata": {},
     "output_type": "execute_result"
    }
   ],
   "source": [
    "pt_folders"
   ]
  },
  {
   "cell_type": "code",
   "execution_count": 6,
   "id": "cee3e694-993c-4f5f-903d-2ee4f36a3922",
   "metadata": {
    "execution": {
     "iopub.execute_input": "2022-09-23T14:28:39.013270Z",
     "iopub.status.busy": "2022-09-23T14:28:39.012952Z",
     "iopub.status.idle": "2022-09-23T14:28:39.019683Z",
     "shell.execute_reply": "2022-09-23T14:28:39.018670Z",
     "shell.execute_reply.started": "2022-09-23T14:28:39.013249Z"
    },
    "tags": []
   },
   "outputs": [
    {
     "data": {
      "text/plain": [
       "[('../../data/acp/train_data.fa', '../../data/acp/test_data.fa')]"
      ]
     },
     "execution_count": 6,
     "metadata": {},
     "output_type": "execute_result"
    }
   ],
   "source": [
    "fa_files"
   ]
  },
  {
   "cell_type": "markdown",
   "id": "6c57e6be-bd8c-4023-8b0b-0d1f5ffb9161",
   "metadata": {},
   "source": [
    "### Define Pipelines"
   ]
  },
  {
   "cell_type": "code",
   "execution_count": 7,
   "id": "101624ba-c67b-417a-b636-7e96a262bcb6",
   "metadata": {
    "execution": {
     "iopub.execute_input": "2022-09-23T14:28:45.197261Z",
     "iopub.status.busy": "2022-09-23T14:28:45.196975Z",
     "iopub.status.idle": "2022-09-23T14:28:45.202669Z",
     "shell.execute_reply": "2022-09-23T14:28:45.201750Z",
     "shell.execute_reply.started": "2022-09-23T14:28:45.197239Z"
    },
    "tags": []
   },
   "outputs": [],
   "source": [
    "num_pca_components = 1000\n",
    "pipelines = {\n",
    "    'xgb' : make_pipeline(MinMaxScaler(), \n",
    "                          PCA(num_pca_components),\n",
    "                          XGBClassifier(random_state=random_state)),\n",
    "    'lr' : make_pipeline(MinMaxScaler(),\n",
    "                         PCA(num_pca_components),\n",
    "                         LogisticRegression(max_iter=25000, random_state=random_state)),    \n",
    "    'svm' : make_pipeline(MinMaxScaler(),\n",
    "                          PCA(num_pca_components),\n",
    "                          SVC(random_state=random_state)),\n",
    "    'rf' : make_pipeline(MinMaxScaler(),\n",
    "                         PCA(num_pca_components),\n",
    "                         RandomForestClassifier(random_state=random_state))\n",
    "}"
   ]
  },
  {
   "cell_type": "code",
   "execution_count": 8,
   "id": "9938b9a2-3742-4f1f-a9de-36d7863615ba",
   "metadata": {
    "execution": {
     "iopub.execute_input": "2022-09-22T22:10:04.074966Z",
     "iopub.status.busy": "2022-09-22T22:10:04.074685Z",
     "iopub.status.idle": "2022-09-22T22:10:04.080902Z",
     "shell.execute_reply": "2022-09-22T22:10:04.079285Z",
     "shell.execute_reply.started": "2022-09-22T22:10:04.074947Z"
    },
    "tags": []
   },
   "outputs": [],
   "source": [
    "# pipelines = {\n",
    "#     'xgb' : make_pipeline(MinMaxScaler(), \n",
    "#                           XGBClassifier(random_state=random_state)),\n",
    "#     'lr' : make_pipeline(MinMaxScaler(),\n",
    "#                          LogisticRegression(max_iter=25000, random_state=random_state))\n",
    "# }"
   ]
  },
  {
   "cell_type": "markdown",
   "id": "f95f2601-fc3c-4a3e-865e-ccccdbfdf3c4",
   "metadata": {},
   "source": [
    "### Define Hyperparameter Grids"
   ]
  },
  {
   "cell_type": "code",
   "execution_count": 8,
   "id": "1300ab6a-edf9-4718-a372-9801901d43a3",
   "metadata": {
    "execution": {
     "iopub.execute_input": "2022-09-23T14:28:54.521959Z",
     "iopub.status.busy": "2022-09-23T14:28:54.521652Z",
     "iopub.status.idle": "2022-09-23T14:28:54.527310Z",
     "shell.execute_reply": "2022-09-23T14:28:54.526409Z",
     "shell.execute_reply.started": "2022-09-23T14:28:54.521937Z"
    },
    "tags": []
   },
   "outputs": [],
   "source": [
    "xgb_grid = {\n",
    "        'xgbclassifier__max_depth': [3, 5],\n",
    "         'xgbclassifier__n_estimators': [100, 200],\n",
    "        }\n",
    "\n",
    "svm_grid = {\n",
    "        'svc__kernel' : ['linear', 'rbf'],\n",
    "        'svc__C': [0.01, 0.1, 1]\n",
    "        #'svc__gamma': [5, 1, 0.1]\n",
    "    }\n",
    "\n",
    "rf_grid = {\n",
    "        'randomforestclassifier__n_estimators' : [100, 150],\n",
    "        #'randomforestclassifier__max_features' : ['sqrt', 0.33],\n",
    "        'randomforestclassifier__min_samples_leaf' : [1, 3],\n",
    "        #'randomforestclassifier__criterion' : ['gini', 'entropy'],\n",
    "        'randomforestclassifier__min_samples_split' : [2, 3]\n",
    "    }\n",
    "\n",
    "lr_grid = {\n",
    "        'logisticregression__C' : [0.1, 1],\n",
    "        'logisticregression__solver' : ['lbfgs', 'saga']\n",
    "    }\n"
   ]
  },
  {
   "cell_type": "code",
   "execution_count": 9,
   "id": "d1dbf049-d5a4-46a4-b30a-a423094bb393",
   "metadata": {
    "execution": {
     "iopub.execute_input": "2022-09-23T14:29:03.594160Z",
     "iopub.status.busy": "2022-09-23T14:29:03.593853Z",
     "iopub.status.idle": "2022-09-23T14:29:03.598554Z",
     "shell.execute_reply": "2022-09-23T14:29:03.597631Z",
     "shell.execute_reply.started": "2022-09-23T14:29:03.594139Z"
    },
    "tags": []
   },
   "outputs": [],
   "source": [
    "# Create hyperparameter grids dictionary\n",
    "hp_grids = {\n",
    "    'lr' : lr_grid,\n",
    "    'svm' : svm_grid,\n",
    "    'rf' : rf_grid,\n",
    "    'xgb' : xgb_grid\n",
    "}"
   ]
  },
  {
   "cell_type": "code",
   "execution_count": null,
   "id": "048577de-cf29-435e-be57-8fb8e9d9a124",
   "metadata": {},
   "outputs": [],
   "source": []
  },
  {
   "cell_type": "markdown",
   "id": "68ac1c2a-14c4-4cfe-90f8-9912c8cc6414",
   "metadata": {},
   "source": [
    "## Modelling Loop"
   ]
  },
  {
   "cell_type": "code",
   "execution_count": 10,
   "id": "2c0eead5-f993-47db-b9a7-72588844b28c",
   "metadata": {
    "execution": {
     "iopub.execute_input": "2022-09-23T14:29:18.484635Z",
     "iopub.status.busy": "2022-09-23T14:29:18.484298Z",
     "iopub.status.idle": "2022-09-23T15:07:25.496047Z",
     "shell.execute_reply": "2022-09-23T15:07:25.492951Z",
     "shell.execute_reply.started": "2022-09-23T14:29:18.484613Z"
    },
    "tags": []
   },
   "outputs": [
    {
     "name": "stdout",
     "output_type": "stream",
     "text": [
      "---------------------------------------------------------------------------\n",
      "\tPretrained Model \"esm1b\" by ESM - Pooling Operation: \"mean\"\n",
      "---------------------------------------------------------------------------\n",
      "esm1b_mean_xgb has been fitted and saved\n",
      "esm1b_mean_lr has been fitted and saved\n",
      "esm1b_mean_svm has been fitted and saved\n",
      "esm1b_mean_rf has been fitted and saved\n",
      "---------------------------------------------------------------------------\n",
      "\tPretrained Model \"esm1v\" by ESM - Pooling Operation: \"mean\"\n",
      "---------------------------------------------------------------------------\n",
      "esm1v_mean_xgb has been fitted and saved\n",
      "esm1v_mean_lr has been fitted and saved\n",
      "esm1v_mean_svm has been fitted and saved\n",
      "esm1v_mean_rf has been fitted and saved\n",
      "---------------------------------------------------------------------------\n",
      "\tPretrained Model \"dlm\" by ProSE - Pooling Operation: \"avg\"\n",
      "---------------------------------------------------------------------------\n",
      "dlm_avg_xgb has been fitted and saved\n",
      "dlm_avg_lr has been fitted and saved\n",
      "dlm_avg_svm has been fitted and saved\n",
      "dlm_avg_rf has been fitted and saved\n",
      "---------------------------------------------------------------------------\n",
      "\tPretrained Model \"dlm\" by ProSE - Pooling Operation: \"max\"\n",
      "---------------------------------------------------------------------------\n",
      "dlm_max_xgb has been fitted and saved\n",
      "dlm_max_lr has been fitted and saved\n",
      "dlm_max_svm has been fitted and saved\n",
      "dlm_max_rf has been fitted and saved\n",
      "---------------------------------------------------------------------------\n",
      "\tPretrained Model \"dlm\" by ProSE - Pooling Operation: \"sum\"\n",
      "---------------------------------------------------------------------------\n",
      "dlm_sum_xgb has been fitted and saved\n",
      "dlm_sum_lr has been fitted and saved\n",
      "dlm_sum_svm has been fitted and saved\n",
      "dlm_sum_rf has been fitted and saved\n",
      "---------------------------------------------------------------------------\n",
      "\tPretrained Model \"mt\" by ProSE - Pooling Operation: \"avg\"\n",
      "---------------------------------------------------------------------------\n",
      "mt_avg_xgb has been fitted and saved\n",
      "mt_avg_lr has been fitted and saved\n",
      "mt_avg_svm has been fitted and saved\n",
      "mt_avg_rf has been fitted and saved\n",
      "---------------------------------------------------------------------------\n",
      "\tPretrained Model \"mt\" by ProSE - Pooling Operation: \"max\"\n",
      "---------------------------------------------------------------------------\n",
      "mt_max_xgb has been fitted and saved\n",
      "mt_max_lr has been fitted and saved\n",
      "mt_max_svm has been fitted and saved\n",
      "mt_max_rf has been fitted and saved\n",
      "---------------------------------------------------------------------------\n",
      "\tPretrained Model \"mt\" by ProSE - Pooling Operation: \"sum\"\n",
      "---------------------------------------------------------------------------\n",
      "mt_sum_xgb has been fitted and saved\n",
      "mt_sum_lr has been fitted and saved\n",
      "mt_sum_svm has been fitted and saved\n",
      "mt_sum_rf has been fitted and saved\n"
     ]
    }
   ],
   "source": [
    "# Initialize dictionary to keep evaluation dataframes \n",
    "# One dataframe per embeddings folder (train+test, or all_data)\n",
    "df_models = {}\n",
    "\n",
    "for i in range(len(pt_folders)):\n",
    "## for i in range(1,3):\n",
    "    \n",
    "    # Train\n",
    "    # second index: 0 - train, 1 - test\n",
    "    path_fa, path_pt = fa_files[0][0], pt_folders[i][0]\n",
    "    pool = os.path.split(path_pt)[1].split('_')[-1]\n",
    "    emb_layer = 33 if 'esm' in path_pt else 'layer'\n",
    "    X_train, y_train, sequence_id_train = fu.read_embeddings(path_fa, path_pt, pool, emb_layer,print_dims=False)\n",
    "    \n",
    "    # Test\n",
    "    path_fa, path_pt = fa_files[0][1], pt_folders[i][1]\n",
    "    X_test, y_test, sequence_id_train = fu.read_embeddings(path_fa, path_pt, pool, emb_layer, print_dims=False)  \n",
    "\n",
    "    # Extensions for evaluations dataframes\n",
    "    df_ext = os.path.split(path_pt)[1].split('_', 1)[1].split('_', 1)[1]\n",
    "    \n",
    "    # Printing header\n",
    "    ptm = df_ext.split('_')[0]\n",
    "    ptr = 'ESM' if 'esm' in ptm else 'ProSE'\n",
    "    print('-' * 75)\n",
    "    print(f'\\tPretrained Model \"{ptm}\" by {ptr} - Pooling Operation: \"{pool}\"')\n",
    "    print('-' * 75)\n",
    "    \n",
    "    # Grid search and fit\n",
    "    fitted_models, cv_results = mu.fit_tune_CV(pipelines, hp_grids, 'accuracy', path_pt, X_train, y_train, task)\n",
    "    \n",
    "    # Evaluation\n",
    "    df_models[f'env_{df_ext}'] = mu.evaluation(fitted_models, X_test, y_test)\n",
    "  "
   ]
  },
  {
   "cell_type": "code",
   "execution_count": null,
   "id": "ec3e1ebc-9b96-4ff9-8e04-fc7b77f2a4d4",
   "metadata": {},
   "outputs": [],
   "source": []
  },
  {
   "cell_type": "code",
   "execution_count": null,
   "id": "40f1d62c-f9a5-401d-b53a-7d4d21adb8c2",
   "metadata": {},
   "outputs": [],
   "source": []
  },
  {
   "cell_type": "code",
   "execution_count": 12,
   "id": "7a1f36ac-cc28-4a82-9afa-c44ac9b79dd9",
   "metadata": {
    "execution": {
     "iopub.execute_input": "2022-09-23T15:20:24.571591Z",
     "iopub.status.busy": "2022-09-23T15:20:24.571306Z",
     "iopub.status.idle": "2022-09-23T15:20:24.577608Z",
     "shell.execute_reply": "2022-09-23T15:20:24.576844Z",
     "shell.execute_reply.started": "2022-09-23T15:20:24.571570Z"
    },
    "tags": []
   },
   "outputs": [
    {
     "data": {
      "text/plain": [
       "dict_keys(['env_esm1b_mean', 'env_esm1v_mean', 'env_dlm_avg', 'env_dlm_max', 'env_dlm_sum', 'env_mt_avg', 'env_mt_max', 'env_mt_sum'])"
      ]
     },
     "execution_count": 12,
     "metadata": {},
     "output_type": "execute_result"
    }
   ],
   "source": [
    "df_models.keys()"
   ]
  },
  {
   "cell_type": "code",
   "execution_count": 13,
   "id": "ececf340-a583-450c-b359-5422a331bc53",
   "metadata": {
    "execution": {
     "iopub.execute_input": "2022-09-23T15:21:16.259666Z",
     "iopub.status.busy": "2022-09-23T15:21:16.259395Z",
     "iopub.status.idle": "2022-09-23T15:21:16.269678Z",
     "shell.execute_reply": "2022-09-23T15:21:16.268800Z",
     "shell.execute_reply.started": "2022-09-23T15:21:16.259646Z"
    },
    "tags": []
   },
   "outputs": [
    {
     "data": {
      "text/html": [
       "<div>\n",
       "<style scoped>\n",
       "    .dataframe tbody tr th:only-of-type {\n",
       "        vertical-align: middle;\n",
       "    }\n",
       "\n",
       "    .dataframe tbody tr th {\n",
       "        vertical-align: top;\n",
       "    }\n",
       "\n",
       "    .dataframe thead th {\n",
       "        text-align: right;\n",
       "    }\n",
       "</style>\n",
       "<table border=\"1\" class=\"dataframe\">\n",
       "  <thead>\n",
       "    <tr style=\"text-align: right;\">\n",
       "      <th></th>\n",
       "      <th>best_score</th>\n",
       "      <th>f1_macro</th>\n",
       "      <th>accuracy</th>\n",
       "    </tr>\n",
       "    <tr>\n",
       "      <th>model</th>\n",
       "      <th></th>\n",
       "      <th></th>\n",
       "      <th></th>\n",
       "    </tr>\n",
       "  </thead>\n",
       "  <tbody>\n",
       "    <tr>\n",
       "      <th>mt_avg_xgb</th>\n",
       "      <td>0.707531</td>\n",
       "      <td>0.703478</td>\n",
       "      <td>0.703488</td>\n",
       "    </tr>\n",
       "    <tr>\n",
       "      <th>mt_avg_lr</th>\n",
       "      <td>0.741665</td>\n",
       "      <td>0.735445</td>\n",
       "      <td>0.735465</td>\n",
       "    </tr>\n",
       "    <tr>\n",
       "      <th>mt_avg_svm</th>\n",
       "      <td>0.754003</td>\n",
       "      <td>0.746920</td>\n",
       "      <td>0.747093</td>\n",
       "    </tr>\n",
       "    <tr>\n",
       "      <th>mt_avg_rf</th>\n",
       "      <td>0.664746</td>\n",
       "      <td>0.706095</td>\n",
       "      <td>0.706395</td>\n",
       "    </tr>\n",
       "  </tbody>\n",
       "</table>\n",
       "</div>"
      ],
      "text/plain": [
       "            best_score  f1_macro  accuracy\n",
       "model                                     \n",
       "mt_avg_xgb    0.707531  0.703478  0.703488\n",
       "mt_avg_lr     0.741665  0.735445  0.735465\n",
       "mt_avg_svm    0.754003  0.746920  0.747093\n",
       "mt_avg_rf     0.664746  0.706095  0.706395"
      ]
     },
     "execution_count": 13,
     "metadata": {},
     "output_type": "execute_result"
    }
   ],
   "source": [
    "df_models['env_mt_avg']"
   ]
  },
  {
   "cell_type": "code",
   "execution_count": null,
   "id": "2986c4cb-8d2c-4067-aebb-136c662000d1",
   "metadata": {},
   "outputs": [],
   "source": []
  },
  {
   "cell_type": "markdown",
   "id": "a011561a-1e58-45d8-94e0-63c23688be20",
   "metadata": {},
   "source": [
    "## Collecting Evaluation Results into a DataFrame"
   ]
  },
  {
   "cell_type": "markdown",
   "id": "15a3c4f1-900b-4244-9c09-0d98aa87cdc7",
   "metadata": {},
   "source": [
    "#### Merge all dataframes from the dictionary `df_models`"
   ]
  },
  {
   "cell_type": "code",
   "execution_count": 15,
   "id": "efef645f-0ba9-4f1f-bd6e-1a3be30d7e71",
   "metadata": {
    "execution": {
     "iopub.execute_input": "2022-09-23T15:21:52.698004Z",
     "iopub.status.busy": "2022-09-23T15:21:52.697521Z",
     "iopub.status.idle": "2022-09-23T15:21:52.715428Z",
     "shell.execute_reply": "2022-09-23T15:21:52.714393Z",
     "shell.execute_reply.started": "2022-09-23T15:21:52.697976Z"
    },
    "tags": []
   },
   "outputs": [],
   "source": [
    "# Create dataframe with evaluations for all models\n",
    "\n",
    "# initialize dataframe\n",
    "eval_df_all = pd.DataFrame()\n",
    "# concatenate all dataframes from dictionary df_models\n",
    "# Iterate through all dictionary keys \n",
    "for i in df_models.keys():\n",
    "    # Use a temporary dataframe to hold one iteraton's dataframe\n",
    "    eval_df_t = df_models[i].copy().reset_index()\n",
    "    eval_df_all = pd.concat([eval_df_all, eval_df_t])\n",
    "\n",
    "# Set the column 'model' as an index\n",
    "eval_df_all = eval_df_all.set_index('model')"
   ]
  },
  {
   "cell_type": "markdown",
   "id": "bb4b36ba-4f5e-49ea-a883-bffbedc6ec71",
   "metadata": {},
   "source": [
    "#### Display the results sorted by \"accuracy\""
   ]
  },
  {
   "cell_type": "code",
   "execution_count": 19,
   "id": "928ff706-6507-4dc9-af58-41c7c79f5171",
   "metadata": {
    "execution": {
     "iopub.execute_input": "2022-09-23T15:27:09.723862Z",
     "iopub.status.busy": "2022-09-23T15:27:09.723130Z",
     "iopub.status.idle": "2022-09-23T15:27:09.739260Z",
     "shell.execute_reply": "2022-09-23T15:27:09.738070Z",
     "shell.execute_reply.started": "2022-09-23T15:27:09.723833Z"
    },
    "tags": []
   },
   "outputs": [
    {
     "data": {
      "text/html": [
       "<div>\n",
       "<style scoped>\n",
       "    .dataframe tbody tr th:only-of-type {\n",
       "        vertical-align: middle;\n",
       "    }\n",
       "\n",
       "    .dataframe tbody tr th {\n",
       "        vertical-align: top;\n",
       "    }\n",
       "\n",
       "    .dataframe thead th {\n",
       "        text-align: right;\n",
       "    }\n",
       "</style>\n",
       "<table border=\"1\" class=\"dataframe\">\n",
       "  <thead>\n",
       "    <tr style=\"text-align: right;\">\n",
       "      <th></th>\n",
       "      <th>best_score</th>\n",
       "      <th>f1_macro</th>\n",
       "      <th>accuracy</th>\n",
       "    </tr>\n",
       "    <tr>\n",
       "      <th>model</th>\n",
       "      <th></th>\n",
       "      <th></th>\n",
       "      <th></th>\n",
       "    </tr>\n",
       "  </thead>\n",
       "  <tbody>\n",
       "    <tr>\n",
       "      <th>dlm_avg_svm</th>\n",
       "      <td>0.757621</td>\n",
       "      <td>0.749966</td>\n",
       "      <td>0.750000</td>\n",
       "    </tr>\n",
       "    <tr>\n",
       "      <th>mt_avg_svm</th>\n",
       "      <td>0.754003</td>\n",
       "      <td>0.746920</td>\n",
       "      <td>0.747093</td>\n",
       "    </tr>\n",
       "    <tr>\n",
       "      <th>dlm_max_svm</th>\n",
       "      <td>0.766321</td>\n",
       "      <td>0.741277</td>\n",
       "      <td>0.741279</td>\n",
       "    </tr>\n",
       "    <tr>\n",
       "      <th>dlm_sum_xgb</th>\n",
       "      <td>0.711900</td>\n",
       "      <td>0.734961</td>\n",
       "      <td>0.735465</td>\n",
       "    </tr>\n",
       "    <tr>\n",
       "      <th>mt_avg_lr</th>\n",
       "      <td>0.741665</td>\n",
       "      <td>0.735445</td>\n",
       "      <td>0.735465</td>\n",
       "    </tr>\n",
       "    <tr>\n",
       "      <th>dlm_avg_xgb</th>\n",
       "      <td>0.702466</td>\n",
       "      <td>0.732477</td>\n",
       "      <td>0.732558</td>\n",
       "    </tr>\n",
       "    <tr>\n",
       "      <th>dlm_avg_lr</th>\n",
       "      <td>0.743839</td>\n",
       "      <td>0.732477</td>\n",
       "      <td>0.732558</td>\n",
       "    </tr>\n",
       "    <tr>\n",
       "      <th>esm1b_mean_svm</th>\n",
       "      <td>0.743837</td>\n",
       "      <td>0.729466</td>\n",
       "      <td>0.729651</td>\n",
       "    </tr>\n",
       "    <tr>\n",
       "      <th>esm1v_mean_svm</th>\n",
       "      <td>0.729318</td>\n",
       "      <td>0.729136</td>\n",
       "      <td>0.729651</td>\n",
       "    </tr>\n",
       "    <tr>\n",
       "      <th>mt_sum_xgb</th>\n",
       "      <td>0.706819</td>\n",
       "      <td>0.725622</td>\n",
       "      <td>0.726744</td>\n",
       "    </tr>\n",
       "    <tr>\n",
       "      <th>mt_max_svm</th>\n",
       "      <td>0.749657</td>\n",
       "      <td>0.723161</td>\n",
       "      <td>0.723837</td>\n",
       "    </tr>\n",
       "    <tr>\n",
       "      <th>dlm_max_lr</th>\n",
       "      <td>0.756177</td>\n",
       "      <td>0.723779</td>\n",
       "      <td>0.723837</td>\n",
       "    </tr>\n",
       "    <tr>\n",
       "      <th>esm1b_mean_lr</th>\n",
       "      <td>0.750358</td>\n",
       "      <td>0.723835</td>\n",
       "      <td>0.723837</td>\n",
       "    </tr>\n",
       "    <tr>\n",
       "      <th>dlm_avg_rf</th>\n",
       "      <td>0.651673</td>\n",
       "      <td>0.722125</td>\n",
       "      <td>0.723837</td>\n",
       "    </tr>\n",
       "    <tr>\n",
       "      <th>mt_sum_svm</th>\n",
       "      <td>0.730817</td>\n",
       "      <td>0.719565</td>\n",
       "      <td>0.720930</td>\n",
       "    </tr>\n",
       "    <tr>\n",
       "      <th>mt_sum_lr</th>\n",
       "      <td>0.735141</td>\n",
       "      <td>0.719784</td>\n",
       "      <td>0.720930</td>\n",
       "    </tr>\n",
       "    <tr>\n",
       "      <th>dlm_sum_lr</th>\n",
       "      <td>0.735860</td>\n",
       "      <td>0.717160</td>\n",
       "      <td>0.718023</td>\n",
       "    </tr>\n",
       "    <tr>\n",
       "      <th>dlm_sum_svm</th>\n",
       "      <td>0.736559</td>\n",
       "      <td>0.717486</td>\n",
       "      <td>0.718023</td>\n",
       "    </tr>\n",
       "    <tr>\n",
       "      <th>esm1v_mean_lr</th>\n",
       "      <td>0.730042</td>\n",
       "      <td>0.715116</td>\n",
       "      <td>0.715116</td>\n",
       "    </tr>\n",
       "    <tr>\n",
       "      <th>mt_max_lr</th>\n",
       "      <td>0.745315</td>\n",
       "      <td>0.711798</td>\n",
       "      <td>0.712209</td>\n",
       "    </tr>\n",
       "    <tr>\n",
       "      <th>mt_sum_rf</th>\n",
       "      <td>0.631373</td>\n",
       "      <td>0.709145</td>\n",
       "      <td>0.709302</td>\n",
       "    </tr>\n",
       "    <tr>\n",
       "      <th>dlm_max_xgb</th>\n",
       "      <td>0.702466</td>\n",
       "      <td>0.704467</td>\n",
       "      <td>0.709302</td>\n",
       "    </tr>\n",
       "    <tr>\n",
       "      <th>esm1b_mean_rf</th>\n",
       "      <td>0.636398</td>\n",
       "      <td>0.707880</td>\n",
       "      <td>0.709302</td>\n",
       "    </tr>\n",
       "    <tr>\n",
       "      <th>mt_avg_rf</th>\n",
       "      <td>0.664746</td>\n",
       "      <td>0.706095</td>\n",
       "      <td>0.706395</td>\n",
       "    </tr>\n",
       "    <tr>\n",
       "      <th>mt_avg_xgb</th>\n",
       "      <td>0.707531</td>\n",
       "      <td>0.703478</td>\n",
       "      <td>0.703488</td>\n",
       "    </tr>\n",
       "    <tr>\n",
       "      <th>mt_max_xgb</th>\n",
       "      <td>0.702456</td>\n",
       "      <td>0.696683</td>\n",
       "      <td>0.700581</td>\n",
       "    </tr>\n",
       "    <tr>\n",
       "      <th>dlm_sum_rf</th>\n",
       "      <td>0.640801</td>\n",
       "      <td>0.694765</td>\n",
       "      <td>0.694767</td>\n",
       "    </tr>\n",
       "    <tr>\n",
       "      <th>esm1b_mean_xgb</th>\n",
       "      <td>0.714116</td>\n",
       "      <td>0.694765</td>\n",
       "      <td>0.694767</td>\n",
       "    </tr>\n",
       "    <tr>\n",
       "      <th>esm1v_mean_rf</th>\n",
       "      <td>0.628469</td>\n",
       "      <td>0.681175</td>\n",
       "      <td>0.683140</td>\n",
       "    </tr>\n",
       "    <tr>\n",
       "      <th>esm1v_mean_xgb</th>\n",
       "      <td>0.687963</td>\n",
       "      <td>0.676864</td>\n",
       "      <td>0.677326</td>\n",
       "    </tr>\n",
       "    <tr>\n",
       "      <th>dlm_max_rf</th>\n",
       "      <td>0.604509</td>\n",
       "      <td>0.662238</td>\n",
       "      <td>0.671512</td>\n",
       "    </tr>\n",
       "    <tr>\n",
       "      <th>mt_max_rf</th>\n",
       "      <td>0.595794</td>\n",
       "      <td>0.630702</td>\n",
       "      <td>0.648256</td>\n",
       "    </tr>\n",
       "  </tbody>\n",
       "</table>\n",
       "</div>"
      ],
      "text/plain": [
       "                best_score  f1_macro  accuracy\n",
       "model                                         \n",
       "dlm_avg_svm       0.757621  0.749966  0.750000\n",
       "mt_avg_svm        0.754003  0.746920  0.747093\n",
       "dlm_max_svm       0.766321  0.741277  0.741279\n",
       "dlm_sum_xgb       0.711900  0.734961  0.735465\n",
       "mt_avg_lr         0.741665  0.735445  0.735465\n",
       "dlm_avg_xgb       0.702466  0.732477  0.732558\n",
       "dlm_avg_lr        0.743839  0.732477  0.732558\n",
       "esm1b_mean_svm    0.743837  0.729466  0.729651\n",
       "esm1v_mean_svm    0.729318  0.729136  0.729651\n",
       "mt_sum_xgb        0.706819  0.725622  0.726744\n",
       "mt_max_svm        0.749657  0.723161  0.723837\n",
       "dlm_max_lr        0.756177  0.723779  0.723837\n",
       "esm1b_mean_lr     0.750358  0.723835  0.723837\n",
       "dlm_avg_rf        0.651673  0.722125  0.723837\n",
       "mt_sum_svm        0.730817  0.719565  0.720930\n",
       "mt_sum_lr         0.735141  0.719784  0.720930\n",
       "dlm_sum_lr        0.735860  0.717160  0.718023\n",
       "dlm_sum_svm       0.736559  0.717486  0.718023\n",
       "esm1v_mean_lr     0.730042  0.715116  0.715116\n",
       "mt_max_lr         0.745315  0.711798  0.712209\n",
       "mt_sum_rf         0.631373  0.709145  0.709302\n",
       "dlm_max_xgb       0.702466  0.704467  0.709302\n",
       "esm1b_mean_rf     0.636398  0.707880  0.709302\n",
       "mt_avg_rf         0.664746  0.706095  0.706395\n",
       "mt_avg_xgb        0.707531  0.703478  0.703488\n",
       "mt_max_xgb        0.702456  0.696683  0.700581\n",
       "dlm_sum_rf        0.640801  0.694765  0.694767\n",
       "esm1b_mean_xgb    0.714116  0.694765  0.694767\n",
       "esm1v_mean_rf     0.628469  0.681175  0.683140\n",
       "esm1v_mean_xgb    0.687963  0.676864  0.677326\n",
       "dlm_max_rf        0.604509  0.662238  0.671512\n",
       "mt_max_rf         0.595794  0.630702  0.648256"
      ]
     },
     "execution_count": 19,
     "metadata": {},
     "output_type": "execute_result"
    }
   ],
   "source": [
    "# Display the dataframe\n",
    "eval_df_all.sort_values(by=['accuracy'], ascending=False)"
   ]
  },
  {
   "cell_type": "markdown",
   "id": "d793f9b7-0a51-41af-8de7-ca88858f107f",
   "metadata": {},
   "source": [
    "# SAVE DATAFRAME !!!!"
   ]
  },
  {
   "cell_type": "code",
   "execution_count": null,
   "id": "e485790d-908e-44f3-93ce-5ddcbb6a7c20",
   "metadata": {},
   "outputs": [],
   "source": []
  }
 ],
 "metadata": {
  "kernelspec": {
   "display_name": "sa",
   "language": "python",
   "name": "conda-env-sa-py"
  },
  "language_info": {
   "codemirror_mode": {
    "name": "ipython",
    "version": 3
   },
   "file_extension": ".py",
   "mimetype": "text/x-python",
   "name": "python",
   "nbconvert_exporter": "python",
   "pygments_lexer": "ipython3",
   "version": "3.8.13"
  },
  "widgets": {
   "application/vnd.jupyter.widget-state+json": {
    "state": {},
    "version_major": 2,
    "version_minor": 0
   }
  }
 },
 "nbformat": 4,
 "nbformat_minor": 5
}
