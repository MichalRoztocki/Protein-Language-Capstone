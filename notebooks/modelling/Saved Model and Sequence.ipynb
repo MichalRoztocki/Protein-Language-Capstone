{
 "cells": [
  {
   "cell_type": "markdown",
   "id": "8c0dcfd7-29d5-47c7-b30b-89145753bc7f",
   "metadata": {},
   "source": [
    "## Working with saved model and Sequence"
   ]
  },
  {
   "cell_type": "code",
   "execution_count": 5,
   "id": "108c50d5-7568-4d90-9ba8-daa6f72f49c9",
   "metadata": {
    "execution": {
     "iopub.execute_input": "2022-09-17T00:46:14.436056Z",
     "iopub.status.busy": "2022-09-17T00:46:14.435737Z",
     "iopub.status.idle": "2022-09-17T00:46:14.441452Z",
     "shell.execute_reply": "2022-09-17T00:46:14.440434Z",
     "shell.execute_reply.started": "2022-09-17T00:46:14.436033Z"
    },
    "tags": []
   },
   "outputs": [],
   "source": [
    "import os"
   ]
  },
  {
   "cell_type": "code",
   "execution_count": 6,
   "id": "f149ee94-8f14-4edc-817a-b7e15624acce",
   "metadata": {
    "execution": {
     "iopub.execute_input": "2022-09-17T00:46:17.983394Z",
     "iopub.status.busy": "2022-09-17T00:46:17.983124Z",
     "iopub.status.idle": "2022-09-17T00:46:19.479573Z",
     "shell.execute_reply": "2022-09-17T00:46:19.478826Z",
     "shell.execute_reply.started": "2022-09-17T00:46:17.983374Z"
    },
    "tags": []
   },
   "outputs": [],
   "source": [
    "# Import the script from different folder\n",
    "import sys  \n",
    "sys.path.append('../scripts')\n",
    "\n",
    "import file_utilities as fu"
   ]
  },
  {
   "cell_type": "markdown",
   "id": "b0c9687a-bf2e-46e7-8444-a7a15c0e954a",
   "metadata": {},
   "source": [
    "## ProSE embeddings\n"
   ]
  },
  {
   "cell_type": "markdown",
   "id": "a1178ecc-9a4c-4e64-8a84-ce0c827ee119",
   "metadata": {},
   "source": [
    "Initiaize arguments"
   ]
  },
  {
   "cell_type": "code",
   "execution_count": 12,
   "id": "accc113a-1d21-4733-9cc7-b3a550643d91",
   "metadata": {
    "execution": {
     "iopub.execute_input": "2022-09-17T00:51:37.298342Z",
     "iopub.status.busy": "2022-09-17T00:51:37.298025Z",
     "iopub.status.idle": "2022-09-17T00:51:37.303189Z",
     "shell.execute_reply": "2022-09-17T00:51:37.302329Z",
     "shell.execute_reply.started": "2022-09-17T00:51:37.298320Z"
    },
    "tags": []
   },
   "outputs": [],
   "source": [
    "# Define arguments for the file_paths function\n",
    "task = 'acp'\n",
    "ptmodel = 'prose'\n",
    "file_base = 'train'\n",
    "model = 'prose_dlm'\n",
    "emb_layer = 'layer'\n",
    "pool = 'avg'  \n"
   ]
  },
  {
   "cell_type": "markdown",
   "id": "22286530-5684-479f-a789-24580cc74f8c",
   "metadata": {},
   "source": [
    "<br>\n",
    "\n",
    "## Train Dataset"
   ]
  },
  {
   "cell_type": "markdown",
   "id": "f9965d9c-c1a0-4c53-8501-99da644ae432",
   "metadata": {},
   "source": [
    "### ProSE DLM model - prose_dlm"
   ]
  },
  {
   "cell_type": "markdown",
   "id": "c55b6f57-1554-461f-b0f8-a2e82bbf1bb3",
   "metadata": {
    "tags": []
   },
   "source": [
    "- **Pooling Operation:  `avg`**"
   ]
  },
  {
   "cell_type": "markdown",
   "id": "104804ad-e39a-4240-80b9-edc7da4a4923",
   "metadata": {},
   "source": [
    "Run the script `file_paths` to prepare paths. The default root data folder is *../data*."
   ]
  },
  {
   "cell_type": "code",
   "execution_count": 18,
   "id": "d6bcadce-2f90-4d8a-a45a-f8743e2ae328",
   "metadata": {
    "execution": {
     "iopub.execute_input": "2022-09-17T01:13:11.646496Z",
     "iopub.status.busy": "2022-09-17T01:13:11.646138Z",
     "iopub.status.idle": "2022-09-17T01:13:11.654656Z",
     "shell.execute_reply": "2022-09-17T01:13:11.653749Z",
     "shell.execute_reply.started": "2022-09-17T01:13:11.646471Z"
    },
    "tags": []
   },
   "outputs": [
    {
     "name": "stdout",
     "output_type": "stream",
     "text": [
      " ../data/acp/train_data.fa \n",
      " ../data/acp/prose/train/acp_train_dlm_avg\n"
     ]
    }
   ],
   "source": [
    "# Prepare paths\n",
    "path_pt, _, path_fa = fu.file_paths(ptmodel, task, file_base, model, pool)\n",
    "print('', path_fa, '\\n', path_pt)"
   ]
  },
  {
   "cell_type": "markdown",
   "id": "6fbc14a4-f8d8-4747-afd6-2a40c4f237ce",
   "metadata": {},
   "source": [
    "### Creating classifier path"
   ]
  },
  {
   "cell_type": "code",
   "execution_count": 60,
   "id": "9a1648a9-2fbf-44c6-a98f-e562d634d1d1",
   "metadata": {
    "execution": {
     "iopub.execute_input": "2022-09-14T02:27:40.923273Z",
     "iopub.status.busy": "2022-09-14T02:27:40.922881Z",
     "iopub.status.idle": "2022-09-14T02:27:40.939166Z",
     "shell.execute_reply": "2022-09-14T02:27:40.938013Z",
     "shell.execute_reply.started": "2022-09-14T02:27:40.923223Z"
    },
    "tags": []
   },
   "outputs": [
    {
     "data": {
      "text/plain": [
       "'../saved_models/acp_dlm_avg_xgb.h5'"
      ]
     },
     "execution_count": 60,
     "metadata": {},
     "output_type": "execute_result"
    }
   ],
   "source": [
    "# check what to use joblib(.sav), PyTorch (.pt), Keras(.h5) or something else\n",
    "\n",
    "clf = ['rf', 'lr', 'xgb', 'dl', 'knn']\n",
    "\n",
    "tail = os.path.split(path_pt)[1].split('_')\n",
    "tail.pop(1)\n",
    "\n",
    "model_name = f'{\"_\".join(tail)}_{clf[2]}.h5'\n",
    "model_path = os.path.join('../saved_models', model_name)\n",
    "model_path"
   ]
  },
  {
   "cell_type": "code",
   "execution_count": null,
   "id": "2cc9acf6-e367-4dd6-b2d2-56be0ee1724b",
   "metadata": {},
   "outputs": [],
   "source": []
  },
  {
   "cell_type": "code",
   "execution_count": 61,
   "id": "2b1578f4-45b7-4255-97ff-c3e7f11734b1",
   "metadata": {
    "execution": {
     "iopub.execute_input": "2022-09-14T02:37:40.007513Z",
     "iopub.status.busy": "2022-09-14T02:37:40.007244Z",
     "iopub.status.idle": "2022-09-14T02:37:40.015204Z",
     "shell.execute_reply": "2022-09-14T02:37:40.014143Z",
     "shell.execute_reply.started": "2022-09-14T02:37:40.007494Z"
    }
   },
   "outputs": [
    {
     "data": {
      "text/plain": [
       "25"
      ]
     },
     "execution_count": 61,
     "metadata": {},
     "output_type": "execute_result"
    }
   ],
   "source": [
    "toks = ['L', 'A', 'G', 'V', 'S', 'E', 'R', 'T', 'I', 'D', 'P', 'K', 'Q', 'N', 'F', 'Y', 'M', 'H', 'W', 'C', 'X', 'B', 'U', 'Z', 'O']\n",
    "len(toks)"
   ]
  },
  {
   "cell_type": "markdown",
   "id": "046ba306-de63-47bf-b98e-ce42ed1645f8",
   "metadata": {},
   "source": [
    "### Get the length and generate the sequence"
   ]
  },
  {
   "cell_type": "code",
   "execution_count": 77,
   "id": "43fe26e0-c09b-472e-b2aa-f9c91d2757f3",
   "metadata": {
    "execution": {
     "iopub.execute_input": "2022-09-14T02:52:45.338459Z",
     "iopub.status.busy": "2022-09-14T02:52:45.337591Z",
     "iopub.status.idle": "2022-09-14T02:52:45.344234Z",
     "shell.execute_reply": "2022-09-14T02:52:45.343252Z",
     "shell.execute_reply.started": "2022-09-14T02:52:45.338436Z"
    },
    "tags": []
   },
   "outputs": [],
   "source": [
    "\n",
    "import random\n",
    "def seq_generator(n_toks):\n",
    "    toks = ['L', 'A', 'G', 'V', 'S', 'E', 'R', 'T', 'I', 'D', 'P', 'K', 'Q', 'N', 'F', 'Y', 'M', 'H', 'W', 'C', 'X', 'B', 'U', 'Z', 'O']\n",
    "    seq = ''\n",
    "    start, end = 0, 24\n",
    "    for i in range(n_toks):\n",
    "        seq = f'{seq}{toks[random.randint(start, end)]}'\n",
    "    return seq"
   ]
  },
  {
   "cell_type": "code",
   "execution_count": 86,
   "id": "e227fa29-66e2-4c9b-818f-2eb961ac57c8",
   "metadata": {
    "execution": {
     "iopub.execute_input": "2022-09-14T03:06:36.145827Z",
     "iopub.status.busy": "2022-09-14T03:06:36.145525Z",
     "iopub.status.idle": "2022-09-14T03:06:36.151500Z",
     "shell.execute_reply": "2022-09-14T03:06:36.150518Z",
     "shell.execute_reply.started": "2022-09-14T03:06:36.145806Z"
    },
    "tags": []
   },
   "outputs": [
    {
     "data": {
      "text/plain": [
       "'CYASGYYRDKIFNKZZMEUXYEZETAVVTKDLEFQOBQNTOXULTHWHAMDEIQIVACZOKTWWBKXQSZFGZVDXOQHTFOQQSCBIBCYWAOPWVROFMKAQSZRVCGQDHKQCIEGGZBODHMVHOAMARPUHYGPEYXIAR'"
      ]
     },
     "execution_count": 86,
     "metadata": {},
     "output_type": "execute_result"
    }
   ],
   "source": [
    "n_toks = 145\n",
    "seq_generator(n_toks)"
   ]
  },
  {
   "cell_type": "code",
   "execution_count": 98,
   "id": "f83065cc-a122-4f43-b33f-32d069dbc81f",
   "metadata": {
    "execution": {
     "iopub.execute_input": "2022-09-14T03:40:30.895940Z",
     "iopub.status.busy": "2022-09-14T03:40:30.895480Z",
     "iopub.status.idle": "2022-09-14T03:40:30.900556Z",
     "shell.execute_reply": "2022-09-14T03:40:30.899575Z",
     "shell.execute_reply.started": "2022-09-14T03:40:30.895914Z"
    },
    "tags": []
   },
   "outputs": [],
   "source": [
    "path_fa = 'in_sequence.fa'\n",
    "path_h5 = 'in_sequence.h5'\n",
    "path_pt = 'in_sequence'"
   ]
  },
  {
   "cell_type": "markdown",
   "id": "9c522193-3285-4724-919d-bd5a64b774c9",
   "metadata": {},
   "source": [
    "### Create fasta file"
   ]
  },
  {
   "cell_type": "code",
   "execution_count": null,
   "id": "5c7296f5-7952-409d-aa5c-e20e54932c2e",
   "metadata": {
    "execution": {
     "iopub.execute_input": "2022-09-14T03:06:49.313185Z",
     "iopub.status.busy": "2022-09-14T03:06:49.312247Z",
     "iopub.status.idle": "2022-09-14T03:06:49.319588Z",
     "shell.execute_reply": "2022-09-14T03:06:49.318347Z",
     "shell.execute_reply.started": "2022-09-14T03:06:49.313162Z"
    },
    "tags": []
   },
   "outputs": [
    {
     "data": {
      "text/plain": [
       "{'header': 'FHUTKMNTRXQFMRWHQCSAQMNGPCCHWTUIDYYHVBLVOMDIURIDFLYBWVMYLKLNMLPOSHAFDBFEGXZCZEPAMNIOYBTKZZTXVXQBEIBIYKZCTMKHGFELCYMWAQBWPISIKKGBYAFFKMOZBGZCZDFQE'}"
      ]
     },
     "execution_count": 87,
     "metadata": {},
     "output_type": "execute_result"
    }
   ],
   "source": [
    "Seq = {}\n",
    "Seq['header'] = seq_generator(n_toks)\n",
    "Seq"
   ]
  },
  {
   "cell_type": "code",
   "execution_count": 89,
   "id": "06438a86-6ffa-4dac-b54c-2e460473026a",
   "metadata": {
    "execution": {
     "iopub.execute_input": "2022-09-14T03:07:14.620575Z",
     "iopub.status.busy": "2022-09-14T03:07:14.620287Z",
     "iopub.status.idle": "2022-09-14T03:07:14.627691Z",
     "shell.execute_reply": "2022-09-14T03:07:14.626846Z",
     "shell.execute_reply.started": "2022-09-14T03:07:14.620555Z"
    },
    "tags": []
   },
   "outputs": [],
   "source": [
    "with open(path_fa, 'w') as fout:\n",
    "        for header, sequence in Seq.items():\n",
    "            # Separate sequence in 60-characters chunks\n",
    "           #### sequence = separate_seq(sequence)\n",
    "            # Write code in one line and the sequence below in one or more lines\n",
    "            fout.write(f\">{header}\\n{sequence}\\n\")"
   ]
  },
  {
   "cell_type": "markdown",
   "id": "96e775de-0764-4df2-bdce-eec2bea54bf1",
   "metadata": {},
   "source": [
    "### Prose"
   ]
  },
  {
   "cell_type": "code",
   "execution_count": 91,
   "id": "93528ae8-6c1b-44b8-be1f-1f1fccea59d3",
   "metadata": {
    "execution": {
     "iopub.execute_input": "2022-09-14T03:17:03.781528Z",
     "iopub.status.busy": "2022-09-14T03:17:03.780384Z",
     "iopub.status.idle": "2022-09-14T03:17:09.745070Z",
     "shell.execute_reply": "2022-09-14T03:17:09.744286Z",
     "shell.execute_reply.started": "2022-09-14T03:17:03.781503Z"
    }
   },
   "outputs": [
    {
     "name": "stderr",
     "output_type": "stream",
     "text": [
      "# loading the pre-trained ProSE DLM model\n",
      "# writing: in_sequence.h5\n",
      "# embedding with pool=avg\n"
     ]
    },
    {
     "name": "stdout",
     "output_type": "stream",
     "text": [
      "CPU times: user 2.87 s, sys: 1.66 s, total: 4.53 s\n",
      "Wall time: 5.96 s\n"
     ]
    },
    {
     "name": "stderr",
     "output_type": "stream",
     "text": [
      "                                                                                \r"
     ]
    }
   ],
   "source": [
    "%%time\n",
    "# Run embedding script\n",
    "%run ../prose_main/embed_sequences --model \"{model}\" --pool \"{pool}\" -o \"{path_h5}\" \"{path_fa}\""
   ]
  },
  {
   "cell_type": "markdown",
   "id": "b49be7b1-cbd3-47b4-a4ac-5b742177e894",
   "metadata": {},
   "source": [
    "### Embeddings from h5"
   ]
  },
  {
   "cell_type": "code",
   "execution_count": 95,
   "id": "e3389f34-cec8-40b0-bcd6-82ddf93ba45a",
   "metadata": {
    "execution": {
     "iopub.execute_input": "2022-09-14T03:24:56.245056Z",
     "iopub.status.busy": "2022-09-14T03:24:56.244732Z",
     "iopub.status.idle": "2022-09-14T03:24:56.259503Z",
     "shell.execute_reply": "2022-09-14T03:24:56.258757Z",
     "shell.execute_reply.started": "2022-09-14T03:24:56.245034Z"
    },
    "tags": []
   },
   "outputs": [
    {
     "data": {
      "text/plain": [
       "array([ 0.03448276,  0.02068966,  0.02758621, ..., -0.19872151,\n",
       "        0.01572483,  0.13779174], dtype=float32)"
      ]
     },
     "execution_count": 95,
     "metadata": {},
     "output_type": "execute_result"
    }
   ],
   "source": [
    "with h5py.File(path_h5, 'r') as hf:\n",
    "    for key in hf.keys():\n",
    "        n = np.array(hf.get(key))        \n",
    "n"
   ]
  },
  {
   "cell_type": "code",
   "execution_count": 96,
   "id": "d9177427-c544-45a0-9f1f-8ab0ada7e345",
   "metadata": {
    "execution": {
     "iopub.execute_input": "2022-09-14T03:25:19.957087Z",
     "iopub.status.busy": "2022-09-14T03:25:19.956210Z",
     "iopub.status.idle": "2022-09-14T03:25:19.962634Z",
     "shell.execute_reply": "2022-09-14T03:25:19.961548Z",
     "shell.execute_reply.started": "2022-09-14T03:25:19.957061Z"
    }
   },
   "outputs": [
    {
     "data": {
      "text/plain": [
       "(6165,)"
      ]
     },
     "execution_count": 96,
     "metadata": {},
     "output_type": "execute_result"
    }
   ],
   "source": [
    "n.shape"
   ]
  },
  {
   "cell_type": "markdown",
   "id": "131dd7b6-587a-4f61-83dc-40b9b1e2dd76",
   "metadata": {
    "execution": {
     "iopub.execute_input": "2022-09-14T04:06:01.981746Z",
     "iopub.status.busy": "2022-09-14T04:06:01.961288Z",
     "iopub.status.idle": "2022-09-14T04:06:02.032982Z",
     "shell.execute_reply": "2022-09-14T04:06:02.029261Z",
     "shell.execute_reply.started": "2022-09-14T04:06:01.981135Z"
    }
   },
   "source": [
    "### esm"
   ]
  },
  {
   "cell_type": "code",
   "execution_count": 97,
   "id": "cc12c5fa-e771-4fd9-9367-d65054ed67a7",
   "metadata": {
    "execution": {
     "iopub.execute_input": "2022-09-14T03:32:48.861011Z",
     "iopub.status.busy": "2022-09-14T03:32:48.859825Z",
     "iopub.status.idle": "2022-09-14T03:32:48.865589Z",
     "shell.execute_reply": "2022-09-14T03:32:48.864786Z",
     "shell.execute_reply.started": "2022-09-14T03:32:48.860985Z"
    }
   },
   "outputs": [],
   "source": [
    "import esm\n",
    "import torch"
   ]
  },
  {
   "cell_type": "code",
   "execution_count": 99,
   "id": "4047f57d-7ea2-4fab-ab0b-104decc5a251",
   "metadata": {
    "execution": {
     "iopub.execute_input": "2022-09-14T03:42:16.218202Z",
     "iopub.status.busy": "2022-09-14T03:42:16.217829Z",
     "iopub.status.idle": "2022-09-14T03:42:16.226311Z",
     "shell.execute_reply": "2022-09-14T03:42:16.225063Z",
     "shell.execute_reply.started": "2022-09-14T03:42:16.218181Z"
    }
   },
   "outputs": [
    {
     "data": {
      "text/plain": [
       "'/home/damir/.cache/torch/hub/facebookresearch_esm_main/scripts/extract.py'"
      ]
     },
     "execution_count": 99,
     "metadata": {},
     "output_type": "execute_result"
    }
   ],
   "source": [
    "# Path for extract.py\n",
    "esm_scripts_path = '/home/damir/.cache/torch/hub/facebookresearch_esm_main/scripts'\n",
    "extract = os.path.join(esm_scripts_path, 'extract.py')\n",
    "extract"
   ]
  },
  {
   "cell_type": "code",
   "execution_count": 100,
   "id": "8efbd6de-e738-4221-b5ac-f9ce9cd25136",
   "metadata": {
    "execution": {
     "iopub.execute_input": "2022-09-14T03:42:25.679383Z",
     "iopub.status.busy": "2022-09-14T03:42:25.679084Z",
     "iopub.status.idle": "2022-09-14T03:42:25.684613Z",
     "shell.execute_reply": "2022-09-14T03:42:25.683410Z",
     "shell.execute_reply.started": "2022-09-14T03:42:25.679363Z"
    }
   },
   "outputs": [],
   "source": [
    "ptmodel = 'esm'\n",
    "task = 'acp'\n",
    "pool = 'mean'  \n",
    "# Last 3 arguments we might be changing through the notebook\n",
    "file_base = 'train'\n",
    "model = 'esm1v_t33_650M_UR90S_1'\n",
    "emb_layer = 33"
   ]
  },
  {
   "cell_type": "code",
   "execution_count": 101,
   "id": "f562c882-bb80-4fed-9889-f66b753beb2d",
   "metadata": {
    "execution": {
     "iopub.execute_input": "2022-09-14T03:42:45.096762Z",
     "iopub.status.busy": "2022-09-14T03:42:45.096448Z",
     "iopub.status.idle": "2022-09-14T03:43:05.790324Z",
     "shell.execute_reply": "2022-09-14T03:43:05.789414Z",
     "shell.execute_reply.started": "2022-09-14T03:42:45.096741Z"
    }
   },
   "outputs": [
    {
     "name": "stderr",
     "output_type": "stream",
     "text": [
      "/home/damir/miniconda3/envs/sa/lib/python3.8/site-packages/esm/pretrained.py:215: UserWarning: Regression weights not found, predicting contacts will not produce correct results.\n",
      "  warnings.warn(\n"
     ]
    },
    {
     "name": "stdout",
     "output_type": "stream",
     "text": [
      "Transferred model to GPU\n",
      "Read in_sequence.fa with 1 sequences\n",
      "Processing 1 of 1 batches (1 sequences)\n",
      "CPU times: user 8.25 s, sys: 9.45 s, total: 17.7 s\n",
      "Wall time: 20.7 s\n"
     ]
    }
   ],
   "source": [
    "%%time\n",
    "# Run embedding script\n",
    "%run \"{extract}\" \"{model}\" \"{path_fa}\" \"{path_pt}\" --repr_layers \"{emb_layer}\" --include \"{pool}\" "
   ]
  },
  {
   "cell_type": "markdown",
   "id": "b93448a9-1887-49d5-88d7-3caf41ecde7b",
   "metadata": {},
   "source": [
    "### Embeddings from .pt"
   ]
  },
  {
   "cell_type": "code",
   "execution_count": 109,
   "id": "bbf0e524-8f08-4914-af7b-5b6e6bb3956a",
   "metadata": {
    "execution": {
     "iopub.execute_input": "2022-09-14T03:53:15.628346Z",
     "iopub.status.busy": "2022-09-14T03:53:15.628008Z",
     "iopub.status.idle": "2022-09-14T03:53:15.656064Z",
     "shell.execute_reply": "2022-09-14T03:53:15.655141Z",
     "shell.execute_reply.started": "2022-09-14T03:53:15.628323Z"
    },
    "tags": []
   },
   "outputs": [
    {
     "data": {
      "text/plain": [
       "array([-0.1391747 , -0.08677424, -0.260222  , ..., -0.4417132 ,\n",
       "       -0.15612462,  0.25370103], dtype=float32)"
      ]
     },
     "execution_count": 109,
     "metadata": {},
     "output_type": "execute_result"
    }
   ],
   "source": [
    "file_pt = os.path.join(path_pt, 'header.pt')\n",
    "torch.load(file_pt)['mean_representations'][emb_layer].numpy()\n"
   ]
  },
  {
   "cell_type": "code",
   "execution_count": null,
   "id": "952d58d9-2312-4ac3-a712-f522413b0f62",
   "metadata": {},
   "outputs": [],
   "source": []
  },
  {
   "cell_type": "markdown",
   "id": "8e3410a1-a8eb-4084-bf63-22df3176ce22",
   "metadata": {},
   "source": [
    "### Test from untitled_2"
   ]
  },
  {
   "cell_type": "code",
   "execution_count": 7,
   "id": "49a3656d-5fdc-4168-9fba-102bbd178c37",
   "metadata": {
    "execution": {
     "iopub.execute_input": "2022-09-17T00:47:00.140024Z",
     "iopub.status.busy": "2022-09-17T00:47:00.139601Z",
     "iopub.status.idle": "2022-09-17T00:47:00.144876Z",
     "shell.execute_reply": "2022-09-17T00:47:00.143940Z",
     "shell.execute_reply.started": "2022-09-17T00:47:00.139985Z"
    },
    "tags": []
   },
   "outputs": [],
   "source": [
    "path_fa = 'in_sequence.fa'\n",
    "path_h5 = 'in_sequence.h5'\n",
    "path_pt = 'in_sequence'"
   ]
  },
  {
   "cell_type": "code",
   "execution_count": 8,
   "id": "75f897aa-be7d-4a3a-812b-63ee55df2f1e",
   "metadata": {
    "execution": {
     "iopub.execute_input": "2022-09-17T00:47:00.994591Z",
     "iopub.status.busy": "2022-09-17T00:47:00.994262Z",
     "iopub.status.idle": "2022-09-17T00:47:01.000646Z",
     "shell.execute_reply": "2022-09-17T00:47:00.999676Z",
     "shell.execute_reply.started": "2022-09-17T00:47:00.994569Z"
    },
    "tags": []
   },
   "outputs": [
    {
     "data": {
      "text/plain": [
       "{'header': 'GVGDIFRKIVSTIKNVV'}"
      ]
     },
     "execution_count": 8,
     "metadata": {},
     "output_type": "execute_result"
    }
   ],
   "source": [
    "Seq = {}\n",
    "Seq['header'] = 'GVGDIFRKIVSTIKNVV'\n",
    "Seq"
   ]
  },
  {
   "cell_type": "code",
   "execution_count": 9,
   "id": "172e9ff6-09b2-456b-af32-f2eb905782c5",
   "metadata": {
    "execution": {
     "iopub.execute_input": "2022-09-17T00:48:40.219282Z",
     "iopub.status.busy": "2022-09-17T00:48:40.218989Z",
     "iopub.status.idle": "2022-09-17T00:48:40.226589Z",
     "shell.execute_reply": "2022-09-17T00:48:40.225711Z",
     "shell.execute_reply.started": "2022-09-17T00:48:40.219259Z"
    },
    "tags": []
   },
   "outputs": [],
   "source": [
    "with open(path_fa, 'w') as fout:\n",
    "        for header, sequence in Seq.items():\n",
    "            fout.write(f\">{header}\\n{sequence}\\n\")"
   ]
  },
  {
   "cell_type": "code",
   "execution_count": 13,
   "id": "b9b5b6f1-cad6-4c93-8e02-250732707930",
   "metadata": {
    "execution": {
     "iopub.execute_input": "2022-09-17T00:52:06.402599Z",
     "iopub.status.busy": "2022-09-17T00:52:06.401792Z",
     "iopub.status.idle": "2022-09-17T00:52:12.651831Z",
     "shell.execute_reply": "2022-09-17T00:52:12.650766Z",
     "shell.execute_reply.started": "2022-09-17T00:52:06.402550Z"
    },
    "tags": []
   },
   "outputs": [
    {
     "name": "stderr",
     "output_type": "stream",
     "text": [
      "# loading the pre-trained ProSE DLM model\n",
      "# writing: in_sequence.h5\n",
      "# embedding with pool=avg\n"
     ]
    },
    {
     "name": "stdout",
     "output_type": "stream",
     "text": [
      "CPU times: user 2.39 s, sys: 1.34 s, total: 3.73 s\n",
      "Wall time: 6.24 s\n"
     ]
    },
    {
     "name": "stderr",
     "output_type": "stream",
     "text": [
      "                                                                                \r"
     ]
    }
   ],
   "source": [
    "%%time\n",
    "# Run embedding script\n",
    "%run ../prose_main/embed_sequences --model \"{model}\" --pool \"{pool}\" -o \"{path_h5}\" \"{path_fa}\""
   ]
  },
  {
   "cell_type": "code",
   "execution_count": 31,
   "id": "9c179724-4fa9-44fc-9349-4bb6e41bd435",
   "metadata": {
    "execution": {
     "iopub.execute_input": "2022-09-17T01:19:23.977118Z",
     "iopub.status.busy": "2022-09-17T01:19:23.976056Z",
     "iopub.status.idle": "2022-09-17T01:19:23.991872Z",
     "shell.execute_reply": "2022-09-17T01:19:23.990992Z",
     "shell.execute_reply.started": "2022-09-17T01:19:23.977088Z"
    },
    "tags": []
   },
   "outputs": [
    {
     "data": {
      "text/plain": [
       "array([[ 0.        ,  0.05882353,  0.05882353, ..., -0.06649267,\n",
       "         0.03789606,  0.0419427 ]], dtype=float32)"
      ]
     },
     "execution_count": 31,
     "metadata": {},
     "output_type": "execute_result"
    }
   ],
   "source": [
    "import h5py\n",
    "with h5py.File(path_h5, 'r') as hf:\n",
    "    for key in hf.keys():\n",
    "        n = np.array(hf.get(key)).reshape(1, -1)        \n",
    "n"
   ]
  },
  {
   "cell_type": "code",
   "execution_count": 32,
   "id": "f5d11471-9eba-44cd-8359-851740df130b",
   "metadata": {
    "execution": {
     "iopub.execute_input": "2022-09-17T01:19:32.570645Z",
     "iopub.status.busy": "2022-09-17T01:19:32.570367Z",
     "iopub.status.idle": "2022-09-17T01:19:32.577600Z",
     "shell.execute_reply": "2022-09-17T01:19:32.576557Z",
     "shell.execute_reply.started": "2022-09-17T01:19:32.570625Z"
    },
    "jupyter": {
     "source_hidden": true
    },
    "tags": []
   },
   "outputs": [
    {
     "data": {
      "text/plain": [
       "'../saved_models/acp_dlm_avg_knn.sav'"
      ]
     },
     "execution_count": 32,
     "metadata": {},
     "output_type": "execute_result"
    }
   ],
   "source": [
    "# check what to use joblib(.sav), PyTorch (.pt), Keras(.h5) or something else\n",
    "\n",
    "clf = ['rf', 'lr', 'xgb', 'dl', 'knn']\n",
    "\n",
    "tail = os.path.split(path_pt)[1].split('_')\n",
    "tail.pop(1)\n",
    "\n",
    "model_name = f'{\"_\".join(tail)}_{clf[4]}.sav'\n",
    "model_path = os.path.join('../saved_models', model_name)\n",
    "model_path"
   ]
  },
  {
   "cell_type": "code",
   "execution_count": 36,
   "id": "9ae2e1ff-b7cb-4559-b1bf-41584581c68f",
   "metadata": {
    "execution": {
     "iopub.execute_input": "2022-09-17T01:30:32.702792Z",
     "iopub.status.busy": "2022-09-17T01:30:32.702405Z",
     "iopub.status.idle": "2022-09-17T01:30:32.708226Z",
     "shell.execute_reply": "2022-09-17T01:30:32.707253Z",
     "shell.execute_reply.started": "2022-09-17T01:30:32.702766Z"
    },
    "tags": []
   },
   "outputs": [],
   "source": [
    "import joblib"
   ]
  },
  {
   "cell_type": "code",
   "execution_count": 37,
   "id": "f64e5df9-a9df-430d-8c97-d480bedf9e55",
   "metadata": {
    "execution": {
     "iopub.execute_input": "2022-09-17T01:30:34.901769Z",
     "iopub.status.busy": "2022-09-17T01:30:34.901465Z",
     "iopub.status.idle": "2022-09-17T01:30:34.974655Z",
     "shell.execute_reply": "2022-09-17T01:30:34.973994Z",
     "shell.execute_reply.started": "2022-09-17T01:30:34.901749Z"
    },
    "tags": []
   },
   "outputs": [],
   "source": [
    "knn_saved = joblib.load(model_path)\n",
    "#print(knn_saved.score(X_test_s, y_test))"
   ]
  },
  {
   "cell_type": "code",
   "execution_count": 38,
   "id": "155984a3-b4f1-4ff3-beb7-66e5b575d072",
   "metadata": {
    "execution": {
     "iopub.execute_input": "2022-09-17T01:30:37.056968Z",
     "iopub.status.busy": "2022-09-17T01:30:37.056651Z",
     "iopub.status.idle": "2022-09-17T01:30:37.132730Z",
     "shell.execute_reply": "2022-09-17T01:30:37.131393Z",
     "shell.execute_reply.started": "2022-09-17T01:30:37.056945Z"
    },
    "tags": []
   },
   "outputs": [
    {
     "data": {
      "text/plain": [
       "array([1])"
      ]
     },
     "execution_count": 38,
     "metadata": {},
     "output_type": "execute_result"
    }
   ],
   "source": [
    "knn_saved.predict(n)"
   ]
  },
  {
   "cell_type": "code",
   "execution_count": 39,
   "id": "a91cd2bc-35c0-4c58-8d51-2f50d67d3efc",
   "metadata": {
    "execution": {
     "iopub.execute_input": "2022-09-17T01:30:58.522515Z",
     "iopub.status.busy": "2022-09-17T01:30:58.522203Z",
     "iopub.status.idle": "2022-09-17T01:30:58.530666Z",
     "shell.execute_reply": "2022-09-17T01:30:58.529559Z",
     "shell.execute_reply.started": "2022-09-17T01:30:58.522494Z"
    },
    "tags": []
   },
   "outputs": [
    {
     "data": {
      "text/plain": [
       "array([[ 0.        ,  0.05882353,  0.05882353, ..., -0.06649267,\n",
       "         0.03789606,  0.0419427 ]], dtype=float32)"
      ]
     },
     "execution_count": 39,
     "metadata": {},
     "output_type": "execute_result"
    }
   ],
   "source": [
    "n"
   ]
  },
  {
   "cell_type": "code",
   "execution_count": null,
   "id": "78a9701f-ee7f-4541-a820-caa2589aee5a",
   "metadata": {},
   "outputs": [],
   "source": []
  }
 ],
 "metadata": {
  "kernelspec": {
   "display_name": "sa",
   "language": "python",
   "name": "conda-env-sa-py"
  },
  "language_info": {
   "codemirror_mode": {
    "name": "ipython",
    "version": 3
   },
   "file_extension": ".py",
   "mimetype": "text/x-python",
   "name": "python",
   "nbconvert_exporter": "python",
   "pygments_lexer": "ipython3",
   "version": "3.8.13"
  },
  "widgets": {
   "application/vnd.jupyter.widget-state+json": {
    "state": {},
    "version_major": 2,
    "version_minor": 0
   }
  }
 },
 "nbformat": 4,
 "nbformat_minor": 5
}
