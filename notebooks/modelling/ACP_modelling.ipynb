{
 "cells": [
  {
   "cell_type": "markdown",
   "id": "a6996cf1-5b97-45b2-920a-112afc130631",
   "metadata": {},
   "source": [
    "## ACP - Modelling"
   ]
  },
  {
   "cell_type": "markdown",
   "id": "ec433a67-3194-4492-be5a-89c4156ca7fa",
   "metadata": {},
   "source": [
    "First we will import all dependencies."
   ]
  },
  {
   "cell_type": "code",
   "execution_count": 1,
   "id": "108c50d5-7568-4d90-9ba8-daa6f72f49c9",
   "metadata": {
    "execution": {
     "iopub.execute_input": "2022-09-26T00:50:41.362894Z",
     "iopub.status.busy": "2022-09-26T00:50:41.362598Z",
     "iopub.status.idle": "2022-09-26T00:50:42.106761Z",
     "shell.execute_reply": "2022-09-26T00:50:42.105884Z",
     "shell.execute_reply.started": "2022-09-26T00:50:41.362842Z"
    },
    "tags": []
   },
   "outputs": [],
   "source": [
    "import os\n",
    "import pandas as pd\n",
    "\n",
    "from sklearn.svm import SVC\n",
    "from sklearn.ensemble import RandomForestClassifier\n",
    "from sklearn.linear_model import LogisticRegression\n",
    "from sklearn.pipeline import make_pipeline\n",
    "from sklearn.preprocessing import MinMaxScaler\n",
    "from sklearn.decomposition import PCA\n",
    "# To visualize pipeline diagram - 'text', or 'diagram'\n",
    "from sklearn import set_config\n",
    "# Import XGBoost\n",
    "from xgboost import XGBClassifier\n",
    "\n",
    "random_state = 10"
   ]
  },
  {
   "cell_type": "code",
   "execution_count": 2,
   "id": "f149ee94-8f14-4edc-817a-b7e15624acce",
   "metadata": {
    "execution": {
     "iopub.execute_input": "2022-09-26T00:50:43.365348Z",
     "iopub.status.busy": "2022-09-26T00:50:43.364870Z",
     "iopub.status.idle": "2022-09-26T00:50:43.991727Z",
     "shell.execute_reply": "2022-09-26T00:50:43.991023Z",
     "shell.execute_reply.started": "2022-09-26T00:50:43.365325Z"
    },
    "tags": []
   },
   "outputs": [],
   "source": [
    "# Import the script from different folder\n",
    "import sys  \n",
    "sys.path.append('../../scripts')\n",
    "\n",
    "import file_utilities as fu\n",
    "import modelling_utilities as mu"
   ]
  },
  {
   "cell_type": "markdown",
   "id": "6183873f-fc7a-4520-ab16-ca23dc20f1f6",
   "metadata": {},
   "source": [
    "#### Set one of three project tasks (*acp*, *amp*, *dna_binding*)"
   ]
  },
  {
   "cell_type": "code",
   "execution_count": 3,
   "id": "0d8545e5-9849-405d-b959-59eb9a6beacf",
   "metadata": {
    "execution": {
     "iopub.execute_input": "2022-09-26T00:50:48.503423Z",
     "iopub.status.busy": "2022-09-26T00:50:48.502990Z",
     "iopub.status.idle": "2022-09-26T00:50:48.507284Z",
     "shell.execute_reply": "2022-09-26T00:50:48.506325Z",
     "shell.execute_reply.started": "2022-09-26T00:50:48.503390Z"
    },
    "tags": []
   },
   "outputs": [],
   "source": [
    "# task - ['acp', 'amp', 'dna_binding']\n",
    "task = 'acp'"
   ]
  },
  {
   "cell_type": "markdown",
   "id": "6c57e6be-bd8c-4023-8b0b-0d1f5ffb9161",
   "metadata": {},
   "source": [
    "### Define Pipelines"
   ]
  },
  {
   "cell_type": "markdown",
   "id": "15605090-de43-465c-a67e-062bac2a8d93",
   "metadata": {},
   "source": [
    "Define pipelines for ML algorithms.  \n",
    "As preprocessing steps we will use `MinMaxScaler()` and `PCA()`."
   ]
  },
  {
   "cell_type": "code",
   "execution_count": 4,
   "id": "ba6dbff9-de68-490d-9d00-897a79e4a12b",
   "metadata": {
    "execution": {
     "iopub.execute_input": "2022-09-26T00:50:58.736450Z",
     "iopub.status.busy": "2022-09-26T00:50:58.736208Z",
     "iopub.status.idle": "2022-09-26T00:50:58.742083Z",
     "shell.execute_reply": "2022-09-26T00:50:58.741132Z",
     "shell.execute_reply.started": "2022-09-26T00:50:58.736434Z"
    },
    "tags": []
   },
   "outputs": [],
   "source": [
    "# Define number of PCA components\n",
    "num_pca_components = 1000\n",
    "\n",
    "pipelines = {\n",
    "    'xgb' : make_pipeline(MinMaxScaler(), \n",
    "                          PCA(num_pca_components),\n",
    "                          XGBClassifier(random_state=random_state)),\n",
    "    'lr' : make_pipeline(MinMaxScaler(),\n",
    "                         PCA(num_pca_components),\n",
    "                         LogisticRegression(max_iter=25000, random_state=random_state)),    \n",
    "    'svm' : make_pipeline(MinMaxScaler(),\n",
    "                          PCA(num_pca_components),\n",
    "                          SVC(random_state=random_state)),\n",
    "    'rf' : make_pipeline(MinMaxScaler(),\n",
    "                         PCA(num_pca_components),\n",
    "                         RandomForestClassifier(random_state=random_state))\n",
    "}"
   ]
  },
  {
   "cell_type": "markdown",
   "id": "5858b147-0456-467c-b320-33705dbe39f9",
   "metadata": {},
   "source": [
    "### Define Hyperparameter Grids\n",
    "\n",
    "Define hyperparameter grids for chosen ML algorithms."
   ]
  },
  {
   "cell_type": "code",
   "execution_count": 5,
   "id": "1300ab6a-edf9-4718-a372-9801901d43a3",
   "metadata": {
    "execution": {
     "iopub.execute_input": "2022-09-26T00:51:05.070402Z",
     "iopub.status.busy": "2022-09-26T00:51:05.069781Z",
     "iopub.status.idle": "2022-09-26T00:51:05.075248Z",
     "shell.execute_reply": "2022-09-26T00:51:05.074373Z",
     "shell.execute_reply.started": "2022-09-26T00:51:05.070382Z"
    },
    "tags": []
   },
   "outputs": [],
   "source": [
    "# XGBoost\n",
    "xgb_grid = {\n",
    "        'xgbclassifier__max_depth': [3, 5],\n",
    "         'xgbclassifier__n_estimators': [100, 200],\n",
    "        }\n",
    "# SVC\n",
    "svm_grid = {\n",
    "        'svc__kernel' : ['linear', 'rbf'],\n",
    "        'svc__C': [0.01, 0.1, 1]\n",
    "    }\n",
    "# Random Forest\n",
    "rf_grid = {\n",
    "        'randomforestclassifier__n_estimators' : [100, 150],\n",
    "        'randomforestclassifier__min_samples_leaf' : [1, 3],\n",
    "        'randomforestclassifier__min_samples_split' : [2, 3]\n",
    "    }\n",
    "# Logistic Regression\n",
    "lr_grid = {\n",
    "        'logisticregression__C' : [0.1, 1],\n",
    "        'logisticregression__solver' : ['lbfgs', 'saga']\n",
    "    }"
   ]
  },
  {
   "cell_type": "markdown",
   "id": "c94860ba-c4d8-4300-9954-182862066b78",
   "metadata": {},
   "source": [
    "#### Create dictionary for hyperparameter grids"
   ]
  },
  {
   "cell_type": "code",
   "execution_count": 6,
   "id": "d1dbf049-d5a4-46a4-b30a-a423094bb393",
   "metadata": {
    "execution": {
     "iopub.execute_input": "2022-09-26T00:51:13.318156Z",
     "iopub.status.busy": "2022-09-26T00:51:13.317873Z",
     "iopub.status.idle": "2022-09-26T00:51:13.322647Z",
     "shell.execute_reply": "2022-09-26T00:51:13.321732Z",
     "shell.execute_reply.started": "2022-09-26T00:51:13.318138Z"
    },
    "tags": []
   },
   "outputs": [],
   "source": [
    "# Create hyperparameter grids dictionary\n",
    "hp_grids = {\n",
    "    'lr' : lr_grid,\n",
    "    'svm' : svm_grid,\n",
    "    'rf' : rf_grid,\n",
    "    'xgb' : xgb_grid\n",
    "}"
   ]
  },
  {
   "cell_type": "markdown",
   "id": "89e9f37f-bcad-4fb5-bacd-c54b261f46b5",
   "metadata": {},
   "source": [
    "### Get embedding folders and fasta files for the task."
   ]
  },
  {
   "cell_type": "markdown",
   "id": "ee497fd4-a91e-47cb-9683-2e42a8fa842a",
   "metadata": {},
   "source": [
    "For our modelling we will need to use previously created fasta files:"
   ]
  },
  {
   "cell_type": "code",
   "execution_count": 7,
   "id": "2f056a20-593b-4d73-b163-ca0efd56a3a6",
   "metadata": {
    "execution": {
     "iopub.execute_input": "2022-09-26T00:51:24.299847Z",
     "iopub.status.busy": "2022-09-26T00:51:24.299561Z",
     "iopub.status.idle": "2022-09-26T00:51:24.447550Z",
     "shell.execute_reply": "2022-09-26T00:51:24.446420Z",
     "shell.execute_reply.started": "2022-09-26T00:51:24.299827Z"
    },
    "tags": []
   },
   "outputs": [
    {
     "name": "stdout",
     "output_type": "stream",
     "text": [
      "├── [ 17K Sep 10 20:16]  ../../data/acp/test_data.fa\n",
      "└── [ 66K Sep  3 22:26]  ../../data/acp/train_data.fa\n"
     ]
    }
   ],
   "source": [
    "!tree -nhDL 1 ../../data/\"{task}\"/ -fP *.fa | grep fa"
   ]
  },
  {
   "cell_type": "markdown",
   "id": "bf651668-2ba0-4a93-964e-0bd60618da53",
   "metadata": {},
   "source": [
    "<br>\n",
    "\n",
    "and embedding `.pt` files in these folders:"
   ]
  },
  {
   "cell_type": "code",
   "execution_count": 8,
   "id": "9c742696-6d75-423e-8352-4dfe10c7d5ca",
   "metadata": {
    "execution": {
     "iopub.execute_input": "2022-09-26T00:51:27.774659Z",
     "iopub.status.busy": "2022-09-26T00:51:27.774414Z",
     "iopub.status.idle": "2022-09-26T00:51:27.947533Z",
     "shell.execute_reply": "2022-09-26T00:51:27.944650Z",
     "shell.execute_reply.started": "2022-09-26T00:51:27.774639Z"
    },
    "tags": []
   },
   "outputs": [
    {
     "name": "stdout",
     "output_type": "stream",
     "text": [
      "│   │   ├── [4.0K Sep 10 20:50]  ../../data/acp/esm/test/acp_test_esm1b_mean\n",
      "│   │   └── [4.0K Sep 10 20:47]  ../../data/acp/esm/test/acp_test_esm1v_mean\n",
      "│       ├── [4.0K Sep  6 16:40]  ../../data/acp/esm/train/acp_train_esm1b_mean\n",
      "│       └── [4.0K Sep  6 16:01]  ../../data/acp/esm/train/acp_train_esm1v_mean\n",
      "    │   ├── [4.0K Sep 10 20:35]  ../../data/acp/prose/test/acp_test_dlm_avg\n",
      "    │   ├── [4.0K Sep 10 20:37]  ../../data/acp/prose/test/acp_test_dlm_max\n",
      "    │   ├── [4.0K Sep 10 20:37]  ../../data/acp/prose/test/acp_test_dlm_sum\n",
      "    │   ├── [4.0K Sep 10 20:37]  ../../data/acp/prose/test/acp_test_mt_avg\n",
      "    │   ├── [4.0K Sep 10 20:38]  ../../data/acp/prose/test/acp_test_mt_max\n",
      "    │   └── [4.0K Sep 10 20:38]  ../../data/acp/prose/test/acp_test_mt_sum\n",
      "        ├── [4.0K Sep  5 15:10]  ../../data/acp/prose/train/acp_train_dlm_avg\n",
      "        ├── [4.0K Sep  5 15:18]  ../../data/acp/prose/train/acp_train_dlm_max\n",
      "        ├── [4.0K Sep  5 15:28]  ../../data/acp/prose/train/acp_train_dlm_sum\n",
      "        ├── [4.0K Sep  5 15:44]  ../../data/acp/prose/train/acp_train_mt_avg\n",
      "        ├── [4.0K Sep  5 15:48]  ../../data/acp/prose/train/acp_train_mt_max\n",
      "        └── [4.0K Sep  5 15:50]  ../../data/acp/prose/train/acp_train_mt_sum\n"
     ]
    }
   ],
   "source": [
    "!tree -nhDL 3 ../../data/\"{task}\"/ -df | grep 'esm1\\|mt\\|dlm'"
   ]
  },
  {
   "cell_type": "markdown",
   "id": "6cb35809-aa48-4063-b159-e95a2b3e0dfd",
   "metadata": {},
   "source": [
    "<br>  \n",
    "\n",
    "To get paths for embedding folders and fasta files we will use the function `get_emb_folders()`."
   ]
  },
  {
   "cell_type": "code",
   "execution_count": 9,
   "id": "ca536a8c-eef6-415a-b586-56b909890dd1",
   "metadata": {
    "execution": {
     "iopub.execute_input": "2022-09-26T00:51:45.658074Z",
     "iopub.status.busy": "2022-09-26T00:51:45.657178Z",
     "iopub.status.idle": "2022-09-26T00:51:45.829631Z",
     "shell.execute_reply": "2022-09-26T00:51:45.828440Z",
     "shell.execute_reply.started": "2022-09-26T00:51:45.658038Z"
    },
    "tags": []
   },
   "outputs": [],
   "source": [
    "pt_folders, fa_files = mu.get_emb_folders(task)"
   ]
  },
  {
   "cell_type": "markdown",
   "id": "68ac1c2a-14c4-4cfe-90f8-9912c8cc6414",
   "metadata": {},
   "source": [
    "## Modelling Loop"
   ]
  },
  {
   "cell_type": "markdown",
   "id": "5e22e4c4-d6b9-4abc-8305-9e330565a547",
   "metadata": {},
   "source": [
    "The modelling loop includes the following steps:\n",
    "\n",
    "1. Loop through train and test embedding folders\n",
    "2. Run the function `read_embeddings()` for train embeddings to get `X_train` and `y_train`\n",
    "3. Run the function `read_embeddings()` for test embeddings to get `X_test` and `y_test`\n",
    "4. Define and print the output header\n",
    "5. Use the function `fit_tune_CV()`to to do the following:\n",
    "   - use above defined `pipelines` and `hp_grids` dictionaries and `GridSearchCV()` to get models\n",
    "   - save the models with `joblib`\n",
    "   - create a dictionary of the models for one set of embedding folders\n",
    "6. Run the function `evaluation()` to create an evaluation dataframe for one set of embedding folders\n"
   ]
  },
  {
   "cell_type": "code",
   "execution_count": 10,
   "id": "2c0eead5-f993-47db-b9a7-72588844b28c",
   "metadata": {
    "execution": {
     "iopub.execute_input": "2022-09-26T00:51:54.942046Z",
     "iopub.status.busy": "2022-09-26T00:51:54.941792Z",
     "iopub.status.idle": "2022-09-26T01:24:53.762159Z",
     "shell.execute_reply": "2022-09-26T01:24:53.760460Z",
     "shell.execute_reply.started": "2022-09-26T00:51:54.942028Z"
    },
    "tags": []
   },
   "outputs": [
    {
     "name": "stdout",
     "output_type": "stream",
     "text": [
      "---------------------------------------------------------------------------\n",
      "\tPretrained Model \"esm1b\" by ESM - Pooling Operation: \"mean\"\n",
      "---------------------------------------------------------------------------\n",
      "esm1b_mean_xgb has been fitted and saved\n",
      "esm1b_mean_lr has been fitted and saved\n",
      "esm1b_mean_svm has been fitted and saved\n",
      "esm1b_mean_rf has been fitted and saved\n",
      "---------------------------------------------------------------------------\n",
      "\tPretrained Model \"esm1v\" by ESM - Pooling Operation: \"mean\"\n",
      "---------------------------------------------------------------------------\n",
      "esm1v_mean_xgb has been fitted and saved\n",
      "esm1v_mean_lr has been fitted and saved\n",
      "esm1v_mean_svm has been fitted and saved\n",
      "esm1v_mean_rf has been fitted and saved\n",
      "---------------------------------------------------------------------------\n",
      "\tPretrained Model \"dlm\" by ProSE - Pooling Operation: \"avg\"\n",
      "---------------------------------------------------------------------------\n",
      "dlm_avg_xgb has been fitted and saved\n",
      "dlm_avg_lr has been fitted and saved\n",
      "dlm_avg_svm has been fitted and saved\n",
      "dlm_avg_rf has been fitted and saved\n",
      "---------------------------------------------------------------------------\n",
      "\tPretrained Model \"dlm\" by ProSE - Pooling Operation: \"max\"\n",
      "---------------------------------------------------------------------------\n",
      "dlm_max_xgb has been fitted and saved\n",
      "dlm_max_lr has been fitted and saved\n",
      "dlm_max_svm has been fitted and saved\n",
      "dlm_max_rf has been fitted and saved\n",
      "---------------------------------------------------------------------------\n",
      "\tPretrained Model \"dlm\" by ProSE - Pooling Operation: \"sum\"\n",
      "---------------------------------------------------------------------------\n",
      "dlm_sum_xgb has been fitted and saved\n",
      "dlm_sum_lr has been fitted and saved\n",
      "dlm_sum_svm has been fitted and saved\n",
      "dlm_sum_rf has been fitted and saved\n",
      "---------------------------------------------------------------------------\n",
      "\tPretrained Model \"mt\" by ProSE - Pooling Operation: \"avg\"\n",
      "---------------------------------------------------------------------------\n",
      "mt_avg_xgb has been fitted and saved\n",
      "mt_avg_lr has been fitted and saved\n",
      "mt_avg_svm has been fitted and saved\n",
      "mt_avg_rf has been fitted and saved\n",
      "---------------------------------------------------------------------------\n",
      "\tPretrained Model \"mt\" by ProSE - Pooling Operation: \"max\"\n",
      "---------------------------------------------------------------------------\n",
      "mt_max_xgb has been fitted and saved\n",
      "mt_max_lr has been fitted and saved\n",
      "mt_max_svm has been fitted and saved\n",
      "mt_max_rf has been fitted and saved\n",
      "---------------------------------------------------------------------------\n",
      "\tPretrained Model \"mt\" by ProSE - Pooling Operation: \"sum\"\n",
      "---------------------------------------------------------------------------\n",
      "mt_sum_xgb has been fitted and saved\n",
      "mt_sum_lr has been fitted and saved\n",
      "mt_sum_svm has been fitted and saved\n",
      "mt_sum_rf has been fitted and saved\n"
     ]
    }
   ],
   "source": [
    "# Initialize dictionary to keep evaluation dataframes \n",
    "# One dataframe per embeddings folder (train+test, or all_data)\n",
    "df_models = {}\n",
    "\n",
    "for i in range(len(pt_folders)):\n",
    "    \n",
    "    # Train\n",
    "    # second index: 0 - train, 1 - test\n",
    "    path_fa, path_pt = fa_files[0][0], pt_folders[i][0]\n",
    "    pool = os.path.split(path_pt)[1].split('_')[-1]\n",
    "    emb_layer = 33 if 'esm' in path_pt else 'layer'\n",
    "    X_train, y_train, sequence_id_train = fu.read_embeddings(path_fa, path_pt, pool, emb_layer,print_dims=False)\n",
    "    \n",
    "    # Test\n",
    "    path_fa, path_pt = fa_files[0][1], pt_folders[i][1]\n",
    "    X_test, y_test, sequence_id_train = fu.read_embeddings(path_fa, path_pt, pool, emb_layer, print_dims=False)  \n",
    "\n",
    "    # Extensions for evaluations dataframes\n",
    "    df_ext = os.path.split(path_pt)[1].split('_', 1)[1].split('_', 1)[1]\n",
    "    \n",
    "    # Printing output header\n",
    "    ptm = df_ext.split('_')[0]\n",
    "    ptr = 'ESM' if 'esm' in ptm else 'ProSE'\n",
    "    print('-' * 75)\n",
    "    print(f'\\tPretrained Model \"{ptm}\" by {ptr} - Pooling Operation: \"{pool}\"')\n",
    "    print('-' * 75)\n",
    "    \n",
    "    # Grid search and fit\n",
    "    fitted_models = mu.fit_tune_CV(pipelines, hp_grids, 'accuracy', path_pt, X_train, y_train, task)\n",
    "    \n",
    "    # Save evaluation dataframe into dictionary\n",
    "    df_models[f'eval_{df_ext}'] = mu.evaluation(fitted_models, X_test, y_test)"
   ]
  },
  {
   "cell_type": "markdown",
   "id": "c7bdec6b-dd01-4cf5-85c1-c33285dfeeae",
   "metadata": {},
   "source": [
    "<br>\n",
    "\n",
    "Let's list the keys of the `df_models` dictionary:"
   ]
  },
  {
   "cell_type": "code",
   "execution_count": 11,
   "id": "6d93a650-05dc-4d79-bbc9-d6432fad104d",
   "metadata": {
    "execution": {
     "iopub.execute_input": "2022-09-26T02:16:25.273138Z",
     "iopub.status.busy": "2022-09-26T02:16:25.272869Z",
     "iopub.status.idle": "2022-09-26T02:16:25.282468Z",
     "shell.execute_reply": "2022-09-26T02:16:25.281666Z",
     "shell.execute_reply.started": "2022-09-26T02:16:25.273117Z"
    },
    "tags": []
   },
   "outputs": [
    {
     "data": {
      "text/plain": [
       "dict_keys(['eval_esm1b_mean', 'eval_esm1v_mean', 'eval_dlm_avg', 'eval_dlm_max', 'eval_dlm_sum', 'eval_mt_avg', 'eval_mt_max', 'eval_mt_sum'])"
      ]
     },
     "execution_count": 11,
     "metadata": {},
     "output_type": "execute_result"
    }
   ],
   "source": [
    "df_models.keys()"
   ]
  },
  {
   "cell_type": "markdown",
   "id": "3c45b4fc-cdf5-40c4-9a3c-7da09990e942",
   "metadata": {},
   "source": [
    "<br>\n",
    "Let's check a dataframe for a randomly chosen key (set of embedding folders)"
   ]
  },
  {
   "cell_type": "code",
   "execution_count": 12,
   "id": "6f86e7bc-1ae4-4d55-8bd4-ec0e35e7497f",
   "metadata": {
    "execution": {
     "iopub.execute_input": "2022-09-26T02:16:44.715138Z",
     "iopub.status.busy": "2022-09-26T02:16:44.714885Z",
     "iopub.status.idle": "2022-09-26T02:16:44.725727Z",
     "shell.execute_reply": "2022-09-26T02:16:44.724794Z",
     "shell.execute_reply.started": "2022-09-26T02:16:44.715119Z"
    },
    "tags": []
   },
   "outputs": [
    {
     "data": {
      "text/html": [
       "<div>\n",
       "<style scoped>\n",
       "    .dataframe tbody tr th:only-of-type {\n",
       "        vertical-align: middle;\n",
       "    }\n",
       "\n",
       "    .dataframe tbody tr th {\n",
       "        vertical-align: top;\n",
       "    }\n",
       "\n",
       "    .dataframe thead th {\n",
       "        text-align: right;\n",
       "    }\n",
       "</style>\n",
       "<table border=\"1\" class=\"dataframe\">\n",
       "  <thead>\n",
       "    <tr style=\"text-align: right;\">\n",
       "      <th></th>\n",
       "      <th>cv_best_score</th>\n",
       "      <th>f1_macro</th>\n",
       "      <th>accuracy</th>\n",
       "    </tr>\n",
       "    <tr>\n",
       "      <th>model</th>\n",
       "      <th></th>\n",
       "      <th></th>\n",
       "      <th></th>\n",
       "    </tr>\n",
       "  </thead>\n",
       "  <tbody>\n",
       "    <tr>\n",
       "      <th>dlm_max_xgb</th>\n",
       "      <td>0.702466</td>\n",
       "      <td>0.716005</td>\n",
       "      <td>0.718023</td>\n",
       "    </tr>\n",
       "    <tr>\n",
       "      <th>dlm_max_lr</th>\n",
       "      <td>0.756177</td>\n",
       "      <td>0.723779</td>\n",
       "      <td>0.723837</td>\n",
       "    </tr>\n",
       "    <tr>\n",
       "      <th>dlm_max_svm</th>\n",
       "      <td>0.766321</td>\n",
       "      <td>0.741277</td>\n",
       "      <td>0.741279</td>\n",
       "    </tr>\n",
       "    <tr>\n",
       "      <th>dlm_max_rf</th>\n",
       "      <td>0.604509</td>\n",
       "      <td>0.660847</td>\n",
       "      <td>0.671512</td>\n",
       "    </tr>\n",
       "  </tbody>\n",
       "</table>\n",
       "</div>"
      ],
      "text/plain": [
       "             cv_best_score  f1_macro  accuracy\n",
       "model                                         \n",
       "dlm_max_xgb       0.702466  0.716005  0.718023\n",
       "dlm_max_lr        0.756177  0.723779  0.723837\n",
       "dlm_max_svm       0.766321  0.741277  0.741279\n",
       "dlm_max_rf        0.604509  0.660847  0.671512"
      ]
     },
     "execution_count": 12,
     "metadata": {},
     "output_type": "execute_result"
    }
   ],
   "source": [
    "import random\n",
    "df_models[list(df_models.keys())[random.randint(0, len(df_models))]]"
   ]
  },
  {
   "cell_type": "markdown",
   "id": "a011561a-1e58-45d8-94e0-63c23688be20",
   "metadata": {},
   "source": [
    "## Collecting Evaluation Results into a DataFrame"
   ]
  },
  {
   "cell_type": "markdown",
   "id": "c0b36073-92a8-4217-a881-b95a1c607d1e",
   "metadata": {},
   "source": [
    "To compare evaluations for all models, collect results from all dataframes into one dataframe.  \n",
    "\n",
    "To do that, we will merge all dataframes from the dictionary `df_models`."
   ]
  },
  {
   "cell_type": "code",
   "execution_count": 13,
   "id": "efef645f-0ba9-4f1f-bd6e-1a3be30d7e71",
   "metadata": {
    "execution": {
     "iopub.execute_input": "2022-09-26T02:17:39.195818Z",
     "iopub.status.busy": "2022-09-26T02:17:39.195557Z",
     "iopub.status.idle": "2022-09-26T02:17:39.209269Z",
     "shell.execute_reply": "2022-09-26T02:17:39.208597Z",
     "shell.execute_reply.started": "2022-09-26T02:17:39.195799Z"
    },
    "tags": []
   },
   "outputs": [],
   "source": [
    "# Create dataframe with evaluations for all models\n",
    "\n",
    "# initialize dataframe\n",
    "eval_df_all = pd.DataFrame()\n",
    "# concatenate all dataframes from dictionary df_models\n",
    "# Iterate through all dictionary keys \n",
    "for i in df_models.keys():\n",
    "    # Use a temporary dataframe to hold one iteration's dataframe\n",
    "    eval_df_t = df_models[i].copy().reset_index()\n",
    "    eval_df_all = pd.concat([eval_df_all, eval_df_t])\n",
    "\n",
    "# Set the column 'model' as an index\n",
    "eval_df_all = eval_df_all.set_index('model')"
   ]
  },
  {
   "cell_type": "markdown",
   "id": "bb4b36ba-4f5e-49ea-a883-bffbedc6ec71",
   "metadata": {},
   "source": [
    "#### Display the results sorted by \"accuracy\""
   ]
  },
  {
   "cell_type": "code",
   "execution_count": 14,
   "id": "928ff706-6507-4dc9-af58-41c7c79f5171",
   "metadata": {
    "execution": {
     "iopub.execute_input": "2022-09-26T02:17:54.919834Z",
     "iopub.status.busy": "2022-09-26T02:17:54.919566Z",
     "iopub.status.idle": "2022-09-26T02:17:54.930057Z",
     "shell.execute_reply": "2022-09-26T02:17:54.929229Z",
     "shell.execute_reply.started": "2022-09-26T02:17:54.919813Z"
    },
    "tags": []
   },
   "outputs": [
    {
     "data": {
      "text/html": [
       "<div>\n",
       "<style scoped>\n",
       "    .dataframe tbody tr th:only-of-type {\n",
       "        vertical-align: middle;\n",
       "    }\n",
       "\n",
       "    .dataframe tbody tr th {\n",
       "        vertical-align: top;\n",
       "    }\n",
       "\n",
       "    .dataframe thead th {\n",
       "        text-align: right;\n",
       "    }\n",
       "</style>\n",
       "<table border=\"1\" class=\"dataframe\">\n",
       "  <thead>\n",
       "    <tr style=\"text-align: right;\">\n",
       "      <th></th>\n",
       "      <th>cv_best_score</th>\n",
       "      <th>f1_macro</th>\n",
       "      <th>accuracy</th>\n",
       "    </tr>\n",
       "    <tr>\n",
       "      <th>model</th>\n",
       "      <th></th>\n",
       "      <th></th>\n",
       "      <th></th>\n",
       "    </tr>\n",
       "  </thead>\n",
       "  <tbody>\n",
       "    <tr>\n",
       "      <th>dlm_avg_svm</th>\n",
       "      <td>0.757621</td>\n",
       "      <td>0.749966</td>\n",
       "      <td>0.750000</td>\n",
       "    </tr>\n",
       "    <tr>\n",
       "      <th>mt_avg_svm</th>\n",
       "      <td>0.754003</td>\n",
       "      <td>0.746920</td>\n",
       "      <td>0.747093</td>\n",
       "    </tr>\n",
       "    <tr>\n",
       "      <th>dlm_max_svm</th>\n",
       "      <td>0.766321</td>\n",
       "      <td>0.741277</td>\n",
       "      <td>0.741279</td>\n",
       "    </tr>\n",
       "    <tr>\n",
       "      <th>mt_sum_xgb</th>\n",
       "      <td>0.706819</td>\n",
       "      <td>0.736088</td>\n",
       "      <td>0.738372</td>\n",
       "    </tr>\n",
       "    <tr>\n",
       "      <th>mt_avg_lr</th>\n",
       "      <td>0.741665</td>\n",
       "      <td>0.735445</td>\n",
       "      <td>0.735465</td>\n",
       "    </tr>\n",
       "    <tr>\n",
       "      <th>dlm_avg_lr</th>\n",
       "      <td>0.743839</td>\n",
       "      <td>0.735409</td>\n",
       "      <td>0.735465</td>\n",
       "    </tr>\n",
       "    <tr>\n",
       "      <th>esm1b_mean_svm</th>\n",
       "      <td>0.743837</td>\n",
       "      <td>0.732332</td>\n",
       "      <td>0.732558</td>\n",
       "    </tr>\n",
       "    <tr>\n",
       "      <th>dlm_sum_xgb</th>\n",
       "      <td>0.711900</td>\n",
       "      <td>0.729136</td>\n",
       "      <td>0.729651</td>\n",
       "    </tr>\n",
       "    <tr>\n",
       "      <th>esm1v_mean_svm</th>\n",
       "      <td>0.729318</td>\n",
       "      <td>0.726291</td>\n",
       "      <td>0.726744</td>\n",
       "    </tr>\n",
       "    <tr>\n",
       "      <th>mt_sum_lr</th>\n",
       "      <td>0.735141</td>\n",
       "      <td>0.725817</td>\n",
       "      <td>0.726744</td>\n",
       "    </tr>\n",
       "    <tr>\n",
       "      <th>esm1b_mean_lr</th>\n",
       "      <td>0.750358</td>\n",
       "      <td>0.723835</td>\n",
       "      <td>0.723837</td>\n",
       "    </tr>\n",
       "    <tr>\n",
       "      <th>mt_avg_xgb</th>\n",
       "      <td>0.707531</td>\n",
       "      <td>0.722597</td>\n",
       "      <td>0.723837</td>\n",
       "    </tr>\n",
       "    <tr>\n",
       "      <th>dlm_max_lr</th>\n",
       "      <td>0.756177</td>\n",
       "      <td>0.723779</td>\n",
       "      <td>0.723837</td>\n",
       "    </tr>\n",
       "    <tr>\n",
       "      <th>dlm_avg_xgb</th>\n",
       "      <td>0.702466</td>\n",
       "      <td>0.720921</td>\n",
       "      <td>0.720930</td>\n",
       "    </tr>\n",
       "    <tr>\n",
       "      <th>mt_max_svm</th>\n",
       "      <td>0.749657</td>\n",
       "      <td>0.720164</td>\n",
       "      <td>0.720930</td>\n",
       "    </tr>\n",
       "    <tr>\n",
       "      <th>dlm_sum_svm</th>\n",
       "      <td>0.736559</td>\n",
       "      <td>0.720467</td>\n",
       "      <td>0.720930</td>\n",
       "    </tr>\n",
       "    <tr>\n",
       "      <th>dlm_max_xgb</th>\n",
       "      <td>0.702466</td>\n",
       "      <td>0.716005</td>\n",
       "      <td>0.718023</td>\n",
       "    </tr>\n",
       "    <tr>\n",
       "      <th>dlm_avg_rf</th>\n",
       "      <td>0.651673</td>\n",
       "      <td>0.717486</td>\n",
       "      <td>0.718023</td>\n",
       "    </tr>\n",
       "    <tr>\n",
       "      <th>mt_max_xgb</th>\n",
       "      <td>0.702456</td>\n",
       "      <td>0.714723</td>\n",
       "      <td>0.718023</td>\n",
       "    </tr>\n",
       "    <tr>\n",
       "      <th>esm1v_mean_lr</th>\n",
       "      <td>0.730042</td>\n",
       "      <td>0.715107</td>\n",
       "      <td>0.715116</td>\n",
       "    </tr>\n",
       "    <tr>\n",
       "      <th>mt_sum_svm</th>\n",
       "      <td>0.730817</td>\n",
       "      <td>0.713216</td>\n",
       "      <td>0.715116</td>\n",
       "    </tr>\n",
       "    <tr>\n",
       "      <th>dlm_sum_lr</th>\n",
       "      <td>0.735860</td>\n",
       "      <td>0.708316</td>\n",
       "      <td>0.709302</td>\n",
       "    </tr>\n",
       "    <tr>\n",
       "      <th>mt_max_lr</th>\n",
       "      <td>0.745315</td>\n",
       "      <td>0.708672</td>\n",
       "      <td>0.709302</td>\n",
       "    </tr>\n",
       "    <tr>\n",
       "      <th>esm1v_mean_xgb</th>\n",
       "      <td>0.687963</td>\n",
       "      <td>0.709145</td>\n",
       "      <td>0.709302</td>\n",
       "    </tr>\n",
       "    <tr>\n",
       "      <th>mt_avg_rf</th>\n",
       "      <td>0.664746</td>\n",
       "      <td>0.709263</td>\n",
       "      <td>0.709302</td>\n",
       "    </tr>\n",
       "    <tr>\n",
       "      <th>mt_sum_rf</th>\n",
       "      <td>0.631373</td>\n",
       "      <td>0.700011</td>\n",
       "      <td>0.700581</td>\n",
       "    </tr>\n",
       "    <tr>\n",
       "      <th>esm1b_mean_xgb</th>\n",
       "      <td>0.714116</td>\n",
       "      <td>0.691819</td>\n",
       "      <td>0.691860</td>\n",
       "    </tr>\n",
       "    <tr>\n",
       "      <th>esm1b_mean_rf</th>\n",
       "      <td>0.636398</td>\n",
       "      <td>0.683008</td>\n",
       "      <td>0.683140</td>\n",
       "    </tr>\n",
       "    <tr>\n",
       "      <th>dlm_max_rf</th>\n",
       "      <td>0.604509</td>\n",
       "      <td>0.660847</td>\n",
       "      <td>0.671512</td>\n",
       "    </tr>\n",
       "    <tr>\n",
       "      <th>dlm_sum_rf</th>\n",
       "      <td>0.640801</td>\n",
       "      <td>0.668560</td>\n",
       "      <td>0.668605</td>\n",
       "    </tr>\n",
       "    <tr>\n",
       "      <th>esm1v_mean_rf</th>\n",
       "      <td>0.628469</td>\n",
       "      <td>0.668605</td>\n",
       "      <td>0.668605</td>\n",
       "    </tr>\n",
       "    <tr>\n",
       "      <th>mt_max_rf</th>\n",
       "      <td>0.595794</td>\n",
       "      <td>0.609143</td>\n",
       "      <td>0.630814</td>\n",
       "    </tr>\n",
       "  </tbody>\n",
       "</table>\n",
       "</div>"
      ],
      "text/plain": [
       "                cv_best_score  f1_macro  accuracy\n",
       "model                                            \n",
       "dlm_avg_svm          0.757621  0.749966  0.750000\n",
       "mt_avg_svm           0.754003  0.746920  0.747093\n",
       "dlm_max_svm          0.766321  0.741277  0.741279\n",
       "mt_sum_xgb           0.706819  0.736088  0.738372\n",
       "mt_avg_lr            0.741665  0.735445  0.735465\n",
       "dlm_avg_lr           0.743839  0.735409  0.735465\n",
       "esm1b_mean_svm       0.743837  0.732332  0.732558\n",
       "dlm_sum_xgb          0.711900  0.729136  0.729651\n",
       "esm1v_mean_svm       0.729318  0.726291  0.726744\n",
       "mt_sum_lr            0.735141  0.725817  0.726744\n",
       "esm1b_mean_lr        0.750358  0.723835  0.723837\n",
       "mt_avg_xgb           0.707531  0.722597  0.723837\n",
       "dlm_max_lr           0.756177  0.723779  0.723837\n",
       "dlm_avg_xgb          0.702466  0.720921  0.720930\n",
       "mt_max_svm           0.749657  0.720164  0.720930\n",
       "dlm_sum_svm          0.736559  0.720467  0.720930\n",
       "dlm_max_xgb          0.702466  0.716005  0.718023\n",
       "dlm_avg_rf           0.651673  0.717486  0.718023\n",
       "mt_max_xgb           0.702456  0.714723  0.718023\n",
       "esm1v_mean_lr        0.730042  0.715107  0.715116\n",
       "mt_sum_svm           0.730817  0.713216  0.715116\n",
       "dlm_sum_lr           0.735860  0.708316  0.709302\n",
       "mt_max_lr            0.745315  0.708672  0.709302\n",
       "esm1v_mean_xgb       0.687963  0.709145  0.709302\n",
       "mt_avg_rf            0.664746  0.709263  0.709302\n",
       "mt_sum_rf            0.631373  0.700011  0.700581\n",
       "esm1b_mean_xgb       0.714116  0.691819  0.691860\n",
       "esm1b_mean_rf        0.636398  0.683008  0.683140\n",
       "dlm_max_rf           0.604509  0.660847  0.671512\n",
       "dlm_sum_rf           0.640801  0.668560  0.668605\n",
       "esm1v_mean_rf        0.628469  0.668605  0.668605\n",
       "mt_max_rf            0.595794  0.609143  0.630814"
      ]
     },
     "execution_count": 14,
     "metadata": {},
     "output_type": "execute_result"
    }
   ],
   "source": [
    "# Display the dataframe\n",
    "eval_df_all.sort_values(by=['accuracy'], ascending=False)"
   ]
  },
  {
   "cell_type": "markdown",
   "id": "f20c9c81-9947-4a18-b1dc-4a3ea66c3b14",
   "metadata": {},
   "source": [
    "### Saving dataframe for future use"
   ]
  },
  {
   "cell_type": "code",
   "execution_count": 17,
   "id": "594b7781-5d54-4320-b2f4-09e03c9dc3b7",
   "metadata": {
    "execution": {
     "iopub.execute_input": "2022-09-26T02:29:11.407880Z",
     "iopub.status.busy": "2022-09-26T02:29:11.407606Z",
     "iopub.status.idle": "2022-09-26T02:29:11.415675Z",
     "shell.execute_reply": "2022-09-26T02:29:11.414821Z",
     "shell.execute_reply.started": "2022-09-26T02:29:11.407861Z"
    },
    "tags": []
   },
   "outputs": [],
   "source": [
    "TASK = 'DBP' if task == 'dna_binding' else task.upper()\n",
    "file_path = f'../../results/{TASK}_classifiers.csv'\n",
    "eval_df_all.to_csv(file_path)"
   ]
  },
  {
   "cell_type": "markdown",
   "id": "78a56b93-fff3-48e2-a5d1-8bbb62b0f73b",
   "metadata": {},
   "source": [
    "<br>\n",
    "\n",
    "When you need to work with the results from that file, read it with the parameter `index_col=`:   \n",
    "```python\n",
    "df = pd.read_csv(file_path, index_col='model')\n",
    "```"
   ]
  }
 ],
 "metadata": {
  "kernelspec": {
   "display_name": "proteins",
   "language": "python",
   "name": "conda-env-proteins-py"
  },
  "language_info": {
   "codemirror_mode": {
    "name": "ipython",
    "version": 3
   },
   "file_extension": ".py",
   "mimetype": "text/x-python",
   "name": "python",
   "nbconvert_exporter": "python",
   "pygments_lexer": "ipython3",
   "version": "3.9.13"
  },
  "widgets": {
   "application/vnd.jupyter.widget-state+json": {
    "state": {},
    "version_major": 2,
    "version_minor": 0
   }
  }
 },
 "nbformat": 4,
 "nbformat_minor": 5
}
