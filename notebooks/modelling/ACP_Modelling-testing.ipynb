{
 "cells": [
  {
   "cell_type": "markdown",
   "id": "a6996cf1-5b97-45b2-920a-112afc130631",
   "metadata": {},
   "source": [
    "## ACP - Testing Modelling"
   ]
  },
  {
   "cell_type": "markdown",
   "id": "8e4ed52c-5c0a-4dce-ba84-a07dfc50537c",
   "metadata": {},
   "source": [
    "First we will import all dependencies."
   ]
  },
  {
   "cell_type": "code",
   "execution_count": 1,
   "id": "108c50d5-7568-4d90-9ba8-daa6f72f49c9",
   "metadata": {
    "execution": {
     "iopub.execute_input": "2022-09-25T14:08:37.393932Z",
     "iopub.status.busy": "2022-09-25T14:08:37.393658Z",
     "iopub.status.idle": "2022-09-25T14:08:38.137977Z",
     "shell.execute_reply": "2022-09-25T14:08:38.136960Z",
     "shell.execute_reply.started": "2022-09-25T14:08:37.393884Z"
    },
    "tags": []
   },
   "outputs": [],
   "source": [
    "import os\n",
    "import pandas as pd\n",
    "\n",
    "from sklearn.svm import SVC\n",
    "from sklearn.ensemble import RandomForestClassifier\n",
    "from sklearn.linear_model import LogisticRegression\n",
    "from sklearn.pipeline import make_pipeline\n",
    "from sklearn.preprocessing import MinMaxScaler\n",
    "from sklearn.decomposition import PCA\n",
    "# To visualize pipeline diagram - 'text', or 'diagram'\n",
    "from sklearn import set_config\n",
    "# Import XGBoost\n",
    "from xgboost import XGBClassifier\n",
    "\n",
    "random_state = 10"
   ]
  },
  {
   "cell_type": "code",
   "execution_count": 2,
   "id": "f149ee94-8f14-4edc-817a-b7e15624acce",
   "metadata": {
    "execution": {
     "iopub.execute_input": "2022-09-25T14:08:41.225239Z",
     "iopub.status.busy": "2022-09-25T14:08:41.224859Z",
     "iopub.status.idle": "2022-09-25T14:08:42.154112Z",
     "shell.execute_reply": "2022-09-25T14:08:42.153115Z",
     "shell.execute_reply.started": "2022-09-25T14:08:41.225215Z"
    },
    "tags": []
   },
   "outputs": [],
   "source": [
    "# Import the script from different folder\n",
    "import sys  \n",
    "sys.path.append('../../scripts')\n",
    "\n",
    "import file_utilities as fu\n",
    "import modelling_utilities as mu"
   ]
  },
  {
   "cell_type": "markdown",
   "id": "5216d3bc-e557-4bb4-8ef2-69e90b29ff77",
   "metadata": {},
   "source": [
    "#### Set one of three project tasks (*acp*, *amp*, *dna_binding*)"
   ]
  },
  {
   "cell_type": "code",
   "execution_count": 3,
   "id": "0d8545e5-9849-405d-b959-59eb9a6beacf",
   "metadata": {
    "execution": {
     "iopub.execute_input": "2022-09-25T14:08:53.553670Z",
     "iopub.status.busy": "2022-09-25T14:08:53.553421Z",
     "iopub.status.idle": "2022-09-25T14:08:53.557881Z",
     "shell.execute_reply": "2022-09-25T14:08:53.556744Z",
     "shell.execute_reply.started": "2022-09-25T14:08:53.553653Z"
    },
    "tags": []
   },
   "outputs": [],
   "source": [
    "# task - ['acp', 'amp', 'dna_binding']\n",
    "task = 'acp'"
   ]
  },
  {
   "cell_type": "markdown",
   "id": "6c57e6be-bd8c-4023-8b0b-0d1f5ffb9161",
   "metadata": {},
   "source": [
    "### Define Pipelines"
   ]
  },
  {
   "cell_type": "markdown",
   "id": "3dc92f6e-b3a9-4bb6-b437-641d4ef195c8",
   "metadata": {},
   "source": [
    "Define popelines for ML algorithms.  \n",
    "As preprocessing steps we will use `MinMaxScaler()` and `PCA()`."
   ]
  },
  {
   "cell_type": "code",
   "execution_count": 5,
   "id": "101624ba-c67b-417a-b636-7e96a262bcb6",
   "metadata": {
    "execution": {
     "iopub.execute_input": "2022-09-25T14:09:07.134970Z",
     "iopub.status.busy": "2022-09-25T14:09:07.134655Z",
     "iopub.status.idle": "2022-09-25T14:09:07.141227Z",
     "shell.execute_reply": "2022-09-25T14:09:07.140387Z",
     "shell.execute_reply.started": "2022-09-25T14:09:07.134952Z"
    },
    "tags": []
   },
   "outputs": [],
   "source": [
    "# Define number of PCA components\n",
    "num_pca_components = 1000\n",
    "\n",
    "pipelines = {\n",
    "    'xgb' : make_pipeline(MinMaxScaler(), \n",
    "                          PCA(num_pca_components),\n",
    "                          XGBClassifier(random_state=random_state)),\n",
    "    'lr' : make_pipeline(MinMaxScaler(),\n",
    "                         PCA(num_pca_components),\n",
    "                         LogisticRegression(max_iter=25000, random_state=random_state)),    \n",
    "    'svm' : make_pipeline(MinMaxScaler(),\n",
    "                          PCA(num_pca_components),\n",
    "                          SVC(random_state=random_state)),\n",
    "    'rf' : make_pipeline(MinMaxScaler(),\n",
    "                         PCA(num_pca_components),\n",
    "                         RandomForestClassifier(random_state=random_state))\n",
    "}"
   ]
  },
  {
   "cell_type": "code",
   "execution_count": 6,
   "id": "d4d42e23-a109-447b-9d1f-fe95d1ce6e40",
   "metadata": {
    "execution": {
     "iopub.execute_input": "2022-09-25T14:09:08.284720Z",
     "iopub.status.busy": "2022-09-25T14:09:08.284408Z",
     "iopub.status.idle": "2022-09-25T14:09:08.289914Z",
     "shell.execute_reply": "2022-09-25T14:09:08.288811Z",
     "shell.execute_reply.started": "2022-09-25T14:09:08.284701Z"
    },
    "tags": []
   },
   "outputs": [],
   "source": [
    "num_pca_components = 1000\n",
    "pipelines = {\n",
    "    'xgb' : make_pipeline(MinMaxScaler(), \n",
    "                          PCA(num_pca_components),\n",
    "                          XGBClassifier(random_state=random_state)),\n",
    "    'svm' : make_pipeline(MinMaxScaler(),\n",
    "                          PCA(num_pca_components),\n",
    "                          SVC(random_state=random_state))\n",
    "}"
   ]
  },
  {
   "cell_type": "markdown",
   "id": "f95f2601-fc3c-4a3e-865e-ccccdbfdf3c4",
   "metadata": {},
   "source": [
    "### Define Hyperparameter Grids\n",
    "\n",
    "Define hyperparamter grids for chosen ML algorithms."
   ]
  },
  {
   "cell_type": "code",
   "execution_count": 7,
   "id": "1300ab6a-edf9-4718-a372-9801901d43a3",
   "metadata": {
    "execution": {
     "iopub.execute_input": "2022-09-25T14:09:12.661083Z",
     "iopub.status.busy": "2022-09-25T14:09:12.660433Z",
     "iopub.status.idle": "2022-09-25T14:09:12.665980Z",
     "shell.execute_reply": "2022-09-25T14:09:12.665153Z",
     "shell.execute_reply.started": "2022-09-25T14:09:12.661062Z"
    },
    "tags": []
   },
   "outputs": [],
   "source": [
    "# XGBoost\n",
    "xgb_grid = {\n",
    "        'xgbclassifier__max_depth': [3, 5],\n",
    "         'xgbclassifier__n_estimators': [100, 200],\n",
    "        }\n",
    "# SVC\n",
    "svm_grid = {\n",
    "        'svc__kernel' : ['linear', 'rbf'],\n",
    "        'svc__C': [0.01, 0.1, 1]\n",
    "    }\n",
    "# Random Forest\n",
    "rf_grid = {\n",
    "        'randomforestclassifier__n_estimators' : [100, 150],\n",
    "        'randomforestclassifier__min_samples_leaf' : [1, 3],\n",
    "        'randomforestclassifier__min_samples_split' : [2, 3]\n",
    "    }\n",
    "# Logistic Regression\n",
    "lr_grid = {\n",
    "        'logisticregression__C' : [0.1, 1],\n",
    "        'logisticregression__solver' : ['lbfgs', 'saga']\n",
    "    }"
   ]
  },
  {
   "cell_type": "markdown",
   "id": "9988ab3f-a39f-4c2e-b5da-7edface62adc",
   "metadata": {},
   "source": [
    "#### Create dictionary for hyperparameter grids"
   ]
  },
  {
   "cell_type": "code",
   "execution_count": 8,
   "id": "d1dbf049-d5a4-46a4-b30a-a423094bb393",
   "metadata": {
    "execution": {
     "iopub.execute_input": "2022-09-25T14:09:13.592977Z",
     "iopub.status.busy": "2022-09-25T14:09:13.592678Z",
     "iopub.status.idle": "2022-09-25T14:09:13.597587Z",
     "shell.execute_reply": "2022-09-25T14:09:13.596648Z",
     "shell.execute_reply.started": "2022-09-25T14:09:13.592959Z"
    },
    "tags": []
   },
   "outputs": [],
   "source": [
    "# Create hyperparameter grids dictionary\n",
    "hp_grids = {\n",
    "    'lr' : lr_grid,\n",
    "    'svm' : svm_grid,\n",
    "    'rf' : rf_grid,\n",
    "    'xgb' : xgb_grid\n",
    "}"
   ]
  },
  {
   "cell_type": "markdown",
   "id": "978ea257-3683-4f35-8c12-17faeb675636",
   "metadata": {},
   "source": [
    "### Get embedding folders and fasta files for the task."
   ]
  },
  {
   "cell_type": "markdown",
   "id": "76456f09-c358-491e-9f1a-6ee7a80a9a19",
   "metadata": {},
   "source": [
    "For our modelling we will need to use previously created fasta files:"
   ]
  },
  {
   "cell_type": "code",
   "execution_count": null,
   "id": "2f056a20-593b-4d73-b163-ca0efd56a3a6",
   "metadata": {
    "execution": {
     "iopub.execute_input": "2022-09-25T19:36:00.476628Z",
     "iopub.status.busy": "2022-09-25T19:36:00.476350Z",
     "iopub.status.idle": "2022-09-25T19:36:00.620870Z",
     "shell.execute_reply": "2022-09-25T19:36:00.619845Z",
     "shell.execute_reply.started": "2022-09-25T19:36:00.476605Z"
    }
   },
   "outputs": [
    {
     "name": "stdout",
     "output_type": "stream",
     "text": [
      "├── [ 17K Sep 10 20:16]  ../../data/acp/test_data.fa\n",
      "└── [ 66K Sep  3 22:26]  ../../data/acp/train_data.fa\n"
     ]
    }
   ],
   "source": [
    "!tree -nhDL 1 ../../data/\"{task}\"/ -fP *.fa | grep fa"
   ]
  },
  {
   "cell_type": "markdown",
   "id": "7e5e21e2-6d22-4954-9756-1750042aae25",
   "metadata": {},
   "source": [
    "<br>\n",
    "\n",
    "and embedding `.pt` files in these folders:"
   ]
  },
  {
   "cell_type": "code",
   "execution_count": null,
   "id": "9c742696-6d75-423e-8352-4dfe10c7d5ca",
   "metadata": {
    "execution": {
     "iopub.execute_input": "2022-09-25T19:27:40.469191Z",
     "iopub.status.busy": "2022-09-25T19:27:40.468660Z",
     "iopub.status.idle": "2022-09-25T19:27:40.714808Z",
     "shell.execute_reply": "2022-09-25T19:27:40.713682Z",
     "shell.execute_reply.started": "2022-09-25T19:27:40.469169Z"
    }
   },
   "outputs": [
    {
     "name": "stdout",
     "output_type": "stream",
     "text": [
      "│   │   ├── [4.0K Sep 10 20:50]  ../../data/acp/esm/test/acp_test_esm1b_mean\n",
      "│   │   └── [4.0K Sep 10 20:47]  ../../data/acp/esm/test/acp_test_esm1v_mean\n",
      "│       ├── [4.0K Sep  6 16:40]  ../../data/acp/esm/train/acp_train_esm1b_mean\n",
      "│       └── [4.0K Sep  6 16:01]  ../../data/acp/esm/train/acp_train_esm1v_mean\n",
      "    │   ├── [4.0K Sep 10 20:35]  ../../data/acp/prose/test/acp_test_dlm_avg\n",
      "    │   ├── [4.0K Sep 10 20:37]  ../../data/acp/prose/test/acp_test_dlm_max\n",
      "    │   ├── [4.0K Sep 10 20:37]  ../../data/acp/prose/test/acp_test_dlm_sum\n",
      "    │   ├── [4.0K Sep 10 20:37]  ../../data/acp/prose/test/acp_test_mt_avg\n",
      "    │   ├── [4.0K Sep 10 20:38]  ../../data/acp/prose/test/acp_test_mt_max\n",
      "    │   └── [4.0K Sep 10 20:38]  ../../data/acp/prose/test/acp_test_mt_sum\n",
      "        ├── [4.0K Sep  5 15:10]  ../../data/acp/prose/train/acp_train_dlm_avg\n",
      "        ├── [4.0K Sep  5 15:18]  ../../data/acp/prose/train/acp_train_dlm_max\n",
      "        ├── [4.0K Sep  5 15:28]  ../../data/acp/prose/train/acp_train_dlm_sum\n",
      "        ├── [4.0K Sep  5 15:44]  ../../data/acp/prose/train/acp_train_mt_avg\n",
      "        ├── [4.0K Sep  5 15:48]  ../../data/acp/prose/train/acp_train_mt_max\n",
      "        └── [4.0K Sep  5 15:50]  ../../data/acp/prose/train/acp_train_mt_sum\n"
     ]
    }
   ],
   "source": [
    "!tree -nhDL 3 ../../data/\"{task}\"/ -df | grep 'esm1\\|mt\\|dlm'"
   ]
  },
  {
   "cell_type": "markdown",
   "id": "3e66d947-369e-4102-8d6b-84575a98eac4",
   "metadata": {},
   "source": [
    "<br>  \n",
    "\n",
    "To get paths for embedding folders and fasta files we will use the function `get_emb_folders()`."
   ]
  },
  {
   "cell_type": "code",
   "execution_count": 4,
   "id": "ca536a8c-eef6-415a-b586-56b909890dd1",
   "metadata": {
    "execution": {
     "iopub.execute_input": "2022-09-25T14:09:03.784688Z",
     "iopub.status.busy": "2022-09-25T14:09:03.784254Z",
     "iopub.status.idle": "2022-09-25T14:09:04.022036Z",
     "shell.execute_reply": "2022-09-25T14:09:04.021168Z",
     "shell.execute_reply.started": "2022-09-25T14:09:03.784666Z"
    },
    "tags": []
   },
   "outputs": [],
   "source": [
    "pt_folders, fa_files = mu.get_emb_folders(task)"
   ]
  },
  {
   "cell_type": "markdown",
   "id": "68ac1c2a-14c4-4cfe-90f8-9912c8cc6414",
   "metadata": {},
   "source": [
    "## Modelling Loop"
   ]
  },
  {
   "cell_type": "markdown",
   "id": "c198a2c2-dc95-46ca-bf41-ad85d38d20a6",
   "metadata": {},
   "source": [
    "The modelling loop includes the following steps:\n",
    "\n",
    "1. Loop through train and test embedding folders\n",
    "2. Run the function `read_embeddings()` for train embeddings to get `X_train` and `y_train`\n",
    "3. Run the function `read_embeddings()` for test embeddings to get `X_test` and `y_test`\n",
    "4. Define and print the output header\n",
    "5. Use the function `fit_tune_CV()`to to do the following:\n",
    "   - use above defined `pipelines` and `hp_grids` dictionaries and `GridSearchCV()` to get models\n",
    "   - save the models with `joblib()`\n",
    "   - create a dictionary of the models for one set of embedding folders\n",
    "6. Run the function `evaluation()` to create evaluation dataframe for one set of embedding folders\n"
   ]
  },
  {
   "cell_type": "code",
   "execution_count": 9,
   "id": "2c0eead5-f993-47db-b9a7-72588844b28c",
   "metadata": {
    "execution": {
     "iopub.execute_input": "2022-09-25T14:09:22.882989Z",
     "iopub.status.busy": "2022-09-25T14:09:22.882628Z",
     "iopub.status.idle": "2022-09-25T14:13:32.826668Z",
     "shell.execute_reply": "2022-09-25T14:13:32.825721Z",
     "shell.execute_reply.started": "2022-09-25T14:09:22.882950Z"
    },
    "tags": []
   },
   "outputs": [
    {
     "name": "stdout",
     "output_type": "stream",
     "text": [
      "---------------------------------------------------------------------------\n",
      "\tPretrained Model \"esm1v\" by ESM - Pooling Operation: \"mean\"\n",
      "---------------------------------------------------------------------------\n",
      "esm1v_mean_xgb has been fitted and saved\n",
      "esm1v_mean_svm has been fitted and saved\n",
      "---------------------------------------------------------------------------\n",
      "\tPretrained Model \"dlm\" by ProSE - Pooling Operation: \"avg\"\n",
      "---------------------------------------------------------------------------\n",
      "dlm_avg_xgb has been fitted and saved\n",
      "dlm_avg_svm has been fitted and saved\n"
     ]
    }
   ],
   "source": [
    "# Initialize dictionary to keep evaluation dataframes \n",
    "# One dataframe per embeddings folder (train+test, or all_data)\n",
    "df_models = {}\n",
    "\n",
    "## for i in range(len(pt_folders)):\n",
    "for i in range(1,3):\n",
    "    \n",
    "    # Train\n",
    "    # second index: 0 - train, 1 - test\n",
    "    path_fa, path_pt = fa_files[0][0], pt_folders[i][0]\n",
    "    pool = os.path.split(path_pt)[1].split('_')[-1]\n",
    "    emb_layer = 33 if 'esm' in path_pt else 'layer'\n",
    "    X_train, y_train, sequence_id_train = fu.read_embeddings(path_fa, path_pt, pool, emb_layer,print_dims=False)\n",
    "    \n",
    "    # Test\n",
    "    path_fa, path_pt = fa_files[0][1], pt_folders[i][1]\n",
    "    X_test, y_test, sequence_id_train = fu.read_embeddings(path_fa, path_pt, pool, emb_layer, print_dims=False)  \n",
    "\n",
    "    # Extensions for evaluations dataframes\n",
    "    df_ext = os.path.split(path_pt)[1].split('_', 1)[1].split('_', 1)[1]\n",
    "    \n",
    "    # Printing output header\n",
    "    ptm = df_ext.split('_')[0]\n",
    "    ptr = 'ESM' if 'esm' in ptm else 'ProSE'\n",
    "    print('-' * 75)\n",
    "    print(f'\\tPretrained Model \"{ptm}\" by {ptr} - Pooling Operation: \"{pool}\"')\n",
    "    print('-' * 75)\n",
    "    \n",
    "    # Grid search and fit\n",
    "    fitted_models = mu.fit_tune_CV(pipelines, hp_grids, 'accuracy', path_pt, X_train, y_train, task)\n",
    "    \n",
    "    # Save valuation dataframe into dictionary\n",
    "    df_models[f'eval_{df_ext}'] = mu.evaluation(fitted_models, X_test, y_test)"
   ]
  },
  {
   "cell_type": "markdown",
   "id": "58c6ca13-f2bc-43c3-aee9-ac5b7f9deb3f",
   "metadata": {},
   "source": [
    "<br>\n",
    "\n",
    "Let's list the keys of the `df_models` dictionary:"
   ]
  },
  {
   "cell_type": "code",
   "execution_count": 10,
   "id": "7a1f36ac-cc28-4a82-9afa-c44ac9b79dd9",
   "metadata": {
    "execution": {
     "iopub.execute_input": "2022-09-25T14:19:49.724030Z",
     "iopub.status.busy": "2022-09-25T14:19:49.723743Z",
     "iopub.status.idle": "2022-09-25T14:19:49.733463Z",
     "shell.execute_reply": "2022-09-25T14:19:49.732643Z",
     "shell.execute_reply.started": "2022-09-25T14:19:49.724006Z"
    },
    "tags": []
   },
   "outputs": [
    {
     "data": {
      "text/plain": [
       "dict_keys(['eval_esm1v_mean', 'eval_dlm_avg'])"
      ]
     },
     "execution_count": 10,
     "metadata": {},
     "output_type": "execute_result"
    }
   ],
   "source": [
    "df_models.keys()"
   ]
  },
  {
   "cell_type": "markdown",
   "id": "7b525762-a464-4134-b9cd-8f820d5bbb12",
   "metadata": {},
   "source": [
    "<br>\n",
    "Let's check a dataframe for randomly chosen key (set of embedding folders)"
   ]
  },
  {
   "cell_type": "code",
   "execution_count": 32,
   "id": "ececf340-a583-450c-b359-5422a331bc53",
   "metadata": {
    "execution": {
     "iopub.execute_input": "2022-09-25T22:55:26.366107Z",
     "iopub.status.busy": "2022-09-25T22:55:26.365808Z",
     "iopub.status.idle": "2022-09-25T22:55:26.374424Z",
     "shell.execute_reply": "2022-09-25T22:55:26.373379Z",
     "shell.execute_reply.started": "2022-09-25T22:55:26.366057Z"
    },
    "tags": []
   },
   "outputs": [
    {
     "data": {
      "text/html": [
       "<div>\n",
       "<style scoped>\n",
       "    .dataframe tbody tr th:only-of-type {\n",
       "        vertical-align: middle;\n",
       "    }\n",
       "\n",
       "    .dataframe tbody tr th {\n",
       "        vertical-align: top;\n",
       "    }\n",
       "\n",
       "    .dataframe thead th {\n",
       "        text-align: right;\n",
       "    }\n",
       "</style>\n",
       "<table border=\"1\" class=\"dataframe\">\n",
       "  <thead>\n",
       "    <tr style=\"text-align: right;\">\n",
       "      <th></th>\n",
       "      <th>cv_best_score</th>\n",
       "      <th>f1_macro</th>\n",
       "      <th>accuracy</th>\n",
       "    </tr>\n",
       "    <tr>\n",
       "      <th>model</th>\n",
       "      <th></th>\n",
       "      <th></th>\n",
       "      <th></th>\n",
       "    </tr>\n",
       "  </thead>\n",
       "  <tbody>\n",
       "    <tr>\n",
       "      <th>esm1v_mean_xgb</th>\n",
       "      <td>0.687963</td>\n",
       "      <td>0.691694</td>\n",
       "      <td>0.691860</td>\n",
       "    </tr>\n",
       "    <tr>\n",
       "      <th>esm1v_mean_svm</th>\n",
       "      <td>0.729318</td>\n",
       "      <td>0.726291</td>\n",
       "      <td>0.726744</td>\n",
       "    </tr>\n",
       "  </tbody>\n",
       "</table>\n",
       "</div>"
      ],
      "text/plain": [
       "                cv_best_score  f1_macro  accuracy\n",
       "model                                            \n",
       "esm1v_mean_xgb       0.687963  0.691694  0.691860\n",
       "esm1v_mean_svm       0.729318  0.726291  0.726744"
      ]
     },
     "execution_count": 32,
     "metadata": {},
     "output_type": "execute_result"
    }
   ],
   "source": [
    "import random\n",
    "df_models[list(df_models.keys())[random.randint(0, len(df_models))]]"
   ]
  },
  {
   "cell_type": "markdown",
   "id": "a011561a-1e58-45d8-94e0-63c23688be20",
   "metadata": {},
   "source": [
    "## Collecting Evaluation Results into a DataFrame"
   ]
  },
  {
   "cell_type": "markdown",
   "id": "15a3c4f1-900b-4244-9c09-0d98aa87cdc7",
   "metadata": {},
   "source": [
    "To compare evaluations for all models collect results from all dataframes into one dataframe.  \n",
    "\n",
    "To do that, we will merge all dataframes from the dictionary `df_models`."
   ]
  },
  {
   "cell_type": "code",
   "execution_count": 12,
   "id": "efef645f-0ba9-4f1f-bd6e-1a3be30d7e71",
   "metadata": {
    "execution": {
     "iopub.execute_input": "2022-09-25T14:20:03.355941Z",
     "iopub.status.busy": "2022-09-25T14:20:03.355563Z",
     "iopub.status.idle": "2022-09-25T14:20:03.364230Z",
     "shell.execute_reply": "2022-09-25T14:20:03.363214Z",
     "shell.execute_reply.started": "2022-09-25T14:20:03.355918Z"
    },
    "tags": []
   },
   "outputs": [],
   "source": [
    "# Create a dataframe with evaluations for all models\n",
    "\n",
    "# initialize dataframe\n",
    "eval_df_all = pd.DataFrame()\n",
    "# concatenate all dataframes from dictionary df_models\n",
    "# Iterate through all dictionary keys \n",
    "for i in df_models.keys():\n",
    "    # Use a temporary dataframe to hold one iteraton's dataframe\n",
    "    eval_df_t = df_models[i].copy().reset_index()\n",
    "    eval_df_all = pd.concat([eval_df_all, eval_df_t])\n",
    "\n",
    "# Set the column 'model' as an index\n",
    "eval_df_all = eval_df_all.set_index('model')"
   ]
  },
  {
   "cell_type": "markdown",
   "id": "bb4b36ba-4f5e-49ea-a883-bffbedc6ec71",
   "metadata": {},
   "source": [
    "#### Display the results sorted by \"accuracy\""
   ]
  },
  {
   "cell_type": "code",
   "execution_count": 13,
   "id": "928ff706-6507-4dc9-af58-41c7c79f5171",
   "metadata": {
    "execution": {
     "iopub.execute_input": "2022-09-25T14:20:07.906911Z",
     "iopub.status.busy": "2022-09-25T14:20:07.906666Z",
     "iopub.status.idle": "2022-09-25T14:20:07.916349Z",
     "shell.execute_reply": "2022-09-25T14:20:07.915266Z",
     "shell.execute_reply.started": "2022-09-25T14:20:07.906892Z"
    },
    "tags": []
   },
   "outputs": [
    {
     "data": {
      "text/html": [
       "<div>\n",
       "<style scoped>\n",
       "    .dataframe tbody tr th:only-of-type {\n",
       "        vertical-align: middle;\n",
       "    }\n",
       "\n",
       "    .dataframe tbody tr th {\n",
       "        vertical-align: top;\n",
       "    }\n",
       "\n",
       "    .dataframe thead th {\n",
       "        text-align: right;\n",
       "    }\n",
       "</style>\n",
       "<table border=\"1\" class=\"dataframe\">\n",
       "  <thead>\n",
       "    <tr style=\"text-align: right;\">\n",
       "      <th></th>\n",
       "      <th>cv_best_score</th>\n",
       "      <th>f1_macro</th>\n",
       "      <th>accuracy</th>\n",
       "    </tr>\n",
       "    <tr>\n",
       "      <th>model</th>\n",
       "      <th></th>\n",
       "      <th></th>\n",
       "      <th></th>\n",
       "    </tr>\n",
       "  </thead>\n",
       "  <tbody>\n",
       "    <tr>\n",
       "      <th>dlm_avg_svm</th>\n",
       "      <td>0.757621</td>\n",
       "      <td>0.749966</td>\n",
       "      <td>0.750000</td>\n",
       "    </tr>\n",
       "    <tr>\n",
       "      <th>esm1v_mean_svm</th>\n",
       "      <td>0.729318</td>\n",
       "      <td>0.726291</td>\n",
       "      <td>0.726744</td>\n",
       "    </tr>\n",
       "    <tr>\n",
       "      <th>dlm_avg_xgb</th>\n",
       "      <td>0.702466</td>\n",
       "      <td>0.703238</td>\n",
       "      <td>0.703488</td>\n",
       "    </tr>\n",
       "    <tr>\n",
       "      <th>esm1v_mean_xgb</th>\n",
       "      <td>0.687963</td>\n",
       "      <td>0.691694</td>\n",
       "      <td>0.691860</td>\n",
       "    </tr>\n",
       "  </tbody>\n",
       "</table>\n",
       "</div>"
      ],
      "text/plain": [
       "                cv_best_score  f1_macro  accuracy\n",
       "model                                            \n",
       "dlm_avg_svm          0.757621  0.749966  0.750000\n",
       "esm1v_mean_svm       0.729318  0.726291  0.726744\n",
       "dlm_avg_xgb          0.702466  0.703238  0.703488\n",
       "esm1v_mean_xgb       0.687963  0.691694  0.691860"
      ]
     },
     "execution_count": 13,
     "metadata": {},
     "output_type": "execute_result"
    }
   ],
   "source": [
    "# Display the dataframe\n",
    "eval_df_all.sort_values(by=['accuracy'], ascending=False)"
   ]
  },
  {
   "cell_type": "markdown",
   "id": "d793f9b7-0a51-41af-8de7-ca88858f107f",
   "metadata": {},
   "source": [
    "### Saving dataframe for future use"
   ]
  },
  {
   "cell_type": "code",
   "execution_count": 15,
   "id": "e485790d-908e-44f3-93ce-5ddcbb6a7c20",
   "metadata": {
    "execution": {
     "iopub.execute_input": "2022-09-25T14:24:29.055360Z",
     "iopub.status.busy": "2022-09-25T14:24:29.055119Z",
     "iopub.status.idle": "2022-09-25T14:24:29.077532Z",
     "shell.execute_reply": "2022-09-25T14:24:29.076808Z",
     "shell.execute_reply.started": "2022-09-25T14:24:29.055342Z"
    },
    "tags": []
   },
   "outputs": [],
   "source": [
    "file_path = '../../results/ACP_classifiers.csv'\n",
    "eval_df_all.to_csv(file_path)"
   ]
  },
  {
   "cell_type": "markdown",
   "id": "abcd5a26-164d-472f-ac0a-319ec27dd48d",
   "metadata": {},
   "source": [
    "<br>\n",
    "\n",
    "When you need to work with the results from the file, read it with the parameter `index_col=`:   \n",
    "```python\n",
    "df = pd.read_csv(file_path, index_col='model')\n",
    "```"
   ]
  },
  {
   "cell_type": "code",
   "execution_count": 18,
   "id": "e44e0fff-8299-4158-be1d-6088b21a957c",
   "metadata": {
    "execution": {
     "iopub.execute_input": "2022-09-25T14:49:34.843826Z",
     "iopub.status.busy": "2022-09-25T14:49:34.843582Z",
     "iopub.status.idle": "2022-09-25T14:49:34.907472Z",
     "shell.execute_reply": "2022-09-25T14:49:34.906857Z",
     "shell.execute_reply.started": "2022-09-25T14:49:34.843808Z"
    }
   },
   "outputs": [],
   "source": [
    "import joblib\n",
    "saved_path = '../../saved_models/acp/acp_dlm_avg_xgb.sav'\n",
    "saved_model = joblib.load(saved_path)"
   ]
  },
  {
   "cell_type": "code",
   "execution_count": 19,
   "id": "f37fa5a6-bc18-41b6-942c-5f5dd0983d04",
   "metadata": {
    "execution": {
     "iopub.execute_input": "2022-09-25T14:51:58.668622Z",
     "iopub.status.busy": "2022-09-25T14:51:58.668088Z",
     "iopub.status.idle": "2022-09-25T14:51:58.910736Z",
     "shell.execute_reply": "2022-09-25T14:51:58.909135Z",
     "shell.execute_reply.started": "2022-09-25T14:51:58.668597Z"
    }
   },
   "outputs": [
    {
     "data": {
      "text/plain": [
       "0.7034883720930233"
      ]
     },
     "execution_count": 19,
     "metadata": {},
     "output_type": "execute_result"
    }
   ],
   "source": [
    "from sklearn.metrics import accuracy_score, f1_score\n",
    "y_pred = saved_model.predict(X_test)\n",
    "accuracy = accuracy_score(y_test, y_pred)\n",
    "accuracy"
   ]
  },
  {
   "cell_type": "code",
   "execution_count": null,
   "id": "8bda6b25-f711-4d2c-b877-cbe6bae9a674",
   "metadata": {},
   "outputs": [],
   "source": []
  }
 ],
 "metadata": {
  "kernelspec": {
   "display_name": "sa",
   "language": "python",
   "name": "conda-env-sa-py"
  },
  "language_info": {
   "codemirror_mode": {
    "name": "ipython",
    "version": 3
   },
   "file_extension": ".py",
   "mimetype": "text/x-python",
   "name": "python",
   "nbconvert_exporter": "python",
   "pygments_lexer": "ipython3",
   "version": "3.8.13"
  },
  "widgets": {
   "application/vnd.jupyter.widget-state+json": {
    "state": {},
    "version_major": 2,
    "version_minor": 0
   }
  }
 },
 "nbformat": 4,
 "nbformat_minor": 5
}
