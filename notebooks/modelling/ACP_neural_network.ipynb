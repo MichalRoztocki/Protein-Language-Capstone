{
 "cells": [
  {
   "cell_type": "code",
   "execution_count": 1,
   "id": "b846b2d8-51ae-4e9a-bc92-99cededc112b",
   "metadata": {
    "execution": {
     "iopub.execute_input": "2022-09-19T01:15:35.542085Z",
     "iopub.status.busy": "2022-09-19T01:15:35.541629Z",
     "iopub.status.idle": "2022-09-19T01:15:39.953223Z",
     "shell.execute_reply": "2022-09-19T01:15:39.952340Z",
     "shell.execute_reply.started": "2022-09-19T01:15:35.542026Z"
    },
    "tags": []
   },
   "outputs": [],
   "source": [
    "import os\n",
    "import pandas as pd\n",
    "import numpy as np\n",
    "# To remove these warnings : \"Your kernel may have been built without NUMA support.\"\n",
    "#   run these 2 lines before importing tensorflow\n",
    "os.environ['TF_CPP_MIN_LOG_LEVEL'] = '1'        # or any {'0', '1', '2', '3'}\n",
    "\n",
    "import tensorflow as tf \n",
    "random_state = 10\n",
    "np.random.seed(random_state)\n",
    "tf.random.set_seed(random_state)\n",
    "\n",
    "\n",
    "# Matplotlib for visualization\n",
    "from matplotlib import pyplot as plt\n",
    "# display plots in the notebook\n",
    "%matplotlib inline\n",
    "\n",
    "# Seaborn for easier visualization\n",
    "import seaborn as sns\n",
    "### sns.set_style('darkgrid')\n",
    "\n",
    "# store elements as dictionary keys and their counts as dictionary values\n",
    "from collections import Counter\n",
    "\n",
    "# scikit-learn\n",
    "from sklearn.model_selection import train_test_split, StratifiedKFold\n",
    "from sklearn.decomposition import PCA\n",
    "from sklearn.model_selection import GridSearchCV\n",
    "\n",
    "from sklearn.preprocessing import MinMaxScaler, LabelEncoder, LabelBinarizer\n",
    "from sklearn.pipeline import make_pipeline, Pipeline\n",
    "\n",
    "# Classification metrics\n",
    "from sklearn.metrics import confusion_matrix, classification_report, accuracy_score\n",
    "\n",
    "# Keras\n",
    "# from tensorflow.keras.wrappers.scikit_learn import KerasClassifier\n",
    "\n",
    "from tensorflow.keras.layers import Dense, Input, Dropout\n",
    "from tensorflow.keras.models import Sequential\n",
    "from tensorflow.keras.utils import to_categorical \n",
    "\n",
    "from scikeras.wrappers import KerasClassifier"
   ]
  },
  {
   "cell_type": "code",
   "execution_count": 2,
   "id": "f149ee94-8f14-4edc-817a-b7e15624acce",
   "metadata": {
    "execution": {
     "iopub.execute_input": "2022-09-19T01:15:39.955247Z",
     "iopub.status.busy": "2022-09-19T01:15:39.954774Z",
     "iopub.status.idle": "2022-09-19T01:15:41.446469Z",
     "shell.execute_reply": "2022-09-19T01:15:41.445349Z",
     "shell.execute_reply.started": "2022-09-19T01:15:39.955211Z"
    },
    "tags": []
   },
   "outputs": [],
   "source": [
    "# Import the script from different folder\n",
    "import sys  \n",
    "sys.path.append('../scripts')\n",
    "\n",
    "import file_utilities as fu"
   ]
  },
  {
   "cell_type": "markdown",
   "id": "b0c9687a-bf2e-46e7-8444-a7a15c0e954a",
   "metadata": {},
   "source": [
    "## ProSE embeddings\n"
   ]
  },
  {
   "cell_type": "markdown",
   "id": "a1178ecc-9a4c-4e64-8a84-ce0c827ee119",
   "metadata": {},
   "source": [
    "Initiaize arguments"
   ]
  },
  {
   "cell_type": "code",
   "execution_count": 3,
   "id": "accc113a-1d21-4733-9cc7-b3a550643d91",
   "metadata": {
    "execution": {
     "iopub.execute_input": "2022-09-19T01:15:41.448033Z",
     "iopub.status.busy": "2022-09-19T01:15:41.447721Z",
     "iopub.status.idle": "2022-09-19T01:15:41.453446Z",
     "shell.execute_reply": "2022-09-19T01:15:41.452412Z",
     "shell.execute_reply.started": "2022-09-19T01:15:41.448008Z"
    },
    "tags": []
   },
   "outputs": [],
   "source": [
    "# Define arguments for the file_paths function\n",
    "task = 'acp'\n",
    "ptmodel = 'prose'\n",
    "file_base = 'train'\n",
    "model = 'prose_dlm'\n",
    "emb_layer = 'layer'\n",
    "pool = 'avg'  \n"
   ]
  },
  {
   "cell_type": "markdown",
   "id": "f9965d9c-c1a0-4c53-8501-99da644ae432",
   "metadata": {},
   "source": [
    "### ProSE DLM model - prose_dlm"
   ]
  },
  {
   "cell_type": "markdown",
   "id": "c55b6f57-1554-461f-b0f8-a2e82bbf1bb3",
   "metadata": {
    "tags": []
   },
   "source": [
    "- **Pooling Operation:  `avg`**"
   ]
  },
  {
   "cell_type": "markdown",
   "id": "f6972b56-7460-4ebf-a232-6ec4e31cfd52",
   "metadata": {},
   "source": [
    "### Train Dataset"
   ]
  },
  {
   "cell_type": "markdown",
   "id": "104804ad-e39a-4240-80b9-edc7da4a4923",
   "metadata": {},
   "source": [
    "Run the script `file_paths` to prepare paths. The default root data folder is *../data*."
   ]
  },
  {
   "cell_type": "code",
   "execution_count": 4,
   "id": "d6bcadce-2f90-4d8a-a45a-f8743e2ae328",
   "metadata": {
    "execution": {
     "iopub.execute_input": "2022-09-19T01:15:41.454932Z",
     "iopub.status.busy": "2022-09-19T01:15:41.454612Z",
     "iopub.status.idle": "2022-09-19T01:15:41.473401Z",
     "shell.execute_reply": "2022-09-19T01:15:41.472201Z",
     "shell.execute_reply.started": "2022-09-19T01:15:41.454906Z"
    },
    "tags": []
   },
   "outputs": [
    {
     "name": "stdout",
     "output_type": "stream",
     "text": [
      " ../data/acp/train_data.fa \n",
      " ../data/acp/prose/train/acp_train_dlm_avg\n"
     ]
    }
   ],
   "source": [
    "# Prepare paths\n",
    "path_pt, _, path_fa = fu.file_paths(ptmodel, task, file_base, model, pool)\n",
    "print('', path_fa, '\\n', path_pt)"
   ]
  },
  {
   "cell_type": "code",
   "execution_count": 5,
   "id": "3c26f2f1-3663-440d-9bec-da560e71aca3",
   "metadata": {
    "execution": {
     "iopub.execute_input": "2022-09-19T01:15:41.475965Z",
     "iopub.status.busy": "2022-09-19T01:15:41.475445Z",
     "iopub.status.idle": "2022-09-19T01:15:47.448664Z",
     "shell.execute_reply": "2022-09-19T01:15:47.447837Z",
     "shell.execute_reply.started": "2022-09-19T01:15:41.475942Z"
    },
    "tags": []
   },
   "outputs": [
    {
     "name": "stdout",
     "output_type": "stream",
     "text": [
      "Shape of embeddings: \t\t(1378, 6165)\n",
      "Length of target label list:\t1378\n",
      "Length of sequential ids list:\t1378\n"
     ]
    }
   ],
   "source": [
    "X_train, y_train, sequence_id_train = fu.read_embeddings(path_fa, path_pt, pool, emb_layer)"
   ]
  },
  {
   "cell_type": "markdown",
   "id": "7f337a50-6390-4684-8d06-8f090e7f81db",
   "metadata": {},
   "source": [
    "### Test Dataset"
   ]
  },
  {
   "cell_type": "code",
   "execution_count": 6,
   "id": "d2f60a6c-1d50-40be-97d9-8f61c6ea4ab6",
   "metadata": {
    "execution": {
     "iopub.execute_input": "2022-09-19T01:15:47.449895Z",
     "iopub.status.busy": "2022-09-19T01:15:47.449678Z",
     "iopub.status.idle": "2022-09-19T01:15:47.457560Z",
     "shell.execute_reply": "2022-09-19T01:15:47.456739Z",
     "shell.execute_reply.started": "2022-09-19T01:15:47.449876Z"
    },
    "tags": []
   },
   "outputs": [
    {
     "name": "stdout",
     "output_type": "stream",
     "text": [
      " ../data/acp/test_data.fa \n",
      " ../data/acp/prose/test/acp_test_dlm_avg\n"
     ]
    }
   ],
   "source": [
    "# Update arguments\n",
    "file_base = 'test'\n",
    "# Prepare paths\n",
    "path_pt, _, path_fa = fu.file_paths(ptmodel, task, file_base, model, pool)\n",
    "print('', path_fa, '\\n', path_pt)"
   ]
  },
  {
   "cell_type": "code",
   "execution_count": 7,
   "id": "cf7cdb89-f4c2-4da1-a2f8-3690bb8313a3",
   "metadata": {
    "execution": {
     "iopub.execute_input": "2022-09-19T01:15:47.458604Z",
     "iopub.status.busy": "2022-09-19T01:15:47.458374Z",
     "iopub.status.idle": "2022-09-19T01:15:49.072780Z",
     "shell.execute_reply": "2022-09-19T01:15:49.072042Z",
     "shell.execute_reply.started": "2022-09-19T01:15:47.458584Z"
    },
    "tags": []
   },
   "outputs": [
    {
     "name": "stdout",
     "output_type": "stream",
     "text": [
      "Shape of embeddings: \t\t(344, 6165)\n",
      "Length of target label list:\t344\n",
      "Length of sequential ids list:\t344\n"
     ]
    }
   ],
   "source": [
    "X_test, y_test, sequence_id_test = fu.read_embeddings(path_fa, path_pt, pool, emb_layer)"
   ]
  },
  {
   "cell_type": "markdown",
   "id": "f0d84961-c682-4812-b2d8-888081bfba27",
   "metadata": {},
   "source": [
    "### Label encoding"
   ]
  },
  {
   "cell_type": "markdown",
   "id": "367b424c-c13e-4bcb-bb3a-c69eba0abadc",
   "metadata": {},
   "source": [
    "- Our target variable represents a binary category which has been coded as numbers 0 and 1, hence we will have to encode it. To achieve that we will use  the `to_categorical()` function from the Keras utilities package. \n",
    "- The two lines of code below accomplishes that in both training and test datasets."
   ]
  },
  {
   "cell_type": "code",
   "execution_count": 8,
   "id": "d9490fc7-9416-4b56-81cb-f57fbc3fb795",
   "metadata": {
    "execution": {
     "iopub.execute_input": "2022-09-19T01:15:49.073943Z",
     "iopub.status.busy": "2022-09-19T01:15:49.073735Z",
     "iopub.status.idle": "2022-09-19T01:15:49.077920Z",
     "shell.execute_reply": "2022-09-19T01:15:49.077135Z",
     "shell.execute_reply.started": "2022-09-19T01:15:49.073924Z"
    },
    "tags": []
   },
   "outputs": [],
   "source": [
    "# Encode labels\n",
    "# y_train_e = to_categorical(y_train)\n",
    "# y_test_e = to_categorical(y_test)\n",
    "# print(f\"{y_train_e.shape}\\n{y_test_e.shape}\")"
   ]
  },
  {
   "cell_type": "code",
   "execution_count": 9,
   "id": "363c148e-1f46-46ba-b17a-be3144cbfd94",
   "metadata": {
    "execution": {
     "iopub.execute_input": "2022-09-19T01:15:49.079003Z",
     "iopub.status.busy": "2022-09-19T01:15:49.078729Z",
     "iopub.status.idle": "2022-09-19T01:15:49.092354Z",
     "shell.execute_reply": "2022-09-19T01:15:49.091532Z",
     "shell.execute_reply.started": "2022-09-19T01:15:49.078982Z"
    }
   },
   "outputs": [],
   "source": [
    "# lb = LabelBinarizer()\n",
    "\n",
    "# y_train_lb = lb.fit_transform(y_train)\n",
    "# y_test_lb = lb.transform(y_test)\n",
    "# y_train_lb"
   ]
  },
  {
   "cell_type": "code",
   "execution_count": 10,
   "id": "18d123dc-af88-46fe-8d32-663ae9b09755",
   "metadata": {
    "execution": {
     "iopub.execute_input": "2022-09-19T01:15:49.093756Z",
     "iopub.status.busy": "2022-09-19T01:15:49.093522Z",
     "iopub.status.idle": "2022-09-19T01:15:49.104569Z",
     "shell.execute_reply": "2022-09-19T01:15:49.103165Z",
     "shell.execute_reply.started": "2022-09-19T01:15:49.093734Z"
    },
    "tags": []
   },
   "outputs": [
    {
     "data": {
      "text/plain": [
       "array([0, 0, 1, ..., 0, 1, 0])"
      ]
     },
     "execution_count": 10,
     "metadata": {},
     "output_type": "execute_result"
    }
   ],
   "source": [
    "le = LabelEncoder()\n",
    "y_train_e = le.fit_transform(y_train)\n",
    "y_test_e = le.transform(y_test)\n",
    "y_train_e"
   ]
  },
  {
   "cell_type": "markdown",
   "id": "5d41c5cd-756e-4d99-b1dc-5c281b05bafa",
   "metadata": {},
   "source": [
    "#### Implement the Scikit-Learn classifier interface."
   ]
  },
  {
   "cell_type": "code",
   "execution_count": 11,
   "id": "023a9ef8-1f04-4d25-bf1a-8d04d9ab9941",
   "metadata": {
    "execution": {
     "iopub.execute_input": "2022-09-19T01:15:49.107231Z",
     "iopub.status.busy": "2022-09-19T01:15:49.106562Z",
     "iopub.status.idle": "2022-09-19T01:15:49.119270Z",
     "shell.execute_reply": "2022-09-19T01:15:49.118448Z",
     "shell.execute_reply.started": "2022-09-19T01:15:49.107199Z"
    },
    "tags": []
   },
   "outputs": [],
   "source": [
    "# Import model build function \"create_model\"from the script \"keras_model.py\"\n",
    "import keras_model"
   ]
  },
  {
   "cell_type": "code",
   "execution_count": null,
   "id": "d745da68-9107-44ac-b2bf-5eaceed518bc",
   "metadata": {},
   "outputs": [],
   "source": [
    "def create_model(optimizer=\"adam\", dropout=0.1, n_features=60, n_units=64):\n",
    "    model = Sequential()\n",
    "    model.add(Dense(n_units, activation='relu', input_shape=(n_features,)))\n",
    "    model.add(Dropout(dropout), )\n",
    "    model.add(Dense(n_units, activation='relu'))\n",
    "    model.add(Dropout(dropout), )          \n",
    "    model.add(Dense(1, activation='sigmoid'))\n",
    "   # model.compile(loss='binary_crossentropy', optimizer=optimizer,metrics=[\"accuracy\"])\n",
    "    return model"
   ]
  },
  {
   "cell_type": "code",
   "execution_count": 12,
   "id": "c5bcb1fe-15ae-4528-9e2c-e296f0606e91",
   "metadata": {
    "execution": {
     "iopub.execute_input": "2022-09-19T01:15:49.120429Z",
     "iopub.status.busy": "2022-09-19T01:15:49.120218Z",
     "iopub.status.idle": "2022-09-19T01:15:49.126284Z",
     "shell.execute_reply": "2022-09-19T01:15:49.125366Z",
     "shell.execute_reply.started": "2022-09-19T01:15:49.120409Z"
    },
    "tags": []
   },
   "outputs": [
    {
     "name": "stderr",
     "output_type": "stream",
     "text": [
      "/tmp/ipykernel_7824/3679598663.py:2: DeprecationWarning: KerasClassifier is deprecated, use Sci-Keras (https://github.com/adriangb/scikeras) instead. See https://www.adriangb.com/scikeras/stable/migration.html for help migrating.\n",
      "  keras_clf = KerasClassifier(build_fn=keras_model.create_model, n_features=X_train.shape[1], verbose=0)\n"
     ]
    }
   ],
   "source": [
    "# Create sklearn-like classifier\n",
    "clf = KerasClassifier(\n",
    "    model=create_model, \n",
    "    loss='binary_crossentropy', \n",
    "    optimizer='adam', n_features=X_train.shape[1], dropout=0.5, verbose=0)"
   ]
  },
  {
   "cell_type": "code",
   "execution_count": 13,
   "id": "c689ec74-19a8-49bb-a861-9e8bf1666f12",
   "metadata": {
    "execution": {
     "iopub.execute_input": "2022-09-19T01:15:49.127511Z",
     "iopub.status.busy": "2022-09-19T01:15:49.127255Z",
     "iopub.status.idle": "2022-09-19T01:15:49.134863Z",
     "shell.execute_reply": "2022-09-19T01:15:49.133721Z",
     "shell.execute_reply.started": "2022-09-19T01:15:49.127489Z"
    },
    "tags": []
   },
   "outputs": [],
   "source": [
    "num_pca_components = 60"
   ]
  },
  {
   "cell_type": "code",
   "execution_count": 14,
   "id": "f4a406f6-8794-4399-b35c-0b6de024cfe1",
   "metadata": {
    "execution": {
     "iopub.execute_input": "2022-09-19T01:15:49.138843Z",
     "iopub.status.busy": "2022-09-19T01:15:49.138547Z",
     "iopub.status.idle": "2022-09-19T01:15:49.144925Z",
     "shell.execute_reply": "2022-09-19T01:15:49.143808Z",
     "shell.execute_reply.started": "2022-09-19T01:15:49.138817Z"
    },
    "tags": []
   },
   "outputs": [],
   "source": [
    "# Define model with pipeline\n",
    "model = Pipeline(\n",
    "    steps = (\n",
    "        ('scaler', MinMaxScaler()),\n",
    "        # ('pca', PCA(num_pca_components)),\n",
    "        ('nnc', keras_clf)\n",
    "    )\n",
    ")"
   ]
  },
  {
   "cell_type": "code",
   "execution_count": 15,
   "id": "6a44c8d3-e21f-4c3f-9fd7-69cf4d3cbe84",
   "metadata": {
    "execution": {
     "iopub.execute_input": "2022-09-19T01:15:49.147019Z",
     "iopub.status.busy": "2022-09-19T01:15:49.146178Z",
     "iopub.status.idle": "2022-09-19T01:15:49.161448Z",
     "shell.execute_reply": "2022-09-19T01:15:49.160601Z",
     "shell.execute_reply.started": "2022-09-19T01:15:49.146991Z"
    },
    "tags": []
   },
   "outputs": [],
   "source": [
    "# model.fit(X_train, y_train_lb)"
   ]
  },
  {
   "cell_type": "code",
   "execution_count": 16,
   "id": "b30d2d61-918e-4e1c-825c-ec5ac7d985c4",
   "metadata": {
    "execution": {
     "iopub.execute_input": "2022-09-19T01:15:49.162627Z",
     "iopub.status.busy": "2022-09-19T01:15:49.162321Z",
     "iopub.status.idle": "2022-09-19T01:15:49.172040Z",
     "shell.execute_reply": "2022-09-19T01:15:49.171083Z",
     "shell.execute_reply.started": "2022-09-19T01:15:49.162602Z"
    },
    "tags": []
   },
   "outputs": [
    {
     "data": {
      "text/plain": [
       "{'memory': None,\n",
       " 'steps': (('scaler', MinMaxScaler()),\n",
       "  ('nnc', <keras.wrappers.scikit_learn.KerasClassifier at 0x7f37557beca0>)),\n",
       " 'verbose': False,\n",
       " 'scaler': MinMaxScaler(),\n",
       " 'nnc': <keras.wrappers.scikit_learn.KerasClassifier at 0x7f37557beca0>,\n",
       " 'scaler__clip': False,\n",
       " 'scaler__copy': True,\n",
       " 'scaler__feature_range': (0, 1),\n",
       " 'nnc__n_features': 6165,\n",
       " 'nnc__verbose': 0,\n",
       " 'nnc__build_fn': <function keras_model.create_model(optimizer='adam', dropout=0.1, n_features=60, n_units=64)>}"
      ]
     },
     "execution_count": 16,
     "metadata": {},
     "output_type": "execute_result"
    }
   ],
   "source": [
    "model.get_params()"
   ]
  },
  {
   "cell_type": "code",
   "execution_count": 17,
   "id": "7ace4165-4751-4fc0-aaca-3802ca27fec5",
   "metadata": {
    "execution": {
     "iopub.execute_input": "2022-09-19T01:15:49.172982Z",
     "iopub.status.busy": "2022-09-19T01:15:49.172730Z",
     "iopub.status.idle": "2022-09-19T01:15:49.178142Z",
     "shell.execute_reply": "2022-09-19T01:15:49.177187Z",
     "shell.execute_reply.started": "2022-09-19T01:15:49.172960Z"
    },
    "tags": []
   },
   "outputs": [],
   "source": [
    "# Define parameters for Keras classifier\n",
    "\n",
    "param_grid = {\n",
    "    'nnc__epochs': [10],\n",
    "    # 'nnc__n_units': [64, 128, 100],\n",
    "    #'kerasclassifier__init': [ 'uniform', 'zeros', 'normal', ], \n",
    "    'nnc__batch_size':[32],\n",
    "    #'kerasclassifier__optimizer':['RMSprop', 'Adam', 'Adamax', 'sgd'],\n",
    "    'nnc__dropout': [0.1]\n",
    "}"
   ]
  },
  {
   "cell_type": "code",
   "execution_count": 18,
   "id": "e2dfd3ba-3365-4e23-b0cc-41fd98f57f8a",
   "metadata": {
    "execution": {
     "iopub.execute_input": "2022-09-19T01:15:49.179448Z",
     "iopub.status.busy": "2022-09-19T01:15:49.179139Z",
     "iopub.status.idle": "2022-09-19T01:15:49.186238Z",
     "shell.execute_reply": "2022-09-19T01:15:49.185399Z",
     "shell.execute_reply.started": "2022-09-19T01:15:49.179415Z"
    },
    "tags": []
   },
   "outputs": [],
   "source": [
    "# Create the GridSearchCV model\n",
    "skf = StratifiedKFold(n_splits=5, shuffle=True, random_state=random_state)\n",
    "grid = GridSearchCV(model, param_grid, verbose=0, cv=5, n_jobs=4)"
   ]
  },
  {
   "cell_type": "markdown",
   "id": "dba416c1-c1a1-49e8-b983-5a38fe52953f",
   "metadata": {},
   "source": []
  },
  {
   "cell_type": "code",
   "execution_count": 19,
   "id": "fec80b4c-43a8-4242-a450-b45fa3650d99",
   "metadata": {
    "execution": {
     "iopub.execute_input": "2022-09-19T01:15:49.187315Z",
     "iopub.status.busy": "2022-09-19T01:15:49.187074Z",
     "iopub.status.idle": "2022-09-19T01:16:45.620787Z",
     "shell.execute_reply": "2022-09-19T01:16:45.619510Z",
     "shell.execute_reply.started": "2022-09-19T01:15:49.187294Z"
    },
    "tags": []
   },
   "outputs": [
    {
     "data": {
      "text/html": [
       "<style>#sk-container-id-1 {color: black;background-color: white;}#sk-container-id-1 pre{padding: 0;}#sk-container-id-1 div.sk-toggleable {background-color: white;}#sk-container-id-1 label.sk-toggleable__label {cursor: pointer;display: block;width: 100%;margin-bottom: 0;padding: 0.3em;box-sizing: border-box;text-align: center;}#sk-container-id-1 label.sk-toggleable__label-arrow:before {content: \"▸\";float: left;margin-right: 0.25em;color: #696969;}#sk-container-id-1 label.sk-toggleable__label-arrow:hover:before {color: black;}#sk-container-id-1 div.sk-estimator:hover label.sk-toggleable__label-arrow:before {color: black;}#sk-container-id-1 div.sk-toggleable__content {max-height: 0;max-width: 0;overflow: hidden;text-align: left;background-color: #f0f8ff;}#sk-container-id-1 div.sk-toggleable__content pre {margin: 0.2em;color: black;border-radius: 0.25em;background-color: #f0f8ff;}#sk-container-id-1 input.sk-toggleable__control:checked~div.sk-toggleable__content {max-height: 200px;max-width: 100%;overflow: auto;}#sk-container-id-1 input.sk-toggleable__control:checked~label.sk-toggleable__label-arrow:before {content: \"▾\";}#sk-container-id-1 div.sk-estimator input.sk-toggleable__control:checked~label.sk-toggleable__label {background-color: #d4ebff;}#sk-container-id-1 div.sk-label input.sk-toggleable__control:checked~label.sk-toggleable__label {background-color: #d4ebff;}#sk-container-id-1 input.sk-hidden--visually {border: 0;clip: rect(1px 1px 1px 1px);clip: rect(1px, 1px, 1px, 1px);height: 1px;margin: -1px;overflow: hidden;padding: 0;position: absolute;width: 1px;}#sk-container-id-1 div.sk-estimator {font-family: monospace;background-color: #f0f8ff;border: 1px dotted black;border-radius: 0.25em;box-sizing: border-box;margin-bottom: 0.5em;}#sk-container-id-1 div.sk-estimator:hover {background-color: #d4ebff;}#sk-container-id-1 div.sk-parallel-item::after {content: \"\";width: 100%;border-bottom: 1px solid gray;flex-grow: 1;}#sk-container-id-1 div.sk-label:hover label.sk-toggleable__label {background-color: #d4ebff;}#sk-container-id-1 div.sk-serial::before {content: \"\";position: absolute;border-left: 1px solid gray;box-sizing: border-box;top: 0;bottom: 0;left: 50%;z-index: 0;}#sk-container-id-1 div.sk-serial {display: flex;flex-direction: column;align-items: center;background-color: white;padding-right: 0.2em;padding-left: 0.2em;position: relative;}#sk-container-id-1 div.sk-item {position: relative;z-index: 1;}#sk-container-id-1 div.sk-parallel {display: flex;align-items: stretch;justify-content: center;background-color: white;position: relative;}#sk-container-id-1 div.sk-item::before, #sk-container-id-1 div.sk-parallel-item::before {content: \"\";position: absolute;border-left: 1px solid gray;box-sizing: border-box;top: 0;bottom: 0;left: 50%;z-index: -1;}#sk-container-id-1 div.sk-parallel-item {display: flex;flex-direction: column;z-index: 1;position: relative;background-color: white;}#sk-container-id-1 div.sk-parallel-item:first-child::after {align-self: flex-end;width: 50%;}#sk-container-id-1 div.sk-parallel-item:last-child::after {align-self: flex-start;width: 50%;}#sk-container-id-1 div.sk-parallel-item:only-child::after {width: 0;}#sk-container-id-1 div.sk-dashed-wrapped {border: 1px dashed gray;margin: 0 0.4em 0.5em 0.4em;box-sizing: border-box;padding-bottom: 0.4em;background-color: white;}#sk-container-id-1 div.sk-label label {font-family: monospace;font-weight: bold;display: inline-block;line-height: 1.2em;}#sk-container-id-1 div.sk-label-container {text-align: center;}#sk-container-id-1 div.sk-container {/* jupyter's `normalize.less` sets `[hidden] { display: none; }` but bootstrap.min.css set `[hidden] { display: none !important; }` so we also need the `!important` here to be able to override the default hidden behavior on the sphinx rendered scikit-learn.org. See: https://github.com/scikit-learn/scikit-learn/issues/21755 */display: inline-block !important;position: relative;}#sk-container-id-1 div.sk-text-repr-fallback {display: none;}</style><div id=\"sk-container-id-1\" class=\"sk-top-container\"><div class=\"sk-text-repr-fallback\"><pre>GridSearchCV(cv=5,\n",
       "             estimator=Pipeline(steps=((&#x27;scaler&#x27;, MinMaxScaler()),\n",
       "                                       (&#x27;nnc&#x27;,\n",
       "                                        &lt;keras.wrappers.scikit_learn.KerasClassifier object at 0x7f37557beca0&gt;))),\n",
       "             n_jobs=4,\n",
       "             param_grid={&#x27;nnc__batch_size&#x27;: [32], &#x27;nnc__dropout&#x27;: [0.1],\n",
       "                         &#x27;nnc__epochs&#x27;: [10]})</pre><b>In a Jupyter environment, please rerun this cell to show the HTML representation or trust the notebook. <br />On GitHub, the HTML representation is unable to render, please try loading this page with nbviewer.org.</b></div><div class=\"sk-container\" hidden><div class=\"sk-item sk-dashed-wrapped\"><div class=\"sk-label-container\"><div class=\"sk-label sk-toggleable\"><input class=\"sk-toggleable__control sk-hidden--visually\" id=\"sk-estimator-id-1\" type=\"checkbox\" ><label for=\"sk-estimator-id-1\" class=\"sk-toggleable__label sk-toggleable__label-arrow\">GridSearchCV</label><div class=\"sk-toggleable__content\"><pre>GridSearchCV(cv=5,\n",
       "             estimator=Pipeline(steps=((&#x27;scaler&#x27;, MinMaxScaler()),\n",
       "                                       (&#x27;nnc&#x27;,\n",
       "                                        &lt;keras.wrappers.scikit_learn.KerasClassifier object at 0x7f37557beca0&gt;))),\n",
       "             n_jobs=4,\n",
       "             param_grid={&#x27;nnc__batch_size&#x27;: [32], &#x27;nnc__dropout&#x27;: [0.1],\n",
       "                         &#x27;nnc__epochs&#x27;: [10]})</pre></div></div></div><div class=\"sk-parallel\"><div class=\"sk-parallel-item\"><div class=\"sk-item\"><div class=\"sk-label-container\"><div class=\"sk-label sk-toggleable\"><input class=\"sk-toggleable__control sk-hidden--visually\" id=\"sk-estimator-id-2\" type=\"checkbox\" ><label for=\"sk-estimator-id-2\" class=\"sk-toggleable__label sk-toggleable__label-arrow\">estimator: Pipeline</label><div class=\"sk-toggleable__content\"><pre>Pipeline(steps=((&#x27;scaler&#x27;, MinMaxScaler()),\n",
       "                (&#x27;nnc&#x27;,\n",
       "                 &lt;keras.wrappers.scikit_learn.KerasClassifier object at 0x7f37557beca0&gt;)))</pre></div></div></div><div class=\"sk-serial\"><div class=\"sk-item\"><div class=\"sk-serial\"><div class=\"sk-item\"><div class=\"sk-estimator sk-toggleable\"><input class=\"sk-toggleable__control sk-hidden--visually\" id=\"sk-estimator-id-3\" type=\"checkbox\" ><label for=\"sk-estimator-id-3\" class=\"sk-toggleable__label sk-toggleable__label-arrow\">MinMaxScaler</label><div class=\"sk-toggleable__content\"><pre>MinMaxScaler()</pre></div></div></div><div class=\"sk-item\"><div class=\"sk-estimator sk-toggleable\"><input class=\"sk-toggleable__control sk-hidden--visually\" id=\"sk-estimator-id-4\" type=\"checkbox\" ><label for=\"sk-estimator-id-4\" class=\"sk-toggleable__label sk-toggleable__label-arrow\">KerasClassifier</label><div class=\"sk-toggleable__content\"><pre>&lt;keras.wrappers.scikit_learn.KerasClassifier object at 0x7f37557beca0&gt;</pre></div></div></div></div></div></div></div></div></div></div></div></div>"
      ],
      "text/plain": [
       "GridSearchCV(cv=5,\n",
       "             estimator=Pipeline(steps=(('scaler', MinMaxScaler()),\n",
       "                                       ('nnc',\n",
       "                                        <keras.wrappers.scikit_learn.KerasClassifier object at 0x7f37557beca0>))),\n",
       "             n_jobs=4,\n",
       "             param_grid={'nnc__batch_size': [32], 'nnc__dropout': [0.1],\n",
       "                         'nnc__epochs': [10]})"
      ]
     },
     "execution_count": 19,
     "metadata": {},
     "output_type": "execute_result"
    }
   ],
   "source": [
    "# Train the model with GridSearch\n",
    "grid.fit(X_train, y_train_e)"
   ]
  },
  {
   "cell_type": "code",
   "execution_count": 20,
   "id": "89d83f1f-a244-4610-905b-e83478da2b67",
   "metadata": {
    "execution": {
     "iopub.execute_input": "2022-09-19T01:16:45.622781Z",
     "iopub.status.busy": "2022-09-19T01:16:45.622338Z",
     "iopub.status.idle": "2022-09-19T01:16:45.629953Z",
     "shell.execute_reply": "2022-09-19T01:16:45.628992Z",
     "shell.execute_reply.started": "2022-09-19T01:16:45.622744Z"
    },
    "tags": []
   },
   "outputs": [
    {
     "name": "stdout",
     "output_type": "stream",
     "text": [
      "Best Score: 0.5159183204174042  using:\n",
      "{'nnc__batch_size': 32, 'nnc__dropout': 0.1, 'nnc__epochs': 10}\n"
     ]
    }
   ],
   "source": [
    "print(f\"Best Score: {grid.best_score_}  using:\\n{grid.best_params_}\")"
   ]
  },
  {
   "cell_type": "code",
   "execution_count": 21,
   "id": "5b6409b3-016f-4e97-b7f0-d28c1709f9cc",
   "metadata": {
    "execution": {
     "iopub.execute_input": "2022-09-19T01:16:45.631506Z",
     "iopub.status.busy": "2022-09-19T01:16:45.630895Z",
     "iopub.status.idle": "2022-09-19T01:16:45.652406Z",
     "shell.execute_reply": "2022-09-19T01:16:45.651310Z",
     "shell.execute_reply.started": "2022-09-19T01:16:45.631468Z"
    },
    "tags": []
   },
   "outputs": [
    {
     "data": {
      "text/plain": [
       "{'mean_fit_time': array([33.88087163]),\n",
       " 'std_fit_time': array([13.47376174]),\n",
       " 'mean_score_time': array([1.40353389]),\n",
       " 'std_score_time': array([2.47065904]),\n",
       " 'param_nnc__batch_size': masked_array(data=[32],\n",
       "              mask=[False],\n",
       "        fill_value='?',\n",
       "             dtype=object),\n",
       " 'param_nnc__dropout': masked_array(data=[0.1],\n",
       "              mask=[False],\n",
       "        fill_value='?',\n",
       "             dtype=object),\n",
       " 'param_nnc__epochs': masked_array(data=[10],\n",
       "              mask=[False],\n",
       "        fill_value='?',\n",
       "             dtype=object),\n",
       " 'params': [{'nnc__batch_size': 32, 'nnc__dropout': 0.1, 'nnc__epochs': 10}],\n",
       " 'split0_test_score': array([0.48550725]),\n",
       " 'split1_test_score': array([0.65579712]),\n",
       " 'split2_test_score': array([0.4710145]),\n",
       " 'split3_test_score': array([0.47999999]),\n",
       " 'split4_test_score': array([0.48727274]),\n",
       " 'mean_test_score': array([0.51591832]),\n",
       " 'std_test_score': array([0.07016831]),\n",
       " 'rank_test_score': array([1], dtype=int32)}"
      ]
     },
     "execution_count": 21,
     "metadata": {},
     "output_type": "execute_result"
    }
   ],
   "source": [
    "grid.cv_results_"
   ]
  },
  {
   "cell_type": "code",
   "execution_count": null,
   "id": "1d872800-deb6-4da0-9a60-abe390e4b09f",
   "metadata": {},
   "outputs": [],
   "source": []
  },
  {
   "cell_type": "code",
   "execution_count": 22,
   "id": "9cbe685a-117a-4993-8fd8-5fd5af1456e4",
   "metadata": {
    "execution": {
     "iopub.execute_input": "2022-09-19T01:16:45.653579Z",
     "iopub.status.busy": "2022-09-19T01:16:45.653276Z",
     "iopub.status.idle": "2022-09-19T01:16:45.660234Z",
     "shell.execute_reply": "2022-09-19T01:16:45.659133Z",
     "shell.execute_reply.started": "2022-09-19T01:16:45.653530Z"
    },
    "tags": []
   },
   "outputs": [],
   "source": [
    "# from sklearn.metrics import get_scorer_names\n",
    "# get_scorer_names()"
   ]
  },
  {
   "cell_type": "code",
   "execution_count": 23,
   "id": "daa73658-8e12-4be5-951e-e8c2ebf5ff4b",
   "metadata": {
    "execution": {
     "iopub.execute_input": "2022-09-19T01:16:45.662111Z",
     "iopub.status.busy": "2022-09-19T01:16:45.661631Z",
     "iopub.status.idle": "2022-09-19T01:16:46.257484Z",
     "shell.execute_reply": "2022-09-19T01:16:46.256571Z",
     "shell.execute_reply.started": "2022-09-19T01:16:45.662091Z"
    },
    "tags": []
   },
   "outputs": [
    {
     "name": "stdout",
     "output_type": "stream",
     "text": [
      "Training Data Score: 0.6937590837478638\n",
      "Testing Data Score: 0.6569767594337463\n"
     ]
    }
   ],
   "source": [
    "print(f\"Training Data Score: {grid.score(X_train, y_train)}\")\n",
    "print(f\"Testing Data Score: {grid.score(X_test, y_test)}\")"
   ]
  },
  {
   "cell_type": "code",
   "execution_count": 25,
   "id": "25cb4868-b77a-4edd-ac52-49a91d12aa90",
   "metadata": {
    "execution": {
     "iopub.execute_input": "2022-09-19T01:00:24.513066Z",
     "iopub.status.busy": "2022-09-19T01:00:24.512789Z",
     "iopub.status.idle": "2022-09-19T01:00:24.597951Z",
     "shell.execute_reply": "2022-09-19T01:00:24.596892Z",
     "shell.execute_reply.started": "2022-09-19T01:00:24.513046Z"
    },
    "tags": []
   },
   "outputs": [
    {
     "name": "stdout",
     "output_type": "stream",
     "text": [
      "11/11 [==============================] - 0s 2ms/step\n"
     ]
    },
    {
     "data": {
      "text/plain": [
       "(344, 1)"
      ]
     },
     "execution_count": 25,
     "metadata": {},
     "output_type": "execute_result"
    }
   ],
   "source": [
    "# Make predictions with the hypertuned model\n",
    "y_pred = grid.predict(X_test)\n",
    "y_pred.shape"
   ]
  },
  {
   "cell_type": "code",
   "execution_count": 26,
   "id": "d5202993-869d-4f2d-9adc-79014f3b9f48",
   "metadata": {
    "execution": {
     "iopub.execute_input": "2022-09-19T01:00:38.341326Z",
     "iopub.status.busy": "2022-09-19T01:00:38.341020Z",
     "iopub.status.idle": "2022-09-19T01:00:38.348365Z",
     "shell.execute_reply": "2022-09-19T01:00:38.347552Z",
     "shell.execute_reply.started": "2022-09-19T01:00:38.341302Z"
    },
    "tags": []
   },
   "outputs": [
    {
     "data": {
      "text/plain": [
       "0.6569767441860465"
      ]
     },
     "execution_count": 26,
     "metadata": {},
     "output_type": "execute_result"
    }
   ],
   "source": [
    "accuracy_score(y_test, y_pred)"
   ]
  },
  {
   "cell_type": "code",
   "execution_count": 27,
   "id": "818c9ac3-2c68-4331-a847-02104aa61faa",
   "metadata": {
    "execution": {
     "iopub.execute_input": "2022-09-19T01:00:39.930487Z",
     "iopub.status.busy": "2022-09-19T01:00:39.930205Z",
     "iopub.status.idle": "2022-09-19T01:00:39.938844Z",
     "shell.execute_reply": "2022-09-19T01:00:39.937922Z",
     "shell.execute_reply.started": "2022-09-19T01:00:39.930465Z"
    },
    "tags": []
   },
   "outputs": [
    {
     "name": "stdout",
     "output_type": "stream",
     "text": [
      "[[129  43]\n",
      " [ 75  97]]\n"
     ]
    }
   ],
   "source": [
    "cm = confusion_matrix(y_test, y_pred)\n",
    "print(cm)"
   ]
  },
  {
   "cell_type": "code",
   "execution_count": 27,
   "id": "e1ab6fa2-e05f-463f-a4b4-a14e2fa2b0ce",
   "metadata": {
    "execution": {
     "iopub.execute_input": "2022-09-18T19:02:43.859440Z",
     "iopub.status.busy": "2022-09-18T19:02:43.859181Z",
     "iopub.status.idle": "2022-09-18T19:02:43.865336Z",
     "shell.execute_reply": "2022-09-18T19:02:43.864371Z",
     "shell.execute_reply.started": "2022-09-18T19:02:43.859422Z"
    }
   },
   "outputs": [
    {
     "name": "stdout",
     "output_type": "stream",
     "text": [
      "[[0.74 0.26]\n",
      " [0.28 0.72]]\n"
     ]
    }
   ],
   "source": [
    "# Normalized confusion matrix\n",
    "cm = np.around(cm / cm.sum(axis=1)[:, np.newaxis], 2)\n",
    "print(cm)"
   ]
  },
  {
   "cell_type": "code",
   "execution_count": 28,
   "id": "83dfff22-ce0c-4df9-9ac5-3b7faf3a7ec9",
   "metadata": {
    "execution": {
     "iopub.execute_input": "2022-09-18T19:02:51.674481Z",
     "iopub.status.busy": "2022-09-18T19:02:51.674196Z",
     "iopub.status.idle": "2022-09-18T19:02:51.690042Z",
     "shell.execute_reply": "2022-09-18T19:02:51.688923Z",
     "shell.execute_reply.started": "2022-09-18T19:02:51.674461Z"
    },
    "tags": []
   },
   "outputs": [
    {
     "name": "stdout",
     "output_type": "stream",
     "text": [
      "              precision    recall  f1-score   support\n",
      "\n",
      "           0       0.72      0.74      0.73       172\n",
      "           1       0.73      0.72      0.72       172\n",
      "\n",
      "    accuracy                           0.73       344\n",
      "   macro avg       0.73      0.73      0.73       344\n",
      "weighted avg       0.73      0.73      0.73       344\n",
      "\n"
     ]
    }
   ],
   "source": [
    "print(classification_report(y_test, y_pred))"
   ]
  },
  {
   "cell_type": "code",
   "execution_count": 31,
   "id": "b5b83d16-4577-4c86-9108-b4381f691d84",
   "metadata": {
    "execution": {
     "iopub.execute_input": "2022-09-18T19:17:24.485650Z",
     "iopub.status.busy": "2022-09-18T19:17:24.485338Z",
     "iopub.status.idle": "2022-09-18T19:17:24.491257Z",
     "shell.execute_reply": "2022-09-18T19:17:24.490306Z",
     "shell.execute_reply.started": "2022-09-18T19:17:24.485629Z"
    },
    "tags": []
   },
   "outputs": [
    {
     "name": "stdout",
     "output_type": "stream",
     "text": [
      "[0 0 0 1 0 0 1 1 1 0]\n",
      "[1 0 0 1 1 0 1 0 0 1]\n"
     ]
    }
   ],
   "source": [
    "print(np.array(y_test)[:10])\n",
    "print(y_pred[:10])"
   ]
  },
  {
   "cell_type": "code",
   "execution_count": 75,
   "id": "40938468-4bf2-4ca9-9f83-4e33cf73a2e8",
   "metadata": {
    "execution": {
     "iopub.execute_input": "2022-09-17T01:28:29.044300Z",
     "iopub.status.busy": "2022-09-17T01:28:29.044001Z",
     "iopub.status.idle": "2022-09-17T01:28:29.130535Z",
     "shell.execute_reply": "2022-09-17T01:28:29.129377Z",
     "shell.execute_reply.started": "2022-09-17T01:28:29.044280Z"
    },
    "tags": []
   },
   "outputs": [
    {
     "data": {
      "text/plain": [
       "array([1])"
      ]
     },
     "execution_count": 75,
     "metadata": {},
     "output_type": "execute_result"
    }
   ],
   "source": [
    "pipe.predict(X_test[55:56])"
   ]
  },
  {
   "cell_type": "markdown",
   "id": "6fbc14a4-f8d8-4747-afd6-2a40c4f237ce",
   "metadata": {},
   "source": [
    "### Creating classifier path"
   ]
  },
  {
   "cell_type": "code",
   "execution_count": 40,
   "id": "9a1648a9-2fbf-44c6-a98f-e562d634d1d1",
   "metadata": {
    "execution": {
     "iopub.execute_input": "2022-09-18T19:40:58.707068Z",
     "iopub.status.busy": "2022-09-18T19:40:58.706758Z",
     "iopub.status.idle": "2022-09-18T19:40:58.712604Z",
     "shell.execute_reply": "2022-09-18T19:40:58.711594Z",
     "shell.execute_reply.started": "2022-09-18T19:40:58.707029Z"
    },
    "tags": []
   },
   "outputs": [
    {
     "name": "stdout",
     "output_type": "stream",
     "text": [
      "../saved_models/acp_dlm_avg_nn.h5\n",
      "../saved_models/acp_dlm_avg_nn_pipeline.sav\n"
     ]
    }
   ],
   "source": [
    "# check what to use joblib(.sav), PyTorch (.pt), Keras(.h5) or something else\n",
    "\n",
    "clf = ['rf', 'lr', 'xgb', 'nn', 'knn']\n",
    "\n",
    "tail = os.path.split(path_pt)[1].split('_')\n",
    "tail.pop(1)\n",
    "\n",
    "pipeline_name = f'{\"_\".join(tail)}_{clf[3]}_pipeline.sav'\n",
    "model_name = f'{\"_\".join(tail)}_{clf[3]}.h5'\n",
    "model_path = os.path.join('../saved_models', model_name)\n",
    "pipeline_path = os.path.join('../saved_models', pipeline_name)\n",
    "print(model_path)\n",
    "print(pipeline_path)"
   ]
  },
  {
   "cell_type": "code",
   "execution_count": null,
   "id": "4a82d42f-b6b9-44a6-a4f9-26bed8adf209",
   "metadata": {},
   "outputs": [],
   "source": []
  },
  {
   "cell_type": "code",
   "execution_count": 36,
   "id": "45b7c181-0bdd-42f8-889f-5aa3aced1442",
   "metadata": {
    "execution": {
     "iopub.execute_input": "2022-09-18T19:36:11.381667Z",
     "iopub.status.busy": "2022-09-18T19:36:11.381384Z",
     "iopub.status.idle": "2022-09-18T19:36:11.386337Z",
     "shell.execute_reply": "2022-09-18T19:36:11.385389Z",
     "shell.execute_reply.started": "2022-09-18T19:36:11.381634Z"
    },
    "tags": []
   },
   "outputs": [],
   "source": [
    "# Save the best estimator\n",
    "# This will convert GridSearch object to pipeline object\n",
    "# It will also partially destroyed grid object, \n",
    "# If needed, it could be reran or reconstructed using saved model\n",
    "\n",
    "nn_model_s = grid.best_estimator_"
   ]
  },
  {
   "cell_type": "code",
   "execution_count": 37,
   "id": "3b4432c9-cbfb-4ff2-b862-fc0bd82cdd06",
   "metadata": {
    "execution": {
     "iopub.execute_input": "2022-09-18T19:36:13.894433Z",
     "iopub.status.busy": "2022-09-18T19:36:13.894129Z",
     "iopub.status.idle": "2022-09-18T19:36:13.899734Z",
     "shell.execute_reply": "2022-09-18T19:36:13.898911Z",
     "shell.execute_reply.started": "2022-09-18T19:36:13.894412Z"
    },
    "tags": []
   },
   "outputs": [
    {
     "data": {
      "text/plain": [
       "sklearn.pipeline.Pipeline"
      ]
     },
     "execution_count": 37,
     "metadata": {},
     "output_type": "execute_result"
    }
   ],
   "source": [
    "type(nn_model_s)"
   ]
  },
  {
   "cell_type": "code",
   "execution_count": 41,
   "id": "0aa6b132-2d47-454c-ba14-0d45434335ee",
   "metadata": {
    "execution": {
     "iopub.execute_input": "2022-09-18T19:41:17.081093Z",
     "iopub.status.busy": "2022-09-18T19:41:17.080809Z",
     "iopub.status.idle": "2022-09-18T19:41:17.124036Z",
     "shell.execute_reply": "2022-09-18T19:41:17.123215Z",
     "shell.execute_reply.started": "2022-09-18T19:41:17.081072Z"
    },
    "tags": []
   },
   "outputs": [],
   "source": [
    "# Save the Keras model first\n",
    "nn_model_s.named_steps['nnc'].model.save(model_path)"
   ]
  },
  {
   "cell_type": "code",
   "execution_count": 42,
   "id": "8893f525-b501-47e1-b18a-7fc91da19946",
   "metadata": {
    "execution": {
     "iopub.execute_input": "2022-09-18T19:41:25.322064Z",
     "iopub.status.busy": "2022-09-18T19:41:25.321606Z",
     "iopub.status.idle": "2022-09-18T19:41:25.327675Z",
     "shell.execute_reply": "2022-09-18T19:41:25.326762Z",
     "shell.execute_reply.started": "2022-09-18T19:41:25.322011Z"
    }
   },
   "outputs": [],
   "source": [
    "# This hack allows us to save the pipeline\n",
    "nn_model_s.named_steps['nnc'].model = None"
   ]
  },
  {
   "cell_type": "code",
   "execution_count": 46,
   "id": "145e0563-d506-46fc-a192-a7451dfc6e63",
   "metadata": {
    "execution": {
     "iopub.execute_input": "2022-09-18T19:43:59.148592Z",
     "iopub.status.busy": "2022-09-18T19:43:59.148296Z",
     "iopub.status.idle": "2022-09-18T19:43:59.170838Z",
     "shell.execute_reply": "2022-09-18T19:43:59.169962Z",
     "shell.execute_reply.started": "2022-09-18T19:43:59.148571Z"
    },
    "tags": []
   },
   "outputs": [
    {
     "data": {
      "text/plain": [
       "['../saved_models/acp_dlm_avg_nn_pipeline.sav']"
      ]
     },
     "execution_count": 46,
     "metadata": {},
     "output_type": "execute_result"
    }
   ],
   "source": [
    "import joblib\n",
    "# Save the pipeline\n",
    "joblib.dump(nn_model_s, pipeline_path)"
   ]
  },
  {
   "cell_type": "code",
   "execution_count": null,
   "id": "588baa82-20ca-4699-95df-c713440e613b",
   "metadata": {},
   "outputs": [],
   "source": [
    "# We do not need this pipeline object anymore\n",
    "## del dl_model_s"
   ]
  },
  {
   "cell_type": "markdown",
   "id": "afbf6f7b-50cc-404d-9816-718283225c7a",
   "metadata": {},
   "source": []
  },
  {
   "cell_type": "code",
   "execution_count": 47,
   "id": "8c07ed98-a78f-4994-89cd-79c998cd9e70",
   "metadata": {
    "execution": {
     "iopub.execute_input": "2022-09-18T19:44:05.906998Z",
     "iopub.status.busy": "2022-09-18T19:44:05.906726Z",
     "iopub.status.idle": "2022-09-18T19:44:05.911642Z",
     "shell.execute_reply": "2022-09-18T19:44:05.910781Z",
     "shell.execute_reply.started": "2022-09-18T19:44:05.906979Z"
    }
   },
   "outputs": [],
   "source": [
    "from tensorflow.keras.models import load_model"
   ]
  },
  {
   "cell_type": "code",
   "execution_count": 48,
   "id": "0baecb3c-52ab-48bb-b939-ab36b29ad964",
   "metadata": {
    "execution": {
     "iopub.execute_input": "2022-09-18T19:44:13.982783Z",
     "iopub.status.busy": "2022-09-18T19:44:13.982402Z",
     "iopub.status.idle": "2022-09-18T19:44:13.994857Z",
     "shell.execute_reply": "2022-09-18T19:44:13.994018Z",
     "shell.execute_reply.started": "2022-09-18T19:44:13.982759Z"
    }
   },
   "outputs": [],
   "source": [
    "# Load the pipeline first\n",
    "nn_model = joblib.load(pipeline_path)"
   ]
  },
  {
   "cell_type": "code",
   "execution_count": 49,
   "id": "9a2d225d-8d82-4247-b0e4-3531198249cc",
   "metadata": {
    "execution": {
     "iopub.execute_input": "2022-09-18T19:44:18.654799Z",
     "iopub.status.busy": "2022-09-18T19:44:18.654506Z",
     "iopub.status.idle": "2022-09-18T19:44:18.733140Z",
     "shell.execute_reply": "2022-09-18T19:44:18.732288Z",
     "shell.execute_reply.started": "2022-09-18T19:44:18.654778Z"
    }
   },
   "outputs": [],
   "source": [
    "# Then, load the Keras model\n",
    "nn_model.named_steps['nnc'].model = load_model(model_path)"
   ]
  },
  {
   "cell_type": "code",
   "execution_count": null,
   "id": "58b557c2-0df5-4348-ba4c-912c36e7e42b",
   "metadata": {},
   "outputs": [],
   "source": []
  },
  {
   "cell_type": "code",
   "execution_count": 50,
   "id": "03d122dc-68b6-458b-9e80-5daf2952affd",
   "metadata": {
    "execution": {
     "iopub.execute_input": "2022-09-18T19:46:13.685322Z",
     "iopub.status.busy": "2022-09-18T19:46:13.684996Z",
     "iopub.status.idle": "2022-09-18T19:46:13.969166Z",
     "shell.execute_reply": "2022-09-18T19:46:13.968113Z",
     "shell.execute_reply.started": "2022-09-18T19:46:13.685288Z"
    }
   },
   "outputs": [
    {
     "name": "stdout",
     "output_type": "stream",
     "text": [
      "0.7267441749572754\n"
     ]
    }
   ],
   "source": [
    "print(nn_model.score(X_test, y_test))"
   ]
  },
  {
   "cell_type": "code",
   "execution_count": 51,
   "id": "665c183f-10a2-4d7b-a70f-2708bb33b651",
   "metadata": {
    "execution": {
     "iopub.execute_input": "2022-09-18T19:46:18.457345Z",
     "iopub.status.busy": "2022-09-18T19:46:18.456481Z",
     "iopub.status.idle": "2022-09-18T19:46:18.807559Z",
     "shell.execute_reply": "2022-09-18T19:46:18.806638Z",
     "shell.execute_reply.started": "2022-09-18T19:46:18.457319Z"
    }
   },
   "outputs": [
    {
     "name": "stdout",
     "output_type": "stream",
     "text": [
      "11/11 [==============================] - 0s 2ms/step\n",
      "[[127  45]\n",
      " [ 49 123]]\n"
     ]
    }
   ],
   "source": [
    "# Classification metrics\n",
    "y_predl = nn_model.predict(X_test)\n",
    "cm = confusion_matrix(y_test, y_predl)\n",
    "print(cm)"
   ]
  },
  {
   "cell_type": "code",
   "execution_count": null,
   "id": "52a9ae34-269c-41f0-af04-859cbf36666e",
   "metadata": {},
   "outputs": [],
   "source": []
  },
  {
   "cell_type": "code",
   "execution_count": 52,
   "id": "7c5f7984-3145-47b8-b581-397d9b46a558",
   "metadata": {
    "execution": {
     "iopub.execute_input": "2022-09-18T19:48:27.218922Z",
     "iopub.status.busy": "2022-09-18T19:48:27.218605Z",
     "iopub.status.idle": "2022-09-18T19:48:27.225602Z",
     "shell.execute_reply": "2022-09-18T19:48:27.224801Z",
     "shell.execute_reply.started": "2022-09-18T19:48:27.218901Z"
    },
    "tags": []
   },
   "outputs": [
    {
     "data": {
      "text/plain": [
       "['Protein_seq_ts0056']"
      ]
     },
     "execution_count": 52,
     "metadata": {},
     "output_type": "execute_result"
    }
   ],
   "source": [
    "sequence_id_test[55:56]"
   ]
  },
  {
   "cell_type": "code",
   "execution_count": null,
   "id": "2d0d89e5-33e3-4d8b-8c80-0135cd62e0e0",
   "metadata": {},
   "outputs": [],
   "source": [
    "GVGDIFRKIVSTIKNVV"
   ]
  },
  {
   "cell_type": "code",
   "execution_count": 53,
   "id": "952d58d9-2312-4ac3-a712-f522413b0f62",
   "metadata": {
    "execution": {
     "iopub.execute_input": "2022-09-18T19:48:52.423809Z",
     "iopub.status.busy": "2022-09-18T19:48:52.423544Z",
     "iopub.status.idle": "2022-09-18T19:48:52.429645Z",
     "shell.execute_reply": "2022-09-18T19:48:52.428474Z",
     "shell.execute_reply.started": "2022-09-18T19:48:52.423790Z"
    },
    "tags": []
   },
   "outputs": [
    {
     "data": {
      "text/plain": [
       "([0], array([0]))"
      ]
     },
     "execution_count": 53,
     "metadata": {},
     "output_type": "execute_result"
    }
   ],
   "source": [
    "y_test[55:56], y_predl[55:56]"
   ]
  },
  {
   "cell_type": "code",
   "execution_count": null,
   "id": "efef645f-0ba9-4f1f-bd6e-1a3be30d7e71",
   "metadata": {},
   "outputs": [],
   "source": []
  },
  {
   "cell_type": "code",
   "execution_count": 56,
   "id": "c75fd3ca-8302-406f-aaad-3eee541c1298",
   "metadata": {
    "execution": {
     "iopub.execute_input": "2022-09-18T20:03:09.530375Z",
     "iopub.status.busy": "2022-09-18T20:03:09.530015Z",
     "iopub.status.idle": "2022-09-18T20:03:09.536397Z",
     "shell.execute_reply": "2022-09-18T20:03:09.535461Z",
     "shell.execute_reply.started": "2022-09-18T20:03:09.530355Z"
    }
   },
   "outputs": [
    {
     "data": {
      "text/plain": [
       "sklearn.pipeline.Pipeline"
      ]
     },
     "execution_count": 56,
     "metadata": {},
     "output_type": "execute_result"
    }
   ],
   "source": [
    "type(nn_model)"
   ]
  },
  {
   "cell_type": "code",
   "execution_count": 57,
   "id": "4d936d4e-68f8-49da-9698-4eca0372c52d",
   "metadata": {
    "execution": {
     "iopub.execute_input": "2022-09-18T20:03:34.855413Z",
     "iopub.status.busy": "2022-09-18T20:03:34.855010Z",
     "iopub.status.idle": "2022-09-18T20:03:34.864855Z",
     "shell.execute_reply": "2022-09-18T20:03:34.863616Z",
     "shell.execute_reply.started": "2022-09-18T20:03:34.855375Z"
    }
   },
   "outputs": [
    {
     "data": {
      "text/plain": [
       "{'memory': None,\n",
       " 'steps': [('scaler', MinMaxScaler()),\n",
       "  ('pca', PCA(n_components=60)),\n",
       "  ('nnc', <keras.wrappers.scikit_learn.KerasClassifier at 0x7efcbfa1f430>)],\n",
       " 'verbose': False,\n",
       " 'scaler': MinMaxScaler(),\n",
       " 'pca': PCA(n_components=60),\n",
       " 'nnc': <keras.wrappers.scikit_learn.KerasClassifier at 0x7efcbfa1f430>,\n",
       " 'scaler__clip': False,\n",
       " 'scaler__copy': True,\n",
       " 'scaler__feature_range': (0, 1),\n",
       " 'pca__copy': True,\n",
       " 'pca__iterated_power': 'auto',\n",
       " 'pca__n_components': 60,\n",
       " 'pca__n_oversamples': 10,\n",
       " 'pca__power_iteration_normalizer': 'auto',\n",
       " 'pca__random_state': None,\n",
       " 'pca__svd_solver': 'auto',\n",
       " 'pca__tol': 0.0,\n",
       " 'pca__whiten': False,\n",
       " 'nnc__verbose': 0,\n",
       " 'nnc__dropout': 0.3,\n",
       " 'nnc__epochs': 10,\n",
       " 'nnc__build_fn': <function keras_model.create_model(optimizer='adam', dropout=0.1, n_features=60, n_units=64)>}"
      ]
     },
     "execution_count": 57,
     "metadata": {},
     "output_type": "execute_result"
    }
   ],
   "source": [
    "nn_model.get_params()"
   ]
  },
  {
   "cell_type": "code",
   "execution_count": null,
   "id": "4725125b-28cd-4a9a-80f0-b42d1dfc8668",
   "metadata": {},
   "outputs": [],
   "source": []
  }
 ],
 "metadata": {
  "kernelspec": {
   "display_name": "sa",
   "language": "python",
   "name": "conda-env-sa-py"
  },
  "language_info": {
   "codemirror_mode": {
    "name": "ipython",
    "version": 3
   },
   "file_extension": ".py",
   "mimetype": "text/x-python",
   "name": "python",
   "nbconvert_exporter": "python",
   "pygments_lexer": "ipython3",
   "version": "3.8.13"
  },
  "widgets": {
   "application/vnd.jupyter.widget-state+json": {
    "state": {},
    "version_major": 2,
    "version_minor": 0
   }
  }
 },
 "nbformat": 4,
 "nbformat_minor": 5
}
