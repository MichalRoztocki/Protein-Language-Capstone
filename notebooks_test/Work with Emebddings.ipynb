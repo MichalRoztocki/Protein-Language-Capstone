{
 "cells": [
  {
   "cell_type": "code",
   "execution_count": 135,
   "id": "a76d060d-d9a9-44e7-88f1-119990608f84",
   "metadata": {
    "execution": {
     "iopub.execute_input": "2022-08-16T04:16:52.612737Z",
     "iopub.status.busy": "2022-08-16T04:16:52.601953Z",
     "iopub.status.idle": "2022-08-16T04:16:52.651198Z",
     "shell.execute_reply": "2022-08-16T04:16:52.648655Z",
     "shell.execute_reply.started": "2022-08-16T04:16:52.612478Z"
    },
    "tags": []
   },
   "outputs": [],
   "source": [
    "import numpy as np\n",
    "import h5py\n",
    "import pandas as pd"
   ]
  },
  {
   "cell_type": "code",
   "execution_count": 136,
   "id": "2bfc4520-d140-442a-8720-82de3501bf8c",
   "metadata": {
    "execution": {
     "iopub.execute_input": "2022-08-16T04:16:52.654663Z",
     "iopub.status.busy": "2022-08-16T04:16:52.654196Z",
     "iopub.status.idle": "2022-08-16T04:16:52.897565Z",
     "shell.execute_reply": "2022-08-16T04:16:52.895842Z",
     "shell.execute_reply.started": "2022-08-16T04:16:52.654635Z"
    },
    "tags": []
   },
   "outputs": [
    {
     "name": "stdout",
     "output_type": "stream",
     "text": [
      "\u001b[34;42m../data_test/data_h5\u001b[00m\n",
      "├── [225K Aug  4 17:47]  \u001b[01;32mdemo.h5\u001b[00m\n",
      "├── [223K Aug 15 14:23]  \u001b[01;32mtrain_small1_dlm_avg.h5\u001b[00m\n",
      "├── [223K Aug 15 14:23]  \u001b[01;32mtrain_small1_dlm_max.h5\u001b[00m\n",
      "├── [ 79M Aug 15 14:23]  \u001b[01;32mtrain_small1_dlm_none.h5\u001b[00m\n",
      "├── [223K Aug 15 14:23]  \u001b[01;32mtrain_small1_dlm_sum.h5\u001b[00m\n",
      "├── [223K Aug 15 14:17]  \u001b[01;32mtrain_small1_mt_avg.h5\u001b[00m\n",
      "├── [223K Aug 15 14:17]  \u001b[01;32mtrain_small1_mt_max.h5\u001b[00m\n",
      "├── [ 79M Aug 15 14:17]  \u001b[01;32mtrain_small1_mt_none.h5\u001b[00m\n",
      "└── [223K Aug 15 14:15]  \u001b[01;32mtrain_small1_mt_sum.h5\u001b[00m\n",
      "\n",
      "0 directories, 9 files\n"
     ]
    }
   ],
   "source": [
    "!tree -DhL 1 '../data_test/data_h5'"
   ]
  },
  {
   "cell_type": "markdown",
   "id": "93f7ee22-15d9-4393-8f37-6919eb6337e4",
   "metadata": {},
   "source": [
    "prose_dlm model"
   ]
  },
  {
   "cell_type": "code",
   "execution_count": 137,
   "id": "e1790c08-381b-471b-8806-78c8d2f88ff4",
   "metadata": {
    "execution": {
     "iopub.execute_input": "2022-08-16T04:16:52.900363Z",
     "iopub.status.busy": "2022-08-16T04:16:52.900045Z",
     "iopub.status.idle": "2022-08-16T04:16:52.907294Z",
     "shell.execute_reply": "2022-08-16T04:16:52.906370Z",
     "shell.execute_reply.started": "2022-08-16T04:16:52.900326Z"
    },
    "tags": []
   },
   "outputs": [],
   "source": [
    "file_name = '../data_test/data_h5/train_small1_dlm_avg.h5'"
   ]
  },
  {
   "cell_type": "code",
   "execution_count": 138,
   "id": "0b60816b-329d-4aca-885f-b5e60ea4c462",
   "metadata": {
    "execution": {
     "iopub.execute_input": "2022-08-16T04:16:52.908534Z",
     "iopub.status.busy": "2022-08-16T04:16:52.908310Z",
     "iopub.status.idle": "2022-08-16T04:16:52.949070Z",
     "shell.execute_reply": "2022-08-16T04:16:52.948080Z",
     "shell.execute_reply.started": "2022-08-16T04:16:52.908513Z"
    },
    "tags": []
   },
   "outputs": [
    {
     "name": "stdout",
     "output_type": "stream",
     "text": [
      "A0LUZ1 \tP9WNR8 \tQ2JVG1 \tQ4FV41 \tQ5Z3Z8 \tQ6A8L0 \tQ7V7T9 \tQ9K4Q3 \tQ9ZUP2 \t"
     ]
    }
   ],
   "source": [
    "with h5py.File(file_name, 'r') as hf:\n",
    "    for key in hf.keys():\n",
    "        print(key,'\\t', end='')"
   ]
  },
  {
   "cell_type": "code",
   "execution_count": 139,
   "id": "ef6bb747-8e80-4c30-bc3d-014e002604fe",
   "metadata": {
    "execution": {
     "iopub.execute_input": "2022-08-16T04:16:52.953162Z",
     "iopub.status.busy": "2022-08-16T04:16:52.952935Z",
     "iopub.status.idle": "2022-08-16T04:16:52.981062Z",
     "shell.execute_reply": "2022-08-16T04:16:52.980084Z",
     "shell.execute_reply.started": "2022-08-16T04:16:52.953143Z"
    },
    "tags": []
   },
   "outputs": [
    {
     "name": "stdout",
     "output_type": "stream",
     "text": [
      "(6165,)\n"
     ]
    }
   ],
   "source": [
    "with h5py.File(file_name, 'r') as hf:\n",
    "    data = hf.get('Q4FV41')\n",
    "    n1 = np.array(data)\n",
    "    print(n1.shape)"
   ]
  },
  {
   "cell_type": "code",
   "execution_count": 140,
   "id": "aeeb5330-8cce-4f4f-8c93-0d9c1d5694cd",
   "metadata": {
    "execution": {
     "iopub.execute_input": "2022-08-16T04:16:52.982057Z",
     "iopub.status.busy": "2022-08-16T04:16:52.981862Z",
     "iopub.status.idle": "2022-08-16T04:16:52.995202Z",
     "shell.execute_reply": "2022-08-16T04:16:52.994282Z",
     "shell.execute_reply.started": "2022-08-16T04:16:52.982038Z"
    },
    "tags": []
   },
   "outputs": [
    {
     "name": "stdout",
     "output_type": "stream",
     "text": [
      "[ 0.10018904  0.04347826  0.05954631 ... -0.07978772 -0.10637696\n",
      "  0.00632719]\n"
     ]
    }
   ],
   "source": [
    "print(n1)"
   ]
  },
  {
   "cell_type": "markdown",
   "id": "a52a87f8-7dab-455a-827a-93a0cf924097",
   "metadata": {},
   "source": [
    "prose_mt model"
   ]
  },
  {
   "cell_type": "code",
   "execution_count": 141,
   "id": "8b461a60-dbd4-4eea-8c9e-422708895367",
   "metadata": {
    "execution": {
     "iopub.execute_input": "2022-08-16T04:16:52.997617Z",
     "iopub.status.busy": "2022-08-16T04:16:52.997380Z",
     "iopub.status.idle": "2022-08-16T04:16:53.003751Z",
     "shell.execute_reply": "2022-08-16T04:16:53.002931Z",
     "shell.execute_reply.started": "2022-08-16T04:16:52.997595Z"
    },
    "tags": []
   },
   "outputs": [],
   "source": [
    "file_name = '../data_test/data_h5/train_small1_mt_avg.h5'"
   ]
  },
  {
   "cell_type": "code",
   "execution_count": 142,
   "id": "9b87c7c9-d325-4ec8-8896-fd026fc0997d",
   "metadata": {
    "execution": {
     "iopub.execute_input": "2022-08-16T04:16:53.004821Z",
     "iopub.status.busy": "2022-08-16T04:16:53.004602Z",
     "iopub.status.idle": "2022-08-16T04:16:53.031322Z",
     "shell.execute_reply": "2022-08-16T04:16:53.029939Z",
     "shell.execute_reply.started": "2022-08-16T04:16:53.004803Z"
    },
    "tags": []
   },
   "outputs": [
    {
     "name": "stdout",
     "output_type": "stream",
     "text": [
      "(6165,)\n"
     ]
    }
   ],
   "source": [
    "with h5py.File(file_name, 'r') as hf:\n",
    "    data = hf.get('Q4FV41')\n",
    "    n1 = np.array(data)\n",
    "    print(n1.shape)"
   ]
  },
  {
   "cell_type": "code",
   "execution_count": 143,
   "id": "a2c18c9c-670b-4139-ad95-cc04fa18a116",
   "metadata": {
    "execution": {
     "iopub.execute_input": "2022-08-16T04:16:53.033078Z",
     "iopub.status.busy": "2022-08-16T04:16:53.032513Z",
     "iopub.status.idle": "2022-08-16T04:16:53.039411Z",
     "shell.execute_reply": "2022-08-16T04:16:53.038230Z",
     "shell.execute_reply.started": "2022-08-16T04:16:53.033052Z"
    },
    "tags": []
   },
   "outputs": [
    {
     "name": "stdout",
     "output_type": "stream",
     "text": [
      "[ 0.10018904  0.04347826  0.05954631 ... -0.12030653 -0.03651335\n",
      "  0.0048037 ]\n"
     ]
    }
   ],
   "source": [
    "print(n1)"
   ]
  },
  {
   "cell_type": "markdown",
   "id": "c01aa4bd-4462-4448-bb64-680da744580d",
   "metadata": {},
   "source": [
    "prose_mt and no pooling"
   ]
  },
  {
   "cell_type": "code",
   "execution_count": 144,
   "id": "84a3d059-1f6b-4703-bbb6-74b239589f25",
   "metadata": {
    "execution": {
     "iopub.execute_input": "2022-08-16T04:16:53.041052Z",
     "iopub.status.busy": "2022-08-16T04:16:53.040712Z",
     "iopub.status.idle": "2022-08-16T04:16:53.047191Z",
     "shell.execute_reply": "2022-08-16T04:16:53.046295Z",
     "shell.execute_reply.started": "2022-08-16T04:16:53.041028Z"
    },
    "tags": []
   },
   "outputs": [],
   "source": [
    "file_name = '../data_test/data_h5/train_small1_mt_none.h5'"
   ]
  },
  {
   "cell_type": "code",
   "execution_count": 145,
   "id": "daf3ec34-70b5-4881-8c32-d5d6050366b7",
   "metadata": {
    "execution": {
     "iopub.execute_input": "2022-08-16T04:16:53.048471Z",
     "iopub.status.busy": "2022-08-16T04:16:53.048238Z",
     "iopub.status.idle": "2022-08-16T04:16:53.265981Z",
     "shell.execute_reply": "2022-08-16T04:16:53.264526Z",
     "shell.execute_reply.started": "2022-08-16T04:16:53.048452Z"
    },
    "tags": []
   },
   "outputs": [
    {
     "name": "stdout",
     "output_type": "stream",
     "text": [
      "(275, 6165)\n",
      "(133, 6165)\n",
      "(200, 6165)\n",
      "(1058, 6165)\n",
      "(662, 6165)\n",
      "(264, 6165)\n",
      "(225, 6165)\n",
      "(120, 6165)\n",
      "(430, 6165)\n"
     ]
    }
   ],
   "source": [
    "with h5py.File(file_name, 'r') as hf:\n",
    "    for key in hf.keys():\n",
    "        \n",
    "        data = hf.get(key)\n",
    "        n1 = np.array(data)\n",
    "        print(n1.shape)"
   ]
  },
  {
   "cell_type": "code",
   "execution_count": 146,
   "id": "1636176d-e8f3-4d79-a314-98e1baee7731",
   "metadata": {
    "execution": {
     "iopub.execute_input": "2022-08-16T04:16:53.267916Z",
     "iopub.status.busy": "2022-08-16T04:16:53.267547Z",
     "iopub.status.idle": "2022-08-16T04:16:53.285766Z",
     "shell.execute_reply": "2022-08-16T04:16:53.284671Z",
     "shell.execute_reply.started": "2022-08-16T04:16:53.267889Z"
    },
    "tags": []
   },
   "outputs": [
    {
     "data": {
      "text/plain": [
       "array([[ 0.        ,  0.        ,  0.        , ...,  0.00308989,\n",
       "        -0.03122626,  0.00865594],\n",
       "       [ 1.        ,  0.        ,  0.        , ...,  0.00752844,\n",
       "        -0.02862876,  0.0104944 ],\n",
       "       [ 0.        ,  1.        ,  0.        , ...,  0.01200054,\n",
       "        -0.05172816,  0.01839039],\n",
       "       ...,\n",
       "       [ 0.        ,  0.        ,  0.        , ..., -0.03334594,\n",
       "        -0.01626178, -0.01303771],\n",
       "       [ 1.        ,  0.        ,  0.        , ...,  0.02620523,\n",
       "        -0.0159338 , -0.01184574],\n",
       "       [ 1.        ,  0.        ,  0.        , ...,  0.05606975,\n",
       "        -0.01208456, -0.01188386]], dtype=float32)"
      ]
     },
     "execution_count": 146,
     "metadata": {},
     "output_type": "execute_result"
    }
   ],
   "source": [
    "n1"
   ]
  },
  {
   "cell_type": "markdown",
   "id": "e6e6c034-c058-4385-ab03-f5ddc4ee9f0f",
   "metadata": {},
   "source": [
    "### Creating files with embeddings"
   ]
  },
  {
   "cell_type": "code",
   "execution_count": 147,
   "id": "88b9b30e-3eed-4384-bd5e-07c271093b91",
   "metadata": {
    "execution": {
     "iopub.execute_input": "2022-08-16T04:16:53.287669Z",
     "iopub.status.busy": "2022-08-16T04:16:53.286880Z",
     "iopub.status.idle": "2022-08-16T04:16:53.292130Z",
     "shell.execute_reply": "2022-08-16T04:16:53.291074Z",
     "shell.execute_reply.started": "2022-08-16T04:16:53.287644Z"
    },
    "tags": []
   },
   "outputs": [],
   "source": [
    "file_name = '../data_test/data_h5/train_small1_dlm_avg.h5'"
   ]
  },
  {
   "cell_type": "code",
   "execution_count": 148,
   "id": "7bac1628-fdce-45f8-870b-f89b73c7f683",
   "metadata": {
    "execution": {
     "iopub.execute_input": "2022-08-16T04:16:53.296697Z",
     "iopub.status.busy": "2022-08-16T04:16:53.296013Z",
     "iopub.status.idle": "2022-08-16T04:16:53.323912Z",
     "shell.execute_reply": "2022-08-16T04:16:53.322850Z",
     "shell.execute_reply.started": "2022-08-16T04:16:53.296652Z"
    }
   },
   "outputs": [
    {
     "name": "stdout",
     "output_type": "stream",
     "text": [
      "A0LUZ1 P9WNR8 Q2JVG1 Q4FV41 Q5Z3Z8 Q6A8L0 Q7V7T9 Q9K4Q3 Q9ZUP2 "
     ]
    }
   ],
   "source": [
    "proteins = {}\n",
    "\n",
    "with h5py.File(file_name, 'r') as hf:\n",
    "    for key in hf.keys():\n",
    "        print(key, end=' ')\n",
    "        data = hf.get(key)\n",
    "        n = np.array(data)\n",
    "        proteins[key] = n"
   ]
  },
  {
   "cell_type": "code",
   "execution_count": 149,
   "id": "5ca7e0d0-ec2a-4731-8c16-006d132d2b68",
   "metadata": {
    "execution": {
     "iopub.execute_input": "2022-08-16T04:16:53.326121Z",
     "iopub.status.busy": "2022-08-16T04:16:53.325631Z",
     "iopub.status.idle": "2022-08-16T04:16:53.338434Z",
     "shell.execute_reply": "2022-08-16T04:16:53.337059Z",
     "shell.execute_reply.started": "2022-08-16T04:16:53.326030Z"
    }
   },
   "outputs": [
    {
     "data": {
      "text/plain": [
       "{'A0LUZ1': array([ 0.10545455,  0.11272728,  0.01454545, ..., -0.11242143,\n",
       "         0.05040131,  0.00577081], dtype=float32),\n",
       " 'P9WNR8': array([ 0.13533835,  0.02255639,  0.0075188 , ..., -0.02747917,\n",
       "         0.14318302,  0.00754967], dtype=float32),\n",
       " 'Q2JVG1': array([ 0.025     ,  0.11499999,  0.03      , ..., -0.09259275,\n",
       "         0.12689242,  0.16779038], dtype=float32),\n",
       " 'Q4FV41': array([ 0.10018904,  0.04347826,  0.05954631, ..., -0.07978772,\n",
       "        -0.10637696,  0.00632719], dtype=float32),\n",
       " 'Q5Z3Z8': array([ 0.11782477,  0.09667674,  0.02567976, ...,  0.03226604,\n",
       "        -0.016822  ,  0.01942107], dtype=float32),\n",
       " 'Q6A8L0': array([ 0.11363637,  0.06439394,  0.03787879, ..., -0.03715345,\n",
       "        -0.03813693,  0.00453561], dtype=float32),\n",
       " 'Q7V7T9': array([ 0.09333333,  0.07555556,  0.00888889, ..., -0.12409594,\n",
       "         0.07972488,  0.03179713], dtype=float32),\n",
       " 'Q9K4Q3': array([ 0.11666667,  0.075     ,  0.025     , ..., -0.12435261,\n",
       "         0.01599274,  0.06753068], dtype=float32),\n",
       " 'Q9ZUP2': array([ 0.09069768,  0.04186046,  0.03488372, ..., -0.01738964,\n",
       "        -0.09721208,  0.00238539], dtype=float32)}"
      ]
     },
     "execution_count": 149,
     "metadata": {},
     "output_type": "execute_result"
    }
   ],
   "source": [
    "proteins"
   ]
  },
  {
   "cell_type": "code",
   "execution_count": 150,
   "id": "f15343aa-8b5c-4651-860b-14a53ae83e4b",
   "metadata": {
    "execution": {
     "iopub.execute_input": "2022-08-16T04:16:53.340086Z",
     "iopub.status.busy": "2022-08-16T04:16:53.339789Z",
     "iopub.status.idle": "2022-08-16T04:16:53.381381Z",
     "shell.execute_reply": "2022-08-16T04:16:53.380233Z",
     "shell.execute_reply.started": "2022-08-16T04:16:53.340060Z"
    },
    "tags": []
   },
   "outputs": [],
   "source": [
    "df = pd.DataFrame(proteins).T"
   ]
  },
  {
   "cell_type": "code",
   "execution_count": 151,
   "id": "8ef9bec5-f52c-46dc-bb0f-e6d1d0a245cc",
   "metadata": {
    "execution": {
     "iopub.execute_input": "2022-08-16T04:16:53.383518Z",
     "iopub.status.busy": "2022-08-16T04:16:53.383234Z",
     "iopub.status.idle": "2022-08-16T04:16:53.389486Z",
     "shell.execute_reply": "2022-08-16T04:16:53.388118Z",
     "shell.execute_reply.started": "2022-08-16T04:16:53.383492Z"
    },
    "tags": []
   },
   "outputs": [],
   "source": [
    "df.index.name = 'Sequence_id'"
   ]
  },
  {
   "cell_type": "code",
   "execution_count": 152,
   "id": "f3a7fe2b-7fec-450f-9249-94266d0fba80",
   "metadata": {
    "execution": {
     "iopub.execute_input": "2022-08-16T04:16:53.393055Z",
     "iopub.status.busy": "2022-08-16T04:16:53.392194Z",
     "iopub.status.idle": "2022-08-16T04:16:53.467130Z",
     "shell.execute_reply": "2022-08-16T04:16:53.465355Z",
     "shell.execute_reply.started": "2022-08-16T04:16:53.393002Z"
    },
    "tags": []
   },
   "outputs": [
    {
     "data": {
      "text/html": [
       "<div>\n",
       "<style scoped>\n",
       "    .dataframe tbody tr th:only-of-type {\n",
       "        vertical-align: middle;\n",
       "    }\n",
       "\n",
       "    .dataframe tbody tr th {\n",
       "        vertical-align: top;\n",
       "    }\n",
       "\n",
       "    .dataframe thead th {\n",
       "        text-align: right;\n",
       "    }\n",
       "</style>\n",
       "<table border=\"1\" class=\"dataframe\">\n",
       "  <thead>\n",
       "    <tr style=\"text-align: right;\">\n",
       "      <th></th>\n",
       "      <th>0</th>\n",
       "      <th>1</th>\n",
       "      <th>2</th>\n",
       "      <th>3</th>\n",
       "      <th>4</th>\n",
       "      <th>5</th>\n",
       "      <th>6</th>\n",
       "      <th>7</th>\n",
       "      <th>8</th>\n",
       "      <th>9</th>\n",
       "      <th>...</th>\n",
       "      <th>6155</th>\n",
       "      <th>6156</th>\n",
       "      <th>6157</th>\n",
       "      <th>6158</th>\n",
       "      <th>6159</th>\n",
       "      <th>6160</th>\n",
       "      <th>6161</th>\n",
       "      <th>6162</th>\n",
       "      <th>6163</th>\n",
       "      <th>6164</th>\n",
       "    </tr>\n",
       "    <tr>\n",
       "      <th>Sequence_id</th>\n",
       "      <th></th>\n",
       "      <th></th>\n",
       "      <th></th>\n",
       "      <th></th>\n",
       "      <th></th>\n",
       "      <th></th>\n",
       "      <th></th>\n",
       "      <th></th>\n",
       "      <th></th>\n",
       "      <th></th>\n",
       "      <th></th>\n",
       "      <th></th>\n",
       "      <th></th>\n",
       "      <th></th>\n",
       "      <th></th>\n",
       "      <th></th>\n",
       "      <th></th>\n",
       "      <th></th>\n",
       "      <th></th>\n",
       "      <th></th>\n",
       "      <th></th>\n",
       "    </tr>\n",
       "  </thead>\n",
       "  <tbody>\n",
       "    <tr>\n",
       "      <th>A0LUZ1</th>\n",
       "      <td>0.105455</td>\n",
       "      <td>0.112727</td>\n",
       "      <td>0.014545</td>\n",
       "      <td>0.072727</td>\n",
       "      <td>0.003636</td>\n",
       "      <td>0.036364</td>\n",
       "      <td>0.054545</td>\n",
       "      <td>0.083636</td>\n",
       "      <td>0.014545</td>\n",
       "      <td>0.047273</td>\n",
       "      <td>...</td>\n",
       "      <td>0.012814</td>\n",
       "      <td>-0.094531</td>\n",
       "      <td>0.011316</td>\n",
       "      <td>0.009944</td>\n",
       "      <td>-0.012917</td>\n",
       "      <td>-0.118146</td>\n",
       "      <td>0.051986</td>\n",
       "      <td>-0.112421</td>\n",
       "      <td>0.050401</td>\n",
       "      <td>0.005771</td>\n",
       "    </tr>\n",
       "    <tr>\n",
       "      <th>P9WNR8</th>\n",
       "      <td>0.135338</td>\n",
       "      <td>0.022556</td>\n",
       "      <td>0.007519</td>\n",
       "      <td>0.052632</td>\n",
       "      <td>0.000000</td>\n",
       "      <td>0.105263</td>\n",
       "      <td>0.037594</td>\n",
       "      <td>0.142857</td>\n",
       "      <td>0.007519</td>\n",
       "      <td>0.037594</td>\n",
       "      <td>...</td>\n",
       "      <td>0.074207</td>\n",
       "      <td>0.231775</td>\n",
       "      <td>0.047796</td>\n",
       "      <td>0.110545</td>\n",
       "      <td>0.029757</td>\n",
       "      <td>-0.056569</td>\n",
       "      <td>0.084240</td>\n",
       "      <td>-0.027479</td>\n",
       "      <td>0.143183</td>\n",
       "      <td>0.007550</td>\n",
       "    </tr>\n",
       "    <tr>\n",
       "      <th>Q2JVG1</th>\n",
       "      <td>0.025000</td>\n",
       "      <td>0.115000</td>\n",
       "      <td>0.030000</td>\n",
       "      <td>0.035000</td>\n",
       "      <td>0.025000</td>\n",
       "      <td>0.065000</td>\n",
       "      <td>0.125000</td>\n",
       "      <td>0.050000</td>\n",
       "      <td>0.005000</td>\n",
       "      <td>0.050000</td>\n",
       "      <td>...</td>\n",
       "      <td>0.016549</td>\n",
       "      <td>-0.051551</td>\n",
       "      <td>0.053766</td>\n",
       "      <td>0.027876</td>\n",
       "      <td>0.015438</td>\n",
       "      <td>-0.116005</td>\n",
       "      <td>0.012649</td>\n",
       "      <td>-0.092593</td>\n",
       "      <td>0.126892</td>\n",
       "      <td>0.167790</td>\n",
       "    </tr>\n",
       "    <tr>\n",
       "      <th>Q4FV41</th>\n",
       "      <td>0.100189</td>\n",
       "      <td>0.043478</td>\n",
       "      <td>0.059546</td>\n",
       "      <td>0.068998</td>\n",
       "      <td>0.011342</td>\n",
       "      <td>0.063327</td>\n",
       "      <td>0.041588</td>\n",
       "      <td>0.051985</td>\n",
       "      <td>0.029301</td>\n",
       "      <td>0.068053</td>\n",
       "      <td>...</td>\n",
       "      <td>-0.012878</td>\n",
       "      <td>0.401920</td>\n",
       "      <td>0.082605</td>\n",
       "      <td>0.056754</td>\n",
       "      <td>0.004967</td>\n",
       "      <td>-0.258735</td>\n",
       "      <td>0.010609</td>\n",
       "      <td>-0.079788</td>\n",
       "      <td>-0.106377</td>\n",
       "      <td>0.006327</td>\n",
       "    </tr>\n",
       "    <tr>\n",
       "      <th>Q5Z3Z8</th>\n",
       "      <td>0.117825</td>\n",
       "      <td>0.096677</td>\n",
       "      <td>0.025680</td>\n",
       "      <td>0.057402</td>\n",
       "      <td>0.001511</td>\n",
       "      <td>0.036254</td>\n",
       "      <td>0.084592</td>\n",
       "      <td>0.060423</td>\n",
       "      <td>0.018127</td>\n",
       "      <td>0.040785</td>\n",
       "      <td>...</td>\n",
       "      <td>-0.006412</td>\n",
       "      <td>-0.223360</td>\n",
       "      <td>0.009567</td>\n",
       "      <td>0.026878</td>\n",
       "      <td>0.009134</td>\n",
       "      <td>-0.185933</td>\n",
       "      <td>0.053071</td>\n",
       "      <td>0.032266</td>\n",
       "      <td>-0.016822</td>\n",
       "      <td>0.019421</td>\n",
       "    </tr>\n",
       "    <tr>\n",
       "      <th>Q6A8L0</th>\n",
       "      <td>0.113636</td>\n",
       "      <td>0.064394</td>\n",
       "      <td>0.037879</td>\n",
       "      <td>0.094697</td>\n",
       "      <td>0.003788</td>\n",
       "      <td>0.026515</td>\n",
       "      <td>0.094697</td>\n",
       "      <td>0.075758</td>\n",
       "      <td>0.007576</td>\n",
       "      <td>0.056818</td>\n",
       "      <td>...</td>\n",
       "      <td>0.113819</td>\n",
       "      <td>-0.128591</td>\n",
       "      <td>0.081230</td>\n",
       "      <td>0.080329</td>\n",
       "      <td>0.048674</td>\n",
       "      <td>-0.035709</td>\n",
       "      <td>0.092301</td>\n",
       "      <td>-0.037153</td>\n",
       "      <td>-0.038137</td>\n",
       "      <td>0.004536</td>\n",
       "    </tr>\n",
       "    <tr>\n",
       "      <th>Q7V7T9</th>\n",
       "      <td>0.093333</td>\n",
       "      <td>0.075556</td>\n",
       "      <td>0.008889</td>\n",
       "      <td>0.057778</td>\n",
       "      <td>0.017778</td>\n",
       "      <td>0.075556</td>\n",
       "      <td>0.080000</td>\n",
       "      <td>0.102222</td>\n",
       "      <td>0.022222</td>\n",
       "      <td>0.053333</td>\n",
       "      <td>...</td>\n",
       "      <td>0.004413</td>\n",
       "      <td>-0.247285</td>\n",
       "      <td>0.128575</td>\n",
       "      <td>0.095270</td>\n",
       "      <td>-0.024129</td>\n",
       "      <td>0.075140</td>\n",
       "      <td>0.057433</td>\n",
       "      <td>-0.124096</td>\n",
       "      <td>0.079725</td>\n",
       "      <td>0.031797</td>\n",
       "    </tr>\n",
       "    <tr>\n",
       "      <th>Q9K4Q3</th>\n",
       "      <td>0.116667</td>\n",
       "      <td>0.075000</td>\n",
       "      <td>0.025000</td>\n",
       "      <td>0.066667</td>\n",
       "      <td>0.000000</td>\n",
       "      <td>0.033333</td>\n",
       "      <td>0.133333</td>\n",
       "      <td>0.075000</td>\n",
       "      <td>0.008333</td>\n",
       "      <td>0.066667</td>\n",
       "      <td>...</td>\n",
       "      <td>0.056158</td>\n",
       "      <td>-0.062148</td>\n",
       "      <td>0.105938</td>\n",
       "      <td>0.063879</td>\n",
       "      <td>0.022944</td>\n",
       "      <td>-0.081732</td>\n",
       "      <td>0.133595</td>\n",
       "      <td>-0.124353</td>\n",
       "      <td>0.015993</td>\n",
       "      <td>0.067531</td>\n",
       "    </tr>\n",
       "    <tr>\n",
       "      <th>Q9ZUP2</th>\n",
       "      <td>0.090698</td>\n",
       "      <td>0.041860</td>\n",
       "      <td>0.034884</td>\n",
       "      <td>0.044186</td>\n",
       "      <td>0.009302</td>\n",
       "      <td>0.039535</td>\n",
       "      <td>0.074419</td>\n",
       "      <td>0.088372</td>\n",
       "      <td>0.013953</td>\n",
       "      <td>0.051163</td>\n",
       "      <td>...</td>\n",
       "      <td>0.017688</td>\n",
       "      <td>-0.034424</td>\n",
       "      <td>-0.005235</td>\n",
       "      <td>0.036114</td>\n",
       "      <td>0.007811</td>\n",
       "      <td>-0.074023</td>\n",
       "      <td>-0.027005</td>\n",
       "      <td>-0.017390</td>\n",
       "      <td>-0.097212</td>\n",
       "      <td>0.002385</td>\n",
       "    </tr>\n",
       "  </tbody>\n",
       "</table>\n",
       "<p>9 rows × 6165 columns</p>\n",
       "</div>"
      ],
      "text/plain": [
       "                 0         1         2         3         4         5     \\\n",
       "Sequence_id                                                               \n",
       "A0LUZ1       0.105455  0.112727  0.014545  0.072727  0.003636  0.036364   \n",
       "P9WNR8       0.135338  0.022556  0.007519  0.052632  0.000000  0.105263   \n",
       "Q2JVG1       0.025000  0.115000  0.030000  0.035000  0.025000  0.065000   \n",
       "Q4FV41       0.100189  0.043478  0.059546  0.068998  0.011342  0.063327   \n",
       "Q5Z3Z8       0.117825  0.096677  0.025680  0.057402  0.001511  0.036254   \n",
       "Q6A8L0       0.113636  0.064394  0.037879  0.094697  0.003788  0.026515   \n",
       "Q7V7T9       0.093333  0.075556  0.008889  0.057778  0.017778  0.075556   \n",
       "Q9K4Q3       0.116667  0.075000  0.025000  0.066667  0.000000  0.033333   \n",
       "Q9ZUP2       0.090698  0.041860  0.034884  0.044186  0.009302  0.039535   \n",
       "\n",
       "                 6         7         8         9     ...      6155      6156  \\\n",
       "Sequence_id                                          ...                       \n",
       "A0LUZ1       0.054545  0.083636  0.014545  0.047273  ...  0.012814 -0.094531   \n",
       "P9WNR8       0.037594  0.142857  0.007519  0.037594  ...  0.074207  0.231775   \n",
       "Q2JVG1       0.125000  0.050000  0.005000  0.050000  ...  0.016549 -0.051551   \n",
       "Q4FV41       0.041588  0.051985  0.029301  0.068053  ... -0.012878  0.401920   \n",
       "Q5Z3Z8       0.084592  0.060423  0.018127  0.040785  ... -0.006412 -0.223360   \n",
       "Q6A8L0       0.094697  0.075758  0.007576  0.056818  ...  0.113819 -0.128591   \n",
       "Q7V7T9       0.080000  0.102222  0.022222  0.053333  ...  0.004413 -0.247285   \n",
       "Q9K4Q3       0.133333  0.075000  0.008333  0.066667  ...  0.056158 -0.062148   \n",
       "Q9ZUP2       0.074419  0.088372  0.013953  0.051163  ...  0.017688 -0.034424   \n",
       "\n",
       "                 6157      6158      6159      6160      6161      6162  \\\n",
       "Sequence_id                                                               \n",
       "A0LUZ1       0.011316  0.009944 -0.012917 -0.118146  0.051986 -0.112421   \n",
       "P9WNR8       0.047796  0.110545  0.029757 -0.056569  0.084240 -0.027479   \n",
       "Q2JVG1       0.053766  0.027876  0.015438 -0.116005  0.012649 -0.092593   \n",
       "Q4FV41       0.082605  0.056754  0.004967 -0.258735  0.010609 -0.079788   \n",
       "Q5Z3Z8       0.009567  0.026878  0.009134 -0.185933  0.053071  0.032266   \n",
       "Q6A8L0       0.081230  0.080329  0.048674 -0.035709  0.092301 -0.037153   \n",
       "Q7V7T9       0.128575  0.095270 -0.024129  0.075140  0.057433 -0.124096   \n",
       "Q9K4Q3       0.105938  0.063879  0.022944 -0.081732  0.133595 -0.124353   \n",
       "Q9ZUP2      -0.005235  0.036114  0.007811 -0.074023 -0.027005 -0.017390   \n",
       "\n",
       "                 6163      6164  \n",
       "Sequence_id                      \n",
       "A0LUZ1       0.050401  0.005771  \n",
       "P9WNR8       0.143183  0.007550  \n",
       "Q2JVG1       0.126892  0.167790  \n",
       "Q4FV41      -0.106377  0.006327  \n",
       "Q5Z3Z8      -0.016822  0.019421  \n",
       "Q6A8L0      -0.038137  0.004536  \n",
       "Q7V7T9       0.079725  0.031797  \n",
       "Q9K4Q3       0.015993  0.067531  \n",
       "Q9ZUP2      -0.097212  0.002385  \n",
       "\n",
       "[9 rows x 6165 columns]"
      ]
     },
     "execution_count": 152,
     "metadata": {},
     "output_type": "execute_result"
    }
   ],
   "source": [
    "df"
   ]
  },
  {
   "cell_type": "markdown",
   "id": "4e285ed9-486a-4ea8-b9da-59fd41b20280",
   "metadata": {},
   "source": [
    "Save the file for unsupervised learning tasks"
   ]
  },
  {
   "cell_type": "code",
   "execution_count": 153,
   "id": "e3823bb3-60b8-42ed-848a-7424af1d6d85",
   "metadata": {
    "execution": {
     "iopub.execute_input": "2022-08-16T04:16:53.469728Z",
     "iopub.status.busy": "2022-08-16T04:16:53.469035Z",
     "iopub.status.idle": "2022-08-16T04:16:53.689505Z",
     "shell.execute_reply": "2022-08-16T04:16:53.688466Z",
     "shell.execute_reply.started": "2022-08-16T04:16:53.469698Z"
    }
   },
   "outputs": [],
   "source": [
    "df.to_csv('seq_emb.tsv', sep='\\t' )"
   ]
  },
  {
   "cell_type": "markdown",
   "id": "ab329efb-0794-45db-8774-ca026f6bab98",
   "metadata": {},
   "source": [
    "Save the files for Embedding Projector"
   ]
  },
  {
   "cell_type": "code",
   "execution_count": 154,
   "id": "145255f3-c205-4cc4-b9a1-6e7e56d601bc",
   "metadata": {
    "execution": {
     "iopub.execute_input": "2022-08-16T04:16:53.691401Z",
     "iopub.status.busy": "2022-08-16T04:16:53.691013Z",
     "iopub.status.idle": "2022-08-16T04:16:53.703090Z",
     "shell.execute_reply": "2022-08-16T04:16:53.701997Z",
     "shell.execute_reply.started": "2022-08-16T04:16:53.691374Z"
    },
    "tags": []
   },
   "outputs": [],
   "source": [
    "df.index.to_frame(index=False).to_csv('Sequence_ids.tsv', index=False, sep='\\t' )"
   ]
  },
  {
   "cell_type": "code",
   "execution_count": 155,
   "id": "71d83711-4b18-461e-a094-0983cc42de96",
   "metadata": {
    "execution": {
     "iopub.execute_input": "2022-08-16T04:16:53.705365Z",
     "iopub.status.busy": "2022-08-16T04:16:53.704768Z",
     "iopub.status.idle": "2022-08-16T04:16:53.815648Z",
     "shell.execute_reply": "2022-08-16T04:16:53.814355Z",
     "shell.execute_reply.started": "2022-08-16T04:16:53.705317Z"
    },
    "tags": []
   },
   "outputs": [],
   "source": [
    "df.to_csv('Embeddings.tsv', index=False, sep='\\t' )"
   ]
  },
  {
   "cell_type": "markdown",
   "id": "3730ab53-4989-4aa4-a4a3-ab35d50a5db6",
   "metadata": {},
   "source": [
    "The files Sequence_ids.tsv and 'Embedings.tsv are for now located in the notebooks_test. \n",
    "\n",
    "You can load them to the Embedding Projector."
   ]
  },
  {
   "cell_type": "markdown",
   "id": "f668e407-a165-4c66-8ef9-caf192d47c99",
   "metadata": {},
   "source": [
    "#### Creating labels dataframe"
   ]
  },
  {
   "cell_type": "code",
   "execution_count": 156,
   "id": "36a36397-077d-4580-96a3-01fca588daa1",
   "metadata": {
    "execution": {
     "iopub.execute_input": "2022-08-16T04:16:53.817396Z",
     "iopub.status.busy": "2022-08-16T04:16:53.816847Z",
     "iopub.status.idle": "2022-08-16T04:16:53.822693Z",
     "shell.execute_reply": "2022-08-16T04:16:53.821407Z",
     "shell.execute_reply.started": "2022-08-16T04:16:53.817366Z"
    },
    "tags": []
   },
   "outputs": [],
   "source": [
    "csv_name = '../data_test/data_fa/train_small1.csv'"
   ]
  },
  {
   "cell_type": "code",
   "execution_count": 157,
   "id": "70098c6f-26ee-472b-9b0b-f6b4bc9843a1",
   "metadata": {
    "execution": {
     "iopub.execute_input": "2022-08-16T04:16:53.825032Z",
     "iopub.status.busy": "2022-08-16T04:16:53.824398Z",
     "iopub.status.idle": "2022-08-16T04:16:53.855598Z",
     "shell.execute_reply": "2022-08-16T04:16:53.854484Z",
     "shell.execute_reply.started": "2022-08-16T04:16:53.824999Z"
    },
    "tags": []
   },
   "outputs": [
    {
     "data": {
      "text/plain": [
       "Index(['code', 'sequence', 'label'], dtype='object')"
      ]
     },
     "execution_count": 157,
     "metadata": {},
     "output_type": "execute_result"
    }
   ],
   "source": [
    "dfcl = pd.read_csv(csv_name)\n",
    "dfcl.columns"
   ]
  },
  {
   "cell_type": "markdown",
   "id": "53846b6d-b3d1-43f9-8b91-8553d0bcea4e",
   "metadata": {},
   "source": [
    "After reading data from h5 file, data is sorted by sequence id (h5 key).   \n",
    "For supervised learning tasks, we will sort csv data by sequence id as well, and keep only label column."
   ]
  },
  {
   "cell_type": "code",
   "execution_count": 164,
   "id": "97c72bf0-7abc-46e1-8d24-fc9aabb2cc08",
   "metadata": {
    "execution": {
     "iopub.execute_input": "2022-08-16T04:22:18.040569Z",
     "iopub.status.busy": "2022-08-16T04:22:18.040293Z",
     "iopub.status.idle": "2022-08-16T04:22:18.050030Z",
     "shell.execute_reply": "2022-08-16T04:22:18.049204Z",
     "shell.execute_reply.started": "2022-08-16T04:22:18.040549Z"
    },
    "tags": []
   },
   "outputs": [],
   "source": [
    "dfcl = dfcl.sort_values(by=['code']).reset_index(drop=True)['label']"
   ]
  },
  {
   "cell_type": "code",
   "execution_count": 175,
   "id": "1d834f0f-e064-40a4-bbe8-30376d352ce6",
   "metadata": {
    "execution": {
     "iopub.execute_input": "2022-08-16T04:42:49.080052Z",
     "iopub.status.busy": "2022-08-16T04:42:49.067543Z",
     "iopub.status.idle": "2022-08-16T04:42:49.256896Z",
     "shell.execute_reply": "2022-08-16T04:42:49.254132Z",
     "shell.execute_reply.started": "2022-08-16T04:42:49.079649Z"
    },
    "tags": []
   },
   "outputs": [
    {
     "data": {
      "text/html": [
       "<div>\n",
       "<style scoped>\n",
       "    .dataframe tbody tr th:only-of-type {\n",
       "        vertical-align: middle;\n",
       "    }\n",
       "\n",
       "    .dataframe tbody tr th {\n",
       "        vertical-align: top;\n",
       "    }\n",
       "\n",
       "    .dataframe thead th {\n",
       "        text-align: right;\n",
       "    }\n",
       "</style>\n",
       "<table border=\"1\" class=\"dataframe\">\n",
       "  <thead>\n",
       "    <tr style=\"text-align: right;\">\n",
       "      <th></th>\n",
       "      <th>Sequence_id</th>\n",
       "      <th>0</th>\n",
       "      <th>1</th>\n",
       "      <th>2</th>\n",
       "      <th>3</th>\n",
       "      <th>4</th>\n",
       "      <th>5</th>\n",
       "      <th>6</th>\n",
       "      <th>7</th>\n",
       "      <th>8</th>\n",
       "      <th>...</th>\n",
       "      <th>6156</th>\n",
       "      <th>6157</th>\n",
       "      <th>6158</th>\n",
       "      <th>6159</th>\n",
       "      <th>6160</th>\n",
       "      <th>6161</th>\n",
       "      <th>6162</th>\n",
       "      <th>6163</th>\n",
       "      <th>6164</th>\n",
       "      <th>label</th>\n",
       "    </tr>\n",
       "  </thead>\n",
       "  <tbody>\n",
       "    <tr>\n",
       "      <th>0</th>\n",
       "      <td>A0LUZ1</td>\n",
       "      <td>0.105455</td>\n",
       "      <td>0.112727</td>\n",
       "      <td>0.014545</td>\n",
       "      <td>0.072727</td>\n",
       "      <td>0.003636</td>\n",
       "      <td>0.036364</td>\n",
       "      <td>0.054545</td>\n",
       "      <td>0.083636</td>\n",
       "      <td>0.014545</td>\n",
       "      <td>...</td>\n",
       "      <td>-0.094531</td>\n",
       "      <td>0.011316</td>\n",
       "      <td>0.009944</td>\n",
       "      <td>-0.012917</td>\n",
       "      <td>-0.118146</td>\n",
       "      <td>0.051986</td>\n",
       "      <td>-0.112421</td>\n",
       "      <td>0.050401</td>\n",
       "      <td>0.005771</td>\n",
       "      <td>1</td>\n",
       "    </tr>\n",
       "    <tr>\n",
       "      <th>1</th>\n",
       "      <td>P9WNR8</td>\n",
       "      <td>0.135338</td>\n",
       "      <td>0.022556</td>\n",
       "      <td>0.007519</td>\n",
       "      <td>0.052632</td>\n",
       "      <td>0.000000</td>\n",
       "      <td>0.105263</td>\n",
       "      <td>0.037594</td>\n",
       "      <td>0.142857</td>\n",
       "      <td>0.007519</td>\n",
       "      <td>...</td>\n",
       "      <td>0.231775</td>\n",
       "      <td>0.047796</td>\n",
       "      <td>0.110545</td>\n",
       "      <td>0.029757</td>\n",
       "      <td>-0.056569</td>\n",
       "      <td>0.084240</td>\n",
       "      <td>-0.027479</td>\n",
       "      <td>0.143183</td>\n",
       "      <td>0.007550</td>\n",
       "      <td>1</td>\n",
       "    </tr>\n",
       "    <tr>\n",
       "      <th>2</th>\n",
       "      <td>Q2JVG1</td>\n",
       "      <td>0.025000</td>\n",
       "      <td>0.115000</td>\n",
       "      <td>0.030000</td>\n",
       "      <td>0.035000</td>\n",
       "      <td>0.025000</td>\n",
       "      <td>0.065000</td>\n",
       "      <td>0.125000</td>\n",
       "      <td>0.050000</td>\n",
       "      <td>0.005000</td>\n",
       "      <td>...</td>\n",
       "      <td>-0.051551</td>\n",
       "      <td>0.053766</td>\n",
       "      <td>0.027876</td>\n",
       "      <td>0.015438</td>\n",
       "      <td>-0.116005</td>\n",
       "      <td>0.012649</td>\n",
       "      <td>-0.092593</td>\n",
       "      <td>0.126892</td>\n",
       "      <td>0.167790</td>\n",
       "      <td>1</td>\n",
       "    </tr>\n",
       "    <tr>\n",
       "      <th>3</th>\n",
       "      <td>Q4FV41</td>\n",
       "      <td>0.100189</td>\n",
       "      <td>0.043478</td>\n",
       "      <td>0.059546</td>\n",
       "      <td>0.068998</td>\n",
       "      <td>0.011342</td>\n",
       "      <td>0.063327</td>\n",
       "      <td>0.041588</td>\n",
       "      <td>0.051985</td>\n",
       "      <td>0.029301</td>\n",
       "      <td>...</td>\n",
       "      <td>0.401920</td>\n",
       "      <td>0.082605</td>\n",
       "      <td>0.056754</td>\n",
       "      <td>0.004967</td>\n",
       "      <td>-0.258735</td>\n",
       "      <td>0.010609</td>\n",
       "      <td>-0.079788</td>\n",
       "      <td>-0.106377</td>\n",
       "      <td>0.006327</td>\n",
       "      <td>1</td>\n",
       "    </tr>\n",
       "    <tr>\n",
       "      <th>4</th>\n",
       "      <td>Q5Z3Z8</td>\n",
       "      <td>0.117825</td>\n",
       "      <td>0.096677</td>\n",
       "      <td>0.025680</td>\n",
       "      <td>0.057402</td>\n",
       "      <td>0.001511</td>\n",
       "      <td>0.036254</td>\n",
       "      <td>0.084592</td>\n",
       "      <td>0.060423</td>\n",
       "      <td>0.018127</td>\n",
       "      <td>...</td>\n",
       "      <td>-0.223360</td>\n",
       "      <td>0.009567</td>\n",
       "      <td>0.026878</td>\n",
       "      <td>0.009134</td>\n",
       "      <td>-0.185933</td>\n",
       "      <td>0.053071</td>\n",
       "      <td>0.032266</td>\n",
       "      <td>-0.016822</td>\n",
       "      <td>0.019421</td>\n",
       "      <td>1</td>\n",
       "    </tr>\n",
       "    <tr>\n",
       "      <th>5</th>\n",
       "      <td>Q6A8L0</td>\n",
       "      <td>0.113636</td>\n",
       "      <td>0.064394</td>\n",
       "      <td>0.037879</td>\n",
       "      <td>0.094697</td>\n",
       "      <td>0.003788</td>\n",
       "      <td>0.026515</td>\n",
       "      <td>0.094697</td>\n",
       "      <td>0.075758</td>\n",
       "      <td>0.007576</td>\n",
       "      <td>...</td>\n",
       "      <td>-0.128591</td>\n",
       "      <td>0.081230</td>\n",
       "      <td>0.080329</td>\n",
       "      <td>0.048674</td>\n",
       "      <td>-0.035709</td>\n",
       "      <td>0.092301</td>\n",
       "      <td>-0.037153</td>\n",
       "      <td>-0.038137</td>\n",
       "      <td>0.004536</td>\n",
       "      <td>1</td>\n",
       "    </tr>\n",
       "    <tr>\n",
       "      <th>6</th>\n",
       "      <td>Q7V7T9</td>\n",
       "      <td>0.093333</td>\n",
       "      <td>0.075556</td>\n",
       "      <td>0.008889</td>\n",
       "      <td>0.057778</td>\n",
       "      <td>0.017778</td>\n",
       "      <td>0.075556</td>\n",
       "      <td>0.080000</td>\n",
       "      <td>0.102222</td>\n",
       "      <td>0.022222</td>\n",
       "      <td>...</td>\n",
       "      <td>-0.247285</td>\n",
       "      <td>0.128575</td>\n",
       "      <td>0.095270</td>\n",
       "      <td>-0.024129</td>\n",
       "      <td>0.075140</td>\n",
       "      <td>0.057433</td>\n",
       "      <td>-0.124096</td>\n",
       "      <td>0.079725</td>\n",
       "      <td>0.031797</td>\n",
       "      <td>1</td>\n",
       "    </tr>\n",
       "    <tr>\n",
       "      <th>7</th>\n",
       "      <td>Q9K4Q3</td>\n",
       "      <td>0.116667</td>\n",
       "      <td>0.075000</td>\n",
       "      <td>0.025000</td>\n",
       "      <td>0.066667</td>\n",
       "      <td>0.000000</td>\n",
       "      <td>0.033333</td>\n",
       "      <td>0.133333</td>\n",
       "      <td>0.075000</td>\n",
       "      <td>0.008333</td>\n",
       "      <td>...</td>\n",
       "      <td>-0.062148</td>\n",
       "      <td>0.105938</td>\n",
       "      <td>0.063879</td>\n",
       "      <td>0.022944</td>\n",
       "      <td>-0.081732</td>\n",
       "      <td>0.133595</td>\n",
       "      <td>-0.124353</td>\n",
       "      <td>0.015993</td>\n",
       "      <td>0.067531</td>\n",
       "      <td>1</td>\n",
       "    </tr>\n",
       "    <tr>\n",
       "      <th>8</th>\n",
       "      <td>Q9ZUP2</td>\n",
       "      <td>0.090698</td>\n",
       "      <td>0.041860</td>\n",
       "      <td>0.034884</td>\n",
       "      <td>0.044186</td>\n",
       "      <td>0.009302</td>\n",
       "      <td>0.039535</td>\n",
       "      <td>0.074419</td>\n",
       "      <td>0.088372</td>\n",
       "      <td>0.013953</td>\n",
       "      <td>...</td>\n",
       "      <td>-0.034424</td>\n",
       "      <td>-0.005235</td>\n",
       "      <td>0.036114</td>\n",
       "      <td>0.007811</td>\n",
       "      <td>-0.074023</td>\n",
       "      <td>-0.027005</td>\n",
       "      <td>-0.017390</td>\n",
       "      <td>-0.097212</td>\n",
       "      <td>0.002385</td>\n",
       "      <td>1</td>\n",
       "    </tr>\n",
       "  </tbody>\n",
       "</table>\n",
       "<p>9 rows × 6167 columns</p>\n",
       "</div>"
      ],
      "text/plain": [
       "  Sequence_id         0         1         2         3         4         5  \\\n",
       "0      A0LUZ1  0.105455  0.112727  0.014545  0.072727  0.003636  0.036364   \n",
       "1      P9WNR8  0.135338  0.022556  0.007519  0.052632  0.000000  0.105263   \n",
       "2      Q2JVG1  0.025000  0.115000  0.030000  0.035000  0.025000  0.065000   \n",
       "3      Q4FV41  0.100189  0.043478  0.059546  0.068998  0.011342  0.063327   \n",
       "4      Q5Z3Z8  0.117825  0.096677  0.025680  0.057402  0.001511  0.036254   \n",
       "5      Q6A8L0  0.113636  0.064394  0.037879  0.094697  0.003788  0.026515   \n",
       "6      Q7V7T9  0.093333  0.075556  0.008889  0.057778  0.017778  0.075556   \n",
       "7      Q9K4Q3  0.116667  0.075000  0.025000  0.066667  0.000000  0.033333   \n",
       "8      Q9ZUP2  0.090698  0.041860  0.034884  0.044186  0.009302  0.039535   \n",
       "\n",
       "          6         7         8  ...      6156      6157      6158      6159  \\\n",
       "0  0.054545  0.083636  0.014545  ... -0.094531  0.011316  0.009944 -0.012917   \n",
       "1  0.037594  0.142857  0.007519  ...  0.231775  0.047796  0.110545  0.029757   \n",
       "2  0.125000  0.050000  0.005000  ... -0.051551  0.053766  0.027876  0.015438   \n",
       "3  0.041588  0.051985  0.029301  ...  0.401920  0.082605  0.056754  0.004967   \n",
       "4  0.084592  0.060423  0.018127  ... -0.223360  0.009567  0.026878  0.009134   \n",
       "5  0.094697  0.075758  0.007576  ... -0.128591  0.081230  0.080329  0.048674   \n",
       "6  0.080000  0.102222  0.022222  ... -0.247285  0.128575  0.095270 -0.024129   \n",
       "7  0.133333  0.075000  0.008333  ... -0.062148  0.105938  0.063879  0.022944   \n",
       "8  0.074419  0.088372  0.013953  ... -0.034424 -0.005235  0.036114  0.007811   \n",
       "\n",
       "       6160      6161      6162      6163      6164  label  \n",
       "0 -0.118146  0.051986 -0.112421  0.050401  0.005771      1  \n",
       "1 -0.056569  0.084240 -0.027479  0.143183  0.007550      1  \n",
       "2 -0.116005  0.012649 -0.092593  0.126892  0.167790      1  \n",
       "3 -0.258735  0.010609 -0.079788 -0.106377  0.006327      1  \n",
       "4 -0.185933  0.053071  0.032266 -0.016822  0.019421      1  \n",
       "5 -0.035709  0.092301 -0.037153 -0.038137  0.004536      1  \n",
       "6  0.075140  0.057433 -0.124096  0.079725  0.031797      1  \n",
       "7 -0.081732  0.133595 -0.124353  0.015993  0.067531      1  \n",
       "8 -0.074023 -0.027005 -0.017390 -0.097212  0.002385      1  \n",
       "\n",
       "[9 rows x 6167 columns]"
      ]
     },
     "execution_count": 175,
     "metadata": {},
     "output_type": "execute_result"
    }
   ],
   "source": [
    "df.reset_index().assign(label=dfcl)\n"
   ]
  },
  {
   "cell_type": "code",
   "execution_count": null,
   "id": "4a4245fc-d5a5-47c9-857a-15ee6b73c7e0",
   "metadata": {},
   "outputs": [],
   "source": []
  }
 ],
 "metadata": {
  "kernelspec": {
   "display_name": "sa",
   "language": "python",
   "name": "conda-env-sa-py"
  },
  "language_info": {
   "codemirror_mode": {
    "name": "ipython",
    "version": 3
   },
   "file_extension": ".py",
   "mimetype": "text/x-python",
   "name": "python",
   "nbconvert_exporter": "python",
   "pygments_lexer": "ipython3",
   "version": "3.8.13"
  },
  "widgets": {
   "application/vnd.jupyter.widget-state+json": {
    "state": {},
    "version_major": 2,
    "version_minor": 0
   }
  }
 },
 "nbformat": 4,
 "nbformat_minor": 5
}
