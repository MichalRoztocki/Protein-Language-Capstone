{
 "cells": [
  {
   "cell_type": "code",
   "execution_count": 44,
   "id": "a76d060d-d9a9-44e7-88f1-119990608f84",
   "metadata": {
    "execution": {
     "iopub.execute_input": "2022-08-15T19:06:52.848875Z",
     "iopub.status.busy": "2022-08-15T19:06:52.848613Z",
     "iopub.status.idle": "2022-08-15T19:06:54.105796Z",
     "shell.execute_reply": "2022-08-15T19:06:54.104971Z",
     "shell.execute_reply.started": "2022-08-15T19:06:52.848857Z"
    },
    "tags": []
   },
   "outputs": [],
   "source": [
    "import numpy as np\n",
    "import h5py\n",
    "import pandas as pd"
   ]
  },
  {
   "cell_type": "code",
   "execution_count": 5,
   "id": "2bfc4520-d140-442a-8720-82de3501bf8c",
   "metadata": {
    "execution": {
     "iopub.execute_input": "2022-08-15T18:31:55.692189Z",
     "iopub.status.busy": "2022-08-15T18:31:55.691874Z",
     "iopub.status.idle": "2022-08-15T18:31:55.838621Z",
     "shell.execute_reply": "2022-08-15T18:31:55.837773Z",
     "shell.execute_reply.started": "2022-08-15T18:31:55.692155Z"
    },
    "tags": []
   },
   "outputs": [
    {
     "name": "stdout",
     "output_type": "stream",
     "text": [
      "\u001b[34;42m../data_test/data_h5\u001b[00m\n",
      "├── [225K Aug  4 17:47]  \u001b[01;32mdemo.h5\u001b[00m\n",
      "├── [223K Aug 15 14:23]  \u001b[01;32mtrain_small1_dlm_avg.h5\u001b[00m\n",
      "├── [223K Aug 15 14:23]  \u001b[01;32mtrain_small1_dlm_max.h5\u001b[00m\n",
      "├── [ 79M Aug 15 14:23]  \u001b[01;32mtrain_small1_dlm_none.h5\u001b[00m\n",
      "├── [223K Aug 15 14:23]  \u001b[01;32mtrain_small1_dlm_sum.h5\u001b[00m\n",
      "├── [223K Aug 15 14:17]  \u001b[01;32mtrain_small1_mt_avg.h5\u001b[00m\n",
      "├── [223K Aug 15 14:17]  \u001b[01;32mtrain_small1_mt_max.h5\u001b[00m\n",
      "├── [ 79M Aug 15 14:17]  \u001b[01;32mtrain_small1_mt_none.h5\u001b[00m\n",
      "└── [223K Aug 15 14:15]  \u001b[01;32mtrain_small1_mt_sum.h5\u001b[00m\n",
      "\n",
      "0 directories, 9 files\n"
     ]
    }
   ],
   "source": [
    "!tree -DhL 1 '../data_test/data_h5'"
   ]
  },
  {
   "cell_type": "code",
   "execution_count": 6,
   "id": "e1790c08-381b-471b-8806-78c8d2f88ff4",
   "metadata": {
    "execution": {
     "iopub.execute_input": "2022-08-15T18:33:06.588927Z",
     "iopub.status.busy": "2022-08-15T18:33:06.588576Z",
     "iopub.status.idle": "2022-08-15T18:33:06.594703Z",
     "shell.execute_reply": "2022-08-15T18:33:06.593682Z",
     "shell.execute_reply.started": "2022-08-15T18:33:06.588886Z"
    },
    "tags": []
   },
   "outputs": [],
   "source": [
    "file_name = '../data_test/data_h5/train_small1_dlm_avg.h5'"
   ]
  },
  {
   "cell_type": "code",
   "execution_count": 7,
   "id": "0b60816b-329d-4aca-885f-b5e60ea4c462",
   "metadata": {
    "execution": {
     "iopub.execute_input": "2022-08-15T18:33:11.647667Z",
     "iopub.status.busy": "2022-08-15T18:33:11.647415Z",
     "iopub.status.idle": "2022-08-15T18:33:11.696776Z",
     "shell.execute_reply": "2022-08-15T18:33:11.695996Z",
     "shell.execute_reply.started": "2022-08-15T18:33:11.647648Z"
    },
    "tags": []
   },
   "outputs": [
    {
     "name": "stdout",
     "output_type": "stream",
     "text": [
      "A0LUZ1\n",
      "P9WNR8\n",
      "Q2JVG1\n",
      "Q4FV41\n",
      "Q5Z3Z8\n",
      "Q6A8L0\n",
      "Q7V7T9\n",
      "Q9K4Q3\n",
      "Q9ZUP2\n"
     ]
    }
   ],
   "source": [
    "with h5py.File(file_name, 'r') as hf:\n",
    "    for key in hf.keys():\n",
    "        print(key)"
   ]
  },
  {
   "cell_type": "code",
   "execution_count": 8,
   "id": "ef6bb747-8e80-4c30-bc3d-014e002604fe",
   "metadata": {
    "execution": {
     "iopub.execute_input": "2022-08-15T18:33:36.116580Z",
     "iopub.status.busy": "2022-08-15T18:33:36.116304Z",
     "iopub.status.idle": "2022-08-15T18:33:36.164446Z",
     "shell.execute_reply": "2022-08-15T18:33:36.162973Z",
     "shell.execute_reply.started": "2022-08-15T18:33:36.116560Z"
    },
    "tags": []
   },
   "outputs": [
    {
     "name": "stdout",
     "output_type": "stream",
     "text": [
      "(6165,)\n",
      "(6165,)\n"
     ]
    }
   ],
   "source": [
    "with h5py.File(file_name, 'r') as hf:\n",
    "    data = hf.get('Q4FV41')\n",
    "    n1 = np.array(data)\n",
    "    print(n1.shape)\n",
    "    print(data.shape)"
   ]
  },
  {
   "cell_type": "code",
   "execution_count": 10,
   "id": "aeeb5330-8cce-4f4f-8c93-0d9c1d5694cd",
   "metadata": {
    "execution": {
     "iopub.execute_input": "2022-08-15T18:33:51.917583Z",
     "iopub.status.busy": "2022-08-15T18:33:51.917089Z",
     "iopub.status.idle": "2022-08-15T18:33:51.940415Z",
     "shell.execute_reply": "2022-08-15T18:33:51.939407Z",
     "shell.execute_reply.started": "2022-08-15T18:33:51.917552Z"
    },
    "tags": []
   },
   "outputs": [
    {
     "name": "stdout",
     "output_type": "stream",
     "text": [
      "[ 0.10018904  0.04347826  0.05954631 ... -0.07978772 -0.10637696\n",
      "  0.00632719]\n"
     ]
    }
   ],
   "source": [
    "print(n1)"
   ]
  },
  {
   "cell_type": "code",
   "execution_count": 11,
   "id": "8b461a60-dbd4-4eea-8c9e-422708895367",
   "metadata": {
    "execution": {
     "iopub.execute_input": "2022-08-15T18:38:09.224559Z",
     "iopub.status.busy": "2022-08-15T18:38:09.223760Z",
     "iopub.status.idle": "2022-08-15T18:38:09.228662Z",
     "shell.execute_reply": "2022-08-15T18:38:09.227702Z",
     "shell.execute_reply.started": "2022-08-15T18:38:09.224535Z"
    }
   },
   "outputs": [],
   "source": [
    "file_name = '../data_test/data_h5/train_small1_mt_avg.h5'"
   ]
  },
  {
   "cell_type": "code",
   "execution_count": 12,
   "id": "9b87c7c9-d325-4ec8-8896-fd026fc0997d",
   "metadata": {
    "execution": {
     "iopub.execute_input": "2022-08-15T18:38:15.494009Z",
     "iopub.status.busy": "2022-08-15T18:38:15.493758Z",
     "iopub.status.idle": "2022-08-15T18:38:15.513764Z",
     "shell.execute_reply": "2022-08-15T18:38:15.512879Z",
     "shell.execute_reply.started": "2022-08-15T18:38:15.493989Z"
    },
    "tags": []
   },
   "outputs": [
    {
     "name": "stdout",
     "output_type": "stream",
     "text": [
      "(6165,)\n",
      "(6165,)\n"
     ]
    }
   ],
   "source": [
    "with h5py.File(file_name, 'r') as hf:\n",
    "    data = hf.get('Q4FV41')\n",
    "    n1 = np.array(data)\n",
    "    print(n1.shape)\n",
    "    print(data.shape)"
   ]
  },
  {
   "cell_type": "code",
   "execution_count": 13,
   "id": "a2c18c9c-670b-4139-ad95-cc04fa18a116",
   "metadata": {
    "execution": {
     "iopub.execute_input": "2022-08-15T18:38:52.556632Z",
     "iopub.status.busy": "2022-08-15T18:38:52.556370Z",
     "iopub.status.idle": "2022-08-15T18:38:52.562230Z",
     "shell.execute_reply": "2022-08-15T18:38:52.561323Z",
     "shell.execute_reply.started": "2022-08-15T18:38:52.556613Z"
    },
    "tags": []
   },
   "outputs": [
    {
     "name": "stdout",
     "output_type": "stream",
     "text": [
      "[ 0.10018904  0.04347826  0.05954631 ... -0.12030653 -0.03651335\n",
      "  0.0048037 ]\n"
     ]
    }
   ],
   "source": [
    "print(n1)"
   ]
  },
  {
   "cell_type": "code",
   "execution_count": null,
   "id": "fb7223d1-3466-42e9-8e17-396266e182cf",
   "metadata": {},
   "outputs": [],
   "source": []
  },
  {
   "cell_type": "code",
   "execution_count": 14,
   "id": "84a3d059-1f6b-4703-bbb6-74b239589f25",
   "metadata": {
    "execution": {
     "iopub.execute_input": "2022-08-15T18:40:11.004475Z",
     "iopub.status.busy": "2022-08-15T18:40:11.004046Z",
     "iopub.status.idle": "2022-08-15T18:40:11.009706Z",
     "shell.execute_reply": "2022-08-15T18:40:11.008548Z",
     "shell.execute_reply.started": "2022-08-15T18:40:11.004453Z"
    }
   },
   "outputs": [],
   "source": [
    "file_name = '../data_test/data_h5/train_small1_mt_none.h5'"
   ]
  },
  {
   "cell_type": "code",
   "execution_count": 15,
   "id": "daf3ec34-70b5-4881-8c32-d5d6050366b7",
   "metadata": {
    "execution": {
     "iopub.execute_input": "2022-08-15T18:40:14.133458Z",
     "iopub.status.busy": "2022-08-15T18:40:14.133201Z",
     "iopub.status.idle": "2022-08-15T18:40:14.305412Z",
     "shell.execute_reply": "2022-08-15T18:40:14.304498Z",
     "shell.execute_reply.started": "2022-08-15T18:40:14.133438Z"
    },
    "tags": []
   },
   "outputs": [
    {
     "name": "stdout",
     "output_type": "stream",
     "text": [
      "(275, 6165)\n",
      "(133, 6165)\n",
      "(200, 6165)\n",
      "(1058, 6165)\n",
      "(662, 6165)\n",
      "(264, 6165)\n",
      "(225, 6165)\n",
      "(120, 6165)\n",
      "(430, 6165)\n"
     ]
    }
   ],
   "source": [
    "with h5py.File(file_name, 'r') as hf:\n",
    "    for key in hf.keys():\n",
    "        \n",
    "        data = hf.get(key)\n",
    "        n1 = np.array(data)\n",
    "        print(n1.shape)"
   ]
  },
  {
   "cell_type": "code",
   "execution_count": 16,
   "id": "1636176d-e8f3-4d79-a314-98e1baee7731",
   "metadata": {
    "execution": {
     "iopub.execute_input": "2022-08-15T18:40:20.597903Z",
     "iopub.status.busy": "2022-08-15T18:40:20.597649Z",
     "iopub.status.idle": "2022-08-15T18:40:20.606621Z",
     "shell.execute_reply": "2022-08-15T18:40:20.605707Z",
     "shell.execute_reply.started": "2022-08-15T18:40:20.597883Z"
    },
    "tags": []
   },
   "outputs": [
    {
     "data": {
      "text/plain": [
       "array([[ 0.        ,  0.        ,  0.        , ...,  0.00308989,\n",
       "        -0.03122626,  0.00865594],\n",
       "       [ 1.        ,  0.        ,  0.        , ...,  0.00752844,\n",
       "        -0.02862876,  0.0104944 ],\n",
       "       [ 0.        ,  1.        ,  0.        , ...,  0.01200054,\n",
       "        -0.05172816,  0.01839039],\n",
       "       ...,\n",
       "       [ 0.        ,  0.        ,  0.        , ..., -0.03334594,\n",
       "        -0.01626178, -0.01303771],\n",
       "       [ 1.        ,  0.        ,  0.        , ...,  0.02620523,\n",
       "        -0.0159338 , -0.01184574],\n",
       "       [ 1.        ,  0.        ,  0.        , ...,  0.05606975,\n",
       "        -0.01208456, -0.01188386]], dtype=float32)"
      ]
     },
     "execution_count": 16,
     "metadata": {},
     "output_type": "execute_result"
    }
   ],
   "source": [
    "n1"
   ]
  },
  {
   "cell_type": "code",
   "execution_count": null,
   "id": "4e7311b4-4914-4514-8517-975ffe10d1c7",
   "metadata": {},
   "outputs": [],
   "source": []
  },
  {
   "cell_type": "markdown",
   "id": "873ed2ab-843b-4386-860d-bbd694505763",
   "metadata": {},
   "source": [
    "### Using lists"
   ]
  },
  {
   "cell_type": "code",
   "execution_count": 17,
   "id": "88b9b30e-3eed-4384-bd5e-07c271093b91",
   "metadata": {
    "execution": {
     "iopub.execute_input": "2022-08-15T18:44:26.793161Z",
     "iopub.status.busy": "2022-08-15T18:44:26.792793Z",
     "iopub.status.idle": "2022-08-15T18:44:26.797923Z",
     "shell.execute_reply": "2022-08-15T18:44:26.796985Z",
     "shell.execute_reply.started": "2022-08-15T18:44:26.793122Z"
    },
    "tags": []
   },
   "outputs": [],
   "source": [
    "file_name = '../data_test/data_h5/train_small1_dlm_avg.h5'"
   ]
  },
  {
   "cell_type": "code",
   "execution_count": 39,
   "id": "ce47d871-a3bd-4669-ad3c-eb7dd05274b1",
   "metadata": {
    "execution": {
     "iopub.execute_input": "2022-08-15T19:04:58.015314Z",
     "iopub.status.busy": "2022-08-15T19:04:58.014876Z",
     "iopub.status.idle": "2022-08-15T19:04:58.264391Z",
     "shell.execute_reply": "2022-08-15T19:04:58.263079Z",
     "shell.execute_reply.started": "2022-08-15T19:04:58.015279Z"
    },
    "tags": []
   },
   "outputs": [
    {
     "name": "stdout",
     "output_type": "stream",
     "text": [
      "A0LUZ1 P9WNR8 Q2JVG1 Q4FV41 Q5Z3Z8 Q6A8L0 Q7V7T9 Q9K4Q3 Q9ZUP2 "
     ]
    }
   ],
   "source": [
    "seq_id = []\n",
    "seq_emb = []\n",
    "with h5py.File(file_name, 'r') as hf:\n",
    "    for key in hf.keys():\n",
    "        print(key, end=' ')\n",
    "        seq_id.append(key)\n",
    "        data = hf.get(key)\n",
    "        n = np.array(data)\n",
    "        seq_emb.append(list(data))"
   ]
  },
  {
   "cell_type": "code",
   "execution_count": 40,
   "id": "8e696ec7-2949-4a87-a762-bccf126c8adc",
   "metadata": {
    "execution": {
     "iopub.execute_input": "2022-08-15T19:04:58.763861Z",
     "iopub.status.busy": "2022-08-15T19:04:58.763594Z",
     "iopub.status.idle": "2022-08-15T19:04:58.769942Z",
     "shell.execute_reply": "2022-08-15T19:04:58.768885Z",
     "shell.execute_reply.started": "2022-08-15T19:04:58.763841Z"
    },
    "tags": []
   },
   "outputs": [
    {
     "data": {
      "text/plain": [
       "['A0LUZ1',\n",
       " 'P9WNR8',\n",
       " 'Q2JVG1',\n",
       " 'Q4FV41',\n",
       " 'Q5Z3Z8',\n",
       " 'Q6A8L0',\n",
       " 'Q7V7T9',\n",
       " 'Q9K4Q3',\n",
       " 'Q9ZUP2']"
      ]
     },
     "execution_count": 40,
     "metadata": {},
     "output_type": "execute_result"
    }
   ],
   "source": [
    "seq_id"
   ]
  },
  {
   "cell_type": "code",
   "execution_count": 42,
   "id": "6272bf27-2b9a-4439-acd1-5091824a6f0e",
   "metadata": {
    "execution": {
     "iopub.execute_input": "2022-08-15T19:05:40.327521Z",
     "iopub.status.busy": "2022-08-15T19:05:40.327229Z",
     "iopub.status.idle": "2022-08-15T19:05:40.334165Z",
     "shell.execute_reply": "2022-08-15T19:05:40.333021Z",
     "shell.execute_reply.started": "2022-08-15T19:05:40.327502Z"
    },
    "scrolled": true,
    "tags": []
   },
   "outputs": [
    {
     "data": {
      "text/plain": [
       "9"
      ]
     },
     "execution_count": 42,
     "metadata": {},
     "output_type": "execute_result"
    }
   ],
   "source": [
    "len(seq_emb)"
   ]
  },
  {
   "cell_type": "code",
   "execution_count": 60,
   "id": "cd817303-ef93-4ffd-a109-6be59b0ceb88",
   "metadata": {
    "execution": {
     "iopub.execute_input": "2022-08-15T19:26:13.032354Z",
     "iopub.status.busy": "2022-08-15T19:26:13.031037Z",
     "iopub.status.idle": "2022-08-15T19:26:13.037808Z",
     "shell.execute_reply": "2022-08-15T19:26:13.036704Z",
     "shell.execute_reply.started": "2022-08-15T19:26:13.032318Z"
    },
    "scrolled": true,
    "tags": []
   },
   "outputs": [],
   "source": [
    "df = pd.DataFrame(zip(seq_id, seq_emb), columns=['Sequence_id', 'Embedding'])"
   ]
  },
  {
   "cell_type": "code",
   "execution_count": 61,
   "id": "cc150544-0081-40df-b94c-56e6d0500501",
   "metadata": {
    "execution": {
     "iopub.execute_input": "2022-08-15T19:26:14.047707Z",
     "iopub.status.busy": "2022-08-15T19:26:14.047441Z",
     "iopub.status.idle": "2022-08-15T19:26:14.061886Z",
     "shell.execute_reply": "2022-08-15T19:26:14.061036Z",
     "shell.execute_reply.started": "2022-08-15T19:26:14.047686Z"
    },
    "tags": []
   },
   "outputs": [
    {
     "data": {
      "text/html": [
       "<div>\n",
       "<style scoped>\n",
       "    .dataframe tbody tr th:only-of-type {\n",
       "        vertical-align: middle;\n",
       "    }\n",
       "\n",
       "    .dataframe tbody tr th {\n",
       "        vertical-align: top;\n",
       "    }\n",
       "\n",
       "    .dataframe thead th {\n",
       "        text-align: right;\n",
       "    }\n",
       "</style>\n",
       "<table border=\"1\" class=\"dataframe\">\n",
       "  <thead>\n",
       "    <tr style=\"text-align: right;\">\n",
       "      <th></th>\n",
       "      <th>Sequence_id</th>\n",
       "      <th>Embedding</th>\n",
       "    </tr>\n",
       "  </thead>\n",
       "  <tbody>\n",
       "    <tr>\n",
       "      <th>0</th>\n",
       "      <td>A0LUZ1</td>\n",
       "      <td>[0.10545455, 0.11272728, 0.014545455, 0.072727...</td>\n",
       "    </tr>\n",
       "    <tr>\n",
       "      <th>1</th>\n",
       "      <td>P9WNR8</td>\n",
       "      <td>[0.13533835, 0.02255639, 0.007518797, 0.052631...</td>\n",
       "    </tr>\n",
       "    <tr>\n",
       "      <th>2</th>\n",
       "      <td>Q2JVG1</td>\n",
       "      <td>[0.024999999, 0.114999995, 0.03, 0.035, 0.0249...</td>\n",
       "    </tr>\n",
       "    <tr>\n",
       "      <th>3</th>\n",
       "      <td>Q4FV41</td>\n",
       "      <td>[0.10018904, 0.04347826, 0.059546314, 0.068998...</td>\n",
       "    </tr>\n",
       "    <tr>\n",
       "      <th>4</th>\n",
       "      <td>Q5Z3Z8</td>\n",
       "      <td>[0.11782477, 0.09667674, 0.025679758, 0.057401...</td>\n",
       "    </tr>\n",
       "    <tr>\n",
       "      <th>5</th>\n",
       "      <td>Q6A8L0</td>\n",
       "      <td>[0.11363637, 0.06439394, 0.03787879, 0.0946969...</td>\n",
       "    </tr>\n",
       "    <tr>\n",
       "      <th>6</th>\n",
       "      <td>Q7V7T9</td>\n",
       "      <td>[0.093333334, 0.075555556, 0.008888889, 0.0577...</td>\n",
       "    </tr>\n",
       "    <tr>\n",
       "      <th>7</th>\n",
       "      <td>Q9K4Q3</td>\n",
       "      <td>[0.116666675, 0.075, 0.025000002, 0.06666667, ...</td>\n",
       "    </tr>\n",
       "    <tr>\n",
       "      <th>8</th>\n",
       "      <td>Q9ZUP2</td>\n",
       "      <td>[0.090697676, 0.041860465, 0.034883723, 0.0441...</td>\n",
       "    </tr>\n",
       "  </tbody>\n",
       "</table>\n",
       "</div>"
      ],
      "text/plain": [
       "  Sequence_id                                          Embedding\n",
       "0      A0LUZ1  [0.10545455, 0.11272728, 0.014545455, 0.072727...\n",
       "1      P9WNR8  [0.13533835, 0.02255639, 0.007518797, 0.052631...\n",
       "2      Q2JVG1  [0.024999999, 0.114999995, 0.03, 0.035, 0.0249...\n",
       "3      Q4FV41  [0.10018904, 0.04347826, 0.059546314, 0.068998...\n",
       "4      Q5Z3Z8  [0.11782477, 0.09667674, 0.025679758, 0.057401...\n",
       "5      Q6A8L0  [0.11363637, 0.06439394, 0.03787879, 0.0946969...\n",
       "6      Q7V7T9  [0.093333334, 0.075555556, 0.008888889, 0.0577...\n",
       "7      Q9K4Q3  [0.116666675, 0.075, 0.025000002, 0.06666667, ...\n",
       "8      Q9ZUP2  [0.090697676, 0.041860465, 0.034883723, 0.0441..."
      ]
     },
     "execution_count": 61,
     "metadata": {},
     "output_type": "execute_result"
    }
   ],
   "source": [
    "df"
   ]
  },
  {
   "cell_type": "code",
   "execution_count": 63,
   "id": "ee8ab7e7-8b43-4a77-83ed-0e520cca5332",
   "metadata": {
    "execution": {
     "iopub.execute_input": "2022-08-15T19:28:19.552558Z",
     "iopub.status.busy": "2022-08-15T19:28:19.551818Z",
     "iopub.status.idle": "2022-08-15T19:28:19.804434Z",
     "shell.execute_reply": "2022-08-15T19:28:19.803345Z",
     "shell.execute_reply.started": "2022-08-15T19:28:19.552530Z"
    },
    "tags": []
   },
   "outputs": [
    {
     "data": {
      "text/html": [
       "<div>\n",
       "<style scoped>\n",
       "    .dataframe tbody tr th:only-of-type {\n",
       "        vertical-align: middle;\n",
       "    }\n",
       "\n",
       "    .dataframe tbody tr th {\n",
       "        vertical-align: top;\n",
       "    }\n",
       "\n",
       "    .dataframe thead th {\n",
       "        text-align: right;\n",
       "    }\n",
       "</style>\n",
       "<table border=\"1\" class=\"dataframe\">\n",
       "  <thead>\n",
       "    <tr style=\"text-align: right;\">\n",
       "      <th></th>\n",
       "      <th>0</th>\n",
       "      <th>1</th>\n",
       "      <th>2</th>\n",
       "      <th>3</th>\n",
       "      <th>4</th>\n",
       "      <th>5</th>\n",
       "      <th>6</th>\n",
       "      <th>7</th>\n",
       "      <th>8</th>\n",
       "      <th>9</th>\n",
       "      <th>...</th>\n",
       "      <th>6155</th>\n",
       "      <th>6156</th>\n",
       "      <th>6157</th>\n",
       "      <th>6158</th>\n",
       "      <th>6159</th>\n",
       "      <th>6160</th>\n",
       "      <th>6161</th>\n",
       "      <th>6162</th>\n",
       "      <th>6163</th>\n",
       "      <th>6164</th>\n",
       "    </tr>\n",
       "  </thead>\n",
       "  <tbody>\n",
       "    <tr>\n",
       "      <th>0</th>\n",
       "      <td>0.105455</td>\n",
       "      <td>0.112727</td>\n",
       "      <td>0.014545</td>\n",
       "      <td>0.072727</td>\n",
       "      <td>0.003636</td>\n",
       "      <td>0.036364</td>\n",
       "      <td>0.054545</td>\n",
       "      <td>0.083636</td>\n",
       "      <td>0.014545</td>\n",
       "      <td>0.047273</td>\n",
       "      <td>...</td>\n",
       "      <td>0.012814</td>\n",
       "      <td>-0.094531</td>\n",
       "      <td>0.011316</td>\n",
       "      <td>0.009944</td>\n",
       "      <td>-0.012917</td>\n",
       "      <td>-0.118146</td>\n",
       "      <td>0.051986</td>\n",
       "      <td>-0.112421</td>\n",
       "      <td>0.050401</td>\n",
       "      <td>0.005771</td>\n",
       "    </tr>\n",
       "    <tr>\n",
       "      <th>1</th>\n",
       "      <td>0.135338</td>\n",
       "      <td>0.022556</td>\n",
       "      <td>0.007519</td>\n",
       "      <td>0.052632</td>\n",
       "      <td>0.000000</td>\n",
       "      <td>0.105263</td>\n",
       "      <td>0.037594</td>\n",
       "      <td>0.142857</td>\n",
       "      <td>0.007519</td>\n",
       "      <td>0.037594</td>\n",
       "      <td>...</td>\n",
       "      <td>0.074207</td>\n",
       "      <td>0.231775</td>\n",
       "      <td>0.047796</td>\n",
       "      <td>0.110545</td>\n",
       "      <td>0.029757</td>\n",
       "      <td>-0.056569</td>\n",
       "      <td>0.084240</td>\n",
       "      <td>-0.027479</td>\n",
       "      <td>0.143183</td>\n",
       "      <td>0.007550</td>\n",
       "    </tr>\n",
       "    <tr>\n",
       "      <th>2</th>\n",
       "      <td>0.025000</td>\n",
       "      <td>0.115000</td>\n",
       "      <td>0.030000</td>\n",
       "      <td>0.035000</td>\n",
       "      <td>0.025000</td>\n",
       "      <td>0.065000</td>\n",
       "      <td>0.125000</td>\n",
       "      <td>0.050000</td>\n",
       "      <td>0.005000</td>\n",
       "      <td>0.050000</td>\n",
       "      <td>...</td>\n",
       "      <td>0.016549</td>\n",
       "      <td>-0.051551</td>\n",
       "      <td>0.053766</td>\n",
       "      <td>0.027876</td>\n",
       "      <td>0.015438</td>\n",
       "      <td>-0.116005</td>\n",
       "      <td>0.012649</td>\n",
       "      <td>-0.092593</td>\n",
       "      <td>0.126892</td>\n",
       "      <td>0.167790</td>\n",
       "    </tr>\n",
       "    <tr>\n",
       "      <th>3</th>\n",
       "      <td>0.100189</td>\n",
       "      <td>0.043478</td>\n",
       "      <td>0.059546</td>\n",
       "      <td>0.068998</td>\n",
       "      <td>0.011342</td>\n",
       "      <td>0.063327</td>\n",
       "      <td>0.041588</td>\n",
       "      <td>0.051985</td>\n",
       "      <td>0.029301</td>\n",
       "      <td>0.068053</td>\n",
       "      <td>...</td>\n",
       "      <td>-0.012878</td>\n",
       "      <td>0.401920</td>\n",
       "      <td>0.082605</td>\n",
       "      <td>0.056754</td>\n",
       "      <td>0.004967</td>\n",
       "      <td>-0.258735</td>\n",
       "      <td>0.010609</td>\n",
       "      <td>-0.079788</td>\n",
       "      <td>-0.106377</td>\n",
       "      <td>0.006327</td>\n",
       "    </tr>\n",
       "    <tr>\n",
       "      <th>4</th>\n",
       "      <td>0.117825</td>\n",
       "      <td>0.096677</td>\n",
       "      <td>0.025680</td>\n",
       "      <td>0.057402</td>\n",
       "      <td>0.001511</td>\n",
       "      <td>0.036254</td>\n",
       "      <td>0.084592</td>\n",
       "      <td>0.060423</td>\n",
       "      <td>0.018127</td>\n",
       "      <td>0.040785</td>\n",
       "      <td>...</td>\n",
       "      <td>-0.006412</td>\n",
       "      <td>-0.223360</td>\n",
       "      <td>0.009567</td>\n",
       "      <td>0.026878</td>\n",
       "      <td>0.009134</td>\n",
       "      <td>-0.185933</td>\n",
       "      <td>0.053071</td>\n",
       "      <td>0.032266</td>\n",
       "      <td>-0.016822</td>\n",
       "      <td>0.019421</td>\n",
       "    </tr>\n",
       "    <tr>\n",
       "      <th>5</th>\n",
       "      <td>0.113636</td>\n",
       "      <td>0.064394</td>\n",
       "      <td>0.037879</td>\n",
       "      <td>0.094697</td>\n",
       "      <td>0.003788</td>\n",
       "      <td>0.026515</td>\n",
       "      <td>0.094697</td>\n",
       "      <td>0.075758</td>\n",
       "      <td>0.007576</td>\n",
       "      <td>0.056818</td>\n",
       "      <td>...</td>\n",
       "      <td>0.113819</td>\n",
       "      <td>-0.128591</td>\n",
       "      <td>0.081230</td>\n",
       "      <td>0.080329</td>\n",
       "      <td>0.048674</td>\n",
       "      <td>-0.035709</td>\n",
       "      <td>0.092301</td>\n",
       "      <td>-0.037153</td>\n",
       "      <td>-0.038137</td>\n",
       "      <td>0.004536</td>\n",
       "    </tr>\n",
       "    <tr>\n",
       "      <th>6</th>\n",
       "      <td>0.093333</td>\n",
       "      <td>0.075556</td>\n",
       "      <td>0.008889</td>\n",
       "      <td>0.057778</td>\n",
       "      <td>0.017778</td>\n",
       "      <td>0.075556</td>\n",
       "      <td>0.080000</td>\n",
       "      <td>0.102222</td>\n",
       "      <td>0.022222</td>\n",
       "      <td>0.053333</td>\n",
       "      <td>...</td>\n",
       "      <td>0.004413</td>\n",
       "      <td>-0.247285</td>\n",
       "      <td>0.128575</td>\n",
       "      <td>0.095270</td>\n",
       "      <td>-0.024129</td>\n",
       "      <td>0.075140</td>\n",
       "      <td>0.057433</td>\n",
       "      <td>-0.124096</td>\n",
       "      <td>0.079725</td>\n",
       "      <td>0.031797</td>\n",
       "    </tr>\n",
       "    <tr>\n",
       "      <th>7</th>\n",
       "      <td>0.116667</td>\n",
       "      <td>0.075000</td>\n",
       "      <td>0.025000</td>\n",
       "      <td>0.066667</td>\n",
       "      <td>0.000000</td>\n",
       "      <td>0.033333</td>\n",
       "      <td>0.133333</td>\n",
       "      <td>0.075000</td>\n",
       "      <td>0.008333</td>\n",
       "      <td>0.066667</td>\n",
       "      <td>...</td>\n",
       "      <td>0.056158</td>\n",
       "      <td>-0.062148</td>\n",
       "      <td>0.105938</td>\n",
       "      <td>0.063879</td>\n",
       "      <td>0.022944</td>\n",
       "      <td>-0.081732</td>\n",
       "      <td>0.133595</td>\n",
       "      <td>-0.124353</td>\n",
       "      <td>0.015993</td>\n",
       "      <td>0.067531</td>\n",
       "    </tr>\n",
       "    <tr>\n",
       "      <th>8</th>\n",
       "      <td>0.090698</td>\n",
       "      <td>0.041860</td>\n",
       "      <td>0.034884</td>\n",
       "      <td>0.044186</td>\n",
       "      <td>0.009302</td>\n",
       "      <td>0.039535</td>\n",
       "      <td>0.074419</td>\n",
       "      <td>0.088372</td>\n",
       "      <td>0.013953</td>\n",
       "      <td>0.051163</td>\n",
       "      <td>...</td>\n",
       "      <td>0.017688</td>\n",
       "      <td>-0.034424</td>\n",
       "      <td>-0.005235</td>\n",
       "      <td>0.036114</td>\n",
       "      <td>0.007811</td>\n",
       "      <td>-0.074023</td>\n",
       "      <td>-0.027005</td>\n",
       "      <td>-0.017390</td>\n",
       "      <td>-0.097212</td>\n",
       "      <td>0.002385</td>\n",
       "    </tr>\n",
       "  </tbody>\n",
       "</table>\n",
       "<p>9 rows × 6165 columns</p>\n",
       "</div>"
      ],
      "text/plain": [
       "       0         1         2         3         4         5         6     \\\n",
       "0  0.105455  0.112727  0.014545  0.072727  0.003636  0.036364  0.054545   \n",
       "1  0.135338  0.022556  0.007519  0.052632  0.000000  0.105263  0.037594   \n",
       "2  0.025000  0.115000  0.030000  0.035000  0.025000  0.065000  0.125000   \n",
       "3  0.100189  0.043478  0.059546  0.068998  0.011342  0.063327  0.041588   \n",
       "4  0.117825  0.096677  0.025680  0.057402  0.001511  0.036254  0.084592   \n",
       "5  0.113636  0.064394  0.037879  0.094697  0.003788  0.026515  0.094697   \n",
       "6  0.093333  0.075556  0.008889  0.057778  0.017778  0.075556  0.080000   \n",
       "7  0.116667  0.075000  0.025000  0.066667  0.000000  0.033333  0.133333   \n",
       "8  0.090698  0.041860  0.034884  0.044186  0.009302  0.039535  0.074419   \n",
       "\n",
       "       7         8         9     ...      6155      6156      6157      6158  \\\n",
       "0  0.083636  0.014545  0.047273  ...  0.012814 -0.094531  0.011316  0.009944   \n",
       "1  0.142857  0.007519  0.037594  ...  0.074207  0.231775  0.047796  0.110545   \n",
       "2  0.050000  0.005000  0.050000  ...  0.016549 -0.051551  0.053766  0.027876   \n",
       "3  0.051985  0.029301  0.068053  ... -0.012878  0.401920  0.082605  0.056754   \n",
       "4  0.060423  0.018127  0.040785  ... -0.006412 -0.223360  0.009567  0.026878   \n",
       "5  0.075758  0.007576  0.056818  ...  0.113819 -0.128591  0.081230  0.080329   \n",
       "6  0.102222  0.022222  0.053333  ...  0.004413 -0.247285  0.128575  0.095270   \n",
       "7  0.075000  0.008333  0.066667  ...  0.056158 -0.062148  0.105938  0.063879   \n",
       "8  0.088372  0.013953  0.051163  ...  0.017688 -0.034424 -0.005235  0.036114   \n",
       "\n",
       "       6159      6160      6161      6162      6163      6164  \n",
       "0 -0.012917 -0.118146  0.051986 -0.112421  0.050401  0.005771  \n",
       "1  0.029757 -0.056569  0.084240 -0.027479  0.143183  0.007550  \n",
       "2  0.015438 -0.116005  0.012649 -0.092593  0.126892  0.167790  \n",
       "3  0.004967 -0.258735  0.010609 -0.079788 -0.106377  0.006327  \n",
       "4  0.009134 -0.185933  0.053071  0.032266 -0.016822  0.019421  \n",
       "5  0.048674 -0.035709  0.092301 -0.037153 -0.038137  0.004536  \n",
       "6 -0.024129  0.075140  0.057433 -0.124096  0.079725  0.031797  \n",
       "7  0.022944 -0.081732  0.133595 -0.124353  0.015993  0.067531  \n",
       "8  0.007811 -0.074023 -0.027005 -0.017390 -0.097212  0.002385  \n",
       "\n",
       "[9 rows x 6165 columns]"
      ]
     },
     "execution_count": 63,
     "metadata": {},
     "output_type": "execute_result"
    }
   ],
   "source": [
    "emb_feat = pd.DataFrame(df['Embedding'].tolist())\n",
    "emb_feat"
   ]
  },
  {
   "cell_type": "code",
   "execution_count": 66,
   "id": "60c0cce7-0331-4a94-bfaf-991d515d9d09",
   "metadata": {
    "execution": {
     "iopub.execute_input": "2022-08-15T19:37:46.828192Z",
     "iopub.status.busy": "2022-08-15T19:37:46.827911Z",
     "iopub.status.idle": "2022-08-15T19:37:46.983768Z",
     "shell.execute_reply": "2022-08-15T19:37:46.982806Z",
     "shell.execute_reply.started": "2022-08-15T19:37:46.828172Z"
    }
   },
   "outputs": [],
   "source": [
    "emb_feat.to_csv('Embedings.tsv', index=False, sep='\\t' )"
   ]
  },
  {
   "cell_type": "code",
   "execution_count": 65,
   "id": "608528cf-9ee6-43fe-8d4c-82cfe96b351c",
   "metadata": {
    "execution": {
     "iopub.execute_input": "2022-08-15T19:32:23.905722Z",
     "iopub.status.busy": "2022-08-15T19:32:23.904721Z",
     "iopub.status.idle": "2022-08-15T19:32:23.933929Z",
     "shell.execute_reply": "2022-08-15T19:32:23.932330Z",
     "shell.execute_reply.started": "2022-08-15T19:32:23.905691Z"
    },
    "tags": []
   },
   "outputs": [
    {
     "data": {
      "text/html": [
       "<div>\n",
       "<style scoped>\n",
       "    .dataframe tbody tr th:only-of-type {\n",
       "        vertical-align: middle;\n",
       "    }\n",
       "\n",
       "    .dataframe tbody tr th {\n",
       "        vertical-align: top;\n",
       "    }\n",
       "\n",
       "    .dataframe thead th {\n",
       "        text-align: right;\n",
       "    }\n",
       "</style>\n",
       "<table border=\"1\" class=\"dataframe\">\n",
       "  <thead>\n",
       "    <tr style=\"text-align: right;\">\n",
       "      <th></th>\n",
       "      <th>Sequence_id</th>\n",
       "      <th>0</th>\n",
       "      <th>1</th>\n",
       "      <th>2</th>\n",
       "      <th>3</th>\n",
       "      <th>4</th>\n",
       "      <th>5</th>\n",
       "      <th>6</th>\n",
       "      <th>7</th>\n",
       "      <th>8</th>\n",
       "      <th>...</th>\n",
       "      <th>6155</th>\n",
       "      <th>6156</th>\n",
       "      <th>6157</th>\n",
       "      <th>6158</th>\n",
       "      <th>6159</th>\n",
       "      <th>6160</th>\n",
       "      <th>6161</th>\n",
       "      <th>6162</th>\n",
       "      <th>6163</th>\n",
       "      <th>6164</th>\n",
       "    </tr>\n",
       "  </thead>\n",
       "  <tbody>\n",
       "    <tr>\n",
       "      <th>0</th>\n",
       "      <td>A0LUZ1</td>\n",
       "      <td>0.105455</td>\n",
       "      <td>0.112727</td>\n",
       "      <td>0.014545</td>\n",
       "      <td>0.072727</td>\n",
       "      <td>0.003636</td>\n",
       "      <td>0.036364</td>\n",
       "      <td>0.054545</td>\n",
       "      <td>0.083636</td>\n",
       "      <td>0.014545</td>\n",
       "      <td>...</td>\n",
       "      <td>0.012814</td>\n",
       "      <td>-0.094531</td>\n",
       "      <td>0.011316</td>\n",
       "      <td>0.009944</td>\n",
       "      <td>-0.012917</td>\n",
       "      <td>-0.118146</td>\n",
       "      <td>0.051986</td>\n",
       "      <td>-0.112421</td>\n",
       "      <td>0.050401</td>\n",
       "      <td>0.005771</td>\n",
       "    </tr>\n",
       "    <tr>\n",
       "      <th>1</th>\n",
       "      <td>P9WNR8</td>\n",
       "      <td>0.135338</td>\n",
       "      <td>0.022556</td>\n",
       "      <td>0.007519</td>\n",
       "      <td>0.052632</td>\n",
       "      <td>0.000000</td>\n",
       "      <td>0.105263</td>\n",
       "      <td>0.037594</td>\n",
       "      <td>0.142857</td>\n",
       "      <td>0.007519</td>\n",
       "      <td>...</td>\n",
       "      <td>0.074207</td>\n",
       "      <td>0.231775</td>\n",
       "      <td>0.047796</td>\n",
       "      <td>0.110545</td>\n",
       "      <td>0.029757</td>\n",
       "      <td>-0.056569</td>\n",
       "      <td>0.084240</td>\n",
       "      <td>-0.027479</td>\n",
       "      <td>0.143183</td>\n",
       "      <td>0.007550</td>\n",
       "    </tr>\n",
       "    <tr>\n",
       "      <th>2</th>\n",
       "      <td>Q2JVG1</td>\n",
       "      <td>0.025000</td>\n",
       "      <td>0.115000</td>\n",
       "      <td>0.030000</td>\n",
       "      <td>0.035000</td>\n",
       "      <td>0.025000</td>\n",
       "      <td>0.065000</td>\n",
       "      <td>0.125000</td>\n",
       "      <td>0.050000</td>\n",
       "      <td>0.005000</td>\n",
       "      <td>...</td>\n",
       "      <td>0.016549</td>\n",
       "      <td>-0.051551</td>\n",
       "      <td>0.053766</td>\n",
       "      <td>0.027876</td>\n",
       "      <td>0.015438</td>\n",
       "      <td>-0.116005</td>\n",
       "      <td>0.012649</td>\n",
       "      <td>-0.092593</td>\n",
       "      <td>0.126892</td>\n",
       "      <td>0.167790</td>\n",
       "    </tr>\n",
       "    <tr>\n",
       "      <th>3</th>\n",
       "      <td>Q4FV41</td>\n",
       "      <td>0.100189</td>\n",
       "      <td>0.043478</td>\n",
       "      <td>0.059546</td>\n",
       "      <td>0.068998</td>\n",
       "      <td>0.011342</td>\n",
       "      <td>0.063327</td>\n",
       "      <td>0.041588</td>\n",
       "      <td>0.051985</td>\n",
       "      <td>0.029301</td>\n",
       "      <td>...</td>\n",
       "      <td>-0.012878</td>\n",
       "      <td>0.401920</td>\n",
       "      <td>0.082605</td>\n",
       "      <td>0.056754</td>\n",
       "      <td>0.004967</td>\n",
       "      <td>-0.258735</td>\n",
       "      <td>0.010609</td>\n",
       "      <td>-0.079788</td>\n",
       "      <td>-0.106377</td>\n",
       "      <td>0.006327</td>\n",
       "    </tr>\n",
       "    <tr>\n",
       "      <th>4</th>\n",
       "      <td>Q5Z3Z8</td>\n",
       "      <td>0.117825</td>\n",
       "      <td>0.096677</td>\n",
       "      <td>0.025680</td>\n",
       "      <td>0.057402</td>\n",
       "      <td>0.001511</td>\n",
       "      <td>0.036254</td>\n",
       "      <td>0.084592</td>\n",
       "      <td>0.060423</td>\n",
       "      <td>0.018127</td>\n",
       "      <td>...</td>\n",
       "      <td>-0.006412</td>\n",
       "      <td>-0.223360</td>\n",
       "      <td>0.009567</td>\n",
       "      <td>0.026878</td>\n",
       "      <td>0.009134</td>\n",
       "      <td>-0.185933</td>\n",
       "      <td>0.053071</td>\n",
       "      <td>0.032266</td>\n",
       "      <td>-0.016822</td>\n",
       "      <td>0.019421</td>\n",
       "    </tr>\n",
       "    <tr>\n",
       "      <th>5</th>\n",
       "      <td>Q6A8L0</td>\n",
       "      <td>0.113636</td>\n",
       "      <td>0.064394</td>\n",
       "      <td>0.037879</td>\n",
       "      <td>0.094697</td>\n",
       "      <td>0.003788</td>\n",
       "      <td>0.026515</td>\n",
       "      <td>0.094697</td>\n",
       "      <td>0.075758</td>\n",
       "      <td>0.007576</td>\n",
       "      <td>...</td>\n",
       "      <td>0.113819</td>\n",
       "      <td>-0.128591</td>\n",
       "      <td>0.081230</td>\n",
       "      <td>0.080329</td>\n",
       "      <td>0.048674</td>\n",
       "      <td>-0.035709</td>\n",
       "      <td>0.092301</td>\n",
       "      <td>-0.037153</td>\n",
       "      <td>-0.038137</td>\n",
       "      <td>0.004536</td>\n",
       "    </tr>\n",
       "    <tr>\n",
       "      <th>6</th>\n",
       "      <td>Q7V7T9</td>\n",
       "      <td>0.093333</td>\n",
       "      <td>0.075556</td>\n",
       "      <td>0.008889</td>\n",
       "      <td>0.057778</td>\n",
       "      <td>0.017778</td>\n",
       "      <td>0.075556</td>\n",
       "      <td>0.080000</td>\n",
       "      <td>0.102222</td>\n",
       "      <td>0.022222</td>\n",
       "      <td>...</td>\n",
       "      <td>0.004413</td>\n",
       "      <td>-0.247285</td>\n",
       "      <td>0.128575</td>\n",
       "      <td>0.095270</td>\n",
       "      <td>-0.024129</td>\n",
       "      <td>0.075140</td>\n",
       "      <td>0.057433</td>\n",
       "      <td>-0.124096</td>\n",
       "      <td>0.079725</td>\n",
       "      <td>0.031797</td>\n",
       "    </tr>\n",
       "    <tr>\n",
       "      <th>7</th>\n",
       "      <td>Q9K4Q3</td>\n",
       "      <td>0.116667</td>\n",
       "      <td>0.075000</td>\n",
       "      <td>0.025000</td>\n",
       "      <td>0.066667</td>\n",
       "      <td>0.000000</td>\n",
       "      <td>0.033333</td>\n",
       "      <td>0.133333</td>\n",
       "      <td>0.075000</td>\n",
       "      <td>0.008333</td>\n",
       "      <td>...</td>\n",
       "      <td>0.056158</td>\n",
       "      <td>-0.062148</td>\n",
       "      <td>0.105938</td>\n",
       "      <td>0.063879</td>\n",
       "      <td>0.022944</td>\n",
       "      <td>-0.081732</td>\n",
       "      <td>0.133595</td>\n",
       "      <td>-0.124353</td>\n",
       "      <td>0.015993</td>\n",
       "      <td>0.067531</td>\n",
       "    </tr>\n",
       "    <tr>\n",
       "      <th>8</th>\n",
       "      <td>Q9ZUP2</td>\n",
       "      <td>0.090698</td>\n",
       "      <td>0.041860</td>\n",
       "      <td>0.034884</td>\n",
       "      <td>0.044186</td>\n",
       "      <td>0.009302</td>\n",
       "      <td>0.039535</td>\n",
       "      <td>0.074419</td>\n",
       "      <td>0.088372</td>\n",
       "      <td>0.013953</td>\n",
       "      <td>...</td>\n",
       "      <td>0.017688</td>\n",
       "      <td>-0.034424</td>\n",
       "      <td>-0.005235</td>\n",
       "      <td>0.036114</td>\n",
       "      <td>0.007811</td>\n",
       "      <td>-0.074023</td>\n",
       "      <td>-0.027005</td>\n",
       "      <td>-0.017390</td>\n",
       "      <td>-0.097212</td>\n",
       "      <td>0.002385</td>\n",
       "    </tr>\n",
       "  </tbody>\n",
       "</table>\n",
       "<p>9 rows × 6166 columns</p>\n",
       "</div>"
      ],
      "text/plain": [
       "  Sequence_id         0         1         2         3         4         5  \\\n",
       "0      A0LUZ1  0.105455  0.112727  0.014545  0.072727  0.003636  0.036364   \n",
       "1      P9WNR8  0.135338  0.022556  0.007519  0.052632  0.000000  0.105263   \n",
       "2      Q2JVG1  0.025000  0.115000  0.030000  0.035000  0.025000  0.065000   \n",
       "3      Q4FV41  0.100189  0.043478  0.059546  0.068998  0.011342  0.063327   \n",
       "4      Q5Z3Z8  0.117825  0.096677  0.025680  0.057402  0.001511  0.036254   \n",
       "5      Q6A8L0  0.113636  0.064394  0.037879  0.094697  0.003788  0.026515   \n",
       "6      Q7V7T9  0.093333  0.075556  0.008889  0.057778  0.017778  0.075556   \n",
       "7      Q9K4Q3  0.116667  0.075000  0.025000  0.066667  0.000000  0.033333   \n",
       "8      Q9ZUP2  0.090698  0.041860  0.034884  0.044186  0.009302  0.039535   \n",
       "\n",
       "          6         7         8  ...      6155      6156      6157      6158  \\\n",
       "0  0.054545  0.083636  0.014545  ...  0.012814 -0.094531  0.011316  0.009944   \n",
       "1  0.037594  0.142857  0.007519  ...  0.074207  0.231775  0.047796  0.110545   \n",
       "2  0.125000  0.050000  0.005000  ...  0.016549 -0.051551  0.053766  0.027876   \n",
       "3  0.041588  0.051985  0.029301  ... -0.012878  0.401920  0.082605  0.056754   \n",
       "4  0.084592  0.060423  0.018127  ... -0.006412 -0.223360  0.009567  0.026878   \n",
       "5  0.094697  0.075758  0.007576  ...  0.113819 -0.128591  0.081230  0.080329   \n",
       "6  0.080000  0.102222  0.022222  ...  0.004413 -0.247285  0.128575  0.095270   \n",
       "7  0.133333  0.075000  0.008333  ...  0.056158 -0.062148  0.105938  0.063879   \n",
       "8  0.074419  0.088372  0.013953  ...  0.017688 -0.034424 -0.005235  0.036114   \n",
       "\n",
       "       6159      6160      6161      6162      6163      6164  \n",
       "0 -0.012917 -0.118146  0.051986 -0.112421  0.050401  0.005771  \n",
       "1  0.029757 -0.056569  0.084240 -0.027479  0.143183  0.007550  \n",
       "2  0.015438 -0.116005  0.012649 -0.092593  0.126892  0.167790  \n",
       "3  0.004967 -0.258735  0.010609 -0.079788 -0.106377  0.006327  \n",
       "4  0.009134 -0.185933  0.053071  0.032266 -0.016822  0.019421  \n",
       "5  0.048674 -0.035709  0.092301 -0.037153 -0.038137  0.004536  \n",
       "6 -0.024129  0.075140  0.057433 -0.124096  0.079725  0.031797  \n",
       "7  0.022944 -0.081732  0.133595 -0.124353  0.015993  0.067531  \n",
       "8  0.007811 -0.074023 -0.027005 -0.017390 -0.097212  0.002385  \n",
       "\n",
       "[9 rows x 6166 columns]"
      ]
     },
     "execution_count": 65,
     "metadata": {},
     "output_type": "execute_result"
    }
   ],
   "source": [
    "df = pd.concat([df, emb_feat], axis=1).drop(columns='Embedding')\n",
    "df"
   ]
  },
  {
   "cell_type": "code",
   "execution_count": 68,
   "id": "77d0690e-c70e-4a30-a0eb-635bb350fb9f",
   "metadata": {
    "execution": {
     "iopub.execute_input": "2022-08-15T19:39:56.879173Z",
     "iopub.status.busy": "2022-08-15T19:39:56.878887Z",
     "iopub.status.idle": "2022-08-15T19:39:56.887935Z",
     "shell.execute_reply": "2022-08-15T19:39:56.886987Z",
     "shell.execute_reply.started": "2022-08-15T19:39:56.879152Z"
    },
    "tags": []
   },
   "outputs": [],
   "source": [
    "df.Sequence_id.to_csv('Sequence_ids.tsv', index=False, sep='\\t' )"
   ]
  },
  {
   "cell_type": "markdown",
   "id": "3563c940-4cfe-4d02-81ef-51fbac040870",
   "metadata": {},
   "source": [
    "The files Sequence_ids.tsv and 'Embedings.tsv are for now located in the notebooks_test. \n",
    "\n",
    "You can load them to the Embedding Projector."
   ]
  },
  {
   "cell_type": "markdown",
   "id": "908d62e4-1362-4207-9822-ce60a85b1a7c",
   "metadata": {},
   "source": [
    "### Using dictionaries"
   ]
  },
  {
   "cell_type": "code",
   "execution_count": 69,
   "id": "7bac1628-fdce-45f8-870b-f89b73c7f683",
   "metadata": {
    "execution": {
     "iopub.execute_input": "2022-08-15T19:52:31.376286Z",
     "iopub.status.busy": "2022-08-15T19:52:31.373724Z",
     "iopub.status.idle": "2022-08-15T19:52:31.496540Z",
     "shell.execute_reply": "2022-08-15T19:52:31.495385Z",
     "shell.execute_reply.started": "2022-08-15T19:52:31.376107Z"
    }
   },
   "outputs": [
    {
     "name": "stdout",
     "output_type": "stream",
     "text": [
      "A0LUZ1 P9WNR8 Q2JVG1 Q4FV41 Q5Z3Z8 Q6A8L0 Q7V7T9 Q9K4Q3 Q9ZUP2 "
     ]
    }
   ],
   "source": [
    "proteins = {}\n",
    "\n",
    "with h5py.File(file_name, 'r') as hf:\n",
    "    for key in hf.keys():\n",
    "        print(key, end=' ')\n",
    "        data = hf.get(key)\n",
    "        n = np.array(data)\n",
    "        proteins[key] = n"
   ]
  },
  {
   "cell_type": "code",
   "execution_count": 70,
   "id": "5ca7e0d0-ec2a-4731-8c16-006d132d2b68",
   "metadata": {
    "execution": {
     "iopub.execute_input": "2022-08-15T19:52:39.700901Z",
     "iopub.status.busy": "2022-08-15T19:52:39.700297Z",
     "iopub.status.idle": "2022-08-15T19:52:39.726204Z",
     "shell.execute_reply": "2022-08-15T19:52:39.725388Z",
     "shell.execute_reply.started": "2022-08-15T19:52:39.700872Z"
    }
   },
   "outputs": [
    {
     "data": {
      "text/plain": [
       "{'A0LUZ1': array([ 0.10545455,  0.11272728,  0.01454545, ..., -0.11242143,\n",
       "         0.05040131,  0.00577081], dtype=float32),\n",
       " 'P9WNR8': array([ 0.13533835,  0.02255639,  0.0075188 , ..., -0.02747917,\n",
       "         0.14318302,  0.00754967], dtype=float32),\n",
       " 'Q2JVG1': array([ 0.025     ,  0.11499999,  0.03      , ..., -0.09259275,\n",
       "         0.12689242,  0.16779038], dtype=float32),\n",
       " 'Q4FV41': array([ 0.10018904,  0.04347826,  0.05954631, ..., -0.07978772,\n",
       "        -0.10637696,  0.00632719], dtype=float32),\n",
       " 'Q5Z3Z8': array([ 0.11782477,  0.09667674,  0.02567976, ...,  0.03226604,\n",
       "        -0.016822  ,  0.01942107], dtype=float32),\n",
       " 'Q6A8L0': array([ 0.11363637,  0.06439394,  0.03787879, ..., -0.03715345,\n",
       "        -0.03813693,  0.00453561], dtype=float32),\n",
       " 'Q7V7T9': array([ 0.09333333,  0.07555556,  0.00888889, ..., -0.12409594,\n",
       "         0.07972488,  0.03179713], dtype=float32),\n",
       " 'Q9K4Q3': array([ 0.11666667,  0.075     ,  0.025     , ..., -0.12435261,\n",
       "         0.01599274,  0.06753068], dtype=float32),\n",
       " 'Q9ZUP2': array([ 0.09069768,  0.04186046,  0.03488372, ..., -0.01738964,\n",
       "        -0.09721208,  0.00238539], dtype=float32)}"
      ]
     },
     "execution_count": 70,
     "metadata": {},
     "output_type": "execute_result"
    }
   ],
   "source": [
    "proteins"
   ]
  },
  {
   "cell_type": "code",
   "execution_count": null,
   "id": "f15343aa-8b5c-4651-860b-14a53ae83e4b",
   "metadata": {},
   "outputs": [],
   "source": []
  }
 ],
 "metadata": {
  "kernelspec": {
   "display_name": "sa",
   "language": "python",
   "name": "conda-env-sa-py"
  },
  "language_info": {
   "codemirror_mode": {
    "name": "ipython",
    "version": 3
   },
   "file_extension": ".py",
   "mimetype": "text/x-python",
   "name": "python",
   "nbconvert_exporter": "python",
   "pygments_lexer": "ipython3",
   "version": "3.8.13"
  },
  "widgets": {
   "application/vnd.jupyter.widget-state+json": {
    "state": {},
    "version_major": 2,
    "version_minor": 0
   }
  }
 },
 "nbformat": 4,
 "nbformat_minor": 5
}
