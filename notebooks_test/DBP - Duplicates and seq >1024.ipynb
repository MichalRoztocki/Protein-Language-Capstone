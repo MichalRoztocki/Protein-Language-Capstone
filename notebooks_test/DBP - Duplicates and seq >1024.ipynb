{
 "cells": [
  {
   "cell_type": "markdown",
   "id": "b72504f7-e163-49e4-86af-da9e6c3f8552",
   "metadata": {},
   "source": [
    "## Removing duplicates and rows with sequences > 1024"
   ]
  },
  {
   "cell_type": "markdown",
   "id": "9d1c2208-dba9-405d-8892-62476845aa1c",
   "metadata": {},
   "source": [
    "We have found some duplicate sequences in DBP datasets so we are going to remove them.\n",
    "\n",
    "For `esm` pretrained models we will remove all rows with sequences longer than 1024, because these models accept only sequences with maximum length of 1024.  \n"
   ]
  },
  {
   "cell_type": "code",
   "execution_count": 1,
   "id": "bcba2766-293d-4877-a23a-a0ae8df58f2e",
   "metadata": {
    "execution": {
     "iopub.execute_input": "2022-09-03T14:38:20.877165Z",
     "iopub.status.busy": "2022-09-03T14:38:20.876295Z",
     "iopub.status.idle": "2022-09-03T14:38:21.640011Z",
     "shell.execute_reply": "2022-09-03T14:38:21.639135Z",
     "shell.execute_reply.started": "2022-09-03T14:38:20.877106Z"
    }
   },
   "outputs": [],
   "source": [
    "import pandas as pd"
   ]
  },
  {
   "cell_type": "markdown",
   "id": "bdc0fb85-ef07-4f2e-84dc-faf696c4a1e0",
   "metadata": {},
   "source": [
    "Duplicates are found in DBP (DNA Binding Proteins) files only"
   ]
  },
  {
   "cell_type": "code",
   "execution_count": 2,
   "id": "0504962a-1a0b-412c-84b6-0c40b8f82913",
   "metadata": {
    "execution": {
     "iopub.execute_input": "2022-09-03T14:46:41.881172Z",
     "iopub.status.busy": "2022-09-03T14:46:41.880837Z",
     "iopub.status.idle": "2022-09-03T14:46:41.885944Z",
     "shell.execute_reply": "2022-09-03T14:46:41.884710Z",
     "shell.execute_reply.started": "2022-09-03T14:46:41.881152Z"
    }
   },
   "outputs": [],
   "source": [
    "# Create file paths\n",
    "fn_test = '../data/dna_binding/test.csv'\n",
    "fn_train = '../data/dna_binding/train.csv'"
   ]
  },
  {
   "cell_type": "markdown",
   "id": "b2853ff0-a892-4688-ba89-5c9f7b94cca7",
   "metadata": {},
   "source": [
    "Create dataframes"
   ]
  },
  {
   "cell_type": "code",
   "execution_count": 3,
   "id": "fb64f22d-1ad8-4bd2-9e32-b9e741f6b21f",
   "metadata": {
    "execution": {
     "iopub.execute_input": "2022-09-03T14:49:24.576610Z",
     "iopub.status.busy": "2022-09-03T14:49:24.576344Z",
     "iopub.status.idle": "2022-09-03T14:49:24.630552Z",
     "shell.execute_reply": "2022-09-03T14:49:24.629690Z",
     "shell.execute_reply.started": "2022-09-03T14:49:24.576591Z"
    }
   },
   "outputs": [
    {
     "data": {
      "text/html": [
       "<div>\n",
       "<style scoped>\n",
       "    .dataframe tbody tr th:only-of-type {\n",
       "        vertical-align: middle;\n",
       "    }\n",
       "\n",
       "    .dataframe tbody tr th {\n",
       "        vertical-align: top;\n",
       "    }\n",
       "\n",
       "    .dataframe thead th {\n",
       "        text-align: right;\n",
       "    }\n",
       "</style>\n",
       "<table border=\"1\" class=\"dataframe\">\n",
       "  <thead>\n",
       "    <tr style=\"text-align: right;\">\n",
       "      <th></th>\n",
       "      <th>code</th>\n",
       "      <th>sequence</th>\n",
       "      <th>label</th>\n",
       "      <th>origin</th>\n",
       "    </tr>\n",
       "  </thead>\n",
       "  <tbody>\n",
       "    <tr>\n",
       "      <th>0</th>\n",
       "      <td>P27204|1</td>\n",
       "      <td>AKKRSRSRKRSASRKRSRSRKRSASKKSSKKHVRKALAAGMKNHLL...</td>\n",
       "      <td>1</td>\n",
       "      <td>https://github.com/hfuulgb/PDB-Fusion/tree/mai...</td>\n",
       "    </tr>\n",
       "    <tr>\n",
       "      <th>1</th>\n",
       "      <td>P53528|1</td>\n",
       "      <td>MVMVVNPLTAGLDDEQREAVLAPRGPVCVLAGAGTGKTRTITHRIA...</td>\n",
       "      <td>1</td>\n",
       "      <td>https://github.com/hfuulgb/PDB-Fusion/tree/mai...</td>\n",
       "    </tr>\n",
       "    <tr>\n",
       "      <th>2</th>\n",
       "      <td>P52684|1</td>\n",
       "      <td>MKDDINQEITFRKLSVFMMFMAKGNIARTAEAMKLSSVSVHRALHT...</td>\n",
       "      <td>1</td>\n",
       "      <td>https://github.com/hfuulgb/PDB-Fusion/tree/mai...</td>\n",
       "    </tr>\n",
       "    <tr>\n",
       "      <th>3</th>\n",
       "      <td>P10961|1</td>\n",
       "      <td>MNNAANTGTTNESNVSDAPRIEPLPSLNDDDIEKILQPNDIFTTDR...</td>\n",
       "      <td>1</td>\n",
       "      <td>https://github.com/hfuulgb/PDB-Fusion/tree/mai...</td>\n",
       "    </tr>\n",
       "    <tr>\n",
       "      <th>4</th>\n",
       "      <td>P06023|1</td>\n",
       "      <td>MAKPAKRIKSAAAAYVPQNRDAVITDIKRIGDLQREASRLETEMND...</td>\n",
       "      <td>1</td>\n",
       "      <td>https://github.com/hfuulgb/PDB-Fusion/tree/mai...</td>\n",
       "    </tr>\n",
       "  </tbody>\n",
       "</table>\n",
       "</div>"
      ],
      "text/plain": [
       "       code                                           sequence  label  \\\n",
       "0  P27204|1  AKKRSRSRKRSASRKRSRSRKRSASKKSSKKHVRKALAAGMKNHLL...      1   \n",
       "1  P53528|1  MVMVVNPLTAGLDDEQREAVLAPRGPVCVLAGAGTGKTRTITHRIA...      1   \n",
       "2  P52684|1  MKDDINQEITFRKLSVFMMFMAKGNIARTAEAMKLSSVSVHRALHT...      1   \n",
       "3  P10961|1  MNNAANTGTTNESNVSDAPRIEPLPSLNDDDIEKILQPNDIFTTDR...      1   \n",
       "4  P06023|1  MAKPAKRIKSAAAAYVPQNRDAVITDIKRIGDLQREASRLETEMND...      1   \n",
       "\n",
       "                                              origin  \n",
       "0  https://github.com/hfuulgb/PDB-Fusion/tree/mai...  \n",
       "1  https://github.com/hfuulgb/PDB-Fusion/tree/mai...  \n",
       "2  https://github.com/hfuulgb/PDB-Fusion/tree/mai...  \n",
       "3  https://github.com/hfuulgb/PDB-Fusion/tree/mai...  \n",
       "4  https://github.com/hfuulgb/PDB-Fusion/tree/mai...  "
      ]
     },
     "execution_count": 3,
     "metadata": {},
     "output_type": "execute_result"
    }
   ],
   "source": [
    "df_test = pd.read_csv(fn_test)\n",
    "df_test.head()"
   ]
  },
  {
   "cell_type": "code",
   "execution_count": 51,
   "id": "f5f500cf-15ec-4b8a-b62b-659c896fff1c",
   "metadata": {
    "execution": {
     "iopub.execute_input": "2022-09-03T19:48:05.273381Z",
     "iopub.status.busy": "2022-09-03T19:48:05.273095Z",
     "iopub.status.idle": "2022-09-03T19:48:05.367575Z",
     "shell.execute_reply": "2022-09-03T19:48:05.366689Z",
     "shell.execute_reply.started": "2022-09-03T19:48:05.273364Z"
    },
    "tags": []
   },
   "outputs": [
    {
     "data": {
      "text/html": [
       "<div>\n",
       "<style scoped>\n",
       "    .dataframe tbody tr th:only-of-type {\n",
       "        vertical-align: middle;\n",
       "    }\n",
       "\n",
       "    .dataframe tbody tr th {\n",
       "        vertical-align: top;\n",
       "    }\n",
       "\n",
       "    .dataframe thead th {\n",
       "        text-align: right;\n",
       "    }\n",
       "</style>\n",
       "<table border=\"1\" class=\"dataframe\">\n",
       "  <thead>\n",
       "    <tr style=\"text-align: right;\">\n",
       "      <th></th>\n",
       "      <th>code</th>\n",
       "      <th>sequence</th>\n",
       "      <th>label</th>\n",
       "      <th>origin</th>\n",
       "    </tr>\n",
       "  </thead>\n",
       "  <tbody>\n",
       "    <tr>\n",
       "      <th>0</th>\n",
       "      <td>Q6A8L0</td>\n",
       "      <td>MSGHSKWATTKHKKAAIDAKRGKLFARLIKNIEVAARLGGGDPSGN...</td>\n",
       "      <td>1</td>\n",
       "      <td>https://github.com/hfuulgb/PDB-Fusion/tree/mai...</td>\n",
       "    </tr>\n",
       "    <tr>\n",
       "      <th>1</th>\n",
       "      <td>Q7V7T9</td>\n",
       "      <td>MIGWLQGQKVEAWQQGTRQGVVLACAGVGYEVQIAPRHLSEMEHGQ...</td>\n",
       "      <td>1</td>\n",
       "      <td>https://github.com/hfuulgb/PDB-Fusion/tree/mai...</td>\n",
       "    </tr>\n",
       "    <tr>\n",
       "      <th>2</th>\n",
       "      <td>Q9ZUP2</td>\n",
       "      <td>MARILRNVYSLRSSLFSSELLRRSVVGTSFQLRGFAAKAKKKSKSD...</td>\n",
       "      <td>1</td>\n",
       "      <td>https://github.com/hfuulgb/PDB-Fusion/tree/mai...</td>\n",
       "    </tr>\n",
       "    <tr>\n",
       "      <th>3</th>\n",
       "      <td>Q2JVG1</td>\n",
       "      <td>MKCPRCGKQEIRVLESRSAEGGQSVRRRRECMSCGYRFTTYERIEF...</td>\n",
       "      <td>1</td>\n",
       "      <td>https://github.com/hfuulgb/PDB-Fusion/tree/mai...</td>\n",
       "    </tr>\n",
       "    <tr>\n",
       "      <th>4</th>\n",
       "      <td>Q9K4Q3</td>\n",
       "      <td>MTKADIIEGVYEKVGFSKKESAEIVELVFDTLKETLERGDKIKISG...</td>\n",
       "      <td>1</td>\n",
       "      <td>https://github.com/hfuulgb/PDB-Fusion/tree/mai...</td>\n",
       "    </tr>\n",
       "  </tbody>\n",
       "</table>\n",
       "</div>"
      ],
      "text/plain": [
       "     code                                           sequence  label  \\\n",
       "0  Q6A8L0  MSGHSKWATTKHKKAAIDAKRGKLFARLIKNIEVAARLGGGDPSGN...      1   \n",
       "1  Q7V7T9  MIGWLQGQKVEAWQQGTRQGVVLACAGVGYEVQIAPRHLSEMEHGQ...      1   \n",
       "2  Q9ZUP2  MARILRNVYSLRSSLFSSELLRRSVVGTSFQLRGFAAKAKKKSKSD...      1   \n",
       "3  Q2JVG1  MKCPRCGKQEIRVLESRSAEGGQSVRRRRECMSCGYRFTTYERIEF...      1   \n",
       "4  Q9K4Q3  MTKADIIEGVYEKVGFSKKESAEIVELVFDTLKETLERGDKIKISG...      1   \n",
       "\n",
       "                                              origin  \n",
       "0  https://github.com/hfuulgb/PDB-Fusion/tree/mai...  \n",
       "1  https://github.com/hfuulgb/PDB-Fusion/tree/mai...  \n",
       "2  https://github.com/hfuulgb/PDB-Fusion/tree/mai...  \n",
       "3  https://github.com/hfuulgb/PDB-Fusion/tree/mai...  \n",
       "4  https://github.com/hfuulgb/PDB-Fusion/tree/mai...  "
      ]
     },
     "execution_count": 51,
     "metadata": {},
     "output_type": "execute_result"
    }
   ],
   "source": [
    "df_train = pd.read_csv(fn_train)\n",
    "df_train.head()"
   ]
  },
  {
   "cell_type": "markdown",
   "id": "cbc7aaca-020e-4b6f-b8e5-8db039459ab9",
   "metadata": {},
   "source": [
    "Check dimensions"
   ]
  },
  {
   "cell_type": "code",
   "execution_count": 5,
   "id": "8b203a0d-a64b-48c1-aaa9-92622a204772",
   "metadata": {
    "execution": {
     "iopub.execute_input": "2022-09-03T14:58:45.537290Z",
     "iopub.status.busy": "2022-09-03T14:58:45.536970Z",
     "iopub.status.idle": "2022-09-03T14:58:45.541325Z",
     "shell.execute_reply": "2022-09-03T14:58:45.540492Z",
     "shell.execute_reply.started": "2022-09-03T14:58:45.537270Z"
    }
   },
   "outputs": [
    {
     "name": "stdout",
     "output_type": "stream",
     "text": [
      "Test: (2272, 4)\n",
      "Train: (14189, 4)\n"
     ]
    }
   ],
   "source": [
    "print(f'Test: {df_test.shape}')\n",
    "print(f'Train: {df_train.shape}')"
   ]
  },
  {
   "cell_type": "markdown",
   "id": "0764f6cb-0eed-4055-808f-5d205bc13981",
   "metadata": {},
   "source": [
    "Check duplicastes"
   ]
  },
  {
   "cell_type": "code",
   "execution_count": 18,
   "id": "77f28b4b-62cf-45f6-be39-f5b31ffc63df",
   "metadata": {
    "execution": {
     "iopub.execute_input": "2022-09-03T18:20:12.877875Z",
     "iopub.status.busy": "2022-09-03T18:20:12.877617Z",
     "iopub.status.idle": "2022-09-03T18:20:12.897431Z",
     "shell.execute_reply": "2022-09-03T18:20:12.896615Z",
     "shell.execute_reply.started": "2022-09-03T18:20:12.877856Z"
    },
    "tags": []
   },
   "outputs": [
    {
     "data": {
      "text/plain": [
       "312"
      ]
     },
     "execution_count": 18,
     "metadata": {},
     "output_type": "execute_result"
    }
   ],
   "source": [
    "df_train.duplicated(subset='sequence', keep=False).sum()"
   ]
  },
  {
   "cell_type": "code",
   "execution_count": 84,
   "id": "3e236944-28ee-4a9e-9041-dc212486b48c",
   "metadata": {
    "execution": {
     "iopub.execute_input": "2022-09-03T20:41:01.336155Z",
     "iopub.status.busy": "2022-09-03T20:41:01.335893Z",
     "iopub.status.idle": "2022-09-03T20:41:01.344925Z",
     "shell.execute_reply": "2022-09-03T20:41:01.344031Z",
     "shell.execute_reply.started": "2022-09-03T20:41:01.336137Z"
    },
    "tags": []
   },
   "outputs": [
    {
     "data": {
      "text/plain": [
       "0"
      ]
     },
     "execution_count": 84,
     "metadata": {},
     "output_type": "execute_result"
    }
   ],
   "source": [
    "df_test.duplicated(subset='sequence', keep=False).sum()"
   ]
  },
  {
   "cell_type": "markdown",
   "id": "21ac1a9e-c926-4e37-a79e-258fe6dd9e02",
   "metadata": {},
   "source": [
    "No duplicates in the test file but there are 312 rows in the train file.\n",
    "\n",
    "We need to decide which duplicate to keep, first or last. Default is first."
   ]
  },
  {
   "cell_type": "code",
   "execution_count": 85,
   "id": "17d665c2-ed97-40dc-9da4-44d1274a39c2",
   "metadata": {
    "execution": {
     "iopub.execute_input": "2022-09-03T20:44:02.651374Z",
     "iopub.status.busy": "2022-09-03T20:44:02.651112Z",
     "iopub.status.idle": "2022-09-03T20:44:02.669586Z",
     "shell.execute_reply": "2022-09-03T20:44:02.668598Z",
     "shell.execute_reply.started": "2022-09-03T20:44:02.651356Z"
    },
    "tags": []
   },
   "outputs": [
    {
     "data": {
      "text/plain": [
       "173"
      ]
     },
     "execution_count": 85,
     "metadata": {},
     "output_type": "execute_result"
    }
   ],
   "source": [
    "df_train.duplicated(subset='sequence', keep='first').sum()"
   ]
  },
  {
   "cell_type": "markdown",
   "id": "dd306947-6e24-47fd-8c2f-4ea8a6092f52",
   "metadata": {},
   "source": [
    "We will drop 173 rows of 312. Somesequences have more than 2 copies."
   ]
  },
  {
   "cell_type": "code",
   "execution_count": 89,
   "id": "ce1d6d35-4534-424b-970c-e8a29c008755",
   "metadata": {
    "execution": {
     "iopub.execute_input": "2022-09-03T20:55:10.317585Z",
     "iopub.status.busy": "2022-09-03T20:55:10.317320Z",
     "iopub.status.idle": "2022-09-03T20:55:10.336286Z",
     "shell.execute_reply": "2022-09-03T20:55:10.335485Z",
     "shell.execute_reply.started": "2022-09-03T20:55:10.317566Z"
    },
    "tags": []
   },
   "outputs": [
    {
     "data": {
      "text/plain": [
       "(14016, 4)"
      ]
     },
     "execution_count": 89,
     "metadata": {},
     "output_type": "execute_result"
    }
   ],
   "source": [
    "df_train = df_train.drop_duplicates(subset='sequence')\n",
    "df_train.shape"
   ]
  },
  {
   "cell_type": "markdown",
   "id": "7a3078b4-43a2-4b8a-b87f-ab0602cb321f",
   "metadata": {},
   "source": [
    "Save these two dataframes as .csv file for `prose` pretrained models"
   ]
  },
  {
   "cell_type": "code",
   "execution_count": 90,
   "id": "762c8372-5017-4fd7-9feb-fc6ab22478c6",
   "metadata": {
    "execution": {
     "iopub.execute_input": "2022-09-03T21:00:24.433971Z",
     "iopub.status.busy": "2022-09-03T21:00:24.433184Z",
     "iopub.status.idle": "2022-09-03T21:00:24.779394Z",
     "shell.execute_reply": "2022-09-03T21:00:24.778415Z",
     "shell.execute_reply.started": "2022-09-03T21:00:24.433947Z"
    },
    "tags": []
   },
   "outputs": [],
   "source": [
    "df_test.to_csv('../data/dna_binding/test_prose.csv', index=False)\n",
    "df_train.to_csv('../data/dna_binding/train_prose.csv', index=False)"
   ]
  },
  {
   "cell_type": "markdown",
   "id": "02bd88b7-c770-483d-adb2-2b3bc9e925ee",
   "metadata": {},
   "source": [
    "`esm` pretrained models accept only sequences with maximum length of 1024.  \n",
    "\n",
    "We will remove all sequences with the length above 1024.\n",
    "\n",
    "**Train dataset**"
   ]
  },
  {
   "cell_type": "code",
   "execution_count": 122,
   "id": "80d3dc7e-e302-4af0-a003-c41c88f07464",
   "metadata": {
    "execution": {
     "iopub.execute_input": "2022-09-03T21:43:17.792446Z",
     "iopub.status.busy": "2022-09-03T21:43:17.792187Z",
     "iopub.status.idle": "2022-09-03T21:43:17.801811Z",
     "shell.execute_reply": "2022-09-03T21:43:17.800969Z",
     "shell.execute_reply.started": "2022-09-03T21:43:17.792427Z"
    },
    "tags": []
   },
   "outputs": [
    {
     "data": {
      "text/plain": [
       "904"
      ]
     },
     "execution_count": 122,
     "metadata": {},
     "output_type": "execute_result"
    }
   ],
   "source": [
    "(df_train.sequence.map(len) > 1024).sum()"
   ]
  },
  {
   "cell_type": "markdown",
   "id": "073e8ca2-ff4d-44c6-8c60-6b4e55e64ff2",
   "metadata": {},
   "source": [
    "There are 904 rows with sequences longer than 1024 in the train dataset.\n",
    "\n",
    "Let's remove them."
   ]
  },
  {
   "cell_type": "code",
   "execution_count": 124,
   "id": "23def49c-8399-41f9-91a6-4a995de1f309",
   "metadata": {
    "execution": {
     "iopub.execute_input": "2022-09-03T21:46:25.802746Z",
     "iopub.status.busy": "2022-09-03T21:46:25.802500Z",
     "iopub.status.idle": "2022-09-03T21:46:25.813528Z",
     "shell.execute_reply": "2022-09-03T21:46:25.812752Z",
     "shell.execute_reply.started": "2022-09-03T21:46:25.802728Z"
    },
    "tags": []
   },
   "outputs": [
    {
     "data": {
      "text/plain": [
       "(13112, 4)"
      ]
     },
     "execution_count": 124,
     "metadata": {},
     "output_type": "execute_result"
    }
   ],
   "source": [
    "mask = (df_train.sequence.map(len) <= 1024)\n",
    "df_train = df_train[mask]\n",
    "df_train.shape"
   ]
  },
  {
   "cell_type": "markdown",
   "id": "a7fe9468-f3aa-461c-9910-05571b45e3ca",
   "metadata": {
    "execution": {
     "iopub.execute_input": "2022-09-03T21:42:41.332821Z",
     "iopub.status.busy": "2022-09-03T21:42:41.332540Z",
     "iopub.status.idle": "2022-09-03T21:42:41.339386Z",
     "shell.execute_reply": "2022-09-03T21:42:41.338262Z",
     "shell.execute_reply.started": "2022-09-03T21:42:41.332801Z"
    },
    "tags": []
   },
   "source": [
    "Working now on **test dataset**"
   ]
  },
  {
   "cell_type": "code",
   "execution_count": 125,
   "id": "f66815c0-cf96-4d32-84b7-c806c7bcf87e",
   "metadata": {
    "execution": {
     "iopub.execute_input": "2022-09-03T21:49:01.316184Z",
     "iopub.status.busy": "2022-09-03T21:49:01.315903Z",
     "iopub.status.idle": "2022-09-03T21:49:01.324136Z",
     "shell.execute_reply": "2022-09-03T21:49:01.323226Z",
     "shell.execute_reply.started": "2022-09-03T21:49:01.316165Z"
    },
    "tags": []
   },
   "outputs": [
    {
     "data": {
      "text/plain": [
       "190"
      ]
     },
     "execution_count": 125,
     "metadata": {},
     "output_type": "execute_result"
    }
   ],
   "source": [
    "(df_test.sequence.map(len) > 1024).sum()"
   ]
  },
  {
   "cell_type": "markdown",
   "id": "83edcaa6-ef10-4e86-a52c-73ca233541bd",
   "metadata": {},
   "source": [
    "There are 190 rows with sequences longer than 1024 in the test data set. \n",
    "\n",
    "Let's remove them."
   ]
  },
  {
   "cell_type": "code",
   "execution_count": 126,
   "id": "3d7060e3-5957-489b-9d58-c48daac614a7",
   "metadata": {
    "execution": {
     "iopub.execute_input": "2022-09-03T21:51:26.539309Z",
     "iopub.status.busy": "2022-09-03T21:51:26.539052Z",
     "iopub.status.idle": "2022-09-03T21:51:26.546775Z",
     "shell.execute_reply": "2022-09-03T21:51:26.546025Z",
     "shell.execute_reply.started": "2022-09-03T21:51:26.539290Z"
    },
    "tags": []
   },
   "outputs": [
    {
     "data": {
      "text/plain": [
       "(2082, 4)"
      ]
     },
     "execution_count": 126,
     "metadata": {},
     "output_type": "execute_result"
    }
   ],
   "source": [
    "mask = (df_test.sequence.map(len) <= 1024)\n",
    "df_test = df_test[mask]\n",
    "df_test.shape"
   ]
  },
  {
   "cell_type": "markdown",
   "id": "c9acf2d6-8d74-4d58-ac9c-b12f6dda0b35",
   "metadata": {},
   "source": [
    "And now, save these two dataframes as .csv file for `esm` pretrained models"
   ]
  },
  {
   "cell_type": "code",
   "execution_count": 127,
   "id": "7a8922d5-fe10-4971-9b7c-4bd395899e46",
   "metadata": {
    "execution": {
     "iopub.execute_input": "2022-09-03T21:55:13.206971Z",
     "iopub.status.busy": "2022-09-03T21:55:13.206735Z",
     "iopub.status.idle": "2022-09-03T21:55:13.484334Z",
     "shell.execute_reply": "2022-09-03T21:55:13.483471Z",
     "shell.execute_reply.started": "2022-09-03T21:55:13.206954Z"
    },
    "tags": []
   },
   "outputs": [],
   "source": [
    "df_test.to_csv('../data/dna_binding/test_esm.csv', index=False)\n",
    "df_train.to_csv('../data/dna_binding/train_esm.csv', index=False)"
   ]
  },
  {
   "cell_type": "markdown",
   "id": "ecc51dc6-880f-4a76-a97d-03122cacbb8d",
   "metadata": {},
   "source": [
    "This concludes cleanup of DBP .csv datasets."
   ]
  }
 ],
 "metadata": {
  "kernelspec": {
   "display_name": "sa",
   "language": "python",
   "name": "conda-env-sa-py"
  },
  "language_info": {
   "codemirror_mode": {
    "name": "ipython",
    "version": 3
   },
   "file_extension": ".py",
   "mimetype": "text/x-python",
   "name": "python",
   "nbconvert_exporter": "python",
   "pygments_lexer": "ipython3",
   "version": "3.8.13"
  },
  "widgets": {
   "application/vnd.jupyter.widget-state+json": {
    "state": {},
    "version_major": 2,
    "version_minor": 0
   }
  }
 },
 "nbformat": 4,
 "nbformat_minor": 5
}
