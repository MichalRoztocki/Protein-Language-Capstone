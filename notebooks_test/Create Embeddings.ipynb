{
 "cells": [
  {
   "cell_type": "code",
   "execution_count": 63,
   "id": "fe5118fc-cfbe-4497-a9d9-6c92db2aa611",
   "metadata": {
    "execution": {
     "iopub.execute_input": "2022-08-15T18:11:31.976191Z",
     "iopub.status.busy": "2022-08-15T18:11:31.975919Z",
     "iopub.status.idle": "2022-08-15T18:11:31.981522Z",
     "shell.execute_reply": "2022-08-15T18:11:31.980646Z",
     "shell.execute_reply.started": "2022-08-15T18:11:31.976171Z"
    },
    "tags": []
   },
   "outputs": [],
   "source": [
    "# Prepare file names\n",
    "def file_paths(file_name, model, pool, data_folder = '../data_test'):\n",
    "    import os\n",
    "    \n",
    "    mabr = model.split('_')[1]\n",
    "    file_fa = f'{file_name}.fa'\n",
    "    path_fa = os.path.join(data_folder, 'data_fa', file_fa)\n",
    "    \n",
    "    file_h5 = f'{file_name}_{mabr}_{pool}.h5'\n",
    "    path_h5 = os.path.join(data_folder, 'data_h5', file_h5)\n",
    "    \n",
    "    return path_h5, path_fa\n"
   ]
  },
  {
   "cell_type": "code",
   "execution_count": 24,
   "id": "007077a4-96e8-48d3-885a-8cd9960a5e4c",
   "metadata": {
    "execution": {
     "iopub.execute_input": "2022-08-15T15:54:03.521062Z",
     "iopub.status.busy": "2022-08-15T15:54:03.520216Z",
     "iopub.status.idle": "2022-08-15T15:54:03.573407Z",
     "shell.execute_reply": "2022-08-15T15:54:03.571401Z",
     "shell.execute_reply.started": "2022-08-15T15:54:03.521038Z"
    }
   },
   "outputs": [
    {
     "name": "stdout",
     "output_type": "stream",
     "text": [
      "usage: embed_sequences.py [-h] [-m MODEL] [-o OUTPUT]\n",
      "                          [--pool {none,sum,max,avg}] [-d DEVICE]\n",
      "                          path\n",
      "\n",
      "positional arguments:\n",
      "  path\n",
      "\n",
      "optional arguments:\n",
      "  -h, --help            show this help message and exit\n",
      "  -m MODEL, --model MODEL\n",
      "                        pretrained model to load, prose_mt loads the\n",
      "                        pretrained ProSE MT model, prose_dlm loads the\n",
      "                        pretrained Prose DLM model, otherwise unpickles torch\n",
      "                        model directly (default: prose_mt)\n",
      "  -o OUTPUT, --output OUTPUT\n",
      "  --pool {none,sum,max,avg}\n",
      "                        apply some sort of pooling operation over each\n",
      "                        sequence (default: none)\n",
      "  -d DEVICE, --device DEVICE\n",
      "                        compute device to use\n"
     ]
    }
   ],
   "source": [
    "%run ../prose/embed_sequences --help"
   ]
  },
  {
   "cell_type": "markdown",
   "id": "2a7d5651-d810-441e-8bac-a59b25e6d4a8",
   "metadata": {},
   "source": [
    "### ProSE MT model - prose_mt"
   ]
  },
  {
   "cell_type": "code",
   "execution_count": 69,
   "id": "f8930711-fcab-438b-a3b1-c88e8a7c8ad4",
   "metadata": {
    "execution": {
     "iopub.execute_input": "2022-08-15T18:15:12.415180Z",
     "iopub.status.busy": "2022-08-15T18:15:12.414203Z",
     "iopub.status.idle": "2022-08-15T18:15:12.420534Z",
     "shell.execute_reply": "2022-08-15T18:15:12.418989Z",
     "shell.execute_reply.started": "2022-08-15T18:15:12.415140Z"
    },
    "tags": []
   },
   "outputs": [],
   "source": [
    "model = 'prose_mt'\n",
    "file_base = 'train_small1'"
   ]
  },
  {
   "cell_type": "markdown",
   "id": "9e1acf6b-34c6-4e3e-8794-3a6c0361d24e",
   "metadata": {
    "tags": []
   },
   "source": [
    "Pooling Operation:  sum"
   ]
  },
  {
   "cell_type": "code",
   "execution_count": 85,
   "id": "f8d8e3df-45eb-41c6-ba77-b0ea1ee25ba3",
   "metadata": {
    "execution": {
     "iopub.execute_input": "2022-08-15T18:20:20.239053Z",
     "iopub.status.busy": "2022-08-15T18:20:20.238734Z",
     "iopub.status.idle": "2022-08-15T18:20:20.243721Z",
     "shell.execute_reply": "2022-08-15T18:20:20.242780Z",
     "shell.execute_reply.started": "2022-08-15T18:20:20.239031Z"
    },
    "tags": []
   },
   "outputs": [],
   "source": [
    "pool = 'sum'  \n",
    "path_h5, path_fa = file_paths(file_base, model, pool)"
   ]
  },
  {
   "cell_type": "code",
   "execution_count": 71,
   "id": "f0fc6f34-111e-4a1d-9285-02a825ee35d8",
   "metadata": {
    "execution": {
     "iopub.execute_input": "2022-08-15T18:15:12.437035Z",
     "iopub.status.busy": "2022-08-15T18:15:12.436621Z",
     "iopub.status.idle": "2022-08-15T18:15:16.124363Z",
     "shell.execute_reply": "2022-08-15T18:15:16.121752Z",
     "shell.execute_reply.started": "2022-08-15T18:15:12.437007Z"
    }
   },
   "outputs": [
    {
     "name": "stderr",
     "output_type": "stream",
     "text": [
      "# loading the pre-trained ProSE MT model\n",
      "# writing: ../data_test/data_h5/train_small1_mt_sum.h5\n",
      "# embedding with pool=sum\n",
      "                                                                                \r"
     ]
    }
   ],
   "source": [
    "%run ../prose/embed_sequences --model \"{model}\" --pool \"{pool}\" -o \"{path_h5}\" \"{path_fa}\""
   ]
  },
  {
   "cell_type": "markdown",
   "id": "afb1fde4-7c18-481d-8845-c1ced811a8ca",
   "metadata": {
    "tags": []
   },
   "source": [
    "Pooling Operation:  avg"
   ]
  },
  {
   "cell_type": "code",
   "execution_count": 86,
   "id": "f093b94c-1a24-4fbc-8946-70b2cb291d2a",
   "metadata": {
    "execution": {
     "iopub.execute_input": "2022-08-15T18:20:53.158904Z",
     "iopub.status.busy": "2022-08-15T18:20:53.158637Z",
     "iopub.status.idle": "2022-08-15T18:20:53.163709Z",
     "shell.execute_reply": "2022-08-15T18:20:53.162787Z",
     "shell.execute_reply.started": "2022-08-15T18:20:53.158885Z"
    },
    "tags": []
   },
   "outputs": [],
   "source": [
    "pool = 'avg'  \n",
    "path_h5, path_fa = file_paths(file_base, model, pool)"
   ]
  },
  {
   "cell_type": "code",
   "execution_count": 76,
   "id": "23ab67be-6267-43ee-963f-91e1fd685db7",
   "metadata": {
    "execution": {
     "iopub.execute_input": "2022-08-15T18:17:00.877901Z",
     "iopub.status.busy": "2022-08-15T18:17:00.877662Z",
     "iopub.status.idle": "2022-08-15T18:17:03.824969Z",
     "shell.execute_reply": "2022-08-15T18:17:03.823944Z",
     "shell.execute_reply.started": "2022-08-15T18:17:00.877881Z"
    },
    "tags": []
   },
   "outputs": [
    {
     "name": "stderr",
     "output_type": "stream",
     "text": [
      "# loading the pre-trained ProSE MT model\n",
      "# writing: ../data_test/data_h5/train_small1_mt_avg.h5\n",
      "# embedding with pool=avg\n",
      "                                                                                \r"
     ]
    }
   ],
   "source": [
    "%run ../prose/embed_sequences --model \"{model}\" --pool \"{pool}\" -o \"{path_h5}\" \"{path_fa}\""
   ]
  },
  {
   "cell_type": "markdown",
   "id": "5569cdf8-2ade-42f5-96bb-b0b81220532c",
   "metadata": {
    "tags": []
   },
   "source": [
    "Pooling Operation:  max"
   ]
  },
  {
   "cell_type": "code",
   "execution_count": 87,
   "id": "865d986c-8cd6-425c-96d7-37bb47fcf906",
   "metadata": {
    "execution": {
     "iopub.execute_input": "2022-08-15T18:21:04.026603Z",
     "iopub.status.busy": "2022-08-15T18:21:04.026017Z",
     "iopub.status.idle": "2022-08-15T18:21:04.030498Z",
     "shell.execute_reply": "2022-08-15T18:21:04.029403Z",
     "shell.execute_reply.started": "2022-08-15T18:21:04.026580Z"
    },
    "tags": []
   },
   "outputs": [],
   "source": [
    "pool = 'max'  \n",
    "path_h5, path_fa = file_paths(file_base, model, pool)"
   ]
  },
  {
   "cell_type": "code",
   "execution_count": 78,
   "id": "2c5955c6-e7a2-400e-ba9b-06cde172dd5a",
   "metadata": {
    "execution": {
     "iopub.execute_input": "2022-08-15T18:17:03.836594Z",
     "iopub.status.busy": "2022-08-15T18:17:03.836040Z",
     "iopub.status.idle": "2022-08-15T18:17:06.340142Z",
     "shell.execute_reply": "2022-08-15T18:17:06.339225Z",
     "shell.execute_reply.started": "2022-08-15T18:17:03.836510Z"
    },
    "tags": []
   },
   "outputs": [
    {
     "name": "stderr",
     "output_type": "stream",
     "text": [
      "# loading the pre-trained ProSE MT model\n",
      "# writing: ../data_test/data_h5/train_small1_mt_max.h5\n",
      "# embedding with pool=max\n",
      "                                                                                \r"
     ]
    }
   ],
   "source": [
    "%run ../prose/embed_sequences --model \"{model}\" --pool \"{pool}\" -o \"{path_h5}\" \"{path_fa}\""
   ]
  },
  {
   "cell_type": "markdown",
   "id": "1b033fbe-016d-40bb-8d54-1f79e7b23259",
   "metadata": {
    "tags": []
   },
   "source": [
    "Pooling Operation:  none"
   ]
  },
  {
   "cell_type": "code",
   "execution_count": 88,
   "id": "e88292f9-c44b-434b-97bc-6d5ac0c3979e",
   "metadata": {
    "execution": {
     "iopub.execute_input": "2022-08-15T18:21:16.686930Z",
     "iopub.status.busy": "2022-08-15T18:21:16.686662Z",
     "iopub.status.idle": "2022-08-15T18:21:16.691025Z",
     "shell.execute_reply": "2022-08-15T18:21:16.690004Z",
     "shell.execute_reply.started": "2022-08-15T18:21:16.686911Z"
    },
    "tags": []
   },
   "outputs": [],
   "source": [
    "pool = 'none'  \n",
    "path_h5, path_fa = file_paths(file_base, model, pool)"
   ]
  },
  {
   "cell_type": "code",
   "execution_count": 80,
   "id": "2fe37807-e187-4e82-95ca-a3584c26e02d",
   "metadata": {
    "execution": {
     "iopub.execute_input": "2022-08-15T18:17:06.349670Z",
     "iopub.status.busy": "2022-08-15T18:17:06.349442Z",
     "iopub.status.idle": "2022-08-15T18:17:09.092490Z",
     "shell.execute_reply": "2022-08-15T18:17:09.091618Z",
     "shell.execute_reply.started": "2022-08-15T18:17:06.349650Z"
    },
    "tags": []
   },
   "outputs": [
    {
     "name": "stderr",
     "output_type": "stream",
     "text": [
      "# loading the pre-trained ProSE MT model\n",
      "# writing: ../data_test/data_h5/train_small1_mt_none.h5\n",
      "# embedding with pool=none\n",
      "                                                                                \r"
     ]
    }
   ],
   "source": [
    "%run ../prose/embed_sequences --model \"{model}\" --pool \"{pool}\" -o \"{path_h5}\" \"{path_fa}\""
   ]
  },
  {
   "cell_type": "code",
   "execution_count": 84,
   "id": "90a08f3b-10ba-4e71-8e2b-9e07f7444a50",
   "metadata": {
    "execution": {
     "iopub.execute_input": "2022-08-15T18:18:42.406208Z",
     "iopub.status.busy": "2022-08-15T18:18:42.405920Z",
     "iopub.status.idle": "2022-08-15T18:18:42.559718Z",
     "shell.execute_reply": "2022-08-15T18:18:42.558675Z",
     "shell.execute_reply.started": "2022-08-15T18:18:42.406190Z"
    },
    "tags": []
   },
   "outputs": [
    {
     "name": "stdout",
     "output_type": "stream",
     "text": [
      "\u001b[34;42m../data_test/data_h5\u001b[00m\n",
      "├── [225K Aug  4 17:47]  \u001b[01;32mdemo.h5\u001b[00m\n",
      "├── [223K Aug 15 14:17]  \u001b[01;32mtrain_small1_mt_avg.h5\u001b[00m\n",
      "├── [223K Aug 15 14:17]  \u001b[01;32mtrain_small1_mt_max.h5\u001b[00m\n",
      "├── [ 79M Aug 15 14:17]  \u001b[01;32mtrain_small1_mt_none.h5\u001b[00m\n",
      "└── [223K Aug 15 14:15]  \u001b[01;32mtrain_small1_mt_sum.h5\u001b[00m\n",
      "\n",
      "0 directories, 5 files\n"
     ]
    }
   ],
   "source": [
    "# Check the files\n",
    "!tree -DhL 1 \"{os.path.join(data_folder, 'data_h5')}\""
   ]
  },
  {
   "cell_type": "markdown",
   "id": "f32f15f0-1c28-4e79-a33c-13c8e1fec774",
   "metadata": {},
   "source": [
    "### ProSE DLM model - prose_dlm"
   ]
  },
  {
   "cell_type": "code",
   "execution_count": 89,
   "id": "167755e6-d7b3-49f1-9b1c-7449a4633d25",
   "metadata": {
    "execution": {
     "iopub.execute_input": "2022-08-15T18:23:14.105051Z",
     "iopub.status.busy": "2022-08-15T18:23:14.104654Z",
     "iopub.status.idle": "2022-08-15T18:23:14.109374Z",
     "shell.execute_reply": "2022-08-15T18:23:14.108411Z",
     "shell.execute_reply.started": "2022-08-15T18:23:14.105024Z"
    },
    "tags": []
   },
   "outputs": [],
   "source": [
    "model = 'prose_dlm'\n",
    "file_base = 'train_small1'"
   ]
  },
  {
   "cell_type": "markdown",
   "id": "d708ecc9-7864-46d7-8b39-aa91865e4450",
   "metadata": {
    "tags": []
   },
   "source": [
    "Pooling Operation:  sum"
   ]
  },
  {
   "cell_type": "code",
   "execution_count": 90,
   "id": "5b1f19b5-715b-4ed1-bf7d-64e3e100331f",
   "metadata": {
    "execution": {
     "iopub.execute_input": "2022-08-15T18:23:14.112184Z",
     "iopub.status.busy": "2022-08-15T18:23:14.111789Z",
     "iopub.status.idle": "2022-08-15T18:23:14.125102Z",
     "shell.execute_reply": "2022-08-15T18:23:14.124396Z",
     "shell.execute_reply.started": "2022-08-15T18:23:14.112150Z"
    },
    "tags": []
   },
   "outputs": [],
   "source": [
    "pool = 'sum'  \n",
    "path_h5, path_fa = file_paths(file_base, model, pool)"
   ]
  },
  {
   "cell_type": "code",
   "execution_count": 91,
   "id": "96a8ab64-0132-4257-a49b-b5ed6a8ff31d",
   "metadata": {
    "execution": {
     "iopub.execute_input": "2022-08-15T18:23:14.126349Z",
     "iopub.status.busy": "2022-08-15T18:23:14.126082Z",
     "iopub.status.idle": "2022-08-15T18:23:16.632402Z",
     "shell.execute_reply": "2022-08-15T18:23:16.631452Z",
     "shell.execute_reply.started": "2022-08-15T18:23:14.126328Z"
    }
   },
   "outputs": [
    {
     "name": "stderr",
     "output_type": "stream",
     "text": [
      "# loading the pre-trained ProSE DLM model\n",
      "# writing: ../data_test/data_h5/train_small1_dlm_sum.h5\n",
      "# embedding with pool=sum\n",
      "                                                                                \r"
     ]
    }
   ],
   "source": [
    "%run ../prose/embed_sequences --model \"{model}\" --pool \"{pool}\" -o \"{path_h5}\" \"{path_fa}\""
   ]
  },
  {
   "cell_type": "markdown",
   "id": "5ae18e73-fbca-4fe5-851c-a736ed1b7508",
   "metadata": {
    "tags": []
   },
   "source": [
    "Pooling Operation:  avg"
   ]
  },
  {
   "cell_type": "code",
   "execution_count": 92,
   "id": "58361eda-4c0c-4b0a-aceb-fc85f8ed0fad",
   "metadata": {
    "execution": {
     "iopub.execute_input": "2022-08-15T18:23:16.635255Z",
     "iopub.status.busy": "2022-08-15T18:23:16.634969Z",
     "iopub.status.idle": "2022-08-15T18:23:16.639975Z",
     "shell.execute_reply": "2022-08-15T18:23:16.638799Z",
     "shell.execute_reply.started": "2022-08-15T18:23:16.635232Z"
    },
    "tags": []
   },
   "outputs": [],
   "source": [
    "pool = 'avg'  \n",
    "path_h5, path_fa = file_paths(file_base, model, pool)"
   ]
  },
  {
   "cell_type": "code",
   "execution_count": 93,
   "id": "201503d8-140d-4a35-ab6f-23697f504da7",
   "metadata": {
    "execution": {
     "iopub.execute_input": "2022-08-15T18:23:16.641149Z",
     "iopub.status.busy": "2022-08-15T18:23:16.640880Z",
     "iopub.status.idle": "2022-08-15T18:23:18.677960Z",
     "shell.execute_reply": "2022-08-15T18:23:18.677086Z",
     "shell.execute_reply.started": "2022-08-15T18:23:16.641126Z"
    },
    "tags": []
   },
   "outputs": [
    {
     "name": "stderr",
     "output_type": "stream",
     "text": [
      "# loading the pre-trained ProSE DLM model\n",
      "# writing: ../data_test/data_h5/train_small1_dlm_avg.h5\n",
      "# embedding with pool=avg\n",
      "                                                                                \r"
     ]
    }
   ],
   "source": [
    "%run ../prose/embed_sequences --model \"{model}\" --pool \"{pool}\" -o \"{path_h5}\" \"{path_fa}\""
   ]
  },
  {
   "cell_type": "markdown",
   "id": "993b8781-d536-49d6-a7a0-f06d2f126052",
   "metadata": {
    "tags": []
   },
   "source": [
    "Pooling Operation:  max"
   ]
  },
  {
   "cell_type": "code",
   "execution_count": 94,
   "id": "6ab297db-5446-4c7a-8077-045863149719",
   "metadata": {
    "execution": {
     "iopub.execute_input": "2022-08-15T18:23:18.680186Z",
     "iopub.status.busy": "2022-08-15T18:23:18.679863Z",
     "iopub.status.idle": "2022-08-15T18:23:18.684404Z",
     "shell.execute_reply": "2022-08-15T18:23:18.683444Z",
     "shell.execute_reply.started": "2022-08-15T18:23:18.680161Z"
    },
    "tags": []
   },
   "outputs": [],
   "source": [
    "pool = 'max'  \n",
    "path_h5, path_fa = file_paths(file_base, model, pool)"
   ]
  },
  {
   "cell_type": "code",
   "execution_count": 95,
   "id": "51b44c48-94a6-4812-8f0b-6bbbba309331",
   "metadata": {
    "execution": {
     "iopub.execute_input": "2022-08-15T18:23:18.685660Z",
     "iopub.status.busy": "2022-08-15T18:23:18.685439Z",
     "iopub.status.idle": "2022-08-15T18:23:20.696074Z",
     "shell.execute_reply": "2022-08-15T18:23:20.695228Z",
     "shell.execute_reply.started": "2022-08-15T18:23:18.685640Z"
    },
    "tags": []
   },
   "outputs": [
    {
     "name": "stderr",
     "output_type": "stream",
     "text": [
      "# loading the pre-trained ProSE DLM model\n",
      "# writing: ../data_test/data_h5/train_small1_dlm_max.h5\n",
      "# embedding with pool=max\n",
      "                                                                                \r"
     ]
    }
   ],
   "source": [
    "%run ../prose/embed_sequences --model \"{model}\" --pool \"{pool}\" -o \"{path_h5}\" \"{path_fa}\""
   ]
  },
  {
   "cell_type": "markdown",
   "id": "89546006-ebc2-4e6a-be46-68b906a458d0",
   "metadata": {
    "tags": []
   },
   "source": [
    "Pooling Operation:  none"
   ]
  },
  {
   "cell_type": "code",
   "execution_count": 96,
   "id": "6b057b7d-c992-4d7f-a55e-6dd8b9a2b43e",
   "metadata": {
    "execution": {
     "iopub.execute_input": "2022-08-15T18:23:20.697407Z",
     "iopub.status.busy": "2022-08-15T18:23:20.697155Z",
     "iopub.status.idle": "2022-08-15T18:23:20.703591Z",
     "shell.execute_reply": "2022-08-15T18:23:20.702389Z",
     "shell.execute_reply.started": "2022-08-15T18:23:20.697386Z"
    },
    "tags": []
   },
   "outputs": [],
   "source": [
    "pool = 'none'  \n",
    "path_h5, path_fa = file_paths(file_base, model, pool)"
   ]
  },
  {
   "cell_type": "code",
   "execution_count": 97,
   "id": "5f3e6c23-1c52-46db-a0ee-3782dbd048b2",
   "metadata": {
    "execution": {
     "iopub.execute_input": "2022-08-15T18:23:20.705901Z",
     "iopub.status.busy": "2022-08-15T18:23:20.704684Z",
     "iopub.status.idle": "2022-08-15T18:23:22.845055Z",
     "shell.execute_reply": "2022-08-15T18:23:22.844210Z",
     "shell.execute_reply.started": "2022-08-15T18:23:20.705871Z"
    },
    "tags": []
   },
   "outputs": [
    {
     "name": "stderr",
     "output_type": "stream",
     "text": [
      "# loading the pre-trained ProSE DLM model\n",
      "# writing: ../data_test/data_h5/train_small1_dlm_none.h5\n",
      "# embedding with pool=none\n",
      "                                                                                \r"
     ]
    }
   ],
   "source": [
    "%run ../prose/embed_sequences --model \"{model}\" --pool \"{pool}\" -o \"{path_h5}\" \"{path_fa}\""
   ]
  },
  {
   "cell_type": "code",
   "execution_count": 98,
   "id": "03aac707-2ce5-4826-8ecb-ed7c9a1f56ed",
   "metadata": {
    "execution": {
     "iopub.execute_input": "2022-08-15T18:23:22.847169Z",
     "iopub.status.busy": "2022-08-15T18:23:22.846912Z",
     "iopub.status.idle": "2022-08-15T18:23:23.007953Z",
     "shell.execute_reply": "2022-08-15T18:23:23.006869Z",
     "shell.execute_reply.started": "2022-08-15T18:23:22.847148Z"
    },
    "tags": []
   },
   "outputs": [
    {
     "name": "stdout",
     "output_type": "stream",
     "text": [
      "\u001b[34;42m../data_test/data_h5\u001b[00m\n",
      "├── [225K Aug  4 17:47]  \u001b[01;32mdemo.h5\u001b[00m\n",
      "├── [223K Aug 15 14:23]  \u001b[01;32mtrain_small1_dlm_avg.h5\u001b[00m\n",
      "├── [223K Aug 15 14:23]  \u001b[01;32mtrain_small1_dlm_max.h5\u001b[00m\n",
      "├── [ 79M Aug 15 14:23]  \u001b[01;32mtrain_small1_dlm_none.h5\u001b[00m\n",
      "├── [223K Aug 15 14:23]  \u001b[01;32mtrain_small1_dlm_sum.h5\u001b[00m\n",
      "├── [223K Aug 15 14:17]  \u001b[01;32mtrain_small1_mt_avg.h5\u001b[00m\n",
      "├── [223K Aug 15 14:17]  \u001b[01;32mtrain_small1_mt_max.h5\u001b[00m\n",
      "├── [ 79M Aug 15 14:17]  \u001b[01;32mtrain_small1_mt_none.h5\u001b[00m\n",
      "└── [223K Aug 15 14:15]  \u001b[01;32mtrain_small1_mt_sum.h5\u001b[00m\n",
      "\n",
      "0 directories, 9 files\n"
     ]
    }
   ],
   "source": [
    "# Check the files\n",
    "!tree -DhL 1 \"{os.path.join(data_folder, 'data_h5')}\""
   ]
  },
  {
   "cell_type": "code",
   "execution_count": null,
   "id": "924917f1-cea9-45c8-a95f-44d6ee1635b9",
   "metadata": {},
   "outputs": [],
   "source": []
  },
  {
   "cell_type": "code",
   "execution_count": null,
   "id": "a10abf8f-66ec-4e40-a69f-0b5af3c113c0",
   "metadata": {},
   "outputs": [],
   "source": []
  },
  {
   "cell_type": "markdown",
   "id": "9be1598d-b014-424d-910d-e3cd8ec9c901",
   "metadata": {},
   "source": [
    "### DNA Binding Proteins"
   ]
  },
  {
   "cell_type": "code",
   "execution_count": 102,
   "id": "1eeddc57-9bad-417b-a993-408b2c4cf62a",
   "metadata": {
    "execution": {
     "iopub.execute_input": "2022-08-16T14:37:08.528133Z",
     "iopub.status.busy": "2022-08-16T14:37:08.519327Z",
     "iopub.status.idle": "2022-08-16T14:37:08.557938Z",
     "shell.execute_reply": "2022-08-16T14:37:08.556120Z",
     "shell.execute_reply.started": "2022-08-16T14:37:08.527889Z"
    },
    "tags": []
   },
   "outputs": [],
   "source": [
    "# Prepare file names\n",
    "def file_paths(file_name, model, pool, data_folder = '../data_test'):\n",
    "    import os\n",
    "    \n",
    "    mabr = model.split('_')[1]\n",
    "    file_fa = f'{file_name}.fa'\n",
    "    path_fa = os.path.join(data_folder, file_fa)\n",
    "    \n",
    "    file_h5 = f'{file_name}_{mabr}_{pool}.h5'\n",
    "    path_h5 = os.path.join(data_folder, 'train_h5', file_h5)\n",
    "    \n",
    "    return path_h5, path_fa\n"
   ]
  },
  {
   "cell_type": "code",
   "execution_count": 3,
   "id": "f14e685f-aa12-4d69-b2d4-114d76d5de59",
   "metadata": {
    "execution": {
     "iopub.execute_input": "2022-08-27T23:50:22.748049Z",
     "iopub.status.busy": "2022-08-27T23:50:22.747753Z",
     "iopub.status.idle": "2022-08-27T23:50:22.754151Z",
     "shell.execute_reply": "2022-08-27T23:50:22.753160Z",
     "shell.execute_reply.started": "2022-08-27T23:50:22.748018Z"
    },
    "tags": []
   },
   "outputs": [],
   "source": [
    "model = 'prose_dlm'\n",
    "file_base = 'train'\n",
    "data_path = '../data/dna_binding'"
   ]
  },
  {
   "cell_type": "code",
   "execution_count": 104,
   "id": "9ea90f08-76cc-49bb-8413-d68669f92580",
   "metadata": {
    "execution": {
     "iopub.execute_input": "2022-08-16T14:37:41.933107Z",
     "iopub.status.busy": "2022-08-16T14:37:41.932821Z",
     "iopub.status.idle": "2022-08-16T14:37:41.937859Z",
     "shell.execute_reply": "2022-08-16T14:37:41.936846Z",
     "shell.execute_reply.started": "2022-08-16T14:37:41.933068Z"
    },
    "tags": []
   },
   "outputs": [],
   "source": [
    "pool = 'sum'  \n",
    "path_h5, path_fa = file_paths(file_base, model, pool, data_folder=data_path)"
   ]
  },
  {
   "cell_type": "code",
   "execution_count": 105,
   "id": "a851b27a-1b8b-4059-beeb-20699fea7460",
   "metadata": {
    "execution": {
     "iopub.execute_input": "2022-08-16T14:37:45.255959Z",
     "iopub.status.busy": "2022-08-16T14:37:45.255642Z",
     "iopub.status.idle": "2022-08-16T15:19:49.044040Z",
     "shell.execute_reply": "2022-08-16T15:19:49.037211Z",
     "shell.execute_reply.started": "2022-08-16T14:37:45.255898Z"
    },
    "tags": []
   },
   "outputs": [
    {
     "name": "stderr",
     "output_type": "stream",
     "text": [
      "# loading the pre-trained ProSE DLM model\n",
      "# writing: ../data/dna_binding/data_h5/train_dlm_sum.h5\n",
      "# embedding with pool=sum\n",
      "                                                                                \r"
     ]
    }
   ],
   "source": [
    "%run ../prose/embed_sequences --model \"{model}\" --pool \"{pool}\" -o \"{path_h5}\" \"{path_fa}\""
   ]
  },
  {
   "cell_type": "markdown",
   "id": "ff455d88-21b5-4df5-bd0e-0ee728afe917",
   "metadata": {},
   "source": [
    "Processed 14189 sequences in 42m 3.78s using GPU"
   ]
  },
  {
   "cell_type": "markdown",
   "id": "ed51c857-09f3-46f4-81ac-4105295da183",
   "metadata": {},
   "source": [
    "Renamed h5 folder - data_h5 --> train_h5  08/27/22   \n",
    "add the folder for the model source: prose or esm after train_h5"
   ]
  },
  {
   "cell_type": "code",
   "execution_count": 30,
   "id": "6c5287ec-fb3b-4c1a-8700-073a0838f2d0",
   "metadata": {
    "execution": {
     "iopub.execute_input": "2022-08-28T03:56:23.957364Z",
     "iopub.status.busy": "2022-08-28T03:56:23.956983Z",
     "iopub.status.idle": "2022-08-28T03:56:24.103612Z",
     "shell.execute_reply": "2022-08-28T03:56:24.102736Z",
     "shell.execute_reply.started": "2022-08-28T03:56:23.957333Z"
    },
    "tags": []
   },
   "outputs": [
    {
     "name": "stdout",
     "output_type": "stream",
     "text": [
      "\u001b[34;42m../data/dna_binding/train_h5\u001b[00m\n",
      "├── [4.0K Aug 27 22:51]  \u001b[34;42mesm\u001b[00m\n",
      "└── [4.0K Aug 27 23:56]  \u001b[34;42mprose\u001b[00m\n",
      "    └── [339M Aug 16 11:19]  \u001b[01;32mdbp_train_dlm_sum.h5\u001b[00m\n",
      "\n",
      "2 directories, 1 file\n"
     ]
    }
   ],
   "source": [
    "# Check the files\n",
    "!tree -DhL 2 \"{os.path.join(data_path, 'train_h5')}\""
   ]
  },
  {
   "cell_type": "markdown",
   "id": "3db60c57-5a68-4429-ae73-a62dc95136d3",
   "metadata": {},
   "source": [
    "## !!CHANGE file name and add folder\n",
    "\n",
    "start with the task name:   train_dlm_sum.h5 --> dbp_train_dlm_sum.h5\n",
    "\n"
   ]
  },
  {
   "cell_type": "code",
   "execution_count": 102,
   "id": "891b3c9c-9424-4c20-a61c-6d367786c564",
   "metadata": {
    "execution": {
     "iopub.execute_input": "2022-08-16T14:37:08.528133Z",
     "iopub.status.busy": "2022-08-16T14:37:08.519327Z",
     "iopub.status.idle": "2022-08-16T14:37:08.557938Z",
     "shell.execute_reply": "2022-08-16T14:37:08.556120Z",
     "shell.execute_reply.started": "2022-08-16T14:37:08.527889Z"
    },
    "tags": []
   },
   "outputs": [],
   "source": [
    "# Prepare file names\n",
    "def file_paths(file_name, model, pool, data_folder = '../data'):\n",
    "    import os\n",
    "    \n",
    "    mabr = model.split('_')[1]\n",
    "    file_fa = f'{file_name}.fa'\n",
    "    path_fa = os.path.join(data_folder, file_fa)\n",
    "    \n",
    "    file_h5 = f'{file_name}_{mabr}_{pool}.h5'\n",
    "    path_h5 = os.path.join(data_folder, 'train_h5', file_h5)\n",
    "    \n",
    "    return path_h5, path_fa\n"
   ]
  },
  {
   "cell_type": "code",
   "execution_count": 8,
   "id": "1f1b765b-37e2-4618-bfb1-ee4c96234431",
   "metadata": {
    "execution": {
     "iopub.execute_input": "2022-08-28T03:34:05.454708Z",
     "iopub.status.busy": "2022-08-28T03:34:05.454349Z",
     "iopub.status.idle": "2022-08-28T03:34:05.458624Z",
     "shell.execute_reply": "2022-08-28T03:34:05.457777Z",
     "shell.execute_reply.started": "2022-08-28T03:34:05.454688Z"
    },
    "tags": []
   },
   "outputs": [],
   "source": [
    "model = 'prose_dlm'\n",
    "file_base = 'train'\n",
    "data_path = '../data/dna_binding'"
   ]
  },
  {
   "cell_type": "code",
   "execution_count": 17,
   "id": "3d0ab45f-d013-486f-bbe6-88a70731b5b3",
   "metadata": {
    "execution": {
     "iopub.execute_input": "2022-08-28T00:49:04.124281Z",
     "iopub.status.busy": "2022-08-28T00:49:04.122944Z",
     "iopub.status.idle": "2022-08-28T00:49:04.177162Z",
     "shell.execute_reply": "2022-08-28T00:49:04.175299Z",
     "shell.execute_reply.started": "2022-08-28T00:49:04.124210Z"
    },
    "tags": []
   },
   "outputs": [
    {
     "ename": "NameError",
     "evalue": "name 'file_paths' is not defined",
     "output_type": "error",
     "traceback": [
      "\u001b[0;31m---------------------------------------------------------------------------\u001b[0m",
      "\u001b[0;31mNameError\u001b[0m                                 Traceback (most recent call last)",
      "Input \u001b[0;32mIn [17]\u001b[0m, in \u001b[0;36m<cell line: 3>\u001b[0;34m()\u001b[0m\n\u001b[1;32m      1\u001b[0m task \u001b[38;5;241m=\u001b[39m \u001b[38;5;124m'\u001b[39m\u001b[38;5;124macp\u001b[39m\u001b[38;5;124m'\u001b[39m\n\u001b[1;32m      2\u001b[0m pool \u001b[38;5;241m=\u001b[39m \u001b[38;5;124m'\u001b[39m\u001b[38;5;124msum\u001b[39m\u001b[38;5;124m'\u001b[39m  \n\u001b[0;32m----> 3\u001b[0m path_h5, path_fa \u001b[38;5;241m=\u001b[39m \u001b[43mfile_paths\u001b[49m(file_base, model, pool, data_folder\u001b[38;5;241m=\u001b[39mdata_path)\n\u001b[1;32m      4\u001b[0m \u001b[38;5;28mprint\u001b[39m(path_fa, \u001b[38;5;124m'\u001b[39m\u001b[38;5;130;01m\\n\u001b[39;00m\u001b[38;5;124m'\u001b[39m, path_h5)\n",
      "\u001b[0;31mNameError\u001b[0m: name 'file_paths' is not defined"
     ]
    }
   ],
   "source": [
    "task = 'acp'\n",
    "pool = 'sum'  \n",
    "path_h5, path_fa = file_paths(file_base, model, pool, data_folder=data_path)\n",
    "print(path_fa, '\\n', path_h5)"
   ]
  },
  {
   "cell_type": "code",
   "execution_count": 26,
   "id": "aa8e010f-7aea-4725-ba7c-4b57a3e6c5ad",
   "metadata": {
    "execution": {
     "iopub.execute_input": "2022-08-28T03:52:48.894893Z",
     "iopub.status.busy": "2022-08-28T03:52:48.894597Z",
     "iopub.status.idle": "2022-08-28T03:52:48.906983Z",
     "shell.execute_reply": "2022-08-28T03:52:48.906034Z",
     "shell.execute_reply.started": "2022-08-28T03:52:48.894871Z"
    },
    "tags": []
   },
   "outputs": [
    {
     "name": "stdout",
     "output_type": "stream",
     "text": [
      "../data/dna_binding\n"
     ]
    },
    {
     "data": {
      "text/plain": [
       "'../data/dna_binding/train.fa'"
      ]
     },
     "execution_count": 26,
     "metadata": {},
     "output_type": "execute_result"
    }
   ],
   "source": [
    "data_folder = '../data'\n",
    "file_fa = f'{file_base}.fa'\n",
    "\n",
    "task = 'dbp'\n",
    "task_folder = task\n",
    "if task == 'dbp':\n",
    "    task_folder = 'dna_binding'\n",
    "    \n",
    "data_path = os.path.join(data_folder, task_folder, )\n",
    "print(data_path)\n",
    "path_fa = os.path.join(data_path, file_fa)\n",
    "path_fa"
   ]
  },
  {
   "cell_type": "code",
   "execution_count": 10,
   "id": "2d490747-dacf-4c61-84de-ff6140686eff",
   "metadata": {
    "execution": {
     "iopub.execute_input": "2022-08-28T03:34:35.704138Z",
     "iopub.status.busy": "2022-08-28T03:34:35.703874Z",
     "iopub.status.idle": "2022-08-28T03:34:35.716010Z",
     "shell.execute_reply": "2022-08-28T03:34:35.715105Z",
     "shell.execute_reply.started": "2022-08-28T03:34:35.704119Z"
    },
    "tags": []
   },
   "outputs": [
    {
     "data": {
      "text/plain": [
       "['test_data.csv',\n",
       " 'test_data.fa',\n",
       " 'test_h5',\n",
       " 'test_parquet',\n",
       " 'train_data.csv',\n",
       " 'train_data.fa',\n",
       " 'train_h5',\n",
       " 'train_parquet']"
      ]
     },
     "execution_count": 10,
     "metadata": {},
     "output_type": "execute_result"
    }
   ],
   "source": [
    "files =os.listdir(data_path)\n",
    "files"
   ]
  },
  {
   "cell_type": "code",
   "execution_count": 12,
   "id": "f7f48c5e-0c4c-4ee8-b654-2d1e150e4f72",
   "metadata": {
    "execution": {
     "iopub.execute_input": "2022-08-28T03:35:41.936114Z",
     "iopub.status.busy": "2022-08-28T03:35:41.935873Z",
     "iopub.status.idle": "2022-08-28T03:35:41.942051Z",
     "shell.execute_reply": "2022-08-28T03:35:41.940990Z",
     "shell.execute_reply.started": "2022-08-28T03:35:41.936096Z"
    },
    "tags": []
   },
   "outputs": [
    {
     "name": "stdout",
     "output_type": "stream",
     "text": [
      "train_data.fa\n"
     ]
    }
   ],
   "source": [
    "for f in files:\n",
    "    if file_base in f and 'fa' in f:\n",
    "        file_fa = f\n",
    "print(file_fa)"
   ]
  },
  {
   "cell_type": "code",
   "execution_count": 13,
   "id": "a3000263-2e5e-4693-9d3b-0b0c34f5ea78",
   "metadata": {
    "execution": {
     "iopub.execute_input": "2022-08-28T03:36:01.661455Z",
     "iopub.status.busy": "2022-08-28T03:36:01.661217Z",
     "iopub.status.idle": "2022-08-28T03:36:01.668861Z",
     "shell.execute_reply": "2022-08-28T03:36:01.667816Z",
     "shell.execute_reply.started": "2022-08-28T03:36:01.661439Z"
    },
    "tags": []
   },
   "outputs": [
    {
     "data": {
      "text/plain": [
       "'../data/acp/train_data.fa'"
      ]
     },
     "execution_count": 13,
     "metadata": {},
     "output_type": "execute_result"
    }
   ],
   "source": [
    "path_fa = os.path.join(data_path, file_fa)\n",
    "path_fa"
   ]
  },
  {
   "cell_type": "code",
   "execution_count": 19,
   "id": "81625a85-b4b0-4112-a0ac-52d517d525c0",
   "metadata": {
    "execution": {
     "iopub.execute_input": "2022-08-28T03:38:15.235614Z",
     "iopub.status.busy": "2022-08-28T03:38:15.235359Z",
     "iopub.status.idle": "2022-08-28T03:38:15.241226Z",
     "shell.execute_reply": "2022-08-28T03:38:15.240237Z",
     "shell.execute_reply.started": "2022-08-28T03:38:15.235595Z"
    },
    "tags": []
   },
   "outputs": [
    {
     "name": "stdout",
     "output_type": "stream",
     "text": [
      "../data/acp/train_h5/prose/acp_train_dlm_sum.h5\n"
     ]
    }
   ],
   "source": [
    " mabr = model.split('_')[1]\n",
    "file_h5 = f'{task}_{file_base}_{mabr}_{pool}.h5'\n",
    "dir_h5 = f'{file_base}_h5'\n",
    "\n",
    "path_h5 = os.path.join(data_path, 'train_h5', source, file_h5)\n",
    "print(path_h5)"
   ]
  },
  {
   "cell_type": "code",
   "execution_count": null,
   "id": "d38570b2-e859-4969-936a-478bff68ff3f",
   "metadata": {},
   "outputs": [],
   "source": []
  },
  {
   "cell_type": "code",
   "execution_count": null,
   "id": "219e9e92-5485-4c4a-9ba1-30a9090653e5",
   "metadata": {},
   "outputs": [],
   "source": []
  },
  {
   "cell_type": "code",
   "execution_count": 5,
   "id": "31e96f79-1f28-4712-9371-c2aef587f9c7",
   "metadata": {
    "execution": {
     "iopub.execute_input": "2022-08-28T03:33:33.781991Z",
     "iopub.status.busy": "2022-08-28T03:33:33.781698Z",
     "iopub.status.idle": "2022-08-28T03:33:33.787112Z",
     "shell.execute_reply": "2022-08-28T03:33:33.786247Z",
     "shell.execute_reply.started": "2022-08-28T03:33:33.781970Z"
    }
   },
   "outputs": [],
   "source": [
    "import os"
   ]
  },
  {
   "cell_type": "code",
   "execution_count": 24,
   "id": "edfa0687-d07f-4beb-b6a1-13f384e7584b",
   "metadata": {
    "execution": {
     "iopub.execute_input": "2022-08-28T03:51:50.332755Z",
     "iopub.status.busy": "2022-08-28T03:51:50.324500Z",
     "iopub.status.idle": "2022-08-28T03:51:50.363085Z",
     "shell.execute_reply": "2022-08-28T03:51:50.361258Z",
     "shell.execute_reply.started": "2022-08-28T03:51:50.332401Z"
    },
    "tags": []
   },
   "outputs": [],
   "source": [
    "source = 'prose'\n",
    "task = 'dbp'\n",
    "file_base = 'train'\n",
    "model = 'prose_dlm'\n",
    "pool = 'sum'  \n",
    "\n"
   ]
  },
  {
   "cell_type": "code",
   "execution_count": 20,
   "id": "7aaa912d-8a4f-4875-84f2-182562d339a1",
   "metadata": {
    "execution": {
     "iopub.execute_input": "2022-08-28T03:39:00.294906Z",
     "iopub.status.busy": "2022-08-28T03:39:00.293072Z",
     "iopub.status.idle": "2022-08-28T03:39:00.302090Z",
     "shell.execute_reply": "2022-08-28T03:39:00.301202Z",
     "shell.execute_reply.started": "2022-08-28T03:39:00.294879Z"
    },
    "tags": []
   },
   "outputs": [],
   "source": [
    "# Prepare file names\n",
    "def file_paths(source, task, file_base, model, pool, data_folder = '../data'):\n",
    "  \n",
    "    mabr = model.split('_')[1]\n",
    "    \n",
    "    task_folder = task\n",
    "    if task == 'dbp':\n",
    "        task_folder = 'dna_binding'\n",
    "    \n",
    "    data_path = os.path.join(data_folder, task_folder)\n",
    "    # find fasta file for train/test/all\n",
    "    files = os.listdir(data_path)\n",
    "    for f in files:\n",
    "        if file_base in f and 'fa' in f:\n",
    "            file_fa = f\n",
    " \n",
    "    path_fa = os.path.join(data_path, file_fa)\n",
    "    \n",
    "    \n",
    "    dir_h5 = f'{file_name}_h5'\n",
    "    file_h5 = f'{task}_{file_name}_{mabr}_{pool}.h5'\n",
    "    path_h5 = os.path.join(data_path, dir_h5, source, file_h5)\n",
    "    \n",
    "    return path_h5, path_fa\n"
   ]
  },
  {
   "cell_type": "code",
   "execution_count": 21,
   "id": "9f53331e-cb0a-448e-b9a9-4cb682560223",
   "metadata": {
    "execution": {
     "iopub.execute_input": "2022-08-28T03:39:02.488590Z",
     "iopub.status.busy": "2022-08-28T03:39:02.488345Z",
     "iopub.status.idle": "2022-08-28T03:39:02.494950Z",
     "shell.execute_reply": "2022-08-28T03:39:02.493864Z",
     "shell.execute_reply.started": "2022-08-28T03:39:02.488572Z"
    },
    "tags": []
   },
   "outputs": [
    {
     "name": "stdout",
     "output_type": "stream",
     "text": [
      "../data/acp/train_data.fa \n",
      " ../data/acp/train_h5/prose/acp_train_dlm_sum.h5\n"
     ]
    }
   ],
   "source": [
    "print(path_fa, '\\n', path_h5)"
   ]
  },
  {
   "cell_type": "code",
   "execution_count": 46,
   "id": "a73aa51b-4606-463f-a61f-a81d33fad607",
   "metadata": {
    "execution": {
     "iopub.execute_input": "2022-08-28T03:22:08.122384Z",
     "iopub.status.busy": "2022-08-28T03:22:08.122132Z",
     "iopub.status.idle": "2022-08-28T03:22:08.128229Z",
     "shell.execute_reply": "2022-08-28T03:22:08.127406Z",
     "shell.execute_reply.started": "2022-08-28T03:22:08.122366Z"
    },
    "tags": []
   },
   "outputs": [
    {
     "data": {
      "text/plain": [
       "'../data/dna_binding'"
      ]
     },
     "execution_count": 46,
     "metadata": {},
     "output_type": "execute_result"
    }
   ],
   "source": [
    "data_path"
   ]
  },
  {
   "cell_type": "code",
   "execution_count": null,
   "id": "6312da9b-a98c-41a7-870f-8fd33492700f",
   "metadata": {},
   "outputs": [],
   "source": []
  }
 ],
 "metadata": {
  "kernelspec": {
   "display_name": "sa",
   "language": "python",
   "name": "conda-env-sa-py"
  },
  "language_info": {
   "codemirror_mode": {
    "name": "ipython",
    "version": 3
   },
   "file_extension": ".py",
   "mimetype": "text/x-python",
   "name": "python",
   "nbconvert_exporter": "python",
   "pygments_lexer": "ipython3",
   "version": "3.8.13"
  },
  "widgets": {
   "application/vnd.jupyter.widget-state+json": {
    "state": {},
    "version_major": 2,
    "version_minor": 0
   }
  }
 },
 "nbformat": 4,
 "nbformat_minor": 5
}
