{
 "cells": [
  {
   "cell_type": "code",
   "execution_count": 1,
   "id": "5d776b01-27f1-48d4-9a49-1462c7b40023",
   "metadata": {
    "execution": {
     "iopub.execute_input": "2022-09-04T03:52:54.099585Z",
     "iopub.status.busy": "2022-09-04T03:52:54.099314Z",
     "iopub.status.idle": "2022-09-04T03:52:55.719592Z",
     "shell.execute_reply": "2022-09-04T03:52:55.718853Z",
     "shell.execute_reply.started": "2022-09-04T03:52:54.099536Z"
    },
    "tags": []
   },
   "outputs": [],
   "source": [
    "import torch\n",
    "import esm\n",
    "import os\n",
    "import pathlib\n",
    "import numpy as np"
   ]
  },
  {
   "cell_type": "markdown",
   "id": "24234851-139e-4a34-8721-28246a6bccda",
   "metadata": {},
   "source": [
    "???"
   ]
  },
  {
   "cell_type": "code",
   "execution_count": 5,
   "id": "38714993-88f5-4228-aff6-6b2c393dbf98",
   "metadata": {
    "execution": {
     "iopub.execute_input": "2022-08-28T20:35:02.138409Z",
     "iopub.status.busy": "2022-08-28T20:35:02.137612Z",
     "iopub.status.idle": "2022-08-28T20:36:39.545843Z",
     "shell.execute_reply": "2022-08-28T20:36:39.523486Z",
     "shell.execute_reply.started": "2022-08-28T20:35:02.138347Z"
    },
    "tags": []
   },
   "outputs": [
    {
     "name": "stderr",
     "output_type": "stream",
     "text": [
      "Downloading: \"https://github.com/facebookresearch/esm/zipball/main\" to /home/damir/.cache/torch/hub/main.zip\n",
      "Downloading: \"https://dl.fbaipublicfiles.com/fair-esm/models/esm2_t33_650M_UR50D.pt\" to /home/damir/.cache/torch/hub/checkpoints/esm2_t33_650M_UR50D.pt\n",
      "Downloading: \"https://dl.fbaipublicfiles.com/fair-esm/regression/esm2_t33_650M_UR50D-contact-regression.pt\" to /home/damir/.cache/torch/hub/checkpoints/esm2_t33_650M_UR50D-contact-regression.pt\n"
     ]
    }
   ],
   "source": [
    "model, alphabet = torch.hub.load(\"facebookresearch/esm:main\", \"esm2_t33_650M_UR50D\")"
   ]
  },
  {
   "cell_type": "markdown",
   "id": "ad6fd1ca-cf5c-47d3-a9c6-52da4104d547",
   "metadata": {},
   "source": [
    "Downloaded pretrained model  ???"
   ]
  },
  {
   "cell_type": "code",
   "execution_count": 5,
   "id": "f6a37807-9e3d-4d48-a666-65176da7114e",
   "metadata": {
    "execution": {
     "iopub.execute_input": "2022-08-29T13:17:02.186180Z",
     "iopub.status.busy": "2022-08-29T13:17:02.172936Z",
     "iopub.status.idle": "2022-08-29T13:23:59.571680Z",
     "shell.execute_reply": "2022-08-29T13:23:59.532397Z",
     "shell.execute_reply.started": "2022-08-29T13:17:02.185678Z"
    },
    "tags": []
   },
   "outputs": [
    {
     "name": "stderr",
     "output_type": "stream",
     "text": [
      "Downloading: \"https://dl.fbaipublicfiles.com/fair-esm/models/esm1v_t33_650M_UR90S_1.pt\" to /home/damir/.cache/torch/hub/checkpoints/esm1v_t33_650M_UR90S_1.pt\n"
     ]
    }
   ],
   "source": [
    "model, alphabet = esm.pretrained.esm1v_t33_650M_UR90S_1()"
   ]
  },
  {
   "cell_type": "markdown",
   "id": "7528b8bc-0a8f-4c92-b4fe-65ca330eb9c9",
   "metadata": {},
   "source": [
    "Path to the script extract.py"
   ]
  },
  {
   "cell_type": "code",
   "execution_count": 2,
   "id": "b40bc634-385c-4b9b-8d97-b5957dfc0e9c",
   "metadata": {
    "execution": {
     "iopub.execute_input": "2022-09-01T20:06:13.129240Z",
     "iopub.status.busy": "2022-09-01T20:06:13.122123Z",
     "iopub.status.idle": "2022-09-01T20:06:13.167803Z",
     "shell.execute_reply": "2022-09-01T20:06:13.164809Z",
     "shell.execute_reply.started": "2022-09-01T20:06:13.129074Z"
    },
    "tags": []
   },
   "outputs": [
    {
     "data": {
      "text/plain": [
       "'/home/damir/.cache/torch/hub/facebookresearch_esm_main/scripts/extract.py'"
      ]
     },
     "execution_count": 2,
     "metadata": {},
     "output_type": "execute_result"
    }
   ],
   "source": [
    "esm_scripts_path = '/home/damir/.cache/torch/hub/facebookresearch_esm_main/scripts'\n",
    "extract = os.path.join(esm_scripts_path, 'extract.py')\n",
    "extract"
   ]
  },
  {
   "cell_type": "code",
   "execution_count": 32,
   "id": "a13c3ff9-c7c1-4b66-8f4e-69a81c0a9da3",
   "metadata": {
    "execution": {
     "iopub.execute_input": "2022-08-29T20:04:54.959947Z",
     "iopub.status.busy": "2022-08-29T20:04:54.945085Z",
     "iopub.status.idle": "2022-08-29T20:04:55.084598Z",
     "shell.execute_reply": "2022-08-29T20:04:55.082060Z",
     "shell.execute_reply.started": "2022-08-29T20:04:54.958942Z"
    },
    "tags": []
   },
   "outputs": [
    {
     "data": {
      "text/plain": [
       "PosixPath('/home/damir/.cache/torch/hub/facebookresearch_esm_main/scripts/extract.py')"
      ]
     },
     "execution_count": 32,
     "metadata": {},
     "output_type": "execute_result"
    }
   ],
   "source": [
    "# Using pathlib\n",
    "esm_scripts_path = pathlib.Path(r'/home/damir/.cache/torch/hub/facebookresearch_esm_main/scripts')\n",
    "extract = pathlib.Path.joinpath(esm_scripts_path, 'extract.py')\n",
    "extract"
   ]
  },
  {
   "cell_type": "markdown",
   "id": "cdb54109-2031-46df-81f1-9a7c8e9c1bd2",
   "metadata": {},
   "source": [
    "Run the script"
   ]
  },
  {
   "cell_type": "markdown",
   "id": "ae2579f1-92f9-48f1-aeef-9e0e5a52b717",
   "metadata": {},
   "source": [
    "esm example fasta file with first 26 sequences only"
   ]
  },
  {
   "cell_type": "code",
   "execution_count": 11,
   "id": "54846a07-0185-49e0-a52e-d6f957325a0f",
   "metadata": {
    "execution": {
     "iopub.execute_input": "2022-08-29T13:31:54.643461Z",
     "iopub.status.busy": "2022-08-29T13:31:54.643158Z",
     "iopub.status.idle": "2022-08-29T13:33:57.165939Z",
     "shell.execute_reply": "2022-08-29T13:33:57.141609Z",
     "shell.execute_reply.started": "2022-08-29T13:31:54.643442Z"
    },
    "scrolled": true,
    "tags": []
   },
   "outputs": [
    {
     "name": "stdout",
     "output_type": "stream",
     "text": [
      "Transferred model to GPU\n",
      "Read ../data_test/esm/P62593_small.fasta with 26 sequences\n",
      "Processing 1 of 2 batches (14 sequences)\n",
      "Processing 2 of 2 batches (12 sequences)\n"
     ]
    }
   ],
   "source": [
    "%run \"{extract}\" esm1v_t33_650M_UR90S_1 ../data_test/esm/P62593_small.fasta ../data_test/dna_train/ --repr_layers 33 --include mean "
   ]
  },
  {
   "cell_type": "markdown",
   "id": "b820d874-dada-4e7d-9391-4313b6de3ddc",
   "metadata": {},
   "source": [
    "**small test file created for prose, train_small.fa  \n",
    "it fails on a sequence longer than max. length of 1024**\n"
   ]
  },
  {
   "cell_type": "code",
   "execution_count": 13,
   "id": "c75f84af-a4d1-4f7c-ac5a-0c19be187003",
   "metadata": {
    "execution": {
     "iopub.execute_input": "2022-08-29T15:30:03.539448Z",
     "iopub.status.busy": "2022-08-29T15:30:03.532750Z",
     "iopub.status.idle": "2022-08-29T15:33:06.911928Z",
     "shell.execute_reply": "2022-08-29T15:33:06.905108Z",
     "shell.execute_reply.started": "2022-08-29T15:30:03.539165Z"
    },
    "scrolled": true,
    "tags": []
   },
   "outputs": [
    {
     "name": "stdout",
     "output_type": "stream",
     "text": [
      "Transferred model to GPU\n",
      "Read ../data_test/data_fa/train_small1.fa with 9 sequences\n",
      "Processing 1 of 2 batches (7 sequences)\n",
      "Processing 2 of 2 batches (2 sequences)\n"
     ]
    },
    {
     "ename": "ValueError",
     "evalue": "Sequence length 1060 above maximum  sequence length of 1024",
     "output_type": "error",
     "traceback": [
      "\u001b[0;31m---------------------------------------------------------------------------\u001b[0m",
      "\u001b[0;31mValueError\u001b[0m                                Traceback (most recent call last)",
      "File \u001b[0;32m~/.cache/torch/hub/facebookresearch_esm_main/scripts/extract.py:140\u001b[0m, in \u001b[0;36m<module>\u001b[0;34m\u001b[0m\n\u001b[1;32m    138\u001b[0m parser \u001b[38;5;241m=\u001b[39m create_parser()\n\u001b[1;32m    139\u001b[0m args \u001b[38;5;241m=\u001b[39m parser\u001b[38;5;241m.\u001b[39mparse_args()\n\u001b[0;32m--> 140\u001b[0m \u001b[43mmain\u001b[49m\u001b[43m(\u001b[49m\u001b[43margs\u001b[49m\u001b[43m)\u001b[49m\n",
      "File \u001b[0;32m~/.cache/torch/hub/facebookresearch_esm_main/scripts/extract.py:99\u001b[0m, in \u001b[0;36mmain\u001b[0;34m(args)\u001b[0m\n\u001b[1;32m     96\u001b[0m \u001b[38;5;28;01mif\u001b[39;00m args\u001b[38;5;241m.\u001b[39mtruncate:\n\u001b[1;32m     97\u001b[0m     toks \u001b[38;5;241m=\u001b[39m toks[:, :\u001b[38;5;241m1022\u001b[39m]\n\u001b[0;32m---> 99\u001b[0m out \u001b[38;5;241m=\u001b[39m \u001b[43mmodel\u001b[49m\u001b[43m(\u001b[49m\u001b[43mtoks\u001b[49m\u001b[43m,\u001b[49m\u001b[43m \u001b[49m\u001b[43mrepr_layers\u001b[49m\u001b[38;5;241;43m=\u001b[39;49m\u001b[43mrepr_layers\u001b[49m\u001b[43m,\u001b[49m\u001b[43m \u001b[49m\u001b[43mreturn_contacts\u001b[49m\u001b[38;5;241;43m=\u001b[39;49m\u001b[43mreturn_contacts\u001b[49m\u001b[43m)\u001b[49m\n\u001b[1;32m    101\u001b[0m logits \u001b[38;5;241m=\u001b[39m out[\u001b[38;5;124m\"\u001b[39m\u001b[38;5;124mlogits\u001b[39m\u001b[38;5;124m\"\u001b[39m]\u001b[38;5;241m.\u001b[39mto(device\u001b[38;5;241m=\u001b[39m\u001b[38;5;124m\"\u001b[39m\u001b[38;5;124mcpu\u001b[39m\u001b[38;5;124m\"\u001b[39m)\n\u001b[1;32m    102\u001b[0m representations \u001b[38;5;241m=\u001b[39m {\n\u001b[1;32m    103\u001b[0m     layer: t\u001b[38;5;241m.\u001b[39mto(device\u001b[38;5;241m=\u001b[39m\u001b[38;5;124m\"\u001b[39m\u001b[38;5;124mcpu\u001b[39m\u001b[38;5;124m\"\u001b[39m) \u001b[38;5;28;01mfor\u001b[39;00m layer, t \u001b[38;5;129;01min\u001b[39;00m out[\u001b[38;5;124m\"\u001b[39m\u001b[38;5;124mrepresentations\u001b[39m\u001b[38;5;124m\"\u001b[39m]\u001b[38;5;241m.\u001b[39mitems()\n\u001b[1;32m    104\u001b[0m }\n",
      "File \u001b[0;32m~/miniconda3/envs/sa/lib/python3.8/site-packages/torch/nn/modules/module.py:1130\u001b[0m, in \u001b[0;36mModule._call_impl\u001b[0;34m(self, *input, **kwargs)\u001b[0m\n\u001b[1;32m   1126\u001b[0m \u001b[38;5;66;03m# If we don't have any hooks, we want to skip the rest of the logic in\u001b[39;00m\n\u001b[1;32m   1127\u001b[0m \u001b[38;5;66;03m# this function, and just call forward.\u001b[39;00m\n\u001b[1;32m   1128\u001b[0m \u001b[38;5;28;01mif\u001b[39;00m \u001b[38;5;129;01mnot\u001b[39;00m (\u001b[38;5;28mself\u001b[39m\u001b[38;5;241m.\u001b[39m_backward_hooks \u001b[38;5;129;01mor\u001b[39;00m \u001b[38;5;28mself\u001b[39m\u001b[38;5;241m.\u001b[39m_forward_hooks \u001b[38;5;129;01mor\u001b[39;00m \u001b[38;5;28mself\u001b[39m\u001b[38;5;241m.\u001b[39m_forward_pre_hooks \u001b[38;5;129;01mor\u001b[39;00m _global_backward_hooks\n\u001b[1;32m   1129\u001b[0m         \u001b[38;5;129;01mor\u001b[39;00m _global_forward_hooks \u001b[38;5;129;01mor\u001b[39;00m _global_forward_pre_hooks):\n\u001b[0;32m-> 1130\u001b[0m     \u001b[38;5;28;01mreturn\u001b[39;00m \u001b[43mforward_call\u001b[49m\u001b[43m(\u001b[49m\u001b[38;5;241;43m*\u001b[39;49m\u001b[38;5;28;43minput\u001b[39;49m\u001b[43m,\u001b[49m\u001b[43m \u001b[49m\u001b[38;5;241;43m*\u001b[39;49m\u001b[38;5;241;43m*\u001b[39;49m\u001b[43mkwargs\u001b[49m\u001b[43m)\u001b[49m\n\u001b[1;32m   1131\u001b[0m \u001b[38;5;66;03m# Do not call functions when jit is used\u001b[39;00m\n\u001b[1;32m   1132\u001b[0m full_backward_hooks, non_full_backward_hooks \u001b[38;5;241m=\u001b[39m [], []\n",
      "File \u001b[0;32m~/miniconda3/envs/sa/lib/python3.8/site-packages/esm/model/esm1.py:133\u001b[0m, in \u001b[0;36mProteinBertModel.forward\u001b[0;34m(self, tokens, repr_layers, need_head_weights, return_contacts)\u001b[0m\n\u001b[1;32m    130\u001b[0m     mask_ratio_observed \u001b[38;5;241m=\u001b[39m (tokens \u001b[38;5;241m==\u001b[39m \u001b[38;5;28mself\u001b[39m\u001b[38;5;241m.\u001b[39mmask_idx)\u001b[38;5;241m.\u001b[39msum(\u001b[38;5;241m-\u001b[39m\u001b[38;5;241m1\u001b[39m)\u001b[38;5;241m.\u001b[39mfloat() \u001b[38;5;241m/\u001b[39m src_lengths\n\u001b[1;32m    131\u001b[0m     x \u001b[38;5;241m=\u001b[39m x \u001b[38;5;241m*\u001b[39m (\u001b[38;5;241m1\u001b[39m \u001b[38;5;241m-\u001b[39m mask_ratio_train) \u001b[38;5;241m/\u001b[39m (\u001b[38;5;241m1\u001b[39m \u001b[38;5;241m-\u001b[39m mask_ratio_observed)[:, \u001b[38;5;28;01mNone\u001b[39;00m, \u001b[38;5;28;01mNone\u001b[39;00m]\n\u001b[0;32m--> 133\u001b[0m x \u001b[38;5;241m=\u001b[39m x \u001b[38;5;241m+\u001b[39m \u001b[38;5;28;43mself\u001b[39;49m\u001b[38;5;241;43m.\u001b[39;49m\u001b[43membed_positions\u001b[49m\u001b[43m(\u001b[49m\u001b[43mtokens\u001b[49m\u001b[43m)\u001b[49m\n\u001b[1;32m    135\u001b[0m \u001b[38;5;28;01mif\u001b[39;00m \u001b[38;5;28mself\u001b[39m\u001b[38;5;241m.\u001b[39mmodel_version \u001b[38;5;241m==\u001b[39m \u001b[38;5;124m\"\u001b[39m\u001b[38;5;124mESM-1b\u001b[39m\u001b[38;5;124m\"\u001b[39m:\n\u001b[1;32m    136\u001b[0m     \u001b[38;5;28;01mif\u001b[39;00m \u001b[38;5;28mself\u001b[39m\u001b[38;5;241m.\u001b[39memb_layer_norm_before:\n",
      "File \u001b[0;32m~/miniconda3/envs/sa/lib/python3.8/site-packages/torch/nn/modules/module.py:1130\u001b[0m, in \u001b[0;36mModule._call_impl\u001b[0;34m(self, *input, **kwargs)\u001b[0m\n\u001b[1;32m   1126\u001b[0m \u001b[38;5;66;03m# If we don't have any hooks, we want to skip the rest of the logic in\u001b[39;00m\n\u001b[1;32m   1127\u001b[0m \u001b[38;5;66;03m# this function, and just call forward.\u001b[39;00m\n\u001b[1;32m   1128\u001b[0m \u001b[38;5;28;01mif\u001b[39;00m \u001b[38;5;129;01mnot\u001b[39;00m (\u001b[38;5;28mself\u001b[39m\u001b[38;5;241m.\u001b[39m_backward_hooks \u001b[38;5;129;01mor\u001b[39;00m \u001b[38;5;28mself\u001b[39m\u001b[38;5;241m.\u001b[39m_forward_hooks \u001b[38;5;129;01mor\u001b[39;00m \u001b[38;5;28mself\u001b[39m\u001b[38;5;241m.\u001b[39m_forward_pre_hooks \u001b[38;5;129;01mor\u001b[39;00m _global_backward_hooks\n\u001b[1;32m   1129\u001b[0m         \u001b[38;5;129;01mor\u001b[39;00m _global_forward_hooks \u001b[38;5;129;01mor\u001b[39;00m _global_forward_pre_hooks):\n\u001b[0;32m-> 1130\u001b[0m     \u001b[38;5;28;01mreturn\u001b[39;00m \u001b[43mforward_call\u001b[49m\u001b[43m(\u001b[49m\u001b[38;5;241;43m*\u001b[39;49m\u001b[38;5;28;43minput\u001b[39;49m\u001b[43m,\u001b[49m\u001b[43m \u001b[49m\u001b[38;5;241;43m*\u001b[39;49m\u001b[38;5;241;43m*\u001b[39;49m\u001b[43mkwargs\u001b[49m\u001b[43m)\u001b[49m\n\u001b[1;32m   1131\u001b[0m \u001b[38;5;66;03m# Do not call functions when jit is used\u001b[39;00m\n\u001b[1;32m   1132\u001b[0m full_backward_hooks, non_full_backward_hooks \u001b[38;5;241m=\u001b[39m [], []\n",
      "File \u001b[0;32m~/miniconda3/envs/sa/lib/python3.8/site-packages/esm/modules.py:243\u001b[0m, in \u001b[0;36mLearnedPositionalEmbedding.forward\u001b[0;34m(self, input)\u001b[0m\n\u001b[1;32m    241\u001b[0m \u001b[38;5;124;03m\"\"\"Input is expected to be of size [bsz x seqlen].\"\"\"\u001b[39;00m\n\u001b[1;32m    242\u001b[0m \u001b[38;5;28;01mif\u001b[39;00m \u001b[38;5;28minput\u001b[39m\u001b[38;5;241m.\u001b[39msize(\u001b[38;5;241m1\u001b[39m) \u001b[38;5;241m>\u001b[39m \u001b[38;5;28mself\u001b[39m\u001b[38;5;241m.\u001b[39mmax_positions:\n\u001b[0;32m--> 243\u001b[0m     \u001b[38;5;28;01mraise\u001b[39;00m \u001b[38;5;167;01mValueError\u001b[39;00m(\n\u001b[1;32m    244\u001b[0m         \u001b[38;5;124mf\u001b[39m\u001b[38;5;124m\"\u001b[39m\u001b[38;5;124mSequence length \u001b[39m\u001b[38;5;132;01m{\u001b[39;00m\u001b[38;5;28minput\u001b[39m\u001b[38;5;241m.\u001b[39msize(\u001b[38;5;241m1\u001b[39m)\u001b[38;5;132;01m}\u001b[39;00m\u001b[38;5;124m above maximum \u001b[39m\u001b[38;5;124m\"\u001b[39m\n\u001b[1;32m    245\u001b[0m         \u001b[38;5;124mf\u001b[39m\u001b[38;5;124m\"\u001b[39m\u001b[38;5;124m sequence length of \u001b[39m\u001b[38;5;132;01m{\u001b[39;00m\u001b[38;5;28mself\u001b[39m\u001b[38;5;241m.\u001b[39mmax_positions\u001b[38;5;132;01m}\u001b[39;00m\u001b[38;5;124m\"\u001b[39m\n\u001b[1;32m    246\u001b[0m     )\n\u001b[1;32m    247\u001b[0m mask \u001b[38;5;241m=\u001b[39m \u001b[38;5;28minput\u001b[39m\u001b[38;5;241m.\u001b[39mne(\u001b[38;5;28mself\u001b[39m\u001b[38;5;241m.\u001b[39mpadding_idx)\u001b[38;5;241m.\u001b[39mint()\n\u001b[1;32m    248\u001b[0m positions \u001b[38;5;241m=\u001b[39m (torch\u001b[38;5;241m.\u001b[39mcumsum(mask, dim\u001b[38;5;241m=\u001b[39m\u001b[38;5;241m1\u001b[39m)\u001b[38;5;241m.\u001b[39mtype_as(mask) \u001b[38;5;241m*\u001b[39m mask)\u001b[38;5;241m.\u001b[39mlong() \u001b[38;5;241m+\u001b[39m \u001b[38;5;28mself\u001b[39m\u001b[38;5;241m.\u001b[39mpadding_idx\n",
      "\u001b[0;31mValueError\u001b[0m: Sequence length 1060 above maximum  sequence length of 1024"
     ]
    }
   ],
   "source": [
    "%run \"{extract}\" esm1v_t33_650M_UR90S_1 ../data_test/data_fa/train_small1.fa ../data_test/data_fa/train_small1/ --repr_layers 33 --include mean "
   ]
  },
  {
   "cell_type": "markdown",
   "id": "195d8757-a4e7-415a-9331-8e2919c4bd71",
   "metadata": {},
   "source": [
    "the same test file, just updated header for esm format and kept only the first sequence row (length = 60)"
   ]
  },
  {
   "cell_type": "code",
   "execution_count": 28,
   "id": "e5c609d1-d1ec-43a3-9d0a-57535d93517f",
   "metadata": {
    "execution": {
     "iopub.execute_input": "2022-08-29T18:00:59.139211Z",
     "iopub.status.busy": "2022-08-29T18:00:59.138901Z",
     "iopub.status.idle": "2022-08-29T18:04:20.561253Z",
     "shell.execute_reply": "2022-08-29T18:04:20.513764Z",
     "shell.execute_reply.started": "2022-08-29T18:00:59.139190Z"
    },
    "scrolled": true,
    "tags": []
   },
   "outputs": [
    {
     "name": "stderr",
     "output_type": "stream",
     "text": [
      "/home/damir/miniconda3/envs/sa/lib/python3.8/site-packages/esm/pretrained.py:215: UserWarning: Regression weights not found, predicting contacts will not produce correct results.\n",
      "  warnings.warn(\n"
     ]
    },
    {
     "name": "stdout",
     "output_type": "stream",
     "text": [
      "Transferred model to GPU\n",
      "Read ../data_test/data_fa/train_small1_esm.fa with 9 sequences\n",
      "Processing 1 of 1 batches (9 sequences)\n"
     ]
    }
   ],
   "source": [
    "%run \"{extract}\" esm1v_t33_650M_UR90S_1 ../data_test/data_fa/train_small1_esm.fa ../data_test/data_fa/train_small1_esm/ --repr_layers 33 --include mean "
   ]
  },
  {
   "cell_type": "markdown",
   "id": "6dacdc4c-b03c-492f-964d-27553840ff30",
   "metadata": {},
   "source": [
    "Above I used pathlib for paths and some how there was a warning about regression weights???   \n",
    "Below, I used os.path and no warning ???"
   ]
  },
  {
   "cell_type": "code",
   "execution_count": 30,
   "id": "ffbd73be-ef63-49ea-bd60-3c1927b27889",
   "metadata": {
    "execution": {
     "iopub.execute_input": "2022-08-29T18:06:58.688498Z",
     "iopub.status.busy": "2022-08-29T18:06:58.688215Z",
     "iopub.status.idle": "2022-08-29T18:09:01.155123Z",
     "shell.execute_reply": "2022-08-29T18:09:01.124587Z",
     "shell.execute_reply.started": "2022-08-29T18:06:58.688478Z"
    },
    "scrolled": true,
    "tags": []
   },
   "outputs": [
    {
     "name": "stdout",
     "output_type": "stream",
     "text": [
      "Transferred model to GPU\n",
      "Read ../data_test/data_fa/train_small1_esm.fa with 9 sequences\n",
      "Processing 1 of 1 batches (9 sequences)\n"
     ]
    }
   ],
   "source": [
    "%run \"{extract}\" esm1v_t33_650M_UR90S_1 ../data_test/data_fa/train_small1_esm.fa ../data_test/data_fa/train_small1_esm/ --repr_layers 33 --include mean "
   ]
  },
  {
   "cell_type": "code",
   "execution_count": null,
   "id": "30c7fd94-8557-4a10-8931-8eddf8fb8e21",
   "metadata": {},
   "outputs": [],
   "source": []
  },
  {
   "cell_type": "markdown",
   "id": "11b846bc-c5dc-4b5f-b07d-622e0d0f7786",
   "metadata": {},
   "source": [
    "#### Reading embeddings"
   ]
  },
  {
   "cell_type": "code",
   "execution_count": 15,
   "id": "7c7ed496-a097-4b1a-9fa3-af828b113116",
   "metadata": {
    "execution": {
     "iopub.execute_input": "2022-08-29T16:08:27.700890Z",
     "iopub.status.busy": "2022-08-29T16:08:27.662973Z",
     "iopub.status.idle": "2022-08-29T16:08:27.848447Z",
     "shell.execute_reply": "2022-08-29T16:08:27.844705Z",
     "shell.execute_reply.started": "2022-08-29T16:08:27.699687Z"
    }
   },
   "outputs": [],
   "source": [
    "fn = '../data_test/data_fa/train_small1_esm/9A0LUZ11.pt'"
   ]
  },
  {
   "cell_type": "code",
   "execution_count": 16,
   "id": "5ccbb4e7-f81b-4dbc-bd67-039bbe804c99",
   "metadata": {
    "execution": {
     "iopub.execute_input": "2022-08-29T16:09:43.556853Z",
     "iopub.status.busy": "2022-08-29T16:09:43.556434Z",
     "iopub.status.idle": "2022-08-29T16:09:43.838583Z",
     "shell.execute_reply": "2022-08-29T16:09:43.837167Z",
     "shell.execute_reply.started": "2022-08-29T16:09:43.556830Z"
    }
   },
   "outputs": [
    {
     "data": {
      "text/plain": [
       "{'label': '9|A0LUZ1|1',\n",
       " 'mean_representations': {33: tensor([-0.4481,  0.0098, -0.0130,  ..., -0.1554,  0.1550,  0.0034])}}"
      ]
     },
     "execution_count": 16,
     "metadata": {},
     "output_type": "execute_result"
    }
   ],
   "source": [
    "torch.load(fn)"
   ]
  },
  {
   "cell_type": "code",
   "execution_count": 24,
   "id": "1c5e11ba-8b36-49ce-a3f8-162955bdcded",
   "metadata": {
    "execution": {
     "iopub.execute_input": "2022-08-29T17:27:50.197527Z",
     "iopub.status.busy": "2022-08-29T17:27:50.197174Z",
     "iopub.status.idle": "2022-08-29T17:27:50.321451Z",
     "shell.execute_reply": "2022-08-29T17:27:50.320450Z",
     "shell.execute_reply.started": "2022-08-29T17:27:50.197508Z"
    },
    "tags": []
   },
   "outputs": [
    {
     "data": {
      "text/plain": [
       "array([-0.44807148,  0.00982585, -0.01303552, ..., -0.15544945,\n",
       "        0.15500957,  0.00342662], dtype=float32)"
      ]
     },
     "execution_count": 24,
     "metadata": {},
     "output_type": "execute_result"
    }
   ],
   "source": [
    "a = torch.load(fn)['mean_representations'][33].numpy()\n",
    "\n",
    "a"
   ]
  },
  {
   "cell_type": "code",
   "execution_count": null,
   "id": "895911ef-4342-4ea1-ab65-1ecea0c6c2f1",
   "metadata": {},
   "outputs": [],
   "source": []
  },
  {
   "cell_type": "markdown",
   "id": "5853dba8-5548-4036-a85a-9bd14abba73c",
   "metadata": {},
   "source": [
    "Reading all .pt files form their folder\n",
    "Names created from the fasta file."
   ]
  },
  {
   "cell_type": "code",
   "execution_count": 42,
   "id": "ba0de618-4902-492f-8a78-f05c4244e5ad",
   "metadata": {
    "execution": {
     "iopub.execute_input": "2022-08-29T20:21:59.882821Z",
     "iopub.status.busy": "2022-08-29T20:21:59.875278Z",
     "iopub.status.idle": "2022-08-29T20:22:00.160636Z",
     "shell.execute_reply": "2022-08-29T20:22:00.157991Z",
     "shell.execute_reply.started": "2022-08-29T20:21:59.882532Z"
    },
    "tags": []
   },
   "outputs": [
    {
     "name": "stdout",
     "output_type": "stream",
     "text": [
      "../data_test/data_fa/train_small1_esm/1|Q6A8L0|1.pt\n",
      "{'label': '1|Q6A8L0|1', 'mean_representations': {33: tensor([ 0.1052, -0.0943,  0.1146,  ...,  0.1645,  0.0593, -0.0498])}}\n",
      "../data_test/data_fa/train_small1_esm/2|Q7V7T9|1.pt\n",
      "{'label': '2|Q7V7T9|1', 'mean_representations': {33: tensor([-0.2922, -0.0100, -0.2274,  ..., -0.0630,  0.0109,  0.0012])}}\n",
      "../data_test/data_fa/train_small1_esm/3|Q9ZUP2|1.pt\n",
      "{'label': '3|Q9ZUP2|1', 'mean_representations': {33: tensor([-0.0179, -0.0302,  0.0181,  ..., -0.0794,  0.0510, -0.0168])}}\n",
      "../data_test/data_fa/train_small1_esm/4|Q2JVG1|1.pt\n",
      "{'label': '4|Q2JVG1|1', 'mean_representations': {33: tensor([-0.1372, -0.0579, -0.2276,  ...,  0.0754,  0.2182, -0.1280])}}\n",
      "../data_test/data_fa/train_small1_esm/5|Q9K4Q3|1.pt\n",
      "{'label': '5|Q9K4Q3|1', 'mean_representations': {33: tensor([ 0.1468, -0.2717, -0.1427,  ..., -0.2242, -0.1807, -0.0383])}}\n",
      "../data_test/data_fa/train_small1_esm/6|Q4FV41|1.pt\n",
      "{'label': '6|Q4FV41|1', 'mean_representations': {33: tensor([-0.2414,  0.1472,  0.0686,  ..., -0.0177,  0.1110,  0.0062])}}\n",
      "../data_test/data_fa/train_small1_esm/7|P9WNR8|1.pt\n",
      "{'label': '7|P9WNR8|1', 'mean_representations': {33: tensor([-0.1121, -0.0796, -0.1809,  ...,  0.0506,  0.1333,  0.1724])}}\n",
      "../data_test/data_fa/train_small1_esm/8|Q5Z3Z8|1.pt\n",
      "{'label': '8|Q5Z3Z8|1', 'mean_representations': {33: tensor([-0.2664,  0.0897,  0.1061,  ..., -0.0769,  0.1030,  0.0496])}}\n",
      "../data_test/data_fa/train_small1_esm/9|A0LUZ1|1.pt\n",
      "{'label': '9|A0LUZ1|1', 'mean_representations': {33: tensor([-0.4481,  0.0098, -0.0130,  ..., -0.1554,  0.1550,  0.0034])}}\n"
     ]
    }
   ],
   "source": [
    "for header, _seq in esm.data.read_fasta('../data_test/data_fa/train_small1_esm.fa'):\n",
    "    fn= f'../data_test/data_fa/train_small1_esm/{header[1:]}.pt'\n",
    "    print(fn)\n",
    "    embs = torch.load(fn)\n",
    "    print(embs)\n",
    "    "
   ]
  },
  {
   "cell_type": "code",
   "execution_count": null,
   "id": "44721963-c2af-456e-92fd-31da08a40ee0",
   "metadata": {},
   "outputs": [],
   "source": []
  },
  {
   "cell_type": "code",
   "execution_count": 43,
   "id": "4e96f289-530c-477d-8fe7-661331ec54a1",
   "metadata": {
    "execution": {
     "iopub.execute_input": "2022-08-29T20:32:35.652600Z",
     "iopub.status.busy": "2022-08-29T20:32:35.633535Z",
     "iopub.status.idle": "2022-08-29T20:32:36.605813Z",
     "shell.execute_reply": "2022-08-29T20:32:36.599340Z",
     "shell.execute_reply.started": "2022-08-29T20:32:35.651782Z"
    },
    "tags": []
   },
   "outputs": [
    {
     "name": "stdout",
     "output_type": "stream",
     "text": [
      "\u001b[34;42m../data_test/data_fa/train_small1_esm\u001b[00m\n",
      "├── [5.8K Aug 29 14:09]  \u001b[01;32m1|Q6A8L0|1.pt\u001b[00m\n",
      "├── [5.8K Aug 29 14:09]  \u001b[01;32m2|Q7V7T9|1.pt\u001b[00m\n",
      "├── [5.8K Aug 29 14:09]  \u001b[01;32m3|Q9ZUP2|1.pt\u001b[00m\n",
      "├── [5.8K Aug 29 14:09]  \u001b[01;32m4|Q2JVG1|1.pt\u001b[00m\n",
      "├── [5.8K Aug 29 14:09]  \u001b[01;32m5|Q9K4Q3|1.pt\u001b[00m\n",
      "├── [5.8K Aug 29 14:09]  \u001b[01;32m6|Q4FV41|1.pt\u001b[00m\n",
      "├── [5.8K Aug 29 14:09]  \u001b[01;32m7|P9WNR8|1.pt\u001b[00m\n",
      "├── [5.8K Aug 29 14:09]  \u001b[01;32m8|Q5Z3Z8|1.pt\u001b[00m\n",
      "└── [5.8K Aug 29 14:09]  \u001b[01;32m9|A0LUZ1|1.pt\u001b[00m\n",
      "\n",
      "0 directories, 9 files\n"
     ]
    }
   ],
   "source": [
    "!tree -DhL 2 '../data_test/data_fa/train_small1_esm'"
   ]
  },
  {
   "cell_type": "code",
   "execution_count": 15,
   "id": "e873ea65-95f1-4f57-9e29-3fda08f0e033",
   "metadata": {
    "execution": {
     "iopub.execute_input": "2022-08-28T20:53:29.777272Z",
     "iopub.status.busy": "2022-08-28T20:53:29.776921Z",
     "iopub.status.idle": "2022-08-28T20:53:29.794607Z",
     "shell.execute_reply": "2022-08-28T20:53:29.793755Z",
     "shell.execute_reply.started": "2022-08-28T20:53:29.777251Z"
    },
    "tags": []
   },
   "outputs": [
    {
     "name": "stdout",
     "output_type": "stream",
     "text": [
      "Help on package esm:\n",
      "\n",
      "NAME\n",
      "    esm\n",
      "\n",
      "DESCRIPTION\n",
      "    # Copyright (c) Facebook, Inc. and its affiliates.\n",
      "    #\n",
      "    # This source code is licensed under the MIT license found in the\n",
      "    # LICENSE file in the root directory of this source tree.\n",
      "\n",
      "PACKAGE CONTENTS\n",
      "    axial_attention\n",
      "    constants\n",
      "    data\n",
      "    inverse_folding (package)\n",
      "    modules\n",
      "    multihead_attention\n",
      "    pretrained\n",
      "    rotary_embedding\n",
      "    version\n",
      "\n",
      "SUBMODULES\n",
      "    model\n",
      "\n",
      "VERSION\n",
      "    1.0.2\n",
      "\n",
      "FILE\n",
      "    /home/damir/miniconda3/envs/sa/lib/python3.8/site-packages/esm/__init__.py\n",
      "\n",
      "\n"
     ]
    }
   ],
   "source": [
    "help(esm)"
   ]
  },
  {
   "cell_type": "code",
   "execution_count": null,
   "id": "dbbbb3e7-e959-4675-8a09-febe23095229",
   "metadata": {},
   "outputs": [],
   "source": []
  },
  {
   "cell_type": "markdown",
   "id": "25c3cbb2-6315-4988-a9f0-4f9b09564875",
   "metadata": {},
   "source": [
    "#### Conversion of csv files to fasta files\n",
    "\n",
    "- New script that creates headers per esm \n",
    "\n"
   ]
  },
  {
   "cell_type": "code",
   "execution_count": 1,
   "id": "2a6d857d-e3da-4d5b-8e0e-af8a06ad1289",
   "metadata": {
    "execution": {
     "iopub.execute_input": "2022-08-30T03:45:27.652157Z",
     "iopub.status.busy": "2022-08-30T03:45:27.651701Z",
     "iopub.status.idle": "2022-08-30T03:45:27.687128Z",
     "shell.execute_reply": "2022-08-30T03:45:27.686055Z",
     "shell.execute_reply.started": "2022-08-30T03:45:27.652054Z"
    },
    "tags": []
   },
   "outputs": [],
   "source": [
    "# Import the script from different folder\n",
    "import sys  \n",
    "sys.path.append('../scripts')\n",
    "\n",
    "import convert_csv_to_fasta_V2 as cf"
   ]
  },
  {
   "cell_type": "markdown",
   "id": "14237b67-87bf-4aab-98c6-30dc2bb59e4a",
   "metadata": {},
   "source": [
    "acp"
   ]
  },
  {
   "cell_type": "code",
   "execution_count": 8,
   "id": "1b701f63-aa9b-4a12-bda4-e68947dcd901",
   "metadata": {
    "execution": {
     "iopub.execute_input": "2022-08-30T03:54:33.903945Z",
     "iopub.status.busy": "2022-08-30T03:54:33.898696Z",
     "iopub.status.idle": "2022-08-30T03:54:33.926507Z",
     "shell.execute_reply": "2022-08-30T03:54:33.924077Z",
     "shell.execute_reply.started": "2022-08-30T03:54:33.903748Z"
    },
    "tags": []
   },
   "outputs": [],
   "source": [
    "# Define paths\n",
    "csv_file = '../data/acp/train_data.csv'\n",
    "fasta_file = '../data/acp/train_data_V2.fa'"
   ]
  },
  {
   "cell_type": "code",
   "execution_count": 9,
   "id": "536cd8c8-42fc-4e53-aae6-fcee0bf5ddeb",
   "metadata": {
    "execution": {
     "iopub.execute_input": "2022-08-30T03:54:38.889221Z",
     "iopub.status.busy": "2022-08-30T03:54:38.888436Z",
     "iopub.status.idle": "2022-08-30T03:54:38.928370Z",
     "shell.execute_reply": "2022-08-30T03:54:38.927354Z",
     "shell.execute_reply.started": "2022-08-30T03:54:38.889192Z"
    },
    "tags": []
   },
   "outputs": [],
   "source": [
    "# Run the script\n",
    "cf.csv_to_fasta(csv_file, fasta_file)"
   ]
  },
  {
   "cell_type": "markdown",
   "id": "24a97787-de4b-4046-842e-33cae382f1ed",
   "metadata": {},
   "source": [
    "amp"
   ]
  },
  {
   "cell_type": "code",
   "execution_count": 4,
   "id": "f77c04b9-552b-41a9-9bdf-cdb2948225ca",
   "metadata": {
    "execution": {
     "iopub.execute_input": "2022-08-30T03:46:25.322444Z",
     "iopub.status.busy": "2022-08-30T03:46:25.321416Z",
     "iopub.status.idle": "2022-08-30T03:46:25.326847Z",
     "shell.execute_reply": "2022-08-30T03:46:25.325701Z",
     "shell.execute_reply.started": "2022-08-30T03:46:25.322327Z"
    },
    "tags": []
   },
   "outputs": [],
   "source": [
    "# Define paths\n",
    "csv_file = '../data/amp/all_data.csv'\n",
    "fasta_file = '../data/amp/all_data_V2.fa'"
   ]
  },
  {
   "cell_type": "code",
   "execution_count": 5,
   "id": "b5ca4f22-ec2b-4cde-81b9-98b3bead2109",
   "metadata": {
    "execution": {
     "iopub.execute_input": "2022-08-30T03:46:26.537233Z",
     "iopub.status.busy": "2022-08-30T03:46:26.536679Z",
     "iopub.status.idle": "2022-08-30T03:46:26.584344Z",
     "shell.execute_reply": "2022-08-30T03:46:26.583362Z",
     "shell.execute_reply.started": "2022-08-30T03:46:26.537206Z"
    },
    "tags": []
   },
   "outputs": [],
   "source": [
    "# Run the script\n",
    "cf.csv_to_fasta(csv_file, fasta_file)"
   ]
  },
  {
   "cell_type": "code",
   "execution_count": null,
   "id": "9b71f57a-f933-42fb-bf87-9c4af074ce3d",
   "metadata": {},
   "outputs": [],
   "source": []
  },
  {
   "cell_type": "markdown",
   "id": "8b0c14a5-629c-45bc-aa1f-89eb0b9c6a55",
   "metadata": {},
   "source": [
    "dbp"
   ]
  },
  {
   "cell_type": "code",
   "execution_count": 6,
   "id": "73d8a104-cff0-4509-8ec0-48edd79b2eac",
   "metadata": {
    "execution": {
     "iopub.execute_input": "2022-08-30T03:53:19.953759Z",
     "iopub.status.busy": "2022-08-30T03:53:19.952105Z",
     "iopub.status.idle": "2022-08-30T03:53:19.977912Z",
     "shell.execute_reply": "2022-08-30T03:53:19.976407Z",
     "shell.execute_reply.started": "2022-08-30T03:53:19.953587Z"
    },
    "tags": []
   },
   "outputs": [],
   "source": [
    "# Define paths\n",
    "csv_file = '../data/dna_binding/train.csv'\n",
    "fasta_file = '../data/dna_binding/train_V2.fa'"
   ]
  },
  {
   "cell_type": "code",
   "execution_count": 7,
   "id": "be15b2bd-0681-4e96-ba88-8e9eec10cb58",
   "metadata": {
    "execution": {
     "iopub.execute_input": "2022-08-30T03:53:20.937243Z",
     "iopub.status.busy": "2022-08-30T03:53:20.936843Z",
     "iopub.status.idle": "2022-08-30T03:53:21.862603Z",
     "shell.execute_reply": "2022-08-30T03:53:21.861458Z",
     "shell.execute_reply.started": "2022-08-30T03:53:20.937216Z"
    },
    "tags": []
   },
   "outputs": [],
   "source": [
    "# Run the script\n",
    "cf.csv_to_fasta(csv_file, fasta_file)"
   ]
  },
  {
   "cell_type": "markdown",
   "id": "f7b421a1-3bb5-4f7c-b4b6-44878d2dc981",
   "metadata": {},
   "source": [
    "dbp test\n",
    "\n",
    "- original sequence name contents pipe (\"|\") character\n",
    "- testing below how to trae that because pipe is used as a separator in headers.\n",
    "- this give us one additional separator on which we do not want to separate"
   ]
  },
  {
   "cell_type": "code",
   "execution_count": 10,
   "id": "993edc0f-d43e-4a17-baa7-025eec8ef562",
   "metadata": {
    "execution": {
     "iopub.execute_input": "2022-08-30T03:56:50.268802Z",
     "iopub.status.busy": "2022-08-30T03:56:50.267811Z",
     "iopub.status.idle": "2022-08-30T03:56:50.275514Z",
     "shell.execute_reply": "2022-08-30T03:56:50.274478Z",
     "shell.execute_reply.started": "2022-08-30T03:56:50.268729Z"
    },
    "tags": []
   },
   "outputs": [],
   "source": [
    "# Define paths\n",
    "csv_file = '../data/dna_binding/test.csv'\n",
    "fasta_file = '../data/dna_binding/test_V2.fa'"
   ]
  },
  {
   "cell_type": "code",
   "execution_count": 11,
   "id": "1caa96bf-30b7-43d1-847c-7f2e14276140",
   "metadata": {
    "execution": {
     "iopub.execute_input": "2022-08-30T03:56:51.914118Z",
     "iopub.status.busy": "2022-08-30T03:56:51.913501Z",
     "iopub.status.idle": "2022-08-30T03:56:52.079785Z",
     "shell.execute_reply": "2022-08-30T03:56:52.077619Z",
     "shell.execute_reply.started": "2022-08-30T03:56:51.914094Z"
    },
    "tags": []
   },
   "outputs": [],
   "source": [
    "# Run the script\n",
    "cf.csv_to_fasta(csv_file, fasta_file)"
   ]
  },
  {
   "cell_type": "markdown",
   "id": "06d2fd1e-0253-45fb-a86c-08de83b0698c",
   "metadata": {},
   "source": [
    "seq name with pipe ( | ), Q9Y6V0|2"
   ]
  },
  {
   "cell_type": "code",
   "execution_count": 19,
   "id": "b159e3d2-562d-4d0c-b4f2-0e35ca8e05da",
   "metadata": {
    "execution": {
     "iopub.execute_input": "2022-08-30T13:03:24.699671Z",
     "iopub.status.busy": "2022-08-30T13:03:24.690581Z",
     "iopub.status.idle": "2022-08-30T13:03:24.741663Z",
     "shell.execute_reply": "2022-08-30T13:03:24.740009Z",
     "shell.execute_reply.started": "2022-08-30T13:03:24.699410Z"
    },
    "tags": []
   },
   "outputs": [
    {
     "data": {
      "text/plain": [
       "['>1284', 'Q9Y6V0|2|0']"
      ]
     },
     "execution_count": 19,
     "metadata": {},
     "output_type": "execute_result"
    }
   ],
   "source": [
    "# header\n",
    "h = '>1284|Q9Y6V0|2|0'\n",
    "# splitting on first occurance\n",
    "hh = h.split('|', 1)\n",
    "hh"
   ]
  },
  {
   "cell_type": "code",
   "execution_count": 21,
   "id": "17801998-81c0-49e4-b037-d59f601e3d94",
   "metadata": {
    "execution": {
     "iopub.execute_input": "2022-08-30T13:06:07.685574Z",
     "iopub.status.busy": "2022-08-30T13:06:07.685290Z",
     "iopub.status.idle": "2022-08-30T13:06:07.690715Z",
     "shell.execute_reply": "2022-08-30T13:06:07.689826Z",
     "shell.execute_reply.started": "2022-08-30T13:06:07.685555Z"
    },
    "tags": []
   },
   "outputs": [
    {
     "data": {
      "text/plain": [
       "'0'"
      ]
     },
     "execution_count": 21,
     "metadata": {},
     "output_type": "execute_result"
    }
   ],
   "source": [
    "# label - target variable\n",
    "h[-1]"
   ]
  },
  {
   "cell_type": "code",
   "execution_count": 22,
   "id": "b5f1f3ab-4a9f-4af1-a639-2a3e15f83eeb",
   "metadata": {
    "execution": {
     "iopub.execute_input": "2022-08-30T13:06:21.810196Z",
     "iopub.status.busy": "2022-08-30T13:06:21.809927Z",
     "iopub.status.idle": "2022-08-30T13:06:21.815695Z",
     "shell.execute_reply": "2022-08-30T13:06:21.814895Z",
     "shell.execute_reply.started": "2022-08-30T13:06:21.810177Z"
    },
    "tags": []
   },
   "outputs": [
    {
     "data": {
      "text/plain": [
       "'1284|Q9Y6V0|2|0'"
      ]
     },
     "execution_count": 22,
     "metadata": {},
     "output_type": "execute_result"
    }
   ],
   "source": [
    "# file name\n",
    "h[1:]"
   ]
  },
  {
   "cell_type": "code",
   "execution_count": 30,
   "id": "1acae963-5eaf-4418-8e08-0a6d4d8394bf",
   "metadata": {
    "execution": {
     "iopub.execute_input": "2022-08-30T13:18:54.514730Z",
     "iopub.status.busy": "2022-08-30T13:18:54.507265Z",
     "iopub.status.idle": "2022-08-30T13:18:54.555544Z",
     "shell.execute_reply": "2022-08-30T13:18:54.553715Z",
     "shell.execute_reply.started": "2022-08-30T13:18:54.514480Z"
    },
    "tags": []
   },
   "outputs": [
    {
     "data": {
      "text/plain": [
       "'Q9Y6V0|2'"
      ]
     },
     "execution_count": 30,
     "metadata": {},
     "output_type": "execute_result"
    }
   ],
   "source": [
    "# seq name\n",
    "hh[-1][:-2]"
   ]
  },
  {
   "cell_type": "markdown",
   "id": "d9313bb3-5589-4f0e-9190-0f88b9ccb995",
   "metadata": {},
   "source": [
    "seq name without pipe ( | ), Q9Y6V0"
   ]
  },
  {
   "cell_type": "code",
   "execution_count": 28,
   "id": "f13d1dc6-a3f2-4a58-a913-aa7e1ab74fc5",
   "metadata": {
    "execution": {
     "iopub.execute_input": "2022-08-30T13:15:01.914152Z",
     "iopub.status.busy": "2022-08-30T13:15:01.913801Z",
     "iopub.status.idle": "2022-08-30T13:15:01.929184Z",
     "shell.execute_reply": "2022-08-30T13:15:01.928018Z",
     "shell.execute_reply.started": "2022-08-30T13:15:01.914071Z"
    },
    "tags": []
   },
   "outputs": [
    {
     "data": {
      "text/plain": [
       "['>1284', 'Q9Y6V0|0']"
      ]
     },
     "execution_count": 28,
     "metadata": {},
     "output_type": "execute_result"
    }
   ],
   "source": [
    "# header\n",
    "h1 = '>1284|Q9Y6V0|0'\n",
    "# separate at first occurance\n",
    "hh1 = h1.split('|',1)\n",
    "hh1"
   ]
  },
  {
   "cell_type": "code",
   "execution_count": 31,
   "id": "73709816-18f5-4f7d-9048-79361c632a46",
   "metadata": {
    "execution": {
     "iopub.execute_input": "2022-08-30T13:23:02.475487Z",
     "iopub.status.busy": "2022-08-30T13:23:02.469065Z",
     "iopub.status.idle": "2022-08-30T13:23:02.511242Z",
     "shell.execute_reply": "2022-08-30T13:23:02.509150Z",
     "shell.execute_reply.started": "2022-08-30T13:23:02.475275Z"
    },
    "tags": []
   },
   "outputs": [
    {
     "data": {
      "text/plain": [
       "'0'"
      ]
     },
     "execution_count": 31,
     "metadata": {},
     "output_type": "execute_result"
    }
   ],
   "source": [
    "# label - target variable\n",
    "h1[-1]"
   ]
  },
  {
   "cell_type": "code",
   "execution_count": 29,
   "id": "fc8fc3ef-8b70-482f-b78c-4ed86d315702",
   "metadata": {
    "execution": {
     "iopub.execute_input": "2022-08-30T13:15:42.133206Z",
     "iopub.status.busy": "2022-08-30T13:15:42.132924Z",
     "iopub.status.idle": "2022-08-30T13:15:42.140161Z",
     "shell.execute_reply": "2022-08-30T13:15:42.139120Z",
     "shell.execute_reply.started": "2022-08-30T13:15:42.133186Z"
    }
   },
   "outputs": [
    {
     "data": {
      "text/plain": [
       "'1284|Q9Y6V0|0'"
      ]
     },
     "execution_count": 29,
     "metadata": {},
     "output_type": "execute_result"
    }
   ],
   "source": [
    "# file name\n",
    "h1[1:]"
   ]
  },
  {
   "cell_type": "code",
   "execution_count": 33,
   "id": "1f39348f-72cf-4f14-b7b4-e898a523b41b",
   "metadata": {
    "execution": {
     "iopub.execute_input": "2022-08-30T13:27:06.774395Z",
     "iopub.status.busy": "2022-08-30T13:27:06.773954Z",
     "iopub.status.idle": "2022-08-30T13:27:06.780990Z",
     "shell.execute_reply": "2022-08-30T13:27:06.779949Z",
     "shell.execute_reply.started": "2022-08-30T13:27:06.774370Z"
    },
    "tags": []
   },
   "outputs": [
    {
     "data": {
      "text/plain": [
       "'Q9Y6V0'"
      ]
     },
     "execution_count": 33,
     "metadata": {},
     "output_type": "execute_result"
    }
   ],
   "source": [
    "# seq name\n",
    "hh1[-1][:-2]"
   ]
  },
  {
   "cell_type": "code",
   "execution_count": null,
   "id": "df4e29dd-ae6a-4b29-8089-ab3e4abd65e7",
   "metadata": {},
   "outputs": [],
   "source": []
  },
  {
   "cell_type": "markdown",
   "id": "60652d1b-d99b-45ee-ac2e-04ff84c183e5",
   "metadata": {},
   "source": [
    "### Test how esm processes 60-characters chunks\n",
    "\n",
    "- does it read all of them or only the first one"
   ]
  },
  {
   "cell_type": "markdown",
   "id": "5cef8ce0-de3b-4656-b7d8-a1db8efee5c1",
   "metadata": {},
   "source": [
    "Copied train_small1.fa to train_small1_esm_1l.fa, deleted 2 long sequences and 7 others changed to 1 line"
   ]
  },
  {
   "cell_type": "code",
   "execution_count": 10,
   "id": "856c95bb-c966-4544-bbce-ad9b39cfd829",
   "metadata": {
    "execution": {
     "iopub.execute_input": "2022-09-01T23:22:21.767229Z",
     "iopub.status.busy": "2022-09-01T23:22:21.745878Z",
     "iopub.status.idle": "2022-09-01T23:25:03.009715Z",
     "shell.execute_reply": "2022-09-01T23:25:02.932180Z",
     "shell.execute_reply.started": "2022-09-01T23:22:21.766629Z"
    },
    "tags": []
   },
   "outputs": [
    {
     "name": "stdout",
     "output_type": "stream",
     "text": [
      "Transferred model to GPU\n",
      "Read ../data_test/data_fa/train_small1_esm_1l.fa with 7 sequences\n",
      "Processing 1 of 1 batches (7 sequences)\n"
     ]
    }
   ],
   "source": [
    "%run \"{extract}\" esm1v_t33_650M_UR90S_1 ../data_test/data_fa/train_small1_esm_1l.fa ../data_test/data_fa/train_small1_esm_1l/ --repr_layers 33 --include mean "
   ]
  },
  {
   "cell_type": "code",
   "execution_count": 11,
   "id": "2b2a72ef-cbfd-47f4-a4ba-e8c1ba5a4688",
   "metadata": {
    "execution": {
     "iopub.execute_input": "2022-09-01T23:38:18.251021Z",
     "iopub.status.busy": "2022-09-01T23:38:18.237457Z",
     "iopub.status.idle": "2022-09-01T23:38:18.337756Z",
     "shell.execute_reply": "2022-09-01T23:38:18.333955Z",
     "shell.execute_reply.started": "2022-09-01T23:38:18.250523Z"
    }
   },
   "outputs": [],
   "source": [
    "fn1 = '../data_test/data_fa/train_small1_esm_1l/A0LUZ1.pt'\n",
    "fn2 = '../data_test/data_fa/train_small1/A0LUZ1.pt'"
   ]
  },
  {
   "cell_type": "code",
   "execution_count": 16,
   "id": "7a6ea9d7-7648-42c0-a5a7-329dd690c8f5",
   "metadata": {
    "execution": {
     "iopub.execute_input": "2022-09-01T23:42:52.844872Z",
     "iopub.status.busy": "2022-09-01T23:42:52.844615Z",
     "iopub.status.idle": "2022-09-01T23:42:52.950442Z",
     "shell.execute_reply": "2022-09-01T23:42:52.949549Z",
     "shell.execute_reply.started": "2022-09-01T23:42:52.844854Z"
    },
    "tags": []
   },
   "outputs": [
    {
     "data": {
      "text/plain": [
       "array([-0.68980575,  0.04476202,  0.08303404, ..., -0.15218607,\n",
       "       -0.00974073,  0.10190307], dtype=float32)"
      ]
     },
     "execution_count": 16,
     "metadata": {},
     "output_type": "execute_result"
    }
   ],
   "source": [
    "a1 = torch.load(fn1)['mean_representations'][33].numpy()\n",
    "a1"
   ]
  },
  {
   "cell_type": "code",
   "execution_count": 17,
   "id": "8c5326e2-38cf-46bb-976e-98792ffbeb22",
   "metadata": {
    "execution": {
     "iopub.execute_input": "2022-09-01T23:43:24.234960Z",
     "iopub.status.busy": "2022-09-01T23:43:24.234041Z",
     "iopub.status.idle": "2022-09-01T23:43:24.263771Z",
     "shell.execute_reply": "2022-09-01T23:43:24.262907Z",
     "shell.execute_reply.started": "2022-09-01T23:43:24.234919Z"
    },
    "tags": []
   },
   "outputs": [
    {
     "data": {
      "text/plain": [
       "array([-0.68980575,  0.04476202,  0.08303404, ..., -0.15218607,\n",
       "       -0.00974073,  0.10190307], dtype=float32)"
      ]
     },
     "execution_count": 17,
     "metadata": {},
     "output_type": "execute_result"
    }
   ],
   "source": [
    "a2 = torch.load(fn2)['mean_representations'][33].numpy()\n",
    "a2"
   ]
  },
  {
   "cell_type": "code",
   "execution_count": 23,
   "id": "a3c5578e-06ea-49fe-86dd-285b5ae7193b",
   "metadata": {
    "execution": {
     "iopub.execute_input": "2022-09-02T00:01:09.129022Z",
     "iopub.status.busy": "2022-09-02T00:01:09.118333Z",
     "iopub.status.idle": "2022-09-02T00:01:09.192053Z",
     "shell.execute_reply": "2022-09-02T00:01:09.189044Z",
     "shell.execute_reply.started": "2022-09-02T00:01:09.128562Z"
    },
    "tags": []
   },
   "outputs": [
    {
     "data": {
      "text/plain": [
       "(array([], dtype=int64),)"
      ]
     },
     "execution_count": 23,
     "metadata": {},
     "output_type": "execute_result"
    }
   ],
   "source": [
    "np.where(a1 != a2)"
   ]
  },
  {
   "cell_type": "markdown",
   "id": "43eef011-b83a-4f29-8774-014f2abefccd",
   "metadata": {},
   "source": [
    "#### Reading fasta file containing 60-characters chunks seq with esm.data.read_fasta"
   ]
  },
  {
   "cell_type": "code",
   "execution_count": 24,
   "id": "49d3ca40-3568-452b-b79f-7309e0f15692",
   "metadata": {
    "execution": {
     "iopub.execute_input": "2022-09-02T00:04:22.287993Z",
     "iopub.status.busy": "2022-09-02T00:04:22.274219Z",
     "iopub.status.idle": "2022-09-02T00:04:22.355558Z",
     "shell.execute_reply": "2022-09-02T00:04:22.353474Z",
     "shell.execute_reply.started": "2022-09-02T00:04:22.287315Z"
    }
   },
   "outputs": [
    {
     "name": "stdout",
     "output_type": "stream",
     "text": [
      ">Q6A8L0\n",
      "MSGHSKWATTKHKKAAIDAKRGKLFARLIKNIEVAARLGGGDPSGNPTLYDAIQKAKKSSVPNDNITRAVKRGSGEGADAVNYETIMYEAYGPAGVAILIECLTDNRNRAVSDVRVAVTRNGGTMADGGSVQRLFQRKGVVSVSKTYEVEEGRKTETREVDEDQLMEATIDAEPEDIVDEGEVFEIISDPSAVVDVRKAVQGAGIDYDSAEVSFKPDFTQRVELEDARKLYRILDALEDLDDVQNVFSNVDIPAEVAAALDEEE\n",
      ">Q7V7T9\n",
      "MIGWLQGQKVEAWQQGTRQGVVLACAGVGYEVQIAPRHLSEMEHGQNTFILWIHQVQRDDGSSLFGFPERRERDMFRTLIGVSGVGPQMALALLEECQTGELVEAIVQGDLRKLCQAQGVGKRTAERLAVELRTKLAEFSCRDPGMSLVDNGVIDSHQLKDSSLHELQITLGGLGYEDLEIRRAIRAVASGAAIGASDMPESVPSIDDTDAWLRASLRWLSQEAA\n",
      ">Q9ZUP2\n",
      "MARILRNVYSLRSSLFSSELLRRSVVGTSFQLRGFAAKAKKKSKSDGNGSSEEGMSKKEIALQQALDQITSSFGKGSIMYLGRAVSPRNVPVFSTGSFALDVALGVGGLPKGRVVEIYGPEASGKTTLALHVIAEAQKQGGTCVFVDAEHALDSSLAKAIGVNTENLLLSQPDCGEQALSLVDTLIRSGSVDVIVVDSVAALVPKGELEGEMGDAHMAMQARLMSQALRKLSHSLSLSQTLLIFINQVRSKLSTFGGFGGPTEVTCGGNALKFYASMRLNIKRIGLIKKGEETTGSQVSVKIVKNKLAPPFRTAQFELEFGKGICKITEIIDLSIKHKFIAKNGTFYNLNGKNYHGKEALKRFLKQNESDQEELMKKLQDKLIADEAADKETESESEEEDSLRVVVSPDNTDDESPALVVGAAAVVVEAA\n",
      ">Q2JVG1\n",
      "MKCPRCGKQEIRVLESRSAEGGQSVRRRRECMSCGYRFTTYERIEFMPIMVIKRDGSRESFNRNKILQGVMRACQKTQVSVKQMEELVNEIEEKLQLEDVQEVTTLRIGEMVLERLQRLSEVAYVRFASVYRKFQGIKDFVTELEQLERLETHLRRDLERPLRNSPPSESESTASPDWVGGIPQLLDQNDTSSNLSEIPK\n",
      ">Q9K4Q3\n",
      "MTKADIIEGVYEKVGFSKKESAEIVELVFDTLKETLERGDKIKISGFGNFQVRQKKARVGRNPQTGKEIEISARRVLTFRPSQVLKSALNGEAPPEDHAEIDAREEAAADAAEARGEDFD\n",
      ">Q4FV41\n",
      "MSVKPSAQTNDTIQSTSKSVPAASDSLVIGDAIYHLADHTPMMVQYLTMKANYPQALLLYRMGDFYELFFDDAKRAAQILDITLTRRGTDKAGNTIAMAGVPFHAADSYMARLIAAGQTVVVCEQIDESATGNARNTSNTPTMGDKQKKDKSKSAAGTIMRREVVKTLTAGTITDDALIAPNHTPTVVAIDILIPKSNSKQSLQAAISQMDLAAGTLTTQTLSANHDDIEGLKTQMLTVLARFAPSECIIGEALNDSIGGIGEDWLLWLRQSLDCPIIEVAANDFHRQHASATLCQQFGVQRLDGLGSGISDAPLAQSSCAALIHYARQTQQRQVPQINQLIVEYSDDYLIIDANSQQNLELFTPVSSNGTSLLSVLNHCQTPMGRRLLVQQMKRPLRQHSRINLRLDAIACLLKTDKTSIESNQASNQALKHSSLVISLREMLNSIGDIERISSRIGLMSAKPRDLRKLADGIASSTQLTTLLTDSGVSHEQAGLLPMLMQQLPAQLPAVQSIAKLIERAIITEPPAHIRDGGMLAAGYDDEFDRLTHLHDNIQVTLDEMVERARLESQLPSLKVGFNKVSGFYFELPKMQAKNAPAHFIRRQTLKSSERFITDELKDVETEYLSAQTLALTREKQLYHELLTELSSHLAELQQLSAAIAQIDVLSNWAQLAMTYNWQCPVMSNNDENKDSSNTDNQASIDISQGRHVVVEAALNPVNAGNAGNTVNSSNNSSNNSGTTRHNSHFVANDCALGSDANPERLLLITGPNMGGKSTYMRQTALIVLLAHCGSFVPAASAHIGDIDRIFTRIGSADDLAGGKSTFMVEMIETANILNQATNQSLVLMDEVGRGTATTDGLAIAHACVNRLLEIGCLTLFATHYFELTKLAQNPKESSGSNDKLIRNVHVAASEVDGQLLLLHQIKEGAASSSFGLHVAKMAGIPTQVLNDAKRYLVDNLTIDNLGIDNLSIDNLKSNNESANDDKNDLAKSVKDKRQQTADSDIEKLNLSNIKKTQNMTDIPQQNQLFSLQDELHAIDPDSLTPKQAHDLIYHLKKIISR\n",
      ">P9WNR8\n",
      "MQPGGDMSALLAQAQQMQQKLLEAQQQLANSEVHGQAGGGLVKVVVKGSGEVIGVTIDPKVVDPDDIETLQDLIVGAMRDASQQVTKMAQERLGALAGAMRPPAPPAAPPGAPGMPGMPGMPGAPGAPPVPGI\n",
      ">Q5Z3Z8\n",
      "MDDEQNVLATVWPEVIAELTTGSADGSIPAVTRAQQAWLKLVKPITVAQGFALLSVPSSLAQEAIERDLREPILRSLGRRLGPQVEGLGVRIAAPATPTAERAAANPRHARMTSRPERPRGERPVPGLPGQEAVDRPETLPRYSQAAESVPGYPARQDHSRPGDYPPAAEYTPAAEYTPAAEYTPAAEYSPEPEYTPATDYPGADDYPTTVFRLPPGGFAEPPGDGRPGGVPEISTPRRDGHGPRRDATPPGQEALFTPEPGDRPLRDTDRPLREPAAGHDVRESDGPVERDDEPVVNIRDSWPTYFAKNQESTPAPANSSASLNAKYTFETFVIGASNRFAHAAAVAIAEAPARAYNPLFVWGASGLGKTHLLHAAGHYAQRLFPGMRVKYVSTEEFTNDFINSLRDDRKVAFKRRYRETDILLVDDIQFIEGKEGIQEEFFHTFNTLHNANKQIVVSSDRPPKQLATLEERLRTRFEWGLITDVQPPELETRIAILRKKARMDRLDVPHDVLELIASRVERNIRELEGALIRVTAFASLNGQPLDLSLAEVVLRDLMPDTATLEINAATIMAVTAEYFNTTLEELTGPGKARPLAQARQIAMYLCRELTDLSLPKIGQAFGRDHTTVMYAEKKVRKEMTERRRVYDQVQELTARIKQRSR\n",
      ">A0LUZ1\n",
      "MKRSTPRPARSQAALTTSSEESPDRVERGGDGVATVTDFPDGPPDETGLTPRQRRILDVIRDSVRRRGYPPSMREIGEAVGLTSTSSVAHQLMVLQRKGFLRRDPNRPRAVEIRSAESAVPDASAGHSPAADRAPSARRPPRGPSPIDSNPDVVAVPLVGRIAAGGPALAEQLIEDVVPLPRQLVGEGTLFLLQVKGDSMVDAAICDGDWVVVRQQPVAENGDIVAAMIDGEATVKTFKRRGAHIWLMPHNPQYEPIPGDEATILGRVVAVLRRL\n"
     ]
    }
   ],
   "source": [
    "for header, seq in esm.data.read_fasta('../data_test/data_fa/train_small1.fa'):\n",
    "    print(f'{header}\\n{seq}')\n"
   ]
  },
  {
   "cell_type": "markdown",
   "id": "3ca20057-0fba-4417-8d49-3c09e3ab39f2",
   "metadata": {},
   "source": [
    "#### Converting h5 file to folder with .pt files"
   ]
  },
  {
   "cell_type": "code",
   "execution_count": 3,
   "id": "3d2fc0c0-fe7d-4b23-b516-9ba89116531e",
   "metadata": {
    "execution": {
     "iopub.execute_input": "2022-09-04T19:54:18.620643Z",
     "iopub.status.busy": "2022-09-04T19:54:18.620265Z",
     "iopub.status.idle": "2022-09-04T19:54:18.627177Z",
     "shell.execute_reply": "2022-09-04T19:54:18.625878Z",
     "shell.execute_reply.started": "2022-09-04T19:54:18.620574Z"
    },
    "tags": []
   },
   "outputs": [],
   "source": [
    "import h5py\n",
    "file_name = '../data_test/data_h5/train_small1_mt_avg.h5'\n",
    "pt_name = '../data_test/data_h5/train_small1_mt_avg/'\n",
    "pool = 'avg'"
   ]
  },
  {
   "cell_type": "code",
   "execution_count": 29,
   "id": "288828ff-cf7e-409c-b8cd-3a8cd0dcf772",
   "metadata": {
    "execution": {
     "iopub.execute_input": "2022-09-02T00:21:51.629371Z",
     "iopub.status.busy": "2022-09-02T00:21:51.629103Z",
     "iopub.status.idle": "2022-09-02T00:21:51.692432Z",
     "shell.execute_reply": "2022-09-02T00:21:51.690836Z",
     "shell.execute_reply.started": "2022-09-02T00:21:51.629352Z"
    },
    "tags": []
   },
   "outputs": [
    {
     "name": "stdout",
     "output_type": "stream",
     "text": [
      "A0LUZ1 P9WNR8 Q2JVG1 Q4FV41 Q5Z3Z8 Q6A8L0 Q7V7T9 Q9K4Q3 Q9ZUP2 "
     ]
    }
   ],
   "source": [
    "\n",
    "with h5py.File(file_name, 'r') as hf:\n",
    "    for key in hf.keys():\n",
    "        print(key, end=' ')\n",
    "        data = hf.get(key)\n",
    "        n = np.array(data)\n",
    "       "
   ]
  },
  {
   "cell_type": "code",
   "execution_count": 4,
   "id": "76313f5a-fd38-47e0-bfff-686535f4b5e2",
   "metadata": {
    "execution": {
     "iopub.execute_input": "2022-09-04T19:58:36.949645Z",
     "iopub.status.busy": "2022-09-04T19:58:36.949363Z",
     "iopub.status.idle": "2022-09-04T19:58:37.146844Z",
     "shell.execute_reply": "2022-09-04T19:58:37.145469Z",
     "shell.execute_reply.started": "2022-09-04T19:58:36.949626Z"
    },
    "tags": []
   },
   "outputs": [
    {
     "name": "stdout",
     "output_type": "stream",
     "text": [
      "A0LUZ1\n",
      "tensor([ 0.1055,  0.1127,  0.0145,  ..., -0.1284,  0.0932, -0.0319])\n"
     ]
    }
   ],
   "source": [
    "with h5py.File(file_name, 'r') as hf:\n",
    "    dd = {}\n",
    "    key = 'A0LUZ1'\n",
    "    dd['label'] = key\n",
    "    print(key)\n",
    "    # data = hf.get(key)\n",
    "    t = torch.tensor(hf.get(key))\n",
    "    dd[f'{pool}_representations'] = {'layer': t}\n",
    "    torch.save(dd, f'{key}.pt')\n",
    "    print(t)"
   ]
  },
  {
   "cell_type": "code",
   "execution_count": 5,
   "id": "be52a6c4-acce-46df-94d6-597b2a544d44",
   "metadata": {
    "execution": {
     "iopub.execute_input": "2022-09-04T19:59:21.343308Z",
     "iopub.status.busy": "2022-09-04T19:59:21.342488Z",
     "iopub.status.idle": "2022-09-04T19:59:21.369706Z",
     "shell.execute_reply": "2022-09-04T19:59:21.368895Z",
     "shell.execute_reply.started": "2022-09-04T19:59:21.343284Z"
    },
    "tags": []
   },
   "outputs": [
    {
     "data": {
      "text/plain": [
       "{'label': 'A0LUZ1',\n",
       " 'avg_representations': {'layer': tensor([ 0.1055,  0.1127,  0.0145,  ..., -0.1284,  0.0932, -0.0319])}}"
      ]
     },
     "execution_count": 5,
     "metadata": {},
     "output_type": "execute_result"
    }
   ],
   "source": [
    "torch.load('A0LUZ1.pt')"
   ]
  },
  {
   "cell_type": "code",
   "execution_count": 50,
   "id": "33c0bb30-226d-410e-bacf-4d5bfd402053",
   "metadata": {
    "execution": {
     "iopub.execute_input": "2022-09-02T01:01:01.270581Z",
     "iopub.status.busy": "2022-09-02T01:01:01.270307Z",
     "iopub.status.idle": "2022-09-02T01:01:01.404234Z",
     "shell.execute_reply": "2022-09-02T01:01:01.403087Z",
     "shell.execute_reply.started": "2022-09-02T01:01:01.270562Z"
    },
    "tags": []
   },
   "outputs": [
    {
     "data": {
      "text/plain": [
       "tensor([ 0.1055,  0.1127,  0.0145,  ..., -0.1284,  0.0932, -0.0319])"
      ]
     },
     "execution_count": 50,
     "metadata": {},
     "output_type": "execute_result"
    }
   ],
   "source": [
    "tt = h5py.File(file_name, 'r')\n",
    "torch.tensor(tt.get('A0LUZ1'))"
   ]
  },
  {
   "cell_type": "code",
   "execution_count": null,
   "id": "9e13cc3b-161d-42c2-b695-186bb80a8493",
   "metadata": {},
   "outputs": [],
   "source": []
  },
  {
   "cell_type": "code",
   "execution_count": 53,
   "id": "f9c6e051-39b0-4137-b1d0-678c29055254",
   "metadata": {
    "execution": {
     "iopub.execute_input": "2022-09-02T01:07:01.942138Z",
     "iopub.status.busy": "2022-09-02T01:07:01.930944Z",
     "iopub.status.idle": "2022-09-02T01:07:02.046880Z",
     "shell.execute_reply": "2022-09-02T01:07:02.045206Z",
     "shell.execute_reply.started": "2022-09-02T01:07:01.941727Z"
    }
   },
   "outputs": [
    {
     "data": {
      "text/plain": [
       "{'label': 'A0LUZ1',\n",
       " 'mean_representations': {33: tensor([-0.6898,  0.0448,  0.0830,  ..., -0.1522, -0.0097,  0.1019])}}"
      ]
     },
     "execution_count": 53,
     "metadata": {},
     "output_type": "execute_result"
    }
   ],
   "source": [
    "a1 = torch.load(fn1) #['mean_representations'][33].numpy()\n",
    "a1"
   ]
  },
  {
   "cell_type": "code",
   "execution_count": null,
   "id": "98bd62a8-8977-449a-80c7-ab84f643cf4b",
   "metadata": {},
   "outputs": [],
   "source": [
    "torch.save()"
   ]
  },
  {
   "cell_type": "code",
   "execution_count": null,
   "id": "753af4e1-2a03-4efc-84ee-98925123aec5",
   "metadata": {},
   "outputs": [],
   "source": [
    "esm.pretrained."
   ]
  },
  {
   "cell_type": "code",
   "execution_count": null,
   "id": "54a6f583-5cd1-4302-9c66-8ff290cee722",
   "metadata": {},
   "outputs": [],
   "source": []
  },
  {
   "cell_type": "code",
   "execution_count": 16,
   "id": "76b3496c-5c7c-4223-bdfb-dd7ce65032e8",
   "metadata": {
    "execution": {
     "iopub.execute_input": "2022-09-04T20:32:50.456470Z",
     "iopub.status.busy": "2022-09-04T20:32:50.456225Z",
     "iopub.status.idle": "2022-09-04T20:32:50.462087Z",
     "shell.execute_reply": "2022-09-04T20:32:50.461297Z",
     "shell.execute_reply.started": "2022-09-04T20:32:50.456453Z"
    },
    "tags": []
   },
   "outputs": [],
   "source": [
    "def convert_h5_to_pt(file_name, pt_name, pool):\n",
    "    os.makedirs(pt_name, exist_ok=True)\n",
    "    with h5py.File(file_name, 'r') as hf:\n",
    "        dd = {}\n",
    "        for key in hf.keys():\n",
    "            dd['label'] = key\n",
    "            t = torch.tensor(hf.get(key))\n",
    "            dd[f'{pool}_representations'] = {'layer': t}\n",
    "            torch.save(dd, f'{os.path.join(pt_name, key)}.pt')"
   ]
  },
  {
   "cell_type": "code",
   "execution_count": 17,
   "id": "a3c04e36-a934-4aaf-88be-ef73cf37aba4",
   "metadata": {
    "execution": {
     "iopub.execute_input": "2022-09-04T20:32:56.882532Z",
     "iopub.status.busy": "2022-09-04T20:32:56.882094Z",
     "iopub.status.idle": "2022-09-04T20:32:57.305280Z",
     "shell.execute_reply": "2022-09-04T20:32:57.304249Z",
     "shell.execute_reply.started": "2022-09-04T20:32:56.882509Z"
    },
    "tags": []
   },
   "outputs": [],
   "source": [
    "convert_h5_to_pt(file_name, pt_name, pool)"
   ]
  },
  {
   "cell_type": "code",
   "execution_count": 18,
   "id": "7f2343a3-97ed-4cd9-97ce-142a1d96d25a",
   "metadata": {
    "execution": {
     "iopub.execute_input": "2022-09-04T20:33:04.367142Z",
     "iopub.status.busy": "2022-09-04T20:33:04.366827Z",
     "iopub.status.idle": "2022-09-04T20:33:04.380108Z",
     "shell.execute_reply": "2022-09-04T20:33:04.379038Z",
     "shell.execute_reply.started": "2022-09-04T20:33:04.367121Z"
    },
    "tags": []
   },
   "outputs": [
    {
     "data": {
      "text/plain": [
       "{'label': 'P9WNR8',\n",
       " 'avg_representations': {'layer': tensor([ 0.1353,  0.0226,  0.0075,  ...,  0.0060,  0.2428, -0.0336])}}"
      ]
     },
     "execution_count": 18,
     "metadata": {},
     "output_type": "execute_result"
    }
   ],
   "source": [
    "a2 = torch.load(os.path.join(pt_name, 'P9WNR8.pt'))\n",
    "a2"
   ]
  },
  {
   "cell_type": "code",
   "execution_count": null,
   "id": "2257e86d-9adf-464b-81ea-3d4e45aa7870",
   "metadata": {},
   "outputs": [],
   "source": []
  }
 ],
 "metadata": {
  "kernelspec": {
   "display_name": "sa",
   "language": "python",
   "name": "conda-env-sa-py"
  },
  "language_info": {
   "codemirror_mode": {
    "name": "ipython",
    "version": 3
   },
   "file_extension": ".py",
   "mimetype": "text/x-python",
   "name": "python",
   "nbconvert_exporter": "python",
   "pygments_lexer": "ipython3",
   "version": "3.8.13"
  },
  "widgets": {
   "application/vnd.jupyter.widget-state+json": {
    "state": {},
    "version_major": 2,
    "version_minor": 0
   }
  }
 },
 "nbformat": 4,
 "nbformat_minor": 5
}
