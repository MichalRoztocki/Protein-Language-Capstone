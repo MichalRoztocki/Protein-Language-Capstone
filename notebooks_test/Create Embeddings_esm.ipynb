{
 "cells": [
  {
   "cell_type": "code",
   "execution_count": 31,
   "id": "5d776b01-27f1-48d4-9a49-1462c7b40023",
   "metadata": {
    "execution": {
     "iopub.execute_input": "2022-08-29T18:25:00.620726Z",
     "iopub.status.busy": "2022-08-29T18:25:00.602800Z",
     "iopub.status.idle": "2022-08-29T18:25:00.722718Z",
     "shell.execute_reply": "2022-08-29T18:25:00.719875Z",
     "shell.execute_reply.started": "2022-08-29T18:25:00.620308Z"
    },
    "tags": []
   },
   "outputs": [],
   "source": [
    "import torch\n",
    "import esm\n",
    "import os\n",
    "import pathlib"
   ]
  },
  {
   "cell_type": "markdown",
   "id": "24234851-139e-4a34-8721-28246a6bccda",
   "metadata": {},
   "source": [
    "???"
   ]
  },
  {
   "cell_type": "code",
   "execution_count": 5,
   "id": "38714993-88f5-4228-aff6-6b2c393dbf98",
   "metadata": {
    "execution": {
     "iopub.execute_input": "2022-08-28T20:35:02.138409Z",
     "iopub.status.busy": "2022-08-28T20:35:02.137612Z",
     "iopub.status.idle": "2022-08-28T20:36:39.545843Z",
     "shell.execute_reply": "2022-08-28T20:36:39.523486Z",
     "shell.execute_reply.started": "2022-08-28T20:35:02.138347Z"
    },
    "tags": []
   },
   "outputs": [
    {
     "name": "stderr",
     "output_type": "stream",
     "text": [
      "Downloading: \"https://github.com/facebookresearch/esm/zipball/main\" to /home/damir/.cache/torch/hub/main.zip\n",
      "Downloading: \"https://dl.fbaipublicfiles.com/fair-esm/models/esm2_t33_650M_UR50D.pt\" to /home/damir/.cache/torch/hub/checkpoints/esm2_t33_650M_UR50D.pt\n",
      "Downloading: \"https://dl.fbaipublicfiles.com/fair-esm/regression/esm2_t33_650M_UR50D-contact-regression.pt\" to /home/damir/.cache/torch/hub/checkpoints/esm2_t33_650M_UR50D-contact-regression.pt\n"
     ]
    }
   ],
   "source": [
    "model, alphabet = torch.hub.load(\"facebookresearch/esm:main\", \"esm2_t33_650M_UR50D\")"
   ]
  },
  {
   "cell_type": "markdown",
   "id": "ad6fd1ca-cf5c-47d3-a9c6-52da4104d547",
   "metadata": {},
   "source": [
    "Downloaded pretrained model  ???"
   ]
  },
  {
   "cell_type": "code",
   "execution_count": 5,
   "id": "f6a37807-9e3d-4d48-a666-65176da7114e",
   "metadata": {
    "execution": {
     "iopub.execute_input": "2022-08-29T13:17:02.186180Z",
     "iopub.status.busy": "2022-08-29T13:17:02.172936Z",
     "iopub.status.idle": "2022-08-29T13:23:59.571680Z",
     "shell.execute_reply": "2022-08-29T13:23:59.532397Z",
     "shell.execute_reply.started": "2022-08-29T13:17:02.185678Z"
    },
    "tags": []
   },
   "outputs": [
    {
     "name": "stderr",
     "output_type": "stream",
     "text": [
      "Downloading: \"https://dl.fbaipublicfiles.com/fair-esm/models/esm1v_t33_650M_UR90S_1.pt\" to /home/damir/.cache/torch/hub/checkpoints/esm1v_t33_650M_UR90S_1.pt\n"
     ]
    }
   ],
   "source": [
    "model, alphabet = esm.pretrained.esm1v_t33_650M_UR90S_1()"
   ]
  },
  {
   "cell_type": "markdown",
   "id": "7528b8bc-0a8f-4c92-b4fe-65ca330eb9c9",
   "metadata": {},
   "source": [
    "Path to the script extract.py"
   ]
  },
  {
   "cell_type": "code",
   "execution_count": 29,
   "id": "b40bc634-385c-4b9b-8d97-b5957dfc0e9c",
   "metadata": {
    "execution": {
     "iopub.execute_input": "2022-08-29T18:06:27.561855Z",
     "iopub.status.busy": "2022-08-29T18:06:27.559468Z",
     "iopub.status.idle": "2022-08-29T18:06:27.621819Z",
     "shell.execute_reply": "2022-08-29T18:06:27.620837Z",
     "shell.execute_reply.started": "2022-08-29T18:06:27.561535Z"
    },
    "tags": []
   },
   "outputs": [
    {
     "data": {
      "text/plain": [
       "'/home/damir/.cache/torch/hub/facebookresearch_esm_main/scripts/extract.py'"
      ]
     },
     "execution_count": 29,
     "metadata": {},
     "output_type": "execute_result"
    }
   ],
   "source": [
    "esm_scripts_path = '/home/damir/.cache/torch/hub/facebookresearch_esm_main/scripts'\n",
    "extract = os.path.join(esm_scripts_path, 'extract.py')\n",
    "extract"
   ]
  },
  {
   "cell_type": "code",
   "execution_count": 32,
   "id": "a13c3ff9-c7c1-4b66-8f4e-69a81c0a9da3",
   "metadata": {
    "execution": {
     "iopub.execute_input": "2022-08-29T20:04:54.959947Z",
     "iopub.status.busy": "2022-08-29T20:04:54.945085Z",
     "iopub.status.idle": "2022-08-29T20:04:55.084598Z",
     "shell.execute_reply": "2022-08-29T20:04:55.082060Z",
     "shell.execute_reply.started": "2022-08-29T20:04:54.958942Z"
    },
    "tags": []
   },
   "outputs": [
    {
     "data": {
      "text/plain": [
       "PosixPath('/home/damir/.cache/torch/hub/facebookresearch_esm_main/scripts/extract.py')"
      ]
     },
     "execution_count": 32,
     "metadata": {},
     "output_type": "execute_result"
    }
   ],
   "source": [
    "# Using pathlib\n",
    "esm_scripts_path = pathlib.Path(r'/home/damir/.cache/torch/hub/facebookresearch_esm_main/scripts')\n",
    "extract = pathlib.Path.joinpath(esm_scripts_path, 'extract.py')\n",
    "extract"
   ]
  },
  {
   "cell_type": "markdown",
   "id": "cdb54109-2031-46df-81f1-9a7c8e9c1bd2",
   "metadata": {},
   "source": [
    "Run the script"
   ]
  },
  {
   "cell_type": "markdown",
   "id": "ae2579f1-92f9-48f1-aeef-9e0e5a52b717",
   "metadata": {},
   "source": [
    "esm example fasta file with first 26 sequences only"
   ]
  },
  {
   "cell_type": "code",
   "execution_count": 11,
   "id": "54846a07-0185-49e0-a52e-d6f957325a0f",
   "metadata": {
    "execution": {
     "iopub.execute_input": "2022-08-29T13:31:54.643461Z",
     "iopub.status.busy": "2022-08-29T13:31:54.643158Z",
     "iopub.status.idle": "2022-08-29T13:33:57.165939Z",
     "shell.execute_reply": "2022-08-29T13:33:57.141609Z",
     "shell.execute_reply.started": "2022-08-29T13:31:54.643442Z"
    },
    "scrolled": true,
    "tags": []
   },
   "outputs": [
    {
     "name": "stdout",
     "output_type": "stream",
     "text": [
      "Transferred model to GPU\n",
      "Read ../data_test/esm/P62593_small.fasta with 26 sequences\n",
      "Processing 1 of 2 batches (14 sequences)\n",
      "Processing 2 of 2 batches (12 sequences)\n"
     ]
    }
   ],
   "source": [
    "%run \"{extract}\" esm1v_t33_650M_UR90S_1 ../data_test/esm/P62593_small.fasta ../data_test/dna_train/ --repr_layers 33 --include mean "
   ]
  },
  {
   "cell_type": "markdown",
   "id": "b820d874-dada-4e7d-9391-4313b6de3ddc",
   "metadata": {},
   "source": [
    "small test file created for prose, train_small.fa  \n",
    "it fails on a sequence longer than max. length of 1024\n"
   ]
  },
  {
   "cell_type": "code",
   "execution_count": 13,
   "id": "c75f84af-a4d1-4f7c-ac5a-0c19be187003",
   "metadata": {
    "execution": {
     "iopub.execute_input": "2022-08-29T15:30:03.539448Z",
     "iopub.status.busy": "2022-08-29T15:30:03.532750Z",
     "iopub.status.idle": "2022-08-29T15:33:06.911928Z",
     "shell.execute_reply": "2022-08-29T15:33:06.905108Z",
     "shell.execute_reply.started": "2022-08-29T15:30:03.539165Z"
    },
    "scrolled": true,
    "tags": []
   },
   "outputs": [
    {
     "name": "stdout",
     "output_type": "stream",
     "text": [
      "Transferred model to GPU\n",
      "Read ../data_test/data_fa/train_small1.fa with 9 sequences\n",
      "Processing 1 of 2 batches (7 sequences)\n",
      "Processing 2 of 2 batches (2 sequences)\n"
     ]
    },
    {
     "ename": "ValueError",
     "evalue": "Sequence length 1060 above maximum  sequence length of 1024",
     "output_type": "error",
     "traceback": [
      "\u001b[0;31m---------------------------------------------------------------------------\u001b[0m",
      "\u001b[0;31mValueError\u001b[0m                                Traceback (most recent call last)",
      "File \u001b[0;32m~/.cache/torch/hub/facebookresearch_esm_main/scripts/extract.py:140\u001b[0m, in \u001b[0;36m<module>\u001b[0;34m\u001b[0m\n\u001b[1;32m    138\u001b[0m parser \u001b[38;5;241m=\u001b[39m create_parser()\n\u001b[1;32m    139\u001b[0m args \u001b[38;5;241m=\u001b[39m parser\u001b[38;5;241m.\u001b[39mparse_args()\n\u001b[0;32m--> 140\u001b[0m \u001b[43mmain\u001b[49m\u001b[43m(\u001b[49m\u001b[43margs\u001b[49m\u001b[43m)\u001b[49m\n",
      "File \u001b[0;32m~/.cache/torch/hub/facebookresearch_esm_main/scripts/extract.py:99\u001b[0m, in \u001b[0;36mmain\u001b[0;34m(args)\u001b[0m\n\u001b[1;32m     96\u001b[0m \u001b[38;5;28;01mif\u001b[39;00m args\u001b[38;5;241m.\u001b[39mtruncate:\n\u001b[1;32m     97\u001b[0m     toks \u001b[38;5;241m=\u001b[39m toks[:, :\u001b[38;5;241m1022\u001b[39m]\n\u001b[0;32m---> 99\u001b[0m out \u001b[38;5;241m=\u001b[39m \u001b[43mmodel\u001b[49m\u001b[43m(\u001b[49m\u001b[43mtoks\u001b[49m\u001b[43m,\u001b[49m\u001b[43m \u001b[49m\u001b[43mrepr_layers\u001b[49m\u001b[38;5;241;43m=\u001b[39;49m\u001b[43mrepr_layers\u001b[49m\u001b[43m,\u001b[49m\u001b[43m \u001b[49m\u001b[43mreturn_contacts\u001b[49m\u001b[38;5;241;43m=\u001b[39;49m\u001b[43mreturn_contacts\u001b[49m\u001b[43m)\u001b[49m\n\u001b[1;32m    101\u001b[0m logits \u001b[38;5;241m=\u001b[39m out[\u001b[38;5;124m\"\u001b[39m\u001b[38;5;124mlogits\u001b[39m\u001b[38;5;124m\"\u001b[39m]\u001b[38;5;241m.\u001b[39mto(device\u001b[38;5;241m=\u001b[39m\u001b[38;5;124m\"\u001b[39m\u001b[38;5;124mcpu\u001b[39m\u001b[38;5;124m\"\u001b[39m)\n\u001b[1;32m    102\u001b[0m representations \u001b[38;5;241m=\u001b[39m {\n\u001b[1;32m    103\u001b[0m     layer: t\u001b[38;5;241m.\u001b[39mto(device\u001b[38;5;241m=\u001b[39m\u001b[38;5;124m\"\u001b[39m\u001b[38;5;124mcpu\u001b[39m\u001b[38;5;124m\"\u001b[39m) \u001b[38;5;28;01mfor\u001b[39;00m layer, t \u001b[38;5;129;01min\u001b[39;00m out[\u001b[38;5;124m\"\u001b[39m\u001b[38;5;124mrepresentations\u001b[39m\u001b[38;5;124m\"\u001b[39m]\u001b[38;5;241m.\u001b[39mitems()\n\u001b[1;32m    104\u001b[0m }\n",
      "File \u001b[0;32m~/miniconda3/envs/sa/lib/python3.8/site-packages/torch/nn/modules/module.py:1130\u001b[0m, in \u001b[0;36mModule._call_impl\u001b[0;34m(self, *input, **kwargs)\u001b[0m\n\u001b[1;32m   1126\u001b[0m \u001b[38;5;66;03m# If we don't have any hooks, we want to skip the rest of the logic in\u001b[39;00m\n\u001b[1;32m   1127\u001b[0m \u001b[38;5;66;03m# this function, and just call forward.\u001b[39;00m\n\u001b[1;32m   1128\u001b[0m \u001b[38;5;28;01mif\u001b[39;00m \u001b[38;5;129;01mnot\u001b[39;00m (\u001b[38;5;28mself\u001b[39m\u001b[38;5;241m.\u001b[39m_backward_hooks \u001b[38;5;129;01mor\u001b[39;00m \u001b[38;5;28mself\u001b[39m\u001b[38;5;241m.\u001b[39m_forward_hooks \u001b[38;5;129;01mor\u001b[39;00m \u001b[38;5;28mself\u001b[39m\u001b[38;5;241m.\u001b[39m_forward_pre_hooks \u001b[38;5;129;01mor\u001b[39;00m _global_backward_hooks\n\u001b[1;32m   1129\u001b[0m         \u001b[38;5;129;01mor\u001b[39;00m _global_forward_hooks \u001b[38;5;129;01mor\u001b[39;00m _global_forward_pre_hooks):\n\u001b[0;32m-> 1130\u001b[0m     \u001b[38;5;28;01mreturn\u001b[39;00m \u001b[43mforward_call\u001b[49m\u001b[43m(\u001b[49m\u001b[38;5;241;43m*\u001b[39;49m\u001b[38;5;28;43minput\u001b[39;49m\u001b[43m,\u001b[49m\u001b[43m \u001b[49m\u001b[38;5;241;43m*\u001b[39;49m\u001b[38;5;241;43m*\u001b[39;49m\u001b[43mkwargs\u001b[49m\u001b[43m)\u001b[49m\n\u001b[1;32m   1131\u001b[0m \u001b[38;5;66;03m# Do not call functions when jit is used\u001b[39;00m\n\u001b[1;32m   1132\u001b[0m full_backward_hooks, non_full_backward_hooks \u001b[38;5;241m=\u001b[39m [], []\n",
      "File \u001b[0;32m~/miniconda3/envs/sa/lib/python3.8/site-packages/esm/model/esm1.py:133\u001b[0m, in \u001b[0;36mProteinBertModel.forward\u001b[0;34m(self, tokens, repr_layers, need_head_weights, return_contacts)\u001b[0m\n\u001b[1;32m    130\u001b[0m     mask_ratio_observed \u001b[38;5;241m=\u001b[39m (tokens \u001b[38;5;241m==\u001b[39m \u001b[38;5;28mself\u001b[39m\u001b[38;5;241m.\u001b[39mmask_idx)\u001b[38;5;241m.\u001b[39msum(\u001b[38;5;241m-\u001b[39m\u001b[38;5;241m1\u001b[39m)\u001b[38;5;241m.\u001b[39mfloat() \u001b[38;5;241m/\u001b[39m src_lengths\n\u001b[1;32m    131\u001b[0m     x \u001b[38;5;241m=\u001b[39m x \u001b[38;5;241m*\u001b[39m (\u001b[38;5;241m1\u001b[39m \u001b[38;5;241m-\u001b[39m mask_ratio_train) \u001b[38;5;241m/\u001b[39m (\u001b[38;5;241m1\u001b[39m \u001b[38;5;241m-\u001b[39m mask_ratio_observed)[:, \u001b[38;5;28;01mNone\u001b[39;00m, \u001b[38;5;28;01mNone\u001b[39;00m]\n\u001b[0;32m--> 133\u001b[0m x \u001b[38;5;241m=\u001b[39m x \u001b[38;5;241m+\u001b[39m \u001b[38;5;28;43mself\u001b[39;49m\u001b[38;5;241;43m.\u001b[39;49m\u001b[43membed_positions\u001b[49m\u001b[43m(\u001b[49m\u001b[43mtokens\u001b[49m\u001b[43m)\u001b[49m\n\u001b[1;32m    135\u001b[0m \u001b[38;5;28;01mif\u001b[39;00m \u001b[38;5;28mself\u001b[39m\u001b[38;5;241m.\u001b[39mmodel_version \u001b[38;5;241m==\u001b[39m \u001b[38;5;124m\"\u001b[39m\u001b[38;5;124mESM-1b\u001b[39m\u001b[38;5;124m\"\u001b[39m:\n\u001b[1;32m    136\u001b[0m     \u001b[38;5;28;01mif\u001b[39;00m \u001b[38;5;28mself\u001b[39m\u001b[38;5;241m.\u001b[39memb_layer_norm_before:\n",
      "File \u001b[0;32m~/miniconda3/envs/sa/lib/python3.8/site-packages/torch/nn/modules/module.py:1130\u001b[0m, in \u001b[0;36mModule._call_impl\u001b[0;34m(self, *input, **kwargs)\u001b[0m\n\u001b[1;32m   1126\u001b[0m \u001b[38;5;66;03m# If we don't have any hooks, we want to skip the rest of the logic in\u001b[39;00m\n\u001b[1;32m   1127\u001b[0m \u001b[38;5;66;03m# this function, and just call forward.\u001b[39;00m\n\u001b[1;32m   1128\u001b[0m \u001b[38;5;28;01mif\u001b[39;00m \u001b[38;5;129;01mnot\u001b[39;00m (\u001b[38;5;28mself\u001b[39m\u001b[38;5;241m.\u001b[39m_backward_hooks \u001b[38;5;129;01mor\u001b[39;00m \u001b[38;5;28mself\u001b[39m\u001b[38;5;241m.\u001b[39m_forward_hooks \u001b[38;5;129;01mor\u001b[39;00m \u001b[38;5;28mself\u001b[39m\u001b[38;5;241m.\u001b[39m_forward_pre_hooks \u001b[38;5;129;01mor\u001b[39;00m _global_backward_hooks\n\u001b[1;32m   1129\u001b[0m         \u001b[38;5;129;01mor\u001b[39;00m _global_forward_hooks \u001b[38;5;129;01mor\u001b[39;00m _global_forward_pre_hooks):\n\u001b[0;32m-> 1130\u001b[0m     \u001b[38;5;28;01mreturn\u001b[39;00m \u001b[43mforward_call\u001b[49m\u001b[43m(\u001b[49m\u001b[38;5;241;43m*\u001b[39;49m\u001b[38;5;28;43minput\u001b[39;49m\u001b[43m,\u001b[49m\u001b[43m \u001b[49m\u001b[38;5;241;43m*\u001b[39;49m\u001b[38;5;241;43m*\u001b[39;49m\u001b[43mkwargs\u001b[49m\u001b[43m)\u001b[49m\n\u001b[1;32m   1131\u001b[0m \u001b[38;5;66;03m# Do not call functions when jit is used\u001b[39;00m\n\u001b[1;32m   1132\u001b[0m full_backward_hooks, non_full_backward_hooks \u001b[38;5;241m=\u001b[39m [], []\n",
      "File \u001b[0;32m~/miniconda3/envs/sa/lib/python3.8/site-packages/esm/modules.py:243\u001b[0m, in \u001b[0;36mLearnedPositionalEmbedding.forward\u001b[0;34m(self, input)\u001b[0m\n\u001b[1;32m    241\u001b[0m \u001b[38;5;124;03m\"\"\"Input is expected to be of size [bsz x seqlen].\"\"\"\u001b[39;00m\n\u001b[1;32m    242\u001b[0m \u001b[38;5;28;01mif\u001b[39;00m \u001b[38;5;28minput\u001b[39m\u001b[38;5;241m.\u001b[39msize(\u001b[38;5;241m1\u001b[39m) \u001b[38;5;241m>\u001b[39m \u001b[38;5;28mself\u001b[39m\u001b[38;5;241m.\u001b[39mmax_positions:\n\u001b[0;32m--> 243\u001b[0m     \u001b[38;5;28;01mraise\u001b[39;00m \u001b[38;5;167;01mValueError\u001b[39;00m(\n\u001b[1;32m    244\u001b[0m         \u001b[38;5;124mf\u001b[39m\u001b[38;5;124m\"\u001b[39m\u001b[38;5;124mSequence length \u001b[39m\u001b[38;5;132;01m{\u001b[39;00m\u001b[38;5;28minput\u001b[39m\u001b[38;5;241m.\u001b[39msize(\u001b[38;5;241m1\u001b[39m)\u001b[38;5;132;01m}\u001b[39;00m\u001b[38;5;124m above maximum \u001b[39m\u001b[38;5;124m\"\u001b[39m\n\u001b[1;32m    245\u001b[0m         \u001b[38;5;124mf\u001b[39m\u001b[38;5;124m\"\u001b[39m\u001b[38;5;124m sequence length of \u001b[39m\u001b[38;5;132;01m{\u001b[39;00m\u001b[38;5;28mself\u001b[39m\u001b[38;5;241m.\u001b[39mmax_positions\u001b[38;5;132;01m}\u001b[39;00m\u001b[38;5;124m\"\u001b[39m\n\u001b[1;32m    246\u001b[0m     )\n\u001b[1;32m    247\u001b[0m mask \u001b[38;5;241m=\u001b[39m \u001b[38;5;28minput\u001b[39m\u001b[38;5;241m.\u001b[39mne(\u001b[38;5;28mself\u001b[39m\u001b[38;5;241m.\u001b[39mpadding_idx)\u001b[38;5;241m.\u001b[39mint()\n\u001b[1;32m    248\u001b[0m positions \u001b[38;5;241m=\u001b[39m (torch\u001b[38;5;241m.\u001b[39mcumsum(mask, dim\u001b[38;5;241m=\u001b[39m\u001b[38;5;241m1\u001b[39m)\u001b[38;5;241m.\u001b[39mtype_as(mask) \u001b[38;5;241m*\u001b[39m mask)\u001b[38;5;241m.\u001b[39mlong() \u001b[38;5;241m+\u001b[39m \u001b[38;5;28mself\u001b[39m\u001b[38;5;241m.\u001b[39mpadding_idx\n",
      "\u001b[0;31mValueError\u001b[0m: Sequence length 1060 above maximum  sequence length of 1024"
     ]
    }
   ],
   "source": [
    "%run \"{extract}\" esm1v_t33_650M_UR90S_1 ../data_test/data_fa/train_small1.fa ../data_test/data_fa/train_small1/ --repr_layers 33 --include mean "
   ]
  },
  {
   "cell_type": "markdown",
   "id": "195d8757-a4e7-415a-9331-8e2919c4bd71",
   "metadata": {},
   "source": [
    "the same test file, just updated header for esm format and kept only the first sequence row (length = 60)"
   ]
  },
  {
   "cell_type": "code",
   "execution_count": 28,
   "id": "e5c609d1-d1ec-43a3-9d0a-57535d93517f",
   "metadata": {
    "execution": {
     "iopub.execute_input": "2022-08-29T18:00:59.139211Z",
     "iopub.status.busy": "2022-08-29T18:00:59.138901Z",
     "iopub.status.idle": "2022-08-29T18:04:20.561253Z",
     "shell.execute_reply": "2022-08-29T18:04:20.513764Z",
     "shell.execute_reply.started": "2022-08-29T18:00:59.139190Z"
    },
    "scrolled": true,
    "tags": []
   },
   "outputs": [
    {
     "name": "stderr",
     "output_type": "stream",
     "text": [
      "/home/damir/miniconda3/envs/sa/lib/python3.8/site-packages/esm/pretrained.py:215: UserWarning: Regression weights not found, predicting contacts will not produce correct results.\n",
      "  warnings.warn(\n"
     ]
    },
    {
     "name": "stdout",
     "output_type": "stream",
     "text": [
      "Transferred model to GPU\n",
      "Read ../data_test/data_fa/train_small1_esm.fa with 9 sequences\n",
      "Processing 1 of 1 batches (9 sequences)\n"
     ]
    }
   ],
   "source": [
    "%run \"{extract}\" esm1v_t33_650M_UR90S_1 ../data_test/data_fa/train_small1_esm.fa ../data_test/data_fa/train_small1_esm/ --repr_layers 33 --include mean "
   ]
  },
  {
   "cell_type": "code",
   "execution_count": 30,
   "id": "ffbd73be-ef63-49ea-bd60-3c1927b27889",
   "metadata": {
    "execution": {
     "iopub.execute_input": "2022-08-29T18:06:58.688498Z",
     "iopub.status.busy": "2022-08-29T18:06:58.688215Z",
     "iopub.status.idle": "2022-08-29T18:09:01.155123Z",
     "shell.execute_reply": "2022-08-29T18:09:01.124587Z",
     "shell.execute_reply.started": "2022-08-29T18:06:58.688478Z"
    },
    "scrolled": true,
    "tags": []
   },
   "outputs": [
    {
     "name": "stdout",
     "output_type": "stream",
     "text": [
      "Transferred model to GPU\n",
      "Read ../data_test/data_fa/train_small1_esm.fa with 9 sequences\n",
      "Processing 1 of 1 batches (9 sequences)\n"
     ]
    }
   ],
   "source": [
    "%run \"{extract}\" esm1v_t33_650M_UR90S_1 ../data_test/data_fa/train_small1_esm.fa ../data_test/data_fa/train_small1_esm/ --repr_layers 33 --include mean "
   ]
  },
  {
   "cell_type": "code",
   "execution_count": null,
   "id": "30c7fd94-8557-4a10-8931-8eddf8fb8e21",
   "metadata": {},
   "outputs": [],
   "source": []
  },
  {
   "cell_type": "markdown",
   "id": "11b846bc-c5dc-4b5f-b07d-622e0d0f7786",
   "metadata": {},
   "source": [
    "#### Reading embeddings"
   ]
  },
  {
   "cell_type": "code",
   "execution_count": 15,
   "id": "7c7ed496-a097-4b1a-9fa3-af828b113116",
   "metadata": {
    "execution": {
     "iopub.execute_input": "2022-08-29T16:08:27.700890Z",
     "iopub.status.busy": "2022-08-29T16:08:27.662973Z",
     "iopub.status.idle": "2022-08-29T16:08:27.848447Z",
     "shell.execute_reply": "2022-08-29T16:08:27.844705Z",
     "shell.execute_reply.started": "2022-08-29T16:08:27.699687Z"
    }
   },
   "outputs": [],
   "source": [
    "fn = '../data_test/data_fa/train_small1_esm/9A0LUZ11.pt'"
   ]
  },
  {
   "cell_type": "code",
   "execution_count": 16,
   "id": "5ccbb4e7-f81b-4dbc-bd67-039bbe804c99",
   "metadata": {
    "execution": {
     "iopub.execute_input": "2022-08-29T16:09:43.556853Z",
     "iopub.status.busy": "2022-08-29T16:09:43.556434Z",
     "iopub.status.idle": "2022-08-29T16:09:43.838583Z",
     "shell.execute_reply": "2022-08-29T16:09:43.837167Z",
     "shell.execute_reply.started": "2022-08-29T16:09:43.556830Z"
    }
   },
   "outputs": [
    {
     "data": {
      "text/plain": [
       "{'label': '9|A0LUZ1|1',\n",
       " 'mean_representations': {33: tensor([-0.4481,  0.0098, -0.0130,  ..., -0.1554,  0.1550,  0.0034])}}"
      ]
     },
     "execution_count": 16,
     "metadata": {},
     "output_type": "execute_result"
    }
   ],
   "source": [
    "torch.load(fn)"
   ]
  },
  {
   "cell_type": "code",
   "execution_count": 24,
   "id": "1c5e11ba-8b36-49ce-a3f8-162955bdcded",
   "metadata": {
    "execution": {
     "iopub.execute_input": "2022-08-29T17:27:50.197527Z",
     "iopub.status.busy": "2022-08-29T17:27:50.197174Z",
     "iopub.status.idle": "2022-08-29T17:27:50.321451Z",
     "shell.execute_reply": "2022-08-29T17:27:50.320450Z",
     "shell.execute_reply.started": "2022-08-29T17:27:50.197508Z"
    },
    "tags": []
   },
   "outputs": [
    {
     "data": {
      "text/plain": [
       "array([-0.44807148,  0.00982585, -0.01303552, ..., -0.15544945,\n",
       "        0.15500957,  0.00342662], dtype=float32)"
      ]
     },
     "execution_count": 24,
     "metadata": {},
     "output_type": "execute_result"
    }
   ],
   "source": [
    "a = torch.load(fn)['mean_representations'][33].numpy()\n",
    "\n",
    "a"
   ]
  },
  {
   "cell_type": "code",
   "execution_count": null,
   "id": "895911ef-4342-4ea1-ab65-1ecea0c6c2f1",
   "metadata": {},
   "outputs": [],
   "source": []
  },
  {
   "cell_type": "markdown",
   "id": "5853dba8-5548-4036-a85a-9bd14abba73c",
   "metadata": {},
   "source": [
    "Reading all .pt files form their folder\n",
    "Names created from the fasta file."
   ]
  },
  {
   "cell_type": "code",
   "execution_count": 42,
   "id": "ba0de618-4902-492f-8a78-f05c4244e5ad",
   "metadata": {
    "execution": {
     "iopub.execute_input": "2022-08-29T20:21:59.882821Z",
     "iopub.status.busy": "2022-08-29T20:21:59.875278Z",
     "iopub.status.idle": "2022-08-29T20:22:00.160636Z",
     "shell.execute_reply": "2022-08-29T20:22:00.157991Z",
     "shell.execute_reply.started": "2022-08-29T20:21:59.882532Z"
    },
    "tags": []
   },
   "outputs": [
    {
     "name": "stdout",
     "output_type": "stream",
     "text": [
      "../data_test/data_fa/train_small1_esm/1|Q6A8L0|1.pt\n",
      "{'label': '1|Q6A8L0|1', 'mean_representations': {33: tensor([ 0.1052, -0.0943,  0.1146,  ...,  0.1645,  0.0593, -0.0498])}}\n",
      "../data_test/data_fa/train_small1_esm/2|Q7V7T9|1.pt\n",
      "{'label': '2|Q7V7T9|1', 'mean_representations': {33: tensor([-0.2922, -0.0100, -0.2274,  ..., -0.0630,  0.0109,  0.0012])}}\n",
      "../data_test/data_fa/train_small1_esm/3|Q9ZUP2|1.pt\n",
      "{'label': '3|Q9ZUP2|1', 'mean_representations': {33: tensor([-0.0179, -0.0302,  0.0181,  ..., -0.0794,  0.0510, -0.0168])}}\n",
      "../data_test/data_fa/train_small1_esm/4|Q2JVG1|1.pt\n",
      "{'label': '4|Q2JVG1|1', 'mean_representations': {33: tensor([-0.1372, -0.0579, -0.2276,  ...,  0.0754,  0.2182, -0.1280])}}\n",
      "../data_test/data_fa/train_small1_esm/5|Q9K4Q3|1.pt\n",
      "{'label': '5|Q9K4Q3|1', 'mean_representations': {33: tensor([ 0.1468, -0.2717, -0.1427,  ..., -0.2242, -0.1807, -0.0383])}}\n",
      "../data_test/data_fa/train_small1_esm/6|Q4FV41|1.pt\n",
      "{'label': '6|Q4FV41|1', 'mean_representations': {33: tensor([-0.2414,  0.1472,  0.0686,  ..., -0.0177,  0.1110,  0.0062])}}\n",
      "../data_test/data_fa/train_small1_esm/7|P9WNR8|1.pt\n",
      "{'label': '7|P9WNR8|1', 'mean_representations': {33: tensor([-0.1121, -0.0796, -0.1809,  ...,  0.0506,  0.1333,  0.1724])}}\n",
      "../data_test/data_fa/train_small1_esm/8|Q5Z3Z8|1.pt\n",
      "{'label': '8|Q5Z3Z8|1', 'mean_representations': {33: tensor([-0.2664,  0.0897,  0.1061,  ..., -0.0769,  0.1030,  0.0496])}}\n",
      "../data_test/data_fa/train_small1_esm/9|A0LUZ1|1.pt\n",
      "{'label': '9|A0LUZ1|1', 'mean_representations': {33: tensor([-0.4481,  0.0098, -0.0130,  ..., -0.1554,  0.1550,  0.0034])}}\n"
     ]
    }
   ],
   "source": [
    "for header, _seq in esm.data.read_fasta('../data_test/data_fa/train_small1_esm.fa'):\n",
    "    fn= f'../data_test/data_fa/train_small1_esm/{header[1:]}.pt'\n",
    "    print(fn)\n",
    "    embs = torch.load(fn)\n",
    "    print(embs)\n",
    "    "
   ]
  },
  {
   "cell_type": "code",
   "execution_count": null,
   "id": "44721963-c2af-456e-92fd-31da08a40ee0",
   "metadata": {},
   "outputs": [],
   "source": []
  },
  {
   "cell_type": "code",
   "execution_count": null,
   "id": "40dbec06-c39d-4643-9afc-7e4dd66b9ef1",
   "metadata": {},
   "outputs": [],
   "source": []
  },
  {
   "cell_type": "code",
   "execution_count": null,
   "id": "9c133c8b-e57e-4f29-bbc6-b11d5d4ef846",
   "metadata": {},
   "outputs": [],
   "source": []
  },
  {
   "cell_type": "code",
   "execution_count": 43,
   "id": "4e96f289-530c-477d-8fe7-661331ec54a1",
   "metadata": {
    "execution": {
     "iopub.execute_input": "2022-08-29T20:32:35.652600Z",
     "iopub.status.busy": "2022-08-29T20:32:35.633535Z",
     "iopub.status.idle": "2022-08-29T20:32:36.605813Z",
     "shell.execute_reply": "2022-08-29T20:32:36.599340Z",
     "shell.execute_reply.started": "2022-08-29T20:32:35.651782Z"
    },
    "tags": []
   },
   "outputs": [
    {
     "name": "stdout",
     "output_type": "stream",
     "text": [
      "\u001b[34;42m../data_test/data_fa/train_small1_esm\u001b[00m\n",
      "├── [5.8K Aug 29 14:09]  \u001b[01;32m1|Q6A8L0|1.pt\u001b[00m\n",
      "├── [5.8K Aug 29 14:09]  \u001b[01;32m2|Q7V7T9|1.pt\u001b[00m\n",
      "├── [5.8K Aug 29 14:09]  \u001b[01;32m3|Q9ZUP2|1.pt\u001b[00m\n",
      "├── [5.8K Aug 29 14:09]  \u001b[01;32m4|Q2JVG1|1.pt\u001b[00m\n",
      "├── [5.8K Aug 29 14:09]  \u001b[01;32m5|Q9K4Q3|1.pt\u001b[00m\n",
      "├── [5.8K Aug 29 14:09]  \u001b[01;32m6|Q4FV41|1.pt\u001b[00m\n",
      "├── [5.8K Aug 29 14:09]  \u001b[01;32m7|P9WNR8|1.pt\u001b[00m\n",
      "├── [5.8K Aug 29 14:09]  \u001b[01;32m8|Q5Z3Z8|1.pt\u001b[00m\n",
      "└── [5.8K Aug 29 14:09]  \u001b[01;32m9|A0LUZ1|1.pt\u001b[00m\n",
      "\n",
      "0 directories, 9 files\n"
     ]
    }
   ],
   "source": [
    "!tree -DhL 2 '../data_test/data_fa/train_small1_esm'"
   ]
  },
  {
   "cell_type": "code",
   "execution_count": 15,
   "id": "e873ea65-95f1-4f57-9e29-3fda08f0e033",
   "metadata": {
    "execution": {
     "iopub.execute_input": "2022-08-28T20:53:29.777272Z",
     "iopub.status.busy": "2022-08-28T20:53:29.776921Z",
     "iopub.status.idle": "2022-08-28T20:53:29.794607Z",
     "shell.execute_reply": "2022-08-28T20:53:29.793755Z",
     "shell.execute_reply.started": "2022-08-28T20:53:29.777251Z"
    },
    "tags": []
   },
   "outputs": [
    {
     "name": "stdout",
     "output_type": "stream",
     "text": [
      "Help on package esm:\n",
      "\n",
      "NAME\n",
      "    esm\n",
      "\n",
      "DESCRIPTION\n",
      "    # Copyright (c) Facebook, Inc. and its affiliates.\n",
      "    #\n",
      "    # This source code is licensed under the MIT license found in the\n",
      "    # LICENSE file in the root directory of this source tree.\n",
      "\n",
      "PACKAGE CONTENTS\n",
      "    axial_attention\n",
      "    constants\n",
      "    data\n",
      "    inverse_folding (package)\n",
      "    modules\n",
      "    multihead_attention\n",
      "    pretrained\n",
      "    rotary_embedding\n",
      "    version\n",
      "\n",
      "SUBMODULES\n",
      "    model\n",
      "\n",
      "VERSION\n",
      "    1.0.2\n",
      "\n",
      "FILE\n",
      "    /home/damir/miniconda3/envs/sa/lib/python3.8/site-packages/esm/__init__.py\n",
      "\n",
      "\n"
     ]
    }
   ],
   "source": [
    "help(esm)"
   ]
  },
  {
   "cell_type": "code",
   "execution_count": null,
   "id": "321ac641-b422-4ae9-92a4-f77aa869544c",
   "metadata": {},
   "outputs": [],
   "source": []
  },
  {
   "cell_type": "code",
   "execution_count": null,
   "id": "e3fc67dd-7b41-4869-9e19-7bb3711cf441",
   "metadata": {},
   "outputs": [],
   "source": []
  },
  {
   "cell_type": "code",
   "execution_count": null,
   "id": "2a6d857d-e3da-4d5b-8e0e-af8a06ad1289",
   "metadata": {},
   "outputs": [],
   "source": []
  },
  {
   "cell_type": "code",
   "execution_count": null,
   "id": "1b701f63-aa9b-4a12-bda4-e68947dcd901",
   "metadata": {},
   "outputs": [],
   "source": []
  }
 ],
 "metadata": {
  "kernelspec": {
   "display_name": "sa",
   "language": "python",
   "name": "conda-env-sa-py"
  },
  "language_info": {
   "codemirror_mode": {
    "name": "ipython",
    "version": 3
   },
   "file_extension": ".py",
   "mimetype": "text/x-python",
   "name": "python",
   "nbconvert_exporter": "python",
   "pygments_lexer": "ipython3",
   "version": "3.8.13"
  },
  "widgets": {
   "application/vnd.jupyter.widget-state+json": {
    "state": {},
    "version_major": 2,
    "version_minor": 0
   }
  }
 },
 "nbformat": 4,
 "nbformat_minor": 5
}
